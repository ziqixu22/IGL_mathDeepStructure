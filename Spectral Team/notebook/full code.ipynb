{
 "cells": [
  {
   "cell_type": "code",
   "execution_count": 1,
   "metadata": {},
   "outputs": [],
   "source": [
    "import pandas as pd\n",
    "import numpy as np\n",
    "from sklearn.decomposition import PCA\n",
    "import plotly.express as px\n",
    "from sklearn.cluster import KMeans\n",
    "import matplotlib.pyplot as plt"
   ]
  },
  {
   "cell_type": "code",
   "execution_count": 2,
   "metadata": {},
   "outputs": [],
   "source": [
    "# We import a csv that we compiled from the MathSciNet database\n",
    "\n",
    "# This csv will be imported into a pandas dataframe where each row represents \n",
    "# a faculty member and each column represents a reference number.\n",
    "# Each cell represents the number of times that a faculty member references a certain paper.\n",
    "\n",
    "references = pd.read_csv('references_count.csv',index_col=0)\n",
    "\n",
    "references.index = [i.split(\"_\")[0] for i in references.index.values.tolist()]\n",
    "\n",
    "m = 30\n",
    "n = 18"
   ]
  },
  {
   "cell_type": "code",
   "execution_count": 3,
   "metadata": {},
   "outputs": [
    {
     "data": {
      "text/html": [
       "<div>\n",
       "<style scoped>\n",
       "    .dataframe tbody tr th:only-of-type {\n",
       "        vertical-align: middle;\n",
       "    }\n",
       "\n",
       "    .dataframe tbody tr th {\n",
       "        vertical-align: top;\n",
       "    }\n",
       "\n",
       "    .dataframe thead th {\n",
       "        text-align: right;\n",
       "    }\n",
       "</style>\n",
       "<table border=\"1\" class=\"dataframe\">\n",
       "  <thead>\n",
       "    <tr style=\"text-align: right;\">\n",
       "      <th></th>\n",
       "      <th>MR2000466</th>\n",
       "      <th>MR1802511</th>\n",
       "      <th>MR0268123</th>\n",
       "      <th>MR0214540</th>\n",
       "      <th>MR1862931</th>\n",
       "      <th>MR1874518</th>\n",
       "      <th>MR0205958</th>\n",
       "      <th>MR0227105</th>\n",
       "      <th>MR1046750</th>\n",
       "      <th>MR1605752</th>\n",
       "      <th>...</th>\n",
       "      <th>MR0608786</th>\n",
       "      <th>MR0798079</th>\n",
       "      <th>MR0937537</th>\n",
       "      <th>MR1153029</th>\n",
       "      <th>MR0197862</th>\n",
       "      <th>MR1000692</th>\n",
       "      <th>MR1150330</th>\n",
       "      <th>MR0402198</th>\n",
       "      <th>MR1157554</th>\n",
       "      <th>MR1183719</th>\n",
       "    </tr>\n",
       "  </thead>\n",
       "  <tbody>\n",
       "    <tr>\n",
       "      <th>AhlgrenScottD</th>\n",
       "      <td>6</td>\n",
       "      <td>8</td>\n",
       "      <td>8</td>\n",
       "      <td>4</td>\n",
       "      <td>4</td>\n",
       "      <td>2</td>\n",
       "      <td>4</td>\n",
       "      <td>4</td>\n",
       "      <td>1</td>\n",
       "      <td>2</td>\n",
       "      <td>...</td>\n",
       "      <td>0</td>\n",
       "      <td>0</td>\n",
       "      <td>0</td>\n",
       "      <td>0</td>\n",
       "      <td>0</td>\n",
       "      <td>0</td>\n",
       "      <td>0</td>\n",
       "      <td>0</td>\n",
       "      <td>0</td>\n",
       "      <td>0</td>\n",
       "    </tr>\n",
       "    <tr>\n",
       "      <th>AlbinPierre</th>\n",
       "      <td>0</td>\n",
       "      <td>0</td>\n",
       "      <td>0</td>\n",
       "      <td>0</td>\n",
       "      <td>0</td>\n",
       "      <td>0</td>\n",
       "      <td>0</td>\n",
       "      <td>0</td>\n",
       "      <td>0</td>\n",
       "      <td>0</td>\n",
       "      <td>...</td>\n",
       "      <td>0</td>\n",
       "      <td>0</td>\n",
       "      <td>0</td>\n",
       "      <td>0</td>\n",
       "      <td>0</td>\n",
       "      <td>0</td>\n",
       "      <td>0</td>\n",
       "      <td>0</td>\n",
       "      <td>0</td>\n",
       "      <td>0</td>\n",
       "    </tr>\n",
       "    <tr>\n",
       "      <th>BaloghJózsef</th>\n",
       "      <td>0</td>\n",
       "      <td>0</td>\n",
       "      <td>0</td>\n",
       "      <td>0</td>\n",
       "      <td>0</td>\n",
       "      <td>0</td>\n",
       "      <td>0</td>\n",
       "      <td>0</td>\n",
       "      <td>0</td>\n",
       "      <td>0</td>\n",
       "      <td>...</td>\n",
       "      <td>0</td>\n",
       "      <td>0</td>\n",
       "      <td>0</td>\n",
       "      <td>0</td>\n",
       "      <td>0</td>\n",
       "      <td>0</td>\n",
       "      <td>0</td>\n",
       "      <td>0</td>\n",
       "      <td>0</td>\n",
       "      <td>0</td>\n",
       "    </tr>\n",
       "    <tr>\n",
       "      <th>BaryshnikovYuliyM</th>\n",
       "      <td>0</td>\n",
       "      <td>0</td>\n",
       "      <td>0</td>\n",
       "      <td>0</td>\n",
       "      <td>0</td>\n",
       "      <td>0</td>\n",
       "      <td>0</td>\n",
       "      <td>0</td>\n",
       "      <td>0</td>\n",
       "      <td>0</td>\n",
       "      <td>...</td>\n",
       "      <td>0</td>\n",
       "      <td>0</td>\n",
       "      <td>0</td>\n",
       "      <td>0</td>\n",
       "      <td>0</td>\n",
       "      <td>0</td>\n",
       "      <td>0</td>\n",
       "      <td>0</td>\n",
       "      <td>0</td>\n",
       "      <td>0</td>\n",
       "    </tr>\n",
       "    <tr>\n",
       "      <th>Berwick-EvansDaniel</th>\n",
       "      <td>0</td>\n",
       "      <td>0</td>\n",
       "      <td>0</td>\n",
       "      <td>0</td>\n",
       "      <td>0</td>\n",
       "      <td>0</td>\n",
       "      <td>0</td>\n",
       "      <td>0</td>\n",
       "      <td>0</td>\n",
       "      <td>0</td>\n",
       "      <td>...</td>\n",
       "      <td>0</td>\n",
       "      <td>0</td>\n",
       "      <td>0</td>\n",
       "      <td>0</td>\n",
       "      <td>0</td>\n",
       "      <td>0</td>\n",
       "      <td>0</td>\n",
       "      <td>0</td>\n",
       "      <td>0</td>\n",
       "      <td>0</td>\n",
       "    </tr>\n",
       "    <tr>\n",
       "      <th>...</th>\n",
       "      <td>...</td>\n",
       "      <td>...</td>\n",
       "      <td>...</td>\n",
       "      <td>...</td>\n",
       "      <td>...</td>\n",
       "      <td>...</td>\n",
       "      <td>...</td>\n",
       "      <td>...</td>\n",
       "      <td>...</td>\n",
       "      <td>...</td>\n",
       "      <td>...</td>\n",
       "      <td>...</td>\n",
       "      <td>...</td>\n",
       "      <td>...</td>\n",
       "      <td>...</td>\n",
       "      <td>...</td>\n",
       "      <td>...</td>\n",
       "      <td>...</td>\n",
       "      <td>...</td>\n",
       "      <td>...</td>\n",
       "      <td>...</td>\n",
       "    </tr>\n",
       "    <tr>\n",
       "      <th>WuXuan</th>\n",
       "      <td>0</td>\n",
       "      <td>0</td>\n",
       "      <td>0</td>\n",
       "      <td>0</td>\n",
       "      <td>0</td>\n",
       "      <td>0</td>\n",
       "      <td>0</td>\n",
       "      <td>0</td>\n",
       "      <td>0</td>\n",
       "      <td>0</td>\n",
       "      <td>...</td>\n",
       "      <td>0</td>\n",
       "      <td>0</td>\n",
       "      <td>0</td>\n",
       "      <td>0</td>\n",
       "      <td>0</td>\n",
       "      <td>0</td>\n",
       "      <td>0</td>\n",
       "      <td>0</td>\n",
       "      <td>0</td>\n",
       "      <td>0</td>\n",
       "    </tr>\n",
       "    <tr>\n",
       "      <th>YongAlexanderTF</th>\n",
       "      <td>0</td>\n",
       "      <td>0</td>\n",
       "      <td>0</td>\n",
       "      <td>0</td>\n",
       "      <td>0</td>\n",
       "      <td>0</td>\n",
       "      <td>0</td>\n",
       "      <td>0</td>\n",
       "      <td>0</td>\n",
       "      <td>0</td>\n",
       "      <td>...</td>\n",
       "      <td>0</td>\n",
       "      <td>0</td>\n",
       "      <td>0</td>\n",
       "      <td>0</td>\n",
       "      <td>0</td>\n",
       "      <td>0</td>\n",
       "      <td>0</td>\n",
       "      <td>0</td>\n",
       "      <td>0</td>\n",
       "      <td>0</td>\n",
       "    </tr>\n",
       "    <tr>\n",
       "      <th>YoungAmanda</th>\n",
       "      <td>0</td>\n",
       "      <td>0</td>\n",
       "      <td>0</td>\n",
       "      <td>0</td>\n",
       "      <td>0</td>\n",
       "      <td>0</td>\n",
       "      <td>0</td>\n",
       "      <td>0</td>\n",
       "      <td>0</td>\n",
       "      <td>0</td>\n",
       "      <td>...</td>\n",
       "      <td>0</td>\n",
       "      <td>0</td>\n",
       "      <td>0</td>\n",
       "      <td>0</td>\n",
       "      <td>0</td>\n",
       "      <td>0</td>\n",
       "      <td>0</td>\n",
       "      <td>0</td>\n",
       "      <td>0</td>\n",
       "      <td>0</td>\n",
       "    </tr>\n",
       "    <tr>\n",
       "      <th>ZaharescuAlexandru</th>\n",
       "      <td>0</td>\n",
       "      <td>0</td>\n",
       "      <td>0</td>\n",
       "      <td>0</td>\n",
       "      <td>0</td>\n",
       "      <td>0</td>\n",
       "      <td>0</td>\n",
       "      <td>0</td>\n",
       "      <td>0</td>\n",
       "      <td>0</td>\n",
       "      <td>...</td>\n",
       "      <td>0</td>\n",
       "      <td>0</td>\n",
       "      <td>0</td>\n",
       "      <td>0</td>\n",
       "      <td>0</td>\n",
       "      <td>0</td>\n",
       "      <td>0</td>\n",
       "      <td>0</td>\n",
       "      <td>0</td>\n",
       "      <td>0</td>\n",
       "    </tr>\n",
       "    <tr>\n",
       "      <th>ZharnitskyVadim</th>\n",
       "      <td>0</td>\n",
       "      <td>0</td>\n",
       "      <td>0</td>\n",
       "      <td>0</td>\n",
       "      <td>0</td>\n",
       "      <td>0</td>\n",
       "      <td>0</td>\n",
       "      <td>0</td>\n",
       "      <td>0</td>\n",
       "      <td>0</td>\n",
       "      <td>...</td>\n",
       "      <td>1</td>\n",
       "      <td>1</td>\n",
       "      <td>1</td>\n",
       "      <td>1</td>\n",
       "      <td>1</td>\n",
       "      <td>1</td>\n",
       "      <td>1</td>\n",
       "      <td>1</td>\n",
       "      <td>1</td>\n",
       "      <td>1</td>\n",
       "    </tr>\n",
       "  </tbody>\n",
       "</table>\n",
       "<p>70 rows × 26304 columns</p>\n",
       "</div>"
      ],
      "text/plain": [
       "                     MR2000466  MR1802511  MR0268123  MR0214540  MR1862931  \\\n",
       "AhlgrenScottD                6          8          8          4          4   \n",
       "AlbinPierre                  0          0          0          0          0   \n",
       "BaloghJózsef                 0          0          0          0          0   \n",
       "BaryshnikovYuliyM            0          0          0          0          0   \n",
       "Berwick-EvansDaniel          0          0          0          0          0   \n",
       "...                        ...        ...        ...        ...        ...   \n",
       "WuXuan                       0          0          0          0          0   \n",
       "YongAlexanderTF              0          0          0          0          0   \n",
       "YoungAmanda                  0          0          0          0          0   \n",
       "ZaharescuAlexandru           0          0          0          0          0   \n",
       "ZharnitskyVadim              0          0          0          0          0   \n",
       "\n",
       "                     MR1874518  MR0205958  MR0227105  MR1046750  MR1605752  \\\n",
       "AhlgrenScottD                2          4          4          1          2   \n",
       "AlbinPierre                  0          0          0          0          0   \n",
       "BaloghJózsef                 0          0          0          0          0   \n",
       "BaryshnikovYuliyM            0          0          0          0          0   \n",
       "Berwick-EvansDaniel          0          0          0          0          0   \n",
       "...                        ...        ...        ...        ...        ...   \n",
       "WuXuan                       0          0          0          0          0   \n",
       "YongAlexanderTF              0          0          0          0          0   \n",
       "YoungAmanda                  0          0          0          0          0   \n",
       "ZaharescuAlexandru           0          0          0          0          0   \n",
       "ZharnitskyVadim              0          0          0          0          0   \n",
       "\n",
       "                     ...  MR0608786  MR0798079  MR0937537  MR1153029  \\\n",
       "AhlgrenScottD        ...          0          0          0          0   \n",
       "AlbinPierre          ...          0          0          0          0   \n",
       "BaloghJózsef         ...          0          0          0          0   \n",
       "BaryshnikovYuliyM    ...          0          0          0          0   \n",
       "Berwick-EvansDaniel  ...          0          0          0          0   \n",
       "...                  ...        ...        ...        ...        ...   \n",
       "WuXuan               ...          0          0          0          0   \n",
       "YongAlexanderTF      ...          0          0          0          0   \n",
       "YoungAmanda          ...          0          0          0          0   \n",
       "ZaharescuAlexandru   ...          0          0          0          0   \n",
       "ZharnitskyVadim      ...          1          1          1          1   \n",
       "\n",
       "                     MR0197862  MR1000692  MR1150330  MR0402198  MR1157554  \\\n",
       "AhlgrenScottD                0          0          0          0          0   \n",
       "AlbinPierre                  0          0          0          0          0   \n",
       "BaloghJózsef                 0          0          0          0          0   \n",
       "BaryshnikovYuliyM            0          0          0          0          0   \n",
       "Berwick-EvansDaniel          0          0          0          0          0   \n",
       "...                        ...        ...        ...        ...        ...   \n",
       "WuXuan                       0          0          0          0          0   \n",
       "YongAlexanderTF              0          0          0          0          0   \n",
       "YoungAmanda                  0          0          0          0          0   \n",
       "ZaharescuAlexandru           0          0          0          0          0   \n",
       "ZharnitskyVadim              1          1          1          1          1   \n",
       "\n",
       "                     MR1183719  \n",
       "AhlgrenScottD                0  \n",
       "AlbinPierre                  0  \n",
       "BaloghJózsef                 0  \n",
       "BaryshnikovYuliyM            0  \n",
       "Berwick-EvansDaniel          0  \n",
       "...                        ...  \n",
       "WuXuan                       0  \n",
       "YongAlexanderTF              0  \n",
       "YoungAmanda                  0  \n",
       "ZaharescuAlexandru           0  \n",
       "ZharnitskyVadim              1  \n",
       "\n",
       "[70 rows x 26304 columns]"
      ]
     },
     "execution_count": 3,
     "metadata": {},
     "output_type": "execute_result"
    }
   ],
   "source": [
    "references"
   ]
  },
  {
   "cell_type": "code",
   "execution_count": 4,
   "metadata": {},
   "outputs": [],
   "source": [
    "# Here we make sure to sort the faculty members alphabetically just for convenience\n",
    "\n",
    "references = references.sort_index()"
   ]
  },
  {
   "cell_type": "code",
   "execution_count": 5,
   "metadata": {},
   "outputs": [],
   "source": [
    "# The code here serves to remove any column that contains only one non-zero element. \n",
    "# This serves to possibly improve the variation distribution among the principal components after PCA is conducted.\n",
    "\n",
    "\n",
    "for col in references:\n",
    "    if np.count_nonzero(references[col]) == 1:\n",
    "        references.drop(col, axis=1, inplace= True)\n"
   ]
  },
  {
   "cell_type": "code",
   "execution_count": 6,
   "metadata": {},
   "outputs": [
    {
     "name": "stderr",
     "output_type": "stream",
     "text": [
      "C:\\Users\\adamw\\AppData\\Local\\Temp\\ipykernel_19528\\310284897.py:4: FutureWarning: DataFrame.applymap has been deprecated. Use DataFrame.map instead.\n",
      "  inf_values = references.applymap(np.isinf).sum()\n"
     ]
    },
    {
     "name": "stdout",
     "output_type": "stream",
     "text": [
      "Number of NaN values in each column:\n",
      " MR0268123    0\n",
      "MR2112196    0\n",
      "MR0434996    0\n",
      "MR2920749    0\n",
      "MR0332663    0\n",
      "            ..\n",
      "MR1741843    0\n",
      "MR0778970    0\n",
      "MR2759813    0\n",
      "MR0415962    0\n",
      "MR2172781    0\n",
      "Length: 3437, dtype: int64\n",
      "\n",
      "Number of Infinite values in each column:\n",
      " MR0268123    0\n",
      "MR2112196    0\n",
      "MR0434996    0\n",
      "MR2920749    0\n",
      "MR0332663    0\n",
      "            ..\n",
      "MR1741843    0\n",
      "MR0778970    0\n",
      "MR2759813    0\n",
      "MR0415962    0\n",
      "MR2172781    0\n",
      "Length: 3437, dtype: int64\n"
     ]
    }
   ],
   "source": [
    "\n",
    "nan_values = references.isnull().sum()\n",
    "\n",
    "# Check for infinite values\n",
    "inf_values = references.applymap(np.isinf).sum()\n",
    "\n",
    "print(\"Number of NaN values in each column:\\n\", nan_values)\n",
    "print(\"\\nNumber of Infinite values in each column:\\n\", inf_values)"
   ]
  },
  {
   "cell_type": "code",
   "execution_count": 7,
   "metadata": {},
   "outputs": [
    {
     "name": "stdout",
     "output_type": "stream",
     "text": [
      "Rows with sum of absolute values equal to zero: 1\n",
      "Rows with sum of squared values equal to zero: 1\n",
      "Indices of rows with sum of absolute values equal to zero: ['QuanZhiyu']\n",
      "Indices of rows with sum of squared values equal to zero: ['QuanZhiyu']\n"
     ]
    }
   ],
   "source": [
    "# Check for rows with sum of absolute values equal to zero (for L1)\n",
    "zero_sum_rows_l1 = (references.abs().sum(axis=1) == 0)\n",
    "\n",
    "# Check for rows with sum of squared values equal to zero (for L2)\n",
    "zero_sum_rows_l2 = (references.pow(2).sum(axis=1) == 0)\n",
    "\n",
    "print(\"Rows with sum of absolute values equal to zero:\", zero_sum_rows_l1.sum())\n",
    "print(\"Rows with sum of squared values equal to zero:\", zero_sum_rows_l2.sum())\n",
    "\n",
    "# Identify indices of rows with sum of absolute values equal to zero (for L1)\n",
    "indices_l1_zero_sum = references.index[references.abs().sum(axis=1) == 0].tolist()\n",
    "\n",
    "# Identify indices of rows with sum of squared values equal to zero (for L2)\n",
    "indices_l2_zero_sum = references.index[references.pow(2).sum(axis=1) == 0].tolist()\n",
    "\n",
    "print(\"Indices of rows with sum of absolute values equal to zero:\", indices_l1_zero_sum)\n",
    "print(\"Indices of rows with sum of squared values equal to zero:\", indices_l2_zero_sum)\n"
   ]
  },
  {
   "cell_type": "code",
   "execution_count": 8,
   "metadata": {},
   "outputs": [],
   "source": [
    "references = references.drop(\"QuanZhiyu\", axis=0)"
   ]
  },
  {
   "cell_type": "code",
   "execution_count": 48,
   "metadata": {},
   "outputs": [],
   "source": [
    "# L1 & L2 Normalization\n",
    "\n",
    "# In an effort to standardize the data, we applied the L1-norm and the L2-norm row-wise.\n",
    "\n",
    "references_l1 = references.divide(references.abs().sum(axis=1), axis=0)\n",
    "l2_norm = references.pow(2).sum(axis=1).pow(0.5)\n",
    "references_l2 = references.divide(l2_norm, axis=0)"
   ]
  },
  {
   "cell_type": "code",
   "execution_count": 49,
   "metadata": {},
   "outputs": [
    {
     "data": {
      "text/html": [
       "<div>\n",
       "<style scoped>\n",
       "    .dataframe tbody tr th:only-of-type {\n",
       "        vertical-align: middle;\n",
       "    }\n",
       "\n",
       "    .dataframe tbody tr th {\n",
       "        vertical-align: top;\n",
       "    }\n",
       "\n",
       "    .dataframe thead th {\n",
       "        text-align: right;\n",
       "    }\n",
       "</style>\n",
       "<table border=\"1\" class=\"dataframe\">\n",
       "  <thead>\n",
       "    <tr style=\"text-align: right;\">\n",
       "      <th></th>\n",
       "      <th>MR0268123</th>\n",
       "      <th>MR2112196</th>\n",
       "      <th>MR0434996</th>\n",
       "      <th>MR2920749</th>\n",
       "      <th>MR0332663</th>\n",
       "      <th>MR3616493</th>\n",
       "      <th>MR2135178</th>\n",
       "      <th>MR0434929</th>\n",
       "      <th>MR0066496</th>\n",
       "      <th>MR1625181</th>\n",
       "      <th>...</th>\n",
       "      <th>MR1511670</th>\n",
       "      <th>MR0350069</th>\n",
       "      <th>MR0672839</th>\n",
       "      <th>MR0394451</th>\n",
       "      <th>MR0107725</th>\n",
       "      <th>MR1741843</th>\n",
       "      <th>MR0778970</th>\n",
       "      <th>MR2759813</th>\n",
       "      <th>MR0415962</th>\n",
       "      <th>MR2172781</th>\n",
       "    </tr>\n",
       "  </thead>\n",
       "  <tbody>\n",
       "    <tr>\n",
       "      <th>AhlgrenScottD</th>\n",
       "      <td>0.038095</td>\n",
       "      <td>0.014286</td>\n",
       "      <td>0.028571</td>\n",
       "      <td>0.004762</td>\n",
       "      <td>0.042857</td>\n",
       "      <td>0.004762</td>\n",
       "      <td>0.004762</td>\n",
       "      <td>0.004762</td>\n",
       "      <td>0.004762</td>\n",
       "      <td>0.014286</td>\n",
       "      <td>...</td>\n",
       "      <td>0.000000</td>\n",
       "      <td>0.0</td>\n",
       "      <td>0.0</td>\n",
       "      <td>0.000000</td>\n",
       "      <td>0.000000</td>\n",
       "      <td>0.000000</td>\n",
       "      <td>0.000000</td>\n",
       "      <td>0.000000</td>\n",
       "      <td>0.000000</td>\n",
       "      <td>0.000000</td>\n",
       "    </tr>\n",
       "    <tr>\n",
       "      <th>AlbinPierre</th>\n",
       "      <td>0.000000</td>\n",
       "      <td>0.000000</td>\n",
       "      <td>0.000000</td>\n",
       "      <td>0.000000</td>\n",
       "      <td>0.000000</td>\n",
       "      <td>0.000000</td>\n",
       "      <td>0.000000</td>\n",
       "      <td>0.000000</td>\n",
       "      <td>0.000000</td>\n",
       "      <td>0.000000</td>\n",
       "      <td>...</td>\n",
       "      <td>0.000000</td>\n",
       "      <td>0.0</td>\n",
       "      <td>0.0</td>\n",
       "      <td>0.000000</td>\n",
       "      <td>0.000000</td>\n",
       "      <td>0.000000</td>\n",
       "      <td>0.000000</td>\n",
       "      <td>0.000000</td>\n",
       "      <td>0.000000</td>\n",
       "      <td>0.000000</td>\n",
       "    </tr>\n",
       "    <tr>\n",
       "      <th>BaloghJózsef</th>\n",
       "      <td>0.000000</td>\n",
       "      <td>0.000000</td>\n",
       "      <td>0.000000</td>\n",
       "      <td>0.000000</td>\n",
       "      <td>0.000000</td>\n",
       "      <td>0.000000</td>\n",
       "      <td>0.000000</td>\n",
       "      <td>0.000000</td>\n",
       "      <td>0.000000</td>\n",
       "      <td>0.000000</td>\n",
       "      <td>...</td>\n",
       "      <td>0.000000</td>\n",
       "      <td>0.0</td>\n",
       "      <td>0.0</td>\n",
       "      <td>0.000000</td>\n",
       "      <td>0.000000</td>\n",
       "      <td>0.000000</td>\n",
       "      <td>0.000000</td>\n",
       "      <td>0.000000</td>\n",
       "      <td>0.000000</td>\n",
       "      <td>0.000000</td>\n",
       "    </tr>\n",
       "    <tr>\n",
       "      <th>BaryshnikovYuliyM</th>\n",
       "      <td>0.000000</td>\n",
       "      <td>0.000000</td>\n",
       "      <td>0.000000</td>\n",
       "      <td>0.000000</td>\n",
       "      <td>0.000000</td>\n",
       "      <td>0.000000</td>\n",
       "      <td>0.000000</td>\n",
       "      <td>0.000000</td>\n",
       "      <td>0.000000</td>\n",
       "      <td>0.000000</td>\n",
       "      <td>...</td>\n",
       "      <td>0.000000</td>\n",
       "      <td>0.0</td>\n",
       "      <td>0.0</td>\n",
       "      <td>0.000000</td>\n",
       "      <td>0.000000</td>\n",
       "      <td>0.000000</td>\n",
       "      <td>0.000000</td>\n",
       "      <td>0.000000</td>\n",
       "      <td>0.000000</td>\n",
       "      <td>0.000000</td>\n",
       "    </tr>\n",
       "    <tr>\n",
       "      <th>Berwick-EvansDaniel</th>\n",
       "      <td>0.000000</td>\n",
       "      <td>0.000000</td>\n",
       "      <td>0.000000</td>\n",
       "      <td>0.000000</td>\n",
       "      <td>0.000000</td>\n",
       "      <td>0.000000</td>\n",
       "      <td>0.000000</td>\n",
       "      <td>0.000000</td>\n",
       "      <td>0.000000</td>\n",
       "      <td>0.000000</td>\n",
       "      <td>...</td>\n",
       "      <td>0.000000</td>\n",
       "      <td>0.0</td>\n",
       "      <td>0.0</td>\n",
       "      <td>0.000000</td>\n",
       "      <td>0.000000</td>\n",
       "      <td>0.000000</td>\n",
       "      <td>0.000000</td>\n",
       "      <td>0.000000</td>\n",
       "      <td>0.000000</td>\n",
       "      <td>0.000000</td>\n",
       "    </tr>\n",
       "    <tr>\n",
       "      <th>...</th>\n",
       "      <td>...</td>\n",
       "      <td>...</td>\n",
       "      <td>...</td>\n",
       "      <td>...</td>\n",
       "      <td>...</td>\n",
       "      <td>...</td>\n",
       "      <td>...</td>\n",
       "      <td>...</td>\n",
       "      <td>...</td>\n",
       "      <td>...</td>\n",
       "      <td>...</td>\n",
       "      <td>...</td>\n",
       "      <td>...</td>\n",
       "      <td>...</td>\n",
       "      <td>...</td>\n",
       "      <td>...</td>\n",
       "      <td>...</td>\n",
       "      <td>...</td>\n",
       "      <td>...</td>\n",
       "      <td>...</td>\n",
       "      <td>...</td>\n",
       "    </tr>\n",
       "    <tr>\n",
       "      <th>WuXuan</th>\n",
       "      <td>0.000000</td>\n",
       "      <td>0.000000</td>\n",
       "      <td>0.000000</td>\n",
       "      <td>0.000000</td>\n",
       "      <td>0.000000</td>\n",
       "      <td>0.000000</td>\n",
       "      <td>0.000000</td>\n",
       "      <td>0.000000</td>\n",
       "      <td>0.000000</td>\n",
       "      <td>0.000000</td>\n",
       "      <td>...</td>\n",
       "      <td>0.000000</td>\n",
       "      <td>0.0</td>\n",
       "      <td>0.0</td>\n",
       "      <td>0.000000</td>\n",
       "      <td>0.000000</td>\n",
       "      <td>0.000000</td>\n",
       "      <td>0.000000</td>\n",
       "      <td>0.000000</td>\n",
       "      <td>0.035714</td>\n",
       "      <td>0.000000</td>\n",
       "    </tr>\n",
       "    <tr>\n",
       "      <th>YongAlexanderTF</th>\n",
       "      <td>0.000000</td>\n",
       "      <td>0.000000</td>\n",
       "      <td>0.000000</td>\n",
       "      <td>0.000000</td>\n",
       "      <td>0.000000</td>\n",
       "      <td>0.000000</td>\n",
       "      <td>0.000000</td>\n",
       "      <td>0.000000</td>\n",
       "      <td>0.000000</td>\n",
       "      <td>0.000000</td>\n",
       "      <td>...</td>\n",
       "      <td>0.005988</td>\n",
       "      <td>0.0</td>\n",
       "      <td>0.0</td>\n",
       "      <td>0.000000</td>\n",
       "      <td>0.000000</td>\n",
       "      <td>0.000000</td>\n",
       "      <td>0.000000</td>\n",
       "      <td>0.005988</td>\n",
       "      <td>0.000000</td>\n",
       "      <td>0.000000</td>\n",
       "    </tr>\n",
       "    <tr>\n",
       "      <th>YoungAmanda</th>\n",
       "      <td>0.000000</td>\n",
       "      <td>0.000000</td>\n",
       "      <td>0.000000</td>\n",
       "      <td>0.000000</td>\n",
       "      <td>0.000000</td>\n",
       "      <td>0.000000</td>\n",
       "      <td>0.000000</td>\n",
       "      <td>0.000000</td>\n",
       "      <td>0.000000</td>\n",
       "      <td>0.000000</td>\n",
       "      <td>...</td>\n",
       "      <td>0.000000</td>\n",
       "      <td>0.0</td>\n",
       "      <td>0.0</td>\n",
       "      <td>0.000000</td>\n",
       "      <td>0.000000</td>\n",
       "      <td>0.000000</td>\n",
       "      <td>0.000000</td>\n",
       "      <td>0.000000</td>\n",
       "      <td>0.000000</td>\n",
       "      <td>0.045455</td>\n",
       "    </tr>\n",
       "    <tr>\n",
       "      <th>ZaharescuAlexandru</th>\n",
       "      <td>0.000000</td>\n",
       "      <td>0.000601</td>\n",
       "      <td>0.001203</td>\n",
       "      <td>0.000000</td>\n",
       "      <td>0.000000</td>\n",
       "      <td>0.000000</td>\n",
       "      <td>0.000601</td>\n",
       "      <td>0.002405</td>\n",
       "      <td>0.000601</td>\n",
       "      <td>0.003608</td>\n",
       "      <td>...</td>\n",
       "      <td>0.000000</td>\n",
       "      <td>0.0</td>\n",
       "      <td>0.0</td>\n",
       "      <td>0.000000</td>\n",
       "      <td>0.001203</td>\n",
       "      <td>0.000000</td>\n",
       "      <td>0.000000</td>\n",
       "      <td>0.000000</td>\n",
       "      <td>0.000601</td>\n",
       "      <td>0.000601</td>\n",
       "    </tr>\n",
       "    <tr>\n",
       "      <th>ZharnitskyVadim</th>\n",
       "      <td>0.000000</td>\n",
       "      <td>0.000000</td>\n",
       "      <td>0.000000</td>\n",
       "      <td>0.000000</td>\n",
       "      <td>0.000000</td>\n",
       "      <td>0.000000</td>\n",
       "      <td>0.000000</td>\n",
       "      <td>0.000000</td>\n",
       "      <td>0.000000</td>\n",
       "      <td>0.000000</td>\n",
       "      <td>...</td>\n",
       "      <td>0.004237</td>\n",
       "      <td>0.0</td>\n",
       "      <td>0.0</td>\n",
       "      <td>0.004237</td>\n",
       "      <td>0.000000</td>\n",
       "      <td>0.004237</td>\n",
       "      <td>0.008475</td>\n",
       "      <td>0.000000</td>\n",
       "      <td>0.000000</td>\n",
       "      <td>0.000000</td>\n",
       "    </tr>\n",
       "  </tbody>\n",
       "</table>\n",
       "<p>69 rows × 3437 columns</p>\n",
       "</div>"
      ],
      "text/plain": [
       "                     MR0268123  MR2112196  MR0434996  MR2920749  MR0332663  \\\n",
       "AhlgrenScottD         0.038095   0.014286   0.028571   0.004762   0.042857   \n",
       "AlbinPierre           0.000000   0.000000   0.000000   0.000000   0.000000   \n",
       "BaloghJózsef          0.000000   0.000000   0.000000   0.000000   0.000000   \n",
       "BaryshnikovYuliyM     0.000000   0.000000   0.000000   0.000000   0.000000   \n",
       "Berwick-EvansDaniel   0.000000   0.000000   0.000000   0.000000   0.000000   \n",
       "...                        ...        ...        ...        ...        ...   \n",
       "WuXuan                0.000000   0.000000   0.000000   0.000000   0.000000   \n",
       "YongAlexanderTF       0.000000   0.000000   0.000000   0.000000   0.000000   \n",
       "YoungAmanda           0.000000   0.000000   0.000000   0.000000   0.000000   \n",
       "ZaharescuAlexandru    0.000000   0.000601   0.001203   0.000000   0.000000   \n",
       "ZharnitskyVadim       0.000000   0.000000   0.000000   0.000000   0.000000   \n",
       "\n",
       "                     MR3616493  MR2135178  MR0434929  MR0066496  MR1625181  \\\n",
       "AhlgrenScottD         0.004762   0.004762   0.004762   0.004762   0.014286   \n",
       "AlbinPierre           0.000000   0.000000   0.000000   0.000000   0.000000   \n",
       "BaloghJózsef          0.000000   0.000000   0.000000   0.000000   0.000000   \n",
       "BaryshnikovYuliyM     0.000000   0.000000   0.000000   0.000000   0.000000   \n",
       "Berwick-EvansDaniel   0.000000   0.000000   0.000000   0.000000   0.000000   \n",
       "...                        ...        ...        ...        ...        ...   \n",
       "WuXuan                0.000000   0.000000   0.000000   0.000000   0.000000   \n",
       "YongAlexanderTF       0.000000   0.000000   0.000000   0.000000   0.000000   \n",
       "YoungAmanda           0.000000   0.000000   0.000000   0.000000   0.000000   \n",
       "ZaharescuAlexandru    0.000000   0.000601   0.002405   0.000601   0.003608   \n",
       "ZharnitskyVadim       0.000000   0.000000   0.000000   0.000000   0.000000   \n",
       "\n",
       "                     ...  MR1511670  MR0350069  MR0672839  MR0394451  \\\n",
       "AhlgrenScottD        ...   0.000000        0.0        0.0   0.000000   \n",
       "AlbinPierre          ...   0.000000        0.0        0.0   0.000000   \n",
       "BaloghJózsef         ...   0.000000        0.0        0.0   0.000000   \n",
       "BaryshnikovYuliyM    ...   0.000000        0.0        0.0   0.000000   \n",
       "Berwick-EvansDaniel  ...   0.000000        0.0        0.0   0.000000   \n",
       "...                  ...        ...        ...        ...        ...   \n",
       "WuXuan               ...   0.000000        0.0        0.0   0.000000   \n",
       "YongAlexanderTF      ...   0.005988        0.0        0.0   0.000000   \n",
       "YoungAmanda          ...   0.000000        0.0        0.0   0.000000   \n",
       "ZaharescuAlexandru   ...   0.000000        0.0        0.0   0.000000   \n",
       "ZharnitskyVadim      ...   0.004237        0.0        0.0   0.004237   \n",
       "\n",
       "                     MR0107725  MR1741843  MR0778970  MR2759813  MR0415962  \\\n",
       "AhlgrenScottD         0.000000   0.000000   0.000000   0.000000   0.000000   \n",
       "AlbinPierre           0.000000   0.000000   0.000000   0.000000   0.000000   \n",
       "BaloghJózsef          0.000000   0.000000   0.000000   0.000000   0.000000   \n",
       "BaryshnikovYuliyM     0.000000   0.000000   0.000000   0.000000   0.000000   \n",
       "Berwick-EvansDaniel   0.000000   0.000000   0.000000   0.000000   0.000000   \n",
       "...                        ...        ...        ...        ...        ...   \n",
       "WuXuan                0.000000   0.000000   0.000000   0.000000   0.035714   \n",
       "YongAlexanderTF       0.000000   0.000000   0.000000   0.005988   0.000000   \n",
       "YoungAmanda           0.000000   0.000000   0.000000   0.000000   0.000000   \n",
       "ZaharescuAlexandru    0.001203   0.000000   0.000000   0.000000   0.000601   \n",
       "ZharnitskyVadim       0.000000   0.004237   0.008475   0.000000   0.000000   \n",
       "\n",
       "                     MR2172781  \n",
       "AhlgrenScottD         0.000000  \n",
       "AlbinPierre           0.000000  \n",
       "BaloghJózsef          0.000000  \n",
       "BaryshnikovYuliyM     0.000000  \n",
       "Berwick-EvansDaniel   0.000000  \n",
       "...                        ...  \n",
       "WuXuan                0.000000  \n",
       "YongAlexanderTF       0.000000  \n",
       "YoungAmanda           0.045455  \n",
       "ZaharescuAlexandru    0.000601  \n",
       "ZharnitskyVadim       0.000000  \n",
       "\n",
       "[69 rows x 3437 columns]"
      ]
     },
     "execution_count": 49,
     "metadata": {},
     "output_type": "execute_result"
    }
   ],
   "source": [
    "references_l1"
   ]
  },
  {
   "cell_type": "code",
   "execution_count": 50,
   "metadata": {},
   "outputs": [
    {
     "data": {
      "text/html": [
       "<div>\n",
       "<style scoped>\n",
       "    .dataframe tbody tr th:only-of-type {\n",
       "        vertical-align: middle;\n",
       "    }\n",
       "\n",
       "    .dataframe tbody tr th {\n",
       "        vertical-align: top;\n",
       "    }\n",
       "\n",
       "    .dataframe thead th {\n",
       "        text-align: right;\n",
       "    }\n",
       "</style>\n",
       "<table border=\"1\" class=\"dataframe\">\n",
       "  <thead>\n",
       "    <tr style=\"text-align: right;\">\n",
       "      <th></th>\n",
       "      <th>MR0268123</th>\n",
       "      <th>MR2112196</th>\n",
       "      <th>MR0434996</th>\n",
       "      <th>MR2920749</th>\n",
       "      <th>MR0332663</th>\n",
       "      <th>MR3616493</th>\n",
       "      <th>MR2135178</th>\n",
       "      <th>MR0434929</th>\n",
       "      <th>MR0066496</th>\n",
       "      <th>MR1625181</th>\n",
       "      <th>...</th>\n",
       "      <th>MR1511670</th>\n",
       "      <th>MR0350069</th>\n",
       "      <th>MR0672839</th>\n",
       "      <th>MR0394451</th>\n",
       "      <th>MR0107725</th>\n",
       "      <th>MR1741843</th>\n",
       "      <th>MR0778970</th>\n",
       "      <th>MR2759813</th>\n",
       "      <th>MR0415962</th>\n",
       "      <th>MR2172781</th>\n",
       "    </tr>\n",
       "  </thead>\n",
       "  <tbody>\n",
       "    <tr>\n",
       "      <th>AhlgrenScottD</th>\n",
       "      <td>0.290573</td>\n",
       "      <td>0.108965</td>\n",
       "      <td>0.217930</td>\n",
       "      <td>0.036322</td>\n",
       "      <td>0.326895</td>\n",
       "      <td>0.036322</td>\n",
       "      <td>0.036322</td>\n",
       "      <td>0.036322</td>\n",
       "      <td>0.036322</td>\n",
       "      <td>0.108965</td>\n",
       "      <td>...</td>\n",
       "      <td>0.000000</td>\n",
       "      <td>0.0</td>\n",
       "      <td>0.0</td>\n",
       "      <td>0.000000</td>\n",
       "      <td>0.000000</td>\n",
       "      <td>0.000000</td>\n",
       "      <td>0.000000</td>\n",
       "      <td>0.00000</td>\n",
       "      <td>0.000000</td>\n",
       "      <td>0.000000</td>\n",
       "    </tr>\n",
       "    <tr>\n",
       "      <th>AlbinPierre</th>\n",
       "      <td>0.000000</td>\n",
       "      <td>0.000000</td>\n",
       "      <td>0.000000</td>\n",
       "      <td>0.000000</td>\n",
       "      <td>0.000000</td>\n",
       "      <td>0.000000</td>\n",
       "      <td>0.000000</td>\n",
       "      <td>0.000000</td>\n",
       "      <td>0.000000</td>\n",
       "      <td>0.000000</td>\n",
       "      <td>...</td>\n",
       "      <td>0.000000</td>\n",
       "      <td>0.0</td>\n",
       "      <td>0.0</td>\n",
       "      <td>0.000000</td>\n",
       "      <td>0.000000</td>\n",
       "      <td>0.000000</td>\n",
       "      <td>0.000000</td>\n",
       "      <td>0.00000</td>\n",
       "      <td>0.000000</td>\n",
       "      <td>0.000000</td>\n",
       "    </tr>\n",
       "    <tr>\n",
       "      <th>BaloghJózsef</th>\n",
       "      <td>0.000000</td>\n",
       "      <td>0.000000</td>\n",
       "      <td>0.000000</td>\n",
       "      <td>0.000000</td>\n",
       "      <td>0.000000</td>\n",
       "      <td>0.000000</td>\n",
       "      <td>0.000000</td>\n",
       "      <td>0.000000</td>\n",
       "      <td>0.000000</td>\n",
       "      <td>0.000000</td>\n",
       "      <td>...</td>\n",
       "      <td>0.000000</td>\n",
       "      <td>0.0</td>\n",
       "      <td>0.0</td>\n",
       "      <td>0.000000</td>\n",
       "      <td>0.000000</td>\n",
       "      <td>0.000000</td>\n",
       "      <td>0.000000</td>\n",
       "      <td>0.00000</td>\n",
       "      <td>0.000000</td>\n",
       "      <td>0.000000</td>\n",
       "    </tr>\n",
       "    <tr>\n",
       "      <th>BaryshnikovYuliyM</th>\n",
       "      <td>0.000000</td>\n",
       "      <td>0.000000</td>\n",
       "      <td>0.000000</td>\n",
       "      <td>0.000000</td>\n",
       "      <td>0.000000</td>\n",
       "      <td>0.000000</td>\n",
       "      <td>0.000000</td>\n",
       "      <td>0.000000</td>\n",
       "      <td>0.000000</td>\n",
       "      <td>0.000000</td>\n",
       "      <td>...</td>\n",
       "      <td>0.000000</td>\n",
       "      <td>0.0</td>\n",
       "      <td>0.0</td>\n",
       "      <td>0.000000</td>\n",
       "      <td>0.000000</td>\n",
       "      <td>0.000000</td>\n",
       "      <td>0.000000</td>\n",
       "      <td>0.00000</td>\n",
       "      <td>0.000000</td>\n",
       "      <td>0.000000</td>\n",
       "    </tr>\n",
       "    <tr>\n",
       "      <th>Berwick-EvansDaniel</th>\n",
       "      <td>0.000000</td>\n",
       "      <td>0.000000</td>\n",
       "      <td>0.000000</td>\n",
       "      <td>0.000000</td>\n",
       "      <td>0.000000</td>\n",
       "      <td>0.000000</td>\n",
       "      <td>0.000000</td>\n",
       "      <td>0.000000</td>\n",
       "      <td>0.000000</td>\n",
       "      <td>0.000000</td>\n",
       "      <td>...</td>\n",
       "      <td>0.000000</td>\n",
       "      <td>0.0</td>\n",
       "      <td>0.0</td>\n",
       "      <td>0.000000</td>\n",
       "      <td>0.000000</td>\n",
       "      <td>0.000000</td>\n",
       "      <td>0.000000</td>\n",
       "      <td>0.00000</td>\n",
       "      <td>0.000000</td>\n",
       "      <td>0.000000</td>\n",
       "    </tr>\n",
       "    <tr>\n",
       "      <th>...</th>\n",
       "      <td>...</td>\n",
       "      <td>...</td>\n",
       "      <td>...</td>\n",
       "      <td>...</td>\n",
       "      <td>...</td>\n",
       "      <td>...</td>\n",
       "      <td>...</td>\n",
       "      <td>...</td>\n",
       "      <td>...</td>\n",
       "      <td>...</td>\n",
       "      <td>...</td>\n",
       "      <td>...</td>\n",
       "      <td>...</td>\n",
       "      <td>...</td>\n",
       "      <td>...</td>\n",
       "      <td>...</td>\n",
       "      <td>...</td>\n",
       "      <td>...</td>\n",
       "      <td>...</td>\n",
       "      <td>...</td>\n",
       "      <td>...</td>\n",
       "    </tr>\n",
       "    <tr>\n",
       "      <th>WuXuan</th>\n",
       "      <td>0.000000</td>\n",
       "      <td>0.000000</td>\n",
       "      <td>0.000000</td>\n",
       "      <td>0.000000</td>\n",
       "      <td>0.000000</td>\n",
       "      <td>0.000000</td>\n",
       "      <td>0.000000</td>\n",
       "      <td>0.000000</td>\n",
       "      <td>0.000000</td>\n",
       "      <td>0.000000</td>\n",
       "      <td>...</td>\n",
       "      <td>0.000000</td>\n",
       "      <td>0.0</td>\n",
       "      <td>0.0</td>\n",
       "      <td>0.000000</td>\n",
       "      <td>0.000000</td>\n",
       "      <td>0.000000</td>\n",
       "      <td>0.000000</td>\n",
       "      <td>0.00000</td>\n",
       "      <td>0.166667</td>\n",
       "      <td>0.000000</td>\n",
       "    </tr>\n",
       "    <tr>\n",
       "      <th>YongAlexanderTF</th>\n",
       "      <td>0.000000</td>\n",
       "      <td>0.000000</td>\n",
       "      <td>0.000000</td>\n",
       "      <td>0.000000</td>\n",
       "      <td>0.000000</td>\n",
       "      <td>0.000000</td>\n",
       "      <td>0.000000</td>\n",
       "      <td>0.000000</td>\n",
       "      <td>0.000000</td>\n",
       "      <td>0.000000</td>\n",
       "      <td>...</td>\n",
       "      <td>0.029450</td>\n",
       "      <td>0.0</td>\n",
       "      <td>0.0</td>\n",
       "      <td>0.000000</td>\n",
       "      <td>0.000000</td>\n",
       "      <td>0.000000</td>\n",
       "      <td>0.000000</td>\n",
       "      <td>0.02945</td>\n",
       "      <td>0.000000</td>\n",
       "      <td>0.000000</td>\n",
       "    </tr>\n",
       "    <tr>\n",
       "      <th>YoungAmanda</th>\n",
       "      <td>0.000000</td>\n",
       "      <td>0.000000</td>\n",
       "      <td>0.000000</td>\n",
       "      <td>0.000000</td>\n",
       "      <td>0.000000</td>\n",
       "      <td>0.000000</td>\n",
       "      <td>0.000000</td>\n",
       "      <td>0.000000</td>\n",
       "      <td>0.000000</td>\n",
       "      <td>0.000000</td>\n",
       "      <td>...</td>\n",
       "      <td>0.000000</td>\n",
       "      <td>0.0</td>\n",
       "      <td>0.0</td>\n",
       "      <td>0.000000</td>\n",
       "      <td>0.000000</td>\n",
       "      <td>0.000000</td>\n",
       "      <td>0.000000</td>\n",
       "      <td>0.00000</td>\n",
       "      <td>0.000000</td>\n",
       "      <td>0.154303</td>\n",
       "    </tr>\n",
       "    <tr>\n",
       "      <th>ZaharescuAlexandru</th>\n",
       "      <td>0.000000</td>\n",
       "      <td>0.008116</td>\n",
       "      <td>0.016231</td>\n",
       "      <td>0.000000</td>\n",
       "      <td>0.000000</td>\n",
       "      <td>0.000000</td>\n",
       "      <td>0.008116</td>\n",
       "      <td>0.032462</td>\n",
       "      <td>0.008116</td>\n",
       "      <td>0.048694</td>\n",
       "      <td>...</td>\n",
       "      <td>0.000000</td>\n",
       "      <td>0.0</td>\n",
       "      <td>0.0</td>\n",
       "      <td>0.000000</td>\n",
       "      <td>0.016231</td>\n",
       "      <td>0.000000</td>\n",
       "      <td>0.000000</td>\n",
       "      <td>0.00000</td>\n",
       "      <td>0.008116</td>\n",
       "      <td>0.008116</td>\n",
       "    </tr>\n",
       "    <tr>\n",
       "      <th>ZharnitskyVadim</th>\n",
       "      <td>0.000000</td>\n",
       "      <td>0.000000</td>\n",
       "      <td>0.000000</td>\n",
       "      <td>0.000000</td>\n",
       "      <td>0.000000</td>\n",
       "      <td>0.000000</td>\n",
       "      <td>0.000000</td>\n",
       "      <td>0.000000</td>\n",
       "      <td>0.000000</td>\n",
       "      <td>0.000000</td>\n",
       "      <td>...</td>\n",
       "      <td>0.043033</td>\n",
       "      <td>0.0</td>\n",
       "      <td>0.0</td>\n",
       "      <td>0.043033</td>\n",
       "      <td>0.000000</td>\n",
       "      <td>0.043033</td>\n",
       "      <td>0.086066</td>\n",
       "      <td>0.00000</td>\n",
       "      <td>0.000000</td>\n",
       "      <td>0.000000</td>\n",
       "    </tr>\n",
       "  </tbody>\n",
       "</table>\n",
       "<p>69 rows × 3437 columns</p>\n",
       "</div>"
      ],
      "text/plain": [
       "                     MR0268123  MR2112196  MR0434996  MR2920749  MR0332663  \\\n",
       "AhlgrenScottD         0.290573   0.108965   0.217930   0.036322   0.326895   \n",
       "AlbinPierre           0.000000   0.000000   0.000000   0.000000   0.000000   \n",
       "BaloghJózsef          0.000000   0.000000   0.000000   0.000000   0.000000   \n",
       "BaryshnikovYuliyM     0.000000   0.000000   0.000000   0.000000   0.000000   \n",
       "Berwick-EvansDaniel   0.000000   0.000000   0.000000   0.000000   0.000000   \n",
       "...                        ...        ...        ...        ...        ...   \n",
       "WuXuan                0.000000   0.000000   0.000000   0.000000   0.000000   \n",
       "YongAlexanderTF       0.000000   0.000000   0.000000   0.000000   0.000000   \n",
       "YoungAmanda           0.000000   0.000000   0.000000   0.000000   0.000000   \n",
       "ZaharescuAlexandru    0.000000   0.008116   0.016231   0.000000   0.000000   \n",
       "ZharnitskyVadim       0.000000   0.000000   0.000000   0.000000   0.000000   \n",
       "\n",
       "                     MR3616493  MR2135178  MR0434929  MR0066496  MR1625181  \\\n",
       "AhlgrenScottD         0.036322   0.036322   0.036322   0.036322   0.108965   \n",
       "AlbinPierre           0.000000   0.000000   0.000000   0.000000   0.000000   \n",
       "BaloghJózsef          0.000000   0.000000   0.000000   0.000000   0.000000   \n",
       "BaryshnikovYuliyM     0.000000   0.000000   0.000000   0.000000   0.000000   \n",
       "Berwick-EvansDaniel   0.000000   0.000000   0.000000   0.000000   0.000000   \n",
       "...                        ...        ...        ...        ...        ...   \n",
       "WuXuan                0.000000   0.000000   0.000000   0.000000   0.000000   \n",
       "YongAlexanderTF       0.000000   0.000000   0.000000   0.000000   0.000000   \n",
       "YoungAmanda           0.000000   0.000000   0.000000   0.000000   0.000000   \n",
       "ZaharescuAlexandru    0.000000   0.008116   0.032462   0.008116   0.048694   \n",
       "ZharnitskyVadim       0.000000   0.000000   0.000000   0.000000   0.000000   \n",
       "\n",
       "                     ...  MR1511670  MR0350069  MR0672839  MR0394451  \\\n",
       "AhlgrenScottD        ...   0.000000        0.0        0.0   0.000000   \n",
       "AlbinPierre          ...   0.000000        0.0        0.0   0.000000   \n",
       "BaloghJózsef         ...   0.000000        0.0        0.0   0.000000   \n",
       "BaryshnikovYuliyM    ...   0.000000        0.0        0.0   0.000000   \n",
       "Berwick-EvansDaniel  ...   0.000000        0.0        0.0   0.000000   \n",
       "...                  ...        ...        ...        ...        ...   \n",
       "WuXuan               ...   0.000000        0.0        0.0   0.000000   \n",
       "YongAlexanderTF      ...   0.029450        0.0        0.0   0.000000   \n",
       "YoungAmanda          ...   0.000000        0.0        0.0   0.000000   \n",
       "ZaharescuAlexandru   ...   0.000000        0.0        0.0   0.000000   \n",
       "ZharnitskyVadim      ...   0.043033        0.0        0.0   0.043033   \n",
       "\n",
       "                     MR0107725  MR1741843  MR0778970  MR2759813  MR0415962  \\\n",
       "AhlgrenScottD         0.000000   0.000000   0.000000    0.00000   0.000000   \n",
       "AlbinPierre           0.000000   0.000000   0.000000    0.00000   0.000000   \n",
       "BaloghJózsef          0.000000   0.000000   0.000000    0.00000   0.000000   \n",
       "BaryshnikovYuliyM     0.000000   0.000000   0.000000    0.00000   0.000000   \n",
       "Berwick-EvansDaniel   0.000000   0.000000   0.000000    0.00000   0.000000   \n",
       "...                        ...        ...        ...        ...        ...   \n",
       "WuXuan                0.000000   0.000000   0.000000    0.00000   0.166667   \n",
       "YongAlexanderTF       0.000000   0.000000   0.000000    0.02945   0.000000   \n",
       "YoungAmanda           0.000000   0.000000   0.000000    0.00000   0.000000   \n",
       "ZaharescuAlexandru    0.016231   0.000000   0.000000    0.00000   0.008116   \n",
       "ZharnitskyVadim       0.000000   0.043033   0.086066    0.00000   0.000000   \n",
       "\n",
       "                     MR2172781  \n",
       "AhlgrenScottD         0.000000  \n",
       "AlbinPierre           0.000000  \n",
       "BaloghJózsef          0.000000  \n",
       "BaryshnikovYuliyM     0.000000  \n",
       "Berwick-EvansDaniel   0.000000  \n",
       "...                        ...  \n",
       "WuXuan                0.000000  \n",
       "YongAlexanderTF       0.000000  \n",
       "YoungAmanda           0.154303  \n",
       "ZaharescuAlexandru    0.008116  \n",
       "ZharnitskyVadim       0.000000  \n",
       "\n",
       "[69 rows x 3437 columns]"
      ]
     },
     "execution_count": 50,
     "metadata": {},
     "output_type": "execute_result"
    }
   ],
   "source": [
    "references_l2"
   ]
  },
  {
   "cell_type": "code",
   "execution_count": 51,
   "metadata": {},
   "outputs": [],
   "source": [
    "# Apply PCA to reduce the dimension\n",
    "\n",
    "# Choose two dimensions to project the dataset down to a plane for visualization.\n",
    "\n",
    "pca = PCA(n_components=m)\n",
    "\n",
    "# Conduct PCA on the L1-norm standardized dataset\n",
    "\n",
    "principalComponents_l1 = pca.fit_transform(references_l1)\n",
    "\n",
    "# Conduct PCA on the L2-norm standardized dataset\n",
    "\n",
    "principalComponents_l2 = pca.fit_transform(references_l2)"
   ]
  },
  {
   "cell_type": "code",
   "execution_count": 52,
   "metadata": {},
   "outputs": [
    {
     "name": "stdout",
     "output_type": "stream",
     "text": [
      "                           0         1         2         3         4   \\\n",
      "AhlgrenScottD       -0.008256 -0.004669 -0.002081 -0.011345 -0.007360   \n",
      "AlbinPierre         -0.008967 -0.004121 -0.001596 -0.011871 -0.008387   \n",
      "BaloghJózsef        -0.007660 -0.004284 -0.001843 -0.010495 -0.006593   \n",
      "BaryshnikovYuliyM   -0.008763 -0.001820  0.001032 -0.008853 -0.007105   \n",
      "Berwick-EvansDaniel -0.008731 -0.005170 -0.001841 -0.011938 -0.008076   \n",
      "...                       ...       ...       ...       ...       ...   \n",
      "WuXuan              -0.005345 -0.006141 -0.002935 -0.015337 -0.010362   \n",
      "YongAlexanderTF     -0.009339 -0.007728 -0.011161  0.002831 -0.007619   \n",
      "YoungAmanda         -0.003354 -0.007222 -0.003332 -0.019958 -0.015384   \n",
      "ZaharescuAlexandru  -0.007922 -0.004525 -0.002099 -0.010432 -0.006792   \n",
      "ZharnitskyVadim     -0.008346 -0.004696 -0.001960 -0.011764 -0.007579   \n",
      "\n",
      "                           5         6         7         8         9   ...  \\\n",
      "AhlgrenScottD       -0.004968 -0.001356 -0.004250 -0.005134 -0.003966  ...   \n",
      "AlbinPierre          0.001873 -0.001593 -0.005737  0.000062 -0.007592  ...   \n",
      "BaloghJózsef        -0.004339 -0.001266 -0.003109 -0.004675 -0.004021  ...   \n",
      "BaryshnikovYuliyM   -0.001087 -0.001181 -0.002848 -0.006060 -0.005974  ...   \n",
      "Berwick-EvansDaniel -0.005448 -0.001761 -0.005616 -0.002781 -0.001588  ...   \n",
      "...                       ...       ...       ...       ...       ...  ...   \n",
      "WuXuan              -0.008215  0.023357 -0.002175 -0.008909 -0.021912  ...   \n",
      "YongAlexanderTF     -0.003749 -0.004645 -0.011500  0.020717 -0.001315  ...   \n",
      "YoungAmanda         -0.013469 -0.078435  0.276768  0.032412  0.007304  ...   \n",
      "ZaharescuAlexandru  -0.004534 -0.001359 -0.003431 -0.004446 -0.003980  ...   \n",
      "ZharnitskyVadim     -0.005010 -0.002000 -0.002072 -0.006504 -0.007206  ...   \n",
      "\n",
      "                           20        21        22        23        24  \\\n",
      "AhlgrenScottD        0.001673  0.000194  0.001308 -0.005395  0.006979   \n",
      "AlbinPierre          0.001375 -0.002075  0.006954  0.007125  0.012731   \n",
      "BaloghJózsef         0.000784  0.001892  0.002285 -0.004195  0.004257   \n",
      "BaryshnikovYuliyM    0.003350  0.001937  0.007676  0.006563 -0.004681   \n",
      "Berwick-EvansDaniel  0.001634 -0.003708  0.007195 -0.008613  0.015106   \n",
      "...                       ...       ...       ...       ...       ...   \n",
      "WuXuan               0.002017 -0.012665 -0.003628 -0.013225 -0.009139   \n",
      "YongAlexanderTF      0.001452 -0.024916  0.010227 -0.008616 -0.019108   \n",
      "YoungAmanda         -0.000079 -0.002188 -0.003060 -0.000818 -0.000807   \n",
      "ZaharescuAlexandru   0.002838  0.002103  0.000636 -0.004452  0.007828   \n",
      "ZharnitskyVadim      0.008411 -0.004960 -0.002255  0.000629 -0.002541   \n",
      "\n",
      "                           25        26        27        28        29  \n",
      "AhlgrenScottD       -0.005453 -0.004318  0.003845 -0.005643 -0.001729  \n",
      "AlbinPierre         -0.011114  0.015712 -0.003750 -0.022709  0.007735  \n",
      "BaloghJózsef        -0.003179 -0.002858  0.004324 -0.001143 -0.000020  \n",
      "BaryshnikovYuliyM    0.000646 -0.002760  0.000056 -0.004927  0.002715  \n",
      "Berwick-EvansDaniel -0.015269  0.020276  0.018847 -0.077254 -0.031955  \n",
      "...                       ...       ...       ...       ...       ...  \n",
      "WuXuan               0.005758 -0.007477 -0.008621 -0.000992 -0.002975  \n",
      "YongAlexanderTF      0.004514 -0.001772 -0.003353  0.001795 -0.001482  \n",
      "YoungAmanda          0.001238 -0.000012 -0.001431  0.000449 -0.000097  \n",
      "ZaharescuAlexandru   0.002434 -0.002819  0.001113 -0.002156 -0.002568  \n",
      "ZharnitskyVadim      0.000212 -0.004412  0.005515  0.002311 -0.001935  \n",
      "\n",
      "[69 rows x 30 columns]\n"
     ]
    }
   ],
   "source": [
    "ref_l1_pca = pd.DataFrame(principalComponents_l1) #, columns=['PC1', 'PC2']\n",
    "ref_l1_pca.index = references_l1.index\n",
    "\n",
    "print(ref_l1_pca)"
   ]
  },
  {
   "cell_type": "code",
   "execution_count": 65,
   "metadata": {},
   "outputs": [
    {
     "name": "stdout",
     "output_type": "stream",
     "text": [
      "                           0         1         2         3         4   \\\n",
      "AhlgrenScottD       -0.053692  0.182561 -0.114419  0.043440  0.113839   \n",
      "AlbinPierre         -0.036381 -0.086861  0.041527 -0.109014  0.014908   \n",
      "BaloghJózsef        -0.002761  0.029163  0.015197 -0.011397  0.018714   \n",
      "BaryshnikovYuliyM    0.107812 -0.084580  0.060850 -0.014511  0.007792   \n",
      "Berwick-EvansDaniel -0.105215 -0.142650 -0.062094  0.046374  0.027631   \n",
      "...                       ...       ...       ...       ...       ...   \n",
      "WuXuan              -0.014339 -0.001019  0.022934 -0.001549  0.037752   \n",
      "YongAlexanderTF     -0.069485 -0.072897  0.048813  0.005474  0.039683   \n",
      "YoungAmanda          0.022073  0.006740  0.015636 -0.010388 -0.000893   \n",
      "ZaharescuAlexandru  -0.030587  0.550787 -0.281029  0.109937  0.451838   \n",
      "ZharnitskyVadim      0.381207 -0.084152 -0.033170  0.048385 -0.103011   \n",
      "\n",
      "                           5         6         7         8         9   ...  \\\n",
      "AhlgrenScottD       -0.094576 -0.053338  0.014437  0.001053 -0.026527  ...   \n",
      "AlbinPierre         -0.064849  0.007449 -0.067541 -0.029113 -0.046401  ...   \n",
      "BaloghJózsef         0.025831  0.008425  0.032923 -0.002217  0.099780  ...   \n",
      "BaryshnikovYuliyM   -0.059359  0.002442 -0.154912  0.044828  0.047067  ...   \n",
      "Berwick-EvansDaniel -0.016356  0.005179 -0.014075  0.024528 -0.165960  ...   \n",
      "...                       ...       ...       ...       ...       ...  ...   \n",
      "WuXuan               0.029524  0.009435  0.016685 -0.002443  0.148026  ...   \n",
      "YongAlexanderTF     -0.015970  0.006945 -0.043803 -0.016857  0.161877  ...   \n",
      "YoungAmanda          0.047814  0.015904  0.018879 -0.006525  0.012099  ...   \n",
      "ZaharescuAlexandru  -0.326103 -0.144481  0.033256 -0.010076 -0.096967  ...   \n",
      "ZharnitskyVadim     -0.085983 -0.016206 -0.270012  0.024969 -0.024766  ...   \n",
      "\n",
      "                           20        21        22        23        24  \\\n",
      "AhlgrenScottD       -0.039130 -0.102617 -0.184407 -0.089859 -0.050558   \n",
      "AlbinPierre         -0.063516 -0.107727 -0.160835 -0.111511 -0.213953   \n",
      "BaloghJózsef         0.034234 -0.059373  0.020778 -0.017045 -0.036120   \n",
      "BaryshnikovYuliyM    0.098663 -0.098466  0.074837  0.107901 -0.008952   \n",
      "Berwick-EvansDaniel -0.117880  0.078191 -0.295293 -0.202679 -0.185803   \n",
      "...                       ...       ...       ...       ...       ...   \n",
      "WuXuan               0.086117  0.078883  0.108950 -0.083686 -0.081056   \n",
      "YongAlexanderTF     -0.042935 -0.016244  0.138231  0.281925 -0.013610   \n",
      "YoungAmanda         -0.036544 -0.064650 -0.123914  0.003032 -0.201083   \n",
      "ZaharescuAlexandru  -0.000001 -0.040289  0.008722 -0.016459  0.014954   \n",
      "ZharnitskyVadim      0.213801  0.004545  0.020099 -0.134688 -0.027341   \n",
      "\n",
      "                           25        26        27        28        29  \n",
      "AhlgrenScottD       -0.012853 -0.266922  0.074870  0.174775  0.132133  \n",
      "AlbinPierre         -0.153961  0.169681  0.206970  0.217913 -0.174573  \n",
      "BaloghJózsef        -0.038621  0.027231 -0.007755  0.037383  0.030414  \n",
      "BaryshnikovYuliyM   -0.009575 -0.018828 -0.072855  0.195049  0.017336  \n",
      "Berwick-EvansDaniel  0.154130  0.211673  0.193277  0.060580 -0.005819  \n",
      "...                       ...       ...       ...       ...       ...  \n",
      "WuXuan              -0.026878  0.092332 -0.087105 -0.107597  0.046993  \n",
      "YongAlexanderTF      0.265272 -0.006958 -0.048926  0.290277 -0.216866  \n",
      "YoungAmanda          0.286745 -0.321211  0.261194 -0.165291  0.351336  \n",
      "ZaharescuAlexandru  -0.037347 -0.007259  0.005649  0.007621 -0.002658  \n",
      "ZharnitskyVadim     -0.009013 -0.034694 -0.016584 -0.083161  0.097558  \n",
      "\n",
      "[69 rows x 30 columns]\n"
     ]
    }
   ],
   "source": [
    "ref_l2_pca = pd.DataFrame(principalComponents_l2) #, columns=['PC1', 'PC2']\n",
    "ref_l2_pca.index = references_l2.index\n",
    "\n",
    "print(ref_l2_pca)"
   ]
  },
  {
   "cell_type": "code",
   "execution_count": 61,
   "metadata": {},
   "outputs": [],
   "source": [
    "sorted_comp_ref = pd.DataFrame()\n",
    "sorted_comp_ref = pd.concat([sorted_comp_ref, pd.DataFrame(ref_l1_pca.sort_values(by = list(range(8))).index)])\n",
    "\n",
    "sorted_comp_ref\n",
    "\n",
    "sorted_comp_ref.to_csv(\"sorted_pc_ref_L1.csv\")"
   ]
  },
  {
   "cell_type": "code",
   "execution_count": 62,
   "metadata": {},
   "outputs": [],
   "source": [
    "sorted_comp_ref_L2 = pd.DataFrame()\n",
    "sorted_comp_ref_L2 = pd.concat([sorted_comp_ref_L2, pd.DataFrame(ref_l2_pca.sort_values(by = list(range(8))).index)])\n",
    "\n",
    "sorted_comp_ref_L2\n",
    "\n",
    "sorted_comp_ref_L2.to_csv(\"sorted_pc_ref_L2.csv\")"
   ]
  },
  {
   "cell_type": "code",
   "execution_count": 63,
   "metadata": {},
   "outputs": [],
   "source": [
    "sorted_comp_ref_dn = pd.DataFrame()\n",
    "i = range(8)\n",
    "\n",
    "for n in i:\n",
    "    sorted_comp_ref_dn[n] = pd.DataFrame(ref_l1_pca.sort_values(by = n)).index\n",
    "\n",
    "\n",
    "sorted_comp_ref_dn\n",
    "\n",
    "sorted_comp_ref_dn.to_csv(\"sorted_pc_ref_L1_dn.csv\")\n"
   ]
  },
  {
   "cell_type": "code",
   "execution_count": 64,
   "metadata": {},
   "outputs": [],
   "source": [
    "sorted_comp_ref_L2_dn = pd.DataFrame()\n",
    "i = range(8)\n",
    "\n",
    "for n in i:\n",
    "    sorted_comp_ref_L2_dn[n] = pd.DataFrame(ref_l2_pca.sort_values(by = n)).index\n",
    "\n",
    "\n",
    "sorted_comp_ref_L2_dn\n",
    "\n",
    "sorted_comp_ref_L2_dn.to_csv(\"sorted_pc_ref_L2_dn.csv\")"
   ]
  },
  {
   "cell_type": "code",
   "execution_count": 19,
   "metadata": {},
   "outputs": [
    {
     "ename": "ValueError",
     "evalue": "Value of 'x' is not the name of a column in 'data_frame'. Expected one of [0, 1, 2, 3, 4, 5, 6, 7, 8, 9, 10, 11, 12, 13, 14, 15, 16, 17, 18, 19, 20, 21, 22, 23, 24, 25, 26, 27, 28, 29] but received: PC1",
     "output_type": "error",
     "traceback": [
      "\u001b[1;31m---------------------------------------------------------------------------\u001b[0m",
      "\u001b[1;31mValueError\u001b[0m                                Traceback (most recent call last)",
      "\u001b[1;32mc:\\Users\\adamw\\Downloads\\Deep_Structure\\Clustering\\new_stuff\\full.ipynb Cell 20\u001b[0m line \u001b[0;36m3\n\u001b[0;32m      <a href='vscode-notebook-cell:/c%3A/Users/adamw/Downloads/Deep_Structure/Clustering/new_stuff/full.ipynb#X25sZmlsZQ%3D%3D?line=0'>1</a>\u001b[0m \u001b[39m# Create the scatter plot with hover information\u001b[39;00m\n\u001b[1;32m----> <a href='vscode-notebook-cell:/c%3A/Users/adamw/Downloads/Deep_Structure/Clustering/new_stuff/full.ipynb#X25sZmlsZQ%3D%3D?line=2'>3</a>\u001b[0m fig_l1 \u001b[39m=\u001b[39m px\u001b[39m.\u001b[39;49mscatter(ref_l1_pca, x\u001b[39m=\u001b[39;49m\u001b[39m'\u001b[39;49m\u001b[39mPC1\u001b[39;49m\u001b[39m'\u001b[39;49m, y\u001b[39m=\u001b[39;49m\u001b[39m'\u001b[39;49m\u001b[39mPC2\u001b[39;49m\u001b[39m'\u001b[39;49m, hover_name\u001b[39m=\u001b[39;49mref_l1_pca\u001b[39m.\u001b[39;49mindex)\n\u001b[0;32m      <a href='vscode-notebook-cell:/c%3A/Users/adamw/Downloads/Deep_Structure/Clustering/new_stuff/full.ipynb#X25sZmlsZQ%3D%3D?line=3'>4</a>\u001b[0m fig_l1\u001b[39m.\u001b[39mupdate_traces(marker\u001b[39m=\u001b[39m\u001b[39mdict\u001b[39m(size\u001b[39m=\u001b[39m\u001b[39m5\u001b[39m))\n\u001b[0;32m      <a href='vscode-notebook-cell:/c%3A/Users/adamw/Downloads/Deep_Structure/Clustering/new_stuff/full.ipynb#X25sZmlsZQ%3D%3D?line=4'>5</a>\u001b[0m fig_l1\u001b[39m.\u001b[39mshow()\n",
      "File \u001b[1;32mc:\\Users\\adamw\\AppData\\Local\\Programs\\Python\\Python311\\Lib\\site-packages\\plotly\\express\\_chart_types.py:66\u001b[0m, in \u001b[0;36mscatter\u001b[1;34m(data_frame, x, y, color, symbol, size, hover_name, hover_data, custom_data, text, facet_row, facet_col, facet_col_wrap, facet_row_spacing, facet_col_spacing, error_x, error_x_minus, error_y, error_y_minus, animation_frame, animation_group, category_orders, labels, orientation, color_discrete_sequence, color_discrete_map, color_continuous_scale, range_color, color_continuous_midpoint, symbol_sequence, symbol_map, opacity, size_max, marginal_x, marginal_y, trendline, trendline_options, trendline_color_override, trendline_scope, log_x, log_y, range_x, range_y, render_mode, title, template, width, height)\u001b[0m\n\u001b[0;32m     12\u001b[0m \u001b[39mdef\u001b[39;00m \u001b[39mscatter\u001b[39m(\n\u001b[0;32m     13\u001b[0m     data_frame\u001b[39m=\u001b[39m\u001b[39mNone\u001b[39;00m,\n\u001b[0;32m     14\u001b[0m     x\u001b[39m=\u001b[39m\u001b[39mNone\u001b[39;00m,\n\u001b[1;32m   (...)\u001b[0m\n\u001b[0;32m     60\u001b[0m     height\u001b[39m=\u001b[39m\u001b[39mNone\u001b[39;00m,\n\u001b[0;32m     61\u001b[0m ) \u001b[39m-\u001b[39m\u001b[39m>\u001b[39m go\u001b[39m.\u001b[39mFigure:\n\u001b[0;32m     62\u001b[0m \u001b[39m    \u001b[39m\u001b[39m\"\"\"\u001b[39;00m\n\u001b[0;32m     63\u001b[0m \u001b[39m    In a scatter plot, each row of `data_frame` is represented by a symbol\u001b[39;00m\n\u001b[0;32m     64\u001b[0m \u001b[39m    mark in 2D space.\u001b[39;00m\n\u001b[0;32m     65\u001b[0m \u001b[39m    \"\"\"\u001b[39;00m\n\u001b[1;32m---> 66\u001b[0m     \u001b[39mreturn\u001b[39;00m make_figure(args\u001b[39m=\u001b[39;49m\u001b[39mlocals\u001b[39;49m(), constructor\u001b[39m=\u001b[39;49mgo\u001b[39m.\u001b[39;49mScatter)\n",
      "File \u001b[1;32mc:\\Users\\adamw\\AppData\\Local\\Programs\\Python\\Python311\\Lib\\site-packages\\plotly\\express\\_core.py:2076\u001b[0m, in \u001b[0;36mmake_figure\u001b[1;34m(args, constructor, trace_patch, layout_patch)\u001b[0m\n\u001b[0;32m   2073\u001b[0m layout_patch \u001b[39m=\u001b[39m layout_patch \u001b[39mor\u001b[39;00m {}\n\u001b[0;32m   2074\u001b[0m apply_default_cascade(args)\n\u001b[1;32m-> 2076\u001b[0m args \u001b[39m=\u001b[39m build_dataframe(args, constructor)\n\u001b[0;32m   2077\u001b[0m \u001b[39mif\u001b[39;00m constructor \u001b[39min\u001b[39;00m [go\u001b[39m.\u001b[39mTreemap, go\u001b[39m.\u001b[39mSunburst, go\u001b[39m.\u001b[39mIcicle] \u001b[39mand\u001b[39;00m args[\u001b[39m\"\u001b[39m\u001b[39mpath\u001b[39m\u001b[39m\"\u001b[39m] \u001b[39mis\u001b[39;00m \u001b[39mnot\u001b[39;00m \u001b[39mNone\u001b[39;00m:\n\u001b[0;32m   2078\u001b[0m     args \u001b[39m=\u001b[39m process_dataframe_hierarchy(args)\n",
      "File \u001b[1;32mc:\\Users\\adamw\\AppData\\Local\\Programs\\Python\\Python311\\Lib\\site-packages\\plotly\\express\\_core.py:1485\u001b[0m, in \u001b[0;36mbuild_dataframe\u001b[1;34m(args, constructor)\u001b[0m\n\u001b[0;32m   1482\u001b[0m     args[\u001b[39m\"\u001b[39m\u001b[39mcolor\u001b[39m\u001b[39m\"\u001b[39m] \u001b[39m=\u001b[39m \u001b[39mNone\u001b[39;00m\n\u001b[0;32m   1483\u001b[0m \u001b[39m# now that things have been prepped, we do the systematic rewriting of `args`\u001b[39;00m\n\u001b[1;32m-> 1485\u001b[0m df_output, wide_id_vars \u001b[39m=\u001b[39m process_args_into_dataframe(\n\u001b[0;32m   1486\u001b[0m     args, wide_mode, var_name, value_name\n\u001b[0;32m   1487\u001b[0m )\n\u001b[0;32m   1489\u001b[0m \u001b[39m# now that `df_output` exists and `args` contains only references, we complete\u001b[39;00m\n\u001b[0;32m   1490\u001b[0m \u001b[39m# the special-case and wide-mode handling by further rewriting args and/or mutating\u001b[39;00m\n\u001b[0;32m   1491\u001b[0m \u001b[39m# df_output\u001b[39;00m\n\u001b[0;32m   1493\u001b[0m count_name \u001b[39m=\u001b[39m _escape_col_name(df_output, \u001b[39m\"\u001b[39m\u001b[39mcount\u001b[39m\u001b[39m\"\u001b[39m, [var_name, value_name])\n",
      "File \u001b[1;32mc:\\Users\\adamw\\AppData\\Local\\Programs\\Python\\Python311\\Lib\\site-packages\\plotly\\express\\_core.py:1210\u001b[0m, in \u001b[0;36mprocess_args_into_dataframe\u001b[1;34m(args, wide_mode, var_name, value_name)\u001b[0m\n\u001b[0;32m   1208\u001b[0m         \u001b[39mif\u001b[39;00m argument \u001b[39m==\u001b[39m \u001b[39m\"\u001b[39m\u001b[39mindex\u001b[39m\u001b[39m\"\u001b[39m:\n\u001b[0;32m   1209\u001b[0m             err_msg \u001b[39m+\u001b[39m\u001b[39m=\u001b[39m \u001b[39m\"\u001b[39m\u001b[39m\\n\u001b[39;00m\u001b[39m To use the index, pass it in directly as `df.index`.\u001b[39m\u001b[39m\"\u001b[39m\n\u001b[1;32m-> 1210\u001b[0m         \u001b[39mraise\u001b[39;00m \u001b[39mValueError\u001b[39;00m(err_msg)\n\u001b[0;32m   1211\u001b[0m \u001b[39melif\u001b[39;00m length \u001b[39mand\u001b[39;00m \u001b[39mlen\u001b[39m(df_input[argument]) \u001b[39m!=\u001b[39m length:\n\u001b[0;32m   1212\u001b[0m     \u001b[39mraise\u001b[39;00m \u001b[39mValueError\u001b[39;00m(\n\u001b[0;32m   1213\u001b[0m         \u001b[39m\"\u001b[39m\u001b[39mAll arguments should have the same length. \u001b[39m\u001b[39m\"\u001b[39m\n\u001b[0;32m   1214\u001b[0m         \u001b[39m\"\u001b[39m\u001b[39mThe length of column argument `df[\u001b[39m\u001b[39m%s\u001b[39;00m\u001b[39m]` is \u001b[39m\u001b[39m%d\u001b[39;00m\u001b[39m, whereas the \u001b[39m\u001b[39m\"\u001b[39m\n\u001b[1;32m   (...)\u001b[0m\n\u001b[0;32m   1221\u001b[0m         )\n\u001b[0;32m   1222\u001b[0m     )\n",
      "\u001b[1;31mValueError\u001b[0m: Value of 'x' is not the name of a column in 'data_frame'. Expected one of [0, 1, 2, 3, 4, 5, 6, 7, 8, 9, 10, 11, 12, 13, 14, 15, 16, 17, 18, 19, 20, 21, 22, 23, 24, 25, 26, 27, 28, 29] but received: PC1"
     ]
    }
   ],
   "source": [
    "\n",
    "\n",
    "# Create the scatter plot with hover information\n",
    "\n",
    "fig_l1 = px.scatter(ref_l1_pca, x='PC1', y='PC2', hover_name=ref_l1_pca.index)\n",
    "fig_l1.update_traces(marker=dict(size=5))\n",
    "fig_l1.show()"
   ]
  },
  {
   "cell_type": "code",
   "execution_count": null,
   "metadata": {},
   "outputs": [
    {
     "data": {
      "application/vnd.plotly.v1+json": {
       "config": {
        "plotlyServerURL": "https://plot.ly"
       },
       "data": [
        {
         "hovertemplate": "<b>%{hovertext}</b><br><br>PC1=%{x}<br>PC2=%{y}<extra></extra>",
         "hovertext": [
          "AhlgrenScottD",
          "AlbinPierre",
          "BaloghJózsef",
          "BaryshnikovYuliyM",
          "Berwick-EvansDaniel",
          "BocaFlorin-Petre",
          "BradlowStevenBenjamin",
          "BronskiJaredC",
          "CooneyDanielB",
          "DeVilleRELee",
          "DeyParthaSarathi",
          "DiFrancescoPhilippe",
          "DoddChristopher",
          "DunfieldNathanM",
          "DuttaSankarPrasad",
          "DuursmaIwanMaynard",
          "ErdoğanMehmetBurak",
          "FengRunhuan",
          "FernandesRuiLoja",
          "FordKevinB",
          "HellerJeremiahBen",
          "HinkkanenAimo",
          "HiraniAnilN",
          "HungPei-Ken",
          "HurVeraMikyoung",
          "IvanovSergeiVladimirovich",
          "JandaFelix",
          "JingXiaochen",
          "JungeMarius",
          "KatzSheldonH",
          "KedemRinat",
          "KermanEly",
          "KirkpatrickKayLene",
          "KirrEduard",
          "KostochkaAlexandrV",
          "KutzarovaDenkaN",
          "LaNaveGabriele",
          "LaugesenRichardSnyder",
          "LeditzkyFelix",
          "LermanEugeneM",
          "LiXiaochun",
          "LiuYuan",
          "McCarthyRandy",
          "MineyevIgor",
          "NikolaevIgorG",
          "OikhbergTimur",
          "PascaleffJamesThomas",
          "RaptiZoi",
          "RasmussenJacob",
          "RasmussenSarahDean",
          "RezkCharlesW",
          "ReznickBruce",
          "SongRenming",
          "SowersRichardB",
          "StojanoskaVesna",
          "ThornerJesse",
          "TolmanSusan",
          "TumanovAlexander",
          "TysonJeremyT",
          "TzirakisNikolaos",
          "WuXuan",
          "YongAlexanderTF",
          "YoungAmanda",
          "ZaharescuAlexandru",
          "ZharnitskyVadim"
         ],
         "legendgroup": "",
         "marker": {
          "color": "#636efa",
          "size": 5,
          "symbol": "circle"
         },
         "mode": "markers",
         "name": "",
         "orientation": "v",
         "showlegend": false,
         "type": "scatter",
         "x": [
          -0.0082559082213655,
          -0.008966892127879668,
          -0.007660079306097728,
          -0.008763476840595164,
          -0.00873102631084507,
          -0.007848896485133521,
          -0.010079017861741075,
          -0.007891520452275046,
          -0.017656426827115178,
          -0.0075761403530775,
          -0.008674329668110346,
          -0.008052465794016712,
          -0.012565402300953585,
          -0.009087295863556001,
          -0.028540581365240004,
          -0.011466413772724978,
          -0.008161269545669652,
          -0.0055655413151509655,
          -0.009477326904947675,
          -0.007863824671398897,
          -0.008916416201919037,
          -0.008485397445609917,
          -0.009096004751585294,
          -0.018811433934565917,
          -0.008138179431780346,
          -0.011156631264379198,
          -0.010002360332252916,
          -0.0034696753810200256,
          -0.007954165681605034,
          -0.01018977968790267,
          -0.00803640751941949,
          -0.009131280005438822,
          -0.008297234723316116,
          -0.008671100373898006,
          -0.007754598149556428,
          -0.008020772582530668,
          -0.010810399298873636,
          -0.007520987699082582,
          -0.008197307007204746,
          -0.008485836129947135,
          -0.009188929548731066,
          -0.009723448890834091,
          -0.010773581285424648,
          -0.010384334889775767,
          -0.027352358012514334,
          -0.008033459223520339,
          -0.009792687934155367,
          -0.007917070519604674,
          -0.008375016149914987,
          -0.008603215757575314,
          -0.00882205933622883,
          -0.008665002599036761,
          -0.008475399557887094,
          -0.0030113342053029227,
          -0.009161303932130101,
          -0.00821509445255997,
          -0.00892468018237287,
          -0.009649392777649835,
          -0.009565429847804502,
          -0.008223627559501992,
          -0.005345559997403937,
          -0.009339025062584869,
          -0.003354262196091076,
          -0.00792148281518962,
          -0.008346123760150592
         ],
         "xaxis": "x",
         "y": [
          -0.004668767855855874,
          -0.004121149300898675,
          -0.004283724689835386,
          -0.0018203045949687637,
          -0.005169939437704878,
          -0.004342282109266635,
          -0.006997842367806973,
          -0.004393419198169978,
          -0.018462517941741568,
          -0.004366967770243988,
          -0.005168923500286923,
          -0.0044967075322514885,
          -0.016380224465661147,
          0.004237020263020115,
          -0.08057216457538303,
          -0.011016614721499297,
          -0.004580040586957417,
          -0.0048749908186273465,
          -0.00574415194433962,
          -0.004341591389111402,
          -0.005568274589413046,
          -0.004590834302247738,
          -0.005241679986060475,
          0.0788015632596044,
          -0.0045742916070106365,
          0.020775152564295168,
          -0.00708688543584368,
          -0.004671531245601691,
          -0.004490874414207422,
          -0.009518019210730555,
          -0.004490502807736159,
          -0.005435530828609494,
          -0.004708306887374041,
          -0.004979124319739506,
          -0.004255515337995739,
          -0.0044601434062373465,
          -0.008368402182327725,
          -0.005306836156797658,
          -0.004705826365955846,
          -0.005039493911908246,
          -0.005403033882480219,
          -0.005407914377553327,
          -0.007616990173192706,
          0.004257161579697641,
          -0.07762180702671614,
          -0.004476697550289307,
          -0.007027777143537029,
          -0.004427758598786087,
          -0.004741485046144729,
          -0.0046573695582032655,
          -0.005296608388696873,
          -0.004967991495407877,
          -0.004927860257619255,
          -0.005151473712414623,
          -0.006227748085840413,
          -0.004617767150107791,
          -0.005380292841223851,
          -0.005881018551062933,
          -0.005178386139694018,
          -0.004379301868405465,
          -0.00613902760735685,
          -0.007728517207798647,
          -0.007221937440395521,
          -0.004524878711331004,
          -0.004696294064402195
         ],
         "yaxis": "y"
        }
       ],
       "layout": {
        "legend": {
         "tracegroupgap": 0
        },
        "margin": {
         "t": 60
        },
        "template": {
         "data": {
          "bar": [
           {
            "error_x": {
             "color": "#2a3f5f"
            },
            "error_y": {
             "color": "#2a3f5f"
            },
            "marker": {
             "line": {
              "color": "#E5ECF6",
              "width": 0.5
             },
             "pattern": {
              "fillmode": "overlay",
              "size": 10,
              "solidity": 0.2
             }
            },
            "type": "bar"
           }
          ],
          "barpolar": [
           {
            "marker": {
             "line": {
              "color": "#E5ECF6",
              "width": 0.5
             },
             "pattern": {
              "fillmode": "overlay",
              "size": 10,
              "solidity": 0.2
             }
            },
            "type": "barpolar"
           }
          ],
          "carpet": [
           {
            "aaxis": {
             "endlinecolor": "#2a3f5f",
             "gridcolor": "white",
             "linecolor": "white",
             "minorgridcolor": "white",
             "startlinecolor": "#2a3f5f"
            },
            "baxis": {
             "endlinecolor": "#2a3f5f",
             "gridcolor": "white",
             "linecolor": "white",
             "minorgridcolor": "white",
             "startlinecolor": "#2a3f5f"
            },
            "type": "carpet"
           }
          ],
          "choropleth": [
           {
            "colorbar": {
             "outlinewidth": 0,
             "ticks": ""
            },
            "type": "choropleth"
           }
          ],
          "contour": [
           {
            "colorbar": {
             "outlinewidth": 0,
             "ticks": ""
            },
            "colorscale": [
             [
              0,
              "#0d0887"
             ],
             [
              0.1111111111111111,
              "#46039f"
             ],
             [
              0.2222222222222222,
              "#7201a8"
             ],
             [
              0.3333333333333333,
              "#9c179e"
             ],
             [
              0.4444444444444444,
              "#bd3786"
             ],
             [
              0.5555555555555556,
              "#d8576b"
             ],
             [
              0.6666666666666666,
              "#ed7953"
             ],
             [
              0.7777777777777778,
              "#fb9f3a"
             ],
             [
              0.8888888888888888,
              "#fdca26"
             ],
             [
              1,
              "#f0f921"
             ]
            ],
            "type": "contour"
           }
          ],
          "contourcarpet": [
           {
            "colorbar": {
             "outlinewidth": 0,
             "ticks": ""
            },
            "type": "contourcarpet"
           }
          ],
          "heatmap": [
           {
            "colorbar": {
             "outlinewidth": 0,
             "ticks": ""
            },
            "colorscale": [
             [
              0,
              "#0d0887"
             ],
             [
              0.1111111111111111,
              "#46039f"
             ],
             [
              0.2222222222222222,
              "#7201a8"
             ],
             [
              0.3333333333333333,
              "#9c179e"
             ],
             [
              0.4444444444444444,
              "#bd3786"
             ],
             [
              0.5555555555555556,
              "#d8576b"
             ],
             [
              0.6666666666666666,
              "#ed7953"
             ],
             [
              0.7777777777777778,
              "#fb9f3a"
             ],
             [
              0.8888888888888888,
              "#fdca26"
             ],
             [
              1,
              "#f0f921"
             ]
            ],
            "type": "heatmap"
           }
          ],
          "heatmapgl": [
           {
            "colorbar": {
             "outlinewidth": 0,
             "ticks": ""
            },
            "colorscale": [
             [
              0,
              "#0d0887"
             ],
             [
              0.1111111111111111,
              "#46039f"
             ],
             [
              0.2222222222222222,
              "#7201a8"
             ],
             [
              0.3333333333333333,
              "#9c179e"
             ],
             [
              0.4444444444444444,
              "#bd3786"
             ],
             [
              0.5555555555555556,
              "#d8576b"
             ],
             [
              0.6666666666666666,
              "#ed7953"
             ],
             [
              0.7777777777777778,
              "#fb9f3a"
             ],
             [
              0.8888888888888888,
              "#fdca26"
             ],
             [
              1,
              "#f0f921"
             ]
            ],
            "type": "heatmapgl"
           }
          ],
          "histogram": [
           {
            "marker": {
             "pattern": {
              "fillmode": "overlay",
              "size": 10,
              "solidity": 0.2
             }
            },
            "type": "histogram"
           }
          ],
          "histogram2d": [
           {
            "colorbar": {
             "outlinewidth": 0,
             "ticks": ""
            },
            "colorscale": [
             [
              0,
              "#0d0887"
             ],
             [
              0.1111111111111111,
              "#46039f"
             ],
             [
              0.2222222222222222,
              "#7201a8"
             ],
             [
              0.3333333333333333,
              "#9c179e"
             ],
             [
              0.4444444444444444,
              "#bd3786"
             ],
             [
              0.5555555555555556,
              "#d8576b"
             ],
             [
              0.6666666666666666,
              "#ed7953"
             ],
             [
              0.7777777777777778,
              "#fb9f3a"
             ],
             [
              0.8888888888888888,
              "#fdca26"
             ],
             [
              1,
              "#f0f921"
             ]
            ],
            "type": "histogram2d"
           }
          ],
          "histogram2dcontour": [
           {
            "colorbar": {
             "outlinewidth": 0,
             "ticks": ""
            },
            "colorscale": [
             [
              0,
              "#0d0887"
             ],
             [
              0.1111111111111111,
              "#46039f"
             ],
             [
              0.2222222222222222,
              "#7201a8"
             ],
             [
              0.3333333333333333,
              "#9c179e"
             ],
             [
              0.4444444444444444,
              "#bd3786"
             ],
             [
              0.5555555555555556,
              "#d8576b"
             ],
             [
              0.6666666666666666,
              "#ed7953"
             ],
             [
              0.7777777777777778,
              "#fb9f3a"
             ],
             [
              0.8888888888888888,
              "#fdca26"
             ],
             [
              1,
              "#f0f921"
             ]
            ],
            "type": "histogram2dcontour"
           }
          ],
          "mesh3d": [
           {
            "colorbar": {
             "outlinewidth": 0,
             "ticks": ""
            },
            "type": "mesh3d"
           }
          ],
          "parcoords": [
           {
            "line": {
             "colorbar": {
              "outlinewidth": 0,
              "ticks": ""
             }
            },
            "type": "parcoords"
           }
          ],
          "pie": [
           {
            "automargin": true,
            "type": "pie"
           }
          ],
          "scatter": [
           {
            "fillpattern": {
             "fillmode": "overlay",
             "size": 10,
             "solidity": 0.2
            },
            "type": "scatter"
           }
          ],
          "scatter3d": [
           {
            "line": {
             "colorbar": {
              "outlinewidth": 0,
              "ticks": ""
             }
            },
            "marker": {
             "colorbar": {
              "outlinewidth": 0,
              "ticks": ""
             }
            },
            "type": "scatter3d"
           }
          ],
          "scattercarpet": [
           {
            "marker": {
             "colorbar": {
              "outlinewidth": 0,
              "ticks": ""
             }
            },
            "type": "scattercarpet"
           }
          ],
          "scattergeo": [
           {
            "marker": {
             "colorbar": {
              "outlinewidth": 0,
              "ticks": ""
             }
            },
            "type": "scattergeo"
           }
          ],
          "scattergl": [
           {
            "marker": {
             "colorbar": {
              "outlinewidth": 0,
              "ticks": ""
             }
            },
            "type": "scattergl"
           }
          ],
          "scattermapbox": [
           {
            "marker": {
             "colorbar": {
              "outlinewidth": 0,
              "ticks": ""
             }
            },
            "type": "scattermapbox"
           }
          ],
          "scatterpolar": [
           {
            "marker": {
             "colorbar": {
              "outlinewidth": 0,
              "ticks": ""
             }
            },
            "type": "scatterpolar"
           }
          ],
          "scatterpolargl": [
           {
            "marker": {
             "colorbar": {
              "outlinewidth": 0,
              "ticks": ""
             }
            },
            "type": "scatterpolargl"
           }
          ],
          "scatterternary": [
           {
            "marker": {
             "colorbar": {
              "outlinewidth": 0,
              "ticks": ""
             }
            },
            "type": "scatterternary"
           }
          ],
          "surface": [
           {
            "colorbar": {
             "outlinewidth": 0,
             "ticks": ""
            },
            "colorscale": [
             [
              0,
              "#0d0887"
             ],
             [
              0.1111111111111111,
              "#46039f"
             ],
             [
              0.2222222222222222,
              "#7201a8"
             ],
             [
              0.3333333333333333,
              "#9c179e"
             ],
             [
              0.4444444444444444,
              "#bd3786"
             ],
             [
              0.5555555555555556,
              "#d8576b"
             ],
             [
              0.6666666666666666,
              "#ed7953"
             ],
             [
              0.7777777777777778,
              "#fb9f3a"
             ],
             [
              0.8888888888888888,
              "#fdca26"
             ],
             [
              1,
              "#f0f921"
             ]
            ],
            "type": "surface"
           }
          ],
          "table": [
           {
            "cells": {
             "fill": {
              "color": "#EBF0F8"
             },
             "line": {
              "color": "white"
             }
            },
            "header": {
             "fill": {
              "color": "#C8D4E3"
             },
             "line": {
              "color": "white"
             }
            },
            "type": "table"
           }
          ]
         },
         "layout": {
          "annotationdefaults": {
           "arrowcolor": "#2a3f5f",
           "arrowhead": 0,
           "arrowwidth": 1
          },
          "autotypenumbers": "strict",
          "coloraxis": {
           "colorbar": {
            "outlinewidth": 0,
            "ticks": ""
           }
          },
          "colorscale": {
           "diverging": [
            [
             0,
             "#8e0152"
            ],
            [
             0.1,
             "#c51b7d"
            ],
            [
             0.2,
             "#de77ae"
            ],
            [
             0.3,
             "#f1b6da"
            ],
            [
             0.4,
             "#fde0ef"
            ],
            [
             0.5,
             "#f7f7f7"
            ],
            [
             0.6,
             "#e6f5d0"
            ],
            [
             0.7,
             "#b8e186"
            ],
            [
             0.8,
             "#7fbc41"
            ],
            [
             0.9,
             "#4d9221"
            ],
            [
             1,
             "#276419"
            ]
           ],
           "sequential": [
            [
             0,
             "#0d0887"
            ],
            [
             0.1111111111111111,
             "#46039f"
            ],
            [
             0.2222222222222222,
             "#7201a8"
            ],
            [
             0.3333333333333333,
             "#9c179e"
            ],
            [
             0.4444444444444444,
             "#bd3786"
            ],
            [
             0.5555555555555556,
             "#d8576b"
            ],
            [
             0.6666666666666666,
             "#ed7953"
            ],
            [
             0.7777777777777778,
             "#fb9f3a"
            ],
            [
             0.8888888888888888,
             "#fdca26"
            ],
            [
             1,
             "#f0f921"
            ]
           ],
           "sequentialminus": [
            [
             0,
             "#0d0887"
            ],
            [
             0.1111111111111111,
             "#46039f"
            ],
            [
             0.2222222222222222,
             "#7201a8"
            ],
            [
             0.3333333333333333,
             "#9c179e"
            ],
            [
             0.4444444444444444,
             "#bd3786"
            ],
            [
             0.5555555555555556,
             "#d8576b"
            ],
            [
             0.6666666666666666,
             "#ed7953"
            ],
            [
             0.7777777777777778,
             "#fb9f3a"
            ],
            [
             0.8888888888888888,
             "#fdca26"
            ],
            [
             1,
             "#f0f921"
            ]
           ]
          },
          "colorway": [
           "#636efa",
           "#EF553B",
           "#00cc96",
           "#ab63fa",
           "#FFA15A",
           "#19d3f3",
           "#FF6692",
           "#B6E880",
           "#FF97FF",
           "#FECB52"
          ],
          "font": {
           "color": "#2a3f5f"
          },
          "geo": {
           "bgcolor": "white",
           "lakecolor": "white",
           "landcolor": "#E5ECF6",
           "showlakes": true,
           "showland": true,
           "subunitcolor": "white"
          },
          "hoverlabel": {
           "align": "left"
          },
          "hovermode": "closest",
          "mapbox": {
           "style": "light"
          },
          "paper_bgcolor": "white",
          "plot_bgcolor": "#E5ECF6",
          "polar": {
           "angularaxis": {
            "gridcolor": "white",
            "linecolor": "white",
            "ticks": ""
           },
           "bgcolor": "#E5ECF6",
           "radialaxis": {
            "gridcolor": "white",
            "linecolor": "white",
            "ticks": ""
           }
          },
          "scene": {
           "xaxis": {
            "backgroundcolor": "#E5ECF6",
            "gridcolor": "white",
            "gridwidth": 2,
            "linecolor": "white",
            "showbackground": true,
            "ticks": "",
            "zerolinecolor": "white"
           },
           "yaxis": {
            "backgroundcolor": "#E5ECF6",
            "gridcolor": "white",
            "gridwidth": 2,
            "linecolor": "white",
            "showbackground": true,
            "ticks": "",
            "zerolinecolor": "white"
           },
           "zaxis": {
            "backgroundcolor": "#E5ECF6",
            "gridcolor": "white",
            "gridwidth": 2,
            "linecolor": "white",
            "showbackground": true,
            "ticks": "",
            "zerolinecolor": "white"
           }
          },
          "shapedefaults": {
           "line": {
            "color": "#2a3f5f"
           }
          },
          "ternary": {
           "aaxis": {
            "gridcolor": "white",
            "linecolor": "white",
            "ticks": ""
           },
           "baxis": {
            "gridcolor": "white",
            "linecolor": "white",
            "ticks": ""
           },
           "bgcolor": "#E5ECF6",
           "caxis": {
            "gridcolor": "white",
            "linecolor": "white",
            "ticks": ""
           }
          },
          "title": {
           "x": 0.05
          },
          "xaxis": {
           "automargin": true,
           "gridcolor": "white",
           "linecolor": "white",
           "ticks": "",
           "title": {
            "standoff": 15
           },
           "zerolinecolor": "white",
           "zerolinewidth": 2
          },
          "yaxis": {
           "automargin": true,
           "gridcolor": "white",
           "linecolor": "white",
           "ticks": "",
           "title": {
            "standoff": 15
           },
           "zerolinecolor": "white",
           "zerolinewidth": 2
          }
         }
        },
        "xaxis": {
         "anchor": "y",
         "domain": [
          0,
          1
         ],
         "title": {
          "text": "PC1"
         }
        },
        "yaxis": {
         "anchor": "x",
         "domain": [
          0,
          1
         ],
         "title": {
          "text": "PC2"
         }
        }
       }
      }
     },
     "metadata": {},
     "output_type": "display_data"
    }
   ],
   "source": [
    "#from above plot, we can observe that professor GuzmanRosemary and QuanZhiyu are obvious outliers.\n",
    "#So we remove them and regenerate the plot\n",
    "new_l1_pca = ref_l1_pca.drop(['GuzmanRosemaryK','FadinaTolulope', 'WeiWei', 'HaboushWilliamJ'])\n",
    "fig_newl1 = px.scatter(new_l1_pca, x='PC1', y='PC2', hover_name=new_l1_pca.index)\n",
    "fig_newl1.update_traces(marker=dict(size=5))\n",
    "fig_newl1.show()\n",
    " "
   ]
  },
  {
   "cell_type": "code",
   "execution_count": null,
   "metadata": {},
   "outputs": [
    {
     "data": {
      "application/vnd.plotly.v1+json": {
       "config": {
        "plotlyServerURL": "https://plot.ly"
       },
       "data": [
        {
         "hovertemplate": "<b>%{hovertext}</b><br><br>PC1=%{x}<br>PC2=%{y}<extra></extra>",
         "hovertext": [
          "AhlgrenScottD",
          "AlbinPierre",
          "BaloghJózsef",
          "BaryshnikovYuliyM",
          "Berwick-EvansDaniel",
          "BocaFlorin-Petre",
          "BradlowStevenBenjamin",
          "BronskiJaredC",
          "CooneyDanielB",
          "DeVilleRELee",
          "DeyParthaSarathi",
          "DiFrancescoPhilippe",
          "DoddChristopher",
          "DunfieldNathanM",
          "DuttaSankarPrasad",
          "DuursmaIwanMaynard",
          "ErdoğanMehmetBurak",
          "FadinaTolulope",
          "FengRunhuan",
          "FernandesRuiLoja",
          "FordKevinB",
          "GuzmanRosemaryK",
          "HaboushWilliamJ",
          "HellerJeremiahBen",
          "HinkkanenAimo",
          "HiraniAnilN",
          "HungPei-Ken",
          "HurVeraMikyoung",
          "IvanovSergeiVladimirovich",
          "JandaFelix",
          "JingXiaochen",
          "JungeMarius",
          "KatzSheldonH",
          "KedemRinat",
          "KermanEly",
          "KirkpatrickKayLene",
          "KirrEduard",
          "KostochkaAlexandrV",
          "KutzarovaDenkaN",
          "LaNaveGabriele",
          "LaugesenRichardSnyder",
          "LeditzkyFelix",
          "LermanEugeneM",
          "LiXiaochun",
          "LiuYuan",
          "McCarthyRandy",
          "MineyevIgor",
          "NikolaevIgorG",
          "OikhbergTimur",
          "PascaleffJamesThomas",
          "RaptiZoi",
          "RasmussenJacob",
          "RasmussenSarahDean",
          "RezkCharlesW",
          "ReznickBruce",
          "SongRenming",
          "SowersRichardB",
          "StojanoskaVesna",
          "ThornerJesse",
          "TolmanSusan",
          "TumanovAlexander",
          "TysonJeremyT",
          "TzirakisNikolaos",
          "WeiWei",
          "WuXuan",
          "YongAlexanderTF",
          "YoungAmanda",
          "ZaharescuAlexandru",
          "ZharnitskyVadim"
         ],
         "legendgroup": "",
         "marker": {
          "color": "#636efa",
          "size": 5,
          "symbol": "circle"
         },
         "mode": "markers",
         "name": "",
         "orientation": "v",
         "showlegend": false,
         "type": "scatter",
         "x": [
          -0.03802328963827995,
          -0.03503692120161212,
          -0.009963812952521904,
          0.12093141961283659,
          -0.10050342004554533,
          -0.04665400870974118,
          -0.07718024852158817,
          0.3547072538257906,
          -0.0053233012140134475,
          0.16139890252253564,
          0.027178268828308087,
          -0.11967976996202284,
          -0.12186175713451373,
          -0.1439803381154391,
          -0.0878937621534318,
          -0.13578785042554642,
          0.6082732147534903,
          -0.004709265232106267,
          -0.002545049474556268,
          -0.05386469418380599,
          -0.0028825601893341123,
          -0.027011753993744732,
          -0.07864823805218048,
          -0.23097546933533022,
          -0.007228686559128532,
          0.09172053321661525,
          0.00016263231566895315,
          0.2864315674093402,
          -0.09534043284259573,
          -0.10368159805904743,
          -0.004326189308294941,
          -0.008135862557180379,
          -0.17979567581367853,
          -0.12224831555816415,
          -0.026532152208452932,
          0.1707378008046377,
          0.32817526685432863,
          -0.016727913266345467,
          -0.005063213438859152,
          -0.1148076682034948,
          0.06914716014125301,
          -0.017008363340135488,
          -0.11533473489545103,
          0.25150618056554164,
          -0.10339578027409757,
          -0.1967468165847413,
          -0.09134112658594772,
          -0.02073028437452404,
          -0.008615902811778292,
          -0.13374107958702672,
          0.2199077258343082,
          -0.15362411800957432,
          -0.12137663686286118,
          -0.31506513215426407,
          0.002901160098212467,
          0.018929110400529144,
          0.03845165308868063,
          -0.33048597306698463,
          0.00352633496449527,
          -0.13143958161290892,
          0.04988358612610175,
          0.04583775465858393,
          0.5790004226836539,
          -0.006036783361103409,
          -0.009762307471900164,
          -0.048656040048942674,
          0.02392984369397231,
          -0.042085250710869014,
          0.39912133770478164
         ],
         "xaxis": "x",
         "y": [
          0.21709779016042058,
          -0.09936135611619634,
          -0.0010820468756631884,
          -0.10863119244957004,
          -0.1288343168413319,
          0.483706730089981,
          -0.12023008304883502,
          -0.1395694574206563,
          -0.022281371194062132,
          -0.16182665424977433,
          0.017279517227259393,
          0.033906811371052024,
          -0.04442450916531247,
          0.09034831435614313,
          -0.02409159215990578,
          0.028933105527178697,
          0.005542254139034958,
          0.012385836393776996,
          0.13238944825778254,
          -0.22249279533096863,
          0.3333759076212077,
          0.02883883960257633,
          -0.01701512502413797,
          -0.02141166655732911,
          0.01289986504178238,
          -0.04255916140100396,
          0.0033305806003724697,
          -0.07593914137345455,
          0.11347815129298158,
          -0.07040018466125425,
          0.13164365488228003,
          0.10694446983950041,
          -0.14996644676156107,
          0.03858856354493258,
          -0.19855714966256033,
          0.021329438781551666,
          -0.019466696615391597,
          -0.0025636510319663095,
          0.08703231967988712,
          -0.24982429816086252,
          -0.0035125075205510517,
          0.03306448546022161,
          -0.5129340871956852,
          0.06075612273267735,
          0.09624040761960549,
          -0.02965920768424939,
          0.10737932400419867,
          0.0061380759909102035,
          0.1169345922306585,
          -0.07485288199048161,
          -0.07232910335606674,
          0.07730718000487363,
          0.08119783631401281,
          -0.04397307344900439,
          0.09887741803792092,
          0.01858808204658572,
          -0.03274990307809464,
          -0.019174842647790766,
          0.28297054327548,
          -0.5103724047995652,
          -0.18084590479630483,
          0.00982464887050353,
          0.011334142953755988,
          0.0190918565942238,
          0.0035290636947156308,
          -0.06461996617465562,
          0.011053026274968451,
          0.6060174865589174,
          -0.07380311227968586
         ],
         "yaxis": "y"
        }
       ],
       "layout": {
        "legend": {
         "tracegroupgap": 0
        },
        "margin": {
         "t": 60
        },
        "template": {
         "data": {
          "bar": [
           {
            "error_x": {
             "color": "#2a3f5f"
            },
            "error_y": {
             "color": "#2a3f5f"
            },
            "marker": {
             "line": {
              "color": "#E5ECF6",
              "width": 0.5
             },
             "pattern": {
              "fillmode": "overlay",
              "size": 10,
              "solidity": 0.2
             }
            },
            "type": "bar"
           }
          ],
          "barpolar": [
           {
            "marker": {
             "line": {
              "color": "#E5ECF6",
              "width": 0.5
             },
             "pattern": {
              "fillmode": "overlay",
              "size": 10,
              "solidity": 0.2
             }
            },
            "type": "barpolar"
           }
          ],
          "carpet": [
           {
            "aaxis": {
             "endlinecolor": "#2a3f5f",
             "gridcolor": "white",
             "linecolor": "white",
             "minorgridcolor": "white",
             "startlinecolor": "#2a3f5f"
            },
            "baxis": {
             "endlinecolor": "#2a3f5f",
             "gridcolor": "white",
             "linecolor": "white",
             "minorgridcolor": "white",
             "startlinecolor": "#2a3f5f"
            },
            "type": "carpet"
           }
          ],
          "choropleth": [
           {
            "colorbar": {
             "outlinewidth": 0,
             "ticks": ""
            },
            "type": "choropleth"
           }
          ],
          "contour": [
           {
            "colorbar": {
             "outlinewidth": 0,
             "ticks": ""
            },
            "colorscale": [
             [
              0,
              "#0d0887"
             ],
             [
              0.1111111111111111,
              "#46039f"
             ],
             [
              0.2222222222222222,
              "#7201a8"
             ],
             [
              0.3333333333333333,
              "#9c179e"
             ],
             [
              0.4444444444444444,
              "#bd3786"
             ],
             [
              0.5555555555555556,
              "#d8576b"
             ],
             [
              0.6666666666666666,
              "#ed7953"
             ],
             [
              0.7777777777777778,
              "#fb9f3a"
             ],
             [
              0.8888888888888888,
              "#fdca26"
             ],
             [
              1,
              "#f0f921"
             ]
            ],
            "type": "contour"
           }
          ],
          "contourcarpet": [
           {
            "colorbar": {
             "outlinewidth": 0,
             "ticks": ""
            },
            "type": "contourcarpet"
           }
          ],
          "heatmap": [
           {
            "colorbar": {
             "outlinewidth": 0,
             "ticks": ""
            },
            "colorscale": [
             [
              0,
              "#0d0887"
             ],
             [
              0.1111111111111111,
              "#46039f"
             ],
             [
              0.2222222222222222,
              "#7201a8"
             ],
             [
              0.3333333333333333,
              "#9c179e"
             ],
             [
              0.4444444444444444,
              "#bd3786"
             ],
             [
              0.5555555555555556,
              "#d8576b"
             ],
             [
              0.6666666666666666,
              "#ed7953"
             ],
             [
              0.7777777777777778,
              "#fb9f3a"
             ],
             [
              0.8888888888888888,
              "#fdca26"
             ],
             [
              1,
              "#f0f921"
             ]
            ],
            "type": "heatmap"
           }
          ],
          "heatmapgl": [
           {
            "colorbar": {
             "outlinewidth": 0,
             "ticks": ""
            },
            "colorscale": [
             [
              0,
              "#0d0887"
             ],
             [
              0.1111111111111111,
              "#46039f"
             ],
             [
              0.2222222222222222,
              "#7201a8"
             ],
             [
              0.3333333333333333,
              "#9c179e"
             ],
             [
              0.4444444444444444,
              "#bd3786"
             ],
             [
              0.5555555555555556,
              "#d8576b"
             ],
             [
              0.6666666666666666,
              "#ed7953"
             ],
             [
              0.7777777777777778,
              "#fb9f3a"
             ],
             [
              0.8888888888888888,
              "#fdca26"
             ],
             [
              1,
              "#f0f921"
             ]
            ],
            "type": "heatmapgl"
           }
          ],
          "histogram": [
           {
            "marker": {
             "pattern": {
              "fillmode": "overlay",
              "size": 10,
              "solidity": 0.2
             }
            },
            "type": "histogram"
           }
          ],
          "histogram2d": [
           {
            "colorbar": {
             "outlinewidth": 0,
             "ticks": ""
            },
            "colorscale": [
             [
              0,
              "#0d0887"
             ],
             [
              0.1111111111111111,
              "#46039f"
             ],
             [
              0.2222222222222222,
              "#7201a8"
             ],
             [
              0.3333333333333333,
              "#9c179e"
             ],
             [
              0.4444444444444444,
              "#bd3786"
             ],
             [
              0.5555555555555556,
              "#d8576b"
             ],
             [
              0.6666666666666666,
              "#ed7953"
             ],
             [
              0.7777777777777778,
              "#fb9f3a"
             ],
             [
              0.8888888888888888,
              "#fdca26"
             ],
             [
              1,
              "#f0f921"
             ]
            ],
            "type": "histogram2d"
           }
          ],
          "histogram2dcontour": [
           {
            "colorbar": {
             "outlinewidth": 0,
             "ticks": ""
            },
            "colorscale": [
             [
              0,
              "#0d0887"
             ],
             [
              0.1111111111111111,
              "#46039f"
             ],
             [
              0.2222222222222222,
              "#7201a8"
             ],
             [
              0.3333333333333333,
              "#9c179e"
             ],
             [
              0.4444444444444444,
              "#bd3786"
             ],
             [
              0.5555555555555556,
              "#d8576b"
             ],
             [
              0.6666666666666666,
              "#ed7953"
             ],
             [
              0.7777777777777778,
              "#fb9f3a"
             ],
             [
              0.8888888888888888,
              "#fdca26"
             ],
             [
              1,
              "#f0f921"
             ]
            ],
            "type": "histogram2dcontour"
           }
          ],
          "mesh3d": [
           {
            "colorbar": {
             "outlinewidth": 0,
             "ticks": ""
            },
            "type": "mesh3d"
           }
          ],
          "parcoords": [
           {
            "line": {
             "colorbar": {
              "outlinewidth": 0,
              "ticks": ""
             }
            },
            "type": "parcoords"
           }
          ],
          "pie": [
           {
            "automargin": true,
            "type": "pie"
           }
          ],
          "scatter": [
           {
            "fillpattern": {
             "fillmode": "overlay",
             "size": 10,
             "solidity": 0.2
            },
            "type": "scatter"
           }
          ],
          "scatter3d": [
           {
            "line": {
             "colorbar": {
              "outlinewidth": 0,
              "ticks": ""
             }
            },
            "marker": {
             "colorbar": {
              "outlinewidth": 0,
              "ticks": ""
             }
            },
            "type": "scatter3d"
           }
          ],
          "scattercarpet": [
           {
            "marker": {
             "colorbar": {
              "outlinewidth": 0,
              "ticks": ""
             }
            },
            "type": "scattercarpet"
           }
          ],
          "scattergeo": [
           {
            "marker": {
             "colorbar": {
              "outlinewidth": 0,
              "ticks": ""
             }
            },
            "type": "scattergeo"
           }
          ],
          "scattergl": [
           {
            "marker": {
             "colorbar": {
              "outlinewidth": 0,
              "ticks": ""
             }
            },
            "type": "scattergl"
           }
          ],
          "scattermapbox": [
           {
            "marker": {
             "colorbar": {
              "outlinewidth": 0,
              "ticks": ""
             }
            },
            "type": "scattermapbox"
           }
          ],
          "scatterpolar": [
           {
            "marker": {
             "colorbar": {
              "outlinewidth": 0,
              "ticks": ""
             }
            },
            "type": "scatterpolar"
           }
          ],
          "scatterpolargl": [
           {
            "marker": {
             "colorbar": {
              "outlinewidth": 0,
              "ticks": ""
             }
            },
            "type": "scatterpolargl"
           }
          ],
          "scatterternary": [
           {
            "marker": {
             "colorbar": {
              "outlinewidth": 0,
              "ticks": ""
             }
            },
            "type": "scatterternary"
           }
          ],
          "surface": [
           {
            "colorbar": {
             "outlinewidth": 0,
             "ticks": ""
            },
            "colorscale": [
             [
              0,
              "#0d0887"
             ],
             [
              0.1111111111111111,
              "#46039f"
             ],
             [
              0.2222222222222222,
              "#7201a8"
             ],
             [
              0.3333333333333333,
              "#9c179e"
             ],
             [
              0.4444444444444444,
              "#bd3786"
             ],
             [
              0.5555555555555556,
              "#d8576b"
             ],
             [
              0.6666666666666666,
              "#ed7953"
             ],
             [
              0.7777777777777778,
              "#fb9f3a"
             ],
             [
              0.8888888888888888,
              "#fdca26"
             ],
             [
              1,
              "#f0f921"
             ]
            ],
            "type": "surface"
           }
          ],
          "table": [
           {
            "cells": {
             "fill": {
              "color": "#EBF0F8"
             },
             "line": {
              "color": "white"
             }
            },
            "header": {
             "fill": {
              "color": "#C8D4E3"
             },
             "line": {
              "color": "white"
             }
            },
            "type": "table"
           }
          ]
         },
         "layout": {
          "annotationdefaults": {
           "arrowcolor": "#2a3f5f",
           "arrowhead": 0,
           "arrowwidth": 1
          },
          "autotypenumbers": "strict",
          "coloraxis": {
           "colorbar": {
            "outlinewidth": 0,
            "ticks": ""
           }
          },
          "colorscale": {
           "diverging": [
            [
             0,
             "#8e0152"
            ],
            [
             0.1,
             "#c51b7d"
            ],
            [
             0.2,
             "#de77ae"
            ],
            [
             0.3,
             "#f1b6da"
            ],
            [
             0.4,
             "#fde0ef"
            ],
            [
             0.5,
             "#f7f7f7"
            ],
            [
             0.6,
             "#e6f5d0"
            ],
            [
             0.7,
             "#b8e186"
            ],
            [
             0.8,
             "#7fbc41"
            ],
            [
             0.9,
             "#4d9221"
            ],
            [
             1,
             "#276419"
            ]
           ],
           "sequential": [
            [
             0,
             "#0d0887"
            ],
            [
             0.1111111111111111,
             "#46039f"
            ],
            [
             0.2222222222222222,
             "#7201a8"
            ],
            [
             0.3333333333333333,
             "#9c179e"
            ],
            [
             0.4444444444444444,
             "#bd3786"
            ],
            [
             0.5555555555555556,
             "#d8576b"
            ],
            [
             0.6666666666666666,
             "#ed7953"
            ],
            [
             0.7777777777777778,
             "#fb9f3a"
            ],
            [
             0.8888888888888888,
             "#fdca26"
            ],
            [
             1,
             "#f0f921"
            ]
           ],
           "sequentialminus": [
            [
             0,
             "#0d0887"
            ],
            [
             0.1111111111111111,
             "#46039f"
            ],
            [
             0.2222222222222222,
             "#7201a8"
            ],
            [
             0.3333333333333333,
             "#9c179e"
            ],
            [
             0.4444444444444444,
             "#bd3786"
            ],
            [
             0.5555555555555556,
             "#d8576b"
            ],
            [
             0.6666666666666666,
             "#ed7953"
            ],
            [
             0.7777777777777778,
             "#fb9f3a"
            ],
            [
             0.8888888888888888,
             "#fdca26"
            ],
            [
             1,
             "#f0f921"
            ]
           ]
          },
          "colorway": [
           "#636efa",
           "#EF553B",
           "#00cc96",
           "#ab63fa",
           "#FFA15A",
           "#19d3f3",
           "#FF6692",
           "#B6E880",
           "#FF97FF",
           "#FECB52"
          ],
          "font": {
           "color": "#2a3f5f"
          },
          "geo": {
           "bgcolor": "white",
           "lakecolor": "white",
           "landcolor": "#E5ECF6",
           "showlakes": true,
           "showland": true,
           "subunitcolor": "white"
          },
          "hoverlabel": {
           "align": "left"
          },
          "hovermode": "closest",
          "mapbox": {
           "style": "light"
          },
          "paper_bgcolor": "white",
          "plot_bgcolor": "#E5ECF6",
          "polar": {
           "angularaxis": {
            "gridcolor": "white",
            "linecolor": "white",
            "ticks": ""
           },
           "bgcolor": "#E5ECF6",
           "radialaxis": {
            "gridcolor": "white",
            "linecolor": "white",
            "ticks": ""
           }
          },
          "scene": {
           "xaxis": {
            "backgroundcolor": "#E5ECF6",
            "gridcolor": "white",
            "gridwidth": 2,
            "linecolor": "white",
            "showbackground": true,
            "ticks": "",
            "zerolinecolor": "white"
           },
           "yaxis": {
            "backgroundcolor": "#E5ECF6",
            "gridcolor": "white",
            "gridwidth": 2,
            "linecolor": "white",
            "showbackground": true,
            "ticks": "",
            "zerolinecolor": "white"
           },
           "zaxis": {
            "backgroundcolor": "#E5ECF6",
            "gridcolor": "white",
            "gridwidth": 2,
            "linecolor": "white",
            "showbackground": true,
            "ticks": "",
            "zerolinecolor": "white"
           }
          },
          "shapedefaults": {
           "line": {
            "color": "#2a3f5f"
           }
          },
          "ternary": {
           "aaxis": {
            "gridcolor": "white",
            "linecolor": "white",
            "ticks": ""
           },
           "baxis": {
            "gridcolor": "white",
            "linecolor": "white",
            "ticks": ""
           },
           "bgcolor": "#E5ECF6",
           "caxis": {
            "gridcolor": "white",
            "linecolor": "white",
            "ticks": ""
           }
          },
          "title": {
           "x": 0.05
          },
          "xaxis": {
           "automargin": true,
           "gridcolor": "white",
           "linecolor": "white",
           "ticks": "",
           "title": {
            "standoff": 15
           },
           "zerolinecolor": "white",
           "zerolinewidth": 2
          },
          "yaxis": {
           "automargin": true,
           "gridcolor": "white",
           "linecolor": "white",
           "ticks": "",
           "title": {
            "standoff": 15
           },
           "zerolinecolor": "white",
           "zerolinewidth": 2
          }
         }
        },
        "xaxis": {
         "anchor": "y",
         "domain": [
          0,
          1
         ],
         "title": {
          "text": "PC1"
         }
        },
        "yaxis": {
         "anchor": "x",
         "domain": [
          0,
          1
         ],
         "title": {
          "text": "PC2"
         }
        }
       }
      }
     },
     "metadata": {},
     "output_type": "display_data"
    }
   ],
   "source": [
    "#for l2 normalization\n",
    "fig_l2 = px.scatter(ref_l2_pca, x='PC1', y='PC2', hover_name=ref_l2_pca.index)\n",
    "fig_l2.update_traces(marker=dict(size=5))\n",
    "fig_l2.show()"
   ]
  },
  {
   "cell_type": "code",
   "execution_count": null,
   "metadata": {},
   "outputs": [
    {
     "data": {
      "application/vnd.plotly.v1+json": {
       "config": {
        "plotlyServerURL": "https://plot.ly"
       },
       "data": [
        {
         "hovertemplate": "<b>%{hovertext}</b><br><br>PC1=%{x}<br>PC2=%{y}<extra></extra>",
         "hovertext": [
          "AhlgrenScottD",
          "AlbinPierre",
          "BaloghJózsef",
          "BaryshnikovYuliyM",
          "Berwick-EvansDaniel",
          "BocaFlorin-Petre",
          "BradlowStevenBenjamin",
          "BronskiJaredC",
          "CooneyDanielB",
          "DeVilleRELee",
          "DeyParthaSarathi",
          "DoddChristopher",
          "DunfieldNathanM",
          "DuttaSankarPrasad",
          "DuursmaIwanMaynard",
          "ErdoğanMehmetBurak",
          "FadinaTolulope",
          "FengRunhuan",
          "FernandesRuiLoja",
          "FordKevinB",
          "GuzmanRosemaryK",
          "HaboushWilliamJ",
          "HellerJeremiahBen",
          "HinkkanenAimo",
          "HiraniAnilN",
          "HungPei-Ken",
          "HurVeraMikyoung",
          "IvanovSergeiVladimirovich",
          "JandaFelix",
          "JingXiaochen",
          "JungeMarius",
          "KatzSheldonH",
          "KermanEly",
          "KirkpatrickKayLene",
          "KirrEduard",
          "KostochkaAlexandrV",
          "KutzarovaDenkaN",
          "LaNaveGabriele",
          "LaugesenRichardSnyder",
          "LeditzkyFelix",
          "LermanEugeneM",
          "LiXiaochun",
          "LiuYuan",
          "McCarthyRandy",
          "MineyevIgor",
          "NikolaevIgorG",
          "OikhbergTimur",
          "PascaleffJamesThomas",
          "RaptiZoi",
          "RasmussenJacob",
          "RasmussenSarahDean",
          "RezkCharlesW",
          "ReznickBruce",
          "SongRenming",
          "SowersRichardB",
          "StojanoskaVesna",
          "ThornerJesse",
          "TolmanSusan",
          "TumanovAlexander",
          "TysonJeremyT",
          "TzirakisNikolaos",
          "WeiWei",
          "WuXuan",
          "YongAlexanderTF",
          "YoungAmanda",
          "ZaharescuAlexandru",
          "ZharnitskyVadim"
         ],
         "legendgroup": "",
         "marker": {
          "color": "#636efa",
          "size": 5,
          "symbol": "circle"
         },
         "mode": "markers",
         "name": "",
         "orientation": "v",
         "showlegend": false,
         "type": "scatter",
         "x": [
          -0.03802328963827995,
          -0.03503692120161212,
          -0.009963812952521904,
          0.12093141961283659,
          -0.10050342004554533,
          -0.04665400870974118,
          -0.07718024852158817,
          0.3547072538257906,
          -0.0053233012140134475,
          0.16139890252253564,
          0.027178268828308087,
          -0.12186175713451373,
          -0.1439803381154391,
          -0.0878937621534318,
          -0.13578785042554642,
          0.6082732147534903,
          -0.004709265232106267,
          -0.002545049474556268,
          -0.05386469418380599,
          -0.0028825601893341123,
          -0.027011753993744732,
          -0.07864823805218048,
          -0.23097546933533022,
          -0.007228686559128532,
          0.09172053321661525,
          0.00016263231566895315,
          0.2864315674093402,
          -0.09534043284259573,
          -0.10368159805904743,
          -0.004326189308294941,
          -0.008135862557180379,
          -0.17979567581367853,
          -0.026532152208452932,
          0.1707378008046377,
          0.32817526685432863,
          -0.016727913266345467,
          -0.005063213438859152,
          -0.1148076682034948,
          0.06914716014125301,
          -0.017008363340135488,
          -0.11533473489545103,
          0.25150618056554164,
          -0.10339578027409757,
          -0.1967468165847413,
          -0.09134112658594772,
          -0.02073028437452404,
          -0.008615902811778292,
          -0.13374107958702672,
          0.2199077258343082,
          -0.15362411800957432,
          -0.12137663686286118,
          -0.31506513215426407,
          0.002901160098212467,
          0.018929110400529144,
          0.03845165308868063,
          -0.33048597306698463,
          0.00352633496449527,
          -0.13143958161290892,
          0.04988358612610175,
          0.04583775465858393,
          0.5790004226836539,
          -0.006036783361103409,
          -0.009762307471900164,
          -0.048656040048942674,
          0.02392984369397231,
          -0.042085250710869014,
          0.39912133770478164
         ],
         "xaxis": "x",
         "y": [
          0.21709779016042058,
          -0.09936135611619634,
          -0.0010820468756631884,
          -0.10863119244957004,
          -0.1288343168413319,
          0.483706730089981,
          -0.12023008304883502,
          -0.1395694574206563,
          -0.022281371194062132,
          -0.16182665424977433,
          0.017279517227259393,
          -0.04442450916531247,
          0.09034831435614313,
          -0.02409159215990578,
          0.028933105527178697,
          0.005542254139034958,
          0.012385836393776996,
          0.13238944825778254,
          -0.22249279533096863,
          0.3333759076212077,
          0.02883883960257633,
          -0.01701512502413797,
          -0.02141166655732911,
          0.01289986504178238,
          -0.04255916140100396,
          0.0033305806003724697,
          -0.07593914137345455,
          0.11347815129298158,
          -0.07040018466125425,
          0.13164365488228003,
          0.10694446983950041,
          -0.14996644676156107,
          -0.19855714966256033,
          0.021329438781551666,
          -0.019466696615391597,
          -0.0025636510319663095,
          0.08703231967988712,
          -0.24982429816086252,
          -0.0035125075205510517,
          0.03306448546022161,
          -0.5129340871956852,
          0.06075612273267735,
          0.09624040761960549,
          -0.02965920768424939,
          0.10737932400419867,
          0.0061380759909102035,
          0.1169345922306585,
          -0.07485288199048161,
          -0.07232910335606674,
          0.07730718000487363,
          0.08119783631401281,
          -0.04397307344900439,
          0.09887741803792092,
          0.01858808204658572,
          -0.03274990307809464,
          -0.019174842647790766,
          0.28297054327548,
          -0.5103724047995652,
          -0.18084590479630483,
          0.00982464887050353,
          0.011334142953755988,
          0.0190918565942238,
          0.0035290636947156308,
          -0.06461996617465562,
          0.011053026274968451,
          0.6060174865589174,
          -0.07380311227968586
         ],
         "yaxis": "y"
        }
       ],
       "layout": {
        "legend": {
         "tracegroupgap": 0
        },
        "margin": {
         "t": 60
        },
        "template": {
         "data": {
          "bar": [
           {
            "error_x": {
             "color": "#2a3f5f"
            },
            "error_y": {
             "color": "#2a3f5f"
            },
            "marker": {
             "line": {
              "color": "#E5ECF6",
              "width": 0.5
             },
             "pattern": {
              "fillmode": "overlay",
              "size": 10,
              "solidity": 0.2
             }
            },
            "type": "bar"
           }
          ],
          "barpolar": [
           {
            "marker": {
             "line": {
              "color": "#E5ECF6",
              "width": 0.5
             },
             "pattern": {
              "fillmode": "overlay",
              "size": 10,
              "solidity": 0.2
             }
            },
            "type": "barpolar"
           }
          ],
          "carpet": [
           {
            "aaxis": {
             "endlinecolor": "#2a3f5f",
             "gridcolor": "white",
             "linecolor": "white",
             "minorgridcolor": "white",
             "startlinecolor": "#2a3f5f"
            },
            "baxis": {
             "endlinecolor": "#2a3f5f",
             "gridcolor": "white",
             "linecolor": "white",
             "minorgridcolor": "white",
             "startlinecolor": "#2a3f5f"
            },
            "type": "carpet"
           }
          ],
          "choropleth": [
           {
            "colorbar": {
             "outlinewidth": 0,
             "ticks": ""
            },
            "type": "choropleth"
           }
          ],
          "contour": [
           {
            "colorbar": {
             "outlinewidth": 0,
             "ticks": ""
            },
            "colorscale": [
             [
              0,
              "#0d0887"
             ],
             [
              0.1111111111111111,
              "#46039f"
             ],
             [
              0.2222222222222222,
              "#7201a8"
             ],
             [
              0.3333333333333333,
              "#9c179e"
             ],
             [
              0.4444444444444444,
              "#bd3786"
             ],
             [
              0.5555555555555556,
              "#d8576b"
             ],
             [
              0.6666666666666666,
              "#ed7953"
             ],
             [
              0.7777777777777778,
              "#fb9f3a"
             ],
             [
              0.8888888888888888,
              "#fdca26"
             ],
             [
              1,
              "#f0f921"
             ]
            ],
            "type": "contour"
           }
          ],
          "contourcarpet": [
           {
            "colorbar": {
             "outlinewidth": 0,
             "ticks": ""
            },
            "type": "contourcarpet"
           }
          ],
          "heatmap": [
           {
            "colorbar": {
             "outlinewidth": 0,
             "ticks": ""
            },
            "colorscale": [
             [
              0,
              "#0d0887"
             ],
             [
              0.1111111111111111,
              "#46039f"
             ],
             [
              0.2222222222222222,
              "#7201a8"
             ],
             [
              0.3333333333333333,
              "#9c179e"
             ],
             [
              0.4444444444444444,
              "#bd3786"
             ],
             [
              0.5555555555555556,
              "#d8576b"
             ],
             [
              0.6666666666666666,
              "#ed7953"
             ],
             [
              0.7777777777777778,
              "#fb9f3a"
             ],
             [
              0.8888888888888888,
              "#fdca26"
             ],
             [
              1,
              "#f0f921"
             ]
            ],
            "type": "heatmap"
           }
          ],
          "heatmapgl": [
           {
            "colorbar": {
             "outlinewidth": 0,
             "ticks": ""
            },
            "colorscale": [
             [
              0,
              "#0d0887"
             ],
             [
              0.1111111111111111,
              "#46039f"
             ],
             [
              0.2222222222222222,
              "#7201a8"
             ],
             [
              0.3333333333333333,
              "#9c179e"
             ],
             [
              0.4444444444444444,
              "#bd3786"
             ],
             [
              0.5555555555555556,
              "#d8576b"
             ],
             [
              0.6666666666666666,
              "#ed7953"
             ],
             [
              0.7777777777777778,
              "#fb9f3a"
             ],
             [
              0.8888888888888888,
              "#fdca26"
             ],
             [
              1,
              "#f0f921"
             ]
            ],
            "type": "heatmapgl"
           }
          ],
          "histogram": [
           {
            "marker": {
             "pattern": {
              "fillmode": "overlay",
              "size": 10,
              "solidity": 0.2
             }
            },
            "type": "histogram"
           }
          ],
          "histogram2d": [
           {
            "colorbar": {
             "outlinewidth": 0,
             "ticks": ""
            },
            "colorscale": [
             [
              0,
              "#0d0887"
             ],
             [
              0.1111111111111111,
              "#46039f"
             ],
             [
              0.2222222222222222,
              "#7201a8"
             ],
             [
              0.3333333333333333,
              "#9c179e"
             ],
             [
              0.4444444444444444,
              "#bd3786"
             ],
             [
              0.5555555555555556,
              "#d8576b"
             ],
             [
              0.6666666666666666,
              "#ed7953"
             ],
             [
              0.7777777777777778,
              "#fb9f3a"
             ],
             [
              0.8888888888888888,
              "#fdca26"
             ],
             [
              1,
              "#f0f921"
             ]
            ],
            "type": "histogram2d"
           }
          ],
          "histogram2dcontour": [
           {
            "colorbar": {
             "outlinewidth": 0,
             "ticks": ""
            },
            "colorscale": [
             [
              0,
              "#0d0887"
             ],
             [
              0.1111111111111111,
              "#46039f"
             ],
             [
              0.2222222222222222,
              "#7201a8"
             ],
             [
              0.3333333333333333,
              "#9c179e"
             ],
             [
              0.4444444444444444,
              "#bd3786"
             ],
             [
              0.5555555555555556,
              "#d8576b"
             ],
             [
              0.6666666666666666,
              "#ed7953"
             ],
             [
              0.7777777777777778,
              "#fb9f3a"
             ],
             [
              0.8888888888888888,
              "#fdca26"
             ],
             [
              1,
              "#f0f921"
             ]
            ],
            "type": "histogram2dcontour"
           }
          ],
          "mesh3d": [
           {
            "colorbar": {
             "outlinewidth": 0,
             "ticks": ""
            },
            "type": "mesh3d"
           }
          ],
          "parcoords": [
           {
            "line": {
             "colorbar": {
              "outlinewidth": 0,
              "ticks": ""
             }
            },
            "type": "parcoords"
           }
          ],
          "pie": [
           {
            "automargin": true,
            "type": "pie"
           }
          ],
          "scatter": [
           {
            "fillpattern": {
             "fillmode": "overlay",
             "size": 10,
             "solidity": 0.2
            },
            "type": "scatter"
           }
          ],
          "scatter3d": [
           {
            "line": {
             "colorbar": {
              "outlinewidth": 0,
              "ticks": ""
             }
            },
            "marker": {
             "colorbar": {
              "outlinewidth": 0,
              "ticks": ""
             }
            },
            "type": "scatter3d"
           }
          ],
          "scattercarpet": [
           {
            "marker": {
             "colorbar": {
              "outlinewidth": 0,
              "ticks": ""
             }
            },
            "type": "scattercarpet"
           }
          ],
          "scattergeo": [
           {
            "marker": {
             "colorbar": {
              "outlinewidth": 0,
              "ticks": ""
             }
            },
            "type": "scattergeo"
           }
          ],
          "scattergl": [
           {
            "marker": {
             "colorbar": {
              "outlinewidth": 0,
              "ticks": ""
             }
            },
            "type": "scattergl"
           }
          ],
          "scattermapbox": [
           {
            "marker": {
             "colorbar": {
              "outlinewidth": 0,
              "ticks": ""
             }
            },
            "type": "scattermapbox"
           }
          ],
          "scatterpolar": [
           {
            "marker": {
             "colorbar": {
              "outlinewidth": 0,
              "ticks": ""
             }
            },
            "type": "scatterpolar"
           }
          ],
          "scatterpolargl": [
           {
            "marker": {
             "colorbar": {
              "outlinewidth": 0,
              "ticks": ""
             }
            },
            "type": "scatterpolargl"
           }
          ],
          "scatterternary": [
           {
            "marker": {
             "colorbar": {
              "outlinewidth": 0,
              "ticks": ""
             }
            },
            "type": "scatterternary"
           }
          ],
          "surface": [
           {
            "colorbar": {
             "outlinewidth": 0,
             "ticks": ""
            },
            "colorscale": [
             [
              0,
              "#0d0887"
             ],
             [
              0.1111111111111111,
              "#46039f"
             ],
             [
              0.2222222222222222,
              "#7201a8"
             ],
             [
              0.3333333333333333,
              "#9c179e"
             ],
             [
              0.4444444444444444,
              "#bd3786"
             ],
             [
              0.5555555555555556,
              "#d8576b"
             ],
             [
              0.6666666666666666,
              "#ed7953"
             ],
             [
              0.7777777777777778,
              "#fb9f3a"
             ],
             [
              0.8888888888888888,
              "#fdca26"
             ],
             [
              1,
              "#f0f921"
             ]
            ],
            "type": "surface"
           }
          ],
          "table": [
           {
            "cells": {
             "fill": {
              "color": "#EBF0F8"
             },
             "line": {
              "color": "white"
             }
            },
            "header": {
             "fill": {
              "color": "#C8D4E3"
             },
             "line": {
              "color": "white"
             }
            },
            "type": "table"
           }
          ]
         },
         "layout": {
          "annotationdefaults": {
           "arrowcolor": "#2a3f5f",
           "arrowhead": 0,
           "arrowwidth": 1
          },
          "autotypenumbers": "strict",
          "coloraxis": {
           "colorbar": {
            "outlinewidth": 0,
            "ticks": ""
           }
          },
          "colorscale": {
           "diverging": [
            [
             0,
             "#8e0152"
            ],
            [
             0.1,
             "#c51b7d"
            ],
            [
             0.2,
             "#de77ae"
            ],
            [
             0.3,
             "#f1b6da"
            ],
            [
             0.4,
             "#fde0ef"
            ],
            [
             0.5,
             "#f7f7f7"
            ],
            [
             0.6,
             "#e6f5d0"
            ],
            [
             0.7,
             "#b8e186"
            ],
            [
             0.8,
             "#7fbc41"
            ],
            [
             0.9,
             "#4d9221"
            ],
            [
             1,
             "#276419"
            ]
           ],
           "sequential": [
            [
             0,
             "#0d0887"
            ],
            [
             0.1111111111111111,
             "#46039f"
            ],
            [
             0.2222222222222222,
             "#7201a8"
            ],
            [
             0.3333333333333333,
             "#9c179e"
            ],
            [
             0.4444444444444444,
             "#bd3786"
            ],
            [
             0.5555555555555556,
             "#d8576b"
            ],
            [
             0.6666666666666666,
             "#ed7953"
            ],
            [
             0.7777777777777778,
             "#fb9f3a"
            ],
            [
             0.8888888888888888,
             "#fdca26"
            ],
            [
             1,
             "#f0f921"
            ]
           ],
           "sequentialminus": [
            [
             0,
             "#0d0887"
            ],
            [
             0.1111111111111111,
             "#46039f"
            ],
            [
             0.2222222222222222,
             "#7201a8"
            ],
            [
             0.3333333333333333,
             "#9c179e"
            ],
            [
             0.4444444444444444,
             "#bd3786"
            ],
            [
             0.5555555555555556,
             "#d8576b"
            ],
            [
             0.6666666666666666,
             "#ed7953"
            ],
            [
             0.7777777777777778,
             "#fb9f3a"
            ],
            [
             0.8888888888888888,
             "#fdca26"
            ],
            [
             1,
             "#f0f921"
            ]
           ]
          },
          "colorway": [
           "#636efa",
           "#EF553B",
           "#00cc96",
           "#ab63fa",
           "#FFA15A",
           "#19d3f3",
           "#FF6692",
           "#B6E880",
           "#FF97FF",
           "#FECB52"
          ],
          "font": {
           "color": "#2a3f5f"
          },
          "geo": {
           "bgcolor": "white",
           "lakecolor": "white",
           "landcolor": "#E5ECF6",
           "showlakes": true,
           "showland": true,
           "subunitcolor": "white"
          },
          "hoverlabel": {
           "align": "left"
          },
          "hovermode": "closest",
          "mapbox": {
           "style": "light"
          },
          "paper_bgcolor": "white",
          "plot_bgcolor": "#E5ECF6",
          "polar": {
           "angularaxis": {
            "gridcolor": "white",
            "linecolor": "white",
            "ticks": ""
           },
           "bgcolor": "#E5ECF6",
           "radialaxis": {
            "gridcolor": "white",
            "linecolor": "white",
            "ticks": ""
           }
          },
          "scene": {
           "xaxis": {
            "backgroundcolor": "#E5ECF6",
            "gridcolor": "white",
            "gridwidth": 2,
            "linecolor": "white",
            "showbackground": true,
            "ticks": "",
            "zerolinecolor": "white"
           },
           "yaxis": {
            "backgroundcolor": "#E5ECF6",
            "gridcolor": "white",
            "gridwidth": 2,
            "linecolor": "white",
            "showbackground": true,
            "ticks": "",
            "zerolinecolor": "white"
           },
           "zaxis": {
            "backgroundcolor": "#E5ECF6",
            "gridcolor": "white",
            "gridwidth": 2,
            "linecolor": "white",
            "showbackground": true,
            "ticks": "",
            "zerolinecolor": "white"
           }
          },
          "shapedefaults": {
           "line": {
            "color": "#2a3f5f"
           }
          },
          "ternary": {
           "aaxis": {
            "gridcolor": "white",
            "linecolor": "white",
            "ticks": ""
           },
           "baxis": {
            "gridcolor": "white",
            "linecolor": "white",
            "ticks": ""
           },
           "bgcolor": "#E5ECF6",
           "caxis": {
            "gridcolor": "white",
            "linecolor": "white",
            "ticks": ""
           }
          },
          "title": {
           "x": 0.05
          },
          "xaxis": {
           "automargin": true,
           "gridcolor": "white",
           "linecolor": "white",
           "ticks": "",
           "title": {
            "standoff": 15
           },
           "zerolinecolor": "white",
           "zerolinewidth": 2
          },
          "yaxis": {
           "automargin": true,
           "gridcolor": "white",
           "linecolor": "white",
           "ticks": "",
           "title": {
            "standoff": 15
           },
           "zerolinecolor": "white",
           "zerolinewidth": 2
          }
         }
        },
        "xaxis": {
         "anchor": "y",
         "domain": [
          0,
          1
         ],
         "title": {
          "text": "PC1"
         }
        },
        "yaxis": {
         "anchor": "x",
         "domain": [
          0,
          1
         ],
         "title": {
          "text": "PC2"
         }
        }
       }
      }
     },
     "metadata": {},
     "output_type": "display_data"
    }
   ],
   "source": [
    "#Remove DiFrancescoPhilippe and KedemRinat\n",
    "\n",
    "new_l2_pca = ref_l2_pca.drop(['DiFrancescoPhilippe','KedemRinat'])\n",
    "fig_newl2 = px.scatter(new_l2_pca, x='PC1', y='PC2', hover_name=new_l2_pca.index)\n",
    "fig_newl2.update_traces(marker=dict(size=5))\n",
    "fig_newl2.show()"
   ]
  },
  {
   "cell_type": "code",
   "execution_count": 20,
   "metadata": {},
   "outputs": [
    {
     "data": {
      "image/png": "[encoded data removed]",
      "text/plain": [
       "<Figure size 1000x600 with 1 Axes>"
      ]
     },
     "metadata": {},
     "output_type": "display_data"
    }
   ],
   "source": [
    "inertia = []\n",
    "cluster_range = range(1, 30)  # considering 1 to 10 clusters\n",
    "\n",
    "for num_clusters in cluster_range:\n",
    "    kmeans = KMeans(n_clusters=num_clusters, n_init= 15, random_state=42)\n",
    "    kmeans.fit(ref_l2_pca)\n",
    "    inertia.append(kmeans.inertia_)\n",
    "\n",
    "# Plotting the sum of squared distances against the number of clusters\n",
    "plt.figure(figsize=(10, 6))\n",
    "plt.plot(cluster_range, inertia, marker='o', linestyle='--')\n",
    "plt.xlabel('Number of Clusters')\n",
    "plt.ylabel('Sum of Squared Distances')\n",
    "plt.title('Elbow Method for Optimal Number of Clusters papers l1')\n",
    "plt.grid(True)\n",
    "plt.show()"
   ]
  },
  {
   "cell_type": "code",
   "execution_count": 85,
   "metadata": {},
   "outputs": [
    {
     "name": "stdout",
     "output_type": "stream",
     "text": [
      "                            0         1         2         3         4  \\\n",
      "AhlgrenScottD       -0.053692  0.182561 -0.114419  0.043440  0.113839   \n",
      "AlbinPierre         -0.036381 -0.086861  0.041527 -0.109014  0.014908   \n",
      "BaloghJózsef        -0.002761  0.029163  0.015197 -0.011397  0.018714   \n",
      "BaryshnikovYuliyM    0.107812 -0.084580  0.060850 -0.014511  0.007792   \n",
      "Berwick-EvansDaniel -0.105215 -0.142650 -0.062094  0.046374  0.027631   \n",
      "...                       ...       ...       ...       ...       ...   \n",
      "WuXuan              -0.014339 -0.001019  0.022934 -0.001549  0.037752   \n",
      "YongAlexanderTF     -0.069485 -0.072897  0.048813  0.005474  0.039683   \n",
      "YoungAmanda          0.022073  0.006740  0.015636 -0.010388 -0.000893   \n",
      "ZaharescuAlexandru  -0.030587  0.550787 -0.281029  0.109937  0.451838   \n",
      "ZharnitskyVadim      0.381207 -0.084152 -0.033170  0.048385 -0.103011   \n",
      "\n",
      "                            5         6         7         8         9  ...  \\\n",
      "AhlgrenScottD       -0.094576 -0.053338  0.014437  0.001053 -0.026527  ...   \n",
      "AlbinPierre         -0.064849  0.007449 -0.067541 -0.029113 -0.046401  ...   \n",
      "BaloghJózsef         0.025831  0.008425  0.032923 -0.002217  0.099780  ...   \n",
      "BaryshnikovYuliyM   -0.059359  0.002442 -0.154912  0.044828  0.047067  ...   \n",
      "Berwick-EvansDaniel -0.016356  0.005179 -0.014075  0.024528 -0.165960  ...   \n",
      "...                       ...       ...       ...       ...       ...  ...   \n",
      "WuXuan               0.029524  0.009435  0.016685 -0.002443  0.148026  ...   \n",
      "YongAlexanderTF     -0.015970  0.006945 -0.043803 -0.016857  0.161877  ...   \n",
      "YoungAmanda          0.047814  0.015904  0.018879 -0.006525  0.012099  ...   \n",
      "ZaharescuAlexandru  -0.326103 -0.144481  0.033256 -0.010076 -0.096967  ...   \n",
      "ZharnitskyVadim     -0.085983 -0.016206 -0.270012  0.024969 -0.024766  ...   \n",
      "\n",
      "                           21        22        23        24        25  \\\n",
      "AhlgrenScottD       -0.102617 -0.184407 -0.089859 -0.050558 -0.012853   \n",
      "AlbinPierre         -0.107727 -0.160835 -0.111511 -0.213953 -0.153961   \n",
      "BaloghJózsef        -0.059373  0.020778 -0.017045 -0.036120 -0.038621   \n",
      "BaryshnikovYuliyM   -0.098466  0.074837  0.107901 -0.008952 -0.009575   \n",
      "Berwick-EvansDaniel  0.078191 -0.295293 -0.202679 -0.185803  0.154130   \n",
      "...                       ...       ...       ...       ...       ...   \n",
      "WuXuan               0.078883  0.108950 -0.083686 -0.081056 -0.026878   \n",
      "YongAlexanderTF     -0.016244  0.138231  0.281925 -0.013610  0.265272   \n",
      "YoungAmanda         -0.064650 -0.123914  0.003032 -0.201083  0.286745   \n",
      "ZaharescuAlexandru  -0.040289  0.008722 -0.016459  0.014954 -0.037347   \n",
      "ZharnitskyVadim      0.004545  0.020099 -0.134688 -0.027341 -0.009013   \n",
      "\n",
      "                           26        27        28        29  Cluster  \n",
      "AhlgrenScottD       -0.266922  0.074870  0.174775  0.132133        7  \n",
      "AlbinPierre          0.169681  0.206970  0.217913 -0.174573        1  \n",
      "BaloghJózsef         0.027231 -0.007755  0.037383  0.030414       14  \n",
      "BaryshnikovYuliyM   -0.018828 -0.072855  0.195049  0.017336        2  \n",
      "Berwick-EvansDaniel  0.211673  0.193277  0.060580 -0.005819        1  \n",
      "...                       ...       ...       ...       ...      ...  \n",
      "WuXuan               0.092332 -0.087105 -0.107597  0.046993        1  \n",
      "YongAlexanderTF     -0.006958 -0.048926  0.290277 -0.216866        2  \n",
      "YoungAmanda         -0.321211  0.261194 -0.165291  0.351336        3  \n",
      "ZaharescuAlexandru  -0.007259  0.005649  0.007621 -0.002658        5  \n",
      "ZharnitskyVadim     -0.034694 -0.016584 -0.083161  0.097558        9  \n",
      "\n",
      "[69 rows x 31 columns]\n"
     ]
    }
   ],
   "source": [
    "data_to_cluster = ref_l2_pca\n",
    "\n",
    "# Convert the DataFrame to a numpy array for KMeans fitting\n",
    "data_to_cluster_np = data_to_cluster.values\n",
    "\n",
    "\n",
    "# Fit the KMeans model\n",
    "kmeans = KMeans(n_clusters=n, n_init= 10, random_state= 40)\n",
    "kmeans.fit(data_to_cluster_np)\n",
    "\n",
    "labels = kmeans.labels_\n",
    "\n",
    "data_to_cluster['Cluster'] = labels\n",
    "\n",
    "\n",
    "print(data_to_cluster)"
   ]
  },
  {
   "cell_type": "code",
   "execution_count": 86,
   "metadata": {},
   "outputs": [
    {
     "name": "stdout",
     "output_type": "stream",
     "text": [
      "AhlgrenScottD           7\n",
      "AlbinPierre             1\n",
      "BaloghJózsef           14\n",
      "BaryshnikovYuliyM       2\n",
      "Berwick-EvansDaniel     1\n",
      "                       ..\n",
      "WuXuan                  1\n",
      "YongAlexanderTF         2\n",
      "YoungAmanda             3\n",
      "ZaharescuAlexandru      5\n",
      "ZharnitskyVadim         9\n",
      "Name: Cluster, Length: 69, dtype: int32\n"
     ]
    }
   ],
   "source": [
    "print(data_to_cluster[\"Cluster\"])"
   ]
  },
  {
   "cell_type": "code",
   "execution_count": 87,
   "metadata": {},
   "outputs": [
    {
     "name": "stdout",
     "output_type": "stream",
     "text": [
      "              0                    1                   2   \\\n",
      "0    FengRunhuan          AlbinPierre   BaryshnikovYuliyM   \n",
      "1   JingXiaochen  Berwick-EvansDaniel  KirkpatrickKayLene   \n",
      "2            NaN     DeyParthaSarathi       LeditzkyFelix   \n",
      "3            NaN      DoddChristopher     YongAlexanderTF   \n",
      "4            NaN    DuttaSankarPrasad                 NaN   \n",
      "..           ...                  ...                 ...   \n",
      "65           NaN                  NaN                 NaN   \n",
      "66           NaN                  NaN                 NaN   \n",
      "67           NaN                  NaN                 NaN   \n",
      "68           NaN                  NaN                 NaN   \n",
      "69           NaN                  NaN                 NaN   \n",
      "\n",
      "                       3                    4                   5   \\\n",
      "0   BradlowStevenBenjamin  DiFrancescoPhilippe    BocaFlorin-Petre   \n",
      "1           CooneyDanielB           KedemRinat  ZaharescuAlexandru   \n",
      "2           HinkkanenAimo                  NaN                 NaN   \n",
      "3             JungeMarius                  NaN                 NaN   \n",
      "4         KutzarovaDenkaN                  NaN                 NaN   \n",
      "..                    ...                  ...                 ...   \n",
      "65                    NaN                  NaN                 NaN   \n",
      "66                    NaN                  NaN                 NaN   \n",
      "67                    NaN                  NaN                 NaN   \n",
      "68                    NaN                  NaN                 NaN   \n",
      "69                    NaN                  NaN                 NaN   \n",
      "\n",
      "                    6              7                  8                   9   \\\n",
      "0      DunfieldNathanM  AhlgrenScottD  HellerJeremiahBen  ErdoğanMehmetBurak   \n",
      "1       RasmussenJacob     FordKevinB            LiuYuan          LiXiaochun   \n",
      "2   RasmussenSarahDean   ThornerJesse      McCarthyRandy    TzirakisNikolaos   \n",
      "3                  NaN            NaN       RezkCharlesW     ZharnitskyVadim   \n",
      "4                  NaN            NaN    StojanoskaVesna                 NaN   \n",
      "..                 ...            ...                ...                 ...   \n",
      "65                 NaN            NaN                NaN                 NaN   \n",
      "66                 NaN            NaN                NaN                 NaN   \n",
      "67                 NaN            NaN                NaN                 NaN   \n",
      "68                 NaN            NaN                NaN                 NaN   \n",
      "69                 NaN            NaN                NaN                 NaN   \n",
      "\n",
      "                           10               11              12            13  \\\n",
      "0   IvanovSergeiVladimirovich    BronskiJaredC  FadinaTolulope    JandaFelix   \n",
      "1                 MineyevIgor     DeVilleRELee          WeiWei  KatzSheldonH   \n",
      "2                         NaN  HurVeraMikyoung             NaN           NaN   \n",
      "3                         NaN       KirrEduard             NaN           NaN   \n",
      "4                         NaN         RaptiZoi             NaN           NaN   \n",
      "..                        ...              ...             ...           ...   \n",
      "65                        NaN              NaN             NaN           NaN   \n",
      "66                        NaN              NaN             NaN           NaN   \n",
      "67                        NaN              NaN             NaN           NaN   \n",
      "68                        NaN              NaN             NaN           NaN   \n",
      "69                        NaN              NaN             NaN           NaN   \n",
      "\n",
      "                    14  \n",
      "0         BaloghJózsef  \n",
      "1   KostochkaAlexandrV  \n",
      "2                  NaN  \n",
      "3                  NaN  \n",
      "4                  NaN  \n",
      "..                 ...  \n",
      "65                 NaN  \n",
      "66                 NaN  \n",
      "67                 NaN  \n",
      "68                 NaN  \n",
      "69                 NaN  \n",
      "\n",
      "[70 rows x 15 columns]\n"
     ]
    }
   ],
   "source": [
    "clusters_ref = pd.DataFrame(columns = range(n), index = range(70))\n",
    "\n",
    "\n",
    "for i in range(n):\n",
    "    clusters_ref[i] =  pd.DataFrame(data_to_cluster.index[data_to_cluster[\"Cluster\"] == i])\n",
    "    \n",
    "print(clusters_ref)\n",
    "\n",
    "clusters_ref.to_csv(\"clusters_ref.csv\")\n"
   ]
  },
  {
   "cell_type": "code",
   "execution_count": 23,
   "metadata": {},
   "outputs": [],
   "source": [
    "# Below is the code based on what journal each faculty member published each of their papers in."
   ]
  },
  {
   "cell_type": "code",
   "execution_count": 24,
   "metadata": {},
   "outputs": [],
   "source": [
    "# We import a csv that we compiled from the MathSciNet database\n",
    "\n",
    "# This csv will be imported into a pandas dataframe where each row represents \n",
    "# a faculty member and each column represents a journal name.\n",
    "# Each cell represents the number of papers that a faculty member published in a certain journal.\n",
    "\n",
    "journals = pd.read_csv('journals_count.csv',index_col=0)\n",
    "journals.index = [i.split(\"_\")[0] for i in journals.index.values.tolist()]"
   ]
  },
  {
   "cell_type": "code",
   "execution_count": 25,
   "metadata": {},
   "outputs": [
    {
     "data": {
      "text/html": [
       "<div>\n",
       "<style scoped>\n",
       "    .dataframe tbody tr th:only-of-type {\n",
       "        vertical-align: middle;\n",
       "    }\n",
       "\n",
       "    .dataframe tbody tr th {\n",
       "        vertical-align: top;\n",
       "    }\n",
       "\n",
       "    .dataframe thead th {\n",
       "        text-align: right;\n",
       "    }\n",
       "</style>\n",
       "<table border=\"1\" class=\"dataframe\">\n",
       "  <thead>\n",
       "    <tr style=\"text-align: right;\">\n",
       "      <th></th>\n",
       "      <th>T</th>\n",
       "      <th>Ann. Comb.</th>\n",
       "      <th>Math. Ann.</th>\n",
       "      <th>J. Math. Anal. Appl.</th>\n",
       "      <th>Int. Math. Res. Not. IMRN</th>\n",
       "      <th>J. Number Theory</th>\n",
       "      <th>Adv. Math.</th>\n",
       "      <th>Res. Number Theory</th>\n",
       "      <th>Int. J. Number Theory</th>\n",
       "      <th>Math. Proc. Cambridge Philos. Soc.</th>\n",
       "      <th>...</th>\n",
       "      <th>Math. Sci. Res. J.</th>\n",
       "      <th>J. Théor. Nombres Bordeaux</th>\n",
       "      <th>Nihonkai Math. J.</th>\n",
       "      <th>Port. Math. (N.S.)</th>\n",
       "      <th>Demonstratio Math.</th>\n",
       "      <th>Int. J. Math. Math. Sci.</th>\n",
       "      <th>C. R. Math. Acad. Sci. Soc. R. Can.</th>\n",
       "      <th>Portugal. Math.</th>\n",
       "      <th>An. Ştiinţ. Univ. Ovidius Constanţa Ser. Mat.</th>\n",
       "      <th>Stud. Cerc. Mat.</th>\n",
       "    </tr>\n",
       "  </thead>\n",
       "  <tbody>\n",
       "    <tr>\n",
       "      <th>AhlgrenScottD</th>\n",
       "      <td>1</td>\n",
       "      <td>1</td>\n",
       "      <td>5</td>\n",
       "      <td>1</td>\n",
       "      <td>2</td>\n",
       "      <td>5</td>\n",
       "      <td>3</td>\n",
       "      <td>1</td>\n",
       "      <td>1</td>\n",
       "      <td>1</td>\n",
       "      <td>...</td>\n",
       "      <td>0</td>\n",
       "      <td>0</td>\n",
       "      <td>0</td>\n",
       "      <td>0</td>\n",
       "      <td>0</td>\n",
       "      <td>0</td>\n",
       "      <td>0</td>\n",
       "      <td>0</td>\n",
       "      <td>0</td>\n",
       "      <td>0</td>\n",
       "    </tr>\n",
       "    <tr>\n",
       "      <th>AlbinPierre</th>\n",
       "      <td>0</td>\n",
       "      <td>0</td>\n",
       "      <td>0</td>\n",
       "      <td>0</td>\n",
       "      <td>2</td>\n",
       "      <td>0</td>\n",
       "      <td>3</td>\n",
       "      <td>0</td>\n",
       "      <td>0</td>\n",
       "      <td>0</td>\n",
       "      <td>...</td>\n",
       "      <td>0</td>\n",
       "      <td>0</td>\n",
       "      <td>0</td>\n",
       "      <td>0</td>\n",
       "      <td>0</td>\n",
       "      <td>0</td>\n",
       "      <td>0</td>\n",
       "      <td>0</td>\n",
       "      <td>0</td>\n",
       "      <td>0</td>\n",
       "    </tr>\n",
       "    <tr>\n",
       "      <th>BaloghJózsef</th>\n",
       "      <td>0</td>\n",
       "      <td>0</td>\n",
       "      <td>0</td>\n",
       "      <td>0</td>\n",
       "      <td>1</td>\n",
       "      <td>0</td>\n",
       "      <td>1</td>\n",
       "      <td>0</td>\n",
       "      <td>0</td>\n",
       "      <td>0</td>\n",
       "      <td>...</td>\n",
       "      <td>0</td>\n",
       "      <td>0</td>\n",
       "      <td>0</td>\n",
       "      <td>0</td>\n",
       "      <td>0</td>\n",
       "      <td>0</td>\n",
       "      <td>0</td>\n",
       "      <td>0</td>\n",
       "      <td>0</td>\n",
       "      <td>0</td>\n",
       "    </tr>\n",
       "    <tr>\n",
       "      <th>BaryshnikovYuliyM</th>\n",
       "      <td>0</td>\n",
       "      <td>0</td>\n",
       "      <td>0</td>\n",
       "      <td>0</td>\n",
       "      <td>1</td>\n",
       "      <td>0</td>\n",
       "      <td>2</td>\n",
       "      <td>0</td>\n",
       "      <td>0</td>\n",
       "      <td>0</td>\n",
       "      <td>...</td>\n",
       "      <td>0</td>\n",
       "      <td>0</td>\n",
       "      <td>0</td>\n",
       "      <td>0</td>\n",
       "      <td>0</td>\n",
       "      <td>0</td>\n",
       "      <td>0</td>\n",
       "      <td>0</td>\n",
       "      <td>0</td>\n",
       "      <td>0</td>\n",
       "    </tr>\n",
       "    <tr>\n",
       "      <th>Berwick-EvansDaniel</th>\n",
       "      <td>0</td>\n",
       "      <td>0</td>\n",
       "      <td>0</td>\n",
       "      <td>0</td>\n",
       "      <td>0</td>\n",
       "      <td>0</td>\n",
       "      <td>1</td>\n",
       "      <td>0</td>\n",
       "      <td>0</td>\n",
       "      <td>0</td>\n",
       "      <td>...</td>\n",
       "      <td>0</td>\n",
       "      <td>0</td>\n",
       "      <td>0</td>\n",
       "      <td>0</td>\n",
       "      <td>0</td>\n",
       "      <td>0</td>\n",
       "      <td>0</td>\n",
       "      <td>0</td>\n",
       "      <td>0</td>\n",
       "      <td>0</td>\n",
       "    </tr>\n",
       "    <tr>\n",
       "      <th>...</th>\n",
       "      <td>...</td>\n",
       "      <td>...</td>\n",
       "      <td>...</td>\n",
       "      <td>...</td>\n",
       "      <td>...</td>\n",
       "      <td>...</td>\n",
       "      <td>...</td>\n",
       "      <td>...</td>\n",
       "      <td>...</td>\n",
       "      <td>...</td>\n",
       "      <td>...</td>\n",
       "      <td>...</td>\n",
       "      <td>...</td>\n",
       "      <td>...</td>\n",
       "      <td>...</td>\n",
       "      <td>...</td>\n",
       "      <td>...</td>\n",
       "      <td>...</td>\n",
       "      <td>...</td>\n",
       "      <td>...</td>\n",
       "      <td>...</td>\n",
       "    </tr>\n",
       "    <tr>\n",
       "      <th>WuXuan</th>\n",
       "      <td>0</td>\n",
       "      <td>0</td>\n",
       "      <td>0</td>\n",
       "      <td>0</td>\n",
       "      <td>0</td>\n",
       "      <td>0</td>\n",
       "      <td>0</td>\n",
       "      <td>0</td>\n",
       "      <td>0</td>\n",
       "      <td>0</td>\n",
       "      <td>...</td>\n",
       "      <td>0</td>\n",
       "      <td>0</td>\n",
       "      <td>0</td>\n",
       "      <td>0</td>\n",
       "      <td>0</td>\n",
       "      <td>0</td>\n",
       "      <td>0</td>\n",
       "      <td>0</td>\n",
       "      <td>0</td>\n",
       "      <td>0</td>\n",
       "    </tr>\n",
       "    <tr>\n",
       "      <th>YongAlexanderTF</th>\n",
       "      <td>0</td>\n",
       "      <td>0</td>\n",
       "      <td>1</td>\n",
       "      <td>0</td>\n",
       "      <td>1</td>\n",
       "      <td>0</td>\n",
       "      <td>4</td>\n",
       "      <td>0</td>\n",
       "      <td>0</td>\n",
       "      <td>0</td>\n",
       "      <td>...</td>\n",
       "      <td>0</td>\n",
       "      <td>0</td>\n",
       "      <td>0</td>\n",
       "      <td>0</td>\n",
       "      <td>0</td>\n",
       "      <td>0</td>\n",
       "      <td>0</td>\n",
       "      <td>0</td>\n",
       "      <td>0</td>\n",
       "      <td>0</td>\n",
       "    </tr>\n",
       "    <tr>\n",
       "      <th>YoungAmanda</th>\n",
       "      <td>0</td>\n",
       "      <td>0</td>\n",
       "      <td>0</td>\n",
       "      <td>0</td>\n",
       "      <td>0</td>\n",
       "      <td>0</td>\n",
       "      <td>0</td>\n",
       "      <td>0</td>\n",
       "      <td>0</td>\n",
       "      <td>0</td>\n",
       "      <td>...</td>\n",
       "      <td>0</td>\n",
       "      <td>0</td>\n",
       "      <td>0</td>\n",
       "      <td>0</td>\n",
       "      <td>0</td>\n",
       "      <td>0</td>\n",
       "      <td>0</td>\n",
       "      <td>0</td>\n",
       "      <td>0</td>\n",
       "      <td>0</td>\n",
       "    </tr>\n",
       "    <tr>\n",
       "      <th>ZaharescuAlexandru</th>\n",
       "      <td>1</td>\n",
       "      <td>0</td>\n",
       "      <td>5</td>\n",
       "      <td>18</td>\n",
       "      <td>3</td>\n",
       "      <td>19</td>\n",
       "      <td>12</td>\n",
       "      <td>0</td>\n",
       "      <td>11</td>\n",
       "      <td>4</td>\n",
       "      <td>...</td>\n",
       "      <td>1</td>\n",
       "      <td>2</td>\n",
       "      <td>1</td>\n",
       "      <td>2</td>\n",
       "      <td>1</td>\n",
       "      <td>1</td>\n",
       "      <td>3</td>\n",
       "      <td>2</td>\n",
       "      <td>1</td>\n",
       "      <td>1</td>\n",
       "    </tr>\n",
       "    <tr>\n",
       "      <th>ZharnitskyVadim</th>\n",
       "      <td>0</td>\n",
       "      <td>0</td>\n",
       "      <td>0</td>\n",
       "      <td>0</td>\n",
       "      <td>1</td>\n",
       "      <td>0</td>\n",
       "      <td>0</td>\n",
       "      <td>0</td>\n",
       "      <td>0</td>\n",
       "      <td>0</td>\n",
       "      <td>...</td>\n",
       "      <td>0</td>\n",
       "      <td>0</td>\n",
       "      <td>0</td>\n",
       "      <td>0</td>\n",
       "      <td>0</td>\n",
       "      <td>0</td>\n",
       "      <td>0</td>\n",
       "      <td>0</td>\n",
       "      <td>0</td>\n",
       "      <td>0</td>\n",
       "    </tr>\n",
       "  </tbody>\n",
       "</table>\n",
       "<p>70 rows × 527 columns</p>\n",
       "</div>"
      ],
      "text/plain": [
       "                     T  Ann. Comb.  Math. Ann.  J. Math. Anal. Appl.  \\\n",
       "AhlgrenScottD        1           1           5                     1   \n",
       "AlbinPierre          0           0           0                     0   \n",
       "BaloghJózsef         0           0           0                     0   \n",
       "BaryshnikovYuliyM    0           0           0                     0   \n",
       "Berwick-EvansDaniel  0           0           0                     0   \n",
       "...                 ..         ...         ...                   ...   \n",
       "WuXuan               0           0           0                     0   \n",
       "YongAlexanderTF      0           0           1                     0   \n",
       "YoungAmanda          0           0           0                     0   \n",
       "ZaharescuAlexandru   1           0           5                    18   \n",
       "ZharnitskyVadim      0           0           0                     0   \n",
       "\n",
       "                     Int. Math. Res. Not. IMRN  J. Number Theory  Adv. Math.  \\\n",
       "AhlgrenScottD                                2                 5           3   \n",
       "AlbinPierre                                  2                 0           3   \n",
       "BaloghJózsef                                 1                 0           1   \n",
       "BaryshnikovYuliyM                            1                 0           2   \n",
       "Berwick-EvansDaniel                          0                 0           1   \n",
       "...                                        ...               ...         ...   \n",
       "WuXuan                                       0                 0           0   \n",
       "YongAlexanderTF                              1                 0           4   \n",
       "YoungAmanda                                  0                 0           0   \n",
       "ZaharescuAlexandru                           3                19          12   \n",
       "ZharnitskyVadim                              1                 0           0   \n",
       "\n",
       "                     Res. Number Theory  Int. J. Number Theory  \\\n",
       "AhlgrenScottD                         1                      1   \n",
       "AlbinPierre                           0                      0   \n",
       "BaloghJózsef                          0                      0   \n",
       "BaryshnikovYuliyM                     0                      0   \n",
       "Berwick-EvansDaniel                   0                      0   \n",
       "...                                 ...                    ...   \n",
       "WuXuan                                0                      0   \n",
       "YongAlexanderTF                       0                      0   \n",
       "YoungAmanda                           0                      0   \n",
       "ZaharescuAlexandru                    0                     11   \n",
       "ZharnitskyVadim                       0                      0   \n",
       "\n",
       "                     Math. Proc. Cambridge Philos. Soc.  ...  \\\n",
       "AhlgrenScottD                                         1  ...   \n",
       "AlbinPierre                                           0  ...   \n",
       "BaloghJózsef                                          0  ...   \n",
       "BaryshnikovYuliyM                                     0  ...   \n",
       "Berwick-EvansDaniel                                   0  ...   \n",
       "...                                                 ...  ...   \n",
       "WuXuan                                                0  ...   \n",
       "YongAlexanderTF                                       0  ...   \n",
       "YoungAmanda                                           0  ...   \n",
       "ZaharescuAlexandru                                    4  ...   \n",
       "ZharnitskyVadim                                       0  ...   \n",
       "\n",
       "                     Math. Sci. Res. J.  J. Théor. Nombres Bordeaux  \\\n",
       "AhlgrenScottD                         0                           0   \n",
       "AlbinPierre                           0                           0   \n",
       "BaloghJózsef                          0                           0   \n",
       "BaryshnikovYuliyM                     0                           0   \n",
       "Berwick-EvansDaniel                   0                           0   \n",
       "...                                 ...                         ...   \n",
       "WuXuan                                0                           0   \n",
       "YongAlexanderTF                       0                           0   \n",
       "YoungAmanda                           0                           0   \n",
       "ZaharescuAlexandru                    1                           2   \n",
       "ZharnitskyVadim                       0                           0   \n",
       "\n",
       "                     Nihonkai Math. J.  Port. Math. (N.S.)  \\\n",
       "AhlgrenScottD                        0                   0   \n",
       "AlbinPierre                          0                   0   \n",
       "BaloghJózsef                         0                   0   \n",
       "BaryshnikovYuliyM                    0                   0   \n",
       "Berwick-EvansDaniel                  0                   0   \n",
       "...                                ...                 ...   \n",
       "WuXuan                               0                   0   \n",
       "YongAlexanderTF                      0                   0   \n",
       "YoungAmanda                          0                   0   \n",
       "ZaharescuAlexandru                   1                   2   \n",
       "ZharnitskyVadim                      0                   0   \n",
       "\n",
       "                     Demonstratio Math.  Int. J. Math. Math. Sci.  \\\n",
       "AhlgrenScottD                         0                         0   \n",
       "AlbinPierre                           0                         0   \n",
       "BaloghJózsef                          0                         0   \n",
       "BaryshnikovYuliyM                     0                         0   \n",
       "Berwick-EvansDaniel                   0                         0   \n",
       "...                                 ...                       ...   \n",
       "WuXuan                                0                         0   \n",
       "YongAlexanderTF                       0                         0   \n",
       "YoungAmanda                           0                         0   \n",
       "ZaharescuAlexandru                    1                         1   \n",
       "ZharnitskyVadim                       0                         0   \n",
       "\n",
       "                     C. R. Math. Acad. Sci. Soc. R. Can.  Portugal. Math.  \\\n",
       "AhlgrenScottD                                          0                0   \n",
       "AlbinPierre                                            0                0   \n",
       "BaloghJózsef                                           0                0   \n",
       "BaryshnikovYuliyM                                      0                0   \n",
       "Berwick-EvansDaniel                                    0                0   \n",
       "...                                                  ...              ...   \n",
       "WuXuan                                                 0                0   \n",
       "YongAlexanderTF                                        0                0   \n",
       "YoungAmanda                                            0                0   \n",
       "ZaharescuAlexandru                                     3                2   \n",
       "ZharnitskyVadim                                        0                0   \n",
       "\n",
       "                     An. Ştiinţ. Univ. Ovidius Constanţa Ser. Mat.  \\\n",
       "AhlgrenScottD                                                    0   \n",
       "AlbinPierre                                                      0   \n",
       "BaloghJózsef                                                     0   \n",
       "BaryshnikovYuliyM                                                0   \n",
       "Berwick-EvansDaniel                                              0   \n",
       "...                                                            ...   \n",
       "WuXuan                                                           0   \n",
       "YongAlexanderTF                                                  0   \n",
       "YoungAmanda                                                      0   \n",
       "ZaharescuAlexandru                                               1   \n",
       "ZharnitskyVadim                                                  0   \n",
       "\n",
       "                     Stud. Cerc. Mat.  \n",
       "AhlgrenScottD                       0  \n",
       "AlbinPierre                         0  \n",
       "BaloghJózsef                        0  \n",
       "BaryshnikovYuliyM                   0  \n",
       "Berwick-EvansDaniel                 0  \n",
       "...                               ...  \n",
       "WuXuan                              0  \n",
       "YongAlexanderTF                     0  \n",
       "YoungAmanda                         0  \n",
       "ZaharescuAlexandru                  1  \n",
       "ZharnitskyVadim                     0  \n",
       "\n",
       "[70 rows x 527 columns]"
      ]
     },
     "execution_count": 25,
     "metadata": {},
     "output_type": "execute_result"
    }
   ],
   "source": [
    "journals"
   ]
  },
  {
   "cell_type": "code",
   "execution_count": 26,
   "metadata": {},
   "outputs": [],
   "source": [
    "# Here we make sure to sort the faculty members alphabetically just for convenience\n",
    "\n",
    "journals = journals.sort_index() "
   ]
  },
  {
   "cell_type": "code",
   "execution_count": 27,
   "metadata": {},
   "outputs": [],
   "source": [
    "# The code here serves to remove any column that contains only one non-zero element. \n",
    "# This serves to possibly improve the variation distribution among the principal components after PCA is conducted.\n",
    "\n",
    "for col in journals:\n",
    "    if np.count_nonzero(journals[col]) == 1:\n",
    "        journals.drop(col, axis=1, inplace= True)\n",
    "\n"
   ]
  },
  {
   "cell_type": "code",
   "execution_count": 28,
   "metadata": {},
   "outputs": [
    {
     "name": "stdout",
     "output_type": "stream",
     "text": [
      "Number of NaN values in each column:\n",
      " T                                          0\n",
      "Ann. Comb.                                 0\n",
      "Math. Ann.                                 0\n",
      "J. Math. Anal. Appl.                       0\n",
      "Int. Math. Res. Not. IMRN                  0\n",
      "                                          ..\n",
      "Stoch. Anal. Appl.                         0\n",
      "J. Korean Math. Soc.                       0\n",
      "Math. Mag.                                 0\n",
      "Ergodic Theory Dynam. Systems              0\n",
      "Ann. Sc. Norm. Super. Pisa Cl. Sci. (5)    0\n",
      "Length: 272, dtype: int64\n",
      "\n",
      "Number of Infinite values in each column:\n",
      " T                                          0\n",
      "Ann. Comb.                                 0\n",
      "Math. Ann.                                 0\n",
      "J. Math. Anal. Appl.                       0\n",
      "Int. Math. Res. Not. IMRN                  0\n",
      "                                          ..\n",
      "Stoch. Anal. Appl.                         0\n",
      "J. Korean Math. Soc.                       0\n",
      "Math. Mag.                                 0\n",
      "Ergodic Theory Dynam. Systems              0\n",
      "Ann. Sc. Norm. Super. Pisa Cl. Sci. (5)    0\n",
      "Length: 272, dtype: int64\n"
     ]
    },
    {
     "name": "stderr",
     "output_type": "stream",
     "text": [
      "C:\\Users\\adamw\\AppData\\Local\\Temp\\ipykernel_19528\\3591530131.py:5: FutureWarning: DataFrame.applymap has been deprecated. Use DataFrame.map instead.\n",
      "  inf_values = journals.applymap(np.isinf).sum()\n"
     ]
    }
   ],
   "source": [
    "nan_values = journals.isnull().sum()\n",
    "\n",
    "# Check for infinite values and fill them\n",
    "\n",
    "inf_values = journals.applymap(np.isinf).sum()\n",
    "\n",
    "print(\"Number of NaN values in each column:\\n\", nan_values)\n",
    "print(\"\\nNumber of Infinite values in each column:\\n\", inf_values)"
   ]
  },
  {
   "cell_type": "code",
   "execution_count": 29,
   "metadata": {},
   "outputs": [
    {
     "name": "stdout",
     "output_type": "stream",
     "text": [
      "Rows with sum of absolute values equal to zero: 0\n",
      "Rows with sum of squared values equal to zero: 0\n",
      "Indices of rows with sum of absolute values equal to zero: []\n",
      "Indices of rows with sum of squared values equal to zero: []\n"
     ]
    }
   ],
   "source": [
    "# Check for rows with sum of absolute values equal to zero (for L1)\n",
    "\n",
    "zero_sum_rows_l1 = (journals.abs().sum(axis=1) == 0)\n",
    "\n",
    "# Check for rows with sum of squared values equal to zero (for L2)\n",
    "\n",
    "zero_sum_rows_l2 = (journals.pow(2).sum(axis=1) == 0)\n",
    "\n",
    "print(\"Rows with sum of absolute values equal to zero:\", zero_sum_rows_l1.sum())\n",
    "print(\"Rows with sum of squared values equal to zero:\", zero_sum_rows_l2.sum())\n",
    "\n",
    "# Identify indices of rows with sum of absolute values equal to zero (for L1)\n",
    "\n",
    "indices_l1_zero_sum = journals.index[journals.abs().sum(axis=1) == 0].tolist()\n",
    "\n",
    "# Identify indices of rows with sum of squared values equal to zero (for L2)\n",
    "\n",
    "indices_l2_zero_sum = journals.index[journals.pow(2).sum(axis=1) == 0].tolist()\n",
    "\n",
    "print(\"Indices of rows with sum of absolute values equal to zero:\", indices_l1_zero_sum)\n",
    "print(\"Indices of rows with sum of squared values equal to zero:\", indices_l2_zero_sum)"
   ]
  },
  {
   "cell_type": "code",
   "execution_count": 30,
   "metadata": {},
   "outputs": [],
   "source": [
    "# L1 & L2 Noramalization\n",
    "\n",
    "# In an effort to standardize the data, we applied the L1-norm and the L2-norm row-wise.\n",
    "\n",
    "\n",
    "journals_l1 = journals.divide(journals.abs().sum(axis=1), axis=0)\n",
    "\n",
    "l2_norm = journals.pow(2).sum(axis=1).pow(0.5)\n",
    "\n",
    "journals_l2 = journals.divide(l2_norm, axis=0)"
   ]
  },
  {
   "cell_type": "code",
   "execution_count": 31,
   "metadata": {},
   "outputs": [
    {
     "data": {
      "text/html": [
       "<div>\n",
       "<style scoped>\n",
       "    .dataframe tbody tr th:only-of-type {\n",
       "        vertical-align: middle;\n",
       "    }\n",
       "\n",
       "    .dataframe tbody tr th {\n",
       "        vertical-align: top;\n",
       "    }\n",
       "\n",
       "    .dataframe thead th {\n",
       "        text-align: right;\n",
       "    }\n",
       "</style>\n",
       "<table border=\"1\" class=\"dataframe\">\n",
       "  <thead>\n",
       "    <tr style=\"text-align: right;\">\n",
       "      <th></th>\n",
       "      <th>T</th>\n",
       "      <th>Ann. Comb.</th>\n",
       "      <th>Math. Ann.</th>\n",
       "      <th>J. Math. Anal. Appl.</th>\n",
       "      <th>Int. Math. Res. Not. IMRN</th>\n",
       "      <th>J. Number Theory</th>\n",
       "      <th>Adv. Math.</th>\n",
       "      <th>Res. Number Theory</th>\n",
       "      <th>Int. J. Number Theory</th>\n",
       "      <th>Math. Proc. Cambridge Philos. Soc.</th>\n",
       "      <th>...</th>\n",
       "      <th>Math. Comput. Simulation</th>\n",
       "      <th>J. Symbolic Comput.</th>\n",
       "      <th>J. Integer Seq.</th>\n",
       "      <th>E</th>\n",
       "      <th>Potential Anal.</th>\n",
       "      <th>Stoch. Anal. Appl.</th>\n",
       "      <th>J. Korean Math. Soc.</th>\n",
       "      <th>Math. Mag.</th>\n",
       "      <th>Ergodic Theory Dynam. Systems</th>\n",
       "      <th>Ann. Sc. Norm. Super. Pisa Cl. Sci. (5)</th>\n",
       "    </tr>\n",
       "  </thead>\n",
       "  <tbody>\n",
       "    <tr>\n",
       "      <th>AhlgrenScottD</th>\n",
       "      <td>0.017857</td>\n",
       "      <td>0.017857</td>\n",
       "      <td>0.089286</td>\n",
       "      <td>0.017857</td>\n",
       "      <td>0.035714</td>\n",
       "      <td>0.089286</td>\n",
       "      <td>0.053571</td>\n",
       "      <td>0.017857</td>\n",
       "      <td>0.017857</td>\n",
       "      <td>0.017857</td>\n",
       "      <td>...</td>\n",
       "      <td>0.0</td>\n",
       "      <td>0.000000</td>\n",
       "      <td>0.000000</td>\n",
       "      <td>0.00</td>\n",
       "      <td>0.0</td>\n",
       "      <td>0.0</td>\n",
       "      <td>0.000000</td>\n",
       "      <td>0.000000</td>\n",
       "      <td>0.0</td>\n",
       "      <td>0.0</td>\n",
       "    </tr>\n",
       "    <tr>\n",
       "      <th>AlbinPierre</th>\n",
       "      <td>0.000000</td>\n",
       "      <td>0.000000</td>\n",
       "      <td>0.000000</td>\n",
       "      <td>0.000000</td>\n",
       "      <td>0.076923</td>\n",
       "      <td>0.000000</td>\n",
       "      <td>0.115385</td>\n",
       "      <td>0.000000</td>\n",
       "      <td>0.000000</td>\n",
       "      <td>0.000000</td>\n",
       "      <td>...</td>\n",
       "      <td>0.0</td>\n",
       "      <td>0.000000</td>\n",
       "      <td>0.000000</td>\n",
       "      <td>0.00</td>\n",
       "      <td>0.0</td>\n",
       "      <td>0.0</td>\n",
       "      <td>0.000000</td>\n",
       "      <td>0.000000</td>\n",
       "      <td>0.0</td>\n",
       "      <td>0.0</td>\n",
       "    </tr>\n",
       "    <tr>\n",
       "      <th>BaloghJózsef</th>\n",
       "      <td>0.000000</td>\n",
       "      <td>0.000000</td>\n",
       "      <td>0.000000</td>\n",
       "      <td>0.000000</td>\n",
       "      <td>0.005780</td>\n",
       "      <td>0.000000</td>\n",
       "      <td>0.005780</td>\n",
       "      <td>0.000000</td>\n",
       "      <td>0.000000</td>\n",
       "      <td>0.000000</td>\n",
       "      <td>...</td>\n",
       "      <td>0.0</td>\n",
       "      <td>0.000000</td>\n",
       "      <td>0.000000</td>\n",
       "      <td>0.00</td>\n",
       "      <td>0.0</td>\n",
       "      <td>0.0</td>\n",
       "      <td>0.000000</td>\n",
       "      <td>0.000000</td>\n",
       "      <td>0.0</td>\n",
       "      <td>0.0</td>\n",
       "    </tr>\n",
       "    <tr>\n",
       "      <th>BaryshnikovYuliyM</th>\n",
       "      <td>0.000000</td>\n",
       "      <td>0.000000</td>\n",
       "      <td>0.000000</td>\n",
       "      <td>0.000000</td>\n",
       "      <td>0.017241</td>\n",
       "      <td>0.000000</td>\n",
       "      <td>0.034483</td>\n",
       "      <td>0.000000</td>\n",
       "      <td>0.000000</td>\n",
       "      <td>0.000000</td>\n",
       "      <td>...</td>\n",
       "      <td>0.0</td>\n",
       "      <td>0.000000</td>\n",
       "      <td>0.000000</td>\n",
       "      <td>0.00</td>\n",
       "      <td>0.0</td>\n",
       "      <td>0.0</td>\n",
       "      <td>0.000000</td>\n",
       "      <td>0.000000</td>\n",
       "      <td>0.0</td>\n",
       "      <td>0.0</td>\n",
       "    </tr>\n",
       "    <tr>\n",
       "      <th>Berwick-EvansDaniel</th>\n",
       "      <td>0.000000</td>\n",
       "      <td>0.000000</td>\n",
       "      <td>0.000000</td>\n",
       "      <td>0.000000</td>\n",
       "      <td>0.000000</td>\n",
       "      <td>0.000000</td>\n",
       "      <td>0.142857</td>\n",
       "      <td>0.000000</td>\n",
       "      <td>0.000000</td>\n",
       "      <td>0.000000</td>\n",
       "      <td>...</td>\n",
       "      <td>0.0</td>\n",
       "      <td>0.000000</td>\n",
       "      <td>0.000000</td>\n",
       "      <td>0.00</td>\n",
       "      <td>0.0</td>\n",
       "      <td>0.0</td>\n",
       "      <td>0.000000</td>\n",
       "      <td>0.000000</td>\n",
       "      <td>0.0</td>\n",
       "      <td>0.0</td>\n",
       "    </tr>\n",
       "    <tr>\n",
       "      <th>...</th>\n",
       "      <td>...</td>\n",
       "      <td>...</td>\n",
       "      <td>...</td>\n",
       "      <td>...</td>\n",
       "      <td>...</td>\n",
       "      <td>...</td>\n",
       "      <td>...</td>\n",
       "      <td>...</td>\n",
       "      <td>...</td>\n",
       "      <td>...</td>\n",
       "      <td>...</td>\n",
       "      <td>...</td>\n",
       "      <td>...</td>\n",
       "      <td>...</td>\n",
       "      <td>...</td>\n",
       "      <td>...</td>\n",
       "      <td>...</td>\n",
       "      <td>...</td>\n",
       "      <td>...</td>\n",
       "      <td>...</td>\n",
       "      <td>...</td>\n",
       "    </tr>\n",
       "    <tr>\n",
       "      <th>WuXuan</th>\n",
       "      <td>0.000000</td>\n",
       "      <td>0.000000</td>\n",
       "      <td>0.000000</td>\n",
       "      <td>0.000000</td>\n",
       "      <td>0.000000</td>\n",
       "      <td>0.000000</td>\n",
       "      <td>0.000000</td>\n",
       "      <td>0.000000</td>\n",
       "      <td>0.000000</td>\n",
       "      <td>0.000000</td>\n",
       "      <td>...</td>\n",
       "      <td>0.0</td>\n",
       "      <td>0.000000</td>\n",
       "      <td>0.000000</td>\n",
       "      <td>0.25</td>\n",
       "      <td>0.0</td>\n",
       "      <td>0.0</td>\n",
       "      <td>0.000000</td>\n",
       "      <td>0.000000</td>\n",
       "      <td>0.0</td>\n",
       "      <td>0.0</td>\n",
       "    </tr>\n",
       "    <tr>\n",
       "      <th>YongAlexanderTF</th>\n",
       "      <td>0.000000</td>\n",
       "      <td>0.000000</td>\n",
       "      <td>0.016393</td>\n",
       "      <td>0.000000</td>\n",
       "      <td>0.016393</td>\n",
       "      <td>0.000000</td>\n",
       "      <td>0.065574</td>\n",
       "      <td>0.000000</td>\n",
       "      <td>0.000000</td>\n",
       "      <td>0.000000</td>\n",
       "      <td>...</td>\n",
       "      <td>0.0</td>\n",
       "      <td>0.016393</td>\n",
       "      <td>0.000000</td>\n",
       "      <td>0.00</td>\n",
       "      <td>0.0</td>\n",
       "      <td>0.0</td>\n",
       "      <td>0.000000</td>\n",
       "      <td>0.016393</td>\n",
       "      <td>0.0</td>\n",
       "      <td>0.0</td>\n",
       "    </tr>\n",
       "    <tr>\n",
       "      <th>YoungAmanda</th>\n",
       "      <td>0.000000</td>\n",
       "      <td>0.000000</td>\n",
       "      <td>0.000000</td>\n",
       "      <td>0.000000</td>\n",
       "      <td>0.000000</td>\n",
       "      <td>0.000000</td>\n",
       "      <td>0.000000</td>\n",
       "      <td>0.000000</td>\n",
       "      <td>0.000000</td>\n",
       "      <td>0.000000</td>\n",
       "      <td>...</td>\n",
       "      <td>0.0</td>\n",
       "      <td>0.000000</td>\n",
       "      <td>0.000000</td>\n",
       "      <td>0.00</td>\n",
       "      <td>0.0</td>\n",
       "      <td>0.0</td>\n",
       "      <td>0.000000</td>\n",
       "      <td>0.000000</td>\n",
       "      <td>0.0</td>\n",
       "      <td>0.0</td>\n",
       "    </tr>\n",
       "    <tr>\n",
       "      <th>ZaharescuAlexandru</th>\n",
       "      <td>0.003968</td>\n",
       "      <td>0.000000</td>\n",
       "      <td>0.019841</td>\n",
       "      <td>0.071429</td>\n",
       "      <td>0.011905</td>\n",
       "      <td>0.075397</td>\n",
       "      <td>0.047619</td>\n",
       "      <td>0.000000</td>\n",
       "      <td>0.043651</td>\n",
       "      <td>0.015873</td>\n",
       "      <td>...</td>\n",
       "      <td>0.0</td>\n",
       "      <td>0.000000</td>\n",
       "      <td>0.007937</td>\n",
       "      <td>0.00</td>\n",
       "      <td>0.0</td>\n",
       "      <td>0.0</td>\n",
       "      <td>0.007937</td>\n",
       "      <td>0.000000</td>\n",
       "      <td>0.0</td>\n",
       "      <td>0.0</td>\n",
       "    </tr>\n",
       "    <tr>\n",
       "      <th>ZharnitskyVadim</th>\n",
       "      <td>0.000000</td>\n",
       "      <td>0.000000</td>\n",
       "      <td>0.000000</td>\n",
       "      <td>0.000000</td>\n",
       "      <td>0.022727</td>\n",
       "      <td>0.000000</td>\n",
       "      <td>0.000000</td>\n",
       "      <td>0.000000</td>\n",
       "      <td>0.000000</td>\n",
       "      <td>0.000000</td>\n",
       "      <td>...</td>\n",
       "      <td>0.0</td>\n",
       "      <td>0.000000</td>\n",
       "      <td>0.000000</td>\n",
       "      <td>0.00</td>\n",
       "      <td>0.0</td>\n",
       "      <td>0.0</td>\n",
       "      <td>0.000000</td>\n",
       "      <td>0.000000</td>\n",
       "      <td>0.0</td>\n",
       "      <td>0.0</td>\n",
       "    </tr>\n",
       "  </tbody>\n",
       "</table>\n",
       "<p>70 rows × 272 columns</p>\n",
       "</div>"
      ],
      "text/plain": [
       "                            T  Ann. Comb.  Math. Ann.  J. Math. Anal. Appl.  \\\n",
       "AhlgrenScottD        0.017857    0.017857    0.089286              0.017857   \n",
       "AlbinPierre          0.000000    0.000000    0.000000              0.000000   \n",
       "BaloghJózsef         0.000000    0.000000    0.000000              0.000000   \n",
       "BaryshnikovYuliyM    0.000000    0.000000    0.000000              0.000000   \n",
       "Berwick-EvansDaniel  0.000000    0.000000    0.000000              0.000000   \n",
       "...                       ...         ...         ...                   ...   \n",
       "WuXuan               0.000000    0.000000    0.000000              0.000000   \n",
       "YongAlexanderTF      0.000000    0.000000    0.016393              0.000000   \n",
       "YoungAmanda          0.000000    0.000000    0.000000              0.000000   \n",
       "ZaharescuAlexandru   0.003968    0.000000    0.019841              0.071429   \n",
       "ZharnitskyVadim      0.000000    0.000000    0.000000              0.000000   \n",
       "\n",
       "                     Int. Math. Res. Not. IMRN  J. Number Theory  Adv. Math.  \\\n",
       "AhlgrenScottD                         0.035714          0.089286    0.053571   \n",
       "AlbinPierre                           0.076923          0.000000    0.115385   \n",
       "BaloghJózsef                          0.005780          0.000000    0.005780   \n",
       "BaryshnikovYuliyM                     0.017241          0.000000    0.034483   \n",
       "Berwick-EvansDaniel                   0.000000          0.000000    0.142857   \n",
       "...                                        ...               ...         ...   \n",
       "WuXuan                                0.000000          0.000000    0.000000   \n",
       "YongAlexanderTF                       0.016393          0.000000    0.065574   \n",
       "YoungAmanda                           0.000000          0.000000    0.000000   \n",
       "ZaharescuAlexandru                    0.011905          0.075397    0.047619   \n",
       "ZharnitskyVadim                       0.022727          0.000000    0.000000   \n",
       "\n",
       "                     Res. Number Theory  Int. J. Number Theory  \\\n",
       "AhlgrenScottD                  0.017857               0.017857   \n",
       "AlbinPierre                    0.000000               0.000000   \n",
       "BaloghJózsef                   0.000000               0.000000   \n",
       "BaryshnikovYuliyM              0.000000               0.000000   \n",
       "Berwick-EvansDaniel            0.000000               0.000000   \n",
       "...                                 ...                    ...   \n",
       "WuXuan                         0.000000               0.000000   \n",
       "YongAlexanderTF                0.000000               0.000000   \n",
       "YoungAmanda                    0.000000               0.000000   \n",
       "ZaharescuAlexandru             0.000000               0.043651   \n",
       "ZharnitskyVadim                0.000000               0.000000   \n",
       "\n",
       "                     Math. Proc. Cambridge Philos. Soc.  ...  \\\n",
       "AhlgrenScottD                                  0.017857  ...   \n",
       "AlbinPierre                                    0.000000  ...   \n",
       "BaloghJózsef                                   0.000000  ...   \n",
       "BaryshnikovYuliyM                              0.000000  ...   \n",
       "Berwick-EvansDaniel                            0.000000  ...   \n",
       "...                                                 ...  ...   \n",
       "WuXuan                                         0.000000  ...   \n",
       "YongAlexanderTF                                0.000000  ...   \n",
       "YoungAmanda                                    0.000000  ...   \n",
       "ZaharescuAlexandru                             0.015873  ...   \n",
       "ZharnitskyVadim                                0.000000  ...   \n",
       "\n",
       "                     Math. Comput. Simulation  J. Symbolic Comput.  \\\n",
       "AhlgrenScottD                             0.0             0.000000   \n",
       "AlbinPierre                               0.0             0.000000   \n",
       "BaloghJózsef                              0.0             0.000000   \n",
       "BaryshnikovYuliyM                         0.0             0.000000   \n",
       "Berwick-EvansDaniel                       0.0             0.000000   \n",
       "...                                       ...                  ...   \n",
       "WuXuan                                    0.0             0.000000   \n",
       "YongAlexanderTF                           0.0             0.016393   \n",
       "YoungAmanda                               0.0             0.000000   \n",
       "ZaharescuAlexandru                        0.0             0.000000   \n",
       "ZharnitskyVadim                           0.0             0.000000   \n",
       "\n",
       "                     J. Integer Seq.     E  Potential Anal.  \\\n",
       "AhlgrenScottD               0.000000  0.00              0.0   \n",
       "AlbinPierre                 0.000000  0.00              0.0   \n",
       "BaloghJózsef                0.000000  0.00              0.0   \n",
       "BaryshnikovYuliyM           0.000000  0.00              0.0   \n",
       "Berwick-EvansDaniel         0.000000  0.00              0.0   \n",
       "...                              ...   ...              ...   \n",
       "WuXuan                      0.000000  0.25              0.0   \n",
       "YongAlexanderTF             0.000000  0.00              0.0   \n",
       "YoungAmanda                 0.000000  0.00              0.0   \n",
       "ZaharescuAlexandru          0.007937  0.00              0.0   \n",
       "ZharnitskyVadim             0.000000  0.00              0.0   \n",
       "\n",
       "                     Stoch. Anal. Appl.  J. Korean Math. Soc.  Math. Mag.  \\\n",
       "AhlgrenScottD                       0.0              0.000000    0.000000   \n",
       "AlbinPierre                         0.0              0.000000    0.000000   \n",
       "BaloghJózsef                        0.0              0.000000    0.000000   \n",
       "BaryshnikovYuliyM                   0.0              0.000000    0.000000   \n",
       "Berwick-EvansDaniel                 0.0              0.000000    0.000000   \n",
       "...                                 ...                   ...         ...   \n",
       "WuXuan                              0.0              0.000000    0.000000   \n",
       "YongAlexanderTF                     0.0              0.000000    0.016393   \n",
       "YoungAmanda                         0.0              0.000000    0.000000   \n",
       "ZaharescuAlexandru                  0.0              0.007937    0.000000   \n",
       "ZharnitskyVadim                     0.0              0.000000    0.000000   \n",
       "\n",
       "                     Ergodic Theory Dynam. Systems  \\\n",
       "AhlgrenScottD                                  0.0   \n",
       "AlbinPierre                                    0.0   \n",
       "BaloghJózsef                                   0.0   \n",
       "BaryshnikovYuliyM                              0.0   \n",
       "Berwick-EvansDaniel                            0.0   \n",
       "...                                            ...   \n",
       "WuXuan                                         0.0   \n",
       "YongAlexanderTF                                0.0   \n",
       "YoungAmanda                                    0.0   \n",
       "ZaharescuAlexandru                             0.0   \n",
       "ZharnitskyVadim                                0.0   \n",
       "\n",
       "                     Ann. Sc. Norm. Super. Pisa Cl. Sci. (5)  \n",
       "AhlgrenScottD                                            0.0  \n",
       "AlbinPierre                                              0.0  \n",
       "BaloghJózsef                                             0.0  \n",
       "BaryshnikovYuliyM                                        0.0  \n",
       "Berwick-EvansDaniel                                      0.0  \n",
       "...                                                      ...  \n",
       "WuXuan                                                   0.0  \n",
       "YongAlexanderTF                                          0.0  \n",
       "YoungAmanda                                              0.0  \n",
       "ZaharescuAlexandru                                       0.0  \n",
       "ZharnitskyVadim                                          0.0  \n",
       "\n",
       "[70 rows x 272 columns]"
      ]
     },
     "execution_count": 31,
     "metadata": {},
     "output_type": "execute_result"
    }
   ],
   "source": [
    "journals_l1"
   ]
  },
  {
   "cell_type": "code",
   "execution_count": 32,
   "metadata": {},
   "outputs": [
    {
     "data": {
      "text/html": [
       "<div>\n",
       "<style scoped>\n",
       "    .dataframe tbody tr th:only-of-type {\n",
       "        vertical-align: middle;\n",
       "    }\n",
       "\n",
       "    .dataframe tbody tr th {\n",
       "        vertical-align: top;\n",
       "    }\n",
       "\n",
       "    .dataframe thead th {\n",
       "        text-align: right;\n",
       "    }\n",
       "</style>\n",
       "<table border=\"1\" class=\"dataframe\">\n",
       "  <thead>\n",
       "    <tr style=\"text-align: right;\">\n",
       "      <th></th>\n",
       "      <th>T</th>\n",
       "      <th>Ann. Comb.</th>\n",
       "      <th>Math. Ann.</th>\n",
       "      <th>J. Math. Anal. Appl.</th>\n",
       "      <th>Int. Math. Res. Not. IMRN</th>\n",
       "      <th>J. Number Theory</th>\n",
       "      <th>Adv. Math.</th>\n",
       "      <th>Res. Number Theory</th>\n",
       "      <th>Int. J. Number Theory</th>\n",
       "      <th>Math. Proc. Cambridge Philos. Soc.</th>\n",
       "      <th>...</th>\n",
       "      <th>Math. Comput. Simulation</th>\n",
       "      <th>J. Symbolic Comput.</th>\n",
       "      <th>J. Integer Seq.</th>\n",
       "      <th>E</th>\n",
       "      <th>Potential Anal.</th>\n",
       "      <th>Stoch. Anal. Appl.</th>\n",
       "      <th>J. Korean Math. Soc.</th>\n",
       "      <th>Math. Mag.</th>\n",
       "      <th>Ergodic Theory Dynam. Systems</th>\n",
       "      <th>Ann. Sc. Norm. Super. Pisa Cl. Sci. (5)</th>\n",
       "    </tr>\n",
       "  </thead>\n",
       "  <tbody>\n",
       "    <tr>\n",
       "      <th>AhlgrenScottD</th>\n",
       "      <td>0.080064</td>\n",
       "      <td>0.080064</td>\n",
       "      <td>0.400320</td>\n",
       "      <td>0.080064</td>\n",
       "      <td>0.160128</td>\n",
       "      <td>0.400320</td>\n",
       "      <td>0.240192</td>\n",
       "      <td>0.080064</td>\n",
       "      <td>0.080064</td>\n",
       "      <td>0.080064</td>\n",
       "      <td>...</td>\n",
       "      <td>0.0</td>\n",
       "      <td>0.000000</td>\n",
       "      <td>0.000000</td>\n",
       "      <td>0.0</td>\n",
       "      <td>0.0</td>\n",
       "      <td>0.0</td>\n",
       "      <td>0.000000</td>\n",
       "      <td>0.000000</td>\n",
       "      <td>0.0</td>\n",
       "      <td>0.0</td>\n",
       "    </tr>\n",
       "    <tr>\n",
       "      <th>AlbinPierre</th>\n",
       "      <td>0.000000</td>\n",
       "      <td>0.000000</td>\n",
       "      <td>0.000000</td>\n",
       "      <td>0.000000</td>\n",
       "      <td>0.277350</td>\n",
       "      <td>0.000000</td>\n",
       "      <td>0.416025</td>\n",
       "      <td>0.000000</td>\n",
       "      <td>0.000000</td>\n",
       "      <td>0.000000</td>\n",
       "      <td>...</td>\n",
       "      <td>0.0</td>\n",
       "      <td>0.000000</td>\n",
       "      <td>0.000000</td>\n",
       "      <td>0.0</td>\n",
       "      <td>0.0</td>\n",
       "      <td>0.0</td>\n",
       "      <td>0.000000</td>\n",
       "      <td>0.000000</td>\n",
       "      <td>0.0</td>\n",
       "      <td>0.0</td>\n",
       "    </tr>\n",
       "    <tr>\n",
       "      <th>BaloghJózsef</th>\n",
       "      <td>0.000000</td>\n",
       "      <td>0.000000</td>\n",
       "      <td>0.000000</td>\n",
       "      <td>0.000000</td>\n",
       "      <td>0.025794</td>\n",
       "      <td>0.000000</td>\n",
       "      <td>0.025794</td>\n",
       "      <td>0.000000</td>\n",
       "      <td>0.000000</td>\n",
       "      <td>0.000000</td>\n",
       "      <td>...</td>\n",
       "      <td>0.0</td>\n",
       "      <td>0.000000</td>\n",
       "      <td>0.000000</td>\n",
       "      <td>0.0</td>\n",
       "      <td>0.0</td>\n",
       "      <td>0.0</td>\n",
       "      <td>0.000000</td>\n",
       "      <td>0.000000</td>\n",
       "      <td>0.0</td>\n",
       "      <td>0.0</td>\n",
       "    </tr>\n",
       "    <tr>\n",
       "      <th>BaryshnikovYuliyM</th>\n",
       "      <td>0.000000</td>\n",
       "      <td>0.000000</td>\n",
       "      <td>0.000000</td>\n",
       "      <td>0.000000</td>\n",
       "      <td>0.067420</td>\n",
       "      <td>0.000000</td>\n",
       "      <td>0.134840</td>\n",
       "      <td>0.000000</td>\n",
       "      <td>0.000000</td>\n",
       "      <td>0.000000</td>\n",
       "      <td>...</td>\n",
       "      <td>0.0</td>\n",
       "      <td>0.000000</td>\n",
       "      <td>0.000000</td>\n",
       "      <td>0.0</td>\n",
       "      <td>0.0</td>\n",
       "      <td>0.0</td>\n",
       "      <td>0.000000</td>\n",
       "      <td>0.000000</td>\n",
       "      <td>0.0</td>\n",
       "      <td>0.0</td>\n",
       "    </tr>\n",
       "    <tr>\n",
       "      <th>Berwick-EvansDaniel</th>\n",
       "      <td>0.000000</td>\n",
       "      <td>0.000000</td>\n",
       "      <td>0.000000</td>\n",
       "      <td>0.000000</td>\n",
       "      <td>0.000000</td>\n",
       "      <td>0.000000</td>\n",
       "      <td>0.377964</td>\n",
       "      <td>0.000000</td>\n",
       "      <td>0.000000</td>\n",
       "      <td>0.000000</td>\n",
       "      <td>...</td>\n",
       "      <td>0.0</td>\n",
       "      <td>0.000000</td>\n",
       "      <td>0.000000</td>\n",
       "      <td>0.0</td>\n",
       "      <td>0.0</td>\n",
       "      <td>0.0</td>\n",
       "      <td>0.000000</td>\n",
       "      <td>0.000000</td>\n",
       "      <td>0.0</td>\n",
       "      <td>0.0</td>\n",
       "    </tr>\n",
       "    <tr>\n",
       "      <th>...</th>\n",
       "      <td>...</td>\n",
       "      <td>...</td>\n",
       "      <td>...</td>\n",
       "      <td>...</td>\n",
       "      <td>...</td>\n",
       "      <td>...</td>\n",
       "      <td>...</td>\n",
       "      <td>...</td>\n",
       "      <td>...</td>\n",
       "      <td>...</td>\n",
       "      <td>...</td>\n",
       "      <td>...</td>\n",
       "      <td>...</td>\n",
       "      <td>...</td>\n",
       "      <td>...</td>\n",
       "      <td>...</td>\n",
       "      <td>...</td>\n",
       "      <td>...</td>\n",
       "      <td>...</td>\n",
       "      <td>...</td>\n",
       "      <td>...</td>\n",
       "    </tr>\n",
       "    <tr>\n",
       "      <th>WuXuan</th>\n",
       "      <td>0.000000</td>\n",
       "      <td>0.000000</td>\n",
       "      <td>0.000000</td>\n",
       "      <td>0.000000</td>\n",
       "      <td>0.000000</td>\n",
       "      <td>0.000000</td>\n",
       "      <td>0.000000</td>\n",
       "      <td>0.000000</td>\n",
       "      <td>0.000000</td>\n",
       "      <td>0.000000</td>\n",
       "      <td>...</td>\n",
       "      <td>0.0</td>\n",
       "      <td>0.000000</td>\n",
       "      <td>0.000000</td>\n",
       "      <td>0.5</td>\n",
       "      <td>0.0</td>\n",
       "      <td>0.0</td>\n",
       "      <td>0.000000</td>\n",
       "      <td>0.000000</td>\n",
       "      <td>0.0</td>\n",
       "      <td>0.0</td>\n",
       "    </tr>\n",
       "    <tr>\n",
       "      <th>YongAlexanderTF</th>\n",
       "      <td>0.000000</td>\n",
       "      <td>0.000000</td>\n",
       "      <td>0.078811</td>\n",
       "      <td>0.000000</td>\n",
       "      <td>0.078811</td>\n",
       "      <td>0.000000</td>\n",
       "      <td>0.315244</td>\n",
       "      <td>0.000000</td>\n",
       "      <td>0.000000</td>\n",
       "      <td>0.000000</td>\n",
       "      <td>...</td>\n",
       "      <td>0.0</td>\n",
       "      <td>0.078811</td>\n",
       "      <td>0.000000</td>\n",
       "      <td>0.0</td>\n",
       "      <td>0.0</td>\n",
       "      <td>0.0</td>\n",
       "      <td>0.000000</td>\n",
       "      <td>0.078811</td>\n",
       "      <td>0.0</td>\n",
       "      <td>0.0</td>\n",
       "    </tr>\n",
       "    <tr>\n",
       "      <th>YoungAmanda</th>\n",
       "      <td>0.000000</td>\n",
       "      <td>0.000000</td>\n",
       "      <td>0.000000</td>\n",
       "      <td>0.000000</td>\n",
       "      <td>0.000000</td>\n",
       "      <td>0.000000</td>\n",
       "      <td>0.000000</td>\n",
       "      <td>0.000000</td>\n",
       "      <td>0.000000</td>\n",
       "      <td>0.000000</td>\n",
       "      <td>...</td>\n",
       "      <td>0.0</td>\n",
       "      <td>0.000000</td>\n",
       "      <td>0.000000</td>\n",
       "      <td>0.0</td>\n",
       "      <td>0.0</td>\n",
       "      <td>0.0</td>\n",
       "      <td>0.000000</td>\n",
       "      <td>0.000000</td>\n",
       "      <td>0.0</td>\n",
       "      <td>0.0</td>\n",
       "    </tr>\n",
       "    <tr>\n",
       "      <th>ZaharescuAlexandru</th>\n",
       "      <td>0.022372</td>\n",
       "      <td>0.000000</td>\n",
       "      <td>0.111859</td>\n",
       "      <td>0.402694</td>\n",
       "      <td>0.067116</td>\n",
       "      <td>0.425066</td>\n",
       "      <td>0.268462</td>\n",
       "      <td>0.000000</td>\n",
       "      <td>0.246091</td>\n",
       "      <td>0.089487</td>\n",
       "      <td>...</td>\n",
       "      <td>0.0</td>\n",
       "      <td>0.000000</td>\n",
       "      <td>0.044744</td>\n",
       "      <td>0.0</td>\n",
       "      <td>0.0</td>\n",
       "      <td>0.0</td>\n",
       "      <td>0.044744</td>\n",
       "      <td>0.000000</td>\n",
       "      <td>0.0</td>\n",
       "      <td>0.0</td>\n",
       "    </tr>\n",
       "    <tr>\n",
       "      <th>ZharnitskyVadim</th>\n",
       "      <td>0.000000</td>\n",
       "      <td>0.000000</td>\n",
       "      <td>0.000000</td>\n",
       "      <td>0.000000</td>\n",
       "      <td>0.075378</td>\n",
       "      <td>0.000000</td>\n",
       "      <td>0.000000</td>\n",
       "      <td>0.000000</td>\n",
       "      <td>0.000000</td>\n",
       "      <td>0.000000</td>\n",
       "      <td>...</td>\n",
       "      <td>0.0</td>\n",
       "      <td>0.000000</td>\n",
       "      <td>0.000000</td>\n",
       "      <td>0.0</td>\n",
       "      <td>0.0</td>\n",
       "      <td>0.0</td>\n",
       "      <td>0.000000</td>\n",
       "      <td>0.000000</td>\n",
       "      <td>0.0</td>\n",
       "      <td>0.0</td>\n",
       "    </tr>\n",
       "  </tbody>\n",
       "</table>\n",
       "<p>70 rows × 272 columns</p>\n",
       "</div>"
      ],
      "text/plain": [
       "                            T  Ann. Comb.  Math. Ann.  J. Math. Anal. Appl.  \\\n",
       "AhlgrenScottD        0.080064    0.080064    0.400320              0.080064   \n",
       "AlbinPierre          0.000000    0.000000    0.000000              0.000000   \n",
       "BaloghJózsef         0.000000    0.000000    0.000000              0.000000   \n",
       "BaryshnikovYuliyM    0.000000    0.000000    0.000000              0.000000   \n",
       "Berwick-EvansDaniel  0.000000    0.000000    0.000000              0.000000   \n",
       "...                       ...         ...         ...                   ...   \n",
       "WuXuan               0.000000    0.000000    0.000000              0.000000   \n",
       "YongAlexanderTF      0.000000    0.000000    0.078811              0.000000   \n",
       "YoungAmanda          0.000000    0.000000    0.000000              0.000000   \n",
       "ZaharescuAlexandru   0.022372    0.000000    0.111859              0.402694   \n",
       "ZharnitskyVadim      0.000000    0.000000    0.000000              0.000000   \n",
       "\n",
       "                     Int. Math. Res. Not. IMRN  J. Number Theory  Adv. Math.  \\\n",
       "AhlgrenScottD                         0.160128          0.400320    0.240192   \n",
       "AlbinPierre                           0.277350          0.000000    0.416025   \n",
       "BaloghJózsef                          0.025794          0.000000    0.025794   \n",
       "BaryshnikovYuliyM                     0.067420          0.000000    0.134840   \n",
       "Berwick-EvansDaniel                   0.000000          0.000000    0.377964   \n",
       "...                                        ...               ...         ...   \n",
       "WuXuan                                0.000000          0.000000    0.000000   \n",
       "YongAlexanderTF                       0.078811          0.000000    0.315244   \n",
       "YoungAmanda                           0.000000          0.000000    0.000000   \n",
       "ZaharescuAlexandru                    0.067116          0.425066    0.268462   \n",
       "ZharnitskyVadim                       0.075378          0.000000    0.000000   \n",
       "\n",
       "                     Res. Number Theory  Int. J. Number Theory  \\\n",
       "AhlgrenScottD                  0.080064               0.080064   \n",
       "AlbinPierre                    0.000000               0.000000   \n",
       "BaloghJózsef                   0.000000               0.000000   \n",
       "BaryshnikovYuliyM              0.000000               0.000000   \n",
       "Berwick-EvansDaniel            0.000000               0.000000   \n",
       "...                                 ...                    ...   \n",
       "WuXuan                         0.000000               0.000000   \n",
       "YongAlexanderTF                0.000000               0.000000   \n",
       "YoungAmanda                    0.000000               0.000000   \n",
       "ZaharescuAlexandru             0.000000               0.246091   \n",
       "ZharnitskyVadim                0.000000               0.000000   \n",
       "\n",
       "                     Math. Proc. Cambridge Philos. Soc.  ...  \\\n",
       "AhlgrenScottD                                  0.080064  ...   \n",
       "AlbinPierre                                    0.000000  ...   \n",
       "BaloghJózsef                                   0.000000  ...   \n",
       "BaryshnikovYuliyM                              0.000000  ...   \n",
       "Berwick-EvansDaniel                            0.000000  ...   \n",
       "...                                                 ...  ...   \n",
       "WuXuan                                         0.000000  ...   \n",
       "YongAlexanderTF                                0.000000  ...   \n",
       "YoungAmanda                                    0.000000  ...   \n",
       "ZaharescuAlexandru                             0.089487  ...   \n",
       "ZharnitskyVadim                                0.000000  ...   \n",
       "\n",
       "                     Math. Comput. Simulation  J. Symbolic Comput.  \\\n",
       "AhlgrenScottD                             0.0             0.000000   \n",
       "AlbinPierre                               0.0             0.000000   \n",
       "BaloghJózsef                              0.0             0.000000   \n",
       "BaryshnikovYuliyM                         0.0             0.000000   \n",
       "Berwick-EvansDaniel                       0.0             0.000000   \n",
       "...                                       ...                  ...   \n",
       "WuXuan                                    0.0             0.000000   \n",
       "YongAlexanderTF                           0.0             0.078811   \n",
       "YoungAmanda                               0.0             0.000000   \n",
       "ZaharescuAlexandru                        0.0             0.000000   \n",
       "ZharnitskyVadim                           0.0             0.000000   \n",
       "\n",
       "                     J. Integer Seq.    E  Potential Anal.  \\\n",
       "AhlgrenScottD               0.000000  0.0              0.0   \n",
       "AlbinPierre                 0.000000  0.0              0.0   \n",
       "BaloghJózsef                0.000000  0.0              0.0   \n",
       "BaryshnikovYuliyM           0.000000  0.0              0.0   \n",
       "Berwick-EvansDaniel         0.000000  0.0              0.0   \n",
       "...                              ...  ...              ...   \n",
       "WuXuan                      0.000000  0.5              0.0   \n",
       "YongAlexanderTF             0.000000  0.0              0.0   \n",
       "YoungAmanda                 0.000000  0.0              0.0   \n",
       "ZaharescuAlexandru          0.044744  0.0              0.0   \n",
       "ZharnitskyVadim             0.000000  0.0              0.0   \n",
       "\n",
       "                     Stoch. Anal. Appl.  J. Korean Math. Soc.  Math. Mag.  \\\n",
       "AhlgrenScottD                       0.0              0.000000    0.000000   \n",
       "AlbinPierre                         0.0              0.000000    0.000000   \n",
       "BaloghJózsef                        0.0              0.000000    0.000000   \n",
       "BaryshnikovYuliyM                   0.0              0.000000    0.000000   \n",
       "Berwick-EvansDaniel                 0.0              0.000000    0.000000   \n",
       "...                                 ...                   ...         ...   \n",
       "WuXuan                              0.0              0.000000    0.000000   \n",
       "YongAlexanderTF                     0.0              0.000000    0.078811   \n",
       "YoungAmanda                         0.0              0.000000    0.000000   \n",
       "ZaharescuAlexandru                  0.0              0.044744    0.000000   \n",
       "ZharnitskyVadim                     0.0              0.000000    0.000000   \n",
       "\n",
       "                     Ergodic Theory Dynam. Systems  \\\n",
       "AhlgrenScottD                                  0.0   \n",
       "AlbinPierre                                    0.0   \n",
       "BaloghJózsef                                   0.0   \n",
       "BaryshnikovYuliyM                              0.0   \n",
       "Berwick-EvansDaniel                            0.0   \n",
       "...                                            ...   \n",
       "WuXuan                                         0.0   \n",
       "YongAlexanderTF                                0.0   \n",
       "YoungAmanda                                    0.0   \n",
       "ZaharescuAlexandru                             0.0   \n",
       "ZharnitskyVadim                                0.0   \n",
       "\n",
       "                     Ann. Sc. Norm. Super. Pisa Cl. Sci. (5)  \n",
       "AhlgrenScottD                                            0.0  \n",
       "AlbinPierre                                              0.0  \n",
       "BaloghJózsef                                             0.0  \n",
       "BaryshnikovYuliyM                                        0.0  \n",
       "Berwick-EvansDaniel                                      0.0  \n",
       "...                                                      ...  \n",
       "WuXuan                                                   0.0  \n",
       "YongAlexanderTF                                          0.0  \n",
       "YoungAmanda                                              0.0  \n",
       "ZaharescuAlexandru                                       0.0  \n",
       "ZharnitskyVadim                                          0.0  \n",
       "\n",
       "[70 rows x 272 columns]"
      ]
     },
     "execution_count": 32,
     "metadata": {},
     "output_type": "execute_result"
    }
   ],
   "source": [
    "journals_l2"
   ]
  },
  {
   "cell_type": "code",
   "execution_count": 67,
   "metadata": {},
   "outputs": [],
   "source": [
    "#Apply PCA to reduce the dimension\n",
    "\n",
    "# Choose two dimensions to project the dataset down to a plane for visualization.\n",
    "\n",
    "pca = PCA(n_components=30)\n",
    "\n",
    "# Conduct PCA on the L1-norm standardized dataset\n",
    "\n",
    "principalComponents_l1 = pca.fit_transform(journals_l1)\n",
    "\n",
    "# Conduct PCA on the L2-norm standardized dataset\n",
    "\n",
    "principalComponents_l2 = pca.fit_transform(journals_l2)"
   ]
  },
  {
   "cell_type": "code",
   "execution_count": 68,
   "metadata": {},
   "outputs": [
    {
     "name": "stdout",
     "output_type": "stream",
     "text": [
      "                           0         1         2         3         4   \\\n",
      "AhlgrenScottD       -0.021908 -0.008093 -0.014374  0.034776 -0.025586   \n",
      "AlbinPierre         -0.035216 -0.027201  0.001989  0.016212  0.025586   \n",
      "BaloghJózsef         0.001985  0.028971 -0.071591  0.025642 -0.017837   \n",
      "BaryshnikovYuliyM   -0.042828 -0.037277  0.016830 -0.037130  0.009114   \n",
      "Berwick-EvansDaniel -0.044544 -0.044824  0.000439  0.031114 -0.008271   \n",
      "...                       ...       ...       ...       ...       ...   \n",
      "WuXuan               0.012597  0.060766 -0.234771  0.003843  0.145786   \n",
      "YongAlexanderTF     -0.021602 -0.008703 -0.008445  0.047453 -0.013759   \n",
      "YoungAmanda         -0.053985 -0.056607  0.001013 -0.140260  0.100935   \n",
      "ZaharescuAlexandru   0.001765  0.029244 -0.068848  0.054360 -0.023203   \n",
      "ZharnitskyVadim     -0.005027  0.025902 -0.132869 -0.022260  0.044877   \n",
      "\n",
      "                           5         6         7         8         9   ...  \\\n",
      "AhlgrenScottD       -0.004482 -0.009812  0.001645  0.058108 -0.012692  ...   \n",
      "AlbinPierre         -0.026865 -0.026536 -0.034125  0.057472 -0.067924  ...   \n",
      "BaloghJózsef        -0.002346  0.015870  0.027180  0.053001  0.005796  ...   \n",
      "BaryshnikovYuliyM    0.024660  0.010264  0.009028  0.018260 -0.038473  ...   \n",
      "Berwick-EvansDaniel -0.099268 -0.110859 -0.029605 -0.068255  0.004962  ...   \n",
      "...                       ...       ...       ...       ...       ...  ...   \n",
      "WuXuan               0.309972 -0.077051  0.179677 -0.064363 -0.031634  ...   \n",
      "YongAlexanderTF     -0.008825 -0.013726  0.003750  0.065875 -0.008238  ...   \n",
      "YoungAmanda          0.039515  0.014896 -0.020845 -0.056607 -0.008430  ...   \n",
      "ZaharescuAlexandru  -0.012415 -0.013649  0.005354  0.068779  0.011272  ...   \n",
      "ZharnitskyVadim     -0.040839 -0.017121 -0.106063  0.028716  0.078902  ...   \n",
      "\n",
      "                           20        21        22        23        24  \\\n",
      "AhlgrenScottD       -0.014586  0.005694 -0.023269 -0.026056 -0.012155   \n",
      "AlbinPierre         -0.005660 -0.004713  0.028955  0.019338 -0.014219   \n",
      "BaloghJózsef        -0.008620 -0.018532  0.025283 -0.005782 -0.002742   \n",
      "BaryshnikovYuliyM    0.001197  0.000753  0.005661  0.007733  0.011003   \n",
      "Berwick-EvansDaniel -0.020731  0.064084  0.030250 -0.049836  0.052901   \n",
      "...                       ...       ...       ...       ...       ...   \n",
      "WuXuan              -0.031622  0.009078 -0.115918 -0.007585  0.012937   \n",
      "YongAlexanderTF     -0.012219 -0.009205  0.004156 -0.010386 -0.021740   \n",
      "YoungAmanda          0.086649 -0.031156  0.130487 -0.079285  0.073828   \n",
      "ZaharescuAlexandru   0.014558  0.007058 -0.032855 -0.020580  0.001768   \n",
      "ZharnitskyVadim     -0.005442  0.010619 -0.003099  0.012668 -0.011747   \n",
      "\n",
      "                           25        26        27        28        29  \n",
      "AhlgrenScottD       -0.000446 -0.003577  0.022617 -0.008896 -0.003202  \n",
      "AlbinPierre          0.009342  0.008040  0.013561 -0.035499  0.000251  \n",
      "BaloghJózsef        -0.000423 -0.001428 -0.001574  0.007478 -0.004181  \n",
      "BaryshnikovYuliyM    0.003294 -0.020356  0.025089 -0.025537 -0.007420  \n",
      "Berwick-EvansDaniel  0.107998 -0.032344  0.061826 -0.020006  0.038991  \n",
      "...                       ...       ...       ...       ...       ...  \n",
      "WuXuan               0.005132 -0.003483  0.018564 -0.004829 -0.006092  \n",
      "YongAlexanderTF     -0.001654  0.001714  0.010501 -0.014404 -0.010506  \n",
      "YoungAmanda         -0.072546  0.023393  0.008497 -0.001517 -0.048389  \n",
      "ZaharescuAlexandru   0.015891  0.013294 -0.012160  0.001206  0.015129  \n",
      "ZharnitskyVadim      0.026230 -0.017958 -0.021594 -0.004457 -0.008458  \n",
      "\n",
      "[70 rows x 30 columns]\n"
     ]
    }
   ],
   "source": [
    "journ_l1_pca = pd.DataFrame(principalComponents_l1) # columns=['PC1', 'PC2']\n",
    "journ_l1_pca.index = journals_l1.index\n",
    "\n",
    "print(journ_l1_pca)"
   ]
  },
  {
   "cell_type": "code",
   "execution_count": 69,
   "metadata": {},
   "outputs": [
    {
     "name": "stdout",
     "output_type": "stream",
     "text": [
      "                           0         1         2         3         4   \\\n",
      "AhlgrenScottD       -0.190893 -0.061643  0.050475  0.289037  0.185046   \n",
      "AlbinPierre         -0.138021  0.115597  0.194881 -0.001247  0.218108   \n",
      "BaloghJózsef         0.258542 -0.121971 -0.145964 -0.005195 -0.176065   \n",
      "BaryshnikovYuliyM   -0.288373  0.164019 -0.131224 -0.131753  0.017113   \n",
      "Berwick-EvansDaniel -0.068345 -0.033583  0.405211  0.036361  0.103242   \n",
      "...                       ...       ...       ...       ...       ...   \n",
      "WuXuan               0.478687  0.009040 -0.148821 -0.019565 -0.260031   \n",
      "YongAlexanderTF     -0.187033 -0.087492  0.101018  0.159338  0.137155   \n",
      "YoungAmanda         -0.041751  0.290334 -0.106908 -0.198180 -0.092589   \n",
      "ZaharescuAlexandru   0.124294 -0.127127  0.100159  0.531289  0.213134   \n",
      "ZharnitskyVadim      0.417329  0.500500  0.205587 -0.083003  0.073405   \n",
      "\n",
      "                           5         6         7         8         9   ...  \\\n",
      "AhlgrenScottD       -0.101959  0.265721 -0.013073 -0.083597 -0.062455  ...   \n",
      "AlbinPierre         -0.209359  0.137470  0.025245 -0.079971 -0.134767  ...   \n",
      "BaloghJózsef        -0.091856  0.360272 -0.219324  0.594610 -0.108300  ...   \n",
      "BaryshnikovYuliyM   -0.061549  0.091184  0.052634 -0.052918 -0.109303  ...   \n",
      "Berwick-EvansDaniel  0.029939 -0.248092  0.050845  0.228393 -0.015546  ...   \n",
      "...                       ...       ...       ...       ...       ...  ...   \n",
      "WuXuan               0.023164  0.002912  0.541409  0.112482 -0.322775  ...   \n",
      "YongAlexanderTF     -0.073026  0.214553 -0.072982  0.073995 -0.168224  ...   \n",
      "YoungAmanda         -0.188033 -0.183307  0.074252  0.076559  0.036989  ...   \n",
      "ZaharescuAlexandru  -0.095797  0.297728  0.078758 -0.013266  0.083774  ...   \n",
      "ZharnitskyVadim      0.371258  0.138170 -0.115871 -0.103305  0.052278  ...   \n",
      "\n",
      "                           20        21        22        23        24  \\\n",
      "AhlgrenScottD       -0.093834  0.065902 -0.146179 -0.059941  0.116102   \n",
      "AlbinPierre          0.010270  0.097001  0.040630 -0.058202 -0.064812   \n",
      "BaloghJózsef        -0.049068  0.011847  0.024458 -0.035560  0.025166   \n",
      "BaryshnikovYuliyM    0.005667 -0.028658 -0.059228 -0.055923  0.002563   \n",
      "Berwick-EvansDaniel  0.093959 -0.116967 -0.033912 -0.016350  0.206093   \n",
      "...                       ...       ...       ...       ...       ...   \n",
      "WuXuan               0.131960 -0.287536 -0.166837  0.038502 -0.125601   \n",
      "YongAlexanderTF     -0.118271 -0.019295 -0.117780 -0.000050 -0.042911   \n",
      "YoungAmanda          0.023925 -0.101317  0.014894 -0.146225  0.082548   \n",
      "ZaharescuAlexandru   0.025367  0.064920 -0.047846  0.000264 -0.011833   \n",
      "ZharnitskyVadim     -0.089934  0.083195  0.073436  0.059404  0.019423   \n",
      "\n",
      "                           25        26        27        28        29  \n",
      "AhlgrenScottD       -0.052947 -0.064530 -0.010017 -0.120381  0.036173  \n",
      "AlbinPierre          0.060299  0.015524 -0.030081  0.011810 -0.168654  \n",
      "BaloghJózsef        -0.032539  0.009320  0.002829 -0.015105 -0.006005  \n",
      "BaryshnikovYuliyM    0.014956  0.071917  0.031910 -0.044921 -0.109717  \n",
      "Berwick-EvansDaniel  0.136985  0.123717 -0.009560 -0.155923 -0.113933  \n",
      "...                       ...       ...       ...       ...       ...  \n",
      "WuXuan               0.031841  0.152559  0.017339  0.024873  0.210116  \n",
      "YongAlexanderTF     -0.001752 -0.042749  0.120848 -0.069864  0.095256  \n",
      "YoungAmanda         -0.218026 -0.266103 -0.041397 -0.134311 -0.074395  \n",
      "ZaharescuAlexandru   0.030358 -0.048717  0.006277 -0.057824 -0.033719  \n",
      "ZharnitskyVadim     -0.028520  0.077618  0.024001  0.010466  0.033820  \n",
      "\n",
      "[70 rows x 30 columns]\n"
     ]
    }
   ],
   "source": [
    "journ_l2_pca = pd.DataFrame(principalComponents_l2) #columns=['PC1', 'PC2']\n",
    "journ_l2_pca.index = journals_l2.index\n",
    "\n",
    "print(journ_l2_pca)"
   ]
  },
  {
   "cell_type": "code",
   "execution_count": 75,
   "metadata": {},
   "outputs": [],
   "source": [
    "sorted_comp_journ = pd.DataFrame()\n",
    "sorted_comp_journ = pd.concat([sorted_comp_journ, pd.DataFrame(journ_l1_pca.sort_values(by = list(range(8))).index)])\n",
    "\n",
    "sorted_comp_journ\n",
    "\n",
    "sorted_comp_journ.to_csv(\"sorted_pc_journ_L1.csv\")"
   ]
  },
  {
   "cell_type": "code",
   "execution_count": 76,
   "metadata": {},
   "outputs": [],
   "source": [
    "sorted_comp_journ = pd.DataFrame()\n",
    "sorted_comp_journ = pd.concat([sorted_comp_journ, pd.DataFrame(journ_l2_pca.sort_values(by = list(range(8))).index)])\n",
    "\n",
    "sorted_comp_journ\n",
    "\n",
    "sorted_comp_journ.to_csv(\"sorted_pc_journ_L2.csv\")"
   ]
  },
  {
   "cell_type": "code",
   "execution_count": 77,
   "metadata": {},
   "outputs": [],
   "source": [
    "sorted_comp_journ_dn = pd.DataFrame()\n",
    "i = range(8)\n",
    "\n",
    "for n in i:\n",
    "    sorted_comp_journ_dn[n] = pd.DataFrame(journ_l1_pca.sort_values(by = n)).index\n",
    "\n",
    "\n",
    "sorted_comp_journ_dn\n",
    "\n",
    "sorted_comp_journ_dn.to_csv(\"sorted_pc_journ_L1_dn.csv\")"
   ]
  },
  {
   "cell_type": "code",
   "execution_count": 78,
   "metadata": {},
   "outputs": [],
   "source": [
    "sorted_comp_journ_L2_dn = pd.DataFrame()\n",
    "i = range(8)\n",
    "\n",
    "for n in i:\n",
    "    sorted_comp_journ_L2_dn[n] = pd.DataFrame(journ_l2_pca.sort_values(by = n)).index\n",
    "\n",
    "\n",
    "sorted_comp_journ_L2_dn\n",
    "\n",
    "sorted_comp_journ_L2_dn.to_csv(\"sorted_pc_journ_L2_dn.csv\")"
   ]
  },
  {
   "cell_type": "code",
   "execution_count": 38,
   "metadata": {},
   "outputs": [
    {
     "ename": "ValueError",
     "evalue": "Value of 'x' is not the name of a column in 'data_frame'. Expected one of [0, 1, 2, 3, 4, 5, 6, 7, 8, 9, 10, 11, 12, 13, 14, 15, 16, 17, 18, 19, 20, 21, 22, 23, 24, 25, 26, 27, 28, 29] but received: PC1",
     "output_type": "error",
     "traceback": [
      "\u001b[1;31m---------------------------------------------------------------------------\u001b[0m",
      "\u001b[1;31mValueError\u001b[0m                                Traceback (most recent call last)",
      "\u001b[1;32mc:\\Users\\adamw\\Downloads\\Deep_Structure\\Clustering\\new_stuff\\full.ipynb Cell 44\u001b[0m line \u001b[0;36m5\n\u001b[0;32m      <a href='vscode-notebook-cell:/c%3A/Users/adamw/Downloads/Deep_Structure/Clustering/new_stuff/full.ipynb#X61sZmlsZQ%3D%3D?line=0'>1</a>\u001b[0m \u001b[39mimport\u001b[39;00m \u001b[39mplotly\u001b[39;00m\u001b[39m.\u001b[39;00m\u001b[39mexpress\u001b[39;00m \u001b[39mas\u001b[39;00m \u001b[39mpx\u001b[39;00m\n\u001b[0;32m      <a href='vscode-notebook-cell:/c%3A/Users/adamw/Downloads/Deep_Structure/Clustering/new_stuff/full.ipynb#X61sZmlsZQ%3D%3D?line=2'>3</a>\u001b[0m \u001b[39m# Create the scatter plot with hover information\u001b[39;00m\n\u001b[1;32m----> <a href='vscode-notebook-cell:/c%3A/Users/adamw/Downloads/Deep_Structure/Clustering/new_stuff/full.ipynb#X61sZmlsZQ%3D%3D?line=4'>5</a>\u001b[0m fig_l1 \u001b[39m=\u001b[39m px\u001b[39m.\u001b[39;49mscatter(journ_l1_pca, x\u001b[39m=\u001b[39;49m\u001b[39m'\u001b[39;49m\u001b[39mPC1\u001b[39;49m\u001b[39m'\u001b[39;49m, y\u001b[39m=\u001b[39;49m\u001b[39m'\u001b[39;49m\u001b[39mPC2\u001b[39;49m\u001b[39m'\u001b[39;49m, hover_name\u001b[39m=\u001b[39;49mjourn_l1_pca\u001b[39m.\u001b[39;49mindex)\n\u001b[0;32m      <a href='vscode-notebook-cell:/c%3A/Users/adamw/Downloads/Deep_Structure/Clustering/new_stuff/full.ipynb#X61sZmlsZQ%3D%3D?line=5'>6</a>\u001b[0m fig_l1\u001b[39m.\u001b[39mupdate_traces(marker\u001b[39m=\u001b[39m\u001b[39mdict\u001b[39m(size\u001b[39m=\u001b[39m\u001b[39m5\u001b[39m))\n\u001b[0;32m      <a href='vscode-notebook-cell:/c%3A/Users/adamw/Downloads/Deep_Structure/Clustering/new_stuff/full.ipynb#X61sZmlsZQ%3D%3D?line=6'>7</a>\u001b[0m fig_l1\u001b[39m.\u001b[39mshow()\n",
      "File \u001b[1;32mc:\\Users\\adamw\\AppData\\Local\\Programs\\Python\\Python311\\Lib\\site-packages\\plotly\\express\\_chart_types.py:66\u001b[0m, in \u001b[0;36mscatter\u001b[1;34m(data_frame, x, y, color, symbol, size, hover_name, hover_data, custom_data, text, facet_row, facet_col, facet_col_wrap, facet_row_spacing, facet_col_spacing, error_x, error_x_minus, error_y, error_y_minus, animation_frame, animation_group, category_orders, labels, orientation, color_discrete_sequence, color_discrete_map, color_continuous_scale, range_color, color_continuous_midpoint, symbol_sequence, symbol_map, opacity, size_max, marginal_x, marginal_y, trendline, trendline_options, trendline_color_override, trendline_scope, log_x, log_y, range_x, range_y, render_mode, title, template, width, height)\u001b[0m\n\u001b[0;32m     12\u001b[0m \u001b[39mdef\u001b[39;00m \u001b[39mscatter\u001b[39m(\n\u001b[0;32m     13\u001b[0m     data_frame\u001b[39m=\u001b[39m\u001b[39mNone\u001b[39;00m,\n\u001b[0;32m     14\u001b[0m     x\u001b[39m=\u001b[39m\u001b[39mNone\u001b[39;00m,\n\u001b[1;32m   (...)\u001b[0m\n\u001b[0;32m     60\u001b[0m     height\u001b[39m=\u001b[39m\u001b[39mNone\u001b[39;00m,\n\u001b[0;32m     61\u001b[0m ) \u001b[39m-\u001b[39m\u001b[39m>\u001b[39m go\u001b[39m.\u001b[39mFigure:\n\u001b[0;32m     62\u001b[0m \u001b[39m    \u001b[39m\u001b[39m\"\"\"\u001b[39;00m\n\u001b[0;32m     63\u001b[0m \u001b[39m    In a scatter plot, each row of `data_frame` is represented by a symbol\u001b[39;00m\n\u001b[0;32m     64\u001b[0m \u001b[39m    mark in 2D space.\u001b[39;00m\n\u001b[0;32m     65\u001b[0m \u001b[39m    \"\"\"\u001b[39;00m\n\u001b[1;32m---> 66\u001b[0m     \u001b[39mreturn\u001b[39;00m make_figure(args\u001b[39m=\u001b[39;49m\u001b[39mlocals\u001b[39;49m(), constructor\u001b[39m=\u001b[39;49mgo\u001b[39m.\u001b[39;49mScatter)\n",
      "File \u001b[1;32mc:\\Users\\adamw\\AppData\\Local\\Programs\\Python\\Python311\\Lib\\site-packages\\plotly\\express\\_core.py:2076\u001b[0m, in \u001b[0;36mmake_figure\u001b[1;34m(args, constructor, trace_patch, layout_patch)\u001b[0m\n\u001b[0;32m   2073\u001b[0m layout_patch \u001b[39m=\u001b[39m layout_patch \u001b[39mor\u001b[39;00m {}\n\u001b[0;32m   2074\u001b[0m apply_default_cascade(args)\n\u001b[1;32m-> 2076\u001b[0m args \u001b[39m=\u001b[39m build_dataframe(args, constructor)\n\u001b[0;32m   2077\u001b[0m \u001b[39mif\u001b[39;00m constructor \u001b[39min\u001b[39;00m [go\u001b[39m.\u001b[39mTreemap, go\u001b[39m.\u001b[39mSunburst, go\u001b[39m.\u001b[39mIcicle] \u001b[39mand\u001b[39;00m args[\u001b[39m\"\u001b[39m\u001b[39mpath\u001b[39m\u001b[39m\"\u001b[39m] \u001b[39mis\u001b[39;00m \u001b[39mnot\u001b[39;00m \u001b[39mNone\u001b[39;00m:\n\u001b[0;32m   2078\u001b[0m     args \u001b[39m=\u001b[39m process_dataframe_hierarchy(args)\n",
      "File \u001b[1;32mc:\\Users\\adamw\\AppData\\Local\\Programs\\Python\\Python311\\Lib\\site-packages\\plotly\\express\\_core.py:1485\u001b[0m, in \u001b[0;36mbuild_dataframe\u001b[1;34m(args, constructor)\u001b[0m\n\u001b[0;32m   1482\u001b[0m     args[\u001b[39m\"\u001b[39m\u001b[39mcolor\u001b[39m\u001b[39m\"\u001b[39m] \u001b[39m=\u001b[39m \u001b[39mNone\u001b[39;00m\n\u001b[0;32m   1483\u001b[0m \u001b[39m# now that things have been prepped, we do the systematic rewriting of `args`\u001b[39;00m\n\u001b[1;32m-> 1485\u001b[0m df_output, wide_id_vars \u001b[39m=\u001b[39m process_args_into_dataframe(\n\u001b[0;32m   1486\u001b[0m     args, wide_mode, var_name, value_name\n\u001b[0;32m   1487\u001b[0m )\n\u001b[0;32m   1489\u001b[0m \u001b[39m# now that `df_output` exists and `args` contains only references, we complete\u001b[39;00m\n\u001b[0;32m   1490\u001b[0m \u001b[39m# the special-case and wide-mode handling by further rewriting args and/or mutating\u001b[39;00m\n\u001b[0;32m   1491\u001b[0m \u001b[39m# df_output\u001b[39;00m\n\u001b[0;32m   1493\u001b[0m count_name \u001b[39m=\u001b[39m _escape_col_name(df_output, \u001b[39m\"\u001b[39m\u001b[39mcount\u001b[39m\u001b[39m\"\u001b[39m, [var_name, value_name])\n",
      "File \u001b[1;32mc:\\Users\\adamw\\AppData\\Local\\Programs\\Python\\Python311\\Lib\\site-packages\\plotly\\express\\_core.py:1210\u001b[0m, in \u001b[0;36mprocess_args_into_dataframe\u001b[1;34m(args, wide_mode, var_name, value_name)\u001b[0m\n\u001b[0;32m   1208\u001b[0m         \u001b[39mif\u001b[39;00m argument \u001b[39m==\u001b[39m \u001b[39m\"\u001b[39m\u001b[39mindex\u001b[39m\u001b[39m\"\u001b[39m:\n\u001b[0;32m   1209\u001b[0m             err_msg \u001b[39m+\u001b[39m\u001b[39m=\u001b[39m \u001b[39m\"\u001b[39m\u001b[39m\\n\u001b[39;00m\u001b[39m To use the index, pass it in directly as `df.index`.\u001b[39m\u001b[39m\"\u001b[39m\n\u001b[1;32m-> 1210\u001b[0m         \u001b[39mraise\u001b[39;00m \u001b[39mValueError\u001b[39;00m(err_msg)\n\u001b[0;32m   1211\u001b[0m \u001b[39melif\u001b[39;00m length \u001b[39mand\u001b[39;00m \u001b[39mlen\u001b[39m(df_input[argument]) \u001b[39m!=\u001b[39m length:\n\u001b[0;32m   1212\u001b[0m     \u001b[39mraise\u001b[39;00m \u001b[39mValueError\u001b[39;00m(\n\u001b[0;32m   1213\u001b[0m         \u001b[39m\"\u001b[39m\u001b[39mAll arguments should have the same length. \u001b[39m\u001b[39m\"\u001b[39m\n\u001b[0;32m   1214\u001b[0m         \u001b[39m\"\u001b[39m\u001b[39mThe length of column argument `df[\u001b[39m\u001b[39m%s\u001b[39;00m\u001b[39m]` is \u001b[39m\u001b[39m%d\u001b[39;00m\u001b[39m, whereas the \u001b[39m\u001b[39m\"\u001b[39m\n\u001b[1;32m   (...)\u001b[0m\n\u001b[0;32m   1221\u001b[0m         )\n\u001b[0;32m   1222\u001b[0m     )\n",
      "\u001b[1;31mValueError\u001b[0m: Value of 'x' is not the name of a column in 'data_frame'. Expected one of [0, 1, 2, 3, 4, 5, 6, 7, 8, 9, 10, 11, 12, 13, 14, 15, 16, 17, 18, 19, 20, 21, 22, 23, 24, 25, 26, 27, 28, 29] but received: PC1"
     ]
    }
   ],
   "source": [
    "import plotly.express as px\n",
    "\n",
    "# Create the scatter plot with hover information\n",
    "\n",
    "fig_l1 = px.scatter(journ_l1_pca, x='PC1', y='PC2', hover_name=journ_l1_pca.index)\n",
    "fig_l1.update_traces(marker=dict(size=5))\n",
    "fig_l1.show()"
   ]
  },
  {
   "cell_type": "code",
   "execution_count": 39,
   "metadata": {},
   "outputs": [
    {
     "ename": "ValueError",
     "evalue": "Value of 'x' is not the name of a column in 'data_frame'. Expected one of [0, 1, 2, 3, 4, 5, 6, 7, 8, 9, 10, 11, 12, 13, 14, 15, 16, 17, 18, 19, 20, 21, 22, 23, 24, 25, 26, 27, 28, 29] but received: PC1",
     "output_type": "error",
     "traceback": [
      "\u001b[1;31m---------------------------------------------------------------------------\u001b[0m",
      "\u001b[1;31mValueError\u001b[0m                                Traceback (most recent call last)",
      "\u001b[1;32mc:\\Users\\adamw\\Downloads\\Deep_Structure\\Clustering\\new_stuff\\full.ipynb Cell 45\u001b[0m line \u001b[0;36m4\n\u001b[0;32m      <a href='vscode-notebook-cell:/c%3A/Users/adamw/Downloads/Deep_Structure/Clustering/new_stuff/full.ipynb#X62sZmlsZQ%3D%3D?line=0'>1</a>\u001b[0m \u001b[39m# From above plot, we can observe that professor Fadina Tolulope and Jing XiaoChen are obvious outliers.\u001b[39;00m\n\u001b[0;32m      <a href='vscode-notebook-cell:/c%3A/Users/adamw/Downloads/Deep_Structure/Clustering/new_stuff/full.ipynb#X62sZmlsZQ%3D%3D?line=1'>2</a>\u001b[0m \u001b[39m# So we remove them and regenerate the plot\u001b[39;00m\n\u001b[0;32m      <a href='vscode-notebook-cell:/c%3A/Users/adamw/Downloads/Deep_Structure/Clustering/new_stuff/full.ipynb#X62sZmlsZQ%3D%3D?line=2'>3</a>\u001b[0m new_l1_pca \u001b[39m=\u001b[39m journ_l1_pca\u001b[39m.\u001b[39mdrop([\u001b[39m'\u001b[39m\u001b[39mFadinaTolulope\u001b[39m\u001b[39m'\u001b[39m,\u001b[39m'\u001b[39m\u001b[39mJingXiaochen\u001b[39m\u001b[39m'\u001b[39m])\n\u001b[1;32m----> <a href='vscode-notebook-cell:/c%3A/Users/adamw/Downloads/Deep_Structure/Clustering/new_stuff/full.ipynb#X62sZmlsZQ%3D%3D?line=3'>4</a>\u001b[0m fig_newl1 \u001b[39m=\u001b[39m px\u001b[39m.\u001b[39;49mscatter(new_l1_pca, x\u001b[39m=\u001b[39;49m\u001b[39m'\u001b[39;49m\u001b[39mPC1\u001b[39;49m\u001b[39m'\u001b[39;49m, y\u001b[39m=\u001b[39;49m\u001b[39m'\u001b[39;49m\u001b[39mPC2\u001b[39;49m\u001b[39m'\u001b[39;49m, hover_name\u001b[39m=\u001b[39;49mnew_l1_pca\u001b[39m.\u001b[39;49mindex)\n\u001b[0;32m      <a href='vscode-notebook-cell:/c%3A/Users/adamw/Downloads/Deep_Structure/Clustering/new_stuff/full.ipynb#X62sZmlsZQ%3D%3D?line=4'>5</a>\u001b[0m fig_newl1\u001b[39m.\u001b[39mupdate_traces(marker\u001b[39m=\u001b[39m\u001b[39mdict\u001b[39m(size\u001b[39m=\u001b[39m\u001b[39m5\u001b[39m))\n\u001b[0;32m      <a href='vscode-notebook-cell:/c%3A/Users/adamw/Downloads/Deep_Structure/Clustering/new_stuff/full.ipynb#X62sZmlsZQ%3D%3D?line=5'>6</a>\u001b[0m fig_newl1\u001b[39m.\u001b[39mshow()\n",
      "File \u001b[1;32mc:\\Users\\adamw\\AppData\\Local\\Programs\\Python\\Python311\\Lib\\site-packages\\plotly\\express\\_chart_types.py:66\u001b[0m, in \u001b[0;36mscatter\u001b[1;34m(data_frame, x, y, color, symbol, size, hover_name, hover_data, custom_data, text, facet_row, facet_col, facet_col_wrap, facet_row_spacing, facet_col_spacing, error_x, error_x_minus, error_y, error_y_minus, animation_frame, animation_group, category_orders, labels, orientation, color_discrete_sequence, color_discrete_map, color_continuous_scale, range_color, color_continuous_midpoint, symbol_sequence, symbol_map, opacity, size_max, marginal_x, marginal_y, trendline, trendline_options, trendline_color_override, trendline_scope, log_x, log_y, range_x, range_y, render_mode, title, template, width, height)\u001b[0m\n\u001b[0;32m     12\u001b[0m \u001b[39mdef\u001b[39;00m \u001b[39mscatter\u001b[39m(\n\u001b[0;32m     13\u001b[0m     data_frame\u001b[39m=\u001b[39m\u001b[39mNone\u001b[39;00m,\n\u001b[0;32m     14\u001b[0m     x\u001b[39m=\u001b[39m\u001b[39mNone\u001b[39;00m,\n\u001b[1;32m   (...)\u001b[0m\n\u001b[0;32m     60\u001b[0m     height\u001b[39m=\u001b[39m\u001b[39mNone\u001b[39;00m,\n\u001b[0;32m     61\u001b[0m ) \u001b[39m-\u001b[39m\u001b[39m>\u001b[39m go\u001b[39m.\u001b[39mFigure:\n\u001b[0;32m     62\u001b[0m \u001b[39m    \u001b[39m\u001b[39m\"\"\"\u001b[39;00m\n\u001b[0;32m     63\u001b[0m \u001b[39m    In a scatter plot, each row of `data_frame` is represented by a symbol\u001b[39;00m\n\u001b[0;32m     64\u001b[0m \u001b[39m    mark in 2D space.\u001b[39;00m\n\u001b[0;32m     65\u001b[0m \u001b[39m    \"\"\"\u001b[39;00m\n\u001b[1;32m---> 66\u001b[0m     \u001b[39mreturn\u001b[39;00m make_figure(args\u001b[39m=\u001b[39;49m\u001b[39mlocals\u001b[39;49m(), constructor\u001b[39m=\u001b[39;49mgo\u001b[39m.\u001b[39;49mScatter)\n",
      "File \u001b[1;32mc:\\Users\\adamw\\AppData\\Local\\Programs\\Python\\Python311\\Lib\\site-packages\\plotly\\express\\_core.py:2076\u001b[0m, in \u001b[0;36mmake_figure\u001b[1;34m(args, constructor, trace_patch, layout_patch)\u001b[0m\n\u001b[0;32m   2073\u001b[0m layout_patch \u001b[39m=\u001b[39m layout_patch \u001b[39mor\u001b[39;00m {}\n\u001b[0;32m   2074\u001b[0m apply_default_cascade(args)\n\u001b[1;32m-> 2076\u001b[0m args \u001b[39m=\u001b[39m build_dataframe(args, constructor)\n\u001b[0;32m   2077\u001b[0m \u001b[39mif\u001b[39;00m constructor \u001b[39min\u001b[39;00m [go\u001b[39m.\u001b[39mTreemap, go\u001b[39m.\u001b[39mSunburst, go\u001b[39m.\u001b[39mIcicle] \u001b[39mand\u001b[39;00m args[\u001b[39m\"\u001b[39m\u001b[39mpath\u001b[39m\u001b[39m\"\u001b[39m] \u001b[39mis\u001b[39;00m \u001b[39mnot\u001b[39;00m \u001b[39mNone\u001b[39;00m:\n\u001b[0;32m   2078\u001b[0m     args \u001b[39m=\u001b[39m process_dataframe_hierarchy(args)\n",
      "File \u001b[1;32mc:\\Users\\adamw\\AppData\\Local\\Programs\\Python\\Python311\\Lib\\site-packages\\plotly\\express\\_core.py:1485\u001b[0m, in \u001b[0;36mbuild_dataframe\u001b[1;34m(args, constructor)\u001b[0m\n\u001b[0;32m   1482\u001b[0m     args[\u001b[39m\"\u001b[39m\u001b[39mcolor\u001b[39m\u001b[39m\"\u001b[39m] \u001b[39m=\u001b[39m \u001b[39mNone\u001b[39;00m\n\u001b[0;32m   1483\u001b[0m \u001b[39m# now that things have been prepped, we do the systematic rewriting of `args`\u001b[39;00m\n\u001b[1;32m-> 1485\u001b[0m df_output, wide_id_vars \u001b[39m=\u001b[39m process_args_into_dataframe(\n\u001b[0;32m   1486\u001b[0m     args, wide_mode, var_name, value_name\n\u001b[0;32m   1487\u001b[0m )\n\u001b[0;32m   1489\u001b[0m \u001b[39m# now that `df_output` exists and `args` contains only references, we complete\u001b[39;00m\n\u001b[0;32m   1490\u001b[0m \u001b[39m# the special-case and wide-mode handling by further rewriting args and/or mutating\u001b[39;00m\n\u001b[0;32m   1491\u001b[0m \u001b[39m# df_output\u001b[39;00m\n\u001b[0;32m   1493\u001b[0m count_name \u001b[39m=\u001b[39m _escape_col_name(df_output, \u001b[39m\"\u001b[39m\u001b[39mcount\u001b[39m\u001b[39m\"\u001b[39m, [var_name, value_name])\n",
      "File \u001b[1;32mc:\\Users\\adamw\\AppData\\Local\\Programs\\Python\\Python311\\Lib\\site-packages\\plotly\\express\\_core.py:1210\u001b[0m, in \u001b[0;36mprocess_args_into_dataframe\u001b[1;34m(args, wide_mode, var_name, value_name)\u001b[0m\n\u001b[0;32m   1208\u001b[0m         \u001b[39mif\u001b[39;00m argument \u001b[39m==\u001b[39m \u001b[39m\"\u001b[39m\u001b[39mindex\u001b[39m\u001b[39m\"\u001b[39m:\n\u001b[0;32m   1209\u001b[0m             err_msg \u001b[39m+\u001b[39m\u001b[39m=\u001b[39m \u001b[39m\"\u001b[39m\u001b[39m\\n\u001b[39;00m\u001b[39m To use the index, pass it in directly as `df.index`.\u001b[39m\u001b[39m\"\u001b[39m\n\u001b[1;32m-> 1210\u001b[0m         \u001b[39mraise\u001b[39;00m \u001b[39mValueError\u001b[39;00m(err_msg)\n\u001b[0;32m   1211\u001b[0m \u001b[39melif\u001b[39;00m length \u001b[39mand\u001b[39;00m \u001b[39mlen\u001b[39m(df_input[argument]) \u001b[39m!=\u001b[39m length:\n\u001b[0;32m   1212\u001b[0m     \u001b[39mraise\u001b[39;00m \u001b[39mValueError\u001b[39;00m(\n\u001b[0;32m   1213\u001b[0m         \u001b[39m\"\u001b[39m\u001b[39mAll arguments should have the same length. \u001b[39m\u001b[39m\"\u001b[39m\n\u001b[0;32m   1214\u001b[0m         \u001b[39m\"\u001b[39m\u001b[39mThe length of column argument `df[\u001b[39m\u001b[39m%s\u001b[39;00m\u001b[39m]` is \u001b[39m\u001b[39m%d\u001b[39;00m\u001b[39m, whereas the \u001b[39m\u001b[39m\"\u001b[39m\n\u001b[1;32m   (...)\u001b[0m\n\u001b[0;32m   1221\u001b[0m         )\n\u001b[0;32m   1222\u001b[0m     )\n",
      "\u001b[1;31mValueError\u001b[0m: Value of 'x' is not the name of a column in 'data_frame'. Expected one of [0, 1, 2, 3, 4, 5, 6, 7, 8, 9, 10, 11, 12, 13, 14, 15, 16, 17, 18, 19, 20, 21, 22, 23, 24, 25, 26, 27, 28, 29] but received: PC1"
     ]
    }
   ],
   "source": [
    "# From above plot, we can observe that professor Fadina Tolulope and Jing XiaoChen are obvious outliers.\n",
    "# So we remove them and regenerate the plot\n",
    "new_l1_pca = journ_l1_pca.drop(['FadinaTolulope','JingXiaochen'])\n",
    "fig_newl1 = px.scatter(new_l1_pca, x='PC1', y='PC2', hover_name=new_l1_pca.index)\n",
    "fig_newl1.update_traces(marker=dict(size=5))\n",
    "fig_newl1.show()\n",
    " "
   ]
  },
  {
   "cell_type": "code",
   "execution_count": null,
   "metadata": {},
   "outputs": [],
   "source": [
    "# For l2 normalization\n",
    "fig_l2 = px.scatter(journ_l2_pca, x='PC1', y='PC2', hover_name=journ_l2_pca.index)\n",
    "fig_l2.update_traces(marker=dict(size=5))\n",
    "fig_l2.show()"
   ]
  },
  {
   "cell_type": "code",
   "execution_count": 40,
   "metadata": {},
   "outputs": [
    {
     "data": {
      "image/png": "[encoded data removed]",
      "text/plain": [
       "<Figure size 1000x600 with 1 Axes>"
      ]
     },
     "metadata": {},
     "output_type": "display_data"
    }
   ],
   "source": [
    "inertia = []\n",
    "cluster_range = range(1, 30)  # considering 1 to 10 clusters\n",
    "\n",
    "for num_clusters in cluster_range:\n",
    "    kmeans = KMeans(n_clusters=num_clusters, n_init= 15, random_state=42)\n",
    "    kmeans.fit(journ_l1_pca)\n",
    "    inertia.append(kmeans.inertia_)\n",
    "\n",
    "# Plotting the sum of squared distances against the number of clusters\n",
    "plt.figure(figsize=(10, 6))\n",
    "plt.plot(cluster_range, inertia, marker='o', linestyle='--')\n",
    "plt.xlabel('Number of Clusters')\n",
    "plt.ylabel('Sum of Squared Distances')\n",
    "plt.title('Elbow Method for Optimal Number of Clusters papers l1')\n",
    "plt.grid(True)\n",
    "plt.show()"
   ]
  },
  {
   "cell_type": "code",
   "execution_count": 46,
   "metadata": {},
   "outputs": [
    {
     "name": "stdout",
     "output_type": "stream",
     "text": [
      "                            0         1         2         3         4  \\\n",
      "AhlgrenScottD       -0.190893 -0.061643  0.050475  0.289037  0.185046   \n",
      "AlbinPierre         -0.138021  0.115597  0.194881 -0.001247  0.218108   \n",
      "BaloghJózsef         0.258542 -0.121971 -0.145964 -0.005195 -0.176065   \n",
      "BaryshnikovYuliyM   -0.288373  0.164019 -0.131224 -0.131753  0.017113   \n",
      "Berwick-EvansDaniel -0.068345 -0.033583  0.405211  0.036361  0.103242   \n",
      "...                       ...       ...       ...       ...       ...   \n",
      "WuXuan               0.478687  0.009040 -0.148821 -0.019565 -0.260031   \n",
      "YongAlexanderTF     -0.187033 -0.087492  0.101018  0.159338  0.137155   \n",
      "YoungAmanda         -0.041751  0.290334 -0.106908 -0.198180 -0.092589   \n",
      "ZaharescuAlexandru   0.124294 -0.127127  0.100159  0.531289  0.213134   \n",
      "ZharnitskyVadim      0.417329  0.500500  0.205587 -0.083003  0.073405   \n",
      "\n",
      "                            5         6         7         8         9  ...  \\\n",
      "AhlgrenScottD       -0.101959  0.265721 -0.013073 -0.083597 -0.062455  ...   \n",
      "AlbinPierre         -0.209359  0.137470  0.025245 -0.079971 -0.134767  ...   \n",
      "BaloghJózsef        -0.091856  0.360272 -0.219324  0.594610 -0.108300  ...   \n",
      "BaryshnikovYuliyM   -0.061549  0.091184  0.052634 -0.052918 -0.109303  ...   \n",
      "Berwick-EvansDaniel  0.029939 -0.248092  0.050845  0.228393 -0.015546  ...   \n",
      "...                       ...       ...       ...       ...       ...  ...   \n",
      "WuXuan               0.023164  0.002912  0.541409  0.112482 -0.322775  ...   \n",
      "YongAlexanderTF     -0.073026  0.214553 -0.072982  0.073995 -0.168224  ...   \n",
      "YoungAmanda         -0.188033 -0.183307  0.074252  0.076559  0.036989  ...   \n",
      "ZaharescuAlexandru  -0.095797  0.297728  0.078758 -0.013266  0.083774  ...   \n",
      "ZharnitskyVadim      0.371258  0.138170 -0.115871 -0.103305  0.052278  ...   \n",
      "\n",
      "                           21        22        23        24        25  \\\n",
      "AhlgrenScottD        0.065902 -0.146179 -0.059941  0.116102 -0.052947   \n",
      "AlbinPierre          0.097001  0.040630 -0.058202 -0.064812  0.060299   \n",
      "BaloghJózsef         0.011847  0.024458 -0.035560  0.025166 -0.032539   \n",
      "BaryshnikovYuliyM   -0.028658 -0.059228 -0.055923  0.002563  0.014956   \n",
      "Berwick-EvansDaniel -0.116967 -0.033912 -0.016350  0.206093  0.136985   \n",
      "...                       ...       ...       ...       ...       ...   \n",
      "WuXuan              -0.287536 -0.166837  0.038502 -0.125601  0.031841   \n",
      "YongAlexanderTF     -0.019295 -0.117780 -0.000050 -0.042911 -0.001752   \n",
      "YoungAmanda         -0.101317  0.014894 -0.146225  0.082548 -0.218026   \n",
      "ZaharescuAlexandru   0.064920 -0.047846  0.000264 -0.011833  0.030358   \n",
      "ZharnitskyVadim      0.083195  0.073436  0.059404  0.019423 -0.028520   \n",
      "\n",
      "                           26        27        28        29  Cluster  \n",
      "AhlgrenScottD       -0.064530 -0.010017 -0.120381  0.036173        3  \n",
      "AlbinPierre          0.015524 -0.030081  0.011810 -0.168654       15  \n",
      "BaloghJózsef         0.009320  0.002829 -0.015105 -0.006005       12  \n",
      "BaryshnikovYuliyM    0.071917  0.031910 -0.044921 -0.109717        6  \n",
      "Berwick-EvansDaniel  0.123717 -0.009560 -0.155923 -0.113933        0  \n",
      "...                       ...       ...       ...       ...      ...  \n",
      "WuXuan               0.152559  0.017339  0.024873  0.210116        5  \n",
      "YongAlexanderTF     -0.042749  0.120848 -0.069864  0.095256        3  \n",
      "YoungAmanda         -0.266103 -0.041397 -0.134311 -0.074395        5  \n",
      "ZaharescuAlexandru  -0.048717  0.006277 -0.057824 -0.033719        3  \n",
      "ZharnitskyVadim      0.077618  0.024001  0.010466  0.033820       13  \n",
      "\n",
      "[70 rows x 31 columns]\n"
     ]
    }
   ],
   "source": [
    "data_to_cluster = journ_l2_pca\n",
    "\n",
    "# Convert the DataFrame to a numpy array for KMeans fitting\n",
    "data_to_cluster_np = data_to_cluster.values\n",
    "\n",
    "\n",
    "# Fit the KMeans model\n",
    "kmeans = KMeans(n_clusters=18, n_init= 10, random_state= 40)\n",
    "kmeans.fit(data_to_cluster_np)\n",
    "\n",
    "labels = kmeans.labels_\n",
    "\n",
    "data_to_cluster['Cluster'] = labels\n",
    "\n",
    "\n",
    "print(data_to_cluster)"
   ]
  },
  {
   "cell_type": "code",
   "execution_count": 47,
   "metadata": {},
   "outputs": [
    {
     "name": "stdout",
     "output_type": "stream",
     "text": [
      "                     0             1                 2                   3   \\\n",
      "0   Berwick-EvansDaniel     KermanEly  DeyParthaSarathi       AhlgrenScottD   \n",
      "1       DoddChristopher  ThornerJesse       SongRenming     YongAlexanderTF   \n",
      "2       DunfieldNathanM   TolmanSusan    SowersRichardB  ZaharescuAlexandru   \n",
      "3            JandaFelix           NaN               NaN                 NaN   \n",
      "4           MineyevIgor           NaN               NaN                 NaN   \n",
      "..                  ...           ...               ...                 ...   \n",
      "65                  NaN           NaN               NaN                 NaN   \n",
      "66                  NaN           NaN               NaN                 NaN   \n",
      "67                  NaN           NaN               NaN                 NaN   \n",
      "68                  NaN           NaN               NaN                 NaN   \n",
      "69                  NaN           NaN               NaN                 NaN   \n",
      "\n",
      "                           4                   5                      6   \\\n",
      "0           DuttaSankarPrasad         HungPei-Ken      BaryshnikovYuliyM   \n",
      "1             HaboushWilliamJ  KirkpatrickKayLene       BocaFlorin-Petre   \n",
      "2           HellerJeremiahBen              WuXuan  BradlowStevenBenjamin   \n",
      "3   IvanovSergeiVladimirovich         YoungAmanda     DuursmaIwanMaynard   \n",
      "4               McCarthyRandy                 NaN       FernandesRuiLoja   \n",
      "..                        ...                 ...                    ...   \n",
      "65                        NaN                 NaN                    NaN   \n",
      "66                        NaN                 NaN                    NaN   \n",
      "67                        NaN                 NaN                    NaN   \n",
      "68                        NaN                 NaN                    NaN   \n",
      "69                        NaN                 NaN                    NaN   \n",
      "\n",
      "            7               8            9                10  \\\n",
      "0   KirrEduard  FadinaTolulope  FengRunhuan      JungeMarius   \n",
      "1          NaN    JingXiaochen    QuanZhiyu  KutzarovaDenkaN   \n",
      "2          NaN             NaN       WeiWei    OikhbergTimur   \n",
      "3          NaN             NaN          NaN              NaN   \n",
      "4          NaN             NaN          NaN              NaN   \n",
      "..         ...             ...          ...              ...   \n",
      "65         NaN             NaN          NaN              NaN   \n",
      "66         NaN             NaN          NaN              NaN   \n",
      "67         NaN             NaN          NaN              NaN   \n",
      "68         NaN             NaN          NaN              NaN   \n",
      "69         NaN             NaN          NaN              NaN   \n",
      "\n",
      "                     11                  12                  13  \\\n",
      "0   DiFrancescoPhilippe        BaloghJózsef       BronskiJaredC   \n",
      "1          KatzSheldonH  KostochkaAlexandrV  ErdoğanMehmetBurak   \n",
      "2            KedemRinat                 NaN     HurVeraMikyoung   \n",
      "3                   NaN                 NaN    TzirakisNikolaos   \n",
      "4                   NaN                 NaN     ZharnitskyVadim   \n",
      "..                  ...                 ...                 ...   \n",
      "65                  NaN                 NaN                 NaN   \n",
      "66                  NaN                 NaN                 NaN   \n",
      "67                  NaN                 NaN                 NaN   \n",
      "68                  NaN                 NaN                 NaN   \n",
      "69                  NaN                 NaN                 NaN   \n",
      "\n",
      "               14              15                    16             17  \n",
      "0   CooneyDanielB     AlbinPierre  PascaleffJamesThomas  LeditzkyFelix  \n",
      "1    DeVilleRELee  LaNaveGabriele    RasmussenSarahDean            NaN  \n",
      "2        RaptiZoi         LiuYuan                   NaN            NaN  \n",
      "3             NaN             NaN                   NaN            NaN  \n",
      "4             NaN             NaN                   NaN            NaN  \n",
      "..            ...             ...                   ...            ...  \n",
      "65            NaN             NaN                   NaN            NaN  \n",
      "66            NaN             NaN                   NaN            NaN  \n",
      "67            NaN             NaN                   NaN            NaN  \n",
      "68            NaN             NaN                   NaN            NaN  \n",
      "69            NaN             NaN                   NaN            NaN  \n",
      "\n",
      "[70 rows x 18 columns]\n"
     ]
    }
   ],
   "source": [
    "clusters_journ = pd.DataFrame(columns = range(n), index = range(70))\n",
    "\n",
    "\n",
    "for i in range(n):\n",
    "    clusters_journ[i] =  pd.DataFrame(data_to_cluster.index[data_to_cluster[\"Cluster\"] == i])\n",
    "    \n",
    "print(clusters_journ)\n",
    "\n",
    "clusters_journ.to_csv(\"clusters_journ.csv\")\n"
   ]
  },
  {
   "cell_type": "code",
   "execution_count": 65,
   "metadata": {},
   "outputs": [],
   "source": [
    "# Below is the code for the MSC of the faculty"
   ]
  },
  {
   "cell_type": "code",
   "execution_count": 79,
   "metadata": {},
   "outputs": [],
   "source": [
    "# Read the matrix from the csv that has been generated for the MCS of each faculty\n",
    "\n",
    "# This csv will be imported into a pandas dataframe where each row represents \n",
    "# a faculty member and each column represents a MSC code.\n",
    "# Each cell represents the number of times that a faculty member has published using that MSC code.\n",
    "\n",
    "msc = pd.read_csv('msc_count.csv', index_col=0)\n",
    "\n",
    "msc.index = [i.split(\"_\")[0] for i in msc.index.values.tolist()]\n",
    "\n",
    "\n",
    "m = 30\n",
    "n = 15"
   ]
  },
  {
   "cell_type": "code",
   "execution_count": 80,
   "metadata": {},
   "outputs": [
    {
     "data": {
      "text/html": [
       "<div>\n",
       "<style scoped>\n",
       "    .dataframe tbody tr th:only-of-type {\n",
       "        vertical-align: middle;\n",
       "    }\n",
       "\n",
       "    .dataframe tbody tr th {\n",
       "        vertical-align: top;\n",
       "    }\n",
       "\n",
       "    .dataframe thead th {\n",
       "        text-align: right;\n",
       "    }\n",
       "</style>\n",
       "<table border=\"1\" class=\"dataframe\">\n",
       "  <thead>\n",
       "    <tr style=\"text-align: right;\">\n",
       "      <th></th>\n",
       "      <th>11</th>\n",
       "      <th>33</th>\n",
       "      <th>05</th>\n",
       "      <th>26</th>\n",
       "      <th>58</th>\n",
       "      <th>57</th>\n",
       "      <th>53</th>\n",
       "      <th>14</th>\n",
       "      <th>46</th>\n",
       "      <th>55</th>\n",
       "      <th>...</th>\n",
       "      <th>31</th>\n",
       "      <th>16</th>\n",
       "      <th>43</th>\n",
       "      <th>40</th>\n",
       "      <th>54</th>\n",
       "      <th>45</th>\n",
       "      <th>41</th>\n",
       "      <th>18</th>\n",
       "      <th>10</th>\n",
       "      <th>00</th>\n",
       "    </tr>\n",
       "  </thead>\n",
       "  <tbody>\n",
       "    <tr>\n",
       "      <th>AhlgrenScottD</th>\n",
       "      <td>52</td>\n",
       "      <td>2</td>\n",
       "      <td>1</td>\n",
       "      <td>1</td>\n",
       "      <td>0</td>\n",
       "      <td>0</td>\n",
       "      <td>0</td>\n",
       "      <td>0</td>\n",
       "      <td>0</td>\n",
       "      <td>0</td>\n",
       "      <td>...</td>\n",
       "      <td>0</td>\n",
       "      <td>0</td>\n",
       "      <td>0</td>\n",
       "      <td>0</td>\n",
       "      <td>0</td>\n",
       "      <td>0</td>\n",
       "      <td>0</td>\n",
       "      <td>0</td>\n",
       "      <td>0</td>\n",
       "      <td>0</td>\n",
       "    </tr>\n",
       "    <tr>\n",
       "      <th>AlbinPierre</th>\n",
       "      <td>0</td>\n",
       "      <td>0</td>\n",
       "      <td>0</td>\n",
       "      <td>0</td>\n",
       "      <td>16</td>\n",
       "      <td>1</td>\n",
       "      <td>4</td>\n",
       "      <td>1</td>\n",
       "      <td>1</td>\n",
       "      <td>2</td>\n",
       "      <td>...</td>\n",
       "      <td>0</td>\n",
       "      <td>0</td>\n",
       "      <td>0</td>\n",
       "      <td>0</td>\n",
       "      <td>0</td>\n",
       "      <td>0</td>\n",
       "      <td>0</td>\n",
       "      <td>0</td>\n",
       "      <td>0</td>\n",
       "      <td>0</td>\n",
       "    </tr>\n",
       "    <tr>\n",
       "      <th>BaloghJózsef</th>\n",
       "      <td>7</td>\n",
       "      <td>0</td>\n",
       "      <td>138</td>\n",
       "      <td>0</td>\n",
       "      <td>0</td>\n",
       "      <td>0</td>\n",
       "      <td>0</td>\n",
       "      <td>0</td>\n",
       "      <td>0</td>\n",
       "      <td>0</td>\n",
       "      <td>...</td>\n",
       "      <td>0</td>\n",
       "      <td>0</td>\n",
       "      <td>0</td>\n",
       "      <td>0</td>\n",
       "      <td>0</td>\n",
       "      <td>0</td>\n",
       "      <td>0</td>\n",
       "      <td>0</td>\n",
       "      <td>0</td>\n",
       "      <td>0</td>\n",
       "    </tr>\n",
       "    <tr>\n",
       "      <th>BaryshnikovYuliyM</th>\n",
       "      <td>0</td>\n",
       "      <td>0</td>\n",
       "      <td>6</td>\n",
       "      <td>0</td>\n",
       "      <td>9</td>\n",
       "      <td>1</td>\n",
       "      <td>1</td>\n",
       "      <td>1</td>\n",
       "      <td>0</td>\n",
       "      <td>1</td>\n",
       "      <td>...</td>\n",
       "      <td>0</td>\n",
       "      <td>0</td>\n",
       "      <td>0</td>\n",
       "      <td>0</td>\n",
       "      <td>0</td>\n",
       "      <td>0</td>\n",
       "      <td>0</td>\n",
       "      <td>0</td>\n",
       "      <td>0</td>\n",
       "      <td>0</td>\n",
       "    </tr>\n",
       "    <tr>\n",
       "      <th>Berwick-EvansDaniel</th>\n",
       "      <td>0</td>\n",
       "      <td>0</td>\n",
       "      <td>0</td>\n",
       "      <td>0</td>\n",
       "      <td>2</td>\n",
       "      <td>1</td>\n",
       "      <td>0</td>\n",
       "      <td>0</td>\n",
       "      <td>0</td>\n",
       "      <td>4</td>\n",
       "      <td>...</td>\n",
       "      <td>0</td>\n",
       "      <td>0</td>\n",
       "      <td>0</td>\n",
       "      <td>0</td>\n",
       "      <td>0</td>\n",
       "      <td>0</td>\n",
       "      <td>0</td>\n",
       "      <td>0</td>\n",
       "      <td>0</td>\n",
       "      <td>0</td>\n",
       "    </tr>\n",
       "    <tr>\n",
       "      <th>...</th>\n",
       "      <td>...</td>\n",
       "      <td>...</td>\n",
       "      <td>...</td>\n",
       "      <td>...</td>\n",
       "      <td>...</td>\n",
       "      <td>...</td>\n",
       "      <td>...</td>\n",
       "      <td>...</td>\n",
       "      <td>...</td>\n",
       "      <td>...</td>\n",
       "      <td>...</td>\n",
       "      <td>...</td>\n",
       "      <td>...</td>\n",
       "      <td>...</td>\n",
       "      <td>...</td>\n",
       "      <td>...</td>\n",
       "      <td>...</td>\n",
       "      <td>...</td>\n",
       "      <td>...</td>\n",
       "      <td>...</td>\n",
       "      <td>...</td>\n",
       "    </tr>\n",
       "    <tr>\n",
       "      <th>WuXuan</th>\n",
       "      <td>0</td>\n",
       "      <td>0</td>\n",
       "      <td>0</td>\n",
       "      <td>0</td>\n",
       "      <td>0</td>\n",
       "      <td>0</td>\n",
       "      <td>0</td>\n",
       "      <td>0</td>\n",
       "      <td>0</td>\n",
       "      <td>0</td>\n",
       "      <td>...</td>\n",
       "      <td>0</td>\n",
       "      <td>0</td>\n",
       "      <td>0</td>\n",
       "      <td>0</td>\n",
       "      <td>0</td>\n",
       "      <td>0</td>\n",
       "      <td>0</td>\n",
       "      <td>0</td>\n",
       "      <td>0</td>\n",
       "      <td>0</td>\n",
       "    </tr>\n",
       "    <tr>\n",
       "      <th>YongAlexanderTF</th>\n",
       "      <td>0</td>\n",
       "      <td>0</td>\n",
       "      <td>27</td>\n",
       "      <td>0</td>\n",
       "      <td>0</td>\n",
       "      <td>0</td>\n",
       "      <td>0</td>\n",
       "      <td>36</td>\n",
       "      <td>0</td>\n",
       "      <td>0</td>\n",
       "      <td>...</td>\n",
       "      <td>0</td>\n",
       "      <td>0</td>\n",
       "      <td>0</td>\n",
       "      <td>0</td>\n",
       "      <td>0</td>\n",
       "      <td>0</td>\n",
       "      <td>0</td>\n",
       "      <td>0</td>\n",
       "      <td>0</td>\n",
       "      <td>0</td>\n",
       "    </tr>\n",
       "    <tr>\n",
       "      <th>YoungAmanda</th>\n",
       "      <td>0</td>\n",
       "      <td>0</td>\n",
       "      <td>0</td>\n",
       "      <td>0</td>\n",
       "      <td>0</td>\n",
       "      <td>0</td>\n",
       "      <td>0</td>\n",
       "      <td>0</td>\n",
       "      <td>0</td>\n",
       "      <td>0</td>\n",
       "      <td>...</td>\n",
       "      <td>0</td>\n",
       "      <td>0</td>\n",
       "      <td>0</td>\n",
       "      <td>0</td>\n",
       "      <td>0</td>\n",
       "      <td>0</td>\n",
       "      <td>0</td>\n",
       "      <td>0</td>\n",
       "      <td>0</td>\n",
       "      <td>0</td>\n",
       "    </tr>\n",
       "    <tr>\n",
       "      <th>ZaharescuAlexandru</th>\n",
       "      <td>301</td>\n",
       "      <td>7</td>\n",
       "      <td>0</td>\n",
       "      <td>1</td>\n",
       "      <td>0</td>\n",
       "      <td>0</td>\n",
       "      <td>0</td>\n",
       "      <td>0</td>\n",
       "      <td>1</td>\n",
       "      <td>0</td>\n",
       "      <td>...</td>\n",
       "      <td>0</td>\n",
       "      <td>0</td>\n",
       "      <td>0</td>\n",
       "      <td>0</td>\n",
       "      <td>2</td>\n",
       "      <td>0</td>\n",
       "      <td>0</td>\n",
       "      <td>0</td>\n",
       "      <td>0</td>\n",
       "      <td>0</td>\n",
       "    </tr>\n",
       "    <tr>\n",
       "      <th>ZharnitskyVadim</th>\n",
       "      <td>0</td>\n",
       "      <td>1</td>\n",
       "      <td>0</td>\n",
       "      <td>0</td>\n",
       "      <td>2</td>\n",
       "      <td>0</td>\n",
       "      <td>0</td>\n",
       "      <td>0</td>\n",
       "      <td>0</td>\n",
       "      <td>0</td>\n",
       "      <td>...</td>\n",
       "      <td>0</td>\n",
       "      <td>0</td>\n",
       "      <td>0</td>\n",
       "      <td>0</td>\n",
       "      <td>0</td>\n",
       "      <td>0</td>\n",
       "      <td>0</td>\n",
       "      <td>0</td>\n",
       "      <td>0</td>\n",
       "      <td>0</td>\n",
       "    </tr>\n",
       "  </tbody>\n",
       "</table>\n",
       "<p>70 rows × 58 columns</p>\n",
       "</div>"
      ],
      "text/plain": [
       "                      11  33   05  26  58  57  53  14  46  55  ...  31  16  \\\n",
       "AhlgrenScottD         52   2    1   1   0   0   0   0   0   0  ...   0   0   \n",
       "AlbinPierre            0   0    0   0  16   1   4   1   1   2  ...   0   0   \n",
       "BaloghJózsef           7   0  138   0   0   0   0   0   0   0  ...   0   0   \n",
       "BaryshnikovYuliyM      0   0    6   0   9   1   1   1   0   1  ...   0   0   \n",
       "Berwick-EvansDaniel    0   0    0   0   2   1   0   0   0   4  ...   0   0   \n",
       "...                  ...  ..  ...  ..  ..  ..  ..  ..  ..  ..  ...  ..  ..   \n",
       "WuXuan                 0   0    0   0   0   0   0   0   0   0  ...   0   0   \n",
       "YongAlexanderTF        0   0   27   0   0   0   0  36   0   0  ...   0   0   \n",
       "YoungAmanda            0   0    0   0   0   0   0   0   0   0  ...   0   0   \n",
       "ZaharescuAlexandru   301   7    0   1   0   0   0   0   1   0  ...   0   0   \n",
       "ZharnitskyVadim        0   1    0   0   2   0   0   0   0   0  ...   0   0   \n",
       "\n",
       "                     43  40  54  45  41  18  10  00  \n",
       "AhlgrenScottD         0   0   0   0   0   0   0   0  \n",
       "AlbinPierre           0   0   0   0   0   0   0   0  \n",
       "BaloghJózsef          0   0   0   0   0   0   0   0  \n",
       "BaryshnikovYuliyM     0   0   0   0   0   0   0   0  \n",
       "Berwick-EvansDaniel   0   0   0   0   0   0   0   0  \n",
       "...                  ..  ..  ..  ..  ..  ..  ..  ..  \n",
       "WuXuan                0   0   0   0   0   0   0   0  \n",
       "YongAlexanderTF       0   0   0   0   0   0   0   0  \n",
       "YoungAmanda           0   0   0   0   0   0   0   0  \n",
       "ZaharescuAlexandru    0   0   2   0   0   0   0   0  \n",
       "ZharnitskyVadim       0   0   0   0   0   0   0   0  \n",
       "\n",
       "[70 rows x 58 columns]"
      ]
     },
     "execution_count": 80,
     "metadata": {},
     "output_type": "execute_result"
    }
   ],
   "source": [
    "msc"
   ]
  },
  {
   "cell_type": "code",
   "execution_count": 81,
   "metadata": {},
   "outputs": [],
   "source": [
    "msc = msc.sort_index()"
   ]
  },
  {
   "cell_type": "code",
   "execution_count": 82,
   "metadata": {},
   "outputs": [],
   "source": [
    "# The code here serves to remove any column that contains only one non-zero element. \n",
    "# This serves to possibly improve the variation distribution among the principal components after PCA is conducted.\n",
    "\n",
    "\n",
    "for col in msc:\n",
    "    if np.count_nonzero(msc[col]) == 1:\n",
    "        msc.drop(col, axis=1, inplace= True)"
   ]
  },
  {
   "cell_type": "code",
   "execution_count": 83,
   "metadata": {},
   "outputs": [
    {
     "data": {
      "text/html": [
       "<div>\n",
       "<style scoped>\n",
       "    .dataframe tbody tr th:only-of-type {\n",
       "        vertical-align: middle;\n",
       "    }\n",
       "\n",
       "    .dataframe tbody tr th {\n",
       "        vertical-align: top;\n",
       "    }\n",
       "\n",
       "    .dataframe thead th {\n",
       "        text-align: right;\n",
       "    }\n",
       "</style>\n",
       "<table border=\"1\" class=\"dataframe\">\n",
       "  <thead>\n",
       "    <tr style=\"text-align: right;\">\n",
       "      <th></th>\n",
       "      <th>11</th>\n",
       "      <th>33</th>\n",
       "      <th>05</th>\n",
       "      <th>26</th>\n",
       "      <th>58</th>\n",
       "      <th>57</th>\n",
       "      <th>53</th>\n",
       "      <th>14</th>\n",
       "      <th>46</th>\n",
       "      <th>55</th>\n",
       "      <th>...</th>\n",
       "      <th>42</th>\n",
       "      <th>28</th>\n",
       "      <th>12</th>\n",
       "      <th>19</th>\n",
       "      <th>31</th>\n",
       "      <th>43</th>\n",
       "      <th>40</th>\n",
       "      <th>54</th>\n",
       "      <th>41</th>\n",
       "      <th>18</th>\n",
       "    </tr>\n",
       "  </thead>\n",
       "  <tbody>\n",
       "    <tr>\n",
       "      <th>AhlgrenScottD</th>\n",
       "      <td>52</td>\n",
       "      <td>2</td>\n",
       "      <td>1</td>\n",
       "      <td>1</td>\n",
       "      <td>0</td>\n",
       "      <td>0</td>\n",
       "      <td>0</td>\n",
       "      <td>0</td>\n",
       "      <td>0</td>\n",
       "      <td>0</td>\n",
       "      <td>...</td>\n",
       "      <td>0</td>\n",
       "      <td>0</td>\n",
       "      <td>0</td>\n",
       "      <td>0</td>\n",
       "      <td>0</td>\n",
       "      <td>0</td>\n",
       "      <td>0</td>\n",
       "      <td>0</td>\n",
       "      <td>0</td>\n",
       "      <td>0</td>\n",
       "    </tr>\n",
       "    <tr>\n",
       "      <th>AlbinPierre</th>\n",
       "      <td>0</td>\n",
       "      <td>0</td>\n",
       "      <td>0</td>\n",
       "      <td>0</td>\n",
       "      <td>16</td>\n",
       "      <td>1</td>\n",
       "      <td>4</td>\n",
       "      <td>1</td>\n",
       "      <td>1</td>\n",
       "      <td>2</td>\n",
       "      <td>...</td>\n",
       "      <td>0</td>\n",
       "      <td>0</td>\n",
       "      <td>0</td>\n",
       "      <td>0</td>\n",
       "      <td>0</td>\n",
       "      <td>0</td>\n",
       "      <td>0</td>\n",
       "      <td>0</td>\n",
       "      <td>0</td>\n",
       "      <td>0</td>\n",
       "    </tr>\n",
       "    <tr>\n",
       "      <th>BaloghJózsef</th>\n",
       "      <td>7</td>\n",
       "      <td>0</td>\n",
       "      <td>138</td>\n",
       "      <td>0</td>\n",
       "      <td>0</td>\n",
       "      <td>0</td>\n",
       "      <td>0</td>\n",
       "      <td>0</td>\n",
       "      <td>0</td>\n",
       "      <td>0</td>\n",
       "      <td>...</td>\n",
       "      <td>0</td>\n",
       "      <td>0</td>\n",
       "      <td>0</td>\n",
       "      <td>0</td>\n",
       "      <td>0</td>\n",
       "      <td>0</td>\n",
       "      <td>0</td>\n",
       "      <td>0</td>\n",
       "      <td>0</td>\n",
       "      <td>0</td>\n",
       "    </tr>\n",
       "    <tr>\n",
       "      <th>BaryshnikovYuliyM</th>\n",
       "      <td>0</td>\n",
       "      <td>0</td>\n",
       "      <td>6</td>\n",
       "      <td>0</td>\n",
       "      <td>9</td>\n",
       "      <td>1</td>\n",
       "      <td>1</td>\n",
       "      <td>1</td>\n",
       "      <td>0</td>\n",
       "      <td>1</td>\n",
       "      <td>...</td>\n",
       "      <td>0</td>\n",
       "      <td>0</td>\n",
       "      <td>0</td>\n",
       "      <td>0</td>\n",
       "      <td>0</td>\n",
       "      <td>0</td>\n",
       "      <td>0</td>\n",
       "      <td>0</td>\n",
       "      <td>0</td>\n",
       "      <td>0</td>\n",
       "    </tr>\n",
       "    <tr>\n",
       "      <th>Berwick-EvansDaniel</th>\n",
       "      <td>0</td>\n",
       "      <td>0</td>\n",
       "      <td>0</td>\n",
       "      <td>0</td>\n",
       "      <td>2</td>\n",
       "      <td>1</td>\n",
       "      <td>0</td>\n",
       "      <td>0</td>\n",
       "      <td>0</td>\n",
       "      <td>4</td>\n",
       "      <td>...</td>\n",
       "      <td>0</td>\n",
       "      <td>0</td>\n",
       "      <td>0</td>\n",
       "      <td>0</td>\n",
       "      <td>0</td>\n",
       "      <td>0</td>\n",
       "      <td>0</td>\n",
       "      <td>0</td>\n",
       "      <td>0</td>\n",
       "      <td>0</td>\n",
       "    </tr>\n",
       "    <tr>\n",
       "      <th>...</th>\n",
       "      <td>...</td>\n",
       "      <td>...</td>\n",
       "      <td>...</td>\n",
       "      <td>...</td>\n",
       "      <td>...</td>\n",
       "      <td>...</td>\n",
       "      <td>...</td>\n",
       "      <td>...</td>\n",
       "      <td>...</td>\n",
       "      <td>...</td>\n",
       "      <td>...</td>\n",
       "      <td>...</td>\n",
       "      <td>...</td>\n",
       "      <td>...</td>\n",
       "      <td>...</td>\n",
       "      <td>...</td>\n",
       "      <td>...</td>\n",
       "      <td>...</td>\n",
       "      <td>...</td>\n",
       "      <td>...</td>\n",
       "      <td>...</td>\n",
       "    </tr>\n",
       "    <tr>\n",
       "      <th>WuXuan</th>\n",
       "      <td>0</td>\n",
       "      <td>0</td>\n",
       "      <td>0</td>\n",
       "      <td>0</td>\n",
       "      <td>0</td>\n",
       "      <td>0</td>\n",
       "      <td>0</td>\n",
       "      <td>0</td>\n",
       "      <td>0</td>\n",
       "      <td>0</td>\n",
       "      <td>...</td>\n",
       "      <td>0</td>\n",
       "      <td>0</td>\n",
       "      <td>0</td>\n",
       "      <td>0</td>\n",
       "      <td>0</td>\n",
       "      <td>0</td>\n",
       "      <td>0</td>\n",
       "      <td>0</td>\n",
       "      <td>0</td>\n",
       "      <td>0</td>\n",
       "    </tr>\n",
       "    <tr>\n",
       "      <th>YongAlexanderTF</th>\n",
       "      <td>0</td>\n",
       "      <td>0</td>\n",
       "      <td>27</td>\n",
       "      <td>0</td>\n",
       "      <td>0</td>\n",
       "      <td>0</td>\n",
       "      <td>0</td>\n",
       "      <td>36</td>\n",
       "      <td>0</td>\n",
       "      <td>0</td>\n",
       "      <td>...</td>\n",
       "      <td>0</td>\n",
       "      <td>0</td>\n",
       "      <td>0</td>\n",
       "      <td>0</td>\n",
       "      <td>0</td>\n",
       "      <td>0</td>\n",
       "      <td>0</td>\n",
       "      <td>0</td>\n",
       "      <td>0</td>\n",
       "      <td>0</td>\n",
       "    </tr>\n",
       "    <tr>\n",
       "      <th>YoungAmanda</th>\n",
       "      <td>0</td>\n",
       "      <td>0</td>\n",
       "      <td>0</td>\n",
       "      <td>0</td>\n",
       "      <td>0</td>\n",
       "      <td>0</td>\n",
       "      <td>0</td>\n",
       "      <td>0</td>\n",
       "      <td>0</td>\n",
       "      <td>0</td>\n",
       "      <td>...</td>\n",
       "      <td>0</td>\n",
       "      <td>0</td>\n",
       "      <td>0</td>\n",
       "      <td>0</td>\n",
       "      <td>0</td>\n",
       "      <td>0</td>\n",
       "      <td>0</td>\n",
       "      <td>0</td>\n",
       "      <td>0</td>\n",
       "      <td>0</td>\n",
       "    </tr>\n",
       "    <tr>\n",
       "      <th>ZaharescuAlexandru</th>\n",
       "      <td>301</td>\n",
       "      <td>7</td>\n",
       "      <td>0</td>\n",
       "      <td>1</td>\n",
       "      <td>0</td>\n",
       "      <td>0</td>\n",
       "      <td>0</td>\n",
       "      <td>0</td>\n",
       "      <td>1</td>\n",
       "      <td>0</td>\n",
       "      <td>...</td>\n",
       "      <td>1</td>\n",
       "      <td>0</td>\n",
       "      <td>13</td>\n",
       "      <td>0</td>\n",
       "      <td>0</td>\n",
       "      <td>0</td>\n",
       "      <td>0</td>\n",
       "      <td>2</td>\n",
       "      <td>0</td>\n",
       "      <td>0</td>\n",
       "    </tr>\n",
       "    <tr>\n",
       "      <th>ZharnitskyVadim</th>\n",
       "      <td>0</td>\n",
       "      <td>1</td>\n",
       "      <td>0</td>\n",
       "      <td>0</td>\n",
       "      <td>2</td>\n",
       "      <td>0</td>\n",
       "      <td>0</td>\n",
       "      <td>0</td>\n",
       "      <td>0</td>\n",
       "      <td>0</td>\n",
       "      <td>...</td>\n",
       "      <td>0</td>\n",
       "      <td>0</td>\n",
       "      <td>0</td>\n",
       "      <td>0</td>\n",
       "      <td>0</td>\n",
       "      <td>0</td>\n",
       "      <td>0</td>\n",
       "      <td>0</td>\n",
       "      <td>0</td>\n",
       "      <td>0</td>\n",
       "    </tr>\n",
       "  </tbody>\n",
       "</table>\n",
       "<p>70 rows × 51 columns</p>\n",
       "</div>"
      ],
      "text/plain": [
       "                      11  33   05  26  58  57  53  14  46  55  ...  42  28  \\\n",
       "AhlgrenScottD         52   2    1   1   0   0   0   0   0   0  ...   0   0   \n",
       "AlbinPierre            0   0    0   0  16   1   4   1   1   2  ...   0   0   \n",
       "BaloghJózsef           7   0  138   0   0   0   0   0   0   0  ...   0   0   \n",
       "BaryshnikovYuliyM      0   0    6   0   9   1   1   1   0   1  ...   0   0   \n",
       "Berwick-EvansDaniel    0   0    0   0   2   1   0   0   0   4  ...   0   0   \n",
       "...                  ...  ..  ...  ..  ..  ..  ..  ..  ..  ..  ...  ..  ..   \n",
       "WuXuan                 0   0    0   0   0   0   0   0   0   0  ...   0   0   \n",
       "YongAlexanderTF        0   0   27   0   0   0   0  36   0   0  ...   0   0   \n",
       "YoungAmanda            0   0    0   0   0   0   0   0   0   0  ...   0   0   \n",
       "ZaharescuAlexandru   301   7    0   1   0   0   0   0   1   0  ...   1   0   \n",
       "ZharnitskyVadim        0   1    0   0   2   0   0   0   0   0  ...   0   0   \n",
       "\n",
       "                     12  19  31  43  40  54  41  18  \n",
       "AhlgrenScottD         0   0   0   0   0   0   0   0  \n",
       "AlbinPierre           0   0   0   0   0   0   0   0  \n",
       "BaloghJózsef          0   0   0   0   0   0   0   0  \n",
       "BaryshnikovYuliyM     0   0   0   0   0   0   0   0  \n",
       "Berwick-EvansDaniel   0   0   0   0   0   0   0   0  \n",
       "...                  ..  ..  ..  ..  ..  ..  ..  ..  \n",
       "WuXuan                0   0   0   0   0   0   0   0  \n",
       "YongAlexanderTF       0   0   0   0   0   0   0   0  \n",
       "YoungAmanda           0   0   0   0   0   0   0   0  \n",
       "ZaharescuAlexandru   13   0   0   0   0   2   0   0  \n",
       "ZharnitskyVadim       0   0   0   0   0   0   0   0  \n",
       "\n",
       "[70 rows x 51 columns]"
      ]
     },
     "execution_count": 83,
     "metadata": {},
     "output_type": "execute_result"
    }
   ],
   "source": [
    "msc"
   ]
  },
  {
   "cell_type": "code",
   "execution_count": 84,
   "metadata": {},
   "outputs": [
    {
     "name": "stdout",
     "output_type": "stream",
     "text": [
      "Number of NaN values in each column:\n",
      " 11    0\n",
      "33    0\n",
      "05    0\n",
      "26    0\n",
      "58    0\n",
      "57    0\n",
      "53    0\n",
      "14    0\n",
      "46    0\n",
      "55    0\n",
      "35    0\n",
      "06    0\n",
      "52    0\n",
      "15    0\n",
      "94    0\n",
      "60    0\n",
      "82    0\n",
      "91    0\n",
      "68    0\n",
      "37    0\n",
      "30    0\n",
      "93    0\n",
      "70    0\n",
      "81    0\n",
      "90    0\n",
      "32    0\n",
      "62    0\n",
      "17    0\n",
      "01    0\n",
      "47    0\n",
      "22    0\n",
      "34    0\n",
      "49    0\n",
      "92    0\n",
      "76    0\n",
      "78    0\n",
      "65    0\n",
      "13    0\n",
      "39    0\n",
      "83    0\n",
      "20    0\n",
      "42    0\n",
      "28    0\n",
      "12    0\n",
      "19    0\n",
      "31    0\n",
      "43    0\n",
      "40    0\n",
      "54    0\n",
      "41    0\n",
      "18    0\n",
      "dtype: int64\n",
      "\n",
      "Number of Infinite values in each column:\n",
      " 11    0\n",
      "33    0\n",
      "05    0\n",
      "26    0\n",
      "58    0\n",
      "57    0\n",
      "53    0\n",
      "14    0\n",
      "46    0\n",
      "55    0\n",
      "35    0\n",
      "06    0\n",
      "52    0\n",
      "15    0\n",
      "94    0\n",
      "60    0\n",
      "82    0\n",
      "91    0\n",
      "68    0\n",
      "37    0\n",
      "30    0\n",
      "93    0\n",
      "70    0\n",
      "81    0\n",
      "90    0\n",
      "32    0\n",
      "62    0\n",
      "17    0\n",
      "01    0\n",
      "47    0\n",
      "22    0\n",
      "34    0\n",
      "49    0\n",
      "92    0\n",
      "76    0\n",
      "78    0\n",
      "65    0\n",
      "13    0\n",
      "39    0\n",
      "83    0\n",
      "20    0\n",
      "42    0\n",
      "28    0\n",
      "12    0\n",
      "19    0\n",
      "31    0\n",
      "43    0\n",
      "40    0\n",
      "54    0\n",
      "41    0\n",
      "18    0\n",
      "dtype: int64\n"
     ]
    },
    {
     "name": "stderr",
     "output_type": "stream",
     "text": [
      "C:\\Users\\adamw\\AppData\\Local\\Temp\\ipykernel_19528\\3645700253.py:4: FutureWarning: DataFrame.applymap has been deprecated. Use DataFrame.map instead.\n",
      "  inf_values = msc.applymap(np.isinf).sum()\n"
     ]
    }
   ],
   "source": [
    "nan_values = msc.isnull().sum()\n",
    "\n",
    "# Check for infinite values\n",
    "inf_values = msc.applymap(np.isinf).sum()\n",
    "\n",
    "print(\"Number of NaN values in each column:\\n\", nan_values)\n",
    "print(\"\\nNumber of Infinite values in each column:\\n\", inf_values)"
   ]
  },
  {
   "cell_type": "code",
   "execution_count": 26,
   "metadata": {},
   "outputs": [
    {
     "name": "stdout",
     "output_type": "stream",
     "text": [
      "Rows with sum of absolute values equal to zero: 0\n",
      "Rows with sum of squared values equal to zero: 0\n",
      "Indices of rows with sum of absolute values equal to zero: []\n",
      "Indices of rows with sum of squared values equal to zero: []\n"
     ]
    }
   ],
   "source": [
    "# Check for rows with sum of absolute values equal to zero (for L1)\n",
    "zero_sum_rows_l1 = (msc.abs().sum(axis=1) == 0)\n",
    "\n",
    "# Check for rows with sum of squared values equal to zero (for L2)\n",
    "zero_sum_rows_l2 = (msc.pow(2).sum(axis=1) == 0)\n",
    "\n",
    "print(\"Rows with sum of absolute values equal to zero:\", zero_sum_rows_l1.sum())\n",
    "print(\"Rows with sum of squared values equal to zero:\", zero_sum_rows_l2.sum())\n",
    "\n",
    "# Identify indices of rows with sum of absolute values equal to zero (for L1)\n",
    "indices_l1_zero_sum = msc.index[msc.abs().sum(axis=1) == 0].tolist()\n",
    "\n",
    "# Identify indices of rows with sum of squared values equal to zero (for L2)\n",
    "indices_l2_zero_sum = msc.index[msc.pow(2).sum(axis=1) == 0].tolist()\n",
    "\n",
    "print(\"Indices of rows with sum of absolute values equal to zero:\", indices_l1_zero_sum)\n",
    "print(\"Indices of rows with sum of squared values equal to zero:\", indices_l2_zero_sum)"
   ]
  },
  {
   "cell_type": "code",
   "execution_count": 27,
   "metadata": {},
   "outputs": [],
   "source": [
    "# L1 & L2 Normalization\n",
    "\n",
    "# In an effort to standardize the data, we applied the L1-norm and the L2-norm row-wise.\n",
    "\n",
    "msc_l1 = msc.divide(msc.abs().sum(axis=1), axis=0)\n",
    "\n",
    "l2_norm = msc.pow(2).sum(axis=1).pow(0.5)\n",
    "msc_l2 = msc.divide(l2_norm, axis=0)"
   ]
  },
  {
   "cell_type": "code",
   "execution_count": 28,
   "metadata": {},
   "outputs": [],
   "source": [
    "# Apply PCA to reduce the dimension\n",
    "\n",
    "# Choose two dimensions to project the dataset down to a plane for visualization.\n",
    "\n",
    "pca = PCA(n_components=m)\n",
    "\n",
    "# Conduct PCA on the L1-norm standardized dataset\n",
    "\n",
    "msc_pcomp_l1 = pca.fit_transform(msc_l1)\n",
    "\n",
    "# Conduct PCA on the L2-norm standardized dataset\n",
    "\n",
    "msc_pcomp_l2 = pca.fit_transform(msc_l2)\n",
    "\n"
   ]
  },
  {
   "cell_type": "code",
   "execution_count": 29,
   "metadata": {},
   "outputs": [
    {
     "name": "stdout",
     "output_type": "stream",
     "text": [
      "                           0         1         2         3         4   \\\n",
      "AhlgrenScottD       -0.489734  0.671123  0.115057  0.199204  0.085045   \n",
      "AlbinPierre          0.166121  0.034978  0.013054 -0.018375  0.007984   \n",
      "BaloghJózsef        -0.075643 -0.023676 -0.012822 -0.068533 -0.119464   \n",
      "BaryshnikovYuliyM   -0.031640 -0.105858 -0.088657  0.080174 -0.015734   \n",
      "Berwick-EvansDaniel  0.008647 -0.056935  0.125123 -0.031854 -0.029124   \n",
      "...                       ...       ...       ...       ...       ...   \n",
      "WuXuan              -0.136470 -0.294113 -0.293812  0.168567  0.228305   \n",
      "YongAlexanderTF     -0.027619 -0.024304  0.006104 -0.274206 -0.407994   \n",
      "YoungAmanda         -0.024459 -0.046713 -0.038205 -0.156306 -0.026535   \n",
      "ZaharescuAlexandru  -0.457937  0.626679  0.106768  0.183279  0.080396   \n",
      "ZharnitskyVadim     -0.036930 -0.086503 -0.085845 -0.166460  0.234189   \n",
      "\n",
      "                           5         6         7         8         9   ...  \\\n",
      "AhlgrenScottD        0.022412 -0.114733  0.031683  0.018222 -0.043512  ...   \n",
      "AlbinPierre         -0.007912  0.060170 -0.093319  0.095668  0.026294  ...   \n",
      "BaloghJózsef         0.095070  0.137821  0.593882  0.224730  0.344131  ...   \n",
      "BaryshnikovYuliyM    0.152125  0.048877  0.030852  0.036247  0.034131  ...   \n",
      "Berwick-EvansDaniel -0.025762  0.194134 -0.243683  0.399190  0.003851  ...   \n",
      "...                       ...       ...       ...       ...       ...  ...   \n",
      "WuXuan               0.494696 -0.083259 -0.048782 -0.011972 -0.015980  ...   \n",
      "YongAlexanderTF      0.109389 -0.168482  0.252452  0.086427  0.086806  ...   \n",
      "YoungAmanda         -0.028095  0.249526  0.122839 -0.119753 -0.234592  ...   \n",
      "ZaharescuAlexandru   0.017919 -0.102643  0.013051  0.007641 -0.041317  ...   \n",
      "ZharnitskyVadim     -0.095606 -0.095669 -0.007184  0.019396  0.028855  ...   \n",
      "\n",
      "                           20        21        22        23        24  \\\n",
      "AhlgrenScottD       -0.008045 -0.005655 -0.001408  0.007504 -0.000502   \n",
      "AlbinPierre         -0.091691 -0.016223  0.022622 -0.007419  0.021300   \n",
      "BaloghJózsef         0.005438 -0.004326 -0.002123  0.009514 -0.009647   \n",
      "BaryshnikovYuliyM    0.064602  0.040246 -0.020191  0.011677 -0.035913   \n",
      "Berwick-EvansDaniel -0.020108 -0.063279  0.018045  0.037729 -0.002469   \n",
      "...                       ...       ...       ...       ...       ...   \n",
      "WuXuan              -0.014570 -0.027411  0.030191  0.015972 -0.019135   \n",
      "YongAlexanderTF      0.001193 -0.011957  0.000806  0.003531 -0.002205   \n",
      "YoungAmanda         -0.120438  0.119509 -0.016117 -0.059845  0.033622   \n",
      "ZaharescuAlexandru  -0.001154 -0.003690 -0.003134 -0.001602  0.000654   \n",
      "ZharnitskyVadim      0.107061 -0.001618 -0.029958 -0.120812 -0.030676   \n",
      "\n",
      "                           25        26        27        28        29  \n",
      "AhlgrenScottD        0.000986 -0.000619  0.007143 -0.002239 -0.002747  \n",
      "AlbinPierre          0.016512 -0.020175 -0.004472  0.000476 -0.007178  \n",
      "BaloghJózsef        -0.002548 -0.015010 -0.004006 -0.000963 -0.001667  \n",
      "BaryshnikovYuliyM    0.007099  0.145152 -0.004094  0.001972  0.000561  \n",
      "Berwick-EvansDaniel  0.014260 -0.011258  0.011744 -0.003041 -0.032987  \n",
      "...                       ...       ...       ...       ...       ...  \n",
      "WuXuan              -0.006907 -0.040666 -0.014741 -0.009689 -0.000906  \n",
      "YongAlexanderTF      0.000397 -0.003569 -0.002437  0.000906  0.012218  \n",
      "YoungAmanda         -0.055084  0.016774 -0.011796  0.004303 -0.002424  \n",
      "ZaharescuAlexandru   0.000991  0.001158  0.000213  0.002881  0.001720  \n",
      "ZharnitskyVadim      0.008798 -0.004655 -0.021542 -0.010079  0.004665  \n",
      "\n",
      "[70 rows x 30 columns]\n"
     ]
    }
   ],
   "source": [
    "msc_l1_pca = pd.DataFrame(msc_pcomp_l1) #, columns=['PC1', 'PC2']\n",
    "msc_l1_pca.index = msc_l1.index\n",
    "\n",
    "print(msc_l1_pca)"
   ]
  },
  {
   "cell_type": "code",
   "execution_count": 30,
   "metadata": {},
   "outputs": [],
   "source": [
    "# Sort the faculty by the first principal component\n",
    "\n",
    "#msc_l1_pca.sort_values(by = 0)"
   ]
  },
  {
   "cell_type": "code",
   "execution_count": 31,
   "metadata": {},
   "outputs": [
    {
     "data": {
      "text/html": [
       "<div>\n",
       "<style scoped>\n",
       "    .dataframe tbody tr th:only-of-type {\n",
       "        vertical-align: middle;\n",
       "    }\n",
       "\n",
       "    .dataframe tbody tr th {\n",
       "        vertical-align: top;\n",
       "    }\n",
       "\n",
       "    .dataframe thead th {\n",
       "        text-align: right;\n",
       "    }\n",
       "</style>\n",
       "<table border=\"1\" class=\"dataframe\">\n",
       "  <thead>\n",
       "    <tr style=\"text-align: right;\">\n",
       "      <th></th>\n",
       "      <th>0</th>\n",
       "      <th>1</th>\n",
       "      <th>2</th>\n",
       "      <th>3</th>\n",
       "      <th>4</th>\n",
       "      <th>5</th>\n",
       "      <th>6</th>\n",
       "      <th>7</th>\n",
       "      <th>8</th>\n",
       "      <th>9</th>\n",
       "      <th>...</th>\n",
       "      <th>20</th>\n",
       "      <th>21</th>\n",
       "      <th>22</th>\n",
       "      <th>23</th>\n",
       "      <th>24</th>\n",
       "      <th>25</th>\n",
       "      <th>26</th>\n",
       "      <th>27</th>\n",
       "      <th>28</th>\n",
       "      <th>29</th>\n",
       "    </tr>\n",
       "  </thead>\n",
       "  <tbody>\n",
       "    <tr>\n",
       "      <th>RasmussenSarahDean</th>\n",
       "      <td>0.041476</td>\n",
       "      <td>-0.337165</td>\n",
       "      <td>0.860415</td>\n",
       "      <td>0.192390</td>\n",
       "      <td>0.106737</td>\n",
       "      <td>0.022087</td>\n",
       "      <td>-0.088041</td>\n",
       "      <td>0.038171</td>\n",
       "      <td>-0.032508</td>\n",
       "      <td>-0.082502</td>\n",
       "      <td>...</td>\n",
       "      <td>-0.003449</td>\n",
       "      <td>-0.003471</td>\n",
       "      <td>0.001432</td>\n",
       "      <td>-0.004235</td>\n",
       "      <td>0.002268</td>\n",
       "      <td>0.000645</td>\n",
       "      <td>0.000889</td>\n",
       "      <td>-0.000393</td>\n",
       "      <td>-0.000024</td>\n",
       "      <td>0.001024</td>\n",
       "    </tr>\n",
       "    <tr>\n",
       "      <th>GuzmanRosemaryK</th>\n",
       "      <td>0.041476</td>\n",
       "      <td>-0.337165</td>\n",
       "      <td>0.860415</td>\n",
       "      <td>0.192390</td>\n",
       "      <td>0.106737</td>\n",
       "      <td>0.022087</td>\n",
       "      <td>-0.088041</td>\n",
       "      <td>0.038171</td>\n",
       "      <td>-0.032508</td>\n",
       "      <td>-0.082502</td>\n",
       "      <td>...</td>\n",
       "      <td>-0.003449</td>\n",
       "      <td>-0.003471</td>\n",
       "      <td>0.001432</td>\n",
       "      <td>-0.004235</td>\n",
       "      <td>0.002268</td>\n",
       "      <td>0.000645</td>\n",
       "      <td>0.000889</td>\n",
       "      <td>-0.000393</td>\n",
       "      <td>-0.000024</td>\n",
       "      <td>0.001024</td>\n",
       "    </tr>\n",
       "    <tr>\n",
       "      <th>DeyParthaSarathi</th>\n",
       "      <td>-0.140379</td>\n",
       "      <td>-0.304848</td>\n",
       "      <td>-0.304916</td>\n",
       "      <td>0.327542</td>\n",
       "      <td>0.084210</td>\n",
       "      <td>0.660479</td>\n",
       "      <td>0.019189</td>\n",
       "      <td>-0.050711</td>\n",
       "      <td>-0.029463</td>\n",
       "      <td>-0.039422</td>\n",
       "      <td>...</td>\n",
       "      <td>-0.041745</td>\n",
       "      <td>0.021398</td>\n",
       "      <td>0.022898</td>\n",
       "      <td>0.007033</td>\n",
       "      <td>0.017668</td>\n",
       "      <td>-0.013541</td>\n",
       "      <td>-0.050738</td>\n",
       "      <td>-0.006896</td>\n",
       "      <td>-0.001811</td>\n",
       "      <td>-0.000196</td>\n",
       "    </tr>\n",
       "    <tr>\n",
       "      <th>DunfieldNathanM</th>\n",
       "      <td>0.031128</td>\n",
       "      <td>-0.303924</td>\n",
       "      <td>0.769704</td>\n",
       "      <td>0.158627</td>\n",
       "      <td>0.078665</td>\n",
       "      <td>0.025146</td>\n",
       "      <td>-0.062126</td>\n",
       "      <td>0.085523</td>\n",
       "      <td>-0.015457</td>\n",
       "      <td>-0.016879</td>\n",
       "      <td>...</td>\n",
       "      <td>-0.004083</td>\n",
       "      <td>-0.005856</td>\n",
       "      <td>0.002292</td>\n",
       "      <td>-0.003796</td>\n",
       "      <td>0.002563</td>\n",
       "      <td>0.000774</td>\n",
       "      <td>0.000018</td>\n",
       "      <td>-0.000246</td>\n",
       "      <td>0.000006</td>\n",
       "      <td>0.000346</td>\n",
       "    </tr>\n",
       "    <tr>\n",
       "      <th>FadinaTolulope</th>\n",
       "      <td>-0.132421</td>\n",
       "      <td>-0.303243</td>\n",
       "      <td>-0.294667</td>\n",
       "      <td>0.456957</td>\n",
       "      <td>-0.152178</td>\n",
       "      <td>-0.165172</td>\n",
       "      <td>-0.098741</td>\n",
       "      <td>-0.001587</td>\n",
       "      <td>-0.013830</td>\n",
       "      <td>-0.022353</td>\n",
       "      <td>...</td>\n",
       "      <td>-0.013442</td>\n",
       "      <td>-0.034524</td>\n",
       "      <td>-0.058054</td>\n",
       "      <td>-0.013387</td>\n",
       "      <td>0.005610</td>\n",
       "      <td>-0.000544</td>\n",
       "      <td>-0.029623</td>\n",
       "      <td>-0.004592</td>\n",
       "      <td>-0.000679</td>\n",
       "      <td>-0.000617</td>\n",
       "    </tr>\n",
       "    <tr>\n",
       "      <th>...</th>\n",
       "      <td>...</td>\n",
       "      <td>...</td>\n",
       "      <td>...</td>\n",
       "      <td>...</td>\n",
       "      <td>...</td>\n",
       "      <td>...</td>\n",
       "      <td>...</td>\n",
       "      <td>...</td>\n",
       "      <td>...</td>\n",
       "      <td>...</td>\n",
       "      <td>...</td>\n",
       "      <td>...</td>\n",
       "      <td>...</td>\n",
       "      <td>...</td>\n",
       "      <td>...</td>\n",
       "      <td>...</td>\n",
       "      <td>...</td>\n",
       "      <td>...</td>\n",
       "      <td>...</td>\n",
       "      <td>...</td>\n",
       "      <td>...</td>\n",
       "    </tr>\n",
       "    <tr>\n",
       "      <th>ReznickBruce</th>\n",
       "      <td>-0.295427</td>\n",
       "      <td>0.385244</td>\n",
       "      <td>0.064994</td>\n",
       "      <td>0.073212</td>\n",
       "      <td>0.007794</td>\n",
       "      <td>0.014171</td>\n",
       "      <td>-0.037654</td>\n",
       "      <td>0.039436</td>\n",
       "      <td>0.003326</td>\n",
       "      <td>-0.022229</td>\n",
       "      <td>...</td>\n",
       "      <td>0.013181</td>\n",
       "      <td>0.020860</td>\n",
       "      <td>-0.012253</td>\n",
       "      <td>0.017243</td>\n",
       "      <td>-0.014731</td>\n",
       "      <td>-0.000899</td>\n",
       "      <td>-0.005149</td>\n",
       "      <td>0.001471</td>\n",
       "      <td>-0.006984</td>\n",
       "      <td>0.019007</td>\n",
       "    </tr>\n",
       "    <tr>\n",
       "      <th>FordKevinB</th>\n",
       "      <td>-0.463642</td>\n",
       "      <td>0.615760</td>\n",
       "      <td>0.098212</td>\n",
       "      <td>0.194708</td>\n",
       "      <td>0.077909</td>\n",
       "      <td>0.041471</td>\n",
       "      <td>-0.103690</td>\n",
       "      <td>0.022930</td>\n",
       "      <td>0.009471</td>\n",
       "      <td>-0.024963</td>\n",
       "      <td>...</td>\n",
       "      <td>-0.004074</td>\n",
       "      <td>0.000521</td>\n",
       "      <td>0.018176</td>\n",
       "      <td>0.008800</td>\n",
       "      <td>0.000106</td>\n",
       "      <td>-0.000429</td>\n",
       "      <td>-0.002415</td>\n",
       "      <td>0.006103</td>\n",
       "      <td>-0.002543</td>\n",
       "      <td>-0.002749</td>\n",
       "    </tr>\n",
       "    <tr>\n",
       "      <th>ZaharescuAlexandru</th>\n",
       "      <td>-0.457937</td>\n",
       "      <td>0.626679</td>\n",
       "      <td>0.106768</td>\n",
       "      <td>0.183279</td>\n",
       "      <td>0.080396</td>\n",
       "      <td>0.017919</td>\n",
       "      <td>-0.102643</td>\n",
       "      <td>0.013051</td>\n",
       "      <td>0.007641</td>\n",
       "      <td>-0.041317</td>\n",
       "      <td>...</td>\n",
       "      <td>-0.001154</td>\n",
       "      <td>-0.003690</td>\n",
       "      <td>-0.003134</td>\n",
       "      <td>-0.001602</td>\n",
       "      <td>0.000654</td>\n",
       "      <td>0.000991</td>\n",
       "      <td>0.001158</td>\n",
       "      <td>0.000213</td>\n",
       "      <td>0.002881</td>\n",
       "      <td>0.001720</td>\n",
       "    </tr>\n",
       "    <tr>\n",
       "      <th>AhlgrenScottD</th>\n",
       "      <td>-0.489734</td>\n",
       "      <td>0.671123</td>\n",
       "      <td>0.115057</td>\n",
       "      <td>0.199204</td>\n",
       "      <td>0.085045</td>\n",
       "      <td>0.022412</td>\n",
       "      <td>-0.114733</td>\n",
       "      <td>0.031683</td>\n",
       "      <td>0.018222</td>\n",
       "      <td>-0.043512</td>\n",
       "      <td>...</td>\n",
       "      <td>-0.008045</td>\n",
       "      <td>-0.005655</td>\n",
       "      <td>-0.001408</td>\n",
       "      <td>0.007504</td>\n",
       "      <td>-0.000502</td>\n",
       "      <td>0.000986</td>\n",
       "      <td>-0.000619</td>\n",
       "      <td>0.007143</td>\n",
       "      <td>-0.002239</td>\n",
       "      <td>-0.002747</td>\n",
       "    </tr>\n",
       "    <tr>\n",
       "      <th>ThornerJesse</th>\n",
       "      <td>-0.525059</td>\n",
       "      <td>0.723985</td>\n",
       "      <td>0.124162</td>\n",
       "      <td>0.218488</td>\n",
       "      <td>0.095352</td>\n",
       "      <td>0.024034</td>\n",
       "      <td>-0.129772</td>\n",
       "      <td>0.019616</td>\n",
       "      <td>0.013722</td>\n",
       "      <td>-0.055967</td>\n",
       "      <td>...</td>\n",
       "      <td>-0.010614</td>\n",
       "      <td>-0.007503</td>\n",
       "      <td>-0.001197</td>\n",
       "      <td>0.007599</td>\n",
       "      <td>-0.000306</td>\n",
       "      <td>-0.000670</td>\n",
       "      <td>-0.000918</td>\n",
       "      <td>0.007713</td>\n",
       "      <td>-0.003535</td>\n",
       "      <td>-0.005000</td>\n",
       "    </tr>\n",
       "  </tbody>\n",
       "</table>\n",
       "<p>70 rows × 30 columns</p>\n",
       "</div>"
      ],
      "text/plain": [
       "                          0         1         2         3         4   \\\n",
       "RasmussenSarahDean  0.041476 -0.337165  0.860415  0.192390  0.106737   \n",
       "GuzmanRosemaryK     0.041476 -0.337165  0.860415  0.192390  0.106737   \n",
       "DeyParthaSarathi   -0.140379 -0.304848 -0.304916  0.327542  0.084210   \n",
       "DunfieldNathanM     0.031128 -0.303924  0.769704  0.158627  0.078665   \n",
       "FadinaTolulope     -0.132421 -0.303243 -0.294667  0.456957 -0.152178   \n",
       "...                      ...       ...       ...       ...       ...   \n",
       "ReznickBruce       -0.295427  0.385244  0.064994  0.073212  0.007794   \n",
       "FordKevinB         -0.463642  0.615760  0.098212  0.194708  0.077909   \n",
       "ZaharescuAlexandru -0.457937  0.626679  0.106768  0.183279  0.080396   \n",
       "AhlgrenScottD      -0.489734  0.671123  0.115057  0.199204  0.085045   \n",
       "ThornerJesse       -0.525059  0.723985  0.124162  0.218488  0.095352   \n",
       "\n",
       "                          5         6         7         8         9   ...  \\\n",
       "RasmussenSarahDean  0.022087 -0.088041  0.038171 -0.032508 -0.082502  ...   \n",
       "GuzmanRosemaryK     0.022087 -0.088041  0.038171 -0.032508 -0.082502  ...   \n",
       "DeyParthaSarathi    0.660479  0.019189 -0.050711 -0.029463 -0.039422  ...   \n",
       "DunfieldNathanM     0.025146 -0.062126  0.085523 -0.015457 -0.016879  ...   \n",
       "FadinaTolulope     -0.165172 -0.098741 -0.001587 -0.013830 -0.022353  ...   \n",
       "...                      ...       ...       ...       ...       ...  ...   \n",
       "ReznickBruce        0.014171 -0.037654  0.039436  0.003326 -0.022229  ...   \n",
       "FordKevinB          0.041471 -0.103690  0.022930  0.009471 -0.024963  ...   \n",
       "ZaharescuAlexandru  0.017919 -0.102643  0.013051  0.007641 -0.041317  ...   \n",
       "AhlgrenScottD       0.022412 -0.114733  0.031683  0.018222 -0.043512  ...   \n",
       "ThornerJesse        0.024034 -0.129772  0.019616  0.013722 -0.055967  ...   \n",
       "\n",
       "                          20        21        22        23        24  \\\n",
       "RasmussenSarahDean -0.003449 -0.003471  0.001432 -0.004235  0.002268   \n",
       "GuzmanRosemaryK    -0.003449 -0.003471  0.001432 -0.004235  0.002268   \n",
       "DeyParthaSarathi   -0.041745  0.021398  0.022898  0.007033  0.017668   \n",
       "DunfieldNathanM    -0.004083 -0.005856  0.002292 -0.003796  0.002563   \n",
       "FadinaTolulope     -0.013442 -0.034524 -0.058054 -0.013387  0.005610   \n",
       "...                      ...       ...       ...       ...       ...   \n",
       "ReznickBruce        0.013181  0.020860 -0.012253  0.017243 -0.014731   \n",
       "FordKevinB         -0.004074  0.000521  0.018176  0.008800  0.000106   \n",
       "ZaharescuAlexandru -0.001154 -0.003690 -0.003134 -0.001602  0.000654   \n",
       "AhlgrenScottD      -0.008045 -0.005655 -0.001408  0.007504 -0.000502   \n",
       "ThornerJesse       -0.010614 -0.007503 -0.001197  0.007599 -0.000306   \n",
       "\n",
       "                          25        26        27        28        29  \n",
       "RasmussenSarahDean  0.000645  0.000889 -0.000393 -0.000024  0.001024  \n",
       "GuzmanRosemaryK     0.000645  0.000889 -0.000393 -0.000024  0.001024  \n",
       "DeyParthaSarathi   -0.013541 -0.050738 -0.006896 -0.001811 -0.000196  \n",
       "DunfieldNathanM     0.000774  0.000018 -0.000246  0.000006  0.000346  \n",
       "FadinaTolulope     -0.000544 -0.029623 -0.004592 -0.000679 -0.000617  \n",
       "...                      ...       ...       ...       ...       ...  \n",
       "ReznickBruce       -0.000899 -0.005149  0.001471 -0.006984  0.019007  \n",
       "FordKevinB         -0.000429 -0.002415  0.006103 -0.002543 -0.002749  \n",
       "ZaharescuAlexandru  0.000991  0.001158  0.000213  0.002881  0.001720  \n",
       "AhlgrenScottD       0.000986 -0.000619  0.007143 -0.002239 -0.002747  \n",
       "ThornerJesse       -0.000670 -0.000918  0.007713 -0.003535 -0.005000  \n",
       "\n",
       "[70 rows x 30 columns]"
      ]
     },
     "execution_count": 31,
     "metadata": {},
     "output_type": "execute_result"
    }
   ],
   "source": [
    "# Sort the faculty by the second principal component\n",
    "\n",
    "msc_l1_pca.sort_values(by = 1)"
   ]
  },
  {
   "cell_type": "code",
   "execution_count": 32,
   "metadata": {},
   "outputs": [
    {
     "data": {
      "text/html": [
       "<div>\n",
       "<style scoped>\n",
       "    .dataframe tbody tr th:only-of-type {\n",
       "        vertical-align: middle;\n",
       "    }\n",
       "\n",
       "    .dataframe tbody tr th {\n",
       "        vertical-align: top;\n",
       "    }\n",
       "\n",
       "    .dataframe thead th {\n",
       "        text-align: right;\n",
       "    }\n",
       "</style>\n",
       "<table border=\"1\" class=\"dataframe\">\n",
       "  <thead>\n",
       "    <tr style=\"text-align: right;\">\n",
       "      <th></th>\n",
       "      <th>0</th>\n",
       "      <th>1</th>\n",
       "      <th>2</th>\n",
       "      <th>3</th>\n",
       "      <th>4</th>\n",
       "      <th>5</th>\n",
       "      <th>6</th>\n",
       "      <th>7</th>\n",
       "      <th>8</th>\n",
       "      <th>9</th>\n",
       "      <th>...</th>\n",
       "      <th>20</th>\n",
       "      <th>21</th>\n",
       "      <th>22</th>\n",
       "      <th>23</th>\n",
       "      <th>24</th>\n",
       "      <th>25</th>\n",
       "      <th>26</th>\n",
       "      <th>27</th>\n",
       "      <th>28</th>\n",
       "      <th>29</th>\n",
       "    </tr>\n",
       "  </thead>\n",
       "  <tbody>\n",
       "    <tr>\n",
       "      <th>DeyParthaSarathi</th>\n",
       "      <td>-0.140379</td>\n",
       "      <td>-0.304848</td>\n",
       "      <td>-0.304916</td>\n",
       "      <td>0.327542</td>\n",
       "      <td>0.084210</td>\n",
       "      <td>0.660479</td>\n",
       "      <td>0.019189</td>\n",
       "      <td>-0.050711</td>\n",
       "      <td>-0.029463</td>\n",
       "      <td>-0.039422</td>\n",
       "      <td>...</td>\n",
       "      <td>-0.041745</td>\n",
       "      <td>0.021398</td>\n",
       "      <td>0.022898</td>\n",
       "      <td>0.007033</td>\n",
       "      <td>0.017668</td>\n",
       "      <td>-0.013541</td>\n",
       "      <td>-0.050738</td>\n",
       "      <td>-0.006896</td>\n",
       "      <td>-0.001811</td>\n",
       "      <td>-0.000196</td>\n",
       "    </tr>\n",
       "    <tr>\n",
       "      <th>SongRenming</th>\n",
       "      <td>-0.137050</td>\n",
       "      <td>-0.298519</td>\n",
       "      <td>-0.298615</td>\n",
       "      <td>0.307960</td>\n",
       "      <td>0.097214</td>\n",
       "      <td>0.613079</td>\n",
       "      <td>-0.001745</td>\n",
       "      <td>-0.054867</td>\n",
       "      <td>-0.023820</td>\n",
       "      <td>-0.028976</td>\n",
       "      <td>...</td>\n",
       "      <td>-0.007526</td>\n",
       "      <td>-0.010226</td>\n",
       "      <td>0.026012</td>\n",
       "      <td>0.017677</td>\n",
       "      <td>0.007817</td>\n",
       "      <td>-0.003744</td>\n",
       "      <td>-0.051540</td>\n",
       "      <td>0.001424</td>\n",
       "      <td>0.013679</td>\n",
       "      <td>0.001150</td>\n",
       "    </tr>\n",
       "    <tr>\n",
       "      <th>FadinaTolulope</th>\n",
       "      <td>-0.132421</td>\n",
       "      <td>-0.303243</td>\n",
       "      <td>-0.294667</td>\n",
       "      <td>0.456957</td>\n",
       "      <td>-0.152178</td>\n",
       "      <td>-0.165172</td>\n",
       "      <td>-0.098741</td>\n",
       "      <td>-0.001587</td>\n",
       "      <td>-0.013830</td>\n",
       "      <td>-0.022353</td>\n",
       "      <td>...</td>\n",
       "      <td>-0.013442</td>\n",
       "      <td>-0.034524</td>\n",
       "      <td>-0.058054</td>\n",
       "      <td>-0.013387</td>\n",
       "      <td>0.005610</td>\n",
       "      <td>-0.000544</td>\n",
       "      <td>-0.029623</td>\n",
       "      <td>-0.004592</td>\n",
       "      <td>-0.000679</td>\n",
       "      <td>-0.000617</td>\n",
       "    </tr>\n",
       "    <tr>\n",
       "      <th>WuXuan</th>\n",
       "      <td>-0.136470</td>\n",
       "      <td>-0.294113</td>\n",
       "      <td>-0.293812</td>\n",
       "      <td>0.168567</td>\n",
       "      <td>0.228305</td>\n",
       "      <td>0.494696</td>\n",
       "      <td>-0.083259</td>\n",
       "      <td>-0.048782</td>\n",
       "      <td>-0.011972</td>\n",
       "      <td>-0.015980</td>\n",
       "      <td>...</td>\n",
       "      <td>-0.014570</td>\n",
       "      <td>-0.027411</td>\n",
       "      <td>0.030191</td>\n",
       "      <td>0.015972</td>\n",
       "      <td>-0.019135</td>\n",
       "      <td>-0.006907</td>\n",
       "      <td>-0.040666</td>\n",
       "      <td>-0.014741</td>\n",
       "      <td>-0.009689</td>\n",
       "      <td>-0.000906</td>\n",
       "    </tr>\n",
       "    <tr>\n",
       "      <th>JingXiaochen</th>\n",
       "      <td>-0.123480</td>\n",
       "      <td>-0.290699</td>\n",
       "      <td>-0.277266</td>\n",
       "      <td>0.502500</td>\n",
       "      <td>-0.273894</td>\n",
       "      <td>-0.608238</td>\n",
       "      <td>-0.150497</td>\n",
       "      <td>0.029265</td>\n",
       "      <td>-0.006945</td>\n",
       "      <td>-0.016710</td>\n",
       "      <td>...</td>\n",
       "      <td>-0.020632</td>\n",
       "      <td>-0.043093</td>\n",
       "      <td>-0.102107</td>\n",
       "      <td>-0.031640</td>\n",
       "      <td>0.002515</td>\n",
       "      <td>0.000666</td>\n",
       "      <td>-0.014584</td>\n",
       "      <td>-0.003461</td>\n",
       "      <td>0.000808</td>\n",
       "      <td>-0.000834</td>\n",
       "    </tr>\n",
       "    <tr>\n",
       "      <th>...</th>\n",
       "      <td>...</td>\n",
       "      <td>...</td>\n",
       "      <td>...</td>\n",
       "      <td>...</td>\n",
       "      <td>...</td>\n",
       "      <td>...</td>\n",
       "      <td>...</td>\n",
       "      <td>...</td>\n",
       "      <td>...</td>\n",
       "      <td>...</td>\n",
       "      <td>...</td>\n",
       "      <td>...</td>\n",
       "      <td>...</td>\n",
       "      <td>...</td>\n",
       "      <td>...</td>\n",
       "      <td>...</td>\n",
       "      <td>...</td>\n",
       "      <td>...</td>\n",
       "      <td>...</td>\n",
       "      <td>...</td>\n",
       "      <td>...</td>\n",
       "    </tr>\n",
       "    <tr>\n",
       "      <th>Berwick-EvansDaniel</th>\n",
       "      <td>0.008647</td>\n",
       "      <td>-0.056935</td>\n",
       "      <td>0.125123</td>\n",
       "      <td>-0.031854</td>\n",
       "      <td>-0.029124</td>\n",
       "      <td>-0.025762</td>\n",
       "      <td>0.194134</td>\n",
       "      <td>-0.243683</td>\n",
       "      <td>0.399190</td>\n",
       "      <td>0.003851</td>\n",
       "      <td>...</td>\n",
       "      <td>-0.020108</td>\n",
       "      <td>-0.063279</td>\n",
       "      <td>0.018045</td>\n",
       "      <td>0.037729</td>\n",
       "      <td>-0.002469</td>\n",
       "      <td>0.014260</td>\n",
       "      <td>-0.011258</td>\n",
       "      <td>0.011744</td>\n",
       "      <td>-0.003041</td>\n",
       "      <td>-0.032987</td>\n",
       "    </tr>\n",
       "    <tr>\n",
       "      <th>DunfieldNathanM</th>\n",
       "      <td>0.031128</td>\n",
       "      <td>-0.303924</td>\n",
       "      <td>0.769704</td>\n",
       "      <td>0.158627</td>\n",
       "      <td>0.078665</td>\n",
       "      <td>0.025146</td>\n",
       "      <td>-0.062126</td>\n",
       "      <td>0.085523</td>\n",
       "      <td>-0.015457</td>\n",
       "      <td>-0.016879</td>\n",
       "      <td>...</td>\n",
       "      <td>-0.004083</td>\n",
       "      <td>-0.005856</td>\n",
       "      <td>0.002292</td>\n",
       "      <td>-0.003796</td>\n",
       "      <td>0.002563</td>\n",
       "      <td>0.000774</td>\n",
       "      <td>0.000018</td>\n",
       "      <td>-0.000246</td>\n",
       "      <td>0.000006</td>\n",
       "      <td>0.000346</td>\n",
       "    </tr>\n",
       "    <tr>\n",
       "      <th>RasmussenJacob</th>\n",
       "      <td>0.034058</td>\n",
       "      <td>-0.302658</td>\n",
       "      <td>0.773979</td>\n",
       "      <td>0.144108</td>\n",
       "      <td>0.055275</td>\n",
       "      <td>0.028425</td>\n",
       "      <td>-0.098138</td>\n",
       "      <td>0.009288</td>\n",
       "      <td>-0.050713</td>\n",
       "      <td>-0.043854</td>\n",
       "      <td>...</td>\n",
       "      <td>-0.003794</td>\n",
       "      <td>-0.003116</td>\n",
       "      <td>0.001428</td>\n",
       "      <td>-0.003641</td>\n",
       "      <td>0.002084</td>\n",
       "      <td>0.000355</td>\n",
       "      <td>0.000888</td>\n",
       "      <td>0.000014</td>\n",
       "      <td>0.000096</td>\n",
       "      <td>0.002183</td>\n",
       "    </tr>\n",
       "    <tr>\n",
       "      <th>RasmussenSarahDean</th>\n",
       "      <td>0.041476</td>\n",
       "      <td>-0.337165</td>\n",
       "      <td>0.860415</td>\n",
       "      <td>0.192390</td>\n",
       "      <td>0.106737</td>\n",
       "      <td>0.022087</td>\n",
       "      <td>-0.088041</td>\n",
       "      <td>0.038171</td>\n",
       "      <td>-0.032508</td>\n",
       "      <td>-0.082502</td>\n",
       "      <td>...</td>\n",
       "      <td>-0.003449</td>\n",
       "      <td>-0.003471</td>\n",
       "      <td>0.001432</td>\n",
       "      <td>-0.004235</td>\n",
       "      <td>0.002268</td>\n",
       "      <td>0.000645</td>\n",
       "      <td>0.000889</td>\n",
       "      <td>-0.000393</td>\n",
       "      <td>-0.000024</td>\n",
       "      <td>0.001024</td>\n",
       "    </tr>\n",
       "    <tr>\n",
       "      <th>GuzmanRosemaryK</th>\n",
       "      <td>0.041476</td>\n",
       "      <td>-0.337165</td>\n",
       "      <td>0.860415</td>\n",
       "      <td>0.192390</td>\n",
       "      <td>0.106737</td>\n",
       "      <td>0.022087</td>\n",
       "      <td>-0.088041</td>\n",
       "      <td>0.038171</td>\n",
       "      <td>-0.032508</td>\n",
       "      <td>-0.082502</td>\n",
       "      <td>...</td>\n",
       "      <td>-0.003449</td>\n",
       "      <td>-0.003471</td>\n",
       "      <td>0.001432</td>\n",
       "      <td>-0.004235</td>\n",
       "      <td>0.002268</td>\n",
       "      <td>0.000645</td>\n",
       "      <td>0.000889</td>\n",
       "      <td>-0.000393</td>\n",
       "      <td>-0.000024</td>\n",
       "      <td>0.001024</td>\n",
       "    </tr>\n",
       "  </tbody>\n",
       "</table>\n",
       "<p>70 rows × 30 columns</p>\n",
       "</div>"
      ],
      "text/plain": [
       "                           0         1         2         3         4   \\\n",
       "DeyParthaSarathi    -0.140379 -0.304848 -0.304916  0.327542  0.084210   \n",
       "SongRenming         -0.137050 -0.298519 -0.298615  0.307960  0.097214   \n",
       "FadinaTolulope      -0.132421 -0.303243 -0.294667  0.456957 -0.152178   \n",
       "WuXuan              -0.136470 -0.294113 -0.293812  0.168567  0.228305   \n",
       "JingXiaochen        -0.123480 -0.290699 -0.277266  0.502500 -0.273894   \n",
       "...                       ...       ...       ...       ...       ...   \n",
       "Berwick-EvansDaniel  0.008647 -0.056935  0.125123 -0.031854 -0.029124   \n",
       "DunfieldNathanM      0.031128 -0.303924  0.769704  0.158627  0.078665   \n",
       "RasmussenJacob       0.034058 -0.302658  0.773979  0.144108  0.055275   \n",
       "RasmussenSarahDean   0.041476 -0.337165  0.860415  0.192390  0.106737   \n",
       "GuzmanRosemaryK      0.041476 -0.337165  0.860415  0.192390  0.106737   \n",
       "\n",
       "                           5         6         7         8         9   ...  \\\n",
       "DeyParthaSarathi     0.660479  0.019189 -0.050711 -0.029463 -0.039422  ...   \n",
       "SongRenming          0.613079 -0.001745 -0.054867 -0.023820 -0.028976  ...   \n",
       "FadinaTolulope      -0.165172 -0.098741 -0.001587 -0.013830 -0.022353  ...   \n",
       "WuXuan               0.494696 -0.083259 -0.048782 -0.011972 -0.015980  ...   \n",
       "JingXiaochen        -0.608238 -0.150497  0.029265 -0.006945 -0.016710  ...   \n",
       "...                       ...       ...       ...       ...       ...  ...   \n",
       "Berwick-EvansDaniel -0.025762  0.194134 -0.243683  0.399190  0.003851  ...   \n",
       "DunfieldNathanM      0.025146 -0.062126  0.085523 -0.015457 -0.016879  ...   \n",
       "RasmussenJacob       0.028425 -0.098138  0.009288 -0.050713 -0.043854  ...   \n",
       "RasmussenSarahDean   0.022087 -0.088041  0.038171 -0.032508 -0.082502  ...   \n",
       "GuzmanRosemaryK      0.022087 -0.088041  0.038171 -0.032508 -0.082502  ...   \n",
       "\n",
       "                           20        21        22        23        24  \\\n",
       "DeyParthaSarathi    -0.041745  0.021398  0.022898  0.007033  0.017668   \n",
       "SongRenming         -0.007526 -0.010226  0.026012  0.017677  0.007817   \n",
       "FadinaTolulope      -0.013442 -0.034524 -0.058054 -0.013387  0.005610   \n",
       "WuXuan              -0.014570 -0.027411  0.030191  0.015972 -0.019135   \n",
       "JingXiaochen        -0.020632 -0.043093 -0.102107 -0.031640  0.002515   \n",
       "...                       ...       ...       ...       ...       ...   \n",
       "Berwick-EvansDaniel -0.020108 -0.063279  0.018045  0.037729 -0.002469   \n",
       "DunfieldNathanM     -0.004083 -0.005856  0.002292 -0.003796  0.002563   \n",
       "RasmussenJacob      -0.003794 -0.003116  0.001428 -0.003641  0.002084   \n",
       "RasmussenSarahDean  -0.003449 -0.003471  0.001432 -0.004235  0.002268   \n",
       "GuzmanRosemaryK     -0.003449 -0.003471  0.001432 -0.004235  0.002268   \n",
       "\n",
       "                           25        26        27        28        29  \n",
       "DeyParthaSarathi    -0.013541 -0.050738 -0.006896 -0.001811 -0.000196  \n",
       "SongRenming         -0.003744 -0.051540  0.001424  0.013679  0.001150  \n",
       "FadinaTolulope      -0.000544 -0.029623 -0.004592 -0.000679 -0.000617  \n",
       "WuXuan              -0.006907 -0.040666 -0.014741 -0.009689 -0.000906  \n",
       "JingXiaochen         0.000666 -0.014584 -0.003461  0.000808 -0.000834  \n",
       "...                       ...       ...       ...       ...       ...  \n",
       "Berwick-EvansDaniel  0.014260 -0.011258  0.011744 -0.003041 -0.032987  \n",
       "DunfieldNathanM      0.000774  0.000018 -0.000246  0.000006  0.000346  \n",
       "RasmussenJacob       0.000355  0.000888  0.000014  0.000096  0.002183  \n",
       "RasmussenSarahDean   0.000645  0.000889 -0.000393 -0.000024  0.001024  \n",
       "GuzmanRosemaryK      0.000645  0.000889 -0.000393 -0.000024  0.001024  \n",
       "\n",
       "[70 rows x 30 columns]"
      ]
     },
     "execution_count": 32,
     "metadata": {},
     "output_type": "execute_result"
    }
   ],
   "source": [
    "# Sort the faculty by the third principal component\n",
    "\n",
    "msc_l1_pca.sort_values(by = 2)"
   ]
  },
  {
   "cell_type": "code",
   "execution_count": 33,
   "metadata": {},
   "outputs": [
    {
     "name": "stdout",
     "output_type": "stream",
     "text": [
      "                           0         1         2         3         4   \\\n",
      "AhlgrenScottD       -0.033713  0.650278 -0.338576 -0.521723 -0.120309   \n",
      "AlbinPierre          0.276777 -0.127734  0.026095 -0.025175  0.120455   \n",
      "BaloghJózsef        -0.052655  0.147765  0.067388  0.113956 -0.033611   \n",
      "BaryshnikovYuliyM   -0.164487 -0.020783  0.564643 -0.079493 -0.074243   \n",
      "Berwick-EvansDaniel  0.087938  0.083068  0.034677  0.117574  0.411537   \n",
      "...                       ...       ...       ...       ...       ...   \n",
      "WuXuan              -0.433136 -0.190029  0.467642 -0.173112 -0.132672   \n",
      "YongAlexanderTF      0.066841  0.247561 -0.018209  0.617038 -0.310141   \n",
      "YoungAmanda         -0.075477 -0.019849 -0.119519  0.253064 -0.130342   \n",
      "ZaharescuAlexandru  -0.033167  0.648504 -0.341073 -0.524274 -0.120205   \n",
      "ZharnitskyVadim     -0.441025 -0.508767 -0.342840 -0.103402  0.011591   \n",
      "\n",
      "                           5         6         7         8         9   ...  \\\n",
      "AhlgrenScottD       -0.129203 -0.082050 -0.210266 -0.011121 -0.051562  ...   \n",
      "AlbinPierre         -0.074629 -0.043292  0.135203  0.261181  0.036597  ...   \n",
      "BaloghJózsef         0.025417 -0.130677 -0.080634  0.035636 -0.125892  ...   \n",
      "BaryshnikovYuliyM   -0.029684 -0.387596  0.076681  0.073830 -0.009574  ...   \n",
      "Berwick-EvansDaniel -0.012265 -0.023431  0.079194  0.785984 -0.010618  ...   \n",
      "...                       ...       ...       ...       ...       ...  ...   \n",
      "WuXuan              -0.080864 -0.521080  0.126464 -0.040163 -0.004633  ...   \n",
      "YongAlexanderTF     -0.293602 -0.057407  0.027415 -0.067141 -0.215223  ...   \n",
      "YoungAmanda          0.705771 -0.090971 -0.409417  0.014015  0.158184  ...   \n",
      "ZaharescuAlexandru  -0.128472 -0.078924 -0.203588 -0.013505 -0.040131  ...   \n",
      "ZharnitskyVadim     -0.222988  0.053112  0.017673  0.009116 -0.006455  ...   \n",
      "\n",
      "                           20        21        22        23        24  \\\n",
      "AhlgrenScottD        0.011672 -0.005244  0.023518  0.001968  0.009513   \n",
      "AlbinPierre          0.089009 -0.064880 -0.017634  0.008989  0.057382   \n",
      "BaloghJózsef         0.019558  0.026543  0.040981 -0.006246 -0.008893   \n",
      "BaryshnikovYuliyM   -0.008818  0.058518  0.032202  0.007524 -0.123582   \n",
      "Berwick-EvansDaniel -0.004918 -0.010030  0.041948 -0.003278  0.008426   \n",
      "...                       ...       ...       ...       ...       ...   \n",
      "WuXuan               0.032691 -0.028700  0.065249  0.046210 -0.004104   \n",
      "YongAlexanderTF     -0.017364  0.008672  0.022144 -0.011987 -0.012987   \n",
      "YoungAmanda          0.043329 -0.055622 -0.116224  0.005283  0.038194   \n",
      "ZaharescuAlexandru   0.013911  0.000633  0.012427 -0.000264  0.005587   \n",
      "ZharnitskyVadim     -0.111594  0.161713 -0.141180 -0.045277 -0.145077   \n",
      "\n",
      "                           25        26        27        28        29  \n",
      "AhlgrenScottD       -0.008535  0.003316  0.019064 -0.026692  0.004293  \n",
      "AlbinPierre         -0.099398  0.042206 -0.003257 -0.028162 -0.001041  \n",
      "BaloghJózsef        -0.042146  0.013996 -0.014015  0.010784  0.003052  \n",
      "BaryshnikovYuliyM    0.343235 -0.008193  0.023751 -0.002204  0.001922  \n",
      "Berwick-EvansDaniel -0.021980  0.037861  0.011687  0.030452 -0.004583  \n",
      "...                       ...       ...       ...       ...       ...  \n",
      "WuXuan              -0.113661 -0.005827 -0.030574  0.016531  0.006973  \n",
      "YongAlexanderTF     -0.006851  0.011727 -0.011752  0.028858 -0.011565  \n",
      "YoungAmanda          0.017917 -0.120594 -0.014393 -0.046738  0.011557  \n",
      "ZaharescuAlexandru  -0.003994  0.002152  0.011512 -0.020590 -0.000326  \n",
      "ZharnitskyVadim     -0.036951 -0.015990 -0.079044 -0.077781  0.079652  \n",
      "\n",
      "[70 rows x 30 columns]\n"
     ]
    }
   ],
   "source": [
    "msc_l2_pca = pd.DataFrame(msc_pcomp_l2) #, columns=['PC1', 'PC2']\n",
    "msc_l2_pca.index = msc_l2.index\n",
    "\n",
    "print(msc_l2_pca)"
   ]
  },
  {
   "cell_type": "code",
   "execution_count": 37,
   "metadata": {},
   "outputs": [
    {
     "data": {
      "image/png": "[encoded data removed]",
      "text/plain": [
       "<Figure size 1000x600 with 1 Axes>"
      ]
     },
     "metadata": {},
     "output_type": "display_data"
    }
   ],
   "source": [
    "inertia = []\n",
    "cluster_range = range(1, 16)  # considering 1 to 10 clusters\n",
    "\n",
    "for num_clusters in cluster_range:\n",
    "    kmeans = KMeans(n_clusters=num_clusters, n_init= 15, random_state=42)\n",
    "    kmeans.fit(msc_l2_pca)\n",
    "    inertia.append(kmeans.inertia_)\n",
    "\n",
    "# Plotting the sum of squared distances against the number of clusters\n",
    "plt.figure(figsize=(10, 6))\n",
    "plt.plot(cluster_range, inertia, marker='o', linestyle='--')\n",
    "plt.xlabel('Number of Clusters')\n",
    "plt.ylabel('Sum of Squared Distances')\n",
    "plt.title('Elbow Method for Optimal Number of Clusters papers l1')\n",
    "plt.grid(True)\n",
    "plt.show()"
   ]
  },
  {
   "cell_type": "code",
   "execution_count": 38,
   "metadata": {},
   "outputs": [],
   "source": [
    "data_to_cluster_msc = msc_l2_pca\n",
    "\n",
    "# Convert the DataFrame to a numpy array for KMeans fitting\n",
    "data_to_cluster_msc_np = data_to_cluster_msc.values\n",
    "\n",
    "\n",
    "# Fit the KMeans model\n",
    "kmeans = KMeans(n_clusters=n, n_init= 10, random_state= 40)\n",
    "kmeans.fit(data_to_cluster_msc_np)\n",
    "\n",
    "labels_msc = kmeans.labels_\n",
    "\n",
    "data_to_cluster_msc['Cluster'] = labels_msc\n",
    "\n",
    "\n",
    "#print(data_to_cluster_msc)\n"
   ]
  },
  {
   "cell_type": "code",
   "execution_count": 40,
   "metadata": {},
   "outputs": [
    {
     "name": "stdout",
     "output_type": "stream",
     "text": [
      "              0                      1                     2   \\\n",
      "0   DeVilleRELee  BradlowStevenBenjamin           AlbinPierre   \n",
      "1       RaptiZoi        HaboushWilliamJ      FernandesRuiLoja   \n",
      "2            NaN      HellerJeremiahBen           HungPei-Ken   \n",
      "3            NaN             JandaFelix             KermanEly   \n",
      "4            NaN           KatzSheldonH         LermanEugeneM   \n",
      "5            NaN        YongAlexanderTF         NikolaevIgorG   \n",
      "6            NaN                    NaN  PascaleffJamesThomas   \n",
      "7            NaN                    NaN           TolmanSusan   \n",
      "8            NaN                    NaN                   NaN   \n",
      "9            NaN                    NaN                   NaN   \n",
      "10           NaN                    NaN                   NaN   \n",
      "11           NaN                    NaN                   NaN   \n",
      "12           NaN                    NaN                   NaN   \n",
      "13           NaN                    NaN                   NaN   \n",
      "14           NaN                    NaN                   NaN   \n",
      "15           NaN                    NaN                   NaN   \n",
      "16           NaN                    NaN                   NaN   \n",
      "17           NaN                    NaN                   NaN   \n",
      "18           NaN                    NaN                   NaN   \n",
      "19           NaN                    NaN                   NaN   \n",
      "\n",
      "                    3                    4                   5   \\\n",
      "0        AhlgrenScottD  DiFrancescoPhilippe     DunfieldNathanM   \n",
      "1     BocaFlorin-Petre   KirkpatrickKayLene     GuzmanRosemaryK   \n",
      "2   DuursmaIwanMaynard        LeditzkyFelix      RasmussenJacob   \n",
      "3           FordKevinB          YoungAmanda  RasmussenSarahDean   \n",
      "4         ReznickBruce                  NaN                 NaN   \n",
      "5         ThornerJesse                  NaN                 NaN   \n",
      "6   ZaharescuAlexandru                  NaN                 NaN   \n",
      "7                  NaN                  NaN                 NaN   \n",
      "8                  NaN                  NaN                 NaN   \n",
      "9                  NaN                  NaN                 NaN   \n",
      "10                 NaN                  NaN                 NaN   \n",
      "11                 NaN                  NaN                 NaN   \n",
      "12                 NaN                  NaN                 NaN   \n",
      "13                 NaN                  NaN                 NaN   \n",
      "14                 NaN                  NaN                 NaN   \n",
      "15                 NaN                  NaN                 NaN   \n",
      "16                 NaN                  NaN                 NaN   \n",
      "17                 NaN                  NaN                 NaN   \n",
      "18                 NaN                  NaN                 NaN   \n",
      "19                 NaN                  NaN                 NaN   \n",
      "\n",
      "                   6               7                      8   \\\n",
      "0   BaryshnikovYuliyM   CooneyDanielB          BronskiJaredC   \n",
      "1    DeyParthaSarathi  FadinaTolulope     ErdoğanMehmetBurak   \n",
      "2         SongRenming     FengRunhuan        HurVeraMikyoung   \n",
      "3      SowersRichardB    JingXiaochen             KirrEduard   \n",
      "4              WeiWei       QuanZhiyu  LaugesenRichardSnyder   \n",
      "5              WuXuan             NaN             LiXiaochun   \n",
      "6                 NaN             NaN       TzirakisNikolaos   \n",
      "7                 NaN             NaN        ZharnitskyVadim   \n",
      "8                 NaN             NaN                    NaN   \n",
      "9                 NaN             NaN                    NaN   \n",
      "10                NaN             NaN                    NaN   \n",
      "11                NaN             NaN                    NaN   \n",
      "12                NaN             NaN                    NaN   \n",
      "13                NaN             NaN                    NaN   \n",
      "14                NaN             NaN                    NaN   \n",
      "15                NaN             NaN                    NaN   \n",
      "16                NaN             NaN                    NaN   \n",
      "17                NaN             NaN                    NaN   \n",
      "18                NaN             NaN                    NaN   \n",
      "19                NaN             NaN                    NaN   \n",
      "\n",
      "                    9                10                         11  \\\n",
      "0         BaloghJózsef      JungeMarius  IvanovSergeiVladimirovich   \n",
      "1   KostochkaAlexandrV  KutzarovaDenkaN                    LiuYuan   \n",
      "2                  NaN    OikhbergTimur                MineyevIgor   \n",
      "3                  NaN              NaN                        NaN   \n",
      "4                  NaN              NaN                        NaN   \n",
      "5                  NaN              NaN                        NaN   \n",
      "6                  NaN              NaN                        NaN   \n",
      "7                  NaN              NaN                        NaN   \n",
      "8                  NaN              NaN                        NaN   \n",
      "9                  NaN              NaN                        NaN   \n",
      "10                 NaN              NaN                        NaN   \n",
      "11                 NaN              NaN                        NaN   \n",
      "12                 NaN              NaN                        NaN   \n",
      "13                 NaN              NaN                        NaN   \n",
      "14                 NaN              NaN                        NaN   \n",
      "15                 NaN              NaN                        NaN   \n",
      "16                 NaN              NaN                        NaN   \n",
      "17                 NaN              NaN                        NaN   \n",
      "18                 NaN              NaN                        NaN   \n",
      "19                 NaN              NaN                        NaN   \n",
      "\n",
      "                     12             13                 14  \n",
      "0   Berwick-EvansDaniel  HinkkanenAimo    DoddChristopher  \n",
      "1           HiraniAnilN   TysonJeremyT  DuttaSankarPrasad  \n",
      "2         McCarthyRandy            NaN         KedemRinat  \n",
      "3          RezkCharlesW            NaN     LaNaveGabriele  \n",
      "4       StojanoskaVesna            NaN   TumanovAlexander  \n",
      "5                   NaN            NaN                NaN  \n",
      "6                   NaN            NaN                NaN  \n",
      "7                   NaN            NaN                NaN  \n",
      "8                   NaN            NaN                NaN  \n",
      "9                   NaN            NaN                NaN  \n",
      "10                  NaN            NaN                NaN  \n",
      "11                  NaN            NaN                NaN  \n",
      "12                  NaN            NaN                NaN  \n",
      "13                  NaN            NaN                NaN  \n",
      "14                  NaN            NaN                NaN  \n",
      "15                  NaN            NaN                NaN  \n",
      "16                  NaN            NaN                NaN  \n",
      "17                  NaN            NaN                NaN  \n",
      "18                  NaN            NaN                NaN  \n",
      "19                  NaN            NaN                NaN  \n"
     ]
    }
   ],
   "source": [
    "clusters_msc = pd.DataFrame(columns = range(11), index = range(20))\n",
    "\n",
    "\n",
    "for i in range(n):\n",
    "    clusters_msc[i] =  pd.DataFrame(data_to_cluster_msc.index[data_to_cluster_msc[\"Cluster\"] == i])\n",
    "    \n",
    "print(clusters_msc)\n",
    "\n",
    "clusters_msc.to_csv(\"clusters_msc.csv\")\n"
   ]
  },
  {
   "cell_type": "code",
   "execution_count": null,
   "metadata": {},
   "outputs": [],
   "source": []
  },
  {
   "cell_type": "code",
   "execution_count": null,
   "metadata": {},
   "outputs": [],
   "source": []
  }
 ],
 "metadata": {
  "kernelspec": {
   "display_name": "Python 3",
   "language": "python",
   "name": "python3"
  },
  "language_info": {
   "codemirror_mode": {
    "name": "ipython",
    "version": 3
   },
   "file_extension": ".py",
   "mimetype": "text/x-python",
   "name": "python",
   "nbconvert_exporter": "python",
   "pygments_lexer": "ipython3",
   "version": "3.11.5"
  },
  "orig_nbformat": 4
 },
 "nbformat": 4,
 "nbformat_minor": 2
}
