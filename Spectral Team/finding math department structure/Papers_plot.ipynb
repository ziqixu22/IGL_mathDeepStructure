{
 "cells": [
  {
   "cell_type": "code",
   "execution_count": 182,
   "metadata": {},
   "outputs": [
    {
     "name": "stdout",
     "output_type": "stream",
     "text": [
      "Requirement already satisfied: sklearn in c:\\users\\10072\\appdata\\local\\packages\\pythonsoftwarefoundation.python.3.11_qbz5n2kfra8p0\\localcache\\local-packages\\python311\\site-packages (0.0.post9)\n"
     ]
    }
   ],
   "source": [
    "!pip install sklearn"
   ]
  },
  {
   "cell_type": "code",
   "execution_count": 183,
   "metadata": {},
   "outputs": [],
   "source": [
    "import pandas as pd\n",
    "import numpy as np\n",
    "\n",
    "papers = pd.read_csv('C:\\\\Users\\\\10072\\\\OneDrive\\\\Desktop\\\\finding math department structure\\\\papers.csv',index_col=0)"
   ]
  },
  {
   "cell_type": "code",
   "execution_count": 184,
   "metadata": {},
   "outputs": [
    {
     "data": {
      "text/html": [
       "<div>\n",
       "<style scoped>\n",
       "    .dataframe tbody tr th:only-of-type {\n",
       "        vertical-align: middle;\n",
       "    }\n",
       "\n",
       "    .dataframe tbody tr th {\n",
       "        vertical-align: top;\n",
       "    }\n",
       "\n",
       "    .dataframe thead th {\n",
       "        text-align: right;\n",
       "    }\n",
       "</style>\n",
       "<table border=\"1\" class=\"dataframe\">\n",
       "  <thead>\n",
       "    <tr style=\"text-align: right;\">\n",
       "      <th></th>\n",
       "      <th>BocaFlorin-Petre_papers</th>\n",
       "      <th>BaryshnikovYuliyM_papers</th>\n",
       "      <th>AhlgrenScottD_papers</th>\n",
       "      <th>AlbinPierre_papers</th>\n",
       "      <th>BaloghJózsef_papers</th>\n",
       "      <th>BradlowStevenBenjamin_papers</th>\n",
       "      <th>Berwick-EvansDaniel_papers</th>\n",
       "      <th>BronskiJaredC_papers</th>\n",
       "      <th>CooneyDanielB_papers</th>\n",
       "      <th>DeyParthaSarathi_papers</th>\n",
       "      <th>...</th>\n",
       "      <th>TolmanSusan_papers</th>\n",
       "      <th>TysonJeremyT_papers</th>\n",
       "      <th>TumanovAlexander_papers</th>\n",
       "      <th>WeiWei_papers</th>\n",
       "      <th>WuXuan_papers</th>\n",
       "      <th>YongAlexanderTF_papers</th>\n",
       "      <th>YoungAmanda_papers</th>\n",
       "      <th>TzirakisNikolaos_papers</th>\n",
       "      <th>ZharnitskyVadim_papers</th>\n",
       "      <th>ZaharescuAlexandru_papers</th>\n",
       "    </tr>\n",
       "  </thead>\n",
       "  <tbody>\n",
       "    <tr>\n",
       "      <th>MR2273359</th>\n",
       "      <td>1</td>\n",
       "      <td>0</td>\n",
       "      <td>0</td>\n",
       "      <td>0</td>\n",
       "      <td>0</td>\n",
       "      <td>0</td>\n",
       "      <td>0</td>\n",
       "      <td>0</td>\n",
       "      <td>0</td>\n",
       "      <td>0</td>\n",
       "      <td>...</td>\n",
       "      <td>0</td>\n",
       "      <td>0</td>\n",
       "      <td>0</td>\n",
       "      <td>0</td>\n",
       "      <td>0</td>\n",
       "      <td>0</td>\n",
       "      <td>0</td>\n",
       "      <td>0</td>\n",
       "      <td>0</td>\n",
       "      <td>1</td>\n",
       "    </tr>\n",
       "    <tr>\n",
       "      <th>MR2275343</th>\n",
       "      <td>1</td>\n",
       "      <td>0</td>\n",
       "      <td>0</td>\n",
       "      <td>0</td>\n",
       "      <td>0</td>\n",
       "      <td>0</td>\n",
       "      <td>0</td>\n",
       "      <td>0</td>\n",
       "      <td>0</td>\n",
       "      <td>0</td>\n",
       "      <td>...</td>\n",
       "      <td>0</td>\n",
       "      <td>0</td>\n",
       "      <td>0</td>\n",
       "      <td>0</td>\n",
       "      <td>0</td>\n",
       "      <td>0</td>\n",
       "      <td>0</td>\n",
       "      <td>0</td>\n",
       "      <td>0</td>\n",
       "      <td>1</td>\n",
       "    </tr>\n",
       "    <tr>\n",
       "      <th>MR1833071</th>\n",
       "      <td>8</td>\n",
       "      <td>0</td>\n",
       "      <td>0</td>\n",
       "      <td>0</td>\n",
       "      <td>0</td>\n",
       "      <td>0</td>\n",
       "      <td>0</td>\n",
       "      <td>0</td>\n",
       "      <td>0</td>\n",
       "      <td>0</td>\n",
       "      <td>...</td>\n",
       "      <td>0</td>\n",
       "      <td>0</td>\n",
       "      <td>0</td>\n",
       "      <td>0</td>\n",
       "      <td>0</td>\n",
       "      <td>0</td>\n",
       "      <td>0</td>\n",
       "      <td>0</td>\n",
       "      <td>0</td>\n",
       "      <td>13</td>\n",
       "    </tr>\n",
       "    <tr>\n",
       "      <th>MR2773200</th>\n",
       "      <td>2</td>\n",
       "      <td>0</td>\n",
       "      <td>0</td>\n",
       "      <td>0</td>\n",
       "      <td>0</td>\n",
       "      <td>0</td>\n",
       "      <td>0</td>\n",
       "      <td>0</td>\n",
       "      <td>0</td>\n",
       "      <td>0</td>\n",
       "      <td>...</td>\n",
       "      <td>0</td>\n",
       "      <td>0</td>\n",
       "      <td>0</td>\n",
       "      <td>0</td>\n",
       "      <td>0</td>\n",
       "      <td>0</td>\n",
       "      <td>0</td>\n",
       "      <td>0</td>\n",
       "      <td>0</td>\n",
       "      <td>2</td>\n",
       "    </tr>\n",
       "    <tr>\n",
       "      <th>MR2763082</th>\n",
       "      <td>1</td>\n",
       "      <td>0</td>\n",
       "      <td>0</td>\n",
       "      <td>0</td>\n",
       "      <td>0</td>\n",
       "      <td>0</td>\n",
       "      <td>0</td>\n",
       "      <td>0</td>\n",
       "      <td>0</td>\n",
       "      <td>0</td>\n",
       "      <td>...</td>\n",
       "      <td>0</td>\n",
       "      <td>0</td>\n",
       "      <td>0</td>\n",
       "      <td>0</td>\n",
       "      <td>0</td>\n",
       "      <td>0</td>\n",
       "      <td>0</td>\n",
       "      <td>0</td>\n",
       "      <td>0</td>\n",
       "      <td>0</td>\n",
       "    </tr>\n",
       "    <tr>\n",
       "      <th>...</th>\n",
       "      <td>...</td>\n",
       "      <td>...</td>\n",
       "      <td>...</td>\n",
       "      <td>...</td>\n",
       "      <td>...</td>\n",
       "      <td>...</td>\n",
       "      <td>...</td>\n",
       "      <td>...</td>\n",
       "      <td>...</td>\n",
       "      <td>...</td>\n",
       "      <td>...</td>\n",
       "      <td>...</td>\n",
       "      <td>...</td>\n",
       "      <td>...</td>\n",
       "      <td>...</td>\n",
       "      <td>...</td>\n",
       "      <td>...</td>\n",
       "      <td>...</td>\n",
       "      <td>...</td>\n",
       "      <td>...</td>\n",
       "      <td>...</td>\n",
       "    </tr>\n",
       "    <tr>\n",
       "      <th>MR1320475</th>\n",
       "      <td>0</td>\n",
       "      <td>0</td>\n",
       "      <td>0</td>\n",
       "      <td>0</td>\n",
       "      <td>0</td>\n",
       "      <td>0</td>\n",
       "      <td>0</td>\n",
       "      <td>0</td>\n",
       "      <td>0</td>\n",
       "      <td>0</td>\n",
       "      <td>...</td>\n",
       "      <td>0</td>\n",
       "      <td>0</td>\n",
       "      <td>0</td>\n",
       "      <td>0</td>\n",
       "      <td>0</td>\n",
       "      <td>0</td>\n",
       "      <td>0</td>\n",
       "      <td>0</td>\n",
       "      <td>0</td>\n",
       "      <td>1</td>\n",
       "    </tr>\n",
       "    <tr>\n",
       "      <th>MR0155831</th>\n",
       "      <td>0</td>\n",
       "      <td>0</td>\n",
       "      <td>0</td>\n",
       "      <td>0</td>\n",
       "      <td>0</td>\n",
       "      <td>0</td>\n",
       "      <td>0</td>\n",
       "      <td>0</td>\n",
       "      <td>0</td>\n",
       "      <td>0</td>\n",
       "      <td>...</td>\n",
       "      <td>0</td>\n",
       "      <td>0</td>\n",
       "      <td>0</td>\n",
       "      <td>0</td>\n",
       "      <td>0</td>\n",
       "      <td>0</td>\n",
       "      <td>0</td>\n",
       "      <td>0</td>\n",
       "      <td>0</td>\n",
       "      <td>1</td>\n",
       "    </tr>\n",
       "    <tr>\n",
       "      <th>MR1346231</th>\n",
       "      <td>0</td>\n",
       "      <td>0</td>\n",
       "      <td>0</td>\n",
       "      <td>0</td>\n",
       "      <td>0</td>\n",
       "      <td>0</td>\n",
       "      <td>0</td>\n",
       "      <td>0</td>\n",
       "      <td>0</td>\n",
       "      <td>0</td>\n",
       "      <td>...</td>\n",
       "      <td>0</td>\n",
       "      <td>0</td>\n",
       "      <td>0</td>\n",
       "      <td>0</td>\n",
       "      <td>0</td>\n",
       "      <td>0</td>\n",
       "      <td>0</td>\n",
       "      <td>0</td>\n",
       "      <td>0</td>\n",
       "      <td>1</td>\n",
       "    </tr>\n",
       "    <tr>\n",
       "      <th>MR1043994</th>\n",
       "      <td>0</td>\n",
       "      <td>0</td>\n",
       "      <td>0</td>\n",
       "      <td>0</td>\n",
       "      <td>0</td>\n",
       "      <td>0</td>\n",
       "      <td>0</td>\n",
       "      <td>0</td>\n",
       "      <td>0</td>\n",
       "      <td>0</td>\n",
       "      <td>...</td>\n",
       "      <td>0</td>\n",
       "      <td>0</td>\n",
       "      <td>0</td>\n",
       "      <td>0</td>\n",
       "      <td>0</td>\n",
       "      <td>0</td>\n",
       "      <td>0</td>\n",
       "      <td>0</td>\n",
       "      <td>0</td>\n",
       "      <td>1</td>\n",
       "    </tr>\n",
       "    <tr>\n",
       "      <th>MR0159805</th>\n",
       "      <td>0</td>\n",
       "      <td>0</td>\n",
       "      <td>0</td>\n",
       "      <td>0</td>\n",
       "      <td>0</td>\n",
       "      <td>0</td>\n",
       "      <td>0</td>\n",
       "      <td>0</td>\n",
       "      <td>0</td>\n",
       "      <td>0</td>\n",
       "      <td>...</td>\n",
       "      <td>0</td>\n",
       "      <td>0</td>\n",
       "      <td>0</td>\n",
       "      <td>0</td>\n",
       "      <td>0</td>\n",
       "      <td>0</td>\n",
       "      <td>0</td>\n",
       "      <td>0</td>\n",
       "      <td>0</td>\n",
       "      <td>1</td>\n",
       "    </tr>\n",
       "  </tbody>\n",
       "</table>\n",
       "<p>26304 rows × 70 columns</p>\n",
       "</div>"
      ],
      "text/plain": [
       "           BocaFlorin-Petre_papers  BaryshnikovYuliyM_papers  \\\n",
       "MR2273359                        1                         0   \n",
       "MR2275343                        1                         0   \n",
       "MR1833071                        8                         0   \n",
       "MR2773200                        2                         0   \n",
       "MR2763082                        1                         0   \n",
       "...                            ...                       ...   \n",
       "MR1320475                        0                         0   \n",
       "MR0155831                        0                         0   \n",
       "MR1346231                        0                         0   \n",
       "MR1043994                        0                         0   \n",
       "MR0159805                        0                         0   \n",
       "\n",
       "           AhlgrenScottD_papers  AlbinPierre_papers  BaloghJózsef_papers  \\\n",
       "MR2273359                     0                   0                    0   \n",
       "MR2275343                     0                   0                    0   \n",
       "MR1833071                     0                   0                    0   \n",
       "MR2773200                     0                   0                    0   \n",
       "MR2763082                     0                   0                    0   \n",
       "...                         ...                 ...                  ...   \n",
       "MR1320475                     0                   0                    0   \n",
       "MR0155831                     0                   0                    0   \n",
       "MR1346231                     0                   0                    0   \n",
       "MR1043994                     0                   0                    0   \n",
       "MR0159805                     0                   0                    0   \n",
       "\n",
       "           BradlowStevenBenjamin_papers  Berwick-EvansDaniel_papers  \\\n",
       "MR2273359                             0                           0   \n",
       "MR2275343                             0                           0   \n",
       "MR1833071                             0                           0   \n",
       "MR2773200                             0                           0   \n",
       "MR2763082                             0                           0   \n",
       "...                                 ...                         ...   \n",
       "MR1320475                             0                           0   \n",
       "MR0155831                             0                           0   \n",
       "MR1346231                             0                           0   \n",
       "MR1043994                             0                           0   \n",
       "MR0159805                             0                           0   \n",
       "\n",
       "           BronskiJaredC_papers  CooneyDanielB_papers  \\\n",
       "MR2273359                     0                     0   \n",
       "MR2275343                     0                     0   \n",
       "MR1833071                     0                     0   \n",
       "MR2773200                     0                     0   \n",
       "MR2763082                     0                     0   \n",
       "...                         ...                   ...   \n",
       "MR1320475                     0                     0   \n",
       "MR0155831                     0                     0   \n",
       "MR1346231                     0                     0   \n",
       "MR1043994                     0                     0   \n",
       "MR0159805                     0                     0   \n",
       "\n",
       "           DeyParthaSarathi_papers  ...  TolmanSusan_papers  \\\n",
       "MR2273359                        0  ...                   0   \n",
       "MR2275343                        0  ...                   0   \n",
       "MR1833071                        0  ...                   0   \n",
       "MR2773200                        0  ...                   0   \n",
       "MR2763082                        0  ...                   0   \n",
       "...                            ...  ...                 ...   \n",
       "MR1320475                        0  ...                   0   \n",
       "MR0155831                        0  ...                   0   \n",
       "MR1346231                        0  ...                   0   \n",
       "MR1043994                        0  ...                   0   \n",
       "MR0159805                        0  ...                   0   \n",
       "\n",
       "           TysonJeremyT_papers  TumanovAlexander_papers  WeiWei_papers  \\\n",
       "MR2273359                    0                        0              0   \n",
       "MR2275343                    0                        0              0   \n",
       "MR1833071                    0                        0              0   \n",
       "MR2773200                    0                        0              0   \n",
       "MR2763082                    0                        0              0   \n",
       "...                        ...                      ...            ...   \n",
       "MR1320475                    0                        0              0   \n",
       "MR0155831                    0                        0              0   \n",
       "MR1346231                    0                        0              0   \n",
       "MR1043994                    0                        0              0   \n",
       "MR0159805                    0                        0              0   \n",
       "\n",
       "           WuXuan_papers  YongAlexanderTF_papers  YoungAmanda_papers  \\\n",
       "MR2273359              0                       0                   0   \n",
       "MR2275343              0                       0                   0   \n",
       "MR1833071              0                       0                   0   \n",
       "MR2773200              0                       0                   0   \n",
       "MR2763082              0                       0                   0   \n",
       "...                  ...                     ...                 ...   \n",
       "MR1320475              0                       0                   0   \n",
       "MR0155831              0                       0                   0   \n",
       "MR1346231              0                       0                   0   \n",
       "MR1043994              0                       0                   0   \n",
       "MR0159805              0                       0                   0   \n",
       "\n",
       "           TzirakisNikolaos_papers  ZharnitskyVadim_papers  \\\n",
       "MR2273359                        0                       0   \n",
       "MR2275343                        0                       0   \n",
       "MR1833071                        0                       0   \n",
       "MR2773200                        0                       0   \n",
       "MR2763082                        0                       0   \n",
       "...                            ...                     ...   \n",
       "MR1320475                        0                       0   \n",
       "MR0155831                        0                       0   \n",
       "MR1346231                        0                       0   \n",
       "MR1043994                        0                       0   \n",
       "MR0159805                        0                       0   \n",
       "\n",
       "           ZaharescuAlexandru_papers  \n",
       "MR2273359                          1  \n",
       "MR2275343                          1  \n",
       "MR1833071                         13  \n",
       "MR2773200                          2  \n",
       "MR2763082                          0  \n",
       "...                              ...  \n",
       "MR1320475                          1  \n",
       "MR0155831                          1  \n",
       "MR1346231                          1  \n",
       "MR1043994                          1  \n",
       "MR0159805                          1  \n",
       "\n",
       "[26304 rows x 70 columns]"
      ]
     },
     "execution_count": 184,
     "metadata": {},
     "output_type": "execute_result"
    }
   ],
   "source": [
    "papers"
   ]
  },
  {
   "cell_type": "code",
   "execution_count": 185,
   "metadata": {},
   "outputs": [],
   "source": [
    "papers = papers.T"
   ]
  },
  {
   "cell_type": "code",
   "execution_count": 186,
   "metadata": {},
   "outputs": [],
   "source": [
    "papers = papers.sort_index()"
   ]
  },
  {
   "cell_type": "code",
   "execution_count": 187,
   "metadata": {},
   "outputs": [
    {
     "data": {
      "text/html": [
       "<div>\n",
       "<style scoped>\n",
       "    .dataframe tbody tr th:only-of-type {\n",
       "        vertical-align: middle;\n",
       "    }\n",
       "\n",
       "    .dataframe tbody tr th {\n",
       "        vertical-align: top;\n",
       "    }\n",
       "\n",
       "    .dataframe thead th {\n",
       "        text-align: right;\n",
       "    }\n",
       "</style>\n",
       "<table border=\"1\" class=\"dataframe\">\n",
       "  <thead>\n",
       "    <tr style=\"text-align: right;\">\n",
       "      <th></th>\n",
       "      <th>MR2273359</th>\n",
       "      <th>MR2275343</th>\n",
       "      <th>MR1833071</th>\n",
       "      <th>MR2773200</th>\n",
       "      <th>MR2763082</th>\n",
       "      <th>MR2543662</th>\n",
       "      <th>MR3097158</th>\n",
       "      <th>MR4107507</th>\n",
       "      <th>MR2145726</th>\n",
       "      <th>MR2186997</th>\n",
       "      <th>...</th>\n",
       "      <th>MR0485768</th>\n",
       "      <th>MR1463696</th>\n",
       "      <th>MR0826154</th>\n",
       "      <th>MR0144186</th>\n",
       "      <th>MR0159786</th>\n",
       "      <th>MR1320475</th>\n",
       "      <th>MR0155831</th>\n",
       "      <th>MR1346231</th>\n",
       "      <th>MR1043994</th>\n",
       "      <th>MR0159805</th>\n",
       "    </tr>\n",
       "  </thead>\n",
       "  <tbody>\n",
       "    <tr>\n",
       "      <th>AhlgrenScottD_papers</th>\n",
       "      <td>0</td>\n",
       "      <td>0</td>\n",
       "      <td>0</td>\n",
       "      <td>0</td>\n",
       "      <td>0</td>\n",
       "      <td>0</td>\n",
       "      <td>0</td>\n",
       "      <td>0</td>\n",
       "      <td>0</td>\n",
       "      <td>0</td>\n",
       "      <td>...</td>\n",
       "      <td>0</td>\n",
       "      <td>0</td>\n",
       "      <td>0</td>\n",
       "      <td>0</td>\n",
       "      <td>0</td>\n",
       "      <td>0</td>\n",
       "      <td>0</td>\n",
       "      <td>0</td>\n",
       "      <td>0</td>\n",
       "      <td>0</td>\n",
       "    </tr>\n",
       "    <tr>\n",
       "      <th>AlbinPierre_papers</th>\n",
       "      <td>0</td>\n",
       "      <td>0</td>\n",
       "      <td>0</td>\n",
       "      <td>0</td>\n",
       "      <td>0</td>\n",
       "      <td>0</td>\n",
       "      <td>0</td>\n",
       "      <td>0</td>\n",
       "      <td>0</td>\n",
       "      <td>0</td>\n",
       "      <td>...</td>\n",
       "      <td>0</td>\n",
       "      <td>0</td>\n",
       "      <td>0</td>\n",
       "      <td>0</td>\n",
       "      <td>0</td>\n",
       "      <td>0</td>\n",
       "      <td>0</td>\n",
       "      <td>0</td>\n",
       "      <td>0</td>\n",
       "      <td>0</td>\n",
       "    </tr>\n",
       "    <tr>\n",
       "      <th>BaloghJózsef_papers</th>\n",
       "      <td>0</td>\n",
       "      <td>0</td>\n",
       "      <td>0</td>\n",
       "      <td>0</td>\n",
       "      <td>0</td>\n",
       "      <td>0</td>\n",
       "      <td>0</td>\n",
       "      <td>0</td>\n",
       "      <td>0</td>\n",
       "      <td>0</td>\n",
       "      <td>...</td>\n",
       "      <td>0</td>\n",
       "      <td>0</td>\n",
       "      <td>0</td>\n",
       "      <td>0</td>\n",
       "      <td>0</td>\n",
       "      <td>0</td>\n",
       "      <td>0</td>\n",
       "      <td>0</td>\n",
       "      <td>0</td>\n",
       "      <td>0</td>\n",
       "    </tr>\n",
       "    <tr>\n",
       "      <th>BaryshnikovYuliyM_papers</th>\n",
       "      <td>0</td>\n",
       "      <td>0</td>\n",
       "      <td>0</td>\n",
       "      <td>0</td>\n",
       "      <td>0</td>\n",
       "      <td>0</td>\n",
       "      <td>0</td>\n",
       "      <td>0</td>\n",
       "      <td>0</td>\n",
       "      <td>0</td>\n",
       "      <td>...</td>\n",
       "      <td>0</td>\n",
       "      <td>0</td>\n",
       "      <td>0</td>\n",
       "      <td>0</td>\n",
       "      <td>0</td>\n",
       "      <td>0</td>\n",
       "      <td>0</td>\n",
       "      <td>0</td>\n",
       "      <td>0</td>\n",
       "      <td>0</td>\n",
       "    </tr>\n",
       "    <tr>\n",
       "      <th>Berwick-EvansDaniel_papers</th>\n",
       "      <td>0</td>\n",
       "      <td>0</td>\n",
       "      <td>0</td>\n",
       "      <td>0</td>\n",
       "      <td>0</td>\n",
       "      <td>0</td>\n",
       "      <td>0</td>\n",
       "      <td>0</td>\n",
       "      <td>0</td>\n",
       "      <td>0</td>\n",
       "      <td>...</td>\n",
       "      <td>0</td>\n",
       "      <td>0</td>\n",
       "      <td>0</td>\n",
       "      <td>0</td>\n",
       "      <td>0</td>\n",
       "      <td>0</td>\n",
       "      <td>0</td>\n",
       "      <td>0</td>\n",
       "      <td>0</td>\n",
       "      <td>0</td>\n",
       "    </tr>\n",
       "    <tr>\n",
       "      <th>...</th>\n",
       "      <td>...</td>\n",
       "      <td>...</td>\n",
       "      <td>...</td>\n",
       "      <td>...</td>\n",
       "      <td>...</td>\n",
       "      <td>...</td>\n",
       "      <td>...</td>\n",
       "      <td>...</td>\n",
       "      <td>...</td>\n",
       "      <td>...</td>\n",
       "      <td>...</td>\n",
       "      <td>...</td>\n",
       "      <td>...</td>\n",
       "      <td>...</td>\n",
       "      <td>...</td>\n",
       "      <td>...</td>\n",
       "      <td>...</td>\n",
       "      <td>...</td>\n",
       "      <td>...</td>\n",
       "      <td>...</td>\n",
       "      <td>...</td>\n",
       "    </tr>\n",
       "    <tr>\n",
       "      <th>WuXuan_papers</th>\n",
       "      <td>0</td>\n",
       "      <td>0</td>\n",
       "      <td>0</td>\n",
       "      <td>0</td>\n",
       "      <td>0</td>\n",
       "      <td>0</td>\n",
       "      <td>0</td>\n",
       "      <td>0</td>\n",
       "      <td>0</td>\n",
       "      <td>0</td>\n",
       "      <td>...</td>\n",
       "      <td>0</td>\n",
       "      <td>0</td>\n",
       "      <td>0</td>\n",
       "      <td>0</td>\n",
       "      <td>0</td>\n",
       "      <td>0</td>\n",
       "      <td>0</td>\n",
       "      <td>0</td>\n",
       "      <td>0</td>\n",
       "      <td>0</td>\n",
       "    </tr>\n",
       "    <tr>\n",
       "      <th>YongAlexanderTF_papers</th>\n",
       "      <td>0</td>\n",
       "      <td>0</td>\n",
       "      <td>0</td>\n",
       "      <td>0</td>\n",
       "      <td>0</td>\n",
       "      <td>0</td>\n",
       "      <td>0</td>\n",
       "      <td>0</td>\n",
       "      <td>0</td>\n",
       "      <td>0</td>\n",
       "      <td>...</td>\n",
       "      <td>0</td>\n",
       "      <td>0</td>\n",
       "      <td>0</td>\n",
       "      <td>0</td>\n",
       "      <td>0</td>\n",
       "      <td>0</td>\n",
       "      <td>0</td>\n",
       "      <td>0</td>\n",
       "      <td>0</td>\n",
       "      <td>0</td>\n",
       "    </tr>\n",
       "    <tr>\n",
       "      <th>YoungAmanda_papers</th>\n",
       "      <td>0</td>\n",
       "      <td>0</td>\n",
       "      <td>0</td>\n",
       "      <td>0</td>\n",
       "      <td>0</td>\n",
       "      <td>0</td>\n",
       "      <td>0</td>\n",
       "      <td>0</td>\n",
       "      <td>0</td>\n",
       "      <td>0</td>\n",
       "      <td>...</td>\n",
       "      <td>0</td>\n",
       "      <td>0</td>\n",
       "      <td>0</td>\n",
       "      <td>0</td>\n",
       "      <td>0</td>\n",
       "      <td>0</td>\n",
       "      <td>0</td>\n",
       "      <td>0</td>\n",
       "      <td>0</td>\n",
       "      <td>0</td>\n",
       "    </tr>\n",
       "    <tr>\n",
       "      <th>ZaharescuAlexandru_papers</th>\n",
       "      <td>1</td>\n",
       "      <td>1</td>\n",
       "      <td>13</td>\n",
       "      <td>2</td>\n",
       "      <td>0</td>\n",
       "      <td>2</td>\n",
       "      <td>1</td>\n",
       "      <td>0</td>\n",
       "      <td>11</td>\n",
       "      <td>2</td>\n",
       "      <td>...</td>\n",
       "      <td>1</td>\n",
       "      <td>1</td>\n",
       "      <td>1</td>\n",
       "      <td>1</td>\n",
       "      <td>1</td>\n",
       "      <td>1</td>\n",
       "      <td>1</td>\n",
       "      <td>1</td>\n",
       "      <td>1</td>\n",
       "      <td>1</td>\n",
       "    </tr>\n",
       "    <tr>\n",
       "      <th>ZharnitskyVadim_papers</th>\n",
       "      <td>0</td>\n",
       "      <td>0</td>\n",
       "      <td>0</td>\n",
       "      <td>0</td>\n",
       "      <td>0</td>\n",
       "      <td>0</td>\n",
       "      <td>0</td>\n",
       "      <td>0</td>\n",
       "      <td>0</td>\n",
       "      <td>0</td>\n",
       "      <td>...</td>\n",
       "      <td>0</td>\n",
       "      <td>0</td>\n",
       "      <td>0</td>\n",
       "      <td>0</td>\n",
       "      <td>0</td>\n",
       "      <td>0</td>\n",
       "      <td>0</td>\n",
       "      <td>0</td>\n",
       "      <td>0</td>\n",
       "      <td>0</td>\n",
       "    </tr>\n",
       "  </tbody>\n",
       "</table>\n",
       "<p>70 rows × 26304 columns</p>\n",
       "</div>"
      ],
      "text/plain": [
       "                            MR2273359  MR2275343  MR1833071  MR2773200  \\\n",
       "AhlgrenScottD_papers                0          0          0          0   \n",
       "AlbinPierre_papers                  0          0          0          0   \n",
       "BaloghJózsef_papers                 0          0          0          0   \n",
       "BaryshnikovYuliyM_papers            0          0          0          0   \n",
       "Berwick-EvansDaniel_papers          0          0          0          0   \n",
       "...                               ...        ...        ...        ...   \n",
       "WuXuan_papers                       0          0          0          0   \n",
       "YongAlexanderTF_papers              0          0          0          0   \n",
       "YoungAmanda_papers                  0          0          0          0   \n",
       "ZaharescuAlexandru_papers           1          1         13          2   \n",
       "ZharnitskyVadim_papers              0          0          0          0   \n",
       "\n",
       "                            MR2763082  MR2543662  MR3097158  MR4107507  \\\n",
       "AhlgrenScottD_papers                0          0          0          0   \n",
       "AlbinPierre_papers                  0          0          0          0   \n",
       "BaloghJózsef_papers                 0          0          0          0   \n",
       "BaryshnikovYuliyM_papers            0          0          0          0   \n",
       "Berwick-EvansDaniel_papers          0          0          0          0   \n",
       "...                               ...        ...        ...        ...   \n",
       "WuXuan_papers                       0          0          0          0   \n",
       "YongAlexanderTF_papers              0          0          0          0   \n",
       "YoungAmanda_papers                  0          0          0          0   \n",
       "ZaharescuAlexandru_papers           0          2          1          0   \n",
       "ZharnitskyVadim_papers              0          0          0          0   \n",
       "\n",
       "                            MR2145726  MR2186997  ...  MR0485768  MR1463696  \\\n",
       "AhlgrenScottD_papers                0          0  ...          0          0   \n",
       "AlbinPierre_papers                  0          0  ...          0          0   \n",
       "BaloghJózsef_papers                 0          0  ...          0          0   \n",
       "BaryshnikovYuliyM_papers            0          0  ...          0          0   \n",
       "Berwick-EvansDaniel_papers          0          0  ...          0          0   \n",
       "...                               ...        ...  ...        ...        ...   \n",
       "WuXuan_papers                       0          0  ...          0          0   \n",
       "YongAlexanderTF_papers              0          0  ...          0          0   \n",
       "YoungAmanda_papers                  0          0  ...          0          0   \n",
       "ZaharescuAlexandru_papers          11          2  ...          1          1   \n",
       "ZharnitskyVadim_papers              0          0  ...          0          0   \n",
       "\n",
       "                            MR0826154  MR0144186  MR0159786  MR1320475  \\\n",
       "AhlgrenScottD_papers                0          0          0          0   \n",
       "AlbinPierre_papers                  0          0          0          0   \n",
       "BaloghJózsef_papers                 0          0          0          0   \n",
       "BaryshnikovYuliyM_papers            0          0          0          0   \n",
       "Berwick-EvansDaniel_papers          0          0          0          0   \n",
       "...                               ...        ...        ...        ...   \n",
       "WuXuan_papers                       0          0          0          0   \n",
       "YongAlexanderTF_papers              0          0          0          0   \n",
       "YoungAmanda_papers                  0          0          0          0   \n",
       "ZaharescuAlexandru_papers           1          1          1          1   \n",
       "ZharnitskyVadim_papers              0          0          0          0   \n",
       "\n",
       "                            MR0155831  MR1346231  MR1043994  MR0159805  \n",
       "AhlgrenScottD_papers                0          0          0          0  \n",
       "AlbinPierre_papers                  0          0          0          0  \n",
       "BaloghJózsef_papers                 0          0          0          0  \n",
       "BaryshnikovYuliyM_papers            0          0          0          0  \n",
       "Berwick-EvansDaniel_papers          0          0          0          0  \n",
       "...                               ...        ...        ...        ...  \n",
       "WuXuan_papers                       0          0          0          0  \n",
       "YongAlexanderTF_papers              0          0          0          0  \n",
       "YoungAmanda_papers                  0          0          0          0  \n",
       "ZaharescuAlexandru_papers           1          1          1          1  \n",
       "ZharnitskyVadim_papers              0          0          0          0  \n",
       "\n",
       "[70 rows x 26304 columns]"
      ]
     },
     "execution_count": 187,
     "metadata": {},
     "output_type": "execute_result"
    }
   ],
   "source": [
    "#Papers: \n",
    "#Rows represent different professors.\n",
    "#Columns represent papers (by their unique identifiers).\n",
    "#The entries in the matrix indicate the number of times a particular professor (in a given row) has cited a particular paper (in the corresponding column).\n",
    "papers\n"
   ]
  },
  {
   "cell_type": "code",
   "execution_count": 188,
   "metadata": {},
   "outputs": [],
   "source": [
    "#remove all the cols with one or zero non-zero entries.\n",
    "mask = (papers != 0).sum(axis=0) == 1\n",
    "cols_to_drop = mask[mask].index.tolist()\n",
    "papers = papers.drop(columns=cols_to_drop)\n",
    "mask = (papers != 0).sum(axis=0) == 0\n",
    "cols_to_drop = mask[mask].index.tolist()\n",
    "papers = papers.drop(columns=cols_to_drop)"
   ]
  },
  {
   "cell_type": "code",
   "execution_count": 189,
   "metadata": {},
   "outputs": [
    {
     "data": {
      "text/html": [
       "<div>\n",
       "<style scoped>\n",
       "    .dataframe tbody tr th:only-of-type {\n",
       "        vertical-align: middle;\n",
       "    }\n",
       "\n",
       "    .dataframe tbody tr th {\n",
       "        vertical-align: top;\n",
       "    }\n",
       "\n",
       "    .dataframe thead th {\n",
       "        text-align: right;\n",
       "    }\n",
       "</style>\n",
       "<table border=\"1\" class=\"dataframe\">\n",
       "  <thead>\n",
       "    <tr style=\"text-align: right;\">\n",
       "      <th></th>\n",
       "      <th>MR2273359</th>\n",
       "      <th>MR2275343</th>\n",
       "      <th>MR1833071</th>\n",
       "      <th>MR2773200</th>\n",
       "      <th>MR2543662</th>\n",
       "      <th>MR3097158</th>\n",
       "      <th>MR2145726</th>\n",
       "      <th>MR2186997</th>\n",
       "      <th>MR1745884</th>\n",
       "      <th>MR0126420</th>\n",
       "      <th>...</th>\n",
       "      <th>MR1328336</th>\n",
       "      <th>MR1910041</th>\n",
       "      <th>MR0495314</th>\n",
       "      <th>MR2183864</th>\n",
       "      <th>MR1511670</th>\n",
       "      <th>MR2759813</th>\n",
       "      <th>MR0415962</th>\n",
       "      <th>MR2172781</th>\n",
       "      <th>MR1741843</th>\n",
       "      <th>MR0778970</th>\n",
       "    </tr>\n",
       "  </thead>\n",
       "  <tbody>\n",
       "    <tr>\n",
       "      <th>AhlgrenScottD_papers</th>\n",
       "      <td>0</td>\n",
       "      <td>0</td>\n",
       "      <td>0</td>\n",
       "      <td>0</td>\n",
       "      <td>0</td>\n",
       "      <td>0</td>\n",
       "      <td>0</td>\n",
       "      <td>0</td>\n",
       "      <td>0</td>\n",
       "      <td>0</td>\n",
       "      <td>...</td>\n",
       "      <td>0</td>\n",
       "      <td>0</td>\n",
       "      <td>0</td>\n",
       "      <td>0</td>\n",
       "      <td>0</td>\n",
       "      <td>0</td>\n",
       "      <td>0</td>\n",
       "      <td>0</td>\n",
       "      <td>0</td>\n",
       "      <td>0</td>\n",
       "    </tr>\n",
       "    <tr>\n",
       "      <th>AlbinPierre_papers</th>\n",
       "      <td>0</td>\n",
       "      <td>0</td>\n",
       "      <td>0</td>\n",
       "      <td>0</td>\n",
       "      <td>0</td>\n",
       "      <td>0</td>\n",
       "      <td>0</td>\n",
       "      <td>0</td>\n",
       "      <td>0</td>\n",
       "      <td>0</td>\n",
       "      <td>...</td>\n",
       "      <td>0</td>\n",
       "      <td>0</td>\n",
       "      <td>0</td>\n",
       "      <td>0</td>\n",
       "      <td>0</td>\n",
       "      <td>0</td>\n",
       "      <td>0</td>\n",
       "      <td>0</td>\n",
       "      <td>0</td>\n",
       "      <td>0</td>\n",
       "    </tr>\n",
       "    <tr>\n",
       "      <th>BaloghJózsef_papers</th>\n",
       "      <td>0</td>\n",
       "      <td>0</td>\n",
       "      <td>0</td>\n",
       "      <td>0</td>\n",
       "      <td>0</td>\n",
       "      <td>0</td>\n",
       "      <td>0</td>\n",
       "      <td>0</td>\n",
       "      <td>0</td>\n",
       "      <td>0</td>\n",
       "      <td>...</td>\n",
       "      <td>0</td>\n",
       "      <td>0</td>\n",
       "      <td>0</td>\n",
       "      <td>0</td>\n",
       "      <td>0</td>\n",
       "      <td>0</td>\n",
       "      <td>0</td>\n",
       "      <td>0</td>\n",
       "      <td>0</td>\n",
       "      <td>0</td>\n",
       "    </tr>\n",
       "    <tr>\n",
       "      <th>BaryshnikovYuliyM_papers</th>\n",
       "      <td>0</td>\n",
       "      <td>0</td>\n",
       "      <td>0</td>\n",
       "      <td>0</td>\n",
       "      <td>0</td>\n",
       "      <td>0</td>\n",
       "      <td>0</td>\n",
       "      <td>0</td>\n",
       "      <td>0</td>\n",
       "      <td>0</td>\n",
       "      <td>...</td>\n",
       "      <td>0</td>\n",
       "      <td>0</td>\n",
       "      <td>0</td>\n",
       "      <td>0</td>\n",
       "      <td>0</td>\n",
       "      <td>0</td>\n",
       "      <td>0</td>\n",
       "      <td>0</td>\n",
       "      <td>0</td>\n",
       "      <td>0</td>\n",
       "    </tr>\n",
       "    <tr>\n",
       "      <th>Berwick-EvansDaniel_papers</th>\n",
       "      <td>0</td>\n",
       "      <td>0</td>\n",
       "      <td>0</td>\n",
       "      <td>0</td>\n",
       "      <td>0</td>\n",
       "      <td>0</td>\n",
       "      <td>0</td>\n",
       "      <td>0</td>\n",
       "      <td>0</td>\n",
       "      <td>0</td>\n",
       "      <td>...</td>\n",
       "      <td>0</td>\n",
       "      <td>0</td>\n",
       "      <td>0</td>\n",
       "      <td>0</td>\n",
       "      <td>0</td>\n",
       "      <td>0</td>\n",
       "      <td>0</td>\n",
       "      <td>0</td>\n",
       "      <td>0</td>\n",
       "      <td>0</td>\n",
       "    </tr>\n",
       "    <tr>\n",
       "      <th>...</th>\n",
       "      <td>...</td>\n",
       "      <td>...</td>\n",
       "      <td>...</td>\n",
       "      <td>...</td>\n",
       "      <td>...</td>\n",
       "      <td>...</td>\n",
       "      <td>...</td>\n",
       "      <td>...</td>\n",
       "      <td>...</td>\n",
       "      <td>...</td>\n",
       "      <td>...</td>\n",
       "      <td>...</td>\n",
       "      <td>...</td>\n",
       "      <td>...</td>\n",
       "      <td>...</td>\n",
       "      <td>...</td>\n",
       "      <td>...</td>\n",
       "      <td>...</td>\n",
       "      <td>...</td>\n",
       "      <td>...</td>\n",
       "      <td>...</td>\n",
       "    </tr>\n",
       "    <tr>\n",
       "      <th>WuXuan_papers</th>\n",
       "      <td>0</td>\n",
       "      <td>0</td>\n",
       "      <td>0</td>\n",
       "      <td>0</td>\n",
       "      <td>0</td>\n",
       "      <td>0</td>\n",
       "      <td>0</td>\n",
       "      <td>0</td>\n",
       "      <td>0</td>\n",
       "      <td>0</td>\n",
       "      <td>...</td>\n",
       "      <td>0</td>\n",
       "      <td>0</td>\n",
       "      <td>0</td>\n",
       "      <td>0</td>\n",
       "      <td>0</td>\n",
       "      <td>0</td>\n",
       "      <td>1</td>\n",
       "      <td>0</td>\n",
       "      <td>0</td>\n",
       "      <td>0</td>\n",
       "    </tr>\n",
       "    <tr>\n",
       "      <th>YongAlexanderTF_papers</th>\n",
       "      <td>0</td>\n",
       "      <td>0</td>\n",
       "      <td>0</td>\n",
       "      <td>0</td>\n",
       "      <td>0</td>\n",
       "      <td>0</td>\n",
       "      <td>0</td>\n",
       "      <td>0</td>\n",
       "      <td>0</td>\n",
       "      <td>0</td>\n",
       "      <td>...</td>\n",
       "      <td>0</td>\n",
       "      <td>0</td>\n",
       "      <td>0</td>\n",
       "      <td>0</td>\n",
       "      <td>1</td>\n",
       "      <td>1</td>\n",
       "      <td>0</td>\n",
       "      <td>0</td>\n",
       "      <td>0</td>\n",
       "      <td>0</td>\n",
       "    </tr>\n",
       "    <tr>\n",
       "      <th>YoungAmanda_papers</th>\n",
       "      <td>0</td>\n",
       "      <td>0</td>\n",
       "      <td>0</td>\n",
       "      <td>0</td>\n",
       "      <td>0</td>\n",
       "      <td>0</td>\n",
       "      <td>0</td>\n",
       "      <td>0</td>\n",
       "      <td>0</td>\n",
       "      <td>0</td>\n",
       "      <td>...</td>\n",
       "      <td>0</td>\n",
       "      <td>0</td>\n",
       "      <td>0</td>\n",
       "      <td>0</td>\n",
       "      <td>0</td>\n",
       "      <td>0</td>\n",
       "      <td>0</td>\n",
       "      <td>1</td>\n",
       "      <td>0</td>\n",
       "      <td>0</td>\n",
       "    </tr>\n",
       "    <tr>\n",
       "      <th>ZaharescuAlexandru_papers</th>\n",
       "      <td>1</td>\n",
       "      <td>1</td>\n",
       "      <td>13</td>\n",
       "      <td>2</td>\n",
       "      <td>2</td>\n",
       "      <td>1</td>\n",
       "      <td>11</td>\n",
       "      <td>2</td>\n",
       "      <td>1</td>\n",
       "      <td>21</td>\n",
       "      <td>...</td>\n",
       "      <td>0</td>\n",
       "      <td>0</td>\n",
       "      <td>0</td>\n",
       "      <td>0</td>\n",
       "      <td>0</td>\n",
       "      <td>0</td>\n",
       "      <td>1</td>\n",
       "      <td>1</td>\n",
       "      <td>0</td>\n",
       "      <td>0</td>\n",
       "    </tr>\n",
       "    <tr>\n",
       "      <th>ZharnitskyVadim_papers</th>\n",
       "      <td>0</td>\n",
       "      <td>0</td>\n",
       "      <td>0</td>\n",
       "      <td>0</td>\n",
       "      <td>0</td>\n",
       "      <td>0</td>\n",
       "      <td>0</td>\n",
       "      <td>0</td>\n",
       "      <td>0</td>\n",
       "      <td>0</td>\n",
       "      <td>...</td>\n",
       "      <td>3</td>\n",
       "      <td>1</td>\n",
       "      <td>1</td>\n",
       "      <td>1</td>\n",
       "      <td>1</td>\n",
       "      <td>0</td>\n",
       "      <td>0</td>\n",
       "      <td>0</td>\n",
       "      <td>1</td>\n",
       "      <td>2</td>\n",
       "    </tr>\n",
       "  </tbody>\n",
       "</table>\n",
       "<p>70 rows × 3437 columns</p>\n",
       "</div>"
      ],
      "text/plain": [
       "                            MR2273359  MR2275343  MR1833071  MR2773200  \\\n",
       "AhlgrenScottD_papers                0          0          0          0   \n",
       "AlbinPierre_papers                  0          0          0          0   \n",
       "BaloghJózsef_papers                 0          0          0          0   \n",
       "BaryshnikovYuliyM_papers            0          0          0          0   \n",
       "Berwick-EvansDaniel_papers          0          0          0          0   \n",
       "...                               ...        ...        ...        ...   \n",
       "WuXuan_papers                       0          0          0          0   \n",
       "YongAlexanderTF_papers              0          0          0          0   \n",
       "YoungAmanda_papers                  0          0          0          0   \n",
       "ZaharescuAlexandru_papers           1          1         13          2   \n",
       "ZharnitskyVadim_papers              0          0          0          0   \n",
       "\n",
       "                            MR2543662  MR3097158  MR2145726  MR2186997  \\\n",
       "AhlgrenScottD_papers                0          0          0          0   \n",
       "AlbinPierre_papers                  0          0          0          0   \n",
       "BaloghJózsef_papers                 0          0          0          0   \n",
       "BaryshnikovYuliyM_papers            0          0          0          0   \n",
       "Berwick-EvansDaniel_papers          0          0          0          0   \n",
       "...                               ...        ...        ...        ...   \n",
       "WuXuan_papers                       0          0          0          0   \n",
       "YongAlexanderTF_papers              0          0          0          0   \n",
       "YoungAmanda_papers                  0          0          0          0   \n",
       "ZaharescuAlexandru_papers           2          1         11          2   \n",
       "ZharnitskyVadim_papers              0          0          0          0   \n",
       "\n",
       "                            MR1745884  MR0126420  ...  MR1328336  MR1910041  \\\n",
       "AhlgrenScottD_papers                0          0  ...          0          0   \n",
       "AlbinPierre_papers                  0          0  ...          0          0   \n",
       "BaloghJózsef_papers                 0          0  ...          0          0   \n",
       "BaryshnikovYuliyM_papers            0          0  ...          0          0   \n",
       "Berwick-EvansDaniel_papers          0          0  ...          0          0   \n",
       "...                               ...        ...  ...        ...        ...   \n",
       "WuXuan_papers                       0          0  ...          0          0   \n",
       "YongAlexanderTF_papers              0          0  ...          0          0   \n",
       "YoungAmanda_papers                  0          0  ...          0          0   \n",
       "ZaharescuAlexandru_papers           1         21  ...          0          0   \n",
       "ZharnitskyVadim_papers              0          0  ...          3          1   \n",
       "\n",
       "                            MR0495314  MR2183864  MR1511670  MR2759813  \\\n",
       "AhlgrenScottD_papers                0          0          0          0   \n",
       "AlbinPierre_papers                  0          0          0          0   \n",
       "BaloghJózsef_papers                 0          0          0          0   \n",
       "BaryshnikovYuliyM_papers            0          0          0          0   \n",
       "Berwick-EvansDaniel_papers          0          0          0          0   \n",
       "...                               ...        ...        ...        ...   \n",
       "WuXuan_papers                       0          0          0          0   \n",
       "YongAlexanderTF_papers              0          0          1          1   \n",
       "YoungAmanda_papers                  0          0          0          0   \n",
       "ZaharescuAlexandru_papers           0          0          0          0   \n",
       "ZharnitskyVadim_papers              1          1          1          0   \n",
       "\n",
       "                            MR0415962  MR2172781  MR1741843  MR0778970  \n",
       "AhlgrenScottD_papers                0          0          0          0  \n",
       "AlbinPierre_papers                  0          0          0          0  \n",
       "BaloghJózsef_papers                 0          0          0          0  \n",
       "BaryshnikovYuliyM_papers            0          0          0          0  \n",
       "Berwick-EvansDaniel_papers          0          0          0          0  \n",
       "...                               ...        ...        ...        ...  \n",
       "WuXuan_papers                       1          0          0          0  \n",
       "YongAlexanderTF_papers              0          0          0          0  \n",
       "YoungAmanda_papers                  0          1          0          0  \n",
       "ZaharescuAlexandru_papers           1          1          0          0  \n",
       "ZharnitskyVadim_papers              0          0          1          2  \n",
       "\n",
       "[70 rows x 3437 columns]"
      ]
     },
     "execution_count": 189,
     "metadata": {},
     "output_type": "execute_result"
    }
   ],
   "source": [
    "papers"
   ]
  },
  {
   "cell_type": "code",
   "execution_count": 190,
   "metadata": {},
   "outputs": [
    {
     "name": "stdout",
     "output_type": "stream",
     "text": [
      "Number of NaN values in each column:\n",
      " MR2273359    0\n",
      "MR2275343    0\n",
      "MR1833071    0\n",
      "MR2773200    0\n",
      "MR2543662    0\n",
      "            ..\n",
      "MR2759813    0\n",
      "MR0415962    0\n",
      "MR2172781    0\n",
      "MR1741843    0\n",
      "MR0778970    0\n",
      "Length: 3437, dtype: int64\n",
      "\n",
      "Number of Infinite values in each column:\n",
      " MR2273359    0\n",
      "MR2275343    0\n",
      "MR1833071    0\n",
      "MR2773200    0\n",
      "MR2543662    0\n",
      "            ..\n",
      "MR2759813    0\n",
      "MR0415962    0\n",
      "MR2172781    0\n",
      "MR1741843    0\n",
      "MR0778970    0\n",
      "Length: 3437, dtype: int64\n"
     ]
    },
    {
     "name": "stderr",
     "output_type": "stream",
     "text": [
      "C:\\Users\\10072\\AppData\\Local\\Temp\\ipykernel_33152\\2754588590.py:4: FutureWarning:\n",
      "\n",
      "DataFrame.applymap has been deprecated. Use DataFrame.map instead.\n",
      "\n"
     ]
    }
   ],
   "source": [
    "nan_values = papers.isnull().sum()\n",
    "\n",
    "# Check for infinite values\n",
    "inf_values = papers.applymap(np.isinf).sum()\n",
    "\n",
    "print(\"Number of NaN values in each column:\\n\", nan_values)\n",
    "print(\"\\nNumber of Infinite values in each column:\\n\", inf_values)"
   ]
  },
  {
   "cell_type": "code",
   "execution_count": 191,
   "metadata": {},
   "outputs": [
    {
     "name": "stdout",
     "output_type": "stream",
     "text": [
      "Rows with sum of absolute values equal to zero: 1\n",
      "Rows with sum of squared values equal to zero: 1\n",
      "Indices of rows with sum of absolute values equal to zero: ['QuanZhiyu_papers']\n",
      "Indices of rows with sum of squared values equal to zero: ['QuanZhiyu_papers']\n"
     ]
    }
   ],
   "source": [
    "# Check for rows with sum of absolute values equal to zero (for L1)\n",
    "zero_sum_rows_l1 = (papers.abs().sum(axis=1) == 0)\n",
    "\n",
    "# Check for rows with sum of squared values equal to zero (for L2)\n",
    "zero_sum_rows_l2 = (papers.pow(2).sum(axis=1) == 0)\n",
    "\n",
    "print(\"Rows with sum of absolute values equal to zero:\", zero_sum_rows_l1.sum())\n",
    "print(\"Rows with sum of squared values equal to zero:\", zero_sum_rows_l2.sum())\n",
    "\n",
    "# Identify indices of rows with sum of absolute values equal to zero (for L1)\n",
    "indices_l1_zero_sum = papers.index[papers.abs().sum(axis=1) == 0].tolist()\n",
    "\n",
    "# Identify indices of rows with sum of squared values equal to zero (for L2)\n",
    "indices_l2_zero_sum = papers.index[papers.pow(2).sum(axis=1) == 0].tolist()\n",
    "\n",
    "print(\"Indices of rows with sum of absolute values equal to zero:\", indices_l1_zero_sum)\n",
    "print(\"Indices of rows with sum of squared values equal to zero:\", indices_l2_zero_sum)"
   ]
  },
  {
   "cell_type": "code",
   "execution_count": 192,
   "metadata": {},
   "outputs": [],
   "source": [
    "#drop professor QuanZhiyu col\n",
    "papers = papers.drop('QuanZhiyu_papers',axis = 0)"
   ]
  },
  {
   "cell_type": "code",
   "execution_count": 193,
   "metadata": {},
   "outputs": [
    {
     "data": {
      "text/html": [
       "<div>\n",
       "<style scoped>\n",
       "    .dataframe tbody tr th:only-of-type {\n",
       "        vertical-align: middle;\n",
       "    }\n",
       "\n",
       "    .dataframe tbody tr th {\n",
       "        vertical-align: top;\n",
       "    }\n",
       "\n",
       "    .dataframe thead th {\n",
       "        text-align: right;\n",
       "    }\n",
       "</style>\n",
       "<table border=\"1\" class=\"dataframe\">\n",
       "  <thead>\n",
       "    <tr style=\"text-align: right;\">\n",
       "      <th></th>\n",
       "      <th>MR2273359</th>\n",
       "      <th>MR2275343</th>\n",
       "      <th>MR1833071</th>\n",
       "      <th>MR2773200</th>\n",
       "      <th>MR2543662</th>\n",
       "      <th>MR3097158</th>\n",
       "      <th>MR2145726</th>\n",
       "      <th>MR2186997</th>\n",
       "      <th>MR1745884</th>\n",
       "      <th>MR0126420</th>\n",
       "      <th>...</th>\n",
       "      <th>MR1328336</th>\n",
       "      <th>MR1910041</th>\n",
       "      <th>MR0495314</th>\n",
       "      <th>MR2183864</th>\n",
       "      <th>MR1511670</th>\n",
       "      <th>MR2759813</th>\n",
       "      <th>MR0415962</th>\n",
       "      <th>MR2172781</th>\n",
       "      <th>MR1741843</th>\n",
       "      <th>MR0778970</th>\n",
       "    </tr>\n",
       "  </thead>\n",
       "  <tbody>\n",
       "    <tr>\n",
       "      <th>AhlgrenScottD_papers</th>\n",
       "      <td>0</td>\n",
       "      <td>0</td>\n",
       "      <td>0</td>\n",
       "      <td>0</td>\n",
       "      <td>0</td>\n",
       "      <td>0</td>\n",
       "      <td>0</td>\n",
       "      <td>0</td>\n",
       "      <td>0</td>\n",
       "      <td>0</td>\n",
       "      <td>...</td>\n",
       "      <td>0</td>\n",
       "      <td>0</td>\n",
       "      <td>0</td>\n",
       "      <td>0</td>\n",
       "      <td>0</td>\n",
       "      <td>0</td>\n",
       "      <td>0</td>\n",
       "      <td>0</td>\n",
       "      <td>0</td>\n",
       "      <td>0</td>\n",
       "    </tr>\n",
       "    <tr>\n",
       "      <th>AlbinPierre_papers</th>\n",
       "      <td>0</td>\n",
       "      <td>0</td>\n",
       "      <td>0</td>\n",
       "      <td>0</td>\n",
       "      <td>0</td>\n",
       "      <td>0</td>\n",
       "      <td>0</td>\n",
       "      <td>0</td>\n",
       "      <td>0</td>\n",
       "      <td>0</td>\n",
       "      <td>...</td>\n",
       "      <td>0</td>\n",
       "      <td>0</td>\n",
       "      <td>0</td>\n",
       "      <td>0</td>\n",
       "      <td>0</td>\n",
       "      <td>0</td>\n",
       "      <td>0</td>\n",
       "      <td>0</td>\n",
       "      <td>0</td>\n",
       "      <td>0</td>\n",
       "    </tr>\n",
       "    <tr>\n",
       "      <th>BaloghJózsef_papers</th>\n",
       "      <td>0</td>\n",
       "      <td>0</td>\n",
       "      <td>0</td>\n",
       "      <td>0</td>\n",
       "      <td>0</td>\n",
       "      <td>0</td>\n",
       "      <td>0</td>\n",
       "      <td>0</td>\n",
       "      <td>0</td>\n",
       "      <td>0</td>\n",
       "      <td>...</td>\n",
       "      <td>0</td>\n",
       "      <td>0</td>\n",
       "      <td>0</td>\n",
       "      <td>0</td>\n",
       "      <td>0</td>\n",
       "      <td>0</td>\n",
       "      <td>0</td>\n",
       "      <td>0</td>\n",
       "      <td>0</td>\n",
       "      <td>0</td>\n",
       "    </tr>\n",
       "    <tr>\n",
       "      <th>BaryshnikovYuliyM_papers</th>\n",
       "      <td>0</td>\n",
       "      <td>0</td>\n",
       "      <td>0</td>\n",
       "      <td>0</td>\n",
       "      <td>0</td>\n",
       "      <td>0</td>\n",
       "      <td>0</td>\n",
       "      <td>0</td>\n",
       "      <td>0</td>\n",
       "      <td>0</td>\n",
       "      <td>...</td>\n",
       "      <td>0</td>\n",
       "      <td>0</td>\n",
       "      <td>0</td>\n",
       "      <td>0</td>\n",
       "      <td>0</td>\n",
       "      <td>0</td>\n",
       "      <td>0</td>\n",
       "      <td>0</td>\n",
       "      <td>0</td>\n",
       "      <td>0</td>\n",
       "    </tr>\n",
       "    <tr>\n",
       "      <th>Berwick-EvansDaniel_papers</th>\n",
       "      <td>0</td>\n",
       "      <td>0</td>\n",
       "      <td>0</td>\n",
       "      <td>0</td>\n",
       "      <td>0</td>\n",
       "      <td>0</td>\n",
       "      <td>0</td>\n",
       "      <td>0</td>\n",
       "      <td>0</td>\n",
       "      <td>0</td>\n",
       "      <td>...</td>\n",
       "      <td>0</td>\n",
       "      <td>0</td>\n",
       "      <td>0</td>\n",
       "      <td>0</td>\n",
       "      <td>0</td>\n",
       "      <td>0</td>\n",
       "      <td>0</td>\n",
       "      <td>0</td>\n",
       "      <td>0</td>\n",
       "      <td>0</td>\n",
       "    </tr>\n",
       "    <tr>\n",
       "      <th>...</th>\n",
       "      <td>...</td>\n",
       "      <td>...</td>\n",
       "      <td>...</td>\n",
       "      <td>...</td>\n",
       "      <td>...</td>\n",
       "      <td>...</td>\n",
       "      <td>...</td>\n",
       "      <td>...</td>\n",
       "      <td>...</td>\n",
       "      <td>...</td>\n",
       "      <td>...</td>\n",
       "      <td>...</td>\n",
       "      <td>...</td>\n",
       "      <td>...</td>\n",
       "      <td>...</td>\n",
       "      <td>...</td>\n",
       "      <td>...</td>\n",
       "      <td>...</td>\n",
       "      <td>...</td>\n",
       "      <td>...</td>\n",
       "      <td>...</td>\n",
       "    </tr>\n",
       "    <tr>\n",
       "      <th>WuXuan_papers</th>\n",
       "      <td>0</td>\n",
       "      <td>0</td>\n",
       "      <td>0</td>\n",
       "      <td>0</td>\n",
       "      <td>0</td>\n",
       "      <td>0</td>\n",
       "      <td>0</td>\n",
       "      <td>0</td>\n",
       "      <td>0</td>\n",
       "      <td>0</td>\n",
       "      <td>...</td>\n",
       "      <td>0</td>\n",
       "      <td>0</td>\n",
       "      <td>0</td>\n",
       "      <td>0</td>\n",
       "      <td>0</td>\n",
       "      <td>0</td>\n",
       "      <td>1</td>\n",
       "      <td>0</td>\n",
       "      <td>0</td>\n",
       "      <td>0</td>\n",
       "    </tr>\n",
       "    <tr>\n",
       "      <th>YongAlexanderTF_papers</th>\n",
       "      <td>0</td>\n",
       "      <td>0</td>\n",
       "      <td>0</td>\n",
       "      <td>0</td>\n",
       "      <td>0</td>\n",
       "      <td>0</td>\n",
       "      <td>0</td>\n",
       "      <td>0</td>\n",
       "      <td>0</td>\n",
       "      <td>0</td>\n",
       "      <td>...</td>\n",
       "      <td>0</td>\n",
       "      <td>0</td>\n",
       "      <td>0</td>\n",
       "      <td>0</td>\n",
       "      <td>1</td>\n",
       "      <td>1</td>\n",
       "      <td>0</td>\n",
       "      <td>0</td>\n",
       "      <td>0</td>\n",
       "      <td>0</td>\n",
       "    </tr>\n",
       "    <tr>\n",
       "      <th>YoungAmanda_papers</th>\n",
       "      <td>0</td>\n",
       "      <td>0</td>\n",
       "      <td>0</td>\n",
       "      <td>0</td>\n",
       "      <td>0</td>\n",
       "      <td>0</td>\n",
       "      <td>0</td>\n",
       "      <td>0</td>\n",
       "      <td>0</td>\n",
       "      <td>0</td>\n",
       "      <td>...</td>\n",
       "      <td>0</td>\n",
       "      <td>0</td>\n",
       "      <td>0</td>\n",
       "      <td>0</td>\n",
       "      <td>0</td>\n",
       "      <td>0</td>\n",
       "      <td>0</td>\n",
       "      <td>1</td>\n",
       "      <td>0</td>\n",
       "      <td>0</td>\n",
       "    </tr>\n",
       "    <tr>\n",
       "      <th>ZaharescuAlexandru_papers</th>\n",
       "      <td>1</td>\n",
       "      <td>1</td>\n",
       "      <td>13</td>\n",
       "      <td>2</td>\n",
       "      <td>2</td>\n",
       "      <td>1</td>\n",
       "      <td>11</td>\n",
       "      <td>2</td>\n",
       "      <td>1</td>\n",
       "      <td>21</td>\n",
       "      <td>...</td>\n",
       "      <td>0</td>\n",
       "      <td>0</td>\n",
       "      <td>0</td>\n",
       "      <td>0</td>\n",
       "      <td>0</td>\n",
       "      <td>0</td>\n",
       "      <td>1</td>\n",
       "      <td>1</td>\n",
       "      <td>0</td>\n",
       "      <td>0</td>\n",
       "    </tr>\n",
       "    <tr>\n",
       "      <th>ZharnitskyVadim_papers</th>\n",
       "      <td>0</td>\n",
       "      <td>0</td>\n",
       "      <td>0</td>\n",
       "      <td>0</td>\n",
       "      <td>0</td>\n",
       "      <td>0</td>\n",
       "      <td>0</td>\n",
       "      <td>0</td>\n",
       "      <td>0</td>\n",
       "      <td>0</td>\n",
       "      <td>...</td>\n",
       "      <td>3</td>\n",
       "      <td>1</td>\n",
       "      <td>1</td>\n",
       "      <td>1</td>\n",
       "      <td>1</td>\n",
       "      <td>0</td>\n",
       "      <td>0</td>\n",
       "      <td>0</td>\n",
       "      <td>1</td>\n",
       "      <td>2</td>\n",
       "    </tr>\n",
       "  </tbody>\n",
       "</table>\n",
       "<p>69 rows × 3437 columns</p>\n",
       "</div>"
      ],
      "text/plain": [
       "                            MR2273359  MR2275343  MR1833071  MR2773200  \\\n",
       "AhlgrenScottD_papers                0          0          0          0   \n",
       "AlbinPierre_papers                  0          0          0          0   \n",
       "BaloghJózsef_papers                 0          0          0          0   \n",
       "BaryshnikovYuliyM_papers            0          0          0          0   \n",
       "Berwick-EvansDaniel_papers          0          0          0          0   \n",
       "...                               ...        ...        ...        ...   \n",
       "WuXuan_papers                       0          0          0          0   \n",
       "YongAlexanderTF_papers              0          0          0          0   \n",
       "YoungAmanda_papers                  0          0          0          0   \n",
       "ZaharescuAlexandru_papers           1          1         13          2   \n",
       "ZharnitskyVadim_papers              0          0          0          0   \n",
       "\n",
       "                            MR2543662  MR3097158  MR2145726  MR2186997  \\\n",
       "AhlgrenScottD_papers                0          0          0          0   \n",
       "AlbinPierre_papers                  0          0          0          0   \n",
       "BaloghJózsef_papers                 0          0          0          0   \n",
       "BaryshnikovYuliyM_papers            0          0          0          0   \n",
       "Berwick-EvansDaniel_papers          0          0          0          0   \n",
       "...                               ...        ...        ...        ...   \n",
       "WuXuan_papers                       0          0          0          0   \n",
       "YongAlexanderTF_papers              0          0          0          0   \n",
       "YoungAmanda_papers                  0          0          0          0   \n",
       "ZaharescuAlexandru_papers           2          1         11          2   \n",
       "ZharnitskyVadim_papers              0          0          0          0   \n",
       "\n",
       "                            MR1745884  MR0126420  ...  MR1328336  MR1910041  \\\n",
       "AhlgrenScottD_papers                0          0  ...          0          0   \n",
       "AlbinPierre_papers                  0          0  ...          0          0   \n",
       "BaloghJózsef_papers                 0          0  ...          0          0   \n",
       "BaryshnikovYuliyM_papers            0          0  ...          0          0   \n",
       "Berwick-EvansDaniel_papers          0          0  ...          0          0   \n",
       "...                               ...        ...  ...        ...        ...   \n",
       "WuXuan_papers                       0          0  ...          0          0   \n",
       "YongAlexanderTF_papers              0          0  ...          0          0   \n",
       "YoungAmanda_papers                  0          0  ...          0          0   \n",
       "ZaharescuAlexandru_papers           1         21  ...          0          0   \n",
       "ZharnitskyVadim_papers              0          0  ...          3          1   \n",
       "\n",
       "                            MR0495314  MR2183864  MR1511670  MR2759813  \\\n",
       "AhlgrenScottD_papers                0          0          0          0   \n",
       "AlbinPierre_papers                  0          0          0          0   \n",
       "BaloghJózsef_papers                 0          0          0          0   \n",
       "BaryshnikovYuliyM_papers            0          0          0          0   \n",
       "Berwick-EvansDaniel_papers          0          0          0          0   \n",
       "...                               ...        ...        ...        ...   \n",
       "WuXuan_papers                       0          0          0          0   \n",
       "YongAlexanderTF_papers              0          0          1          1   \n",
       "YoungAmanda_papers                  0          0          0          0   \n",
       "ZaharescuAlexandru_papers           0          0          0          0   \n",
       "ZharnitskyVadim_papers              1          1          1          0   \n",
       "\n",
       "                            MR0415962  MR2172781  MR1741843  MR0778970  \n",
       "AhlgrenScottD_papers                0          0          0          0  \n",
       "AlbinPierre_papers                  0          0          0          0  \n",
       "BaloghJózsef_papers                 0          0          0          0  \n",
       "BaryshnikovYuliyM_papers            0          0          0          0  \n",
       "Berwick-EvansDaniel_papers          0          0          0          0  \n",
       "...                               ...        ...        ...        ...  \n",
       "WuXuan_papers                       1          0          0          0  \n",
       "YongAlexanderTF_papers              0          0          0          0  \n",
       "YoungAmanda_papers                  0          1          0          0  \n",
       "ZaharescuAlexandru_papers           1          1          0          0  \n",
       "ZharnitskyVadim_papers              0          0          1          2  \n",
       "\n",
       "[69 rows x 3437 columns]"
      ]
     },
     "execution_count": 193,
     "metadata": {},
     "output_type": "execute_result"
    }
   ],
   "source": [
    "papers"
   ]
  },
  {
   "cell_type": "code",
   "execution_count": 194,
   "metadata": {},
   "outputs": [],
   "source": [
    "#L1 & L2 Noramalization\n",
    "\n",
    "papers_l1 = papers.divide(papers.abs().sum(axis=1), axis=0)\n",
    "l2_norm = papers.pow(2).sum(axis=1).pow(0.5)\n",
    "papers_l2 = papers.divide(l2_norm, axis=0)"
   ]
  },
  {
   "cell_type": "code",
   "execution_count": 195,
   "metadata": {},
   "outputs": [
    {
     "data": {
      "text/html": [
       "<div>\n",
       "<style scoped>\n",
       "    .dataframe tbody tr th:only-of-type {\n",
       "        vertical-align: middle;\n",
       "    }\n",
       "\n",
       "    .dataframe tbody tr th {\n",
       "        vertical-align: top;\n",
       "    }\n",
       "\n",
       "    .dataframe thead th {\n",
       "        text-align: right;\n",
       "    }\n",
       "</style>\n",
       "<table border=\"1\" class=\"dataframe\">\n",
       "  <thead>\n",
       "    <tr style=\"text-align: right;\">\n",
       "      <th></th>\n",
       "      <th>MR2273359</th>\n",
       "      <th>MR2275343</th>\n",
       "      <th>MR1833071</th>\n",
       "      <th>MR2773200</th>\n",
       "      <th>MR2543662</th>\n",
       "      <th>MR3097158</th>\n",
       "      <th>MR2145726</th>\n",
       "      <th>MR2186997</th>\n",
       "      <th>MR1745884</th>\n",
       "      <th>MR0126420</th>\n",
       "      <th>...</th>\n",
       "      <th>MR1328336</th>\n",
       "      <th>MR1910041</th>\n",
       "      <th>MR0495314</th>\n",
       "      <th>MR2183864</th>\n",
       "      <th>MR1511670</th>\n",
       "      <th>MR2759813</th>\n",
       "      <th>MR0415962</th>\n",
       "      <th>MR2172781</th>\n",
       "      <th>MR1741843</th>\n",
       "      <th>MR0778970</th>\n",
       "    </tr>\n",
       "  </thead>\n",
       "  <tbody>\n",
       "    <tr>\n",
       "      <th>AhlgrenScottD_papers</th>\n",
       "      <td>0.000000</td>\n",
       "      <td>0.000000</td>\n",
       "      <td>0.000000</td>\n",
       "      <td>0.000000</td>\n",
       "      <td>0.000000</td>\n",
       "      <td>0.000000</td>\n",
       "      <td>0.000000</td>\n",
       "      <td>0.000000</td>\n",
       "      <td>0.000000</td>\n",
       "      <td>0.000000</td>\n",
       "      <td>...</td>\n",
       "      <td>0.000000</td>\n",
       "      <td>0.000000</td>\n",
       "      <td>0.000000</td>\n",
       "      <td>0.000000</td>\n",
       "      <td>0.000000</td>\n",
       "      <td>0.000000</td>\n",
       "      <td>0.000000</td>\n",
       "      <td>0.000000</td>\n",
       "      <td>0.000000</td>\n",
       "      <td>0.000000</td>\n",
       "    </tr>\n",
       "    <tr>\n",
       "      <th>AlbinPierre_papers</th>\n",
       "      <td>0.000000</td>\n",
       "      <td>0.000000</td>\n",
       "      <td>0.000000</td>\n",
       "      <td>0.000000</td>\n",
       "      <td>0.000000</td>\n",
       "      <td>0.000000</td>\n",
       "      <td>0.000000</td>\n",
       "      <td>0.000000</td>\n",
       "      <td>0.000000</td>\n",
       "      <td>0.000000</td>\n",
       "      <td>...</td>\n",
       "      <td>0.000000</td>\n",
       "      <td>0.000000</td>\n",
       "      <td>0.000000</td>\n",
       "      <td>0.000000</td>\n",
       "      <td>0.000000</td>\n",
       "      <td>0.000000</td>\n",
       "      <td>0.000000</td>\n",
       "      <td>0.000000</td>\n",
       "      <td>0.000000</td>\n",
       "      <td>0.000000</td>\n",
       "    </tr>\n",
       "    <tr>\n",
       "      <th>BaloghJózsef_papers</th>\n",
       "      <td>0.000000</td>\n",
       "      <td>0.000000</td>\n",
       "      <td>0.000000</td>\n",
       "      <td>0.000000</td>\n",
       "      <td>0.000000</td>\n",
       "      <td>0.000000</td>\n",
       "      <td>0.000000</td>\n",
       "      <td>0.000000</td>\n",
       "      <td>0.000000</td>\n",
       "      <td>0.000000</td>\n",
       "      <td>...</td>\n",
       "      <td>0.000000</td>\n",
       "      <td>0.000000</td>\n",
       "      <td>0.000000</td>\n",
       "      <td>0.000000</td>\n",
       "      <td>0.000000</td>\n",
       "      <td>0.000000</td>\n",
       "      <td>0.000000</td>\n",
       "      <td>0.000000</td>\n",
       "      <td>0.000000</td>\n",
       "      <td>0.000000</td>\n",
       "    </tr>\n",
       "    <tr>\n",
       "      <th>BaryshnikovYuliyM_papers</th>\n",
       "      <td>0.000000</td>\n",
       "      <td>0.000000</td>\n",
       "      <td>0.000000</td>\n",
       "      <td>0.000000</td>\n",
       "      <td>0.000000</td>\n",
       "      <td>0.000000</td>\n",
       "      <td>0.000000</td>\n",
       "      <td>0.000000</td>\n",
       "      <td>0.000000</td>\n",
       "      <td>0.000000</td>\n",
       "      <td>...</td>\n",
       "      <td>0.000000</td>\n",
       "      <td>0.000000</td>\n",
       "      <td>0.000000</td>\n",
       "      <td>0.000000</td>\n",
       "      <td>0.000000</td>\n",
       "      <td>0.000000</td>\n",
       "      <td>0.000000</td>\n",
       "      <td>0.000000</td>\n",
       "      <td>0.000000</td>\n",
       "      <td>0.000000</td>\n",
       "    </tr>\n",
       "    <tr>\n",
       "      <th>Berwick-EvansDaniel_papers</th>\n",
       "      <td>0.000000</td>\n",
       "      <td>0.000000</td>\n",
       "      <td>0.000000</td>\n",
       "      <td>0.000000</td>\n",
       "      <td>0.000000</td>\n",
       "      <td>0.000000</td>\n",
       "      <td>0.000000</td>\n",
       "      <td>0.000000</td>\n",
       "      <td>0.000000</td>\n",
       "      <td>0.000000</td>\n",
       "      <td>...</td>\n",
       "      <td>0.000000</td>\n",
       "      <td>0.000000</td>\n",
       "      <td>0.000000</td>\n",
       "      <td>0.000000</td>\n",
       "      <td>0.000000</td>\n",
       "      <td>0.000000</td>\n",
       "      <td>0.000000</td>\n",
       "      <td>0.000000</td>\n",
       "      <td>0.000000</td>\n",
       "      <td>0.000000</td>\n",
       "    </tr>\n",
       "    <tr>\n",
       "      <th>...</th>\n",
       "      <td>...</td>\n",
       "      <td>...</td>\n",
       "      <td>...</td>\n",
       "      <td>...</td>\n",
       "      <td>...</td>\n",
       "      <td>...</td>\n",
       "      <td>...</td>\n",
       "      <td>...</td>\n",
       "      <td>...</td>\n",
       "      <td>...</td>\n",
       "      <td>...</td>\n",
       "      <td>...</td>\n",
       "      <td>...</td>\n",
       "      <td>...</td>\n",
       "      <td>...</td>\n",
       "      <td>...</td>\n",
       "      <td>...</td>\n",
       "      <td>...</td>\n",
       "      <td>...</td>\n",
       "      <td>...</td>\n",
       "      <td>...</td>\n",
       "    </tr>\n",
       "    <tr>\n",
       "      <th>WuXuan_papers</th>\n",
       "      <td>0.000000</td>\n",
       "      <td>0.000000</td>\n",
       "      <td>0.000000</td>\n",
       "      <td>0.000000</td>\n",
       "      <td>0.000000</td>\n",
       "      <td>0.000000</td>\n",
       "      <td>0.000000</td>\n",
       "      <td>0.000000</td>\n",
       "      <td>0.000000</td>\n",
       "      <td>0.000000</td>\n",
       "      <td>...</td>\n",
       "      <td>0.000000</td>\n",
       "      <td>0.000000</td>\n",
       "      <td>0.000000</td>\n",
       "      <td>0.000000</td>\n",
       "      <td>0.000000</td>\n",
       "      <td>0.000000</td>\n",
       "      <td>0.035714</td>\n",
       "      <td>0.000000</td>\n",
       "      <td>0.000000</td>\n",
       "      <td>0.000000</td>\n",
       "    </tr>\n",
       "    <tr>\n",
       "      <th>YongAlexanderTF_papers</th>\n",
       "      <td>0.000000</td>\n",
       "      <td>0.000000</td>\n",
       "      <td>0.000000</td>\n",
       "      <td>0.000000</td>\n",
       "      <td>0.000000</td>\n",
       "      <td>0.000000</td>\n",
       "      <td>0.000000</td>\n",
       "      <td>0.000000</td>\n",
       "      <td>0.000000</td>\n",
       "      <td>0.000000</td>\n",
       "      <td>...</td>\n",
       "      <td>0.000000</td>\n",
       "      <td>0.000000</td>\n",
       "      <td>0.000000</td>\n",
       "      <td>0.000000</td>\n",
       "      <td>0.005988</td>\n",
       "      <td>0.005988</td>\n",
       "      <td>0.000000</td>\n",
       "      <td>0.000000</td>\n",
       "      <td>0.000000</td>\n",
       "      <td>0.000000</td>\n",
       "    </tr>\n",
       "    <tr>\n",
       "      <th>YoungAmanda_papers</th>\n",
       "      <td>0.000000</td>\n",
       "      <td>0.000000</td>\n",
       "      <td>0.000000</td>\n",
       "      <td>0.000000</td>\n",
       "      <td>0.000000</td>\n",
       "      <td>0.000000</td>\n",
       "      <td>0.000000</td>\n",
       "      <td>0.000000</td>\n",
       "      <td>0.000000</td>\n",
       "      <td>0.000000</td>\n",
       "      <td>...</td>\n",
       "      <td>0.000000</td>\n",
       "      <td>0.000000</td>\n",
       "      <td>0.000000</td>\n",
       "      <td>0.000000</td>\n",
       "      <td>0.000000</td>\n",
       "      <td>0.000000</td>\n",
       "      <td>0.000000</td>\n",
       "      <td>0.045455</td>\n",
       "      <td>0.000000</td>\n",
       "      <td>0.000000</td>\n",
       "    </tr>\n",
       "    <tr>\n",
       "      <th>ZaharescuAlexandru_papers</th>\n",
       "      <td>0.000601</td>\n",
       "      <td>0.000601</td>\n",
       "      <td>0.007817</td>\n",
       "      <td>0.001203</td>\n",
       "      <td>0.001203</td>\n",
       "      <td>0.000601</td>\n",
       "      <td>0.006615</td>\n",
       "      <td>0.001203</td>\n",
       "      <td>0.000601</td>\n",
       "      <td>0.012628</td>\n",
       "      <td>...</td>\n",
       "      <td>0.000000</td>\n",
       "      <td>0.000000</td>\n",
       "      <td>0.000000</td>\n",
       "      <td>0.000000</td>\n",
       "      <td>0.000000</td>\n",
       "      <td>0.000000</td>\n",
       "      <td>0.000601</td>\n",
       "      <td>0.000601</td>\n",
       "      <td>0.000000</td>\n",
       "      <td>0.000000</td>\n",
       "    </tr>\n",
       "    <tr>\n",
       "      <th>ZharnitskyVadim_papers</th>\n",
       "      <td>0.000000</td>\n",
       "      <td>0.000000</td>\n",
       "      <td>0.000000</td>\n",
       "      <td>0.000000</td>\n",
       "      <td>0.000000</td>\n",
       "      <td>0.000000</td>\n",
       "      <td>0.000000</td>\n",
       "      <td>0.000000</td>\n",
       "      <td>0.000000</td>\n",
       "      <td>0.000000</td>\n",
       "      <td>...</td>\n",
       "      <td>0.012712</td>\n",
       "      <td>0.004237</td>\n",
       "      <td>0.004237</td>\n",
       "      <td>0.004237</td>\n",
       "      <td>0.004237</td>\n",
       "      <td>0.000000</td>\n",
       "      <td>0.000000</td>\n",
       "      <td>0.000000</td>\n",
       "      <td>0.004237</td>\n",
       "      <td>0.008475</td>\n",
       "    </tr>\n",
       "  </tbody>\n",
       "</table>\n",
       "<p>69 rows × 3437 columns</p>\n",
       "</div>"
      ],
      "text/plain": [
       "                            MR2273359  MR2275343  MR1833071  MR2773200  \\\n",
       "AhlgrenScottD_papers         0.000000   0.000000   0.000000   0.000000   \n",
       "AlbinPierre_papers           0.000000   0.000000   0.000000   0.000000   \n",
       "BaloghJózsef_papers          0.000000   0.000000   0.000000   0.000000   \n",
       "BaryshnikovYuliyM_papers     0.000000   0.000000   0.000000   0.000000   \n",
       "Berwick-EvansDaniel_papers   0.000000   0.000000   0.000000   0.000000   \n",
       "...                               ...        ...        ...        ...   \n",
       "WuXuan_papers                0.000000   0.000000   0.000000   0.000000   \n",
       "YongAlexanderTF_papers       0.000000   0.000000   0.000000   0.000000   \n",
       "YoungAmanda_papers           0.000000   0.000000   0.000000   0.000000   \n",
       "ZaharescuAlexandru_papers    0.000601   0.000601   0.007817   0.001203   \n",
       "ZharnitskyVadim_papers       0.000000   0.000000   0.000000   0.000000   \n",
       "\n",
       "                            MR2543662  MR3097158  MR2145726  MR2186997  \\\n",
       "AhlgrenScottD_papers         0.000000   0.000000   0.000000   0.000000   \n",
       "AlbinPierre_papers           0.000000   0.000000   0.000000   0.000000   \n",
       "BaloghJózsef_papers          0.000000   0.000000   0.000000   0.000000   \n",
       "BaryshnikovYuliyM_papers     0.000000   0.000000   0.000000   0.000000   \n",
       "Berwick-EvansDaniel_papers   0.000000   0.000000   0.000000   0.000000   \n",
       "...                               ...        ...        ...        ...   \n",
       "WuXuan_papers                0.000000   0.000000   0.000000   0.000000   \n",
       "YongAlexanderTF_papers       0.000000   0.000000   0.000000   0.000000   \n",
       "YoungAmanda_papers           0.000000   0.000000   0.000000   0.000000   \n",
       "ZaharescuAlexandru_papers    0.001203   0.000601   0.006615   0.001203   \n",
       "ZharnitskyVadim_papers       0.000000   0.000000   0.000000   0.000000   \n",
       "\n",
       "                            MR1745884  MR0126420  ...  MR1328336  MR1910041  \\\n",
       "AhlgrenScottD_papers         0.000000   0.000000  ...   0.000000   0.000000   \n",
       "AlbinPierre_papers           0.000000   0.000000  ...   0.000000   0.000000   \n",
       "BaloghJózsef_papers          0.000000   0.000000  ...   0.000000   0.000000   \n",
       "BaryshnikovYuliyM_papers     0.000000   0.000000  ...   0.000000   0.000000   \n",
       "Berwick-EvansDaniel_papers   0.000000   0.000000  ...   0.000000   0.000000   \n",
       "...                               ...        ...  ...        ...        ...   \n",
       "WuXuan_papers                0.000000   0.000000  ...   0.000000   0.000000   \n",
       "YongAlexanderTF_papers       0.000000   0.000000  ...   0.000000   0.000000   \n",
       "YoungAmanda_papers           0.000000   0.000000  ...   0.000000   0.000000   \n",
       "ZaharescuAlexandru_papers    0.000601   0.012628  ...   0.000000   0.000000   \n",
       "ZharnitskyVadim_papers       0.000000   0.000000  ...   0.012712   0.004237   \n",
       "\n",
       "                            MR0495314  MR2183864  MR1511670  MR2759813  \\\n",
       "AhlgrenScottD_papers         0.000000   0.000000   0.000000   0.000000   \n",
       "AlbinPierre_papers           0.000000   0.000000   0.000000   0.000000   \n",
       "BaloghJózsef_papers          0.000000   0.000000   0.000000   0.000000   \n",
       "BaryshnikovYuliyM_papers     0.000000   0.000000   0.000000   0.000000   \n",
       "Berwick-EvansDaniel_papers   0.000000   0.000000   0.000000   0.000000   \n",
       "...                               ...        ...        ...        ...   \n",
       "WuXuan_papers                0.000000   0.000000   0.000000   0.000000   \n",
       "YongAlexanderTF_papers       0.000000   0.000000   0.005988   0.005988   \n",
       "YoungAmanda_papers           0.000000   0.000000   0.000000   0.000000   \n",
       "ZaharescuAlexandru_papers    0.000000   0.000000   0.000000   0.000000   \n",
       "ZharnitskyVadim_papers       0.004237   0.004237   0.004237   0.000000   \n",
       "\n",
       "                            MR0415962  MR2172781  MR1741843  MR0778970  \n",
       "AhlgrenScottD_papers         0.000000   0.000000   0.000000   0.000000  \n",
       "AlbinPierre_papers           0.000000   0.000000   0.000000   0.000000  \n",
       "BaloghJózsef_papers          0.000000   0.000000   0.000000   0.000000  \n",
       "BaryshnikovYuliyM_papers     0.000000   0.000000   0.000000   0.000000  \n",
       "Berwick-EvansDaniel_papers   0.000000   0.000000   0.000000   0.000000  \n",
       "...                               ...        ...        ...        ...  \n",
       "WuXuan_papers                0.035714   0.000000   0.000000   0.000000  \n",
       "YongAlexanderTF_papers       0.000000   0.000000   0.000000   0.000000  \n",
       "YoungAmanda_papers           0.000000   0.045455   0.000000   0.000000  \n",
       "ZaharescuAlexandru_papers    0.000601   0.000601   0.000000   0.000000  \n",
       "ZharnitskyVadim_papers       0.000000   0.000000   0.004237   0.008475  \n",
       "\n",
       "[69 rows x 3437 columns]"
      ]
     },
     "execution_count": 195,
     "metadata": {},
     "output_type": "execute_result"
    }
   ],
   "source": [
    "papers_l1"
   ]
  },
  {
   "cell_type": "code",
   "execution_count": 196,
   "metadata": {},
   "outputs": [
    {
     "data": {
      "text/html": [
       "<div>\n",
       "<style scoped>\n",
       "    .dataframe tbody tr th:only-of-type {\n",
       "        vertical-align: middle;\n",
       "    }\n",
       "\n",
       "    .dataframe tbody tr th {\n",
       "        vertical-align: top;\n",
       "    }\n",
       "\n",
       "    .dataframe thead th {\n",
       "        text-align: right;\n",
       "    }\n",
       "</style>\n",
       "<table border=\"1\" class=\"dataframe\">\n",
       "  <thead>\n",
       "    <tr style=\"text-align: right;\">\n",
       "      <th></th>\n",
       "      <th>MR2273359</th>\n",
       "      <th>MR2275343</th>\n",
       "      <th>MR1833071</th>\n",
       "      <th>MR2773200</th>\n",
       "      <th>MR2543662</th>\n",
       "      <th>MR3097158</th>\n",
       "      <th>MR2145726</th>\n",
       "      <th>MR2186997</th>\n",
       "      <th>MR1745884</th>\n",
       "      <th>MR0126420</th>\n",
       "      <th>...</th>\n",
       "      <th>MR1328336</th>\n",
       "      <th>MR1910041</th>\n",
       "      <th>MR0495314</th>\n",
       "      <th>MR2183864</th>\n",
       "      <th>MR1511670</th>\n",
       "      <th>MR2759813</th>\n",
       "      <th>MR0415962</th>\n",
       "      <th>MR2172781</th>\n",
       "      <th>MR1741843</th>\n",
       "      <th>MR0778970</th>\n",
       "    </tr>\n",
       "  </thead>\n",
       "  <tbody>\n",
       "    <tr>\n",
       "      <th>AhlgrenScottD_papers</th>\n",
       "      <td>0.000000</td>\n",
       "      <td>0.000000</td>\n",
       "      <td>0.000000</td>\n",
       "      <td>0.000000</td>\n",
       "      <td>0.000000</td>\n",
       "      <td>0.000000</td>\n",
       "      <td>0.000000</td>\n",
       "      <td>0.000000</td>\n",
       "      <td>0.000000</td>\n",
       "      <td>0.000000</td>\n",
       "      <td>...</td>\n",
       "      <td>0.000000</td>\n",
       "      <td>0.000000</td>\n",
       "      <td>0.000000</td>\n",
       "      <td>0.000000</td>\n",
       "      <td>0.000000</td>\n",
       "      <td>0.00000</td>\n",
       "      <td>0.000000</td>\n",
       "      <td>0.000000</td>\n",
       "      <td>0.000000</td>\n",
       "      <td>0.000000</td>\n",
       "    </tr>\n",
       "    <tr>\n",
       "      <th>AlbinPierre_papers</th>\n",
       "      <td>0.000000</td>\n",
       "      <td>0.000000</td>\n",
       "      <td>0.000000</td>\n",
       "      <td>0.000000</td>\n",
       "      <td>0.000000</td>\n",
       "      <td>0.000000</td>\n",
       "      <td>0.000000</td>\n",
       "      <td>0.000000</td>\n",
       "      <td>0.000000</td>\n",
       "      <td>0.000000</td>\n",
       "      <td>...</td>\n",
       "      <td>0.000000</td>\n",
       "      <td>0.000000</td>\n",
       "      <td>0.000000</td>\n",
       "      <td>0.000000</td>\n",
       "      <td>0.000000</td>\n",
       "      <td>0.00000</td>\n",
       "      <td>0.000000</td>\n",
       "      <td>0.000000</td>\n",
       "      <td>0.000000</td>\n",
       "      <td>0.000000</td>\n",
       "    </tr>\n",
       "    <tr>\n",
       "      <th>BaloghJózsef_papers</th>\n",
       "      <td>0.000000</td>\n",
       "      <td>0.000000</td>\n",
       "      <td>0.000000</td>\n",
       "      <td>0.000000</td>\n",
       "      <td>0.000000</td>\n",
       "      <td>0.000000</td>\n",
       "      <td>0.000000</td>\n",
       "      <td>0.000000</td>\n",
       "      <td>0.000000</td>\n",
       "      <td>0.000000</td>\n",
       "      <td>...</td>\n",
       "      <td>0.000000</td>\n",
       "      <td>0.000000</td>\n",
       "      <td>0.000000</td>\n",
       "      <td>0.000000</td>\n",
       "      <td>0.000000</td>\n",
       "      <td>0.00000</td>\n",
       "      <td>0.000000</td>\n",
       "      <td>0.000000</td>\n",
       "      <td>0.000000</td>\n",
       "      <td>0.000000</td>\n",
       "    </tr>\n",
       "    <tr>\n",
       "      <th>BaryshnikovYuliyM_papers</th>\n",
       "      <td>0.000000</td>\n",
       "      <td>0.000000</td>\n",
       "      <td>0.000000</td>\n",
       "      <td>0.000000</td>\n",
       "      <td>0.000000</td>\n",
       "      <td>0.000000</td>\n",
       "      <td>0.000000</td>\n",
       "      <td>0.000000</td>\n",
       "      <td>0.000000</td>\n",
       "      <td>0.000000</td>\n",
       "      <td>...</td>\n",
       "      <td>0.000000</td>\n",
       "      <td>0.000000</td>\n",
       "      <td>0.000000</td>\n",
       "      <td>0.000000</td>\n",
       "      <td>0.000000</td>\n",
       "      <td>0.00000</td>\n",
       "      <td>0.000000</td>\n",
       "      <td>0.000000</td>\n",
       "      <td>0.000000</td>\n",
       "      <td>0.000000</td>\n",
       "    </tr>\n",
       "    <tr>\n",
       "      <th>Berwick-EvansDaniel_papers</th>\n",
       "      <td>0.000000</td>\n",
       "      <td>0.000000</td>\n",
       "      <td>0.000000</td>\n",
       "      <td>0.000000</td>\n",
       "      <td>0.000000</td>\n",
       "      <td>0.000000</td>\n",
       "      <td>0.000000</td>\n",
       "      <td>0.000000</td>\n",
       "      <td>0.000000</td>\n",
       "      <td>0.000000</td>\n",
       "      <td>...</td>\n",
       "      <td>0.000000</td>\n",
       "      <td>0.000000</td>\n",
       "      <td>0.000000</td>\n",
       "      <td>0.000000</td>\n",
       "      <td>0.000000</td>\n",
       "      <td>0.00000</td>\n",
       "      <td>0.000000</td>\n",
       "      <td>0.000000</td>\n",
       "      <td>0.000000</td>\n",
       "      <td>0.000000</td>\n",
       "    </tr>\n",
       "    <tr>\n",
       "      <th>...</th>\n",
       "      <td>...</td>\n",
       "      <td>...</td>\n",
       "      <td>...</td>\n",
       "      <td>...</td>\n",
       "      <td>...</td>\n",
       "      <td>...</td>\n",
       "      <td>...</td>\n",
       "      <td>...</td>\n",
       "      <td>...</td>\n",
       "      <td>...</td>\n",
       "      <td>...</td>\n",
       "      <td>...</td>\n",
       "      <td>...</td>\n",
       "      <td>...</td>\n",
       "      <td>...</td>\n",
       "      <td>...</td>\n",
       "      <td>...</td>\n",
       "      <td>...</td>\n",
       "      <td>...</td>\n",
       "      <td>...</td>\n",
       "      <td>...</td>\n",
       "    </tr>\n",
       "    <tr>\n",
       "      <th>WuXuan_papers</th>\n",
       "      <td>0.000000</td>\n",
       "      <td>0.000000</td>\n",
       "      <td>0.000000</td>\n",
       "      <td>0.000000</td>\n",
       "      <td>0.000000</td>\n",
       "      <td>0.000000</td>\n",
       "      <td>0.000000</td>\n",
       "      <td>0.000000</td>\n",
       "      <td>0.000000</td>\n",
       "      <td>0.000000</td>\n",
       "      <td>...</td>\n",
       "      <td>0.000000</td>\n",
       "      <td>0.000000</td>\n",
       "      <td>0.000000</td>\n",
       "      <td>0.000000</td>\n",
       "      <td>0.000000</td>\n",
       "      <td>0.00000</td>\n",
       "      <td>0.166667</td>\n",
       "      <td>0.000000</td>\n",
       "      <td>0.000000</td>\n",
       "      <td>0.000000</td>\n",
       "    </tr>\n",
       "    <tr>\n",
       "      <th>YongAlexanderTF_papers</th>\n",
       "      <td>0.000000</td>\n",
       "      <td>0.000000</td>\n",
       "      <td>0.000000</td>\n",
       "      <td>0.000000</td>\n",
       "      <td>0.000000</td>\n",
       "      <td>0.000000</td>\n",
       "      <td>0.000000</td>\n",
       "      <td>0.000000</td>\n",
       "      <td>0.000000</td>\n",
       "      <td>0.000000</td>\n",
       "      <td>...</td>\n",
       "      <td>0.000000</td>\n",
       "      <td>0.000000</td>\n",
       "      <td>0.000000</td>\n",
       "      <td>0.000000</td>\n",
       "      <td>0.029450</td>\n",
       "      <td>0.02945</td>\n",
       "      <td>0.000000</td>\n",
       "      <td>0.000000</td>\n",
       "      <td>0.000000</td>\n",
       "      <td>0.000000</td>\n",
       "    </tr>\n",
       "    <tr>\n",
       "      <th>YoungAmanda_papers</th>\n",
       "      <td>0.000000</td>\n",
       "      <td>0.000000</td>\n",
       "      <td>0.000000</td>\n",
       "      <td>0.000000</td>\n",
       "      <td>0.000000</td>\n",
       "      <td>0.000000</td>\n",
       "      <td>0.000000</td>\n",
       "      <td>0.000000</td>\n",
       "      <td>0.000000</td>\n",
       "      <td>0.000000</td>\n",
       "      <td>...</td>\n",
       "      <td>0.000000</td>\n",
       "      <td>0.000000</td>\n",
       "      <td>0.000000</td>\n",
       "      <td>0.000000</td>\n",
       "      <td>0.000000</td>\n",
       "      <td>0.00000</td>\n",
       "      <td>0.000000</td>\n",
       "      <td>0.154303</td>\n",
       "      <td>0.000000</td>\n",
       "      <td>0.000000</td>\n",
       "    </tr>\n",
       "    <tr>\n",
       "      <th>ZaharescuAlexandru_papers</th>\n",
       "      <td>0.008116</td>\n",
       "      <td>0.008116</td>\n",
       "      <td>0.105503</td>\n",
       "      <td>0.016231</td>\n",
       "      <td>0.016231</td>\n",
       "      <td>0.008116</td>\n",
       "      <td>0.089272</td>\n",
       "      <td>0.016231</td>\n",
       "      <td>0.008116</td>\n",
       "      <td>0.170428</td>\n",
       "      <td>...</td>\n",
       "      <td>0.000000</td>\n",
       "      <td>0.000000</td>\n",
       "      <td>0.000000</td>\n",
       "      <td>0.000000</td>\n",
       "      <td>0.000000</td>\n",
       "      <td>0.00000</td>\n",
       "      <td>0.008116</td>\n",
       "      <td>0.008116</td>\n",
       "      <td>0.000000</td>\n",
       "      <td>0.000000</td>\n",
       "    </tr>\n",
       "    <tr>\n",
       "      <th>ZharnitskyVadim_papers</th>\n",
       "      <td>0.000000</td>\n",
       "      <td>0.000000</td>\n",
       "      <td>0.000000</td>\n",
       "      <td>0.000000</td>\n",
       "      <td>0.000000</td>\n",
       "      <td>0.000000</td>\n",
       "      <td>0.000000</td>\n",
       "      <td>0.000000</td>\n",
       "      <td>0.000000</td>\n",
       "      <td>0.000000</td>\n",
       "      <td>...</td>\n",
       "      <td>0.129099</td>\n",
       "      <td>0.043033</td>\n",
       "      <td>0.043033</td>\n",
       "      <td>0.043033</td>\n",
       "      <td>0.043033</td>\n",
       "      <td>0.00000</td>\n",
       "      <td>0.000000</td>\n",
       "      <td>0.000000</td>\n",
       "      <td>0.043033</td>\n",
       "      <td>0.086066</td>\n",
       "    </tr>\n",
       "  </tbody>\n",
       "</table>\n",
       "<p>69 rows × 3437 columns</p>\n",
       "</div>"
      ],
      "text/plain": [
       "                            MR2273359  MR2275343  MR1833071  MR2773200  \\\n",
       "AhlgrenScottD_papers         0.000000   0.000000   0.000000   0.000000   \n",
       "AlbinPierre_papers           0.000000   0.000000   0.000000   0.000000   \n",
       "BaloghJózsef_papers          0.000000   0.000000   0.000000   0.000000   \n",
       "BaryshnikovYuliyM_papers     0.000000   0.000000   0.000000   0.000000   \n",
       "Berwick-EvansDaniel_papers   0.000000   0.000000   0.000000   0.000000   \n",
       "...                               ...        ...        ...        ...   \n",
       "WuXuan_papers                0.000000   0.000000   0.000000   0.000000   \n",
       "YongAlexanderTF_papers       0.000000   0.000000   0.000000   0.000000   \n",
       "YoungAmanda_papers           0.000000   0.000000   0.000000   0.000000   \n",
       "ZaharescuAlexandru_papers    0.008116   0.008116   0.105503   0.016231   \n",
       "ZharnitskyVadim_papers       0.000000   0.000000   0.000000   0.000000   \n",
       "\n",
       "                            MR2543662  MR3097158  MR2145726  MR2186997  \\\n",
       "AhlgrenScottD_papers         0.000000   0.000000   0.000000   0.000000   \n",
       "AlbinPierre_papers           0.000000   0.000000   0.000000   0.000000   \n",
       "BaloghJózsef_papers          0.000000   0.000000   0.000000   0.000000   \n",
       "BaryshnikovYuliyM_papers     0.000000   0.000000   0.000000   0.000000   \n",
       "Berwick-EvansDaniel_papers   0.000000   0.000000   0.000000   0.000000   \n",
       "...                               ...        ...        ...        ...   \n",
       "WuXuan_papers                0.000000   0.000000   0.000000   0.000000   \n",
       "YongAlexanderTF_papers       0.000000   0.000000   0.000000   0.000000   \n",
       "YoungAmanda_papers           0.000000   0.000000   0.000000   0.000000   \n",
       "ZaharescuAlexandru_papers    0.016231   0.008116   0.089272   0.016231   \n",
       "ZharnitskyVadim_papers       0.000000   0.000000   0.000000   0.000000   \n",
       "\n",
       "                            MR1745884  MR0126420  ...  MR1328336  MR1910041  \\\n",
       "AhlgrenScottD_papers         0.000000   0.000000  ...   0.000000   0.000000   \n",
       "AlbinPierre_papers           0.000000   0.000000  ...   0.000000   0.000000   \n",
       "BaloghJózsef_papers          0.000000   0.000000  ...   0.000000   0.000000   \n",
       "BaryshnikovYuliyM_papers     0.000000   0.000000  ...   0.000000   0.000000   \n",
       "Berwick-EvansDaniel_papers   0.000000   0.000000  ...   0.000000   0.000000   \n",
       "...                               ...        ...  ...        ...        ...   \n",
       "WuXuan_papers                0.000000   0.000000  ...   0.000000   0.000000   \n",
       "YongAlexanderTF_papers       0.000000   0.000000  ...   0.000000   0.000000   \n",
       "YoungAmanda_papers           0.000000   0.000000  ...   0.000000   0.000000   \n",
       "ZaharescuAlexandru_papers    0.008116   0.170428  ...   0.000000   0.000000   \n",
       "ZharnitskyVadim_papers       0.000000   0.000000  ...   0.129099   0.043033   \n",
       "\n",
       "                            MR0495314  MR2183864  MR1511670  MR2759813  \\\n",
       "AhlgrenScottD_papers         0.000000   0.000000   0.000000    0.00000   \n",
       "AlbinPierre_papers           0.000000   0.000000   0.000000    0.00000   \n",
       "BaloghJózsef_papers          0.000000   0.000000   0.000000    0.00000   \n",
       "BaryshnikovYuliyM_papers     0.000000   0.000000   0.000000    0.00000   \n",
       "Berwick-EvansDaniel_papers   0.000000   0.000000   0.000000    0.00000   \n",
       "...                               ...        ...        ...        ...   \n",
       "WuXuan_papers                0.000000   0.000000   0.000000    0.00000   \n",
       "YongAlexanderTF_papers       0.000000   0.000000   0.029450    0.02945   \n",
       "YoungAmanda_papers           0.000000   0.000000   0.000000    0.00000   \n",
       "ZaharescuAlexandru_papers    0.000000   0.000000   0.000000    0.00000   \n",
       "ZharnitskyVadim_papers       0.043033   0.043033   0.043033    0.00000   \n",
       "\n",
       "                            MR0415962  MR2172781  MR1741843  MR0778970  \n",
       "AhlgrenScottD_papers         0.000000   0.000000   0.000000   0.000000  \n",
       "AlbinPierre_papers           0.000000   0.000000   0.000000   0.000000  \n",
       "BaloghJózsef_papers          0.000000   0.000000   0.000000   0.000000  \n",
       "BaryshnikovYuliyM_papers     0.000000   0.000000   0.000000   0.000000  \n",
       "Berwick-EvansDaniel_papers   0.000000   0.000000   0.000000   0.000000  \n",
       "...                               ...        ...        ...        ...  \n",
       "WuXuan_papers                0.166667   0.000000   0.000000   0.000000  \n",
       "YongAlexanderTF_papers       0.000000   0.000000   0.000000   0.000000  \n",
       "YoungAmanda_papers           0.000000   0.154303   0.000000   0.000000  \n",
       "ZaharescuAlexandru_papers    0.008116   0.008116   0.000000   0.000000  \n",
       "ZharnitskyVadim_papers       0.000000   0.000000   0.043033   0.086066  \n",
       "\n",
       "[69 rows x 3437 columns]"
      ]
     },
     "execution_count": 196,
     "metadata": {},
     "output_type": "execute_result"
    }
   ],
   "source": [
    "papers_l2"
   ]
  },
  {
   "cell_type": "code",
   "execution_count": 197,
   "metadata": {},
   "outputs": [],
   "source": [
    "import numpy as np\n",
    "import matplotlib.pyplot as plt\n",
    "from sklearn.decomposition import PCA\n",
    "\n",
    "def perform_pca_and_plot(data, title=\"PCA Explained Variance\"):\n",
    "    pca = PCA()\n",
    "    pca.fit(data)\n",
    "\n",
    "    explained_variance_ratio = pca.explained_variance_ratio_\n",
    "    cumulative_explained_variance = np.cumsum(explained_variance_ratio)\n",
    "\n",
    "    plt.figure(figsize=(10, 5))\n",
    "\n",
    "    # Plot the explained variance for each component\n",
    "    plt.bar(range(1, len(explained_variance_ratio)+1), explained_variance_ratio, \n",
    "            alpha=0.5, align='center', label='Individual explained variance')\n",
    "\n",
    "    # Plot the cumulative explained variance\n",
    "    plt.step(range(1, len(cumulative_explained_variance)+1), cumulative_explained_variance, \n",
    "             where='mid', label='Cumulative explained variance')\n",
    "\n",
    "    plt.xlabel('Number of components')\n",
    "    plt.ylabel('Explained variance ratio')\n",
    "    plt.title(title)\n",
    "    plt.legend(loc='best')\n",
    "    plt.tight_layout()\n",
    "    plt.show()\n"
   ]
  },
  {
   "cell_type": "code",
   "execution_count": 198,
   "metadata": {},
   "outputs": [
    {
     "data": {
      "image/png": "[encoded data removed]",
      "text/plain": [
       "<Figure size 1000x500 with 1 Axes>"
      ]
     },
     "metadata": {},
     "output_type": "display_data"
    },
    {
     "data": {
      "image/png": "[encoded data removed]",
      "text/plain": [
       "<Figure size 1000x500 with 1 Axes>"
      ]
     },
     "metadata": {},
     "output_type": "display_data"
    }
   ],
   "source": [
    "perform_pca_and_plot(papers_l1, title=\"PCA Explained Variance for papers_l1\")\n",
    "perform_pca_and_plot(papers_l2, title=\"PCA Explained Variance for papers_l2\")\n"
   ]
  },
  {
   "cell_type": "code",
   "execution_count": 199,
   "metadata": {},
   "outputs": [],
   "source": [
    "#Apply PCA to reduce the dimension\n",
    "from sklearn.decomposition import PCA\n",
    "\n",
    "pca = PCA(n_components=2)\n",
    "\n",
    "principalComponents_l1 = pca.fit_transform(papers_l1)\n",
    "\n",
    "principalComponents_l2 = pca.fit_transform(papers_l2)"
   ]
  },
  {
   "cell_type": "code",
   "execution_count": 200,
   "metadata": {},
   "outputs": [
    {
     "name": "stdout",
     "output_type": "stream",
     "text": [
      "                                 PC1       PC2\n",
      "AhlgrenScottD_papers       -0.008256 -0.004669\n",
      "AlbinPierre_papers         -0.008967 -0.004121\n",
      "BaloghJózsef_papers        -0.007660 -0.004284\n",
      "BaryshnikovYuliyM_papers   -0.008764 -0.001820\n",
      "Berwick-EvansDaniel_papers -0.008731 -0.005170\n",
      "...                              ...       ...\n",
      "WuXuan_papers              -0.005345 -0.006143\n",
      "YongAlexanderTF_papers     -0.009339 -0.007725\n",
      "YoungAmanda_papers         -0.003354 -0.007221\n",
      "ZaharescuAlexandru_papers  -0.007921 -0.004525\n",
      "ZharnitskyVadim_papers     -0.008346 -0.004696\n",
      "\n",
      "[69 rows x 2 columns]\n"
     ]
    }
   ],
   "source": [
    "l1_pca = pd.DataFrame(principalComponents_l1, columns=['PC1', 'PC2'])\n",
    "l1_pca.index = papers_l1.index\n",
    "\n",
    "print(l1_pca)"
   ]
  },
  {
   "cell_type": "code",
   "execution_count": 201,
   "metadata": {},
   "outputs": [
    {
     "name": "stdout",
     "output_type": "stream",
     "text": [
      "                                 PC1       PC2\n",
      "AhlgrenScottD_papers       -0.065529 -0.127102\n",
      "AlbinPierre_papers         -0.033860  0.061594\n",
      "BaloghJózsef_papers         0.030053 -0.072733\n",
      "BaryshnikovYuliyM_papers    0.100650  0.090506\n",
      "Berwick-EvansDaniel_papers -0.114632  0.159726\n",
      "...                              ...       ...\n",
      "WuXuan_papers              -0.016183 -0.015406\n",
      "YongAlexanderTF_papers     -0.069513  0.064689\n",
      "YoungAmanda_papers          0.032747 -0.023929\n",
      "ZaharescuAlexandru_papers  -0.092559 -0.407115\n",
      "ZharnitskyVadim_papers      0.369844  0.111788\n",
      "\n",
      "[69 rows x 2 columns]\n"
     ]
    }
   ],
   "source": [
    "l2_pca = pd.DataFrame(principalComponents_l2, columns=['PC1', 'PC2'])\n",
    "l2_pca.index = papers_l2.index\n",
    "\n",
    "print(l2_pca)"
   ]
  },
  {
   "cell_type": "code",
   "execution_count": 202,
   "metadata": {},
   "outputs": [
    {
     "name": "stdout",
     "output_type": "stream",
     "text": [
      "Requirement already satisfied: nbformat in c:\\users\\10072\\appdata\\local\\packages\\pythonsoftwarefoundation.python.3.11_qbz5n2kfra8p0\\localcache\\local-packages\\python311\\site-packages (5.9.2)\n",
      "Requirement already satisfied: fastjsonschema in c:\\users\\10072\\appdata\\local\\packages\\pythonsoftwarefoundation.python.3.11_qbz5n2kfra8p0\\localcache\\local-packages\\python311\\site-packages (from nbformat) (2.18.0)\n",
      "Requirement already satisfied: jsonschema>=2.6 in c:\\users\\10072\\appdata\\local\\packages\\pythonsoftwarefoundation.python.3.11_qbz5n2kfra8p0\\localcache\\local-packages\\python311\\site-packages (from nbformat) (4.19.1)\n",
      "Requirement already satisfied: jupyter-core in c:\\users\\10072\\appdata\\local\\packages\\pythonsoftwarefoundation.python.3.11_qbz5n2kfra8p0\\localcache\\local-packages\\python311\\site-packages (from nbformat) (5.3.1)\n",
      "Requirement already satisfied: traitlets>=5.1 in c:\\users\\10072\\appdata\\local\\packages\\pythonsoftwarefoundation.python.3.11_qbz5n2kfra8p0\\localcache\\local-packages\\python311\\site-packages (from nbformat) (5.10.0)\n",
      "Requirement already satisfied: attrs>=22.2.0 in c:\\users\\10072\\appdata\\local\\packages\\pythonsoftwarefoundation.python.3.11_qbz5n2kfra8p0\\localcache\\local-packages\\python311\\site-packages (from jsonschema>=2.6->nbformat) (23.1.0)\n",
      "Requirement already satisfied: jsonschema-specifications>=2023.03.6 in c:\\users\\10072\\appdata\\local\\packages\\pythonsoftwarefoundation.python.3.11_qbz5n2kfra8p0\\localcache\\local-packages\\python311\\site-packages (from jsonschema>=2.6->nbformat) (2023.7.1)\n",
      "Requirement already satisfied: referencing>=0.28.4 in c:\\users\\10072\\appdata\\local\\packages\\pythonsoftwarefoundation.python.3.11_qbz5n2kfra8p0\\localcache\\local-packages\\python311\\site-packages (from jsonschema>=2.6->nbformat) (0.30.2)\n",
      "Requirement already satisfied: rpds-py>=0.7.1 in c:\\users\\10072\\appdata\\local\\packages\\pythonsoftwarefoundation.python.3.11_qbz5n2kfra8p0\\localcache\\local-packages\\python311\\site-packages (from jsonschema>=2.6->nbformat) (0.10.3)\n",
      "Requirement already satisfied: platformdirs>=2.5 in c:\\users\\10072\\appdata\\local\\packages\\pythonsoftwarefoundation.python.3.11_qbz5n2kfra8p0\\localcache\\local-packages\\python311\\site-packages (from jupyter-core->nbformat) (3.10.0)\n",
      "Requirement already satisfied: pywin32>=300 in c:\\users\\10072\\appdata\\local\\packages\\pythonsoftwarefoundation.python.3.11_qbz5n2kfra8p0\\localcache\\local-packages\\python311\\site-packages (from jupyter-core->nbformat) (306)\n",
      "Note: you may need to restart the kernel to use updated packages.\n"
     ]
    }
   ],
   "source": [
    "pip install nbformat"
   ]
  },
  {
   "cell_type": "code",
   "execution_count": 203,
   "metadata": {},
   "outputs": [
    {
     "data": {
      "application/vnd.plotly.v1+json": {
       "config": {
        "plotlyServerURL": "https://plot.ly"
       },
       "data": [
        {
         "hovertemplate": "<b>%{hovertext}</b><br><br>PC1=%{x}<br>PC2=%{y}<extra></extra>",
         "hovertext": [
          "AhlgrenScottD_papers",
          "AlbinPierre_papers",
          "BaloghJózsef_papers",
          "BaryshnikovYuliyM_papers",
          "Berwick-EvansDaniel_papers",
          "BocaFlorin-Petre_papers",
          "BradlowStevenBenjamin_papers",
          "BronskiJaredC_papers",
          "CooneyDanielB_papers",
          "DeVilleRELee_papers",
          "DeyParthaSarathi_papers",
          "DiFrancescoPhilippe_papers",
          "DoddChristopher_papers",
          "DunfieldNathanM_papers",
          "DuttaSankarPrasad_papers",
          "DuursmaIwanMaynard_papers",
          "ErdoğanMehmetBurak_papers",
          "FadinaTolulope_papers",
          "FengRunhuan_papers",
          "FernandesRuiLoja_papers",
          "FordKevinB_papers",
          "GuzmanRosemaryK_papers",
          "HaboushWilliamJ_papers",
          "HellerJeremiahBen_papers",
          "HinkkanenAimo_papers",
          "HiraniAnilN_papers",
          "HungPei-Ken_papers",
          "HurVeraMikyoung_papers",
          "IvanovSergeiVladimirovich_papers",
          "JandaFelix_papers",
          "JingXiaochen_papers",
          "JungeMarius_papers",
          "KatzSheldonH_papers",
          "KedemRinat_papers",
          "KermanEly_papers",
          "KirkpatrickKayLene_papers",
          "KirrEduard_papers",
          "KostochkaAlexandrV_papers",
          "KutzarovaDenkaN_papers",
          "LaNaveGabriele_papers",
          "LaugesenRichardSnyder_papers",
          "LeditzkyFelix_papers",
          "LermanEugeneM_papers",
          "LiXiaochun_papers",
          "LiuYuan_papers",
          "McCarthyRandy_papers",
          "MineyevIgor_papers",
          "NikolaevIgorG_papers",
          "OikhbergTimur_papers",
          "PascaleffJamesThomas_papers",
          "RaptiZoi_papers",
          "RasmussenJacob_papers",
          "RasmussenSarahDean_papers",
          "RezkCharlesW_papers",
          "ReznickBruce_papers",
          "SongRenming_papers",
          "SowersRichardB_papers",
          "StojanoskaVesna_papers",
          "ThornerJesse_papers",
          "TolmanSusan_papers",
          "TumanovAlexander_papers",
          "TysonJeremyT_papers",
          "TzirakisNikolaos_papers",
          "WeiWei_papers",
          "WuXuan_papers",
          "YongAlexanderTF_papers",
          "YoungAmanda_papers",
          "ZaharescuAlexandru_papers",
          "ZharnitskyVadim_papers"
         ],
         "legendgroup": "",
         "marker": {
          "color": "#636efa",
          "size": 5,
          "symbol": "circle"
         },
         "mode": "markers",
         "name": "",
         "orientation": "v",
         "showlegend": false,
         "type": "scatter",
         "x": [
          -0.008255909324881378,
          -0.008966961111176137,
          -0.007660085210969574,
          -0.008763500410295966,
          -0.00873110710502534,
          -0.007848907241649265,
          -0.01007918223105897,
          -0.00789153498422631,
          -0.017656421620285294,
          -0.007576154376514057,
          -0.008674192561936215,
          -0.008052476628160159,
          -0.012564849444478823,
          -0.009087282620074731,
          -0.028540654704628982,
          -0.011466166085023979,
          -0.008161296329081828,
          0.21535142520088338,
          -0.005565546219149264,
          -0.00947758186521474,
          -0.007863837010733683,
          -0.03352499031107237,
          -0.01770354544157399,
          -0.008916433874360079,
          -0.008485391827374233,
          -0.009096314846614752,
          -0.01881141675555114,
          -0.00813819771796362,
          -0.011156128743088337,
          -0.01000245504564998,
          -0.003469681062997641,
          -0.007954177941826698,
          -0.010189799876933832,
          -0.008036418605644476,
          -0.0091314587543585,
          -0.008297239249387807,
          -0.00867111859853929,
          -0.007754608117638855,
          -0.00802078987017522,
          -0.01081036417309743,
          -0.007520998664317276,
          -0.008197281903514032,
          -0.008485898576894003,
          -0.009189015623023678,
          -0.009723309911734208,
          -0.010773824980571094,
          -0.010383952803375394,
          -0.027352358378286225,
          -0.008033474832020906,
          -0.009792705128234458,
          -0.007917085573212086,
          -0.00837501435459923,
          -0.008603225113702826,
          -0.008822129203583006,
          -0.00866505577047831,
          -0.008475376679469165,
          -0.0030113292676715066,
          -0.00916130439434571,
          -0.00821510955307064,
          -0.008924764275944063,
          -0.00964965645801202,
          -0.009565449108690538,
          -0.0082236571729008,
          0.44707068738740074,
          -0.00534517243009431,
          -0.009338844745021425,
          -0.0033542385474789656,
          -0.007921494100650945,
          -0.008346207138974273
         ],
         "xaxis": "x",
         "y": [
          -0.0046690503393752684,
          -0.00412078089495609,
          -0.004283699097283764,
          -0.0018198948971399512,
          -0.005170253957278893,
          -0.004342210119140703,
          -0.006994444153985967,
          -0.004393343948707697,
          -0.018462580921924092,
          -0.004366912631556176,
          -0.005170476218608148,
          -0.004496495383128433,
          -0.016376859477897545,
          0.004236784849338264,
          -0.08057270615537283,
          -0.01101689381764843,
          -0.004579875312491799,
          0.003020028630795104,
          -0.0048751886938286715,
          -0.005745693098754621,
          -0.004341572302834691,
          0.40461751810728847,
          -0.03343428592046071,
          -0.0055687166760292955,
          -0.004591009962336521,
          -0.005239826395066775,
          0.07880143425250759,
          -0.004574223168861259,
          0.020770524466167794,
          -0.007082938880221941,
          -0.0046717313162565515,
          -0.004490791785538244,
          -0.009516179566387499,
          -0.004490309814602361,
          -0.005434804564375907,
          -0.004708355378242075,
          -0.004979001719318335,
          -0.004255455964417594,
          -0.004460056848781557,
          -0.008366859332071666,
          -0.005306803341179225,
          -0.004705621716239534,
          -0.005039372851136286,
          -0.005402401986085465,
          -0.005412232558365927,
          -0.007620169597521346,
          0.0042536421599393736,
          -0.07762131750994603,
          -0.004476617046887353,
          -0.007026277953351882,
          -0.004427687525202504,
          -0.0047413394701042826,
          -0.004657440034517394,
          -0.0052975232008575035,
          -0.004967795448758825,
          -0.004928020802324613,
          -0.005151527013154558,
          -0.0062284113753139645,
          -0.004617867308755655,
          -0.005379645174022365,
          -0.005879965182638907,
          -0.005178135628624113,
          -0.004379126982628937,
          0.014718818940948371,
          -0.006142915602987613,
          -0.0077252236838716406,
          -0.007221120431058175,
          -0.00452487111740289,
          -0.004695842149165775
         ],
         "yaxis": "y"
        }
       ],
       "layout": {
        "legend": {
         "tracegroupgap": 0
        },
        "margin": {
         "t": 60
        },
        "template": {
         "data": {
          "bar": [
           {
            "error_x": {
             "color": "#2a3f5f"
            },
            "error_y": {
             "color": "#2a3f5f"
            },
            "marker": {
             "line": {
              "color": "#E5ECF6",
              "width": 0.5
             },
             "pattern": {
              "fillmode": "overlay",
              "size": 10,
              "solidity": 0.2
             }
            },
            "type": "bar"
           }
          ],
          "barpolar": [
           {
            "marker": {
             "line": {
              "color": "#E5ECF6",
              "width": 0.5
             },
             "pattern": {
              "fillmode": "overlay",
              "size": 10,
              "solidity": 0.2
             }
            },
            "type": "barpolar"
           }
          ],
          "carpet": [
           {
            "aaxis": {
             "endlinecolor": "#2a3f5f",
             "gridcolor": "white",
             "linecolor": "white",
             "minorgridcolor": "white",
             "startlinecolor": "#2a3f5f"
            },
            "baxis": {
             "endlinecolor": "#2a3f5f",
             "gridcolor": "white",
             "linecolor": "white",
             "minorgridcolor": "white",
             "startlinecolor": "#2a3f5f"
            },
            "type": "carpet"
           }
          ],
          "choropleth": [
           {
            "colorbar": {
             "outlinewidth": 0,
             "ticks": ""
            },
            "type": "choropleth"
           }
          ],
          "contour": [
           {
            "colorbar": {
             "outlinewidth": 0,
             "ticks": ""
            },
            "colorscale": [
             [
              0,
              "#0d0887"
             ],
             [
              0.1111111111111111,
              "#46039f"
             ],
             [
              0.2222222222222222,
              "#7201a8"
             ],
             [
              0.3333333333333333,
              "#9c179e"
             ],
             [
              0.4444444444444444,
              "#bd3786"
             ],
             [
              0.5555555555555556,
              "#d8576b"
             ],
             [
              0.6666666666666666,
              "#ed7953"
             ],
             [
              0.7777777777777778,
              "#fb9f3a"
             ],
             [
              0.8888888888888888,
              "#fdca26"
             ],
             [
              1,
              "#f0f921"
             ]
            ],
            "type": "contour"
           }
          ],
          "contourcarpet": [
           {
            "colorbar": {
             "outlinewidth": 0,
             "ticks": ""
            },
            "type": "contourcarpet"
           }
          ],
          "heatmap": [
           {
            "colorbar": {
             "outlinewidth": 0,
             "ticks": ""
            },
            "colorscale": [
             [
              0,
              "#0d0887"
             ],
             [
              0.1111111111111111,
              "#46039f"
             ],
             [
              0.2222222222222222,
              "#7201a8"
             ],
             [
              0.3333333333333333,
              "#9c179e"
             ],
             [
              0.4444444444444444,
              "#bd3786"
             ],
             [
              0.5555555555555556,
              "#d8576b"
             ],
             [
              0.6666666666666666,
              "#ed7953"
             ],
             [
              0.7777777777777778,
              "#fb9f3a"
             ],
             [
              0.8888888888888888,
              "#fdca26"
             ],
             [
              1,
              "#f0f921"
             ]
            ],
            "type": "heatmap"
           }
          ],
          "heatmapgl": [
           {
            "colorbar": {
             "outlinewidth": 0,
             "ticks": ""
            },
            "colorscale": [
             [
              0,
              "#0d0887"
             ],
             [
              0.1111111111111111,
              "#46039f"
             ],
             [
              0.2222222222222222,
              "#7201a8"
             ],
             [
              0.3333333333333333,
              "#9c179e"
             ],
             [
              0.4444444444444444,
              "#bd3786"
             ],
             [
              0.5555555555555556,
              "#d8576b"
             ],
             [
              0.6666666666666666,
              "#ed7953"
             ],
             [
              0.7777777777777778,
              "#fb9f3a"
             ],
             [
              0.8888888888888888,
              "#fdca26"
             ],
             [
              1,
              "#f0f921"
             ]
            ],
            "type": "heatmapgl"
           }
          ],
          "histogram": [
           {
            "marker": {
             "pattern": {
              "fillmode": "overlay",
              "size": 10,
              "solidity": 0.2
             }
            },
            "type": "histogram"
           }
          ],
          "histogram2d": [
           {
            "colorbar": {
             "outlinewidth": 0,
             "ticks": ""
            },
            "colorscale": [
             [
              0,
              "#0d0887"
             ],
             [
              0.1111111111111111,
              "#46039f"
             ],
             [
              0.2222222222222222,
              "#7201a8"
             ],
             [
              0.3333333333333333,
              "#9c179e"
             ],
             [
              0.4444444444444444,
              "#bd3786"
             ],
             [
              0.5555555555555556,
              "#d8576b"
             ],
             [
              0.6666666666666666,
              "#ed7953"
             ],
             [
              0.7777777777777778,
              "#fb9f3a"
             ],
             [
              0.8888888888888888,
              "#fdca26"
             ],
             [
              1,
              "#f0f921"
             ]
            ],
            "type": "histogram2d"
           }
          ],
          "histogram2dcontour": [
           {
            "colorbar": {
             "outlinewidth": 0,
             "ticks": ""
            },
            "colorscale": [
             [
              0,
              "#0d0887"
             ],
             [
              0.1111111111111111,
              "#46039f"
             ],
             [
              0.2222222222222222,
              "#7201a8"
             ],
             [
              0.3333333333333333,
              "#9c179e"
             ],
             [
              0.4444444444444444,
              "#bd3786"
             ],
             [
              0.5555555555555556,
              "#d8576b"
             ],
             [
              0.6666666666666666,
              "#ed7953"
             ],
             [
              0.7777777777777778,
              "#fb9f3a"
             ],
             [
              0.8888888888888888,
              "#fdca26"
             ],
             [
              1,
              "#f0f921"
             ]
            ],
            "type": "histogram2dcontour"
           }
          ],
          "mesh3d": [
           {
            "colorbar": {
             "outlinewidth": 0,
             "ticks": ""
            },
            "type": "mesh3d"
           }
          ],
          "parcoords": [
           {
            "line": {
             "colorbar": {
              "outlinewidth": 0,
              "ticks": ""
             }
            },
            "type": "parcoords"
           }
          ],
          "pie": [
           {
            "automargin": true,
            "type": "pie"
           }
          ],
          "scatter": [
           {
            "fillpattern": {
             "fillmode": "overlay",
             "size": 10,
             "solidity": 0.2
            },
            "type": "scatter"
           }
          ],
          "scatter3d": [
           {
            "line": {
             "colorbar": {
              "outlinewidth": 0,
              "ticks": ""
             }
            },
            "marker": {
             "colorbar": {
              "outlinewidth": 0,
              "ticks": ""
             }
            },
            "type": "scatter3d"
           }
          ],
          "scattercarpet": [
           {
            "marker": {
             "colorbar": {
              "outlinewidth": 0,
              "ticks": ""
             }
            },
            "type": "scattercarpet"
           }
          ],
          "scattergeo": [
           {
            "marker": {
             "colorbar": {
              "outlinewidth": 0,
              "ticks": ""
             }
            },
            "type": "scattergeo"
           }
          ],
          "scattergl": [
           {
            "marker": {
             "colorbar": {
              "outlinewidth": 0,
              "ticks": ""
             }
            },
            "type": "scattergl"
           }
          ],
          "scattermapbox": [
           {
            "marker": {
             "colorbar": {
              "outlinewidth": 0,
              "ticks": ""
             }
            },
            "type": "scattermapbox"
           }
          ],
          "scatterpolar": [
           {
            "marker": {
             "colorbar": {
              "outlinewidth": 0,
              "ticks": ""
             }
            },
            "type": "scatterpolar"
           }
          ],
          "scatterpolargl": [
           {
            "marker": {
             "colorbar": {
              "outlinewidth": 0,
              "ticks": ""
             }
            },
            "type": "scatterpolargl"
           }
          ],
          "scatterternary": [
           {
            "marker": {
             "colorbar": {
              "outlinewidth": 0,
              "ticks": ""
             }
            },
            "type": "scatterternary"
           }
          ],
          "surface": [
           {
            "colorbar": {
             "outlinewidth": 0,
             "ticks": ""
            },
            "colorscale": [
             [
              0,
              "#0d0887"
             ],
             [
              0.1111111111111111,
              "#46039f"
             ],
             [
              0.2222222222222222,
              "#7201a8"
             ],
             [
              0.3333333333333333,
              "#9c179e"
             ],
             [
              0.4444444444444444,
              "#bd3786"
             ],
             [
              0.5555555555555556,
              "#d8576b"
             ],
             [
              0.6666666666666666,
              "#ed7953"
             ],
             [
              0.7777777777777778,
              "#fb9f3a"
             ],
             [
              0.8888888888888888,
              "#fdca26"
             ],
             [
              1,
              "#f0f921"
             ]
            ],
            "type": "surface"
           }
          ],
          "table": [
           {
            "cells": {
             "fill": {
              "color": "#EBF0F8"
             },
             "line": {
              "color": "white"
             }
            },
            "header": {
             "fill": {
              "color": "#C8D4E3"
             },
             "line": {
              "color": "white"
             }
            },
            "type": "table"
           }
          ]
         },
         "layout": {
          "annotationdefaults": {
           "arrowcolor": "#2a3f5f",
           "arrowhead": 0,
           "arrowwidth": 1
          },
          "autotypenumbers": "strict",
          "coloraxis": {
           "colorbar": {
            "outlinewidth": 0,
            "ticks": ""
           }
          },
          "colorscale": {
           "diverging": [
            [
             0,
             "#8e0152"
            ],
            [
             0.1,
             "#c51b7d"
            ],
            [
             0.2,
             "#de77ae"
            ],
            [
             0.3,
             "#f1b6da"
            ],
            [
             0.4,
             "#fde0ef"
            ],
            [
             0.5,
             "#f7f7f7"
            ],
            [
             0.6,
             "#e6f5d0"
            ],
            [
             0.7,
             "#b8e186"
            ],
            [
             0.8,
             "#7fbc41"
            ],
            [
             0.9,
             "#4d9221"
            ],
            [
             1,
             "#276419"
            ]
           ],
           "sequential": [
            [
             0,
             "#0d0887"
            ],
            [
             0.1111111111111111,
             "#46039f"
            ],
            [
             0.2222222222222222,
             "#7201a8"
            ],
            [
             0.3333333333333333,
             "#9c179e"
            ],
            [
             0.4444444444444444,
             "#bd3786"
            ],
            [
             0.5555555555555556,
             "#d8576b"
            ],
            [
             0.6666666666666666,
             "#ed7953"
            ],
            [
             0.7777777777777778,
             "#fb9f3a"
            ],
            [
             0.8888888888888888,
             "#fdca26"
            ],
            [
             1,
             "#f0f921"
            ]
           ],
           "sequentialminus": [
            [
             0,
             "#0d0887"
            ],
            [
             0.1111111111111111,
             "#46039f"
            ],
            [
             0.2222222222222222,
             "#7201a8"
            ],
            [
             0.3333333333333333,
             "#9c179e"
            ],
            [
             0.4444444444444444,
             "#bd3786"
            ],
            [
             0.5555555555555556,
             "#d8576b"
            ],
            [
             0.6666666666666666,
             "#ed7953"
            ],
            [
             0.7777777777777778,
             "#fb9f3a"
            ],
            [
             0.8888888888888888,
             "#fdca26"
            ],
            [
             1,
             "#f0f921"
            ]
           ]
          },
          "colorway": [
           "#636efa",
           "#EF553B",
           "#00cc96",
           "#ab63fa",
           "#FFA15A",
           "#19d3f3",
           "#FF6692",
           "#B6E880",
           "#FF97FF",
           "#FECB52"
          ],
          "font": {
           "color": "#2a3f5f"
          },
          "geo": {
           "bgcolor": "white",
           "lakecolor": "white",
           "landcolor": "#E5ECF6",
           "showlakes": true,
           "showland": true,
           "subunitcolor": "white"
          },
          "hoverlabel": {
           "align": "left"
          },
          "hovermode": "closest",
          "mapbox": {
           "style": "light"
          },
          "paper_bgcolor": "white",
          "plot_bgcolor": "#E5ECF6",
          "polar": {
           "angularaxis": {
            "gridcolor": "white",
            "linecolor": "white",
            "ticks": ""
           },
           "bgcolor": "#E5ECF6",
           "radialaxis": {
            "gridcolor": "white",
            "linecolor": "white",
            "ticks": ""
           }
          },
          "scene": {
           "xaxis": {
            "backgroundcolor": "#E5ECF6",
            "gridcolor": "white",
            "gridwidth": 2,
            "linecolor": "white",
            "showbackground": true,
            "ticks": "",
            "zerolinecolor": "white"
           },
           "yaxis": {
            "backgroundcolor": "#E5ECF6",
            "gridcolor": "white",
            "gridwidth": 2,
            "linecolor": "white",
            "showbackground": true,
            "ticks": "",
            "zerolinecolor": "white"
           },
           "zaxis": {
            "backgroundcolor": "#E5ECF6",
            "gridcolor": "white",
            "gridwidth": 2,
            "linecolor": "white",
            "showbackground": true,
            "ticks": "",
            "zerolinecolor": "white"
           }
          },
          "shapedefaults": {
           "line": {
            "color": "#2a3f5f"
           }
          },
          "ternary": {
           "aaxis": {
            "gridcolor": "white",
            "linecolor": "white",
            "ticks": ""
           },
           "baxis": {
            "gridcolor": "white",
            "linecolor": "white",
            "ticks": ""
           },
           "bgcolor": "#E5ECF6",
           "caxis": {
            "gridcolor": "white",
            "linecolor": "white",
            "ticks": ""
           }
          },
          "title": {
           "x": 0.05
          },
          "xaxis": {
           "automargin": true,
           "gridcolor": "white",
           "linecolor": "white",
           "ticks": "",
           "title": {
            "standoff": 15
           },
           "zerolinecolor": "white",
           "zerolinewidth": 2
          },
          "yaxis": {
           "automargin": true,
           "gridcolor": "white",
           "linecolor": "white",
           "ticks": "",
           "title": {
            "standoff": 15
           },
           "zerolinecolor": "white",
           "zerolinewidth": 2
          }
         }
        },
        "xaxis": {
         "anchor": "y",
         "domain": [
          0,
          1
         ],
         "scaleanchor": "y",
         "scaleratio": 1,
         "title": {
          "text": "PC1"
         }
        },
        "yaxis": {
         "anchor": "x",
         "domain": [
          0,
          1
         ],
         "scaleanchor": "x",
         "scaleratio": 1,
         "title": {
          "text": "PC2"
         }
        }
       }
      }
     },
     "metadata": {},
     "output_type": "display_data"
    }
   ],
   "source": [
    "import plotly.express as px\n",
    "\n",
    "# Create the scatter plot with hover information\n",
    "fig_l1 = px.scatter(l1_pca, x='PC1', y='PC2', hover_name=l1_pca.index)\n",
    "fig_l1.update_traces(marker=dict(size=5))\n",
    "fig_l1.update_xaxes(scaleanchor='y', scaleratio=1)\n",
    "fig_l1.update_yaxes(scaleanchor='x', scaleratio=1)\n",
    "fig_l1.show()"
   ]
  },
  {
   "cell_type": "code",
   "execution_count": 204,
   "metadata": {},
   "outputs": [
    {
     "data": {
      "application/vnd.plotly.v1+json": {
       "config": {
        "plotlyServerURL": "https://plot.ly"
       },
       "data": [
        {
         "hovertemplate": "<b>%{hovertext}</b><br><br>PC1=%{x}<br>PC2=%{y}<extra></extra>",
         "hovertext": [
          "AhlgrenScottD_papers",
          "AlbinPierre_papers",
          "BaloghJózsef_papers",
          "BaryshnikovYuliyM_papers",
          "Berwick-EvansDaniel_papers",
          "BocaFlorin-Petre_papers",
          "BradlowStevenBenjamin_papers",
          "BronskiJaredC_papers",
          "CooneyDanielB_papers",
          "DeVilleRELee_papers",
          "DeyParthaSarathi_papers",
          "DiFrancescoPhilippe_papers",
          "DoddChristopher_papers",
          "DunfieldNathanM_papers",
          "DuttaSankarPrasad_papers",
          "DuursmaIwanMaynard_papers",
          "ErdoğanMehmetBurak_papers",
          "FengRunhuan_papers",
          "FernandesRuiLoja_papers",
          "FordKevinB_papers",
          "HaboushWilliamJ_papers",
          "HellerJeremiahBen_papers",
          "HinkkanenAimo_papers",
          "HiraniAnilN_papers",
          "HungPei-Ken_papers",
          "HurVeraMikyoung_papers",
          "IvanovSergeiVladimirovich_papers",
          "JandaFelix_papers",
          "JingXiaochen_papers",
          "JungeMarius_papers",
          "KatzSheldonH_papers",
          "KedemRinat_papers",
          "KermanEly_papers",
          "KirkpatrickKayLene_papers",
          "KirrEduard_papers",
          "KostochkaAlexandrV_papers",
          "KutzarovaDenkaN_papers",
          "LaNaveGabriele_papers",
          "LaugesenRichardSnyder_papers",
          "LeditzkyFelix_papers",
          "LermanEugeneM_papers",
          "LiXiaochun_papers",
          "LiuYuan_papers",
          "McCarthyRandy_papers",
          "MineyevIgor_papers",
          "NikolaevIgorG_papers",
          "OikhbergTimur_papers",
          "PascaleffJamesThomas_papers",
          "RaptiZoi_papers",
          "RasmussenJacob_papers",
          "RasmussenSarahDean_papers",
          "RezkCharlesW_papers",
          "ReznickBruce_papers",
          "SongRenming_papers",
          "SowersRichardB_papers",
          "StojanoskaVesna_papers",
          "ThornerJesse_papers",
          "TolmanSusan_papers",
          "TumanovAlexander_papers",
          "TysonJeremyT_papers",
          "TzirakisNikolaos_papers",
          "WuXuan_papers",
          "YongAlexanderTF_papers",
          "YoungAmanda_papers",
          "ZaharescuAlexandru_papers",
          "ZharnitskyVadim_papers"
         ],
         "legendgroup": "",
         "marker": {
          "color": "#636efa",
          "size": 5,
          "symbol": "circle"
         },
         "mode": "markers",
         "name": "",
         "orientation": "v",
         "showlegend": false,
         "type": "scatter",
         "x": [
          -0.008255909324881378,
          -0.008966961111176137,
          -0.007660085210969574,
          -0.008763500410295966,
          -0.00873110710502534,
          -0.007848907241649265,
          -0.01007918223105897,
          -0.00789153498422631,
          -0.017656421620285294,
          -0.007576154376514057,
          -0.008674192561936215,
          -0.008052476628160159,
          -0.012564849444478823,
          -0.009087282620074731,
          -0.028540654704628982,
          -0.011466166085023979,
          -0.008161296329081828,
          -0.005565546219149264,
          -0.00947758186521474,
          -0.007863837010733683,
          -0.01770354544157399,
          -0.008916433874360079,
          -0.008485391827374233,
          -0.009096314846614752,
          -0.01881141675555114,
          -0.00813819771796362,
          -0.011156128743088337,
          -0.01000245504564998,
          -0.003469681062997641,
          -0.007954177941826698,
          -0.010189799876933832,
          -0.008036418605644476,
          -0.0091314587543585,
          -0.008297239249387807,
          -0.00867111859853929,
          -0.007754608117638855,
          -0.00802078987017522,
          -0.01081036417309743,
          -0.007520998664317276,
          -0.008197281903514032,
          -0.008485898576894003,
          -0.009189015623023678,
          -0.009723309911734208,
          -0.010773824980571094,
          -0.010383952803375394,
          -0.027352358378286225,
          -0.008033474832020906,
          -0.009792705128234458,
          -0.007917085573212086,
          -0.00837501435459923,
          -0.008603225113702826,
          -0.008822129203583006,
          -0.00866505577047831,
          -0.008475376679469165,
          -0.0030113292676715066,
          -0.00916130439434571,
          -0.00821510955307064,
          -0.008924764275944063,
          -0.00964965645801202,
          -0.009565449108690538,
          -0.0082236571729008,
          -0.00534517243009431,
          -0.009338844745021425,
          -0.0033542385474789656,
          -0.007921494100650945,
          -0.008346207138974273
         ],
         "xaxis": "x",
         "y": [
          -0.0046690503393752684,
          -0.00412078089495609,
          -0.004283699097283764,
          -0.0018198948971399512,
          -0.005170253957278893,
          -0.004342210119140703,
          -0.006994444153985967,
          -0.004393343948707697,
          -0.018462580921924092,
          -0.004366912631556176,
          -0.005170476218608148,
          -0.004496495383128433,
          -0.016376859477897545,
          0.004236784849338264,
          -0.08057270615537283,
          -0.01101689381764843,
          -0.004579875312491799,
          -0.0048751886938286715,
          -0.005745693098754621,
          -0.004341572302834691,
          -0.03343428592046071,
          -0.0055687166760292955,
          -0.004591009962336521,
          -0.005239826395066775,
          0.07880143425250759,
          -0.004574223168861259,
          0.020770524466167794,
          -0.007082938880221941,
          -0.0046717313162565515,
          -0.004490791785538244,
          -0.009516179566387499,
          -0.004490309814602361,
          -0.005434804564375907,
          -0.004708355378242075,
          -0.004979001719318335,
          -0.004255455964417594,
          -0.004460056848781557,
          -0.008366859332071666,
          -0.005306803341179225,
          -0.004705621716239534,
          -0.005039372851136286,
          -0.005402401986085465,
          -0.005412232558365927,
          -0.007620169597521346,
          0.0042536421599393736,
          -0.07762131750994603,
          -0.004476617046887353,
          -0.007026277953351882,
          -0.004427687525202504,
          -0.0047413394701042826,
          -0.004657440034517394,
          -0.0052975232008575035,
          -0.004967795448758825,
          -0.004928020802324613,
          -0.005151527013154558,
          -0.0062284113753139645,
          -0.004617867308755655,
          -0.005379645174022365,
          -0.005879965182638907,
          -0.005178135628624113,
          -0.004379126982628937,
          -0.006142915602987613,
          -0.0077252236838716406,
          -0.007221120431058175,
          -0.00452487111740289,
          -0.004695842149165775
         ],
         "yaxis": "y"
        }
       ],
       "layout": {
        "legend": {
         "tracegroupgap": 0
        },
        "margin": {
         "t": 60
        },
        "template": {
         "data": {
          "bar": [
           {
            "error_x": {
             "color": "#2a3f5f"
            },
            "error_y": {
             "color": "#2a3f5f"
            },
            "marker": {
             "line": {
              "color": "#E5ECF6",
              "width": 0.5
             },
             "pattern": {
              "fillmode": "overlay",
              "size": 10,
              "solidity": 0.2
             }
            },
            "type": "bar"
           }
          ],
          "barpolar": [
           {
            "marker": {
             "line": {
              "color": "#E5ECF6",
              "width": 0.5
             },
             "pattern": {
              "fillmode": "overlay",
              "size": 10,
              "solidity": 0.2
             }
            },
            "type": "barpolar"
           }
          ],
          "carpet": [
           {
            "aaxis": {
             "endlinecolor": "#2a3f5f",
             "gridcolor": "white",
             "linecolor": "white",
             "minorgridcolor": "white",
             "startlinecolor": "#2a3f5f"
            },
            "baxis": {
             "endlinecolor": "#2a3f5f",
             "gridcolor": "white",
             "linecolor": "white",
             "minorgridcolor": "white",
             "startlinecolor": "#2a3f5f"
            },
            "type": "carpet"
           }
          ],
          "choropleth": [
           {
            "colorbar": {
             "outlinewidth": 0,
             "ticks": ""
            },
            "type": "choropleth"
           }
          ],
          "contour": [
           {
            "colorbar": {
             "outlinewidth": 0,
             "ticks": ""
            },
            "colorscale": [
             [
              0,
              "#0d0887"
             ],
             [
              0.1111111111111111,
              "#46039f"
             ],
             [
              0.2222222222222222,
              "#7201a8"
             ],
             [
              0.3333333333333333,
              "#9c179e"
             ],
             [
              0.4444444444444444,
              "#bd3786"
             ],
             [
              0.5555555555555556,
              "#d8576b"
             ],
             [
              0.6666666666666666,
              "#ed7953"
             ],
             [
              0.7777777777777778,
              "#fb9f3a"
             ],
             [
              0.8888888888888888,
              "#fdca26"
             ],
             [
              1,
              "#f0f921"
             ]
            ],
            "type": "contour"
           }
          ],
          "contourcarpet": [
           {
            "colorbar": {
             "outlinewidth": 0,
             "ticks": ""
            },
            "type": "contourcarpet"
           }
          ],
          "heatmap": [
           {
            "colorbar": {
             "outlinewidth": 0,
             "ticks": ""
            },
            "colorscale": [
             [
              0,
              "#0d0887"
             ],
             [
              0.1111111111111111,
              "#46039f"
             ],
             [
              0.2222222222222222,
              "#7201a8"
             ],
             [
              0.3333333333333333,
              "#9c179e"
             ],
             [
              0.4444444444444444,
              "#bd3786"
             ],
             [
              0.5555555555555556,
              "#d8576b"
             ],
             [
              0.6666666666666666,
              "#ed7953"
             ],
             [
              0.7777777777777778,
              "#fb9f3a"
             ],
             [
              0.8888888888888888,
              "#fdca26"
             ],
             [
              1,
              "#f0f921"
             ]
            ],
            "type": "heatmap"
           }
          ],
          "heatmapgl": [
           {
            "colorbar": {
             "outlinewidth": 0,
             "ticks": ""
            },
            "colorscale": [
             [
              0,
              "#0d0887"
             ],
             [
              0.1111111111111111,
              "#46039f"
             ],
             [
              0.2222222222222222,
              "#7201a8"
             ],
             [
              0.3333333333333333,
              "#9c179e"
             ],
             [
              0.4444444444444444,
              "#bd3786"
             ],
             [
              0.5555555555555556,
              "#d8576b"
             ],
             [
              0.6666666666666666,
              "#ed7953"
             ],
             [
              0.7777777777777778,
              "#fb9f3a"
             ],
             [
              0.8888888888888888,
              "#fdca26"
             ],
             [
              1,
              "#f0f921"
             ]
            ],
            "type": "heatmapgl"
           }
          ],
          "histogram": [
           {
            "marker": {
             "pattern": {
              "fillmode": "overlay",
              "size": 10,
              "solidity": 0.2
             }
            },
            "type": "histogram"
           }
          ],
          "histogram2d": [
           {
            "colorbar": {
             "outlinewidth": 0,
             "ticks": ""
            },
            "colorscale": [
             [
              0,
              "#0d0887"
             ],
             [
              0.1111111111111111,
              "#46039f"
             ],
             [
              0.2222222222222222,
              "#7201a8"
             ],
             [
              0.3333333333333333,
              "#9c179e"
             ],
             [
              0.4444444444444444,
              "#bd3786"
             ],
             [
              0.5555555555555556,
              "#d8576b"
             ],
             [
              0.6666666666666666,
              "#ed7953"
             ],
             [
              0.7777777777777778,
              "#fb9f3a"
             ],
             [
              0.8888888888888888,
              "#fdca26"
             ],
             [
              1,
              "#f0f921"
             ]
            ],
            "type": "histogram2d"
           }
          ],
          "histogram2dcontour": [
           {
            "colorbar": {
             "outlinewidth": 0,
             "ticks": ""
            },
            "colorscale": [
             [
              0,
              "#0d0887"
             ],
             [
              0.1111111111111111,
              "#46039f"
             ],
             [
              0.2222222222222222,
              "#7201a8"
             ],
             [
              0.3333333333333333,
              "#9c179e"
             ],
             [
              0.4444444444444444,
              "#bd3786"
             ],
             [
              0.5555555555555556,
              "#d8576b"
             ],
             [
              0.6666666666666666,
              "#ed7953"
             ],
             [
              0.7777777777777778,
              "#fb9f3a"
             ],
             [
              0.8888888888888888,
              "#fdca26"
             ],
             [
              1,
              "#f0f921"
             ]
            ],
            "type": "histogram2dcontour"
           }
          ],
          "mesh3d": [
           {
            "colorbar": {
             "outlinewidth": 0,
             "ticks": ""
            },
            "type": "mesh3d"
           }
          ],
          "parcoords": [
           {
            "line": {
             "colorbar": {
              "outlinewidth": 0,
              "ticks": ""
             }
            },
            "type": "parcoords"
           }
          ],
          "pie": [
           {
            "automargin": true,
            "type": "pie"
           }
          ],
          "scatter": [
           {
            "fillpattern": {
             "fillmode": "overlay",
             "size": 10,
             "solidity": 0.2
            },
            "type": "scatter"
           }
          ],
          "scatter3d": [
           {
            "line": {
             "colorbar": {
              "outlinewidth": 0,
              "ticks": ""
             }
            },
            "marker": {
             "colorbar": {
              "outlinewidth": 0,
              "ticks": ""
             }
            },
            "type": "scatter3d"
           }
          ],
          "scattercarpet": [
           {
            "marker": {
             "colorbar": {
              "outlinewidth": 0,
              "ticks": ""
             }
            },
            "type": "scattercarpet"
           }
          ],
          "scattergeo": [
           {
            "marker": {
             "colorbar": {
              "outlinewidth": 0,
              "ticks": ""
             }
            },
            "type": "scattergeo"
           }
          ],
          "scattergl": [
           {
            "marker": {
             "colorbar": {
              "outlinewidth": 0,
              "ticks": ""
             }
            },
            "type": "scattergl"
           }
          ],
          "scattermapbox": [
           {
            "marker": {
             "colorbar": {
              "outlinewidth": 0,
              "ticks": ""
             }
            },
            "type": "scattermapbox"
           }
          ],
          "scatterpolar": [
           {
            "marker": {
             "colorbar": {
              "outlinewidth": 0,
              "ticks": ""
             }
            },
            "type": "scatterpolar"
           }
          ],
          "scatterpolargl": [
           {
            "marker": {
             "colorbar": {
              "outlinewidth": 0,
              "ticks": ""
             }
            },
            "type": "scatterpolargl"
           }
          ],
          "scatterternary": [
           {
            "marker": {
             "colorbar": {
              "outlinewidth": 0,
              "ticks": ""
             }
            },
            "type": "scatterternary"
           }
          ],
          "surface": [
           {
            "colorbar": {
             "outlinewidth": 0,
             "ticks": ""
            },
            "colorscale": [
             [
              0,
              "#0d0887"
             ],
             [
              0.1111111111111111,
              "#46039f"
             ],
             [
              0.2222222222222222,
              "#7201a8"
             ],
             [
              0.3333333333333333,
              "#9c179e"
             ],
             [
              0.4444444444444444,
              "#bd3786"
             ],
             [
              0.5555555555555556,
              "#d8576b"
             ],
             [
              0.6666666666666666,
              "#ed7953"
             ],
             [
              0.7777777777777778,
              "#fb9f3a"
             ],
             [
              0.8888888888888888,
              "#fdca26"
             ],
             [
              1,
              "#f0f921"
             ]
            ],
            "type": "surface"
           }
          ],
          "table": [
           {
            "cells": {
             "fill": {
              "color": "#EBF0F8"
             },
             "line": {
              "color": "white"
             }
            },
            "header": {
             "fill": {
              "color": "#C8D4E3"
             },
             "line": {
              "color": "white"
             }
            },
            "type": "table"
           }
          ]
         },
         "layout": {
          "annotationdefaults": {
           "arrowcolor": "#2a3f5f",
           "arrowhead": 0,
           "arrowwidth": 1
          },
          "autotypenumbers": "strict",
          "coloraxis": {
           "colorbar": {
            "outlinewidth": 0,
            "ticks": ""
           }
          },
          "colorscale": {
           "diverging": [
            [
             0,
             "#8e0152"
            ],
            [
             0.1,
             "#c51b7d"
            ],
            [
             0.2,
             "#de77ae"
            ],
            [
             0.3,
             "#f1b6da"
            ],
            [
             0.4,
             "#fde0ef"
            ],
            [
             0.5,
             "#f7f7f7"
            ],
            [
             0.6,
             "#e6f5d0"
            ],
            [
             0.7,
             "#b8e186"
            ],
            [
             0.8,
             "#7fbc41"
            ],
            [
             0.9,
             "#4d9221"
            ],
            [
             1,
             "#276419"
            ]
           ],
           "sequential": [
            [
             0,
             "#0d0887"
            ],
            [
             0.1111111111111111,
             "#46039f"
            ],
            [
             0.2222222222222222,
             "#7201a8"
            ],
            [
             0.3333333333333333,
             "#9c179e"
            ],
            [
             0.4444444444444444,
             "#bd3786"
            ],
            [
             0.5555555555555556,
             "#d8576b"
            ],
            [
             0.6666666666666666,
             "#ed7953"
            ],
            [
             0.7777777777777778,
             "#fb9f3a"
            ],
            [
             0.8888888888888888,
             "#fdca26"
            ],
            [
             1,
             "#f0f921"
            ]
           ],
           "sequentialminus": [
            [
             0,
             "#0d0887"
            ],
            [
             0.1111111111111111,
             "#46039f"
            ],
            [
             0.2222222222222222,
             "#7201a8"
            ],
            [
             0.3333333333333333,
             "#9c179e"
            ],
            [
             0.4444444444444444,
             "#bd3786"
            ],
            [
             0.5555555555555556,
             "#d8576b"
            ],
            [
             0.6666666666666666,
             "#ed7953"
            ],
            [
             0.7777777777777778,
             "#fb9f3a"
            ],
            [
             0.8888888888888888,
             "#fdca26"
            ],
            [
             1,
             "#f0f921"
            ]
           ]
          },
          "colorway": [
           "#636efa",
           "#EF553B",
           "#00cc96",
           "#ab63fa",
           "#FFA15A",
           "#19d3f3",
           "#FF6692",
           "#B6E880",
           "#FF97FF",
           "#FECB52"
          ],
          "font": {
           "color": "#2a3f5f"
          },
          "geo": {
           "bgcolor": "white",
           "lakecolor": "white",
           "landcolor": "#E5ECF6",
           "showlakes": true,
           "showland": true,
           "subunitcolor": "white"
          },
          "hoverlabel": {
           "align": "left"
          },
          "hovermode": "closest",
          "mapbox": {
           "style": "light"
          },
          "paper_bgcolor": "white",
          "plot_bgcolor": "#E5ECF6",
          "polar": {
           "angularaxis": {
            "gridcolor": "white",
            "linecolor": "white",
            "ticks": ""
           },
           "bgcolor": "#E5ECF6",
           "radialaxis": {
            "gridcolor": "white",
            "linecolor": "white",
            "ticks": ""
           }
          },
          "scene": {
           "xaxis": {
            "backgroundcolor": "#E5ECF6",
            "gridcolor": "white",
            "gridwidth": 2,
            "linecolor": "white",
            "showbackground": true,
            "ticks": "",
            "zerolinecolor": "white"
           },
           "yaxis": {
            "backgroundcolor": "#E5ECF6",
            "gridcolor": "white",
            "gridwidth": 2,
            "linecolor": "white",
            "showbackground": true,
            "ticks": "",
            "zerolinecolor": "white"
           },
           "zaxis": {
            "backgroundcolor": "#E5ECF6",
            "gridcolor": "white",
            "gridwidth": 2,
            "linecolor": "white",
            "showbackground": true,
            "ticks": "",
            "zerolinecolor": "white"
           }
          },
          "shapedefaults": {
           "line": {
            "color": "#2a3f5f"
           }
          },
          "ternary": {
           "aaxis": {
            "gridcolor": "white",
            "linecolor": "white",
            "ticks": ""
           },
           "baxis": {
            "gridcolor": "white",
            "linecolor": "white",
            "ticks": ""
           },
           "bgcolor": "#E5ECF6",
           "caxis": {
            "gridcolor": "white",
            "linecolor": "white",
            "ticks": ""
           }
          },
          "title": {
           "x": 0.05
          },
          "xaxis": {
           "automargin": true,
           "gridcolor": "white",
           "linecolor": "white",
           "ticks": "",
           "title": {
            "standoff": 15
           },
           "zerolinecolor": "white",
           "zerolinewidth": 2
          },
          "yaxis": {
           "automargin": true,
           "gridcolor": "white",
           "linecolor": "white",
           "ticks": "",
           "title": {
            "standoff": 15
           },
           "zerolinecolor": "white",
           "zerolinewidth": 2
          }
         }
        },
        "xaxis": {
         "anchor": "y",
         "domain": [
          0,
          1
         ],
         "title": {
          "text": "PC1"
         }
        },
        "yaxis": {
         "anchor": "x",
         "domain": [
          0,
          1
         ],
         "title": {
          "text": "PC2"
         }
        }
       }
      }
     },
     "metadata": {},
     "output_type": "display_data"
    }
   ],
   "source": [
    "#from above plot, we can observe that professor GuzmanRosemary and QuanZhiyu are obvious outliers.\n",
    "#So we remove them and regenerate the plot\n",
    "new_l1_pca = l1_pca.drop(['GuzmanRosemaryK_papers','WeiWei_papers','FadinaTolulope_papers'])\n",
    "fig_newl1 = px.scatter(new_l1_pca, x='PC1', y='PC2', hover_name=new_l1_pca.index)\n",
    "fig_newl1.update_traces(marker=dict(size=5))\n",
    "\n",
    "fig_newl1.show()\n",
    " "
   ]
  },
  {
   "cell_type": "code",
   "execution_count": 205,
   "metadata": {},
   "outputs": [
    {
     "data": {
      "application/vnd.plotly.v1+json": {
       "config": {
        "plotlyServerURL": "https://plot.ly"
       },
       "data": [
        {
         "hovertemplate": "<b>%{hovertext}</b><br><br>PC1=%{x}<br>PC2=%{y}<extra></extra>",
         "hovertext": [
          "AhlgrenScottD_papers",
          "AlbinPierre_papers",
          "BaloghJózsef_papers",
          "BaryshnikovYuliyM_papers",
          "Berwick-EvansDaniel_papers",
          "BocaFlorin-Petre_papers",
          "BradlowStevenBenjamin_papers",
          "BronskiJaredC_papers",
          "CooneyDanielB_papers",
          "DeVilleRELee_papers",
          "DeyParthaSarathi_papers",
          "DiFrancescoPhilippe_papers",
          "DoddChristopher_papers",
          "DunfieldNathanM_papers",
          "DuttaSankarPrasad_papers",
          "DuursmaIwanMaynard_papers",
          "ErdoğanMehmetBurak_papers",
          "FadinaTolulope_papers",
          "FengRunhuan_papers",
          "FernandesRuiLoja_papers",
          "FordKevinB_papers",
          "GuzmanRosemaryK_papers",
          "HaboushWilliamJ_papers",
          "HellerJeremiahBen_papers",
          "HinkkanenAimo_papers",
          "HiraniAnilN_papers",
          "HungPei-Ken_papers",
          "HurVeraMikyoung_papers",
          "IvanovSergeiVladimirovich_papers",
          "JandaFelix_papers",
          "JingXiaochen_papers",
          "JungeMarius_papers",
          "KatzSheldonH_papers",
          "KedemRinat_papers",
          "KermanEly_papers",
          "KirkpatrickKayLene_papers",
          "KirrEduard_papers",
          "KostochkaAlexandrV_papers",
          "KutzarovaDenkaN_papers",
          "LaNaveGabriele_papers",
          "LaugesenRichardSnyder_papers",
          "LeditzkyFelix_papers",
          "LermanEugeneM_papers",
          "LiXiaochun_papers",
          "LiuYuan_papers",
          "McCarthyRandy_papers",
          "MineyevIgor_papers",
          "NikolaevIgorG_papers",
          "OikhbergTimur_papers",
          "PascaleffJamesThomas_papers",
          "RaptiZoi_papers",
          "RasmussenJacob_papers",
          "RasmussenSarahDean_papers",
          "RezkCharlesW_papers",
          "ReznickBruce_papers",
          "SongRenming_papers",
          "SowersRichardB_papers",
          "StojanoskaVesna_papers",
          "ThornerJesse_papers",
          "TolmanSusan_papers",
          "TumanovAlexander_papers",
          "TysonJeremyT_papers",
          "TzirakisNikolaos_papers",
          "WeiWei_papers",
          "WuXuan_papers",
          "YongAlexanderTF_papers",
          "YoungAmanda_papers",
          "ZaharescuAlexandru_papers",
          "ZharnitskyVadim_papers"
         ],
         "legendgroup": "",
         "marker": {
          "color": "#636efa",
          "size": 5,
          "symbol": "circle"
         },
         "mode": "markers",
         "name": "",
         "orientation": "v",
         "showlegend": false,
         "type": "scatter",
         "x": [
          -0.06552932773541383,
          -0.033860349303478816,
          0.030052534535313778,
          0.10064958423236152,
          -0.1146318297576495,
          -0.08189826457186848,
          -0.06961504830305391,
          0.34530472503271603,
          0.015696875854986247,
          0.1688000407006684,
          0.023211132934272426,
          -0.12071549227058195,
          -0.13783524391593363,
          -0.11481603880357331,
          -0.10520722011557092,
          -0.1632372011634757,
          0.6082650558659083,
          0.00012785366750900948,
          -0.019799939448494865,
          -0.053761337803996584,
          -0.03261685972120278,
          -0.02593205704015198,
          -0.0872291290866491,
          -0.2323171517893346,
          0.0085414795641729,
          0.06921995710346192,
          -0.002602537056483389,
          0.28055027730510723,
          -0.07827202146875682,
          -0.10859570962693926,
          -0.02300144572071538,
          0.02724254147064027,
          -0.18812820023123858,
          -0.12236643699866707,
          -0.029962832168519058,
          0.16828629426691258,
          0.312203276315008,
          0.023900935959608606,
          0.009837109937336445,
          -0.10829775215176113,
          0.1043732754886045,
          -0.024158076616541,
          -0.09087981509000659,
          0.2709087452277854,
          -0.11917456828983153,
          -0.2062008815523557,
          -0.07249587946175419,
          -0.014744951543125176,
          0.02736001905262325,
          -0.1347770320018684,
          0.2100256322464012,
          -0.11777746251237396,
          -0.08707572643091675,
          -0.3293466007071154,
          -0.009394540717006314,
          0.03648149029643434,
          0.05678766878624508,
          -0.3453266250107856,
          -0.02571239153081455,
          -0.10694532014668717,
          0.037486560380741864,
          0.06446591015401992,
          0.5825076103918886,
          -0.0023831321187200247,
          -0.016182808966945336,
          -0.06951329185161005,
          0.03274657885890865,
          -0.09255856645921778,
          0.3698439316315504
         ],
         "xaxis": "x",
         "y": [
          -0.12710226398084273,
          0.061594083483985144,
          -0.07273313678137394,
          0.09050588551357125,
          0.159725601876546,
          -0.337178840466213,
          0.11379795175010093,
          0.1672326551098694,
          -0.010432467945652446,
          0.13402186331541036,
          -0.035554617562971735,
          -0.16222537445724258,
          0.08857217945622292,
          -0.21189853006294812,
          0.054484920131667676,
          0.06114126944473393,
          0.07878409492092041,
          -0.07624936648422502,
          -0.16770087147686938,
          0.18201841508082225,
          -0.22970172839329683,
          -0.08271001000506738,
          0.05355558572435284,
          0.1829794895581278,
          -0.037208237095878054,
          0.03256606731880148,
          -0.03561864029489237,
          0.11618735503105171,
          -0.22423752393141097,
          0.08065550106498154,
          -0.16608680166607145,
          -0.22906795802750832,
          0.17699663127793608,
          -0.16692184494249238,
          0.16689470167601206,
          0.006525753713687019,
          0.07005309943459334,
          -0.06968869894407184,
          -0.17139876403787455,
          0.2411408814370724,
          -0.023558729410992907,
          -0.044685127959842384,
          0.42770466721683104,
          -0.02937154798353368,
          -0.035008315099935655,
          0.17471331536704288,
          -0.21427615166743286,
          -0.01260442974469212,
          -0.25867948835465016,
          0.09223215900998338,
          0.09147940837734857,
          -0.20358091326101008,
          -0.19831848115722925,
          0.2824030763062647,
          -0.07114234404426452,
          -0.041456027860441384,
          0.0015858071820822122,
          0.26177643858593624,
          -0.18058810099766498,
          0.4278587840859586,
          0.16815866301950036,
          -0.037619861339183595,
          0.06891747409716127,
          -0.08168492665035591,
          -0.015406266602515317,
          0.06468852048396871,
          -0.023928527056292642,
          -0.40711512569764,
          0.11178774139203514
         ],
         "yaxis": "y"
        }
       ],
       "layout": {
        "legend": {
         "tracegroupgap": 0
        },
        "margin": {
         "t": 60
        },
        "template": {
         "data": {
          "bar": [
           {
            "error_x": {
             "color": "#2a3f5f"
            },
            "error_y": {
             "color": "#2a3f5f"
            },
            "marker": {
             "line": {
              "color": "#E5ECF6",
              "width": 0.5
             },
             "pattern": {
              "fillmode": "overlay",
              "size": 10,
              "solidity": 0.2
             }
            },
            "type": "bar"
           }
          ],
          "barpolar": [
           {
            "marker": {
             "line": {
              "color": "#E5ECF6",
              "width": 0.5
             },
             "pattern": {
              "fillmode": "overlay",
              "size": 10,
              "solidity": 0.2
             }
            },
            "type": "barpolar"
           }
          ],
          "carpet": [
           {
            "aaxis": {
             "endlinecolor": "#2a3f5f",
             "gridcolor": "white",
             "linecolor": "white",
             "minorgridcolor": "white",
             "startlinecolor": "#2a3f5f"
            },
            "baxis": {
             "endlinecolor": "#2a3f5f",
             "gridcolor": "white",
             "linecolor": "white",
             "minorgridcolor": "white",
             "startlinecolor": "#2a3f5f"
            },
            "type": "carpet"
           }
          ],
          "choropleth": [
           {
            "colorbar": {
             "outlinewidth": 0,
             "ticks": ""
            },
            "type": "choropleth"
           }
          ],
          "contour": [
           {
            "colorbar": {
             "outlinewidth": 0,
             "ticks": ""
            },
            "colorscale": [
             [
              0,
              "#0d0887"
             ],
             [
              0.1111111111111111,
              "#46039f"
             ],
             [
              0.2222222222222222,
              "#7201a8"
             ],
             [
              0.3333333333333333,
              "#9c179e"
             ],
             [
              0.4444444444444444,
              "#bd3786"
             ],
             [
              0.5555555555555556,
              "#d8576b"
             ],
             [
              0.6666666666666666,
              "#ed7953"
             ],
             [
              0.7777777777777778,
              "#fb9f3a"
             ],
             [
              0.8888888888888888,
              "#fdca26"
             ],
             [
              1,
              "#f0f921"
             ]
            ],
            "type": "contour"
           }
          ],
          "contourcarpet": [
           {
            "colorbar": {
             "outlinewidth": 0,
             "ticks": ""
            },
            "type": "contourcarpet"
           }
          ],
          "heatmap": [
           {
            "colorbar": {
             "outlinewidth": 0,
             "ticks": ""
            },
            "colorscale": [
             [
              0,
              "#0d0887"
             ],
             [
              0.1111111111111111,
              "#46039f"
             ],
             [
              0.2222222222222222,
              "#7201a8"
             ],
             [
              0.3333333333333333,
              "#9c179e"
             ],
             [
              0.4444444444444444,
              "#bd3786"
             ],
             [
              0.5555555555555556,
              "#d8576b"
             ],
             [
              0.6666666666666666,
              "#ed7953"
             ],
             [
              0.7777777777777778,
              "#fb9f3a"
             ],
             [
              0.8888888888888888,
              "#fdca26"
             ],
             [
              1,
              "#f0f921"
             ]
            ],
            "type": "heatmap"
           }
          ],
          "heatmapgl": [
           {
            "colorbar": {
             "outlinewidth": 0,
             "ticks": ""
            },
            "colorscale": [
             [
              0,
              "#0d0887"
             ],
             [
              0.1111111111111111,
              "#46039f"
             ],
             [
              0.2222222222222222,
              "#7201a8"
             ],
             [
              0.3333333333333333,
              "#9c179e"
             ],
             [
              0.4444444444444444,
              "#bd3786"
             ],
             [
              0.5555555555555556,
              "#d8576b"
             ],
             [
              0.6666666666666666,
              "#ed7953"
             ],
             [
              0.7777777777777778,
              "#fb9f3a"
             ],
             [
              0.8888888888888888,
              "#fdca26"
             ],
             [
              1,
              "#f0f921"
             ]
            ],
            "type": "heatmapgl"
           }
          ],
          "histogram": [
           {
            "marker": {
             "pattern": {
              "fillmode": "overlay",
              "size": 10,
              "solidity": 0.2
             }
            },
            "type": "histogram"
           }
          ],
          "histogram2d": [
           {
            "colorbar": {
             "outlinewidth": 0,
             "ticks": ""
            },
            "colorscale": [
             [
              0,
              "#0d0887"
             ],
             [
              0.1111111111111111,
              "#46039f"
             ],
             [
              0.2222222222222222,
              "#7201a8"
             ],
             [
              0.3333333333333333,
              "#9c179e"
             ],
             [
              0.4444444444444444,
              "#bd3786"
             ],
             [
              0.5555555555555556,
              "#d8576b"
             ],
             [
              0.6666666666666666,
              "#ed7953"
             ],
             [
              0.7777777777777778,
              "#fb9f3a"
             ],
             [
              0.8888888888888888,
              "#fdca26"
             ],
             [
              1,
              "#f0f921"
             ]
            ],
            "type": "histogram2d"
           }
          ],
          "histogram2dcontour": [
           {
            "colorbar": {
             "outlinewidth": 0,
             "ticks": ""
            },
            "colorscale": [
             [
              0,
              "#0d0887"
             ],
             [
              0.1111111111111111,
              "#46039f"
             ],
             [
              0.2222222222222222,
              "#7201a8"
             ],
             [
              0.3333333333333333,
              "#9c179e"
             ],
             [
              0.4444444444444444,
              "#bd3786"
             ],
             [
              0.5555555555555556,
              "#d8576b"
             ],
             [
              0.6666666666666666,
              "#ed7953"
             ],
             [
              0.7777777777777778,
              "#fb9f3a"
             ],
             [
              0.8888888888888888,
              "#fdca26"
             ],
             [
              1,
              "#f0f921"
             ]
            ],
            "type": "histogram2dcontour"
           }
          ],
          "mesh3d": [
           {
            "colorbar": {
             "outlinewidth": 0,
             "ticks": ""
            },
            "type": "mesh3d"
           }
          ],
          "parcoords": [
           {
            "line": {
             "colorbar": {
              "outlinewidth": 0,
              "ticks": ""
             }
            },
            "type": "parcoords"
           }
          ],
          "pie": [
           {
            "automargin": true,
            "type": "pie"
           }
          ],
          "scatter": [
           {
            "fillpattern": {
             "fillmode": "overlay",
             "size": 10,
             "solidity": 0.2
            },
            "type": "scatter"
           }
          ],
          "scatter3d": [
           {
            "line": {
             "colorbar": {
              "outlinewidth": 0,
              "ticks": ""
             }
            },
            "marker": {
             "colorbar": {
              "outlinewidth": 0,
              "ticks": ""
             }
            },
            "type": "scatter3d"
           }
          ],
          "scattercarpet": [
           {
            "marker": {
             "colorbar": {
              "outlinewidth": 0,
              "ticks": ""
             }
            },
            "type": "scattercarpet"
           }
          ],
          "scattergeo": [
           {
            "marker": {
             "colorbar": {
              "outlinewidth": 0,
              "ticks": ""
             }
            },
            "type": "scattergeo"
           }
          ],
          "scattergl": [
           {
            "marker": {
             "colorbar": {
              "outlinewidth": 0,
              "ticks": ""
             }
            },
            "type": "scattergl"
           }
          ],
          "scattermapbox": [
           {
            "marker": {
             "colorbar": {
              "outlinewidth": 0,
              "ticks": ""
             }
            },
            "type": "scattermapbox"
           }
          ],
          "scatterpolar": [
           {
            "marker": {
             "colorbar": {
              "outlinewidth": 0,
              "ticks": ""
             }
            },
            "type": "scatterpolar"
           }
          ],
          "scatterpolargl": [
           {
            "marker": {
             "colorbar": {
              "outlinewidth": 0,
              "ticks": ""
             }
            },
            "type": "scatterpolargl"
           }
          ],
          "scatterternary": [
           {
            "marker": {
             "colorbar": {
              "outlinewidth": 0,
              "ticks": ""
             }
            },
            "type": "scatterternary"
           }
          ],
          "surface": [
           {
            "colorbar": {
             "outlinewidth": 0,
             "ticks": ""
            },
            "colorscale": [
             [
              0,
              "#0d0887"
             ],
             [
              0.1111111111111111,
              "#46039f"
             ],
             [
              0.2222222222222222,
              "#7201a8"
             ],
             [
              0.3333333333333333,
              "#9c179e"
             ],
             [
              0.4444444444444444,
              "#bd3786"
             ],
             [
              0.5555555555555556,
              "#d8576b"
             ],
             [
              0.6666666666666666,
              "#ed7953"
             ],
             [
              0.7777777777777778,
              "#fb9f3a"
             ],
             [
              0.8888888888888888,
              "#fdca26"
             ],
             [
              1,
              "#f0f921"
             ]
            ],
            "type": "surface"
           }
          ],
          "table": [
           {
            "cells": {
             "fill": {
              "color": "#EBF0F8"
             },
             "line": {
              "color": "white"
             }
            },
            "header": {
             "fill": {
              "color": "#C8D4E3"
             },
             "line": {
              "color": "white"
             }
            },
            "type": "table"
           }
          ]
         },
         "layout": {
          "annotationdefaults": {
           "arrowcolor": "#2a3f5f",
           "arrowhead": 0,
           "arrowwidth": 1
          },
          "autotypenumbers": "strict",
          "coloraxis": {
           "colorbar": {
            "outlinewidth": 0,
            "ticks": ""
           }
          },
          "colorscale": {
           "diverging": [
            [
             0,
             "#8e0152"
            ],
            [
             0.1,
             "#c51b7d"
            ],
            [
             0.2,
             "#de77ae"
            ],
            [
             0.3,
             "#f1b6da"
            ],
            [
             0.4,
             "#fde0ef"
            ],
            [
             0.5,
             "#f7f7f7"
            ],
            [
             0.6,
             "#e6f5d0"
            ],
            [
             0.7,
             "#b8e186"
            ],
            [
             0.8,
             "#7fbc41"
            ],
            [
             0.9,
             "#4d9221"
            ],
            [
             1,
             "#276419"
            ]
           ],
           "sequential": [
            [
             0,
             "#0d0887"
            ],
            [
             0.1111111111111111,
             "#46039f"
            ],
            [
             0.2222222222222222,
             "#7201a8"
            ],
            [
             0.3333333333333333,
             "#9c179e"
            ],
            [
             0.4444444444444444,
             "#bd3786"
            ],
            [
             0.5555555555555556,
             "#d8576b"
            ],
            [
             0.6666666666666666,
             "#ed7953"
            ],
            [
             0.7777777777777778,
             "#fb9f3a"
            ],
            [
             0.8888888888888888,
             "#fdca26"
            ],
            [
             1,
             "#f0f921"
            ]
           ],
           "sequentialminus": [
            [
             0,
             "#0d0887"
            ],
            [
             0.1111111111111111,
             "#46039f"
            ],
            [
             0.2222222222222222,
             "#7201a8"
            ],
            [
             0.3333333333333333,
             "#9c179e"
            ],
            [
             0.4444444444444444,
             "#bd3786"
            ],
            [
             0.5555555555555556,
             "#d8576b"
            ],
            [
             0.6666666666666666,
             "#ed7953"
            ],
            [
             0.7777777777777778,
             "#fb9f3a"
            ],
            [
             0.8888888888888888,
             "#fdca26"
            ],
            [
             1,
             "#f0f921"
            ]
           ]
          },
          "colorway": [
           "#636efa",
           "#EF553B",
           "#00cc96",
           "#ab63fa",
           "#FFA15A",
           "#19d3f3",
           "#FF6692",
           "#B6E880",
           "#FF97FF",
           "#FECB52"
          ],
          "font": {
           "color": "#2a3f5f"
          },
          "geo": {
           "bgcolor": "white",
           "lakecolor": "white",
           "landcolor": "#E5ECF6",
           "showlakes": true,
           "showland": true,
           "subunitcolor": "white"
          },
          "hoverlabel": {
           "align": "left"
          },
          "hovermode": "closest",
          "mapbox": {
           "style": "light"
          },
          "paper_bgcolor": "white",
          "plot_bgcolor": "#E5ECF6",
          "polar": {
           "angularaxis": {
            "gridcolor": "white",
            "linecolor": "white",
            "ticks": ""
           },
           "bgcolor": "#E5ECF6",
           "radialaxis": {
            "gridcolor": "white",
            "linecolor": "white",
            "ticks": ""
           }
          },
          "scene": {
           "xaxis": {
            "backgroundcolor": "#E5ECF6",
            "gridcolor": "white",
            "gridwidth": 2,
            "linecolor": "white",
            "showbackground": true,
            "ticks": "",
            "zerolinecolor": "white"
           },
           "yaxis": {
            "backgroundcolor": "#E5ECF6",
            "gridcolor": "white",
            "gridwidth": 2,
            "linecolor": "white",
            "showbackground": true,
            "ticks": "",
            "zerolinecolor": "white"
           },
           "zaxis": {
            "backgroundcolor": "#E5ECF6",
            "gridcolor": "white",
            "gridwidth": 2,
            "linecolor": "white",
            "showbackground": true,
            "ticks": "",
            "zerolinecolor": "white"
           }
          },
          "shapedefaults": {
           "line": {
            "color": "#2a3f5f"
           }
          },
          "ternary": {
           "aaxis": {
            "gridcolor": "white",
            "linecolor": "white",
            "ticks": ""
           },
           "baxis": {
            "gridcolor": "white",
            "linecolor": "white",
            "ticks": ""
           },
           "bgcolor": "#E5ECF6",
           "caxis": {
            "gridcolor": "white",
            "linecolor": "white",
            "ticks": ""
           }
          },
          "title": {
           "x": 0.05
          },
          "xaxis": {
           "automargin": true,
           "gridcolor": "white",
           "linecolor": "white",
           "ticks": "",
           "title": {
            "standoff": 15
           },
           "zerolinecolor": "white",
           "zerolinewidth": 2
          },
          "yaxis": {
           "automargin": true,
           "gridcolor": "white",
           "linecolor": "white",
           "ticks": "",
           "title": {
            "standoff": 15
           },
           "zerolinecolor": "white",
           "zerolinewidth": 2
          }
         }
        },
        "xaxis": {
         "anchor": "y",
         "domain": [
          0,
          1
         ],
         "scaleanchor": "y",
         "scaleratio": 1,
         "title": {
          "text": "PC1"
         }
        },
        "yaxis": {
         "anchor": "x",
         "domain": [
          0,
          1
         ],
         "scaleanchor": "x",
         "scaleratio": 1,
         "title": {
          "text": "PC2"
         }
        }
       }
      }
     },
     "metadata": {},
     "output_type": "display_data"
    }
   ],
   "source": [
    "#for l2 normalization\n",
    "fig_l2 = px.scatter(l2_pca, x='PC1', y='PC2', hover_name=l2_pca.index)\n",
    "fig_l2.update_traces(marker=dict(size=5))\n",
    "fig_l2.update_xaxes(scaleanchor='y', scaleratio=1)\n",
    "fig_l2.update_yaxes(scaleanchor='x', scaleratio=1)\n",
    "fig_l2.show()"
   ]
  },
  {
   "cell_type": "code",
   "execution_count": 206,
   "metadata": {},
   "outputs": [
    {
     "data": {
      "application/vnd.plotly.v1+json": {
       "config": {
        "plotlyServerURL": "https://plot.ly"
       },
       "data": [
        {
         "hovertemplate": "<b>%{hovertext}</b><br><br>PC1=%{x}<br>PC2=%{y}<extra></extra>",
         "hovertext": [
          "AhlgrenScottD_papers",
          "AlbinPierre_papers",
          "BaloghJózsef_papers",
          "BaryshnikovYuliyM_papers",
          "Berwick-EvansDaniel_papers",
          "BradlowStevenBenjamin_papers",
          "BronskiJaredC_papers",
          "CooneyDanielB_papers",
          "DeVilleRELee_papers",
          "DeyParthaSarathi_papers",
          "DiFrancescoPhilippe_papers",
          "DoddChristopher_papers",
          "DunfieldNathanM_papers",
          "DuttaSankarPrasad_papers",
          "DuursmaIwanMaynard_papers",
          "ErdoğanMehmetBurak_papers",
          "FadinaTolulope_papers",
          "FengRunhuan_papers",
          "FernandesRuiLoja_papers",
          "FordKevinB_papers",
          "GuzmanRosemaryK_papers",
          "HaboushWilliamJ_papers",
          "HellerJeremiahBen_papers",
          "HinkkanenAimo_papers",
          "HiraniAnilN_papers",
          "HungPei-Ken_papers",
          "HurVeraMikyoung_papers",
          "IvanovSergeiVladimirovich_papers",
          "JandaFelix_papers",
          "JingXiaochen_papers",
          "JungeMarius_papers",
          "KatzSheldonH_papers",
          "KedemRinat_papers",
          "KermanEly_papers",
          "KirkpatrickKayLene_papers",
          "KirrEduard_papers",
          "KostochkaAlexandrV_papers",
          "KutzarovaDenkaN_papers",
          "LaNaveGabriele_papers",
          "LaugesenRichardSnyder_papers",
          "LeditzkyFelix_papers",
          "LiXiaochun_papers",
          "LiuYuan_papers",
          "McCarthyRandy_papers",
          "MineyevIgor_papers",
          "NikolaevIgorG_papers",
          "OikhbergTimur_papers",
          "PascaleffJamesThomas_papers",
          "RaptiZoi_papers",
          "RasmussenJacob_papers",
          "RasmussenSarahDean_papers",
          "RezkCharlesW_papers",
          "ReznickBruce_papers",
          "SongRenming_papers",
          "SowersRichardB_papers",
          "StojanoskaVesna_papers",
          "ThornerJesse_papers",
          "TumanovAlexander_papers",
          "TysonJeremyT_papers",
          "TzirakisNikolaos_papers",
          "WeiWei_papers",
          "WuXuan_papers",
          "YongAlexanderTF_papers",
          "YoungAmanda_papers",
          "ZharnitskyVadim_papers"
         ],
         "legendgroup": "",
         "marker": {
          "color": "#636efa",
          "size": 5,
          "symbol": "circle"
         },
         "mode": "markers",
         "name": "",
         "orientation": "v",
         "showlegend": false,
         "type": "scatter",
         "x": [
          -0.06552932773541383,
          -0.033860349303478816,
          0.030052534535313778,
          0.10064958423236152,
          -0.1146318297576495,
          -0.06961504830305391,
          0.34530472503271603,
          0.015696875854986247,
          0.1688000407006684,
          0.023211132934272426,
          -0.12071549227058195,
          -0.13783524391593363,
          -0.11481603880357331,
          -0.10520722011557092,
          -0.1632372011634757,
          0.6082650558659083,
          0.00012785366750900948,
          -0.019799939448494865,
          -0.053761337803996584,
          -0.03261685972120278,
          -0.02593205704015198,
          -0.0872291290866491,
          -0.2323171517893346,
          0.0085414795641729,
          0.06921995710346192,
          -0.002602537056483389,
          0.28055027730510723,
          -0.07827202146875682,
          -0.10859570962693926,
          -0.02300144572071538,
          0.02724254147064027,
          -0.18812820023123858,
          -0.12236643699866707,
          -0.029962832168519058,
          0.16828629426691258,
          0.312203276315008,
          0.023900935959608606,
          0.009837109937336445,
          -0.10829775215176113,
          0.1043732754886045,
          -0.024158076616541,
          0.2709087452277854,
          -0.11917456828983153,
          -0.2062008815523557,
          -0.07249587946175419,
          -0.014744951543125176,
          0.02736001905262325,
          -0.1347770320018684,
          0.2100256322464012,
          -0.11777746251237396,
          -0.08707572643091675,
          -0.3293466007071154,
          -0.009394540717006314,
          0.03648149029643434,
          0.05678766878624508,
          -0.3453266250107856,
          -0.02571239153081455,
          0.037486560380741864,
          0.06446591015401992,
          0.5825076103918886,
          -0.0023831321187200247,
          -0.016182808966945336,
          -0.06951329185161005,
          0.03274657885890865,
          0.3698439316315504
         ],
         "xaxis": "x",
         "y": [
          -0.12710226398084273,
          0.061594083483985144,
          -0.07273313678137394,
          0.09050588551357125,
          0.159725601876546,
          0.11379795175010093,
          0.1672326551098694,
          -0.010432467945652446,
          0.13402186331541036,
          -0.035554617562971735,
          -0.16222537445724258,
          0.08857217945622292,
          -0.21189853006294812,
          0.054484920131667676,
          0.06114126944473393,
          0.07878409492092041,
          -0.07624936648422502,
          -0.16770087147686938,
          0.18201841508082225,
          -0.22970172839329683,
          -0.08271001000506738,
          0.05355558572435284,
          0.1829794895581278,
          -0.037208237095878054,
          0.03256606731880148,
          -0.03561864029489237,
          0.11618735503105171,
          -0.22423752393141097,
          0.08065550106498154,
          -0.16608680166607145,
          -0.22906795802750832,
          0.17699663127793608,
          -0.16692184494249238,
          0.16689470167601206,
          0.006525753713687019,
          0.07005309943459334,
          -0.06968869894407184,
          -0.17139876403787455,
          0.2411408814370724,
          -0.023558729410992907,
          -0.044685127959842384,
          -0.02937154798353368,
          -0.035008315099935655,
          0.17471331536704288,
          -0.21427615166743286,
          -0.01260442974469212,
          -0.25867948835465016,
          0.09223215900998338,
          0.09147940837734857,
          -0.20358091326101008,
          -0.19831848115722925,
          0.2824030763062647,
          -0.07114234404426452,
          -0.041456027860441384,
          0.0015858071820822122,
          0.26177643858593624,
          -0.18058810099766498,
          0.16815866301950036,
          -0.037619861339183595,
          0.06891747409716127,
          -0.08168492665035591,
          -0.015406266602515317,
          0.06468852048396871,
          -0.023928527056292642,
          0.11178774139203514
         ],
         "yaxis": "y"
        }
       ],
       "layout": {
        "legend": {
         "tracegroupgap": 0
        },
        "margin": {
         "t": 60
        },
        "template": {
         "data": {
          "bar": [
           {
            "error_x": {
             "color": "#2a3f5f"
            },
            "error_y": {
             "color": "#2a3f5f"
            },
            "marker": {
             "line": {
              "color": "#E5ECF6",
              "width": 0.5
             },
             "pattern": {
              "fillmode": "overlay",
              "size": 10,
              "solidity": 0.2
             }
            },
            "type": "bar"
           }
          ],
          "barpolar": [
           {
            "marker": {
             "line": {
              "color": "#E5ECF6",
              "width": 0.5
             },
             "pattern": {
              "fillmode": "overlay",
              "size": 10,
              "solidity": 0.2
             }
            },
            "type": "barpolar"
           }
          ],
          "carpet": [
           {
            "aaxis": {
             "endlinecolor": "#2a3f5f",
             "gridcolor": "white",
             "linecolor": "white",
             "minorgridcolor": "white",
             "startlinecolor": "#2a3f5f"
            },
            "baxis": {
             "endlinecolor": "#2a3f5f",
             "gridcolor": "white",
             "linecolor": "white",
             "minorgridcolor": "white",
             "startlinecolor": "#2a3f5f"
            },
            "type": "carpet"
           }
          ],
          "choropleth": [
           {
            "colorbar": {
             "outlinewidth": 0,
             "ticks": ""
            },
            "type": "choropleth"
           }
          ],
          "contour": [
           {
            "colorbar": {
             "outlinewidth": 0,
             "ticks": ""
            },
            "colorscale": [
             [
              0,
              "#0d0887"
             ],
             [
              0.1111111111111111,
              "#46039f"
             ],
             [
              0.2222222222222222,
              "#7201a8"
             ],
             [
              0.3333333333333333,
              "#9c179e"
             ],
             [
              0.4444444444444444,
              "#bd3786"
             ],
             [
              0.5555555555555556,
              "#d8576b"
             ],
             [
              0.6666666666666666,
              "#ed7953"
             ],
             [
              0.7777777777777778,
              "#fb9f3a"
             ],
             [
              0.8888888888888888,
              "#fdca26"
             ],
             [
              1,
              "#f0f921"
             ]
            ],
            "type": "contour"
           }
          ],
          "contourcarpet": [
           {
            "colorbar": {
             "outlinewidth": 0,
             "ticks": ""
            },
            "type": "contourcarpet"
           }
          ],
          "heatmap": [
           {
            "colorbar": {
             "outlinewidth": 0,
             "ticks": ""
            },
            "colorscale": [
             [
              0,
              "#0d0887"
             ],
             [
              0.1111111111111111,
              "#46039f"
             ],
             [
              0.2222222222222222,
              "#7201a8"
             ],
             [
              0.3333333333333333,
              "#9c179e"
             ],
             [
              0.4444444444444444,
              "#bd3786"
             ],
             [
              0.5555555555555556,
              "#d8576b"
             ],
             [
              0.6666666666666666,
              "#ed7953"
             ],
             [
              0.7777777777777778,
              "#fb9f3a"
             ],
             [
              0.8888888888888888,
              "#fdca26"
             ],
             [
              1,
              "#f0f921"
             ]
            ],
            "type": "heatmap"
           }
          ],
          "heatmapgl": [
           {
            "colorbar": {
             "outlinewidth": 0,
             "ticks": ""
            },
            "colorscale": [
             [
              0,
              "#0d0887"
             ],
             [
              0.1111111111111111,
              "#46039f"
             ],
             [
              0.2222222222222222,
              "#7201a8"
             ],
             [
              0.3333333333333333,
              "#9c179e"
             ],
             [
              0.4444444444444444,
              "#bd3786"
             ],
             [
              0.5555555555555556,
              "#d8576b"
             ],
             [
              0.6666666666666666,
              "#ed7953"
             ],
             [
              0.7777777777777778,
              "#fb9f3a"
             ],
             [
              0.8888888888888888,
              "#fdca26"
             ],
             [
              1,
              "#f0f921"
             ]
            ],
            "type": "heatmapgl"
           }
          ],
          "histogram": [
           {
            "marker": {
             "pattern": {
              "fillmode": "overlay",
              "size": 10,
              "solidity": 0.2
             }
            },
            "type": "histogram"
           }
          ],
          "histogram2d": [
           {
            "colorbar": {
             "outlinewidth": 0,
             "ticks": ""
            },
            "colorscale": [
             [
              0,
              "#0d0887"
             ],
             [
              0.1111111111111111,
              "#46039f"
             ],
             [
              0.2222222222222222,
              "#7201a8"
             ],
             [
              0.3333333333333333,
              "#9c179e"
             ],
             [
              0.4444444444444444,
              "#bd3786"
             ],
             [
              0.5555555555555556,
              "#d8576b"
             ],
             [
              0.6666666666666666,
              "#ed7953"
             ],
             [
              0.7777777777777778,
              "#fb9f3a"
             ],
             [
              0.8888888888888888,
              "#fdca26"
             ],
             [
              1,
              "#f0f921"
             ]
            ],
            "type": "histogram2d"
           }
          ],
          "histogram2dcontour": [
           {
            "colorbar": {
             "outlinewidth": 0,
             "ticks": ""
            },
            "colorscale": [
             [
              0,
              "#0d0887"
             ],
             [
              0.1111111111111111,
              "#46039f"
             ],
             [
              0.2222222222222222,
              "#7201a8"
             ],
             [
              0.3333333333333333,
              "#9c179e"
             ],
             [
              0.4444444444444444,
              "#bd3786"
             ],
             [
              0.5555555555555556,
              "#d8576b"
             ],
             [
              0.6666666666666666,
              "#ed7953"
             ],
             [
              0.7777777777777778,
              "#fb9f3a"
             ],
             [
              0.8888888888888888,
              "#fdca26"
             ],
             [
              1,
              "#f0f921"
             ]
            ],
            "type": "histogram2dcontour"
           }
          ],
          "mesh3d": [
           {
            "colorbar": {
             "outlinewidth": 0,
             "ticks": ""
            },
            "type": "mesh3d"
           }
          ],
          "parcoords": [
           {
            "line": {
             "colorbar": {
              "outlinewidth": 0,
              "ticks": ""
             }
            },
            "type": "parcoords"
           }
          ],
          "pie": [
           {
            "automargin": true,
            "type": "pie"
           }
          ],
          "scatter": [
           {
            "fillpattern": {
             "fillmode": "overlay",
             "size": 10,
             "solidity": 0.2
            },
            "type": "scatter"
           }
          ],
          "scatter3d": [
           {
            "line": {
             "colorbar": {
              "outlinewidth": 0,
              "ticks": ""
             }
            },
            "marker": {
             "colorbar": {
              "outlinewidth": 0,
              "ticks": ""
             }
            },
            "type": "scatter3d"
           }
          ],
          "scattercarpet": [
           {
            "marker": {
             "colorbar": {
              "outlinewidth": 0,
              "ticks": ""
             }
            },
            "type": "scattercarpet"
           }
          ],
          "scattergeo": [
           {
            "marker": {
             "colorbar": {
              "outlinewidth": 0,
              "ticks": ""
             }
            },
            "type": "scattergeo"
           }
          ],
          "scattergl": [
           {
            "marker": {
             "colorbar": {
              "outlinewidth": 0,
              "ticks": ""
             }
            },
            "type": "scattergl"
           }
          ],
          "scattermapbox": [
           {
            "marker": {
             "colorbar": {
              "outlinewidth": 0,
              "ticks": ""
             }
            },
            "type": "scattermapbox"
           }
          ],
          "scatterpolar": [
           {
            "marker": {
             "colorbar": {
              "outlinewidth": 0,
              "ticks": ""
             }
            },
            "type": "scatterpolar"
           }
          ],
          "scatterpolargl": [
           {
            "marker": {
             "colorbar": {
              "outlinewidth": 0,
              "ticks": ""
             }
            },
            "type": "scatterpolargl"
           }
          ],
          "scatterternary": [
           {
            "marker": {
             "colorbar": {
              "outlinewidth": 0,
              "ticks": ""
             }
            },
            "type": "scatterternary"
           }
          ],
          "surface": [
           {
            "colorbar": {
             "outlinewidth": 0,
             "ticks": ""
            },
            "colorscale": [
             [
              0,
              "#0d0887"
             ],
             [
              0.1111111111111111,
              "#46039f"
             ],
             [
              0.2222222222222222,
              "#7201a8"
             ],
             [
              0.3333333333333333,
              "#9c179e"
             ],
             [
              0.4444444444444444,
              "#bd3786"
             ],
             [
              0.5555555555555556,
              "#d8576b"
             ],
             [
              0.6666666666666666,
              "#ed7953"
             ],
             [
              0.7777777777777778,
              "#fb9f3a"
             ],
             [
              0.8888888888888888,
              "#fdca26"
             ],
             [
              1,
              "#f0f921"
             ]
            ],
            "type": "surface"
           }
          ],
          "table": [
           {
            "cells": {
             "fill": {
              "color": "#EBF0F8"
             },
             "line": {
              "color": "white"
             }
            },
            "header": {
             "fill": {
              "color": "#C8D4E3"
             },
             "line": {
              "color": "white"
             }
            },
            "type": "table"
           }
          ]
         },
         "layout": {
          "annotationdefaults": {
           "arrowcolor": "#2a3f5f",
           "arrowhead": 0,
           "arrowwidth": 1
          },
          "autotypenumbers": "strict",
          "coloraxis": {
           "colorbar": {
            "outlinewidth": 0,
            "ticks": ""
           }
          },
          "colorscale": {
           "diverging": [
            [
             0,
             "#8e0152"
            ],
            [
             0.1,
             "#c51b7d"
            ],
            [
             0.2,
             "#de77ae"
            ],
            [
             0.3,
             "#f1b6da"
            ],
            [
             0.4,
             "#fde0ef"
            ],
            [
             0.5,
             "#f7f7f7"
            ],
            [
             0.6,
             "#e6f5d0"
            ],
            [
             0.7,
             "#b8e186"
            ],
            [
             0.8,
             "#7fbc41"
            ],
            [
             0.9,
             "#4d9221"
            ],
            [
             1,
             "#276419"
            ]
           ],
           "sequential": [
            [
             0,
             "#0d0887"
            ],
            [
             0.1111111111111111,
             "#46039f"
            ],
            [
             0.2222222222222222,
             "#7201a8"
            ],
            [
             0.3333333333333333,
             "#9c179e"
            ],
            [
             0.4444444444444444,
             "#bd3786"
            ],
            [
             0.5555555555555556,
             "#d8576b"
            ],
            [
             0.6666666666666666,
             "#ed7953"
            ],
            [
             0.7777777777777778,
             "#fb9f3a"
            ],
            [
             0.8888888888888888,
             "#fdca26"
            ],
            [
             1,
             "#f0f921"
            ]
           ],
           "sequentialminus": [
            [
             0,
             "#0d0887"
            ],
            [
             0.1111111111111111,
             "#46039f"
            ],
            [
             0.2222222222222222,
             "#7201a8"
            ],
            [
             0.3333333333333333,
             "#9c179e"
            ],
            [
             0.4444444444444444,
             "#bd3786"
            ],
            [
             0.5555555555555556,
             "#d8576b"
            ],
            [
             0.6666666666666666,
             "#ed7953"
            ],
            [
             0.7777777777777778,
             "#fb9f3a"
            ],
            [
             0.8888888888888888,
             "#fdca26"
            ],
            [
             1,
             "#f0f921"
            ]
           ]
          },
          "colorway": [
           "#636efa",
           "#EF553B",
           "#00cc96",
           "#ab63fa",
           "#FFA15A",
           "#19d3f3",
           "#FF6692",
           "#B6E880",
           "#FF97FF",
           "#FECB52"
          ],
          "font": {
           "color": "#2a3f5f"
          },
          "geo": {
           "bgcolor": "white",
           "lakecolor": "white",
           "landcolor": "#E5ECF6",
           "showlakes": true,
           "showland": true,
           "subunitcolor": "white"
          },
          "hoverlabel": {
           "align": "left"
          },
          "hovermode": "closest",
          "mapbox": {
           "style": "light"
          },
          "paper_bgcolor": "white",
          "plot_bgcolor": "#E5ECF6",
          "polar": {
           "angularaxis": {
            "gridcolor": "white",
            "linecolor": "white",
            "ticks": ""
           },
           "bgcolor": "#E5ECF6",
           "radialaxis": {
            "gridcolor": "white",
            "linecolor": "white",
            "ticks": ""
           }
          },
          "scene": {
           "xaxis": {
            "backgroundcolor": "#E5ECF6",
            "gridcolor": "white",
            "gridwidth": 2,
            "linecolor": "white",
            "showbackground": true,
            "ticks": "",
            "zerolinecolor": "white"
           },
           "yaxis": {
            "backgroundcolor": "#E5ECF6",
            "gridcolor": "white",
            "gridwidth": 2,
            "linecolor": "white",
            "showbackground": true,
            "ticks": "",
            "zerolinecolor": "white"
           },
           "zaxis": {
            "backgroundcolor": "#E5ECF6",
            "gridcolor": "white",
            "gridwidth": 2,
            "linecolor": "white",
            "showbackground": true,
            "ticks": "",
            "zerolinecolor": "white"
           }
          },
          "shapedefaults": {
           "line": {
            "color": "#2a3f5f"
           }
          },
          "ternary": {
           "aaxis": {
            "gridcolor": "white",
            "linecolor": "white",
            "ticks": ""
           },
           "baxis": {
            "gridcolor": "white",
            "linecolor": "white",
            "ticks": ""
           },
           "bgcolor": "#E5ECF6",
           "caxis": {
            "gridcolor": "white",
            "linecolor": "white",
            "ticks": ""
           }
          },
          "title": {
           "x": 0.05
          },
          "xaxis": {
           "automargin": true,
           "gridcolor": "white",
           "linecolor": "white",
           "ticks": "",
           "title": {
            "standoff": 15
           },
           "zerolinecolor": "white",
           "zerolinewidth": 2
          },
          "yaxis": {
           "automargin": true,
           "gridcolor": "white",
           "linecolor": "white",
           "ticks": "",
           "title": {
            "standoff": 15
           },
           "zerolinecolor": "white",
           "zerolinewidth": 2
          }
         }
        },
        "xaxis": {
         "anchor": "y",
         "domain": [
          0,
          1
         ],
         "title": {
          "text": "PC1"
         }
        },
        "yaxis": {
         "anchor": "x",
         "domain": [
          0,
          1
         ],
         "title": {
          "text": "PC2"
         }
        }
       }
      }
     },
     "metadata": {},
     "output_type": "display_data"
    }
   ],
   "source": [
    "#Remove DiFrancescoPhilippe and KedemRinat\n",
    "new_l2_pca = l2_pca.drop(['TolmanSusan_papers','LermanEugeneM_papers','ZaharescuAlexandru_papers','BocaFlorin-Petre_papers'])\n",
    "fig_newl2 = px.scatter(new_l2_pca, x='PC1', y='PC2', hover_name=new_l2_pca.index)\n",
    "fig_newl2.update_traces(marker=dict(size=5))\n",
    "fig_newl2.show()"
   ]
  },
  {
   "cell_type": "code",
   "execution_count": 207,
   "metadata": {},
   "outputs": [
    {
     "data": {
      "image/png": "[encoded data removed]",
      "text/plain": [
       "<Figure size 1000x600 with 1 Axes>"
      ]
     },
     "metadata": {},
     "output_type": "display_data"
    }
   ],
   "source": [
    "#K means to l1 pca\n",
    "from sklearn.cluster import KMeans\n",
    "inertia = []\n",
    "cluster_range = range(1, 11)  # considering 1 to 10 clusters\n",
    "\n",
    "for num_clusters in cluster_range:\n",
    "    kmeans = KMeans(n_clusters=num_clusters, n_init=10, random_state=42)\n",
    "    kmeans.fit(new_l1_pca)\n",
    "    inertia.append(kmeans.inertia_)\n",
    "\n",
    "# Plotting the sum of squared distances against the number of clusters\n",
    "plt.figure(figsize=(10, 6))\n",
    "plt.plot(cluster_range, inertia, marker='o', linestyle='--')\n",
    "plt.xlabel('Number of Clusters')\n",
    "plt.ylabel('Sum of Squared Distances')\n",
    "plt.title('Elbow Method for Optimal Number of Clusters l1')\n",
    "plt.grid(True)\n",
    "plt.show()"
   ]
  },
  {
   "cell_type": "code",
   "execution_count": 208,
   "metadata": {},
   "outputs": [
    {
     "data": {
      "image/png": "[encoded data removed]",
      "text/plain": [
       "<Figure size 1000x600 with 1 Axes>"
      ]
     },
     "metadata": {},
     "output_type": "display_data"
    }
   ],
   "source": [
    "#K means to l1 pca\n",
    "from sklearn.cluster import KMeans\n",
    "inertia = []\n",
    "cluster_range = range(1, 11)  # considering 1 to 10 clusters\n",
    "\n",
    "for num_clusters in cluster_range:\n",
    "    kmeans = KMeans(n_clusters=num_clusters, n_init= 10, random_state=42)\n",
    "    kmeans.fit(new_l2_pca)\n",
    "    inertia.append(kmeans.inertia_)\n",
    "\n",
    "# Plotting the sum of squared distances against the number of clusters\n",
    "plt.figure(figsize=(10, 6))\n",
    "plt.plot(cluster_range, inertia, marker='o', linestyle='--')\n",
    "plt.xlabel('Number of Clusters')\n",
    "plt.ylabel('Sum of Squared Distances')\n",
    "plt.title('Elbow Method for Optimal Number of Clusters l2')\n",
    "plt.grid(True)\n",
    "plt.show()"
   ]
  },
  {
   "cell_type": "code",
   "execution_count": 209,
   "metadata": {},
   "outputs": [
    {
     "data": {
      "application/vnd.plotly.v1+json": {
       "config": {
        "plotlyServerURL": "https://plot.ly"
       },
       "data": [
        {
         "customdata": [
          [
           "AhlgrenScottD_papers"
          ],
          [
           "AlbinPierre_papers"
          ],
          [
           "BaloghJózsef_papers"
          ],
          [
           "BaryshnikovYuliyM_papers"
          ],
          [
           "Berwick-EvansDaniel_papers"
          ],
          [
           "BocaFlorin-Petre_papers"
          ],
          [
           "BradlowStevenBenjamin_papers"
          ],
          [
           "BronskiJaredC_papers"
          ],
          [
           "CooneyDanielB_papers"
          ],
          [
           "DeVilleRELee_papers"
          ],
          [
           "DeyParthaSarathi_papers"
          ],
          [
           "DiFrancescoPhilippe_papers"
          ],
          [
           "DoddChristopher_papers"
          ],
          [
           "DunfieldNathanM_papers"
          ],
          [
           "DuttaSankarPrasad_papers"
          ],
          [
           "DuursmaIwanMaynard_papers"
          ],
          [
           "ErdoğanMehmetBurak_papers"
          ],
          [
           "FengRunhuan_papers"
          ],
          [
           "FernandesRuiLoja_papers"
          ],
          [
           "FordKevinB_papers"
          ],
          [
           "HaboushWilliamJ_papers"
          ],
          [
           "HellerJeremiahBen_papers"
          ],
          [
           "HinkkanenAimo_papers"
          ],
          [
           "HiraniAnilN_papers"
          ],
          [
           "HungPei-Ken_papers"
          ],
          [
           "HurVeraMikyoung_papers"
          ],
          [
           "IvanovSergeiVladimirovich_papers"
          ],
          [
           "JandaFelix_papers"
          ],
          [
           "JingXiaochen_papers"
          ],
          [
           "JungeMarius_papers"
          ],
          [
           "KatzSheldonH_papers"
          ],
          [
           "KedemRinat_papers"
          ],
          [
           "KermanEly_papers"
          ],
          [
           "KirkpatrickKayLene_papers"
          ],
          [
           "KirrEduard_papers"
          ],
          [
           "KostochkaAlexandrV_papers"
          ],
          [
           "KutzarovaDenkaN_papers"
          ],
          [
           "LaNaveGabriele_papers"
          ],
          [
           "LaugesenRichardSnyder_papers"
          ],
          [
           "LeditzkyFelix_papers"
          ],
          [
           "LermanEugeneM_papers"
          ],
          [
           "LiXiaochun_papers"
          ],
          [
           "LiuYuan_papers"
          ],
          [
           "McCarthyRandy_papers"
          ],
          [
           "MineyevIgor_papers"
          ],
          [
           "NikolaevIgorG_papers"
          ],
          [
           "OikhbergTimur_papers"
          ],
          [
           "PascaleffJamesThomas_papers"
          ],
          [
           "RaptiZoi_papers"
          ],
          [
           "RasmussenJacob_papers"
          ],
          [
           "RasmussenSarahDean_papers"
          ],
          [
           "RezkCharlesW_papers"
          ],
          [
           "ReznickBruce_papers"
          ],
          [
           "SongRenming_papers"
          ],
          [
           "SowersRichardB_papers"
          ],
          [
           "StojanoskaVesna_papers"
          ],
          [
           "ThornerJesse_papers"
          ],
          [
           "TolmanSusan_papers"
          ],
          [
           "TumanovAlexander_papers"
          ],
          [
           "TysonJeremyT_papers"
          ],
          [
           "TzirakisNikolaos_papers"
          ],
          [
           "WuXuan_papers"
          ],
          [
           "YongAlexanderTF_papers"
          ],
          [
           "YoungAmanda_papers"
          ],
          [
           "ZaharescuAlexandru_papers"
          ],
          [
           "ZharnitskyVadim_papers"
          ]
         ],
         "hovertemplate": "Component 1=%{x}<br>Component 2=%{y}<br>Point Name=%{customdata[0]}<br>Cluster=%{marker.color}<extra></extra>",
         "legendgroup": "",
         "marker": {
          "color": [
           1,
           1,
           1,
           1,
           1,
           1,
           1,
           1,
           1,
           1,
           1,
           1,
           1,
           1,
           2,
           1,
           1,
           1,
           1,
           1,
           1,
           1,
           1,
           1,
           0,
           1,
           1,
           1,
           1,
           1,
           1,
           1,
           1,
           1,
           1,
           1,
           1,
           1,
           1,
           1,
           1,
           1,
           1,
           1,
           1,
           2,
           1,
           1,
           1,
           1,
           1,
           1,
           1,
           1,
           1,
           1,
           1,
           1,
           1,
           1,
           1,
           1,
           1,
           1,
           1,
           1
          ],
          "coloraxis": "coloraxis",
          "symbol": "circle"
         },
         "mode": "markers",
         "name": "",
         "orientation": "v",
         "showlegend": false,
         "type": "scatter",
         "x": [
          -0.008255909324881378,
          -0.008966961111176137,
          -0.007660085210969574,
          -0.008763500410295966,
          -0.00873110710502534,
          -0.007848907241649265,
          -0.01007918223105897,
          -0.00789153498422631,
          -0.017656421620285294,
          -0.007576154376514057,
          -0.008674192561936215,
          -0.008052476628160159,
          -0.012564849444478823,
          -0.009087282620074731,
          -0.028540654704628982,
          -0.011466166085023979,
          -0.008161296329081828,
          -0.005565546219149264,
          -0.00947758186521474,
          -0.007863837010733683,
          -0.01770354544157399,
          -0.008916433874360079,
          -0.008485391827374233,
          -0.009096314846614752,
          -0.01881141675555114,
          -0.00813819771796362,
          -0.011156128743088337,
          -0.01000245504564998,
          -0.003469681062997641,
          -0.007954177941826698,
          -0.010189799876933832,
          -0.008036418605644476,
          -0.0091314587543585,
          -0.008297239249387807,
          -0.00867111859853929,
          -0.007754608117638855,
          -0.00802078987017522,
          -0.01081036417309743,
          -0.007520998664317276,
          -0.008197281903514032,
          -0.008485898576894003,
          -0.009189015623023678,
          -0.009723309911734208,
          -0.010773824980571094,
          -0.010383952803375394,
          -0.027352358378286225,
          -0.008033474832020906,
          -0.009792705128234458,
          -0.007917085573212086,
          -0.00837501435459923,
          -0.008603225113702826,
          -0.008822129203583006,
          -0.00866505577047831,
          -0.008475376679469165,
          -0.0030113292676715066,
          -0.00916130439434571,
          -0.00821510955307064,
          -0.008924764275944063,
          -0.00964965645801202,
          -0.009565449108690538,
          -0.0082236571729008,
          -0.00534517243009431,
          -0.009338844745021425,
          -0.0033542385474789656,
          -0.007921494100650945,
          -0.008346207138974273
         ],
         "xaxis": "x",
         "y": [
          -0.0046690503393752684,
          -0.00412078089495609,
          -0.004283699097283764,
          -0.0018198948971399512,
          -0.005170253957278893,
          -0.004342210119140703,
          -0.006994444153985967,
          -0.004393343948707697,
          -0.018462580921924092,
          -0.004366912631556176,
          -0.005170476218608148,
          -0.004496495383128433,
          -0.016376859477897545,
          0.004236784849338264,
          -0.08057270615537283,
          -0.01101689381764843,
          -0.004579875312491799,
          -0.0048751886938286715,
          -0.005745693098754621,
          -0.004341572302834691,
          -0.03343428592046071,
          -0.0055687166760292955,
          -0.004591009962336521,
          -0.005239826395066775,
          0.07880143425250759,
          -0.004574223168861259,
          0.020770524466167794,
          -0.007082938880221941,
          -0.0046717313162565515,
          -0.004490791785538244,
          -0.009516179566387499,
          -0.004490309814602361,
          -0.005434804564375907,
          -0.004708355378242075,
          -0.004979001719318335,
          -0.004255455964417594,
          -0.004460056848781557,
          -0.008366859332071666,
          -0.005306803341179225,
          -0.004705621716239534,
          -0.005039372851136286,
          -0.005402401986085465,
          -0.005412232558365927,
          -0.007620169597521346,
          0.0042536421599393736,
          -0.07762131750994603,
          -0.004476617046887353,
          -0.007026277953351882,
          -0.004427687525202504,
          -0.0047413394701042826,
          -0.004657440034517394,
          -0.0052975232008575035,
          -0.004967795448758825,
          -0.004928020802324613,
          -0.005151527013154558,
          -0.0062284113753139645,
          -0.004617867308755655,
          -0.005379645174022365,
          -0.005879965182638907,
          -0.005178135628624113,
          -0.004379126982628937,
          -0.006142915602987613,
          -0.0077252236838716406,
          -0.007221120431058175,
          -0.00452487111740289,
          -0.004695842149165775
         ],
         "yaxis": "y"
        }
       ],
       "layout": {
        "coloraxis": {
         "colorbar": {
          "title": {
           "text": "Cluster"
          }
         },
         "colorscale": [
          [
           0,
           "#0d0887"
          ],
          [
           0.1111111111111111,
           "#46039f"
          ],
          [
           0.2222222222222222,
           "#7201a8"
          ],
          [
           0.3333333333333333,
           "#9c179e"
          ],
          [
           0.4444444444444444,
           "#bd3786"
          ],
          [
           0.5555555555555556,
           "#d8576b"
          ],
          [
           0.6666666666666666,
           "#ed7953"
          ],
          [
           0.7777777777777778,
           "#fb9f3a"
          ],
          [
           0.8888888888888888,
           "#fdca26"
          ],
          [
           1,
           "#f0f921"
          ]
         ]
        },
        "legend": {
         "tracegroupgap": 0
        },
        "template": {
         "data": {
          "bar": [
           {
            "error_x": {
             "color": "#2a3f5f"
            },
            "error_y": {
             "color": "#2a3f5f"
            },
            "marker": {
             "line": {
              "color": "#E5ECF6",
              "width": 0.5
             },
             "pattern": {
              "fillmode": "overlay",
              "size": 10,
              "solidity": 0.2
             }
            },
            "type": "bar"
           }
          ],
          "barpolar": [
           {
            "marker": {
             "line": {
              "color": "#E5ECF6",
              "width": 0.5
             },
             "pattern": {
              "fillmode": "overlay",
              "size": 10,
              "solidity": 0.2
             }
            },
            "type": "barpolar"
           }
          ],
          "carpet": [
           {
            "aaxis": {
             "endlinecolor": "#2a3f5f",
             "gridcolor": "white",
             "linecolor": "white",
             "minorgridcolor": "white",
             "startlinecolor": "#2a3f5f"
            },
            "baxis": {
             "endlinecolor": "#2a3f5f",
             "gridcolor": "white",
             "linecolor": "white",
             "minorgridcolor": "white",
             "startlinecolor": "#2a3f5f"
            },
            "type": "carpet"
           }
          ],
          "choropleth": [
           {
            "colorbar": {
             "outlinewidth": 0,
             "ticks": ""
            },
            "type": "choropleth"
           }
          ],
          "contour": [
           {
            "colorbar": {
             "outlinewidth": 0,
             "ticks": ""
            },
            "colorscale": [
             [
              0,
              "#0d0887"
             ],
             [
              0.1111111111111111,
              "#46039f"
             ],
             [
              0.2222222222222222,
              "#7201a8"
             ],
             [
              0.3333333333333333,
              "#9c179e"
             ],
             [
              0.4444444444444444,
              "#bd3786"
             ],
             [
              0.5555555555555556,
              "#d8576b"
             ],
             [
              0.6666666666666666,
              "#ed7953"
             ],
             [
              0.7777777777777778,
              "#fb9f3a"
             ],
             [
              0.8888888888888888,
              "#fdca26"
             ],
             [
              1,
              "#f0f921"
             ]
            ],
            "type": "contour"
           }
          ],
          "contourcarpet": [
           {
            "colorbar": {
             "outlinewidth": 0,
             "ticks": ""
            },
            "type": "contourcarpet"
           }
          ],
          "heatmap": [
           {
            "colorbar": {
             "outlinewidth": 0,
             "ticks": ""
            },
            "colorscale": [
             [
              0,
              "#0d0887"
             ],
             [
              0.1111111111111111,
              "#46039f"
             ],
             [
              0.2222222222222222,
              "#7201a8"
             ],
             [
              0.3333333333333333,
              "#9c179e"
             ],
             [
              0.4444444444444444,
              "#bd3786"
             ],
             [
              0.5555555555555556,
              "#d8576b"
             ],
             [
              0.6666666666666666,
              "#ed7953"
             ],
             [
              0.7777777777777778,
              "#fb9f3a"
             ],
             [
              0.8888888888888888,
              "#fdca26"
             ],
             [
              1,
              "#f0f921"
             ]
            ],
            "type": "heatmap"
           }
          ],
          "heatmapgl": [
           {
            "colorbar": {
             "outlinewidth": 0,
             "ticks": ""
            },
            "colorscale": [
             [
              0,
              "#0d0887"
             ],
             [
              0.1111111111111111,
              "#46039f"
             ],
             [
              0.2222222222222222,
              "#7201a8"
             ],
             [
              0.3333333333333333,
              "#9c179e"
             ],
             [
              0.4444444444444444,
              "#bd3786"
             ],
             [
              0.5555555555555556,
              "#d8576b"
             ],
             [
              0.6666666666666666,
              "#ed7953"
             ],
             [
              0.7777777777777778,
              "#fb9f3a"
             ],
             [
              0.8888888888888888,
              "#fdca26"
             ],
             [
              1,
              "#f0f921"
             ]
            ],
            "type": "heatmapgl"
           }
          ],
          "histogram": [
           {
            "marker": {
             "pattern": {
              "fillmode": "overlay",
              "size": 10,
              "solidity": 0.2
             }
            },
            "type": "histogram"
           }
          ],
          "histogram2d": [
           {
            "colorbar": {
             "outlinewidth": 0,
             "ticks": ""
            },
            "colorscale": [
             [
              0,
              "#0d0887"
             ],
             [
              0.1111111111111111,
              "#46039f"
             ],
             [
              0.2222222222222222,
              "#7201a8"
             ],
             [
              0.3333333333333333,
              "#9c179e"
             ],
             [
              0.4444444444444444,
              "#bd3786"
             ],
             [
              0.5555555555555556,
              "#d8576b"
             ],
             [
              0.6666666666666666,
              "#ed7953"
             ],
             [
              0.7777777777777778,
              "#fb9f3a"
             ],
             [
              0.8888888888888888,
              "#fdca26"
             ],
             [
              1,
              "#f0f921"
             ]
            ],
            "type": "histogram2d"
           }
          ],
          "histogram2dcontour": [
           {
            "colorbar": {
             "outlinewidth": 0,
             "ticks": ""
            },
            "colorscale": [
             [
              0,
              "#0d0887"
             ],
             [
              0.1111111111111111,
              "#46039f"
             ],
             [
              0.2222222222222222,
              "#7201a8"
             ],
             [
              0.3333333333333333,
              "#9c179e"
             ],
             [
              0.4444444444444444,
              "#bd3786"
             ],
             [
              0.5555555555555556,
              "#d8576b"
             ],
             [
              0.6666666666666666,
              "#ed7953"
             ],
             [
              0.7777777777777778,
              "#fb9f3a"
             ],
             [
              0.8888888888888888,
              "#fdca26"
             ],
             [
              1,
              "#f0f921"
             ]
            ],
            "type": "histogram2dcontour"
           }
          ],
          "mesh3d": [
           {
            "colorbar": {
             "outlinewidth": 0,
             "ticks": ""
            },
            "type": "mesh3d"
           }
          ],
          "parcoords": [
           {
            "line": {
             "colorbar": {
              "outlinewidth": 0,
              "ticks": ""
             }
            },
            "type": "parcoords"
           }
          ],
          "pie": [
           {
            "automargin": true,
            "type": "pie"
           }
          ],
          "scatter": [
           {
            "fillpattern": {
             "fillmode": "overlay",
             "size": 10,
             "solidity": 0.2
            },
            "type": "scatter"
           }
          ],
          "scatter3d": [
           {
            "line": {
             "colorbar": {
              "outlinewidth": 0,
              "ticks": ""
             }
            },
            "marker": {
             "colorbar": {
              "outlinewidth": 0,
              "ticks": ""
             }
            },
            "type": "scatter3d"
           }
          ],
          "scattercarpet": [
           {
            "marker": {
             "colorbar": {
              "outlinewidth": 0,
              "ticks": ""
             }
            },
            "type": "scattercarpet"
           }
          ],
          "scattergeo": [
           {
            "marker": {
             "colorbar": {
              "outlinewidth": 0,
              "ticks": ""
             }
            },
            "type": "scattergeo"
           }
          ],
          "scattergl": [
           {
            "marker": {
             "colorbar": {
              "outlinewidth": 0,
              "ticks": ""
             }
            },
            "type": "scattergl"
           }
          ],
          "scattermapbox": [
           {
            "marker": {
             "colorbar": {
              "outlinewidth": 0,
              "ticks": ""
             }
            },
            "type": "scattermapbox"
           }
          ],
          "scatterpolar": [
           {
            "marker": {
             "colorbar": {
              "outlinewidth": 0,
              "ticks": ""
             }
            },
            "type": "scatterpolar"
           }
          ],
          "scatterpolargl": [
           {
            "marker": {
             "colorbar": {
              "outlinewidth": 0,
              "ticks": ""
             }
            },
            "type": "scatterpolargl"
           }
          ],
          "scatterternary": [
           {
            "marker": {
             "colorbar": {
              "outlinewidth": 0,
              "ticks": ""
             }
            },
            "type": "scatterternary"
           }
          ],
          "surface": [
           {
            "colorbar": {
             "outlinewidth": 0,
             "ticks": ""
            },
            "colorscale": [
             [
              0,
              "#0d0887"
             ],
             [
              0.1111111111111111,
              "#46039f"
             ],
             [
              0.2222222222222222,
              "#7201a8"
             ],
             [
              0.3333333333333333,
              "#9c179e"
             ],
             [
              0.4444444444444444,
              "#bd3786"
             ],
             [
              0.5555555555555556,
              "#d8576b"
             ],
             [
              0.6666666666666666,
              "#ed7953"
             ],
             [
              0.7777777777777778,
              "#fb9f3a"
             ],
             [
              0.8888888888888888,
              "#fdca26"
             ],
             [
              1,
              "#f0f921"
             ]
            ],
            "type": "surface"
           }
          ],
          "table": [
           {
            "cells": {
             "fill": {
              "color": "#EBF0F8"
             },
             "line": {
              "color": "white"
             }
            },
            "header": {
             "fill": {
              "color": "#C8D4E3"
             },
             "line": {
              "color": "white"
             }
            },
            "type": "table"
           }
          ]
         },
         "layout": {
          "annotationdefaults": {
           "arrowcolor": "#2a3f5f",
           "arrowhead": 0,
           "arrowwidth": 1
          },
          "autotypenumbers": "strict",
          "coloraxis": {
           "colorbar": {
            "outlinewidth": 0,
            "ticks": ""
           }
          },
          "colorscale": {
           "diverging": [
            [
             0,
             "#8e0152"
            ],
            [
             0.1,
             "#c51b7d"
            ],
            [
             0.2,
             "#de77ae"
            ],
            [
             0.3,
             "#f1b6da"
            ],
            [
             0.4,
             "#fde0ef"
            ],
            [
             0.5,
             "#f7f7f7"
            ],
            [
             0.6,
             "#e6f5d0"
            ],
            [
             0.7,
             "#b8e186"
            ],
            [
             0.8,
             "#7fbc41"
            ],
            [
             0.9,
             "#4d9221"
            ],
            [
             1,
             "#276419"
            ]
           ],
           "sequential": [
            [
             0,
             "#0d0887"
            ],
            [
             0.1111111111111111,
             "#46039f"
            ],
            [
             0.2222222222222222,
             "#7201a8"
            ],
            [
             0.3333333333333333,
             "#9c179e"
            ],
            [
             0.4444444444444444,
             "#bd3786"
            ],
            [
             0.5555555555555556,
             "#d8576b"
            ],
            [
             0.6666666666666666,
             "#ed7953"
            ],
            [
             0.7777777777777778,
             "#fb9f3a"
            ],
            [
             0.8888888888888888,
             "#fdca26"
            ],
            [
             1,
             "#f0f921"
            ]
           ],
           "sequentialminus": [
            [
             0,
             "#0d0887"
            ],
            [
             0.1111111111111111,
             "#46039f"
            ],
            [
             0.2222222222222222,
             "#7201a8"
            ],
            [
             0.3333333333333333,
             "#9c179e"
            ],
            [
             0.4444444444444444,
             "#bd3786"
            ],
            [
             0.5555555555555556,
             "#d8576b"
            ],
            [
             0.6666666666666666,
             "#ed7953"
            ],
            [
             0.7777777777777778,
             "#fb9f3a"
            ],
            [
             0.8888888888888888,
             "#fdca26"
            ],
            [
             1,
             "#f0f921"
            ]
           ]
          },
          "colorway": [
           "#636efa",
           "#EF553B",
           "#00cc96",
           "#ab63fa",
           "#FFA15A",
           "#19d3f3",
           "#FF6692",
           "#B6E880",
           "#FF97FF",
           "#FECB52"
          ],
          "font": {
           "color": "#2a3f5f"
          },
          "geo": {
           "bgcolor": "white",
           "lakecolor": "white",
           "landcolor": "#E5ECF6",
           "showlakes": true,
           "showland": true,
           "subunitcolor": "white"
          },
          "hoverlabel": {
           "align": "left"
          },
          "hovermode": "closest",
          "mapbox": {
           "style": "light"
          },
          "paper_bgcolor": "white",
          "plot_bgcolor": "#E5ECF6",
          "polar": {
           "angularaxis": {
            "gridcolor": "white",
            "linecolor": "white",
            "ticks": ""
           },
           "bgcolor": "#E5ECF6",
           "radialaxis": {
            "gridcolor": "white",
            "linecolor": "white",
            "ticks": ""
           }
          },
          "scene": {
           "xaxis": {
            "backgroundcolor": "#E5ECF6",
            "gridcolor": "white",
            "gridwidth": 2,
            "linecolor": "white",
            "showbackground": true,
            "ticks": "",
            "zerolinecolor": "white"
           },
           "yaxis": {
            "backgroundcolor": "#E5ECF6",
            "gridcolor": "white",
            "gridwidth": 2,
            "linecolor": "white",
            "showbackground": true,
            "ticks": "",
            "zerolinecolor": "white"
           },
           "zaxis": {
            "backgroundcolor": "#E5ECF6",
            "gridcolor": "white",
            "gridwidth": 2,
            "linecolor": "white",
            "showbackground": true,
            "ticks": "",
            "zerolinecolor": "white"
           }
          },
          "shapedefaults": {
           "line": {
            "color": "#2a3f5f"
           }
          },
          "ternary": {
           "aaxis": {
            "gridcolor": "white",
            "linecolor": "white",
            "ticks": ""
           },
           "baxis": {
            "gridcolor": "white",
            "linecolor": "white",
            "ticks": ""
           },
           "bgcolor": "#E5ECF6",
           "caxis": {
            "gridcolor": "white",
            "linecolor": "white",
            "ticks": ""
           }
          },
          "title": {
           "x": 0.05
          },
          "xaxis": {
           "automargin": true,
           "gridcolor": "white",
           "linecolor": "white",
           "ticks": "",
           "title": {
            "standoff": 15
           },
           "zerolinecolor": "white",
           "zerolinewidth": 2
          },
          "yaxis": {
           "automargin": true,
           "gridcolor": "white",
           "linecolor": "white",
           "ticks": "",
           "title": {
            "standoff": 15
           },
           "zerolinecolor": "white",
           "zerolinewidth": 2
          }
         }
        },
        "title": {
         "text": "KMeans Clustering of References l1"
        },
        "xaxis": {
         "anchor": "y",
         "domain": [
          0,
          1
         ],
         "title": {
          "text": "Component 1"
         }
        },
        "yaxis": {
         "anchor": "x",
         "domain": [
          0,
          1
         ],
         "title": {
          "text": "Component 2"
         }
        }
       }
      }
     },
     "metadata": {},
     "output_type": "display_data"
    }
   ],
   "source": [
    "import plotly.express as px\n",
    "import pandas as pd\n",
    "\n",
    "# Assuming l1_pca is your PCA-transformed data in pandas DataFrame format\n",
    "data_to_cluster = new_l1_pca\n",
    "\n",
    "# Convert the DataFrame to a numpy array for KMeans fitting\n",
    "data_to_cluster_np = data_to_cluster.values\n",
    "\n",
    "# Fit the KMeans model\n",
    "kmeans = KMeans(n_clusters=3, n_init= 10, random_state= 40)\n",
    "kmeans.fit(data_to_cluster_np)\n",
    "\n",
    "# Get the cluster labels\n",
    "labels = kmeans.labels_\n",
    "\n",
    "# Create a DataFrame for plotting with plotly\n",
    "df_plot = pd.DataFrame(data_to_cluster_np, columns=['Component 1', 'Component 2'])\n",
    "df_plot['Cluster'] = labels\n",
    "df_plot['Point Name'] = data_to_cluster.index  # This assumes the original DataFrame has meaningful row labels\n",
    "\n",
    "# Create an interactive scatter plot\n",
    "fig = px.scatter(df_plot, x='Component 1', y='Component 2', color='Cluster', \n",
    "                 hover_data=['Point Name'], \n",
    "                 title='KMeans Clustering of References l1')\n",
    "\n",
    "# Display the plot\n",
    "fig.show()\n"
   ]
  },
  {
   "cell_type": "code",
   "execution_count": 210,
   "metadata": {},
   "outputs": [
    {
     "data": {
      "application/vnd.plotly.v1+json": {
       "config": {
        "plotlyServerURL": "https://plot.ly"
       },
       "data": [
        {
         "customdata": [
          [
           "AhlgrenScottD_papers"
          ],
          [
           "AlbinPierre_papers"
          ],
          [
           "BaloghJózsef_papers"
          ],
          [
           "BaryshnikovYuliyM_papers"
          ],
          [
           "Berwick-EvansDaniel_papers"
          ],
          [
           "BradlowStevenBenjamin_papers"
          ],
          [
           "BronskiJaredC_papers"
          ],
          [
           "CooneyDanielB_papers"
          ],
          [
           "DeVilleRELee_papers"
          ],
          [
           "DeyParthaSarathi_papers"
          ],
          [
           "DiFrancescoPhilippe_papers"
          ],
          [
           "DoddChristopher_papers"
          ],
          [
           "DunfieldNathanM_papers"
          ],
          [
           "DuttaSankarPrasad_papers"
          ],
          [
           "DuursmaIwanMaynard_papers"
          ],
          [
           "ErdoğanMehmetBurak_papers"
          ],
          [
           "FadinaTolulope_papers"
          ],
          [
           "FengRunhuan_papers"
          ],
          [
           "FernandesRuiLoja_papers"
          ],
          [
           "FordKevinB_papers"
          ],
          [
           "GuzmanRosemaryK_papers"
          ],
          [
           "HaboushWilliamJ_papers"
          ],
          [
           "HellerJeremiahBen_papers"
          ],
          [
           "HinkkanenAimo_papers"
          ],
          [
           "HiraniAnilN_papers"
          ],
          [
           "HungPei-Ken_papers"
          ],
          [
           "HurVeraMikyoung_papers"
          ],
          [
           "IvanovSergeiVladimirovich_papers"
          ],
          [
           "JandaFelix_papers"
          ],
          [
           "JingXiaochen_papers"
          ],
          [
           "JungeMarius_papers"
          ],
          [
           "KatzSheldonH_papers"
          ],
          [
           "KedemRinat_papers"
          ],
          [
           "KermanEly_papers"
          ],
          [
           "KirkpatrickKayLene_papers"
          ],
          [
           "KirrEduard_papers"
          ],
          [
           "KostochkaAlexandrV_papers"
          ],
          [
           "KutzarovaDenkaN_papers"
          ],
          [
           "LaNaveGabriele_papers"
          ],
          [
           "LaugesenRichardSnyder_papers"
          ],
          [
           "LeditzkyFelix_papers"
          ],
          [
           "LiXiaochun_papers"
          ],
          [
           "LiuYuan_papers"
          ],
          [
           "McCarthyRandy_papers"
          ],
          [
           "MineyevIgor_papers"
          ],
          [
           "NikolaevIgorG_papers"
          ],
          [
           "OikhbergTimur_papers"
          ],
          [
           "PascaleffJamesThomas_papers"
          ],
          [
           "RaptiZoi_papers"
          ],
          [
           "RasmussenJacob_papers"
          ],
          [
           "RasmussenSarahDean_papers"
          ],
          [
           "RezkCharlesW_papers"
          ],
          [
           "ReznickBruce_papers"
          ],
          [
           "SongRenming_papers"
          ],
          [
           "SowersRichardB_papers"
          ],
          [
           "StojanoskaVesna_papers"
          ],
          [
           "ThornerJesse_papers"
          ],
          [
           "TumanovAlexander_papers"
          ],
          [
           "TysonJeremyT_papers"
          ],
          [
           "TzirakisNikolaos_papers"
          ],
          [
           "WeiWei_papers"
          ],
          [
           "WuXuan_papers"
          ],
          [
           "YongAlexanderTF_papers"
          ],
          [
           "YoungAmanda_papers"
          ],
          [
           "ZharnitskyVadim_papers"
          ]
         ],
         "hovertemplate": "Component 1=%{x}<br>Component 2=%{y}<br>Point Name=%{customdata[0]}<br>Cluster=%{marker.color}<extra></extra>",
         "legendgroup": "",
         "marker": {
          "color": [
           3,
           2,
           2,
           2,
           1,
           1,
           0,
           2,
           0,
           2,
           3,
           1,
           3,
           1,
           1,
           0,
           2,
           3,
           1,
           3,
           2,
           1,
           1,
           2,
           2,
           2,
           0,
           3,
           1,
           3,
           3,
           1,
           3,
           1,
           2,
           0,
           2,
           3,
           1,
           2,
           2,
           0,
           2,
           1,
           3,
           2,
           3,
           1,
           0,
           3,
           3,
           1,
           2,
           2,
           2,
           1,
           3,
           1,
           2,
           0,
           2,
           2,
           1,
           2,
           0
          ],
          "coloraxis": "coloraxis",
          "symbol": "circle"
         },
         "mode": "markers",
         "name": "",
         "orientation": "v",
         "showlegend": false,
         "type": "scatter",
         "x": [
          -0.06552932773541383,
          -0.033860349303478816,
          0.030052534535313778,
          0.10064958423236152,
          -0.1146318297576495,
          -0.06961504830305391,
          0.34530472503271603,
          0.015696875854986247,
          0.1688000407006684,
          0.023211132934272426,
          -0.12071549227058195,
          -0.13783524391593363,
          -0.11481603880357331,
          -0.10520722011557092,
          -0.1632372011634757,
          0.6082650558659083,
          0.00012785366750900948,
          -0.019799939448494865,
          -0.053761337803996584,
          -0.03261685972120278,
          -0.02593205704015198,
          -0.0872291290866491,
          -0.2323171517893346,
          0.0085414795641729,
          0.06921995710346192,
          -0.002602537056483389,
          0.28055027730510723,
          -0.07827202146875682,
          -0.10859570962693926,
          -0.02300144572071538,
          0.02724254147064027,
          -0.18812820023123858,
          -0.12236643699866707,
          -0.029962832168519058,
          0.16828629426691258,
          0.312203276315008,
          0.023900935959608606,
          0.009837109937336445,
          -0.10829775215176113,
          0.1043732754886045,
          -0.024158076616541,
          0.2709087452277854,
          -0.11917456828983153,
          -0.2062008815523557,
          -0.07249587946175419,
          -0.014744951543125176,
          0.02736001905262325,
          -0.1347770320018684,
          0.2100256322464012,
          -0.11777746251237396,
          -0.08707572643091675,
          -0.3293466007071154,
          -0.009394540717006314,
          0.03648149029643434,
          0.05678766878624508,
          -0.3453266250107856,
          -0.02571239153081455,
          0.037486560380741864,
          0.06446591015401992,
          0.5825076103918886,
          -0.0023831321187200247,
          -0.016182808966945336,
          -0.06951329185161005,
          0.03274657885890865,
          0.3698439316315504
         ],
         "xaxis": "x",
         "y": [
          -0.12710226398084273,
          0.061594083483985144,
          -0.07273313678137394,
          0.09050588551357125,
          0.159725601876546,
          0.11379795175010093,
          0.1672326551098694,
          -0.010432467945652446,
          0.13402186331541036,
          -0.035554617562971735,
          -0.16222537445724258,
          0.08857217945622292,
          -0.21189853006294812,
          0.054484920131667676,
          0.06114126944473393,
          0.07878409492092041,
          -0.07624936648422502,
          -0.16770087147686938,
          0.18201841508082225,
          -0.22970172839329683,
          -0.08271001000506738,
          0.05355558572435284,
          0.1829794895581278,
          -0.037208237095878054,
          0.03256606731880148,
          -0.03561864029489237,
          0.11618735503105171,
          -0.22423752393141097,
          0.08065550106498154,
          -0.16608680166607145,
          -0.22906795802750832,
          0.17699663127793608,
          -0.16692184494249238,
          0.16689470167601206,
          0.006525753713687019,
          0.07005309943459334,
          -0.06968869894407184,
          -0.17139876403787455,
          0.2411408814370724,
          -0.023558729410992907,
          -0.044685127959842384,
          -0.02937154798353368,
          -0.035008315099935655,
          0.17471331536704288,
          -0.21427615166743286,
          -0.01260442974469212,
          -0.25867948835465016,
          0.09223215900998338,
          0.09147940837734857,
          -0.20358091326101008,
          -0.19831848115722925,
          0.2824030763062647,
          -0.07114234404426452,
          -0.041456027860441384,
          0.0015858071820822122,
          0.26177643858593624,
          -0.18058810099766498,
          0.16815866301950036,
          -0.037619861339183595,
          0.06891747409716127,
          -0.08168492665035591,
          -0.015406266602515317,
          0.06468852048396871,
          -0.023928527056292642,
          0.11178774139203514
         ],
         "yaxis": "y"
        }
       ],
       "layout": {
        "coloraxis": {
         "colorbar": {
          "title": {
           "text": "Cluster"
          }
         },
         "colorscale": [
          [
           0,
           "#0d0887"
          ],
          [
           0.1111111111111111,
           "#46039f"
          ],
          [
           0.2222222222222222,
           "#7201a8"
          ],
          [
           0.3333333333333333,
           "#9c179e"
          ],
          [
           0.4444444444444444,
           "#bd3786"
          ],
          [
           0.5555555555555556,
           "#d8576b"
          ],
          [
           0.6666666666666666,
           "#ed7953"
          ],
          [
           0.7777777777777778,
           "#fb9f3a"
          ],
          [
           0.8888888888888888,
           "#fdca26"
          ],
          [
           1,
           "#f0f921"
          ]
         ]
        },
        "legend": {
         "tracegroupgap": 0
        },
        "template": {
         "data": {
          "bar": [
           {
            "error_x": {
             "color": "#2a3f5f"
            },
            "error_y": {
             "color": "#2a3f5f"
            },
            "marker": {
             "line": {
              "color": "#E5ECF6",
              "width": 0.5
             },
             "pattern": {
              "fillmode": "overlay",
              "size": 10,
              "solidity": 0.2
             }
            },
            "type": "bar"
           }
          ],
          "barpolar": [
           {
            "marker": {
             "line": {
              "color": "#E5ECF6",
              "width": 0.5
             },
             "pattern": {
              "fillmode": "overlay",
              "size": 10,
              "solidity": 0.2
             }
            },
            "type": "barpolar"
           }
          ],
          "carpet": [
           {
            "aaxis": {
             "endlinecolor": "#2a3f5f",
             "gridcolor": "white",
             "linecolor": "white",
             "minorgridcolor": "white",
             "startlinecolor": "#2a3f5f"
            },
            "baxis": {
             "endlinecolor": "#2a3f5f",
             "gridcolor": "white",
             "linecolor": "white",
             "minorgridcolor": "white",
             "startlinecolor": "#2a3f5f"
            },
            "type": "carpet"
           }
          ],
          "choropleth": [
           {
            "colorbar": {
             "outlinewidth": 0,
             "ticks": ""
            },
            "type": "choropleth"
           }
          ],
          "contour": [
           {
            "colorbar": {
             "outlinewidth": 0,
             "ticks": ""
            },
            "colorscale": [
             [
              0,
              "#0d0887"
             ],
             [
              0.1111111111111111,
              "#46039f"
             ],
             [
              0.2222222222222222,
              "#7201a8"
             ],
             [
              0.3333333333333333,
              "#9c179e"
             ],
             [
              0.4444444444444444,
              "#bd3786"
             ],
             [
              0.5555555555555556,
              "#d8576b"
             ],
             [
              0.6666666666666666,
              "#ed7953"
             ],
             [
              0.7777777777777778,
              "#fb9f3a"
             ],
             [
              0.8888888888888888,
              "#fdca26"
             ],
             [
              1,
              "#f0f921"
             ]
            ],
            "type": "contour"
           }
          ],
          "contourcarpet": [
           {
            "colorbar": {
             "outlinewidth": 0,
             "ticks": ""
            },
            "type": "contourcarpet"
           }
          ],
          "heatmap": [
           {
            "colorbar": {
             "outlinewidth": 0,
             "ticks": ""
            },
            "colorscale": [
             [
              0,
              "#0d0887"
             ],
             [
              0.1111111111111111,
              "#46039f"
             ],
             [
              0.2222222222222222,
              "#7201a8"
             ],
             [
              0.3333333333333333,
              "#9c179e"
             ],
             [
              0.4444444444444444,
              "#bd3786"
             ],
             [
              0.5555555555555556,
              "#d8576b"
             ],
             [
              0.6666666666666666,
              "#ed7953"
             ],
             [
              0.7777777777777778,
              "#fb9f3a"
             ],
             [
              0.8888888888888888,
              "#fdca26"
             ],
             [
              1,
              "#f0f921"
             ]
            ],
            "type": "heatmap"
           }
          ],
          "heatmapgl": [
           {
            "colorbar": {
             "outlinewidth": 0,
             "ticks": ""
            },
            "colorscale": [
             [
              0,
              "#0d0887"
             ],
             [
              0.1111111111111111,
              "#46039f"
             ],
             [
              0.2222222222222222,
              "#7201a8"
             ],
             [
              0.3333333333333333,
              "#9c179e"
             ],
             [
              0.4444444444444444,
              "#bd3786"
             ],
             [
              0.5555555555555556,
              "#d8576b"
             ],
             [
              0.6666666666666666,
              "#ed7953"
             ],
             [
              0.7777777777777778,
              "#fb9f3a"
             ],
             [
              0.8888888888888888,
              "#fdca26"
             ],
             [
              1,
              "#f0f921"
             ]
            ],
            "type": "heatmapgl"
           }
          ],
          "histogram": [
           {
            "marker": {
             "pattern": {
              "fillmode": "overlay",
              "size": 10,
              "solidity": 0.2
             }
            },
            "type": "histogram"
           }
          ],
          "histogram2d": [
           {
            "colorbar": {
             "outlinewidth": 0,
             "ticks": ""
            },
            "colorscale": [
             [
              0,
              "#0d0887"
             ],
             [
              0.1111111111111111,
              "#46039f"
             ],
             [
              0.2222222222222222,
              "#7201a8"
             ],
             [
              0.3333333333333333,
              "#9c179e"
             ],
             [
              0.4444444444444444,
              "#bd3786"
             ],
             [
              0.5555555555555556,
              "#d8576b"
             ],
             [
              0.6666666666666666,
              "#ed7953"
             ],
             [
              0.7777777777777778,
              "#fb9f3a"
             ],
             [
              0.8888888888888888,
              "#fdca26"
             ],
             [
              1,
              "#f0f921"
             ]
            ],
            "type": "histogram2d"
           }
          ],
          "histogram2dcontour": [
           {
            "colorbar": {
             "outlinewidth": 0,
             "ticks": ""
            },
            "colorscale": [
             [
              0,
              "#0d0887"
             ],
             [
              0.1111111111111111,
              "#46039f"
             ],
             [
              0.2222222222222222,
              "#7201a8"
             ],
             [
              0.3333333333333333,
              "#9c179e"
             ],
             [
              0.4444444444444444,
              "#bd3786"
             ],
             [
              0.5555555555555556,
              "#d8576b"
             ],
             [
              0.6666666666666666,
              "#ed7953"
             ],
             [
              0.7777777777777778,
              "#fb9f3a"
             ],
             [
              0.8888888888888888,
              "#fdca26"
             ],
             [
              1,
              "#f0f921"
             ]
            ],
            "type": "histogram2dcontour"
           }
          ],
          "mesh3d": [
           {
            "colorbar": {
             "outlinewidth": 0,
             "ticks": ""
            },
            "type": "mesh3d"
           }
          ],
          "parcoords": [
           {
            "line": {
             "colorbar": {
              "outlinewidth": 0,
              "ticks": ""
             }
            },
            "type": "parcoords"
           }
          ],
          "pie": [
           {
            "automargin": true,
            "type": "pie"
           }
          ],
          "scatter": [
           {
            "fillpattern": {
             "fillmode": "overlay",
             "size": 10,
             "solidity": 0.2
            },
            "type": "scatter"
           }
          ],
          "scatter3d": [
           {
            "line": {
             "colorbar": {
              "outlinewidth": 0,
              "ticks": ""
             }
            },
            "marker": {
             "colorbar": {
              "outlinewidth": 0,
              "ticks": ""
             }
            },
            "type": "scatter3d"
           }
          ],
          "scattercarpet": [
           {
            "marker": {
             "colorbar": {
              "outlinewidth": 0,
              "ticks": ""
             }
            },
            "type": "scattercarpet"
           }
          ],
          "scattergeo": [
           {
            "marker": {
             "colorbar": {
              "outlinewidth": 0,
              "ticks": ""
             }
            },
            "type": "scattergeo"
           }
          ],
          "scattergl": [
           {
            "marker": {
             "colorbar": {
              "outlinewidth": 0,
              "ticks": ""
             }
            },
            "type": "scattergl"
           }
          ],
          "scattermapbox": [
           {
            "marker": {
             "colorbar": {
              "outlinewidth": 0,
              "ticks": ""
             }
            },
            "type": "scattermapbox"
           }
          ],
          "scatterpolar": [
           {
            "marker": {
             "colorbar": {
              "outlinewidth": 0,
              "ticks": ""
             }
            },
            "type": "scatterpolar"
           }
          ],
          "scatterpolargl": [
           {
            "marker": {
             "colorbar": {
              "outlinewidth": 0,
              "ticks": ""
             }
            },
            "type": "scatterpolargl"
           }
          ],
          "scatterternary": [
           {
            "marker": {
             "colorbar": {
              "outlinewidth": 0,
              "ticks": ""
             }
            },
            "type": "scatterternary"
           }
          ],
          "surface": [
           {
            "colorbar": {
             "outlinewidth": 0,
             "ticks": ""
            },
            "colorscale": [
             [
              0,
              "#0d0887"
             ],
             [
              0.1111111111111111,
              "#46039f"
             ],
             [
              0.2222222222222222,
              "#7201a8"
             ],
             [
              0.3333333333333333,
              "#9c179e"
             ],
             [
              0.4444444444444444,
              "#bd3786"
             ],
             [
              0.5555555555555556,
              "#d8576b"
             ],
             [
              0.6666666666666666,
              "#ed7953"
             ],
             [
              0.7777777777777778,
              "#fb9f3a"
             ],
             [
              0.8888888888888888,
              "#fdca26"
             ],
             [
              1,
              "#f0f921"
             ]
            ],
            "type": "surface"
           }
          ],
          "table": [
           {
            "cells": {
             "fill": {
              "color": "#EBF0F8"
             },
             "line": {
              "color": "white"
             }
            },
            "header": {
             "fill": {
              "color": "#C8D4E3"
             },
             "line": {
              "color": "white"
             }
            },
            "type": "table"
           }
          ]
         },
         "layout": {
          "annotationdefaults": {
           "arrowcolor": "#2a3f5f",
           "arrowhead": 0,
           "arrowwidth": 1
          },
          "autotypenumbers": "strict",
          "coloraxis": {
           "colorbar": {
            "outlinewidth": 0,
            "ticks": ""
           }
          },
          "colorscale": {
           "diverging": [
            [
             0,
             "#8e0152"
            ],
            [
             0.1,
             "#c51b7d"
            ],
            [
             0.2,
             "#de77ae"
            ],
            [
             0.3,
             "#f1b6da"
            ],
            [
             0.4,
             "#fde0ef"
            ],
            [
             0.5,
             "#f7f7f7"
            ],
            [
             0.6,
             "#e6f5d0"
            ],
            [
             0.7,
             "#b8e186"
            ],
            [
             0.8,
             "#7fbc41"
            ],
            [
             0.9,
             "#4d9221"
            ],
            [
             1,
             "#276419"
            ]
           ],
           "sequential": [
            [
             0,
             "#0d0887"
            ],
            [
             0.1111111111111111,
             "#46039f"
            ],
            [
             0.2222222222222222,
             "#7201a8"
            ],
            [
             0.3333333333333333,
             "#9c179e"
            ],
            [
             0.4444444444444444,
             "#bd3786"
            ],
            [
             0.5555555555555556,
             "#d8576b"
            ],
            [
             0.6666666666666666,
             "#ed7953"
            ],
            [
             0.7777777777777778,
             "#fb9f3a"
            ],
            [
             0.8888888888888888,
             "#fdca26"
            ],
            [
             1,
             "#f0f921"
            ]
           ],
           "sequentialminus": [
            [
             0,
             "#0d0887"
            ],
            [
             0.1111111111111111,
             "#46039f"
            ],
            [
             0.2222222222222222,
             "#7201a8"
            ],
            [
             0.3333333333333333,
             "#9c179e"
            ],
            [
             0.4444444444444444,
             "#bd3786"
            ],
            [
             0.5555555555555556,
             "#d8576b"
            ],
            [
             0.6666666666666666,
             "#ed7953"
            ],
            [
             0.7777777777777778,
             "#fb9f3a"
            ],
            [
             0.8888888888888888,
             "#fdca26"
            ],
            [
             1,
             "#f0f921"
            ]
           ]
          },
          "colorway": [
           "#636efa",
           "#EF553B",
           "#00cc96",
           "#ab63fa",
           "#FFA15A",
           "#19d3f3",
           "#FF6692",
           "#B6E880",
           "#FF97FF",
           "#FECB52"
          ],
          "font": {
           "color": "#2a3f5f"
          },
          "geo": {
           "bgcolor": "white",
           "lakecolor": "white",
           "landcolor": "#E5ECF6",
           "showlakes": true,
           "showland": true,
           "subunitcolor": "white"
          },
          "hoverlabel": {
           "align": "left"
          },
          "hovermode": "closest",
          "mapbox": {
           "style": "light"
          },
          "paper_bgcolor": "white",
          "plot_bgcolor": "#E5ECF6",
          "polar": {
           "angularaxis": {
            "gridcolor": "white",
            "linecolor": "white",
            "ticks": ""
           },
           "bgcolor": "#E5ECF6",
           "radialaxis": {
            "gridcolor": "white",
            "linecolor": "white",
            "ticks": ""
           }
          },
          "scene": {
           "xaxis": {
            "backgroundcolor": "#E5ECF6",
            "gridcolor": "white",
            "gridwidth": 2,
            "linecolor": "white",
            "showbackground": true,
            "ticks": "",
            "zerolinecolor": "white"
           },
           "yaxis": {
            "backgroundcolor": "#E5ECF6",
            "gridcolor": "white",
            "gridwidth": 2,
            "linecolor": "white",
            "showbackground": true,
            "ticks": "",
            "zerolinecolor": "white"
           },
           "zaxis": {
            "backgroundcolor": "#E5ECF6",
            "gridcolor": "white",
            "gridwidth": 2,
            "linecolor": "white",
            "showbackground": true,
            "ticks": "",
            "zerolinecolor": "white"
           }
          },
          "shapedefaults": {
           "line": {
            "color": "#2a3f5f"
           }
          },
          "ternary": {
           "aaxis": {
            "gridcolor": "white",
            "linecolor": "white",
            "ticks": ""
           },
           "baxis": {
            "gridcolor": "white",
            "linecolor": "white",
            "ticks": ""
           },
           "bgcolor": "#E5ECF6",
           "caxis": {
            "gridcolor": "white",
            "linecolor": "white",
            "ticks": ""
           }
          },
          "title": {
           "x": 0.05
          },
          "xaxis": {
           "automargin": true,
           "gridcolor": "white",
           "linecolor": "white",
           "ticks": "",
           "title": {
            "standoff": 15
           },
           "zerolinecolor": "white",
           "zerolinewidth": 2
          },
          "yaxis": {
           "automargin": true,
           "gridcolor": "white",
           "linecolor": "white",
           "ticks": "",
           "title": {
            "standoff": 15
           },
           "zerolinecolor": "white",
           "zerolinewidth": 2
          }
         }
        },
        "title": {
         "text": "KMeans Clustering of References l2"
        },
        "xaxis": {
         "anchor": "y",
         "domain": [
          0,
          1
         ],
         "title": {
          "text": "Component 1"
         }
        },
        "yaxis": {
         "anchor": "x",
         "domain": [
          0,
          1
         ],
         "title": {
          "text": "Component 2"
         }
        }
       }
      }
     },
     "metadata": {},
     "output_type": "display_data"
    }
   ],
   "source": [
    "import plotly.express as px\n",
    "import pandas as pd\n",
    "\n",
    "# Assuming l1_pca is your PCA-transformed data in pandas DataFrame format\n",
    "data_to_cluster = new_l2_pca\n",
    "\n",
    "# Convert the DataFrame to a numpy array for KMeans fitting\n",
    "data_to_cluster_np = data_to_cluster.values\n",
    "\n",
    "# Fit the KMeans model\n",
    "kmeans = KMeans(n_clusters=4, n_init= 10, random_state= 40)\n",
    "kmeans.fit(data_to_cluster_np)\n",
    "\n",
    "# Get the cluster labels\n",
    "labels = kmeans.labels_\n",
    "\n",
    "# Create a DataFrame for plotting with plotly\n",
    "df_plot = pd.DataFrame(data_to_cluster_np, columns=['Component 1', 'Component 2'])\n",
    "df_plot['Cluster'] = labels\n",
    "df_plot['Point Name'] = data_to_cluster.index  # This assumes the original DataFrame has meaningful row labels\n",
    "\n",
    "# Create an interactive scatter plot\n",
    "fig = px.scatter(df_plot, x='Component 1', y='Component 2', color='Cluster', \n",
    "                 hover_data=['Point Name'], \n",
    "                 title='KMeans Clustering of References l2')\n",
    "\n",
    "# Display the plot\n",
    "fig.show()"
   ]
  },
  {
   "cell_type": "code",
   "execution_count": null,
   "metadata": {},
   "outputs": [],
   "source": []
  },
  {
   "cell_type": "code",
   "execution_count": null,
   "metadata": {},
   "outputs": [],
   "source": []
  },
  {
   "cell_type": "code",
   "execution_count": null,
   "metadata": {},
   "outputs": [],
   "source": []
  },
  {
   "cell_type": "code",
   "execution_count": null,
   "metadata": {},
   "outputs": [],
   "source": []
  }
 ],
 "metadata": {
  "kernelspec": {
   "display_name": "Python 3",
   "language": "python",
   "name": "python3"
  },
  "language_info": {
   "codemirror_mode": {
    "name": "ipython",
    "version": 3
   },
   "file_extension": ".py",
   "mimetype": "text/x-python",
   "name": "python",
   "nbconvert_exporter": "python",
   "pygments_lexer": "ipython3",
   "version": "3.11.5"
  },
  "orig_nbformat": 4
 },
 "nbformat": 4,
 "nbformat_minor": 2
}
