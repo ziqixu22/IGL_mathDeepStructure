{
 "cells": [
  {
   "cell_type": "code",
   "execution_count": 216,
   "metadata": {},
   "outputs": [
    {
     "name": "stdout",
     "output_type": "stream",
     "text": [
      "Requirement already satisfied: sklearn in c:\\users\\10072\\appdata\\local\\packages\\pythonsoftwarefoundation.python.3.11_qbz5n2kfra8p0\\localcache\\local-packages\\python311\\site-packages (0.0.post9)\n"
     ]
    }
   ],
   "source": [
    "!pip install sklearn"
   ]
  },
  {
   "cell_type": "code",
   "execution_count": 217,
   "metadata": {},
   "outputs": [],
   "source": [
    "import pandas as pd\n",
    "import numpy as np\n",
    "\n",
    "citations = pd.read_csv('C:\\\\Users\\\\10072\\\\OneDrive\\\\Desktop\\\\finding math department structure\\\\citations.csv',index_col=0)"
   ]
  },
  {
   "cell_type": "code",
   "execution_count": 218,
   "metadata": {},
   "outputs": [
    {
     "data": {
      "text/html": [
       "<div>\n",
       "<style scoped>\n",
       "    .dataframe tbody tr th:only-of-type {\n",
       "        vertical-align: middle;\n",
       "    }\n",
       "\n",
       "    .dataframe tbody tr th {\n",
       "        vertical-align: top;\n",
       "    }\n",
       "\n",
       "    .dataframe thead th {\n",
       "        text-align: right;\n",
       "    }\n",
       "</style>\n",
       "<table border=\"1\" class=\"dataframe\">\n",
       "  <thead>\n",
       "    <tr style=\"text-align: right;\">\n",
       "      <th></th>\n",
       "      <th>Berwick-EvansDaniel</th>\n",
       "      <th>AlbinPierre</th>\n",
       "      <th>BronskiJaredC</th>\n",
       "      <th>BocaFlorin-Petre</th>\n",
       "      <th>AhlgrenScottD</th>\n",
       "      <th>BaloghJózsef</th>\n",
       "      <th>BaryshnikovYuliyM</th>\n",
       "      <th>CooneyDanielB</th>\n",
       "      <th>BradlowStevenBenjamin</th>\n",
       "      <th>DeVilleRELee</th>\n",
       "      <th>...</th>\n",
       "      <th>TolmanSusan</th>\n",
       "      <th>TysonJeremyT</th>\n",
       "      <th>TumanovAlexander</th>\n",
       "      <th>WeiWei</th>\n",
       "      <th>TzirakisNikolaos</th>\n",
       "      <th>WuXuan</th>\n",
       "      <th>YoungAmanda</th>\n",
       "      <th>ZaharescuAlexandru</th>\n",
       "      <th>YongAlexanderTF</th>\n",
       "      <th>ZharnitskyVadim</th>\n",
       "    </tr>\n",
       "  </thead>\n",
       "  <tbody>\n",
       "    <tr>\n",
       "      <th>MR4504450</th>\n",
       "      <td>3</td>\n",
       "      <td>0</td>\n",
       "      <td>0</td>\n",
       "      <td>0</td>\n",
       "      <td>0</td>\n",
       "      <td>0</td>\n",
       "      <td>0</td>\n",
       "      <td>0</td>\n",
       "      <td>0</td>\n",
       "      <td>0</td>\n",
       "      <td>...</td>\n",
       "      <td>0</td>\n",
       "      <td>0</td>\n",
       "      <td>0</td>\n",
       "      <td>0</td>\n",
       "      <td>0</td>\n",
       "      <td>0</td>\n",
       "      <td>0</td>\n",
       "      <td>0</td>\n",
       "      <td>0</td>\n",
       "      <td>0</td>\n",
       "    </tr>\n",
       "    <tr>\n",
       "      <th>MR3933391</th>\n",
       "      <td>1</td>\n",
       "      <td>0</td>\n",
       "      <td>0</td>\n",
       "      <td>0</td>\n",
       "      <td>0</td>\n",
       "      <td>0</td>\n",
       "      <td>0</td>\n",
       "      <td>0</td>\n",
       "      <td>0</td>\n",
       "      <td>0</td>\n",
       "      <td>...</td>\n",
       "      <td>0</td>\n",
       "      <td>0</td>\n",
       "      <td>0</td>\n",
       "      <td>0</td>\n",
       "      <td>0</td>\n",
       "      <td>0</td>\n",
       "      <td>0</td>\n",
       "      <td>0</td>\n",
       "      <td>0</td>\n",
       "      <td>0</td>\n",
       "    </tr>\n",
       "    <tr>\n",
       "      <th>MR4358671</th>\n",
       "      <td>2</td>\n",
       "      <td>0</td>\n",
       "      <td>0</td>\n",
       "      <td>0</td>\n",
       "      <td>0</td>\n",
       "      <td>0</td>\n",
       "      <td>0</td>\n",
       "      <td>0</td>\n",
       "      <td>0</td>\n",
       "      <td>0</td>\n",
       "      <td>...</td>\n",
       "      <td>0</td>\n",
       "      <td>0</td>\n",
       "      <td>0</td>\n",
       "      <td>0</td>\n",
       "      <td>0</td>\n",
       "      <td>0</td>\n",
       "      <td>0</td>\n",
       "      <td>0</td>\n",
       "      <td>0</td>\n",
       "      <td>0</td>\n",
       "    </tr>\n",
       "    <tr>\n",
       "      <th>MR4500640</th>\n",
       "      <td>1</td>\n",
       "      <td>0</td>\n",
       "      <td>0</td>\n",
       "      <td>0</td>\n",
       "      <td>0</td>\n",
       "      <td>0</td>\n",
       "      <td>0</td>\n",
       "      <td>0</td>\n",
       "      <td>0</td>\n",
       "      <td>0</td>\n",
       "      <td>...</td>\n",
       "      <td>0</td>\n",
       "      <td>0</td>\n",
       "      <td>0</td>\n",
       "      <td>0</td>\n",
       "      <td>0</td>\n",
       "      <td>0</td>\n",
       "      <td>0</td>\n",
       "      <td>0</td>\n",
       "      <td>0</td>\n",
       "      <td>0</td>\n",
       "    </tr>\n",
       "    <tr>\n",
       "      <th>MR4312365</th>\n",
       "      <td>1</td>\n",
       "      <td>0</td>\n",
       "      <td>0</td>\n",
       "      <td>0</td>\n",
       "      <td>0</td>\n",
       "      <td>0</td>\n",
       "      <td>0</td>\n",
       "      <td>0</td>\n",
       "      <td>0</td>\n",
       "      <td>0</td>\n",
       "      <td>...</td>\n",
       "      <td>0</td>\n",
       "      <td>0</td>\n",
       "      <td>0</td>\n",
       "      <td>0</td>\n",
       "      <td>0</td>\n",
       "      <td>0</td>\n",
       "      <td>0</td>\n",
       "      <td>0</td>\n",
       "      <td>0</td>\n",
       "      <td>0</td>\n",
       "    </tr>\n",
       "    <tr>\n",
       "      <th>...</th>\n",
       "      <td>...</td>\n",
       "      <td>...</td>\n",
       "      <td>...</td>\n",
       "      <td>...</td>\n",
       "      <td>...</td>\n",
       "      <td>...</td>\n",
       "      <td>...</td>\n",
       "      <td>...</td>\n",
       "      <td>...</td>\n",
       "      <td>...</td>\n",
       "      <td>...</td>\n",
       "      <td>...</td>\n",
       "      <td>...</td>\n",
       "      <td>...</td>\n",
       "      <td>...</td>\n",
       "      <td>...</td>\n",
       "      <td>...</td>\n",
       "      <td>...</td>\n",
       "      <td>...</td>\n",
       "      <td>...</td>\n",
       "      <td>...</td>\n",
       "    </tr>\n",
       "    <tr>\n",
       "      <th>MR3095269</th>\n",
       "      <td>0</td>\n",
       "      <td>0</td>\n",
       "      <td>0</td>\n",
       "      <td>0</td>\n",
       "      <td>0</td>\n",
       "      <td>0</td>\n",
       "      <td>0</td>\n",
       "      <td>0</td>\n",
       "      <td>0</td>\n",
       "      <td>0</td>\n",
       "      <td>...</td>\n",
       "      <td>0</td>\n",
       "      <td>0</td>\n",
       "      <td>0</td>\n",
       "      <td>0</td>\n",
       "      <td>0</td>\n",
       "      <td>0</td>\n",
       "      <td>0</td>\n",
       "      <td>0</td>\n",
       "      <td>0</td>\n",
       "      <td>1</td>\n",
       "    </tr>\n",
       "    <tr>\n",
       "      <th>MR2869795</th>\n",
       "      <td>0</td>\n",
       "      <td>0</td>\n",
       "      <td>0</td>\n",
       "      <td>0</td>\n",
       "      <td>0</td>\n",
       "      <td>0</td>\n",
       "      <td>0</td>\n",
       "      <td>0</td>\n",
       "      <td>0</td>\n",
       "      <td>0</td>\n",
       "      <td>...</td>\n",
       "      <td>0</td>\n",
       "      <td>0</td>\n",
       "      <td>0</td>\n",
       "      <td>0</td>\n",
       "      <td>0</td>\n",
       "      <td>0</td>\n",
       "      <td>0</td>\n",
       "      <td>0</td>\n",
       "      <td>0</td>\n",
       "      <td>1</td>\n",
       "    </tr>\n",
       "    <tr>\n",
       "      <th>MR2501935</th>\n",
       "      <td>0</td>\n",
       "      <td>0</td>\n",
       "      <td>0</td>\n",
       "      <td>0</td>\n",
       "      <td>0</td>\n",
       "      <td>0</td>\n",
       "      <td>0</td>\n",
       "      <td>0</td>\n",
       "      <td>0</td>\n",
       "      <td>0</td>\n",
       "      <td>...</td>\n",
       "      <td>0</td>\n",
       "      <td>0</td>\n",
       "      <td>0</td>\n",
       "      <td>0</td>\n",
       "      <td>0</td>\n",
       "      <td>0</td>\n",
       "      <td>0</td>\n",
       "      <td>0</td>\n",
       "      <td>0</td>\n",
       "      <td>1</td>\n",
       "    </tr>\n",
       "    <tr>\n",
       "      <th>MR2478469</th>\n",
       "      <td>0</td>\n",
       "      <td>0</td>\n",
       "      <td>0</td>\n",
       "      <td>0</td>\n",
       "      <td>0</td>\n",
       "      <td>0</td>\n",
       "      <td>0</td>\n",
       "      <td>0</td>\n",
       "      <td>0</td>\n",
       "      <td>0</td>\n",
       "      <td>...</td>\n",
       "      <td>0</td>\n",
       "      <td>0</td>\n",
       "      <td>0</td>\n",
       "      <td>0</td>\n",
       "      <td>0</td>\n",
       "      <td>0</td>\n",
       "      <td>0</td>\n",
       "      <td>0</td>\n",
       "      <td>0</td>\n",
       "      <td>1</td>\n",
       "    </tr>\n",
       "    <tr>\n",
       "      <th>MR1483007</th>\n",
       "      <td>0</td>\n",
       "      <td>0</td>\n",
       "      <td>0</td>\n",
       "      <td>0</td>\n",
       "      <td>0</td>\n",
       "      <td>0</td>\n",
       "      <td>0</td>\n",
       "      <td>0</td>\n",
       "      <td>0</td>\n",
       "      <td>0</td>\n",
       "      <td>...</td>\n",
       "      <td>0</td>\n",
       "      <td>0</td>\n",
       "      <td>0</td>\n",
       "      <td>0</td>\n",
       "      <td>0</td>\n",
       "      <td>0</td>\n",
       "      <td>0</td>\n",
       "      <td>0</td>\n",
       "      <td>0</td>\n",
       "      <td>1</td>\n",
       "    </tr>\n",
       "  </tbody>\n",
       "</table>\n",
       "<p>22176 rows × 70 columns</p>\n",
       "</div>"
      ],
      "text/plain": [
       "           Berwick-EvansDaniel  AlbinPierre  BronskiJaredC  BocaFlorin-Petre  \\\n",
       "MR4504450                    3            0              0                 0   \n",
       "MR3933391                    1            0              0                 0   \n",
       "MR4358671                    2            0              0                 0   \n",
       "MR4500640                    1            0              0                 0   \n",
       "MR4312365                    1            0              0                 0   \n",
       "...                        ...          ...            ...               ...   \n",
       "MR3095269                    0            0              0                 0   \n",
       "MR2869795                    0            0              0                 0   \n",
       "MR2501935                    0            0              0                 0   \n",
       "MR2478469                    0            0              0                 0   \n",
       "MR1483007                    0            0              0                 0   \n",
       "\n",
       "           AhlgrenScottD  BaloghJózsef  BaryshnikovYuliyM  CooneyDanielB  \\\n",
       "MR4504450              0             0                  0              0   \n",
       "MR3933391              0             0                  0              0   \n",
       "MR4358671              0             0                  0              0   \n",
       "MR4500640              0             0                  0              0   \n",
       "MR4312365              0             0                  0              0   \n",
       "...                  ...           ...                ...            ...   \n",
       "MR3095269              0             0                  0              0   \n",
       "MR2869795              0             0                  0              0   \n",
       "MR2501935              0             0                  0              0   \n",
       "MR2478469              0             0                  0              0   \n",
       "MR1483007              0             0                  0              0   \n",
       "\n",
       "           BradlowStevenBenjamin  DeVilleRELee  ...  TolmanSusan  \\\n",
       "MR4504450                      0             0  ...            0   \n",
       "MR3933391                      0             0  ...            0   \n",
       "MR4358671                      0             0  ...            0   \n",
       "MR4500640                      0             0  ...            0   \n",
       "MR4312365                      0             0  ...            0   \n",
       "...                          ...           ...  ...          ...   \n",
       "MR3095269                      0             0  ...            0   \n",
       "MR2869795                      0             0  ...            0   \n",
       "MR2501935                      0             0  ...            0   \n",
       "MR2478469                      0             0  ...            0   \n",
       "MR1483007                      0             0  ...            0   \n",
       "\n",
       "           TysonJeremyT  TumanovAlexander  WeiWei  TzirakisNikolaos  WuXuan  \\\n",
       "MR4504450             0                 0       0                 0       0   \n",
       "MR3933391             0                 0       0                 0       0   \n",
       "MR4358671             0                 0       0                 0       0   \n",
       "MR4500640             0                 0       0                 0       0   \n",
       "MR4312365             0                 0       0                 0       0   \n",
       "...                 ...               ...     ...               ...     ...   \n",
       "MR3095269             0                 0       0                 0       0   \n",
       "MR2869795             0                 0       0                 0       0   \n",
       "MR2501935             0                 0       0                 0       0   \n",
       "MR2478469             0                 0       0                 0       0   \n",
       "MR1483007             0                 0       0                 0       0   \n",
       "\n",
       "           YoungAmanda  ZaharescuAlexandru  YongAlexanderTF  ZharnitskyVadim  \n",
       "MR4504450            0                   0                0                0  \n",
       "MR3933391            0                   0                0                0  \n",
       "MR4358671            0                   0                0                0  \n",
       "MR4500640            0                   0                0                0  \n",
       "MR4312365            0                   0                0                0  \n",
       "...                ...                 ...              ...              ...  \n",
       "MR3095269            0                   0                0                1  \n",
       "MR2869795            0                   0                0                1  \n",
       "MR2501935            0                   0                0                1  \n",
       "MR2478469            0                   0                0                1  \n",
       "MR1483007            0                   0                0                1  \n",
       "\n",
       "[22176 rows x 70 columns]"
      ]
     },
     "execution_count": 218,
     "metadata": {},
     "output_type": "execute_result"
    }
   ],
   "source": [
    "citations"
   ]
  },
  {
   "cell_type": "code",
   "execution_count": 219,
   "metadata": {},
   "outputs": [],
   "source": [
    "citations = citations.T"
   ]
  },
  {
   "cell_type": "code",
   "execution_count": 220,
   "metadata": {},
   "outputs": [],
   "source": [
    "citations = citations.sort_index()"
   ]
  },
  {
   "cell_type": "code",
   "execution_count": 221,
   "metadata": {},
   "outputs": [
    {
     "data": {
      "text/html": [
       "<div>\n",
       "<style scoped>\n",
       "    .dataframe tbody tr th:only-of-type {\n",
       "        vertical-align: middle;\n",
       "    }\n",
       "\n",
       "    .dataframe tbody tr th {\n",
       "        vertical-align: top;\n",
       "    }\n",
       "\n",
       "    .dataframe thead th {\n",
       "        text-align: right;\n",
       "    }\n",
       "</style>\n",
       "<table border=\"1\" class=\"dataframe\">\n",
       "  <thead>\n",
       "    <tr style=\"text-align: right;\">\n",
       "      <th></th>\n",
       "      <th>MR4504450</th>\n",
       "      <th>MR3933391</th>\n",
       "      <th>MR4358671</th>\n",
       "      <th>MR4500640</th>\n",
       "      <th>MR4312365</th>\n",
       "      <th>MR4310891</th>\n",
       "      <th>MR4292179</th>\n",
       "      <th>MR4457373</th>\n",
       "      <th>MR4411466</th>\n",
       "      <th>MR4400191</th>\n",
       "      <th>...</th>\n",
       "      <th>MR3228985</th>\n",
       "      <th>MR2832254</th>\n",
       "      <th>MR2533973</th>\n",
       "      <th>MR2076920</th>\n",
       "      <th>MR3969276</th>\n",
       "      <th>MR3095269</th>\n",
       "      <th>MR2869795</th>\n",
       "      <th>MR2501935</th>\n",
       "      <th>MR2478469</th>\n",
       "      <th>MR1483007</th>\n",
       "    </tr>\n",
       "  </thead>\n",
       "  <tbody>\n",
       "    <tr>\n",
       "      <th>AhlgrenScottD</th>\n",
       "      <td>0</td>\n",
       "      <td>0</td>\n",
       "      <td>0</td>\n",
       "      <td>0</td>\n",
       "      <td>0</td>\n",
       "      <td>0</td>\n",
       "      <td>0</td>\n",
       "      <td>0</td>\n",
       "      <td>0</td>\n",
       "      <td>0</td>\n",
       "      <td>...</td>\n",
       "      <td>0</td>\n",
       "      <td>0</td>\n",
       "      <td>0</td>\n",
       "      <td>0</td>\n",
       "      <td>0</td>\n",
       "      <td>0</td>\n",
       "      <td>0</td>\n",
       "      <td>0</td>\n",
       "      <td>0</td>\n",
       "      <td>0</td>\n",
       "    </tr>\n",
       "    <tr>\n",
       "      <th>AlbinPierre</th>\n",
       "      <td>0</td>\n",
       "      <td>0</td>\n",
       "      <td>0</td>\n",
       "      <td>0</td>\n",
       "      <td>0</td>\n",
       "      <td>0</td>\n",
       "      <td>0</td>\n",
       "      <td>0</td>\n",
       "      <td>0</td>\n",
       "      <td>0</td>\n",
       "      <td>...</td>\n",
       "      <td>0</td>\n",
       "      <td>0</td>\n",
       "      <td>0</td>\n",
       "      <td>0</td>\n",
       "      <td>0</td>\n",
       "      <td>0</td>\n",
       "      <td>0</td>\n",
       "      <td>0</td>\n",
       "      <td>0</td>\n",
       "      <td>0</td>\n",
       "    </tr>\n",
       "    <tr>\n",
       "      <th>BaloghJózsef</th>\n",
       "      <td>0</td>\n",
       "      <td>0</td>\n",
       "      <td>0</td>\n",
       "      <td>0</td>\n",
       "      <td>0</td>\n",
       "      <td>0</td>\n",
       "      <td>0</td>\n",
       "      <td>0</td>\n",
       "      <td>0</td>\n",
       "      <td>0</td>\n",
       "      <td>...</td>\n",
       "      <td>0</td>\n",
       "      <td>0</td>\n",
       "      <td>0</td>\n",
       "      <td>0</td>\n",
       "      <td>0</td>\n",
       "      <td>0</td>\n",
       "      <td>0</td>\n",
       "      <td>0</td>\n",
       "      <td>0</td>\n",
       "      <td>0</td>\n",
       "    </tr>\n",
       "    <tr>\n",
       "      <th>BaryshnikovYuliyM</th>\n",
       "      <td>0</td>\n",
       "      <td>0</td>\n",
       "      <td>0</td>\n",
       "      <td>0</td>\n",
       "      <td>0</td>\n",
       "      <td>0</td>\n",
       "      <td>0</td>\n",
       "      <td>0</td>\n",
       "      <td>0</td>\n",
       "      <td>0</td>\n",
       "      <td>...</td>\n",
       "      <td>0</td>\n",
       "      <td>0</td>\n",
       "      <td>0</td>\n",
       "      <td>0</td>\n",
       "      <td>0</td>\n",
       "      <td>0</td>\n",
       "      <td>0</td>\n",
       "      <td>0</td>\n",
       "      <td>0</td>\n",
       "      <td>0</td>\n",
       "    </tr>\n",
       "    <tr>\n",
       "      <th>Berwick-EvansDaniel</th>\n",
       "      <td>3</td>\n",
       "      <td>1</td>\n",
       "      <td>2</td>\n",
       "      <td>1</td>\n",
       "      <td>1</td>\n",
       "      <td>1</td>\n",
       "      <td>1</td>\n",
       "      <td>1</td>\n",
       "      <td>1</td>\n",
       "      <td>1</td>\n",
       "      <td>...</td>\n",
       "      <td>0</td>\n",
       "      <td>0</td>\n",
       "      <td>0</td>\n",
       "      <td>0</td>\n",
       "      <td>0</td>\n",
       "      <td>0</td>\n",
       "      <td>0</td>\n",
       "      <td>0</td>\n",
       "      <td>0</td>\n",
       "      <td>0</td>\n",
       "    </tr>\n",
       "    <tr>\n",
       "      <th>...</th>\n",
       "      <td>...</td>\n",
       "      <td>...</td>\n",
       "      <td>...</td>\n",
       "      <td>...</td>\n",
       "      <td>...</td>\n",
       "      <td>...</td>\n",
       "      <td>...</td>\n",
       "      <td>...</td>\n",
       "      <td>...</td>\n",
       "      <td>...</td>\n",
       "      <td>...</td>\n",
       "      <td>...</td>\n",
       "      <td>...</td>\n",
       "      <td>...</td>\n",
       "      <td>...</td>\n",
       "      <td>...</td>\n",
       "      <td>...</td>\n",
       "      <td>...</td>\n",
       "      <td>...</td>\n",
       "      <td>...</td>\n",
       "      <td>...</td>\n",
       "    </tr>\n",
       "    <tr>\n",
       "      <th>WuXuan</th>\n",
       "      <td>0</td>\n",
       "      <td>0</td>\n",
       "      <td>0</td>\n",
       "      <td>0</td>\n",
       "      <td>0</td>\n",
       "      <td>0</td>\n",
       "      <td>0</td>\n",
       "      <td>0</td>\n",
       "      <td>0</td>\n",
       "      <td>0</td>\n",
       "      <td>...</td>\n",
       "      <td>0</td>\n",
       "      <td>0</td>\n",
       "      <td>0</td>\n",
       "      <td>0</td>\n",
       "      <td>0</td>\n",
       "      <td>0</td>\n",
       "      <td>0</td>\n",
       "      <td>0</td>\n",
       "      <td>0</td>\n",
       "      <td>0</td>\n",
       "    </tr>\n",
       "    <tr>\n",
       "      <th>YongAlexanderTF</th>\n",
       "      <td>0</td>\n",
       "      <td>0</td>\n",
       "      <td>0</td>\n",
       "      <td>0</td>\n",
       "      <td>0</td>\n",
       "      <td>0</td>\n",
       "      <td>0</td>\n",
       "      <td>0</td>\n",
       "      <td>0</td>\n",
       "      <td>0</td>\n",
       "      <td>...</td>\n",
       "      <td>0</td>\n",
       "      <td>0</td>\n",
       "      <td>0</td>\n",
       "      <td>0</td>\n",
       "      <td>0</td>\n",
       "      <td>0</td>\n",
       "      <td>0</td>\n",
       "      <td>0</td>\n",
       "      <td>0</td>\n",
       "      <td>0</td>\n",
       "    </tr>\n",
       "    <tr>\n",
       "      <th>YoungAmanda</th>\n",
       "      <td>0</td>\n",
       "      <td>0</td>\n",
       "      <td>0</td>\n",
       "      <td>0</td>\n",
       "      <td>0</td>\n",
       "      <td>0</td>\n",
       "      <td>0</td>\n",
       "      <td>0</td>\n",
       "      <td>0</td>\n",
       "      <td>0</td>\n",
       "      <td>...</td>\n",
       "      <td>0</td>\n",
       "      <td>0</td>\n",
       "      <td>0</td>\n",
       "      <td>0</td>\n",
       "      <td>0</td>\n",
       "      <td>0</td>\n",
       "      <td>0</td>\n",
       "      <td>0</td>\n",
       "      <td>0</td>\n",
       "      <td>0</td>\n",
       "    </tr>\n",
       "    <tr>\n",
       "      <th>ZaharescuAlexandru</th>\n",
       "      <td>0</td>\n",
       "      <td>0</td>\n",
       "      <td>0</td>\n",
       "      <td>0</td>\n",
       "      <td>0</td>\n",
       "      <td>0</td>\n",
       "      <td>0</td>\n",
       "      <td>0</td>\n",
       "      <td>0</td>\n",
       "      <td>0</td>\n",
       "      <td>...</td>\n",
       "      <td>0</td>\n",
       "      <td>0</td>\n",
       "      <td>0</td>\n",
       "      <td>0</td>\n",
       "      <td>0</td>\n",
       "      <td>0</td>\n",
       "      <td>0</td>\n",
       "      <td>0</td>\n",
       "      <td>0</td>\n",
       "      <td>0</td>\n",
       "    </tr>\n",
       "    <tr>\n",
       "      <th>ZharnitskyVadim</th>\n",
       "      <td>0</td>\n",
       "      <td>0</td>\n",
       "      <td>0</td>\n",
       "      <td>0</td>\n",
       "      <td>0</td>\n",
       "      <td>0</td>\n",
       "      <td>0</td>\n",
       "      <td>0</td>\n",
       "      <td>0</td>\n",
       "      <td>0</td>\n",
       "      <td>...</td>\n",
       "      <td>1</td>\n",
       "      <td>1</td>\n",
       "      <td>1</td>\n",
       "      <td>1</td>\n",
       "      <td>1</td>\n",
       "      <td>1</td>\n",
       "      <td>1</td>\n",
       "      <td>1</td>\n",
       "      <td>1</td>\n",
       "      <td>1</td>\n",
       "    </tr>\n",
       "  </tbody>\n",
       "</table>\n",
       "<p>70 rows × 22176 columns</p>\n",
       "</div>"
      ],
      "text/plain": [
       "                     MR4504450  MR3933391  MR4358671  MR4500640  MR4312365  \\\n",
       "AhlgrenScottD                0          0          0          0          0   \n",
       "AlbinPierre                  0          0          0          0          0   \n",
       "BaloghJózsef                 0          0          0          0          0   \n",
       "BaryshnikovYuliyM            0          0          0          0          0   \n",
       "Berwick-EvansDaniel          3          1          2          1          1   \n",
       "...                        ...        ...        ...        ...        ...   \n",
       "WuXuan                       0          0          0          0          0   \n",
       "YongAlexanderTF              0          0          0          0          0   \n",
       "YoungAmanda                  0          0          0          0          0   \n",
       "ZaharescuAlexandru           0          0          0          0          0   \n",
       "ZharnitskyVadim              0          0          0          0          0   \n",
       "\n",
       "                     MR4310891  MR4292179  MR4457373  MR4411466  MR4400191  \\\n",
       "AhlgrenScottD                0          0          0          0          0   \n",
       "AlbinPierre                  0          0          0          0          0   \n",
       "BaloghJózsef                 0          0          0          0          0   \n",
       "BaryshnikovYuliyM            0          0          0          0          0   \n",
       "Berwick-EvansDaniel          1          1          1          1          1   \n",
       "...                        ...        ...        ...        ...        ...   \n",
       "WuXuan                       0          0          0          0          0   \n",
       "YongAlexanderTF              0          0          0          0          0   \n",
       "YoungAmanda                  0          0          0          0          0   \n",
       "ZaharescuAlexandru           0          0          0          0          0   \n",
       "ZharnitskyVadim              0          0          0          0          0   \n",
       "\n",
       "                     ...  MR3228985  MR2832254  MR2533973  MR2076920  \\\n",
       "AhlgrenScottD        ...          0          0          0          0   \n",
       "AlbinPierre          ...          0          0          0          0   \n",
       "BaloghJózsef         ...          0          0          0          0   \n",
       "BaryshnikovYuliyM    ...          0          0          0          0   \n",
       "Berwick-EvansDaniel  ...          0          0          0          0   \n",
       "...                  ...        ...        ...        ...        ...   \n",
       "WuXuan               ...          0          0          0          0   \n",
       "YongAlexanderTF      ...          0          0          0          0   \n",
       "YoungAmanda          ...          0          0          0          0   \n",
       "ZaharescuAlexandru   ...          0          0          0          0   \n",
       "ZharnitskyVadim      ...          1          1          1          1   \n",
       "\n",
       "                     MR3969276  MR3095269  MR2869795  MR2501935  MR2478469  \\\n",
       "AhlgrenScottD                0          0          0          0          0   \n",
       "AlbinPierre                  0          0          0          0          0   \n",
       "BaloghJózsef                 0          0          0          0          0   \n",
       "BaryshnikovYuliyM            0          0          0          0          0   \n",
       "Berwick-EvansDaniel          0          0          0          0          0   \n",
       "...                        ...        ...        ...        ...        ...   \n",
       "WuXuan                       0          0          0          0          0   \n",
       "YongAlexanderTF              0          0          0          0          0   \n",
       "YoungAmanda                  0          0          0          0          0   \n",
       "ZaharescuAlexandru           0          0          0          0          0   \n",
       "ZharnitskyVadim              1          1          1          1          1   \n",
       "\n",
       "                     MR1483007  \n",
       "AhlgrenScottD                0  \n",
       "AlbinPierre                  0  \n",
       "BaloghJózsef                 0  \n",
       "BaryshnikovYuliyM            0  \n",
       "Berwick-EvansDaniel          0  \n",
       "...                        ...  \n",
       "WuXuan                       0  \n",
       "YongAlexanderTF              0  \n",
       "YoungAmanda                  0  \n",
       "ZaharescuAlexandru           0  \n",
       "ZharnitskyVadim              1  \n",
       "\n",
       "[70 rows x 22176 columns]"
      ]
     },
     "execution_count": 221,
     "metadata": {},
     "output_type": "execute_result"
    }
   ],
   "source": [
    "#citations: \n",
    "#Rows represent different professors.\n",
    "#Columns represent papers (by their unique identifiers).\n",
    "#The entries in the matrix indicate the number of times a particular paper (in the corresponding column)\n",
    "#has cited any paper by the particular professor (in a given row).\n",
    "citations"
   ]
  },
  {
   "cell_type": "code",
   "execution_count": 222,
   "metadata": {},
   "outputs": [
    {
     "name": "stdout",
     "output_type": "stream",
     "text": [
      "0\n"
     ]
    }
   ],
   "source": [
    "row_data = citations.loc['QuanZhiyu']\n",
    "print(row_data.sum())\n"
   ]
  },
  {
   "cell_type": "code",
   "execution_count": 223,
   "metadata": {},
   "outputs": [],
   "source": [
    "#remove all the cols with one or zero non-zero entries.\n",
    "mask = (citations != 0).sum(axis=0) == 1\n",
    "cols_to_drop = mask[mask].index.tolist()\n",
    "citations = citations.drop(columns=cols_to_drop)\n",
    "mask = (citations != 0).sum(axis=0) == 0\n",
    "cols_to_drop = mask[mask].index.tolist()\n",
    "citations = citations.drop(columns=cols_to_drop)\n",
    "\n"
   ]
  },
  {
   "cell_type": "code",
   "execution_count": 224,
   "metadata": {},
   "outputs": [
    {
     "name": "stdout",
     "output_type": "stream",
     "text": [
      "Number of NaN values in each column:\n",
      " MR4504450    0\n",
      "MR4310891    0\n",
      "MR4292179    0\n",
      "MR4457373    0\n",
      "MR4411466    0\n",
      "            ..\n",
      "MR3973560    0\n",
      "MR4068268    0\n",
      "MR3906260    0\n",
      "MR4439798    0\n",
      "MR2993443    0\n",
      "Length: 1665, dtype: int64\n",
      "\n",
      "Number of Infinite values in each column:\n",
      " MR4504450    0\n",
      "MR4310891    0\n",
      "MR4292179    0\n",
      "MR4457373    0\n",
      "MR4411466    0\n",
      "            ..\n",
      "MR3973560    0\n",
      "MR4068268    0\n",
      "MR3906260    0\n",
      "MR4439798    0\n",
      "MR2993443    0\n",
      "Length: 1665, dtype: int64\n"
     ]
    },
    {
     "name": "stderr",
     "output_type": "stream",
     "text": [
      "C:\\Users\\10072\\AppData\\Local\\Temp\\ipykernel_30624\\2474572563.py:4: FutureWarning:\n",
      "\n",
      "DataFrame.applymap has been deprecated. Use DataFrame.map instead.\n",
      "\n"
     ]
    }
   ],
   "source": [
    "nan_values = citations.isnull().sum()\n",
    "\n",
    "# Check for infinite values\n",
    "inf_values = citations.applymap(np.isinf).sum()\n",
    "\n",
    "print(\"Number of NaN values in each column:\\n\", nan_values)\n",
    "print(\"\\nNumber of Infinite values in each column:\\n\", inf_values)"
   ]
  },
  {
   "cell_type": "code",
   "execution_count": 225,
   "metadata": {},
   "outputs": [
    {
     "name": "stdout",
     "output_type": "stream",
     "text": [
      "Rows with sum of absolute values equal to zero: 5\n",
      "Rows with sum of squared values equal to zero: 5\n",
      "Indices of rows with sum of absolute values equal to zero: ['CooneyDanielB', 'DuttaSankarPrasad', 'DuursmaIwanMaynard', 'FadinaTolulope', 'QuanZhiyu']\n",
      "Indices of rows with sum of squared values equal to zero: ['CooneyDanielB', 'DuttaSankarPrasad', 'DuursmaIwanMaynard', 'FadinaTolulope', 'QuanZhiyu']\n"
     ]
    }
   ],
   "source": [
    "# Check for rows with sum of absolute values equal to zero (for L1)\n",
    "zero_sum_rows_l1 = (citations.abs().sum(axis=1) == 0)\n",
    "\n",
    "# Check for rows with sum of squared values equal to zero (for L2)\n",
    "zero_sum_rows_l2 = (citations.pow(2).sum(axis=1) == 0)\n",
    "\n",
    "print(\"Rows with sum of absolute values equal to zero:\", zero_sum_rows_l1.sum())\n",
    "print(\"Rows with sum of squared values equal to zero:\", zero_sum_rows_l2.sum())\n",
    "\n",
    "# Identify indices of rows with sum of absolute values equal to zero (for L1)\n",
    "indices_l1_zero_sum = citations.index[citations.abs().sum(axis=1) == 0].tolist()\n",
    "\n",
    "# Identify indices of rows with sum of squared values equal to zero (for L2)\n",
    "indices_l2_zero_sum = citations.index[citations.pow(2).sum(axis=1) == 0].tolist()\n",
    "\n",
    "print(\"Indices of rows with sum of absolute values equal to zero:\", indices_l1_zero_sum)\n",
    "print(\"Indices of rows with sum of squared values equal to zero:\", indices_l2_zero_sum)\n",
    "\n",
    "\n"
   ]
  },
  {
   "cell_type": "code",
   "execution_count": 226,
   "metadata": {},
   "outputs": [],
   "source": [
    "#Through above test, we find that Professor these professor's citation is all 0, so i just remove him from the dtaframes.\n",
    "drop_list = ['CooneyDanielB', 'DuttaSankarPrasad', 'DuursmaIwanMaynard', 'FadinaTolulope', 'QuanZhiyu']\n",
    "citations = citations.drop(drop_list, axis=0)"
   ]
  },
  {
   "cell_type": "code",
   "execution_count": 227,
   "metadata": {},
   "outputs": [],
   "source": [
    "#L1 & L2 Noramalization\n",
    "\n",
    "citations_l1 = citations.divide(citations.abs().sum(axis=1), axis=0)\n",
    "l2_norm = citations.pow(2).sum(axis=1).pow(0.5)\n",
    "citations_l2 = citations.divide(l2_norm, axis=0)"
   ]
  },
  {
   "cell_type": "code",
   "execution_count": 228,
   "metadata": {},
   "outputs": [
    {
     "data": {
      "text/html": [
       "<div>\n",
       "<style scoped>\n",
       "    .dataframe tbody tr th:only-of-type {\n",
       "        vertical-align: middle;\n",
       "    }\n",
       "\n",
       "    .dataframe tbody tr th {\n",
       "        vertical-align: top;\n",
       "    }\n",
       "\n",
       "    .dataframe thead th {\n",
       "        text-align: right;\n",
       "    }\n",
       "</style>\n",
       "<table border=\"1\" class=\"dataframe\">\n",
       "  <thead>\n",
       "    <tr style=\"text-align: right;\">\n",
       "      <th></th>\n",
       "      <th>MR4504450</th>\n",
       "      <th>MR4310891</th>\n",
       "      <th>MR4292179</th>\n",
       "      <th>MR4457373</th>\n",
       "      <th>MR4411466</th>\n",
       "      <th>MR4400191</th>\n",
       "      <th>MR4329869</th>\n",
       "      <th>MR4270822</th>\n",
       "      <th>MR4082991</th>\n",
       "      <th>MR3990310</th>\n",
       "      <th>...</th>\n",
       "      <th>MR4157696</th>\n",
       "      <th>MR4126756</th>\n",
       "      <th>MR4123247</th>\n",
       "      <th>MR4033866</th>\n",
       "      <th>MR3979111</th>\n",
       "      <th>MR3973560</th>\n",
       "      <th>MR4068268</th>\n",
       "      <th>MR3906260</th>\n",
       "      <th>MR4439798</th>\n",
       "      <th>MR2993443</th>\n",
       "    </tr>\n",
       "  </thead>\n",
       "  <tbody>\n",
       "    <tr>\n",
       "      <th>AhlgrenScottD</th>\n",
       "      <td>0.000000</td>\n",
       "      <td>0.000000</td>\n",
       "      <td>0.000000</td>\n",
       "      <td>0.000000</td>\n",
       "      <td>0.000000</td>\n",
       "      <td>0.000000</td>\n",
       "      <td>0.000000</td>\n",
       "      <td>0.000000</td>\n",
       "      <td>0.000000</td>\n",
       "      <td>0.000000</td>\n",
       "      <td>...</td>\n",
       "      <td>0.0</td>\n",
       "      <td>0.0</td>\n",
       "      <td>0.0</td>\n",
       "      <td>0.0</td>\n",
       "      <td>0.0</td>\n",
       "      <td>0.0</td>\n",
       "      <td>0.0</td>\n",
       "      <td>0.0</td>\n",
       "      <td>0.000000</td>\n",
       "      <td>0.000000</td>\n",
       "    </tr>\n",
       "    <tr>\n",
       "      <th>AlbinPierre</th>\n",
       "      <td>0.000000</td>\n",
       "      <td>0.000000</td>\n",
       "      <td>0.000000</td>\n",
       "      <td>0.000000</td>\n",
       "      <td>0.000000</td>\n",
       "      <td>0.000000</td>\n",
       "      <td>0.000000</td>\n",
       "      <td>0.000000</td>\n",
       "      <td>0.000000</td>\n",
       "      <td>0.000000</td>\n",
       "      <td>...</td>\n",
       "      <td>0.0</td>\n",
       "      <td>0.0</td>\n",
       "      <td>0.0</td>\n",
       "      <td>0.0</td>\n",
       "      <td>0.0</td>\n",
       "      <td>0.0</td>\n",
       "      <td>0.0</td>\n",
       "      <td>0.0</td>\n",
       "      <td>0.000000</td>\n",
       "      <td>0.000000</td>\n",
       "    </tr>\n",
       "    <tr>\n",
       "      <th>BaloghJózsef</th>\n",
       "      <td>0.000000</td>\n",
       "      <td>0.000000</td>\n",
       "      <td>0.000000</td>\n",
       "      <td>0.000000</td>\n",
       "      <td>0.000000</td>\n",
       "      <td>0.000000</td>\n",
       "      <td>0.000000</td>\n",
       "      <td>0.000000</td>\n",
       "      <td>0.000000</td>\n",
       "      <td>0.000000</td>\n",
       "      <td>...</td>\n",
       "      <td>0.0</td>\n",
       "      <td>0.0</td>\n",
       "      <td>0.0</td>\n",
       "      <td>0.0</td>\n",
       "      <td>0.0</td>\n",
       "      <td>0.0</td>\n",
       "      <td>0.0</td>\n",
       "      <td>0.0</td>\n",
       "      <td>0.000000</td>\n",
       "      <td>0.000000</td>\n",
       "    </tr>\n",
       "    <tr>\n",
       "      <th>BaryshnikovYuliyM</th>\n",
       "      <td>0.000000</td>\n",
       "      <td>0.000000</td>\n",
       "      <td>0.000000</td>\n",
       "      <td>0.000000</td>\n",
       "      <td>0.000000</td>\n",
       "      <td>0.000000</td>\n",
       "      <td>0.000000</td>\n",
       "      <td>0.000000</td>\n",
       "      <td>0.000000</td>\n",
       "      <td>0.000000</td>\n",
       "      <td>...</td>\n",
       "      <td>0.0</td>\n",
       "      <td>0.0</td>\n",
       "      <td>0.0</td>\n",
       "      <td>0.0</td>\n",
       "      <td>0.0</td>\n",
       "      <td>0.0</td>\n",
       "      <td>0.0</td>\n",
       "      <td>0.0</td>\n",
       "      <td>0.000000</td>\n",
       "      <td>0.000000</td>\n",
       "    </tr>\n",
       "    <tr>\n",
       "      <th>Berwick-EvansDaniel</th>\n",
       "      <td>0.214286</td>\n",
       "      <td>0.071429</td>\n",
       "      <td>0.071429</td>\n",
       "      <td>0.071429</td>\n",
       "      <td>0.071429</td>\n",
       "      <td>0.071429</td>\n",
       "      <td>0.071429</td>\n",
       "      <td>0.071429</td>\n",
       "      <td>0.071429</td>\n",
       "      <td>0.071429</td>\n",
       "      <td>...</td>\n",
       "      <td>0.0</td>\n",
       "      <td>0.0</td>\n",
       "      <td>0.0</td>\n",
       "      <td>0.0</td>\n",
       "      <td>0.0</td>\n",
       "      <td>0.0</td>\n",
       "      <td>0.0</td>\n",
       "      <td>0.0</td>\n",
       "      <td>0.000000</td>\n",
       "      <td>0.000000</td>\n",
       "    </tr>\n",
       "    <tr>\n",
       "      <th>...</th>\n",
       "      <td>...</td>\n",
       "      <td>...</td>\n",
       "      <td>...</td>\n",
       "      <td>...</td>\n",
       "      <td>...</td>\n",
       "      <td>...</td>\n",
       "      <td>...</td>\n",
       "      <td>...</td>\n",
       "      <td>...</td>\n",
       "      <td>...</td>\n",
       "      <td>...</td>\n",
       "      <td>...</td>\n",
       "      <td>...</td>\n",
       "      <td>...</td>\n",
       "      <td>...</td>\n",
       "      <td>...</td>\n",
       "      <td>...</td>\n",
       "      <td>...</td>\n",
       "      <td>...</td>\n",
       "      <td>...</td>\n",
       "      <td>...</td>\n",
       "    </tr>\n",
       "    <tr>\n",
       "      <th>WuXuan</th>\n",
       "      <td>0.000000</td>\n",
       "      <td>0.000000</td>\n",
       "      <td>0.000000</td>\n",
       "      <td>0.000000</td>\n",
       "      <td>0.000000</td>\n",
       "      <td>0.000000</td>\n",
       "      <td>0.000000</td>\n",
       "      <td>0.000000</td>\n",
       "      <td>0.000000</td>\n",
       "      <td>0.000000</td>\n",
       "      <td>...</td>\n",
       "      <td>0.0</td>\n",
       "      <td>0.0</td>\n",
       "      <td>0.0</td>\n",
       "      <td>0.0</td>\n",
       "      <td>0.0</td>\n",
       "      <td>0.0</td>\n",
       "      <td>0.0</td>\n",
       "      <td>0.0</td>\n",
       "      <td>0.000000</td>\n",
       "      <td>0.000000</td>\n",
       "    </tr>\n",
       "    <tr>\n",
       "      <th>YongAlexanderTF</th>\n",
       "      <td>0.000000</td>\n",
       "      <td>0.000000</td>\n",
       "      <td>0.000000</td>\n",
       "      <td>0.000000</td>\n",
       "      <td>0.000000</td>\n",
       "      <td>0.000000</td>\n",
       "      <td>0.000000</td>\n",
       "      <td>0.000000</td>\n",
       "      <td>0.000000</td>\n",
       "      <td>0.000000</td>\n",
       "      <td>...</td>\n",
       "      <td>0.0</td>\n",
       "      <td>0.0</td>\n",
       "      <td>0.0</td>\n",
       "      <td>0.0</td>\n",
       "      <td>0.0</td>\n",
       "      <td>0.0</td>\n",
       "      <td>0.0</td>\n",
       "      <td>0.0</td>\n",
       "      <td>0.000000</td>\n",
       "      <td>0.000000</td>\n",
       "    </tr>\n",
       "    <tr>\n",
       "      <th>YoungAmanda</th>\n",
       "      <td>0.000000</td>\n",
       "      <td>0.000000</td>\n",
       "      <td>0.000000</td>\n",
       "      <td>0.000000</td>\n",
       "      <td>0.000000</td>\n",
       "      <td>0.000000</td>\n",
       "      <td>0.000000</td>\n",
       "      <td>0.000000</td>\n",
       "      <td>0.000000</td>\n",
       "      <td>0.000000</td>\n",
       "      <td>...</td>\n",
       "      <td>0.0</td>\n",
       "      <td>0.0</td>\n",
       "      <td>0.0</td>\n",
       "      <td>0.0</td>\n",
       "      <td>0.0</td>\n",
       "      <td>0.0</td>\n",
       "      <td>0.0</td>\n",
       "      <td>0.0</td>\n",
       "      <td>0.000000</td>\n",
       "      <td>0.000000</td>\n",
       "    </tr>\n",
       "    <tr>\n",
       "      <th>ZaharescuAlexandru</th>\n",
       "      <td>0.000000</td>\n",
       "      <td>0.000000</td>\n",
       "      <td>0.000000</td>\n",
       "      <td>0.000000</td>\n",
       "      <td>0.000000</td>\n",
       "      <td>0.000000</td>\n",
       "      <td>0.000000</td>\n",
       "      <td>0.000000</td>\n",
       "      <td>0.000000</td>\n",
       "      <td>0.000000</td>\n",
       "      <td>...</td>\n",
       "      <td>0.0</td>\n",
       "      <td>0.0</td>\n",
       "      <td>0.0</td>\n",
       "      <td>0.0</td>\n",
       "      <td>0.0</td>\n",
       "      <td>0.0</td>\n",
       "      <td>0.0</td>\n",
       "      <td>0.0</td>\n",
       "      <td>0.023256</td>\n",
       "      <td>0.000000</td>\n",
       "    </tr>\n",
       "    <tr>\n",
       "      <th>ZharnitskyVadim</th>\n",
       "      <td>0.000000</td>\n",
       "      <td>0.000000</td>\n",
       "      <td>0.000000</td>\n",
       "      <td>0.000000</td>\n",
       "      <td>0.000000</td>\n",
       "      <td>0.000000</td>\n",
       "      <td>0.000000</td>\n",
       "      <td>0.000000</td>\n",
       "      <td>0.000000</td>\n",
       "      <td>0.000000</td>\n",
       "      <td>...</td>\n",
       "      <td>0.0</td>\n",
       "      <td>0.0</td>\n",
       "      <td>0.0</td>\n",
       "      <td>0.0</td>\n",
       "      <td>0.0</td>\n",
       "      <td>0.0</td>\n",
       "      <td>0.0</td>\n",
       "      <td>0.0</td>\n",
       "      <td>0.000000</td>\n",
       "      <td>0.008065</td>\n",
       "    </tr>\n",
       "  </tbody>\n",
       "</table>\n",
       "<p>65 rows × 1665 columns</p>\n",
       "</div>"
      ],
      "text/plain": [
       "                     MR4504450  MR4310891  MR4292179  MR4457373  MR4411466  \\\n",
       "AhlgrenScottD         0.000000   0.000000   0.000000   0.000000   0.000000   \n",
       "AlbinPierre           0.000000   0.000000   0.000000   0.000000   0.000000   \n",
       "BaloghJózsef          0.000000   0.000000   0.000000   0.000000   0.000000   \n",
       "BaryshnikovYuliyM     0.000000   0.000000   0.000000   0.000000   0.000000   \n",
       "Berwick-EvansDaniel   0.214286   0.071429   0.071429   0.071429   0.071429   \n",
       "...                        ...        ...        ...        ...        ...   \n",
       "WuXuan                0.000000   0.000000   0.000000   0.000000   0.000000   \n",
       "YongAlexanderTF       0.000000   0.000000   0.000000   0.000000   0.000000   \n",
       "YoungAmanda           0.000000   0.000000   0.000000   0.000000   0.000000   \n",
       "ZaharescuAlexandru    0.000000   0.000000   0.000000   0.000000   0.000000   \n",
       "ZharnitskyVadim       0.000000   0.000000   0.000000   0.000000   0.000000   \n",
       "\n",
       "                     MR4400191  MR4329869  MR4270822  MR4082991  MR3990310  \\\n",
       "AhlgrenScottD         0.000000   0.000000   0.000000   0.000000   0.000000   \n",
       "AlbinPierre           0.000000   0.000000   0.000000   0.000000   0.000000   \n",
       "BaloghJózsef          0.000000   0.000000   0.000000   0.000000   0.000000   \n",
       "BaryshnikovYuliyM     0.000000   0.000000   0.000000   0.000000   0.000000   \n",
       "Berwick-EvansDaniel   0.071429   0.071429   0.071429   0.071429   0.071429   \n",
       "...                        ...        ...        ...        ...        ...   \n",
       "WuXuan                0.000000   0.000000   0.000000   0.000000   0.000000   \n",
       "YongAlexanderTF       0.000000   0.000000   0.000000   0.000000   0.000000   \n",
       "YoungAmanda           0.000000   0.000000   0.000000   0.000000   0.000000   \n",
       "ZaharescuAlexandru    0.000000   0.000000   0.000000   0.000000   0.000000   \n",
       "ZharnitskyVadim       0.000000   0.000000   0.000000   0.000000   0.000000   \n",
       "\n",
       "                     ...  MR4157696  MR4126756  MR4123247  MR4033866  \\\n",
       "AhlgrenScottD        ...        0.0        0.0        0.0        0.0   \n",
       "AlbinPierre          ...        0.0        0.0        0.0        0.0   \n",
       "BaloghJózsef         ...        0.0        0.0        0.0        0.0   \n",
       "BaryshnikovYuliyM    ...        0.0        0.0        0.0        0.0   \n",
       "Berwick-EvansDaniel  ...        0.0        0.0        0.0        0.0   \n",
       "...                  ...        ...        ...        ...        ...   \n",
       "WuXuan               ...        0.0        0.0        0.0        0.0   \n",
       "YongAlexanderTF      ...        0.0        0.0        0.0        0.0   \n",
       "YoungAmanda          ...        0.0        0.0        0.0        0.0   \n",
       "ZaharescuAlexandru   ...        0.0        0.0        0.0        0.0   \n",
       "ZharnitskyVadim      ...        0.0        0.0        0.0        0.0   \n",
       "\n",
       "                     MR3979111  MR3973560  MR4068268  MR3906260  MR4439798  \\\n",
       "AhlgrenScottD              0.0        0.0        0.0        0.0   0.000000   \n",
       "AlbinPierre                0.0        0.0        0.0        0.0   0.000000   \n",
       "BaloghJózsef               0.0        0.0        0.0        0.0   0.000000   \n",
       "BaryshnikovYuliyM          0.0        0.0        0.0        0.0   0.000000   \n",
       "Berwick-EvansDaniel        0.0        0.0        0.0        0.0   0.000000   \n",
       "...                        ...        ...        ...        ...        ...   \n",
       "WuXuan                     0.0        0.0        0.0        0.0   0.000000   \n",
       "YongAlexanderTF            0.0        0.0        0.0        0.0   0.000000   \n",
       "YoungAmanda                0.0        0.0        0.0        0.0   0.000000   \n",
       "ZaharescuAlexandru         0.0        0.0        0.0        0.0   0.023256   \n",
       "ZharnitskyVadim            0.0        0.0        0.0        0.0   0.000000   \n",
       "\n",
       "                     MR2993443  \n",
       "AhlgrenScottD         0.000000  \n",
       "AlbinPierre           0.000000  \n",
       "BaloghJózsef          0.000000  \n",
       "BaryshnikovYuliyM     0.000000  \n",
       "Berwick-EvansDaniel   0.000000  \n",
       "...                        ...  \n",
       "WuXuan                0.000000  \n",
       "YongAlexanderTF       0.000000  \n",
       "YoungAmanda           0.000000  \n",
       "ZaharescuAlexandru    0.000000  \n",
       "ZharnitskyVadim       0.008065  \n",
       "\n",
       "[65 rows x 1665 columns]"
      ]
     },
     "execution_count": 228,
     "metadata": {},
     "output_type": "execute_result"
    }
   ],
   "source": [
    "citations_l1"
   ]
  },
  {
   "cell_type": "code",
   "execution_count": 229,
   "metadata": {},
   "outputs": [
    {
     "data": {
      "text/html": [
       "<div>\n",
       "<style scoped>\n",
       "    .dataframe tbody tr th:only-of-type {\n",
       "        vertical-align: middle;\n",
       "    }\n",
       "\n",
       "    .dataframe tbody tr th {\n",
       "        vertical-align: top;\n",
       "    }\n",
       "\n",
       "    .dataframe thead th {\n",
       "        text-align: right;\n",
       "    }\n",
       "</style>\n",
       "<table border=\"1\" class=\"dataframe\">\n",
       "  <thead>\n",
       "    <tr style=\"text-align: right;\">\n",
       "      <th></th>\n",
       "      <th>MR4504450</th>\n",
       "      <th>MR4310891</th>\n",
       "      <th>MR4292179</th>\n",
       "      <th>MR4457373</th>\n",
       "      <th>MR4411466</th>\n",
       "      <th>MR4400191</th>\n",
       "      <th>MR4329869</th>\n",
       "      <th>MR4270822</th>\n",
       "      <th>MR4082991</th>\n",
       "      <th>MR3990310</th>\n",
       "      <th>...</th>\n",
       "      <th>MR4157696</th>\n",
       "      <th>MR4126756</th>\n",
       "      <th>MR4123247</th>\n",
       "      <th>MR4033866</th>\n",
       "      <th>MR3979111</th>\n",
       "      <th>MR3973560</th>\n",
       "      <th>MR4068268</th>\n",
       "      <th>MR3906260</th>\n",
       "      <th>MR4439798</th>\n",
       "      <th>MR2993443</th>\n",
       "    </tr>\n",
       "  </thead>\n",
       "  <tbody>\n",
       "    <tr>\n",
       "      <th>AhlgrenScottD</th>\n",
       "      <td>0.00000</td>\n",
       "      <td>0.000000</td>\n",
       "      <td>0.000000</td>\n",
       "      <td>0.000000</td>\n",
       "      <td>0.000000</td>\n",
       "      <td>0.000000</td>\n",
       "      <td>0.000000</td>\n",
       "      <td>0.000000</td>\n",
       "      <td>0.000000</td>\n",
       "      <td>0.000000</td>\n",
       "      <td>...</td>\n",
       "      <td>0.0</td>\n",
       "      <td>0.0</td>\n",
       "      <td>0.0</td>\n",
       "      <td>0.0</td>\n",
       "      <td>0.0</td>\n",
       "      <td>0.0</td>\n",
       "      <td>0.0</td>\n",
       "      <td>0.0</td>\n",
       "      <td>0.000000</td>\n",
       "      <td>0.000000</td>\n",
       "    </tr>\n",
       "    <tr>\n",
       "      <th>AlbinPierre</th>\n",
       "      <td>0.00000</td>\n",
       "      <td>0.000000</td>\n",
       "      <td>0.000000</td>\n",
       "      <td>0.000000</td>\n",
       "      <td>0.000000</td>\n",
       "      <td>0.000000</td>\n",
       "      <td>0.000000</td>\n",
       "      <td>0.000000</td>\n",
       "      <td>0.000000</td>\n",
       "      <td>0.000000</td>\n",
       "      <td>...</td>\n",
       "      <td>0.0</td>\n",
       "      <td>0.0</td>\n",
       "      <td>0.0</td>\n",
       "      <td>0.0</td>\n",
       "      <td>0.0</td>\n",
       "      <td>0.0</td>\n",
       "      <td>0.0</td>\n",
       "      <td>0.0</td>\n",
       "      <td>0.000000</td>\n",
       "      <td>0.000000</td>\n",
       "    </tr>\n",
       "    <tr>\n",
       "      <th>BaloghJózsef</th>\n",
       "      <td>0.00000</td>\n",
       "      <td>0.000000</td>\n",
       "      <td>0.000000</td>\n",
       "      <td>0.000000</td>\n",
       "      <td>0.000000</td>\n",
       "      <td>0.000000</td>\n",
       "      <td>0.000000</td>\n",
       "      <td>0.000000</td>\n",
       "      <td>0.000000</td>\n",
       "      <td>0.000000</td>\n",
       "      <td>...</td>\n",
       "      <td>0.0</td>\n",
       "      <td>0.0</td>\n",
       "      <td>0.0</td>\n",
       "      <td>0.0</td>\n",
       "      <td>0.0</td>\n",
       "      <td>0.0</td>\n",
       "      <td>0.0</td>\n",
       "      <td>0.0</td>\n",
       "      <td>0.000000</td>\n",
       "      <td>0.000000</td>\n",
       "    </tr>\n",
       "    <tr>\n",
       "      <th>BaryshnikovYuliyM</th>\n",
       "      <td>0.00000</td>\n",
       "      <td>0.000000</td>\n",
       "      <td>0.000000</td>\n",
       "      <td>0.000000</td>\n",
       "      <td>0.000000</td>\n",
       "      <td>0.000000</td>\n",
       "      <td>0.000000</td>\n",
       "      <td>0.000000</td>\n",
       "      <td>0.000000</td>\n",
       "      <td>0.000000</td>\n",
       "      <td>...</td>\n",
       "      <td>0.0</td>\n",
       "      <td>0.0</td>\n",
       "      <td>0.0</td>\n",
       "      <td>0.0</td>\n",
       "      <td>0.0</td>\n",
       "      <td>0.0</td>\n",
       "      <td>0.0</td>\n",
       "      <td>0.0</td>\n",
       "      <td>0.000000</td>\n",
       "      <td>0.000000</td>\n",
       "    </tr>\n",
       "    <tr>\n",
       "      <th>Berwick-EvansDaniel</th>\n",
       "      <td>0.67082</td>\n",
       "      <td>0.223607</td>\n",
       "      <td>0.223607</td>\n",
       "      <td>0.223607</td>\n",
       "      <td>0.223607</td>\n",
       "      <td>0.223607</td>\n",
       "      <td>0.223607</td>\n",
       "      <td>0.223607</td>\n",
       "      <td>0.223607</td>\n",
       "      <td>0.223607</td>\n",
       "      <td>...</td>\n",
       "      <td>0.0</td>\n",
       "      <td>0.0</td>\n",
       "      <td>0.0</td>\n",
       "      <td>0.0</td>\n",
       "      <td>0.0</td>\n",
       "      <td>0.0</td>\n",
       "      <td>0.0</td>\n",
       "      <td>0.0</td>\n",
       "      <td>0.000000</td>\n",
       "      <td>0.000000</td>\n",
       "    </tr>\n",
       "    <tr>\n",
       "      <th>...</th>\n",
       "      <td>...</td>\n",
       "      <td>...</td>\n",
       "      <td>...</td>\n",
       "      <td>...</td>\n",
       "      <td>...</td>\n",
       "      <td>...</td>\n",
       "      <td>...</td>\n",
       "      <td>...</td>\n",
       "      <td>...</td>\n",
       "      <td>...</td>\n",
       "      <td>...</td>\n",
       "      <td>...</td>\n",
       "      <td>...</td>\n",
       "      <td>...</td>\n",
       "      <td>...</td>\n",
       "      <td>...</td>\n",
       "      <td>...</td>\n",
       "      <td>...</td>\n",
       "      <td>...</td>\n",
       "      <td>...</td>\n",
       "      <td>...</td>\n",
       "    </tr>\n",
       "    <tr>\n",
       "      <th>WuXuan</th>\n",
       "      <td>0.00000</td>\n",
       "      <td>0.000000</td>\n",
       "      <td>0.000000</td>\n",
       "      <td>0.000000</td>\n",
       "      <td>0.000000</td>\n",
       "      <td>0.000000</td>\n",
       "      <td>0.000000</td>\n",
       "      <td>0.000000</td>\n",
       "      <td>0.000000</td>\n",
       "      <td>0.000000</td>\n",
       "      <td>...</td>\n",
       "      <td>0.0</td>\n",
       "      <td>0.0</td>\n",
       "      <td>0.0</td>\n",
       "      <td>0.0</td>\n",
       "      <td>0.0</td>\n",
       "      <td>0.0</td>\n",
       "      <td>0.0</td>\n",
       "      <td>0.0</td>\n",
       "      <td>0.000000</td>\n",
       "      <td>0.000000</td>\n",
       "    </tr>\n",
       "    <tr>\n",
       "      <th>YongAlexanderTF</th>\n",
       "      <td>0.00000</td>\n",
       "      <td>0.000000</td>\n",
       "      <td>0.000000</td>\n",
       "      <td>0.000000</td>\n",
       "      <td>0.000000</td>\n",
       "      <td>0.000000</td>\n",
       "      <td>0.000000</td>\n",
       "      <td>0.000000</td>\n",
       "      <td>0.000000</td>\n",
       "      <td>0.000000</td>\n",
       "      <td>...</td>\n",
       "      <td>0.0</td>\n",
       "      <td>0.0</td>\n",
       "      <td>0.0</td>\n",
       "      <td>0.0</td>\n",
       "      <td>0.0</td>\n",
       "      <td>0.0</td>\n",
       "      <td>0.0</td>\n",
       "      <td>0.0</td>\n",
       "      <td>0.000000</td>\n",
       "      <td>0.000000</td>\n",
       "    </tr>\n",
       "    <tr>\n",
       "      <th>YoungAmanda</th>\n",
       "      <td>0.00000</td>\n",
       "      <td>0.000000</td>\n",
       "      <td>0.000000</td>\n",
       "      <td>0.000000</td>\n",
       "      <td>0.000000</td>\n",
       "      <td>0.000000</td>\n",
       "      <td>0.000000</td>\n",
       "      <td>0.000000</td>\n",
       "      <td>0.000000</td>\n",
       "      <td>0.000000</td>\n",
       "      <td>...</td>\n",
       "      <td>0.0</td>\n",
       "      <td>0.0</td>\n",
       "      <td>0.0</td>\n",
       "      <td>0.0</td>\n",
       "      <td>0.0</td>\n",
       "      <td>0.0</td>\n",
       "      <td>0.0</td>\n",
       "      <td>0.0</td>\n",
       "      <td>0.000000</td>\n",
       "      <td>0.000000</td>\n",
       "    </tr>\n",
       "    <tr>\n",
       "      <th>ZaharescuAlexandru</th>\n",
       "      <td>0.00000</td>\n",
       "      <td>0.000000</td>\n",
       "      <td>0.000000</td>\n",
       "      <td>0.000000</td>\n",
       "      <td>0.000000</td>\n",
       "      <td>0.000000</td>\n",
       "      <td>0.000000</td>\n",
       "      <td>0.000000</td>\n",
       "      <td>0.000000</td>\n",
       "      <td>0.000000</td>\n",
       "      <td>...</td>\n",
       "      <td>0.0</td>\n",
       "      <td>0.0</td>\n",
       "      <td>0.0</td>\n",
       "      <td>0.0</td>\n",
       "      <td>0.0</td>\n",
       "      <td>0.0</td>\n",
       "      <td>0.0</td>\n",
       "      <td>0.0</td>\n",
       "      <td>0.120386</td>\n",
       "      <td>0.000000</td>\n",
       "    </tr>\n",
       "    <tr>\n",
       "      <th>ZharnitskyVadim</th>\n",
       "      <td>0.00000</td>\n",
       "      <td>0.000000</td>\n",
       "      <td>0.000000</td>\n",
       "      <td>0.000000</td>\n",
       "      <td>0.000000</td>\n",
       "      <td>0.000000</td>\n",
       "      <td>0.000000</td>\n",
       "      <td>0.000000</td>\n",
       "      <td>0.000000</td>\n",
       "      <td>0.000000</td>\n",
       "      <td>...</td>\n",
       "      <td>0.0</td>\n",
       "      <td>0.0</td>\n",
       "      <td>0.0</td>\n",
       "      <td>0.0</td>\n",
       "      <td>0.0</td>\n",
       "      <td>0.0</td>\n",
       "      <td>0.0</td>\n",
       "      <td>0.0</td>\n",
       "      <td>0.000000</td>\n",
       "      <td>0.066519</td>\n",
       "    </tr>\n",
       "  </tbody>\n",
       "</table>\n",
       "<p>65 rows × 1665 columns</p>\n",
       "</div>"
      ],
      "text/plain": [
       "                     MR4504450  MR4310891  MR4292179  MR4457373  MR4411466  \\\n",
       "AhlgrenScottD          0.00000   0.000000   0.000000   0.000000   0.000000   \n",
       "AlbinPierre            0.00000   0.000000   0.000000   0.000000   0.000000   \n",
       "BaloghJózsef           0.00000   0.000000   0.000000   0.000000   0.000000   \n",
       "BaryshnikovYuliyM      0.00000   0.000000   0.000000   0.000000   0.000000   \n",
       "Berwick-EvansDaniel    0.67082   0.223607   0.223607   0.223607   0.223607   \n",
       "...                        ...        ...        ...        ...        ...   \n",
       "WuXuan                 0.00000   0.000000   0.000000   0.000000   0.000000   \n",
       "YongAlexanderTF        0.00000   0.000000   0.000000   0.000000   0.000000   \n",
       "YoungAmanda            0.00000   0.000000   0.000000   0.000000   0.000000   \n",
       "ZaharescuAlexandru     0.00000   0.000000   0.000000   0.000000   0.000000   \n",
       "ZharnitskyVadim        0.00000   0.000000   0.000000   0.000000   0.000000   \n",
       "\n",
       "                     MR4400191  MR4329869  MR4270822  MR4082991  MR3990310  \\\n",
       "AhlgrenScottD         0.000000   0.000000   0.000000   0.000000   0.000000   \n",
       "AlbinPierre           0.000000   0.000000   0.000000   0.000000   0.000000   \n",
       "BaloghJózsef          0.000000   0.000000   0.000000   0.000000   0.000000   \n",
       "BaryshnikovYuliyM     0.000000   0.000000   0.000000   0.000000   0.000000   \n",
       "Berwick-EvansDaniel   0.223607   0.223607   0.223607   0.223607   0.223607   \n",
       "...                        ...        ...        ...        ...        ...   \n",
       "WuXuan                0.000000   0.000000   0.000000   0.000000   0.000000   \n",
       "YongAlexanderTF       0.000000   0.000000   0.000000   0.000000   0.000000   \n",
       "YoungAmanda           0.000000   0.000000   0.000000   0.000000   0.000000   \n",
       "ZaharescuAlexandru    0.000000   0.000000   0.000000   0.000000   0.000000   \n",
       "ZharnitskyVadim       0.000000   0.000000   0.000000   0.000000   0.000000   \n",
       "\n",
       "                     ...  MR4157696  MR4126756  MR4123247  MR4033866  \\\n",
       "AhlgrenScottD        ...        0.0        0.0        0.0        0.0   \n",
       "AlbinPierre          ...        0.0        0.0        0.0        0.0   \n",
       "BaloghJózsef         ...        0.0        0.0        0.0        0.0   \n",
       "BaryshnikovYuliyM    ...        0.0        0.0        0.0        0.0   \n",
       "Berwick-EvansDaniel  ...        0.0        0.0        0.0        0.0   \n",
       "...                  ...        ...        ...        ...        ...   \n",
       "WuXuan               ...        0.0        0.0        0.0        0.0   \n",
       "YongAlexanderTF      ...        0.0        0.0        0.0        0.0   \n",
       "YoungAmanda          ...        0.0        0.0        0.0        0.0   \n",
       "ZaharescuAlexandru   ...        0.0        0.0        0.0        0.0   \n",
       "ZharnitskyVadim      ...        0.0        0.0        0.0        0.0   \n",
       "\n",
       "                     MR3979111  MR3973560  MR4068268  MR3906260  MR4439798  \\\n",
       "AhlgrenScottD              0.0        0.0        0.0        0.0   0.000000   \n",
       "AlbinPierre                0.0        0.0        0.0        0.0   0.000000   \n",
       "BaloghJózsef               0.0        0.0        0.0        0.0   0.000000   \n",
       "BaryshnikovYuliyM          0.0        0.0        0.0        0.0   0.000000   \n",
       "Berwick-EvansDaniel        0.0        0.0        0.0        0.0   0.000000   \n",
       "...                        ...        ...        ...        ...        ...   \n",
       "WuXuan                     0.0        0.0        0.0        0.0   0.000000   \n",
       "YongAlexanderTF            0.0        0.0        0.0        0.0   0.000000   \n",
       "YoungAmanda                0.0        0.0        0.0        0.0   0.000000   \n",
       "ZaharescuAlexandru         0.0        0.0        0.0        0.0   0.120386   \n",
       "ZharnitskyVadim            0.0        0.0        0.0        0.0   0.000000   \n",
       "\n",
       "                     MR2993443  \n",
       "AhlgrenScottD         0.000000  \n",
       "AlbinPierre           0.000000  \n",
       "BaloghJózsef          0.000000  \n",
       "BaryshnikovYuliyM     0.000000  \n",
       "Berwick-EvansDaniel   0.000000  \n",
       "...                        ...  \n",
       "WuXuan                0.000000  \n",
       "YongAlexanderTF       0.000000  \n",
       "YoungAmanda           0.000000  \n",
       "ZaharescuAlexandru    0.000000  \n",
       "ZharnitskyVadim       0.066519  \n",
       "\n",
       "[65 rows x 1665 columns]"
      ]
     },
     "execution_count": 229,
     "metadata": {},
     "output_type": "execute_result"
    }
   ],
   "source": [
    "citations_l2"
   ]
  },
  {
   "cell_type": "code",
   "execution_count": 230,
   "metadata": {},
   "outputs": [],
   "source": [
    "#Apply PCA to reduce the dimension\n",
    "from sklearn.decomposition import PCA\n",
    "\n",
    "pca = PCA(n_components=2)\n",
    "\n",
    "principalComponents_l1 = pca.fit_transform(citations_l1)\n",
    "\n",
    "principalComponents_l2 = pca.fit_transform(citations_l2)"
   ]
  },
  {
   "cell_type": "code",
   "execution_count": 231,
   "metadata": {},
   "outputs": [
    {
     "name": "stdout",
     "output_type": "stream",
     "text": [
      "                          PC1       PC2\n",
      "AhlgrenScottD       -0.000221 -0.000294\n",
      "AlbinPierre         -0.000195 -0.000263\n",
      "BaloghJózsef        -0.000174 -0.000233\n",
      "BaryshnikovYuliyM   -0.000186 -0.000250\n",
      "Berwick-EvansDaniel -0.000188 -0.000251\n",
      "...                       ...       ...\n",
      "WuXuan              -0.000412 -0.000551\n",
      "YongAlexanderTF     -0.000186 -0.000251\n",
      "YoungAmanda         -0.109014 -0.262580\n",
      "ZaharescuAlexandru  -0.000188 -0.000251\n",
      "ZharnitskyVadim     -0.000177 -0.000236\n",
      "\n",
      "[65 rows x 2 columns]\n"
     ]
    }
   ],
   "source": [
    "l1_pca = pd.DataFrame(principalComponents_l1, columns=['PC1', 'PC2'])\n",
    "l1_pca.index = citations_l1.index\n",
    "\n",
    "print(l1_pca)"
   ]
  },
  {
   "cell_type": "code",
   "execution_count": 232,
   "metadata": {},
   "outputs": [
    {
     "name": "stdout",
     "output_type": "stream",
     "text": [
      "                          PC1       PC2\n",
      "AhlgrenScottD       -0.116064  0.134621\n",
      "AlbinPierre         -0.020683 -0.049550\n",
      "BaloghJózsef        -0.083725 -0.192640\n",
      "BaryshnikovYuliyM    0.147039  0.065344\n",
      "Berwick-EvansDaniel -0.031164 -0.032267\n",
      "...                       ...       ...\n",
      "WuXuan               0.056216  0.017646\n",
      "YongAlexanderTF     -0.001307 -0.041125\n",
      "YoungAmanda         -0.011510 -0.017664\n",
      "ZaharescuAlexandru  -0.306834  0.578496\n",
      "ZharnitskyVadim      0.360622  0.102516\n",
      "\n",
      "[65 rows x 2 columns]\n"
     ]
    }
   ],
   "source": [
    "l2_pca = pd.DataFrame(principalComponents_l2, columns=['PC1', 'PC2'])\n",
    "l2_pca.index = citations_l2.index\n",
    "\n",
    "print(l2_pca)"
   ]
  },
  {
   "cell_type": "code",
   "execution_count": 233,
   "metadata": {},
   "outputs": [
    {
     "name": "stdout",
     "output_type": "stream",
     "text": [
      "Requirement already satisfied: nbformat in c:\\users\\10072\\appdata\\local\\packages\\pythonsoftwarefoundation.python.3.11_qbz5n2kfra8p0\\localcache\\local-packages\\python311\\site-packages (5.9.2)\n",
      "Requirement already satisfied: fastjsonschema in c:\\users\\10072\\appdata\\local\\packages\\pythonsoftwarefoundation.python.3.11_qbz5n2kfra8p0\\localcache\\local-packages\\python311\\site-packages (from nbformat) (2.18.0)\n",
      "Requirement already satisfied: jsonschema>=2.6 in c:\\users\\10072\\appdata\\local\\packages\\pythonsoftwarefoundation.python.3.11_qbz5n2kfra8p0\\localcache\\local-packages\\python311\\site-packages (from nbformat) (4.19.1)\n",
      "Requirement already satisfied: jupyter-core in c:\\users\\10072\\appdata\\local\\packages\\pythonsoftwarefoundation.python.3.11_qbz5n2kfra8p0\\localcache\\local-packages\\python311\\site-packages (from nbformat) (5.3.1)\n",
      "Requirement already satisfied: traitlets>=5.1 in c:\\users\\10072\\appdata\\local\\packages\\pythonsoftwarefoundation.python.3.11_qbz5n2kfra8p0\\localcache\\local-packages\\python311\\site-packages (from nbformat) (5.10.0)\n",
      "Requirement already satisfied: attrs>=22.2.0 in c:\\users\\10072\\appdata\\local\\packages\\pythonsoftwarefoundation.python.3.11_qbz5n2kfra8p0\\localcache\\local-packages\\python311\\site-packages (from jsonschema>=2.6->nbformat) (23.1.0)\n",
      "Requirement already satisfied: jsonschema-specifications>=2023.03.6 in c:\\users\\10072\\appdata\\local\\packages\\pythonsoftwarefoundation.python.3.11_qbz5n2kfra8p0\\localcache\\local-packages\\python311\\site-packages (from jsonschema>=2.6->nbformat) (2023.7.1)\n",
      "Requirement already satisfied: referencing>=0.28.4 in c:\\users\\10072\\appdata\\local\\packages\\pythonsoftwarefoundation.python.3.11_qbz5n2kfra8p0\\localcache\\local-packages\\python311\\site-packages (from jsonschema>=2.6->nbformat) (0.30.2)\n",
      "Requirement already satisfied: rpds-py>=0.7.1 in c:\\users\\10072\\appdata\\local\\packages\\pythonsoftwarefoundation.python.3.11_qbz5n2kfra8p0\\localcache\\local-packages\\python311\\site-packages (from jsonschema>=2.6->nbformat) (0.10.3)\n",
      "Requirement already satisfied: platformdirs>=2.5 in c:\\users\\10072\\appdata\\local\\packages\\pythonsoftwarefoundation.python.3.11_qbz5n2kfra8p0\\localcache\\local-packages\\python311\\site-packages (from jupyter-core->nbformat) (3.10.0)\n",
      "Requirement already satisfied: pywin32>=300 in c:\\users\\10072\\appdata\\local\\packages\\pythonsoftwarefoundation.python.3.11_qbz5n2kfra8p0\\localcache\\local-packages\\python311\\site-packages (from jupyter-core->nbformat) (306)\n",
      "Note: you may need to restart the kernel to use updated packages.\n"
     ]
    }
   ],
   "source": [
    "pip install nbformat"
   ]
  },
  {
   "cell_type": "code",
   "execution_count": 234,
   "metadata": {},
   "outputs": [
    {
     "data": {
      "application/vnd.plotly.v1+json": {
       "config": {
        "plotlyServerURL": "https://plot.ly"
       },
       "data": [
        {
         "hovertemplate": "<b>%{hovertext}</b><br><br>PC1=%{x}<br>PC2=%{y}<extra></extra>",
         "hovertext": [
          "AhlgrenScottD",
          "AlbinPierre",
          "BaloghJózsef",
          "BaryshnikovYuliyM",
          "Berwick-EvansDaniel",
          "BocaFlorin-Petre",
          "BradlowStevenBenjamin",
          "BronskiJaredC",
          "DeVilleRELee",
          "DeyParthaSarathi",
          "DiFrancescoPhilippe",
          "DoddChristopher",
          "DunfieldNathanM",
          "ErdoğanMehmetBurak",
          "FengRunhuan",
          "FernandesRuiLoja",
          "FordKevinB",
          "GuzmanRosemaryK",
          "HaboushWilliamJ",
          "HellerJeremiahBen",
          "HinkkanenAimo",
          "HiraniAnilN",
          "HungPei-Ken",
          "HurVeraMikyoung",
          "IvanovSergeiVladimirovich",
          "JandaFelix",
          "JingXiaochen",
          "JungeMarius",
          "KatzSheldonH",
          "KedemRinat",
          "KermanEly",
          "KirkpatrickKayLene",
          "KirrEduard",
          "KostochkaAlexandrV",
          "KutzarovaDenkaN",
          "LaNaveGabriele",
          "LaugesenRichardSnyder",
          "LeditzkyFelix",
          "LermanEugeneM",
          "LiXiaochun",
          "LiuYuan",
          "McCarthyRandy",
          "MineyevIgor",
          "NikolaevIgorG",
          "OikhbergTimur",
          "PascaleffJamesThomas",
          "RaptiZoi",
          "RasmussenJacob",
          "RasmussenSarahDean",
          "RezkCharlesW",
          "ReznickBruce",
          "SongRenming",
          "SowersRichardB",
          "StojanoskaVesna",
          "ThornerJesse",
          "TolmanSusan",
          "TumanovAlexander",
          "TysonJeremyT",
          "TzirakisNikolaos",
          "WeiWei",
          "WuXuan",
          "YongAlexanderTF",
          "YoungAmanda",
          "ZaharescuAlexandru",
          "ZharnitskyVadim"
         ],
         "legendgroup": "",
         "marker": {
          "color": "#636efa",
          "size": 5,
          "symbol": "circle"
         },
         "mode": "markers",
         "name": "",
         "orientation": "v",
         "showlegend": false,
         "type": "scatter",
         "x": [
          -0.00022143791166789255,
          -0.00019481342252138716,
          -0.00017415964042211186,
          -0.00018641461005155193,
          -0.0001879683543566893,
          -0.00017905764369822942,
          -0.00003756998681745766,
          -0.00017218266680591064,
          -0.00017197648640258787,
          -0.0002944834893220042,
          -0.0007749511104106247,
          -0.11540507814523136,
          -0.0009559379846918409,
          -0.00017199865404986202,
          -0.017231430672212344,
          -0.00017766832598133865,
          -0.00017831955212209378,
          0.8682189970494819,
          -0.00027919468683643074,
          -0.0002203715878067761,
          -0.00019106446942022037,
          -0.0001824817241050513,
          -0.10901356260343888,
          -0.00017431714762632122,
          0.02764364711422919,
          -0.00024267528593945013,
          -0.002733236005361464,
          -0.00016184925276731995,
          -0.0012800640153886982,
          -0.00017480149934876897,
          -0.00018283930734597917,
          -0.00017418737506300622,
          -0.0001885951820246689,
          -0.00017422000514613866,
          -0.00017262377901780003,
          -0.00022733689286820563,
          -0.0002043884861172164,
          -0.00018462644000568365,
          -0.0001701884489400583,
          -0.00018166024881476425,
          -0.11200188546186535,
          -0.00017925650361441035,
          0.02583096842736463,
          -0.00016141840543014167,
          -0.00017330764503320958,
          -0.0002055686003949949,
          -0.00017735731773094285,
          -0.00017718464848433837,
          -0.00017770391149981028,
          -0.00018099035849040122,
          -0.00018107429006486214,
          -0.00027232770781521345,
          -0.00035141785520181895,
          -0.000178614094018415,
          -0.00020651089603627987,
          -0.00017000928354458648,
          -0.00020657937983925014,
          -0.00016679396347314622,
          -0.00017124027432298468,
          -0.44314827221898007,
          -0.00041177175880261694,
          -0.0001861658411372911,
          -0.10901356370889223,
          -0.00018821276589656475,
          -0.0001766526003577832
         ],
         "xaxis": "x",
         "y": [
          -0.00029385596266473974,
          -0.00026268341523031144,
          -0.00023252718579968386,
          -0.0002495141940611648,
          -0.0002508658442614117,
          -0.00023914208832033268,
          -0.00021049664632697654,
          -0.00022987283084363312,
          -0.00022956587725147333,
          -0.00039239174658814256,
          -0.0016840517456735515,
          -0.2899728251244079,
          -0.00219327064366408,
          -0.00022945979609291736,
          0.030162695730034505,
          -0.000237406533633919,
          -0.0002383052167428097,
          0.2657323976797209,
          -0.0003729741915504383,
          -0.0002942811339737087,
          -0.0002558982007327676,
          -0.00024599517969028695,
          -0.26257967583399633,
          -0.00023253510616096256,
          0.008275307662111665,
          -0.0003404928182314111,
          0.004198611085641978,
          -0.0002298241414536972,
          -0.0030134346143494027,
          -0.00023836764835596765,
          -0.00024425846016844205,
          -0.0002325738568941948,
          -0.0002517255391792062,
          -0.00023260778256337198,
          -0.00023052908705733534,
          -0.0003101670396517149,
          -0.00026043831520505936,
          -0.00024658592875268827,
          -0.00022756318576544306,
          -0.00024260641578350658,
          -0.27515719325549887,
          -0.00023965891618537552,
          0.007724471465577909,
          -0.00024135055344887745,
          -0.00023145853230433533,
          -0.0002831852400382803,
          -0.00023678795457965127,
          -0.00024388812559981616,
          -0.00024072363146188517,
          -0.00024164937870137888,
          -0.00024243289658809354,
          -0.00015704323769069237,
          -0.0004573779844763838,
          -0.00023845917184112442,
          -0.0002774003806766553,
          -0.0002276734803113199,
          -0.00027585147419999624,
          -0.0002367112477384308,
          -0.0002285156847161799,
          0.7946617458731896,
          -0.0005507255903295231,
          -0.00025145040439359295,
          -0.26257965532327515,
          -0.0002513932453571032,
          -0.00023587445578457305
         ],
         "yaxis": "y"
        }
       ],
       "layout": {
        "legend": {
         "tracegroupgap": 0
        },
        "margin": {
         "t": 60
        },
        "template": {
         "data": {
          "bar": [
           {
            "error_x": {
             "color": "#2a3f5f"
            },
            "error_y": {
             "color": "#2a3f5f"
            },
            "marker": {
             "line": {
              "color": "#E5ECF6",
              "width": 0.5
             },
             "pattern": {
              "fillmode": "overlay",
              "size": 10,
              "solidity": 0.2
             }
            },
            "type": "bar"
           }
          ],
          "barpolar": [
           {
            "marker": {
             "line": {
              "color": "#E5ECF6",
              "width": 0.5
             },
             "pattern": {
              "fillmode": "overlay",
              "size": 10,
              "solidity": 0.2
             }
            },
            "type": "barpolar"
           }
          ],
          "carpet": [
           {
            "aaxis": {
             "endlinecolor": "#2a3f5f",
             "gridcolor": "white",
             "linecolor": "white",
             "minorgridcolor": "white",
             "startlinecolor": "#2a3f5f"
            },
            "baxis": {
             "endlinecolor": "#2a3f5f",
             "gridcolor": "white",
             "linecolor": "white",
             "minorgridcolor": "white",
             "startlinecolor": "#2a3f5f"
            },
            "type": "carpet"
           }
          ],
          "choropleth": [
           {
            "colorbar": {
             "outlinewidth": 0,
             "ticks": ""
            },
            "type": "choropleth"
           }
          ],
          "contour": [
           {
            "colorbar": {
             "outlinewidth": 0,
             "ticks": ""
            },
            "colorscale": [
             [
              0,
              "#0d0887"
             ],
             [
              0.1111111111111111,
              "#46039f"
             ],
             [
              0.2222222222222222,
              "#7201a8"
             ],
             [
              0.3333333333333333,
              "#9c179e"
             ],
             [
              0.4444444444444444,
              "#bd3786"
             ],
             [
              0.5555555555555556,
              "#d8576b"
             ],
             [
              0.6666666666666666,
              "#ed7953"
             ],
             [
              0.7777777777777778,
              "#fb9f3a"
             ],
             [
              0.8888888888888888,
              "#fdca26"
             ],
             [
              1,
              "#f0f921"
             ]
            ],
            "type": "contour"
           }
          ],
          "contourcarpet": [
           {
            "colorbar": {
             "outlinewidth": 0,
             "ticks": ""
            },
            "type": "contourcarpet"
           }
          ],
          "heatmap": [
           {
            "colorbar": {
             "outlinewidth": 0,
             "ticks": ""
            },
            "colorscale": [
             [
              0,
              "#0d0887"
             ],
             [
              0.1111111111111111,
              "#46039f"
             ],
             [
              0.2222222222222222,
              "#7201a8"
             ],
             [
              0.3333333333333333,
              "#9c179e"
             ],
             [
              0.4444444444444444,
              "#bd3786"
             ],
             [
              0.5555555555555556,
              "#d8576b"
             ],
             [
              0.6666666666666666,
              "#ed7953"
             ],
             [
              0.7777777777777778,
              "#fb9f3a"
             ],
             [
              0.8888888888888888,
              "#fdca26"
             ],
             [
              1,
              "#f0f921"
             ]
            ],
            "type": "heatmap"
           }
          ],
          "heatmapgl": [
           {
            "colorbar": {
             "outlinewidth": 0,
             "ticks": ""
            },
            "colorscale": [
             [
              0,
              "#0d0887"
             ],
             [
              0.1111111111111111,
              "#46039f"
             ],
             [
              0.2222222222222222,
              "#7201a8"
             ],
             [
              0.3333333333333333,
              "#9c179e"
             ],
             [
              0.4444444444444444,
              "#bd3786"
             ],
             [
              0.5555555555555556,
              "#d8576b"
             ],
             [
              0.6666666666666666,
              "#ed7953"
             ],
             [
              0.7777777777777778,
              "#fb9f3a"
             ],
             [
              0.8888888888888888,
              "#fdca26"
             ],
             [
              1,
              "#f0f921"
             ]
            ],
            "type": "heatmapgl"
           }
          ],
          "histogram": [
           {
            "marker": {
             "pattern": {
              "fillmode": "overlay",
              "size": 10,
              "solidity": 0.2
             }
            },
            "type": "histogram"
           }
          ],
          "histogram2d": [
           {
            "colorbar": {
             "outlinewidth": 0,
             "ticks": ""
            },
            "colorscale": [
             [
              0,
              "#0d0887"
             ],
             [
              0.1111111111111111,
              "#46039f"
             ],
             [
              0.2222222222222222,
              "#7201a8"
             ],
             [
              0.3333333333333333,
              "#9c179e"
             ],
             [
              0.4444444444444444,
              "#bd3786"
             ],
             [
              0.5555555555555556,
              "#d8576b"
             ],
             [
              0.6666666666666666,
              "#ed7953"
             ],
             [
              0.7777777777777778,
              "#fb9f3a"
             ],
             [
              0.8888888888888888,
              "#fdca26"
             ],
             [
              1,
              "#f0f921"
             ]
            ],
            "type": "histogram2d"
           }
          ],
          "histogram2dcontour": [
           {
            "colorbar": {
             "outlinewidth": 0,
             "ticks": ""
            },
            "colorscale": [
             [
              0,
              "#0d0887"
             ],
             [
              0.1111111111111111,
              "#46039f"
             ],
             [
              0.2222222222222222,
              "#7201a8"
             ],
             [
              0.3333333333333333,
              "#9c179e"
             ],
             [
              0.4444444444444444,
              "#bd3786"
             ],
             [
              0.5555555555555556,
              "#d8576b"
             ],
             [
              0.6666666666666666,
              "#ed7953"
             ],
             [
              0.7777777777777778,
              "#fb9f3a"
             ],
             [
              0.8888888888888888,
              "#fdca26"
             ],
             [
              1,
              "#f0f921"
             ]
            ],
            "type": "histogram2dcontour"
           }
          ],
          "mesh3d": [
           {
            "colorbar": {
             "outlinewidth": 0,
             "ticks": ""
            },
            "type": "mesh3d"
           }
          ],
          "parcoords": [
           {
            "line": {
             "colorbar": {
              "outlinewidth": 0,
              "ticks": ""
             }
            },
            "type": "parcoords"
           }
          ],
          "pie": [
           {
            "automargin": true,
            "type": "pie"
           }
          ],
          "scatter": [
           {
            "fillpattern": {
             "fillmode": "overlay",
             "size": 10,
             "solidity": 0.2
            },
            "type": "scatter"
           }
          ],
          "scatter3d": [
           {
            "line": {
             "colorbar": {
              "outlinewidth": 0,
              "ticks": ""
             }
            },
            "marker": {
             "colorbar": {
              "outlinewidth": 0,
              "ticks": ""
             }
            },
            "type": "scatter3d"
           }
          ],
          "scattercarpet": [
           {
            "marker": {
             "colorbar": {
              "outlinewidth": 0,
              "ticks": ""
             }
            },
            "type": "scattercarpet"
           }
          ],
          "scattergeo": [
           {
            "marker": {
             "colorbar": {
              "outlinewidth": 0,
              "ticks": ""
             }
            },
            "type": "scattergeo"
           }
          ],
          "scattergl": [
           {
            "marker": {
             "colorbar": {
              "outlinewidth": 0,
              "ticks": ""
             }
            },
            "type": "scattergl"
           }
          ],
          "scattermapbox": [
           {
            "marker": {
             "colorbar": {
              "outlinewidth": 0,
              "ticks": ""
             }
            },
            "type": "scattermapbox"
           }
          ],
          "scatterpolar": [
           {
            "marker": {
             "colorbar": {
              "outlinewidth": 0,
              "ticks": ""
             }
            },
            "type": "scatterpolar"
           }
          ],
          "scatterpolargl": [
           {
            "marker": {
             "colorbar": {
              "outlinewidth": 0,
              "ticks": ""
             }
            },
            "type": "scatterpolargl"
           }
          ],
          "scatterternary": [
           {
            "marker": {
             "colorbar": {
              "outlinewidth": 0,
              "ticks": ""
             }
            },
            "type": "scatterternary"
           }
          ],
          "surface": [
           {
            "colorbar": {
             "outlinewidth": 0,
             "ticks": ""
            },
            "colorscale": [
             [
              0,
              "#0d0887"
             ],
             [
              0.1111111111111111,
              "#46039f"
             ],
             [
              0.2222222222222222,
              "#7201a8"
             ],
             [
              0.3333333333333333,
              "#9c179e"
             ],
             [
              0.4444444444444444,
              "#bd3786"
             ],
             [
              0.5555555555555556,
              "#d8576b"
             ],
             [
              0.6666666666666666,
              "#ed7953"
             ],
             [
              0.7777777777777778,
              "#fb9f3a"
             ],
             [
              0.8888888888888888,
              "#fdca26"
             ],
             [
              1,
              "#f0f921"
             ]
            ],
            "type": "surface"
           }
          ],
          "table": [
           {
            "cells": {
             "fill": {
              "color": "#EBF0F8"
             },
             "line": {
              "color": "white"
             }
            },
            "header": {
             "fill": {
              "color": "#C8D4E3"
             },
             "line": {
              "color": "white"
             }
            },
            "type": "table"
           }
          ]
         },
         "layout": {
          "annotationdefaults": {
           "arrowcolor": "#2a3f5f",
           "arrowhead": 0,
           "arrowwidth": 1
          },
          "autotypenumbers": "strict",
          "coloraxis": {
           "colorbar": {
            "outlinewidth": 0,
            "ticks": ""
           }
          },
          "colorscale": {
           "diverging": [
            [
             0,
             "#8e0152"
            ],
            [
             0.1,
             "#c51b7d"
            ],
            [
             0.2,
             "#de77ae"
            ],
            [
             0.3,
             "#f1b6da"
            ],
            [
             0.4,
             "#fde0ef"
            ],
            [
             0.5,
             "#f7f7f7"
            ],
            [
             0.6,
             "#e6f5d0"
            ],
            [
             0.7,
             "#b8e186"
            ],
            [
             0.8,
             "#7fbc41"
            ],
            [
             0.9,
             "#4d9221"
            ],
            [
             1,
             "#276419"
            ]
           ],
           "sequential": [
            [
             0,
             "#0d0887"
            ],
            [
             0.1111111111111111,
             "#46039f"
            ],
            [
             0.2222222222222222,
             "#7201a8"
            ],
            [
             0.3333333333333333,
             "#9c179e"
            ],
            [
             0.4444444444444444,
             "#bd3786"
            ],
            [
             0.5555555555555556,
             "#d8576b"
            ],
            [
             0.6666666666666666,
             "#ed7953"
            ],
            [
             0.7777777777777778,
             "#fb9f3a"
            ],
            [
             0.8888888888888888,
             "#fdca26"
            ],
            [
             1,
             "#f0f921"
            ]
           ],
           "sequentialminus": [
            [
             0,
             "#0d0887"
            ],
            [
             0.1111111111111111,
             "#46039f"
            ],
            [
             0.2222222222222222,
             "#7201a8"
            ],
            [
             0.3333333333333333,
             "#9c179e"
            ],
            [
             0.4444444444444444,
             "#bd3786"
            ],
            [
             0.5555555555555556,
             "#d8576b"
            ],
            [
             0.6666666666666666,
             "#ed7953"
            ],
            [
             0.7777777777777778,
             "#fb9f3a"
            ],
            [
             0.8888888888888888,
             "#fdca26"
            ],
            [
             1,
             "#f0f921"
            ]
           ]
          },
          "colorway": [
           "#636efa",
           "#EF553B",
           "#00cc96",
           "#ab63fa",
           "#FFA15A",
           "#19d3f3",
           "#FF6692",
           "#B6E880",
           "#FF97FF",
           "#FECB52"
          ],
          "font": {
           "color": "#2a3f5f"
          },
          "geo": {
           "bgcolor": "white",
           "lakecolor": "white",
           "landcolor": "#E5ECF6",
           "showlakes": true,
           "showland": true,
           "subunitcolor": "white"
          },
          "hoverlabel": {
           "align": "left"
          },
          "hovermode": "closest",
          "mapbox": {
           "style": "light"
          },
          "paper_bgcolor": "white",
          "plot_bgcolor": "#E5ECF6",
          "polar": {
           "angularaxis": {
            "gridcolor": "white",
            "linecolor": "white",
            "ticks": ""
           },
           "bgcolor": "#E5ECF6",
           "radialaxis": {
            "gridcolor": "white",
            "linecolor": "white",
            "ticks": ""
           }
          },
          "scene": {
           "xaxis": {
            "backgroundcolor": "#E5ECF6",
            "gridcolor": "white",
            "gridwidth": 2,
            "linecolor": "white",
            "showbackground": true,
            "ticks": "",
            "zerolinecolor": "white"
           },
           "yaxis": {
            "backgroundcolor": "#E5ECF6",
            "gridcolor": "white",
            "gridwidth": 2,
            "linecolor": "white",
            "showbackground": true,
            "ticks": "",
            "zerolinecolor": "white"
           },
           "zaxis": {
            "backgroundcolor": "#E5ECF6",
            "gridcolor": "white",
            "gridwidth": 2,
            "linecolor": "white",
            "showbackground": true,
            "ticks": "",
            "zerolinecolor": "white"
           }
          },
          "shapedefaults": {
           "line": {
            "color": "#2a3f5f"
           }
          },
          "ternary": {
           "aaxis": {
            "gridcolor": "white",
            "linecolor": "white",
            "ticks": ""
           },
           "baxis": {
            "gridcolor": "white",
            "linecolor": "white",
            "ticks": ""
           },
           "bgcolor": "#E5ECF6",
           "caxis": {
            "gridcolor": "white",
            "linecolor": "white",
            "ticks": ""
           }
          },
          "title": {
           "x": 0.05
          },
          "xaxis": {
           "automargin": true,
           "gridcolor": "white",
           "linecolor": "white",
           "ticks": "",
           "title": {
            "standoff": 15
           },
           "zerolinecolor": "white",
           "zerolinewidth": 2
          },
          "yaxis": {
           "automargin": true,
           "gridcolor": "white",
           "linecolor": "white",
           "ticks": "",
           "title": {
            "standoff": 15
           },
           "zerolinecolor": "white",
           "zerolinewidth": 2
          }
         }
        },
        "xaxis": {
         "anchor": "y",
         "domain": [
          0,
          1
         ],
         "scaleanchor": "y",
         "scaleratio": 1,
         "title": {
          "text": "PC1"
         }
        },
        "yaxis": {
         "anchor": "x",
         "domain": [
          0,
          1
         ],
         "scaleanchor": "x",
         "scaleratio": 1,
         "title": {
          "text": "PC2"
         }
        }
       }
      }
     },
     "metadata": {},
     "output_type": "display_data"
    }
   ],
   "source": [
    "import plotly.express as px\n",
    "\n",
    "# Create the scatter plot with hover information\n",
    "fig_l1 = px.scatter(l1_pca, x='PC1', y='PC2', hover_name=l1_pca.index)\n",
    "fig_l1.update_traces(marker=dict(size=5))\n",
    "fig_l1.update_xaxes(scaleanchor='y', scaleratio=1)\n",
    "fig_l1.update_yaxes(scaleanchor='x', scaleratio=1)\n",
    "fig_l1.show()"
   ]
  },
  {
   "cell_type": "code",
   "execution_count": 235,
   "metadata": {},
   "outputs": [
    {
     "data": {
      "application/vnd.plotly.v1+json": {
       "config": {
        "plotlyServerURL": "https://plot.ly"
       },
       "data": [
        {
         "hovertemplate": "<b>%{hovertext}</b><br><br>PC1=%{x}<br>PC2=%{y}<extra></extra>",
         "hovertext": [
          "AhlgrenScottD",
          "AlbinPierre",
          "BaloghJózsef",
          "BaryshnikovYuliyM",
          "Berwick-EvansDaniel",
          "BocaFlorin-Petre",
          "BradlowStevenBenjamin",
          "BronskiJaredC",
          "DeVilleRELee",
          "DeyParthaSarathi",
          "DiFrancescoPhilippe",
          "DunfieldNathanM",
          "ErdoğanMehmetBurak",
          "FengRunhuan",
          "FernandesRuiLoja",
          "FordKevinB",
          "HaboushWilliamJ",
          "HellerJeremiahBen",
          "HinkkanenAimo",
          "HiraniAnilN",
          "HurVeraMikyoung",
          "IvanovSergeiVladimirovich",
          "JandaFelix",
          "JingXiaochen",
          "JungeMarius",
          "KatzSheldonH",
          "KedemRinat",
          "KermanEly",
          "KirkpatrickKayLene",
          "KirrEduard",
          "KostochkaAlexandrV",
          "KutzarovaDenkaN",
          "LaNaveGabriele",
          "LaugesenRichardSnyder",
          "LeditzkyFelix",
          "LermanEugeneM",
          "LiXiaochun",
          "McCarthyRandy",
          "MineyevIgor",
          "NikolaevIgorG",
          "OikhbergTimur",
          "PascaleffJamesThomas",
          "RaptiZoi",
          "RasmussenJacob",
          "RasmussenSarahDean",
          "RezkCharlesW",
          "ReznickBruce",
          "SongRenming",
          "SowersRichardB",
          "StojanoskaVesna",
          "ThornerJesse",
          "TolmanSusan",
          "TumanovAlexander",
          "TysonJeremyT",
          "TzirakisNikolaos",
          "WuXuan",
          "YongAlexanderTF",
          "ZaharescuAlexandru",
          "ZharnitskyVadim"
         ],
         "legendgroup": "",
         "marker": {
          "color": "#636efa",
          "size": 5,
          "symbol": "circle"
         },
         "mode": "markers",
         "name": "",
         "orientation": "v",
         "showlegend": false,
         "type": "scatter",
         "x": [
          -0.00022143791166789255,
          -0.00019481342252138716,
          -0.00017415964042211186,
          -0.00018641461005155193,
          -0.0001879683543566893,
          -0.00017905764369822942,
          -0.00003756998681745766,
          -0.00017218266680591064,
          -0.00017197648640258787,
          -0.0002944834893220042,
          -0.0007749511104106247,
          -0.0009559379846918409,
          -0.00017199865404986202,
          -0.017231430672212344,
          -0.00017766832598133865,
          -0.00017831955212209378,
          -0.00027919468683643074,
          -0.0002203715878067761,
          -0.00019106446942022037,
          -0.0001824817241050513,
          -0.00017431714762632122,
          0.02764364711422919,
          -0.00024267528593945013,
          -0.002733236005361464,
          -0.00016184925276731995,
          -0.0012800640153886982,
          -0.00017480149934876897,
          -0.00018283930734597917,
          -0.00017418737506300622,
          -0.0001885951820246689,
          -0.00017422000514613866,
          -0.00017262377901780003,
          -0.00022733689286820563,
          -0.0002043884861172164,
          -0.00018462644000568365,
          -0.0001701884489400583,
          -0.00018166024881476425,
          -0.00017925650361441035,
          0.02583096842736463,
          -0.00016141840543014167,
          -0.00017330764503320958,
          -0.0002055686003949949,
          -0.00017735731773094285,
          -0.00017718464848433837,
          -0.00017770391149981028,
          -0.00018099035849040122,
          -0.00018107429006486214,
          -0.00027232770781521345,
          -0.00035141785520181895,
          -0.000178614094018415,
          -0.00020651089603627987,
          -0.00017000928354458648,
          -0.00020657937983925014,
          -0.00016679396347314622,
          -0.00017124027432298468,
          -0.00041177175880261694,
          -0.0001861658411372911,
          -0.00018821276589656475,
          -0.0001766526003577832
         ],
         "xaxis": "x",
         "y": [
          -0.00029385596266473974,
          -0.00026268341523031144,
          -0.00023252718579968386,
          -0.0002495141940611648,
          -0.0002508658442614117,
          -0.00023914208832033268,
          -0.00021049664632697654,
          -0.00022987283084363312,
          -0.00022956587725147333,
          -0.00039239174658814256,
          -0.0016840517456735515,
          -0.00219327064366408,
          -0.00022945979609291736,
          0.030162695730034505,
          -0.000237406533633919,
          -0.0002383052167428097,
          -0.0003729741915504383,
          -0.0002942811339737087,
          -0.0002558982007327676,
          -0.00024599517969028695,
          -0.00023253510616096256,
          0.008275307662111665,
          -0.0003404928182314111,
          0.004198611085641978,
          -0.0002298241414536972,
          -0.0030134346143494027,
          -0.00023836764835596765,
          -0.00024425846016844205,
          -0.0002325738568941948,
          -0.0002517255391792062,
          -0.00023260778256337198,
          -0.00023052908705733534,
          -0.0003101670396517149,
          -0.00026043831520505936,
          -0.00024658592875268827,
          -0.00022756318576544306,
          -0.00024260641578350658,
          -0.00023965891618537552,
          0.007724471465577909,
          -0.00024135055344887745,
          -0.00023145853230433533,
          -0.0002831852400382803,
          -0.00023678795457965127,
          -0.00024388812559981616,
          -0.00024072363146188517,
          -0.00024164937870137888,
          -0.00024243289658809354,
          -0.00015704323769069237,
          -0.0004573779844763838,
          -0.00023845917184112442,
          -0.0002774003806766553,
          -0.0002276734803113199,
          -0.00027585147419999624,
          -0.0002367112477384308,
          -0.0002285156847161799,
          -0.0005507255903295231,
          -0.00025145040439359295,
          -0.0002513932453571032,
          -0.00023587445578457305
         ],
         "yaxis": "y"
        }
       ],
       "layout": {
        "legend": {
         "tracegroupgap": 0
        },
        "margin": {
         "t": 60
        },
        "template": {
         "data": {
          "bar": [
           {
            "error_x": {
             "color": "#2a3f5f"
            },
            "error_y": {
             "color": "#2a3f5f"
            },
            "marker": {
             "line": {
              "color": "#E5ECF6",
              "width": 0.5
             },
             "pattern": {
              "fillmode": "overlay",
              "size": 10,
              "solidity": 0.2
             }
            },
            "type": "bar"
           }
          ],
          "barpolar": [
           {
            "marker": {
             "line": {
              "color": "#E5ECF6",
              "width": 0.5
             },
             "pattern": {
              "fillmode": "overlay",
              "size": 10,
              "solidity": 0.2
             }
            },
            "type": "barpolar"
           }
          ],
          "carpet": [
           {
            "aaxis": {
             "endlinecolor": "#2a3f5f",
             "gridcolor": "white",
             "linecolor": "white",
             "minorgridcolor": "white",
             "startlinecolor": "#2a3f5f"
            },
            "baxis": {
             "endlinecolor": "#2a3f5f",
             "gridcolor": "white",
             "linecolor": "white",
             "minorgridcolor": "white",
             "startlinecolor": "#2a3f5f"
            },
            "type": "carpet"
           }
          ],
          "choropleth": [
           {
            "colorbar": {
             "outlinewidth": 0,
             "ticks": ""
            },
            "type": "choropleth"
           }
          ],
          "contour": [
           {
            "colorbar": {
             "outlinewidth": 0,
             "ticks": ""
            },
            "colorscale": [
             [
              0,
              "#0d0887"
             ],
             [
              0.1111111111111111,
              "#46039f"
             ],
             [
              0.2222222222222222,
              "#7201a8"
             ],
             [
              0.3333333333333333,
              "#9c179e"
             ],
             [
              0.4444444444444444,
              "#bd3786"
             ],
             [
              0.5555555555555556,
              "#d8576b"
             ],
             [
              0.6666666666666666,
              "#ed7953"
             ],
             [
              0.7777777777777778,
              "#fb9f3a"
             ],
             [
              0.8888888888888888,
              "#fdca26"
             ],
             [
              1,
              "#f0f921"
             ]
            ],
            "type": "contour"
           }
          ],
          "contourcarpet": [
           {
            "colorbar": {
             "outlinewidth": 0,
             "ticks": ""
            },
            "type": "contourcarpet"
           }
          ],
          "heatmap": [
           {
            "colorbar": {
             "outlinewidth": 0,
             "ticks": ""
            },
            "colorscale": [
             [
              0,
              "#0d0887"
             ],
             [
              0.1111111111111111,
              "#46039f"
             ],
             [
              0.2222222222222222,
              "#7201a8"
             ],
             [
              0.3333333333333333,
              "#9c179e"
             ],
             [
              0.4444444444444444,
              "#bd3786"
             ],
             [
              0.5555555555555556,
              "#d8576b"
             ],
             [
              0.6666666666666666,
              "#ed7953"
             ],
             [
              0.7777777777777778,
              "#fb9f3a"
             ],
             [
              0.8888888888888888,
              "#fdca26"
             ],
             [
              1,
              "#f0f921"
             ]
            ],
            "type": "heatmap"
           }
          ],
          "heatmapgl": [
           {
            "colorbar": {
             "outlinewidth": 0,
             "ticks": ""
            },
            "colorscale": [
             [
              0,
              "#0d0887"
             ],
             [
              0.1111111111111111,
              "#46039f"
             ],
             [
              0.2222222222222222,
              "#7201a8"
             ],
             [
              0.3333333333333333,
              "#9c179e"
             ],
             [
              0.4444444444444444,
              "#bd3786"
             ],
             [
              0.5555555555555556,
              "#d8576b"
             ],
             [
              0.6666666666666666,
              "#ed7953"
             ],
             [
              0.7777777777777778,
              "#fb9f3a"
             ],
             [
              0.8888888888888888,
              "#fdca26"
             ],
             [
              1,
              "#f0f921"
             ]
            ],
            "type": "heatmapgl"
           }
          ],
          "histogram": [
           {
            "marker": {
             "pattern": {
              "fillmode": "overlay",
              "size": 10,
              "solidity": 0.2
             }
            },
            "type": "histogram"
           }
          ],
          "histogram2d": [
           {
            "colorbar": {
             "outlinewidth": 0,
             "ticks": ""
            },
            "colorscale": [
             [
              0,
              "#0d0887"
             ],
             [
              0.1111111111111111,
              "#46039f"
             ],
             [
              0.2222222222222222,
              "#7201a8"
             ],
             [
              0.3333333333333333,
              "#9c179e"
             ],
             [
              0.4444444444444444,
              "#bd3786"
             ],
             [
              0.5555555555555556,
              "#d8576b"
             ],
             [
              0.6666666666666666,
              "#ed7953"
             ],
             [
              0.7777777777777778,
              "#fb9f3a"
             ],
             [
              0.8888888888888888,
              "#fdca26"
             ],
             [
              1,
              "#f0f921"
             ]
            ],
            "type": "histogram2d"
           }
          ],
          "histogram2dcontour": [
           {
            "colorbar": {
             "outlinewidth": 0,
             "ticks": ""
            },
            "colorscale": [
             [
              0,
              "#0d0887"
             ],
             [
              0.1111111111111111,
              "#46039f"
             ],
             [
              0.2222222222222222,
              "#7201a8"
             ],
             [
              0.3333333333333333,
              "#9c179e"
             ],
             [
              0.4444444444444444,
              "#bd3786"
             ],
             [
              0.5555555555555556,
              "#d8576b"
             ],
             [
              0.6666666666666666,
              "#ed7953"
             ],
             [
              0.7777777777777778,
              "#fb9f3a"
             ],
             [
              0.8888888888888888,
              "#fdca26"
             ],
             [
              1,
              "#f0f921"
             ]
            ],
            "type": "histogram2dcontour"
           }
          ],
          "mesh3d": [
           {
            "colorbar": {
             "outlinewidth": 0,
             "ticks": ""
            },
            "type": "mesh3d"
           }
          ],
          "parcoords": [
           {
            "line": {
             "colorbar": {
              "outlinewidth": 0,
              "ticks": ""
             }
            },
            "type": "parcoords"
           }
          ],
          "pie": [
           {
            "automargin": true,
            "type": "pie"
           }
          ],
          "scatter": [
           {
            "fillpattern": {
             "fillmode": "overlay",
             "size": 10,
             "solidity": 0.2
            },
            "type": "scatter"
           }
          ],
          "scatter3d": [
           {
            "line": {
             "colorbar": {
              "outlinewidth": 0,
              "ticks": ""
             }
            },
            "marker": {
             "colorbar": {
              "outlinewidth": 0,
              "ticks": ""
             }
            },
            "type": "scatter3d"
           }
          ],
          "scattercarpet": [
           {
            "marker": {
             "colorbar": {
              "outlinewidth": 0,
              "ticks": ""
             }
            },
            "type": "scattercarpet"
           }
          ],
          "scattergeo": [
           {
            "marker": {
             "colorbar": {
              "outlinewidth": 0,
              "ticks": ""
             }
            },
            "type": "scattergeo"
           }
          ],
          "scattergl": [
           {
            "marker": {
             "colorbar": {
              "outlinewidth": 0,
              "ticks": ""
             }
            },
            "type": "scattergl"
           }
          ],
          "scattermapbox": [
           {
            "marker": {
             "colorbar": {
              "outlinewidth": 0,
              "ticks": ""
             }
            },
            "type": "scattermapbox"
           }
          ],
          "scatterpolar": [
           {
            "marker": {
             "colorbar": {
              "outlinewidth": 0,
              "ticks": ""
             }
            },
            "type": "scatterpolar"
           }
          ],
          "scatterpolargl": [
           {
            "marker": {
             "colorbar": {
              "outlinewidth": 0,
              "ticks": ""
             }
            },
            "type": "scatterpolargl"
           }
          ],
          "scatterternary": [
           {
            "marker": {
             "colorbar": {
              "outlinewidth": 0,
              "ticks": ""
             }
            },
            "type": "scatterternary"
           }
          ],
          "surface": [
           {
            "colorbar": {
             "outlinewidth": 0,
             "ticks": ""
            },
            "colorscale": [
             [
              0,
              "#0d0887"
             ],
             [
              0.1111111111111111,
              "#46039f"
             ],
             [
              0.2222222222222222,
              "#7201a8"
             ],
             [
              0.3333333333333333,
              "#9c179e"
             ],
             [
              0.4444444444444444,
              "#bd3786"
             ],
             [
              0.5555555555555556,
              "#d8576b"
             ],
             [
              0.6666666666666666,
              "#ed7953"
             ],
             [
              0.7777777777777778,
              "#fb9f3a"
             ],
             [
              0.8888888888888888,
              "#fdca26"
             ],
             [
              1,
              "#f0f921"
             ]
            ],
            "type": "surface"
           }
          ],
          "table": [
           {
            "cells": {
             "fill": {
              "color": "#EBF0F8"
             },
             "line": {
              "color": "white"
             }
            },
            "header": {
             "fill": {
              "color": "#C8D4E3"
             },
             "line": {
              "color": "white"
             }
            },
            "type": "table"
           }
          ]
         },
         "layout": {
          "annotationdefaults": {
           "arrowcolor": "#2a3f5f",
           "arrowhead": 0,
           "arrowwidth": 1
          },
          "autotypenumbers": "strict",
          "coloraxis": {
           "colorbar": {
            "outlinewidth": 0,
            "ticks": ""
           }
          },
          "colorscale": {
           "diverging": [
            [
             0,
             "#8e0152"
            ],
            [
             0.1,
             "#c51b7d"
            ],
            [
             0.2,
             "#de77ae"
            ],
            [
             0.3,
             "#f1b6da"
            ],
            [
             0.4,
             "#fde0ef"
            ],
            [
             0.5,
             "#f7f7f7"
            ],
            [
             0.6,
             "#e6f5d0"
            ],
            [
             0.7,
             "#b8e186"
            ],
            [
             0.8,
             "#7fbc41"
            ],
            [
             0.9,
             "#4d9221"
            ],
            [
             1,
             "#276419"
            ]
           ],
           "sequential": [
            [
             0,
             "#0d0887"
            ],
            [
             0.1111111111111111,
             "#46039f"
            ],
            [
             0.2222222222222222,
             "#7201a8"
            ],
            [
             0.3333333333333333,
             "#9c179e"
            ],
            [
             0.4444444444444444,
             "#bd3786"
            ],
            [
             0.5555555555555556,
             "#d8576b"
            ],
            [
             0.6666666666666666,
             "#ed7953"
            ],
            [
             0.7777777777777778,
             "#fb9f3a"
            ],
            [
             0.8888888888888888,
             "#fdca26"
            ],
            [
             1,
             "#f0f921"
            ]
           ],
           "sequentialminus": [
            [
             0,
             "#0d0887"
            ],
            [
             0.1111111111111111,
             "#46039f"
            ],
            [
             0.2222222222222222,
             "#7201a8"
            ],
            [
             0.3333333333333333,
             "#9c179e"
            ],
            [
             0.4444444444444444,
             "#bd3786"
            ],
            [
             0.5555555555555556,
             "#d8576b"
            ],
            [
             0.6666666666666666,
             "#ed7953"
            ],
            [
             0.7777777777777778,
             "#fb9f3a"
            ],
            [
             0.8888888888888888,
             "#fdca26"
            ],
            [
             1,
             "#f0f921"
            ]
           ]
          },
          "colorway": [
           "#636efa",
           "#EF553B",
           "#00cc96",
           "#ab63fa",
           "#FFA15A",
           "#19d3f3",
           "#FF6692",
           "#B6E880",
           "#FF97FF",
           "#FECB52"
          ],
          "font": {
           "color": "#2a3f5f"
          },
          "geo": {
           "bgcolor": "white",
           "lakecolor": "white",
           "landcolor": "#E5ECF6",
           "showlakes": true,
           "showland": true,
           "subunitcolor": "white"
          },
          "hoverlabel": {
           "align": "left"
          },
          "hovermode": "closest",
          "mapbox": {
           "style": "light"
          },
          "paper_bgcolor": "white",
          "plot_bgcolor": "#E5ECF6",
          "polar": {
           "angularaxis": {
            "gridcolor": "white",
            "linecolor": "white",
            "ticks": ""
           },
           "bgcolor": "#E5ECF6",
           "radialaxis": {
            "gridcolor": "white",
            "linecolor": "white",
            "ticks": ""
           }
          },
          "scene": {
           "xaxis": {
            "backgroundcolor": "#E5ECF6",
            "gridcolor": "white",
            "gridwidth": 2,
            "linecolor": "white",
            "showbackground": true,
            "ticks": "",
            "zerolinecolor": "white"
           },
           "yaxis": {
            "backgroundcolor": "#E5ECF6",
            "gridcolor": "white",
            "gridwidth": 2,
            "linecolor": "white",
            "showbackground": true,
            "ticks": "",
            "zerolinecolor": "white"
           },
           "zaxis": {
            "backgroundcolor": "#E5ECF6",
            "gridcolor": "white",
            "gridwidth": 2,
            "linecolor": "white",
            "showbackground": true,
            "ticks": "",
            "zerolinecolor": "white"
           }
          },
          "shapedefaults": {
           "line": {
            "color": "#2a3f5f"
           }
          },
          "ternary": {
           "aaxis": {
            "gridcolor": "white",
            "linecolor": "white",
            "ticks": ""
           },
           "baxis": {
            "gridcolor": "white",
            "linecolor": "white",
            "ticks": ""
           },
           "bgcolor": "#E5ECF6",
           "caxis": {
            "gridcolor": "white",
            "linecolor": "white",
            "ticks": ""
           }
          },
          "title": {
           "x": 0.05
          },
          "xaxis": {
           "automargin": true,
           "gridcolor": "white",
           "linecolor": "white",
           "ticks": "",
           "title": {
            "standoff": 15
           },
           "zerolinecolor": "white",
           "zerolinewidth": 2
          },
          "yaxis": {
           "automargin": true,
           "gridcolor": "white",
           "linecolor": "white",
           "ticks": "",
           "title": {
            "standoff": 15
           },
           "zerolinecolor": "white",
           "zerolinewidth": 2
          }
         }
        },
        "xaxis": {
         "anchor": "y",
         "domain": [
          0,
          1
         ],
         "title": {
          "text": "PC1"
         }
        },
        "yaxis": {
         "anchor": "x",
         "domain": [
          0,
          1
         ],
         "title": {
          "text": "PC2"
         }
        }
       }
      }
     },
     "metadata": {},
     "output_type": "display_data"
    }
   ],
   "source": [
    "#from above plot, we can observe that professor GuzmanRosemary, FengRunhuan and JingXiaoChen are obvious outliers.\n",
    "#So we remove them and regenerate the plot\n",
    "new_l1_pca = l1_pca.drop(['GuzmanRosemaryK','WeiWei','YoungAmanda','DoddChristopher','LiuYuan','HungPei-Ken'])\n",
    "fig_newl1 = px.scatter(new_l1_pca, x='PC1', y='PC2', hover_name=new_l1_pca.index)\n",
    "fig_newl1.update_traces(marker=dict(size=5))\n",
    "fig_newl1.show()\n",
    " "
   ]
  },
  {
   "cell_type": "code",
   "execution_count": 236,
   "metadata": {},
   "outputs": [
    {
     "data": {
      "application/vnd.plotly.v1+json": {
       "config": {
        "plotlyServerURL": "https://plot.ly"
       },
       "data": [
        {
         "hovertemplate": "<b>%{hovertext}</b><br><br>PC1=%{x}<br>PC2=%{y}<extra></extra>",
         "hovertext": [
          "AhlgrenScottD",
          "AlbinPierre",
          "BaloghJózsef",
          "BaryshnikovYuliyM",
          "Berwick-EvansDaniel",
          "BocaFlorin-Petre",
          "BradlowStevenBenjamin",
          "BronskiJaredC",
          "DeVilleRELee",
          "DeyParthaSarathi",
          "DiFrancescoPhilippe",
          "DoddChristopher",
          "DunfieldNathanM",
          "ErdoğanMehmetBurak",
          "FengRunhuan",
          "FernandesRuiLoja",
          "FordKevinB",
          "GuzmanRosemaryK",
          "HaboushWilliamJ",
          "HellerJeremiahBen",
          "HinkkanenAimo",
          "HiraniAnilN",
          "HungPei-Ken",
          "HurVeraMikyoung",
          "IvanovSergeiVladimirovich",
          "JandaFelix",
          "JingXiaochen",
          "JungeMarius",
          "KatzSheldonH",
          "KedemRinat",
          "KermanEly",
          "KirkpatrickKayLene",
          "KirrEduard",
          "KostochkaAlexandrV",
          "KutzarovaDenkaN",
          "LaNaveGabriele",
          "LaugesenRichardSnyder",
          "LeditzkyFelix",
          "LermanEugeneM",
          "LiXiaochun",
          "LiuYuan",
          "McCarthyRandy",
          "MineyevIgor",
          "NikolaevIgorG",
          "OikhbergTimur",
          "PascaleffJamesThomas",
          "RaptiZoi",
          "RasmussenJacob",
          "RasmussenSarahDean",
          "RezkCharlesW",
          "ReznickBruce",
          "SongRenming",
          "SowersRichardB",
          "StojanoskaVesna",
          "ThornerJesse",
          "TolmanSusan",
          "TumanovAlexander",
          "TysonJeremyT",
          "TzirakisNikolaos",
          "WeiWei",
          "WuXuan",
          "YongAlexanderTF",
          "YoungAmanda",
          "ZaharescuAlexandru",
          "ZharnitskyVadim"
         ],
         "legendgroup": "",
         "marker": {
          "color": "#636efa",
          "size": 5,
          "symbol": "circle"
         },
         "mode": "markers",
         "name": "",
         "orientation": "v",
         "showlegend": false,
         "type": "scatter",
         "x": [
          -0.11606443586662168,
          -0.020682814709367277,
          -0.08372498040094709,
          0.14703907318851744,
          -0.03116412960586656,
          -0.22535828207402872,
          -0.028919180203329578,
          0.1362676645253469,
          0.06388792457593857,
          0.0760715335821732,
          -0.055946507107893596,
          -0.010752011221581533,
          -0.12987167581233014,
          0.7566886141738465,
          -0.10816840037842947,
          -0.02011768056997423,
          -0.24592972674137037,
          -0.02889672209804838,
          -0.013888138665885503,
          -0.029201413966713403,
          -0.02509768203599809,
          0.0660004057012502,
          -0.00392344921414868,
          0.08574422066703459,
          -0.06158655501268126,
          -0.01566093971939304,
          -0.10833272859369909,
          -0.07277895764420764,
          -0.051773043700415064,
          -0.05831312763295236,
          -0.005789648613041737,
          0.30143276802309954,
          0.164254254960315,
          -0.08372498034366746,
          -0.170339431252822,
          -0.011828298958066448,
          0.03362360528626596,
          -0.024269448695351404,
          -0.05688024720686505,
          0.06171095133237609,
          -0.01656181851059414,
          -0.07845023943256986,
          -0.06411509277077204,
          -0.02841517498723231,
          -0.1549892563310085,
          -0.017160822138526627,
          0.07242001757798677,
          -0.1383233677888428,
          -0.08629444262350046,
          -0.15277325010230985,
          0.0002564734796864134,
          0.05858802488725748,
          0.008892858498780187,
          -0.11328112279812183,
          -0.17981730220826414,
          -0.05789565774550618,
          0.14604586444991713,
          -0.03196612051436729,
          0.7609925812848556,
          -0.018075900156217888,
          0.05621556127023286,
          -0.0013065531987459156,
          -0.011509654666031219,
          -0.3068338408418945,
          0.36062185739532104
         ],
         "xaxis": "x",
         "y": [
          0.13462069108585178,
          -0.049549910121810724,
          -0.19263968852690755,
          0.06534390883640959,
          -0.03226700805784337,
          0.4223001287950053,
          -0.0597647017705157,
          0.0014704556074486203,
          -0.004075645866261485,
          0.020870418038965756,
          -0.2227430898663901,
          -0.017928429777076923,
          -0.4569254319222545,
          0.1396134974185609,
          -0.166802902456214,
          -0.04158957991405087,
          0.505171948573154,
          -0.034996245779699155,
          0.01424377886883509,
          0.017026130935645544,
          -0.015143593867863068,
          -0.01943464860562118,
          -0.014431307360713855,
          -0.010768678203088586,
          -0.09331735797248034,
          -0.019829674716480214,
          -0.16569327386112226,
          0.10381741787671017,
          -0.13701193243700802,
          -0.21410518535752862,
          -0.01223485566697778,
          0.03377797534328421,
          0.03512999783961712,
          -0.19263968849431945,
          0.24434146139255164,
          -0.01387131935000722,
          0.00016050139152926752,
          0.014707560144846017,
          -0.10859268587954234,
          0.09090981057156995,
          -0.04127228886040228,
          0.0041898424121310975,
          -0.09400996684516155,
          -0.011553670775225221,
          0.2076036256563683,
          -0.02025560008269338,
          0.01879210928880244,
          -0.47630996939090936,
          -0.29209508210691154,
          0.029269264865756713,
          0.039436381947799755,
          0.00005815257020213766,
          -0.0018154562618789309,
          0.012090619497625757,
          0.35607442558179453,
          -0.10376658227622847,
          0.0663865374191092,
          0.01639450086630727,
          0.12745811550559288,
          -0.023692196980060073,
          0.0176460998693688,
          -0.041125117039341644,
          -0.0176644826494872,
          0.5784960812353511,
          0.10251580966388171
         ],
         "yaxis": "y"
        }
       ],
       "layout": {
        "legend": {
         "tracegroupgap": 0
        },
        "margin": {
         "t": 60
        },
        "template": {
         "data": {
          "bar": [
           {
            "error_x": {
             "color": "#2a3f5f"
            },
            "error_y": {
             "color": "#2a3f5f"
            },
            "marker": {
             "line": {
              "color": "#E5ECF6",
              "width": 0.5
             },
             "pattern": {
              "fillmode": "overlay",
              "size": 10,
              "solidity": 0.2
             }
            },
            "type": "bar"
           }
          ],
          "barpolar": [
           {
            "marker": {
             "line": {
              "color": "#E5ECF6",
              "width": 0.5
             },
             "pattern": {
              "fillmode": "overlay",
              "size": 10,
              "solidity": 0.2
             }
            },
            "type": "barpolar"
           }
          ],
          "carpet": [
           {
            "aaxis": {
             "endlinecolor": "#2a3f5f",
             "gridcolor": "white",
             "linecolor": "white",
             "minorgridcolor": "white",
             "startlinecolor": "#2a3f5f"
            },
            "baxis": {
             "endlinecolor": "#2a3f5f",
             "gridcolor": "white",
             "linecolor": "white",
             "minorgridcolor": "white",
             "startlinecolor": "#2a3f5f"
            },
            "type": "carpet"
           }
          ],
          "choropleth": [
           {
            "colorbar": {
             "outlinewidth": 0,
             "ticks": ""
            },
            "type": "choropleth"
           }
          ],
          "contour": [
           {
            "colorbar": {
             "outlinewidth": 0,
             "ticks": ""
            },
            "colorscale": [
             [
              0,
              "#0d0887"
             ],
             [
              0.1111111111111111,
              "#46039f"
             ],
             [
              0.2222222222222222,
              "#7201a8"
             ],
             [
              0.3333333333333333,
              "#9c179e"
             ],
             [
              0.4444444444444444,
              "#bd3786"
             ],
             [
              0.5555555555555556,
              "#d8576b"
             ],
             [
              0.6666666666666666,
              "#ed7953"
             ],
             [
              0.7777777777777778,
              "#fb9f3a"
             ],
             [
              0.8888888888888888,
              "#fdca26"
             ],
             [
              1,
              "#f0f921"
             ]
            ],
            "type": "contour"
           }
          ],
          "contourcarpet": [
           {
            "colorbar": {
             "outlinewidth": 0,
             "ticks": ""
            },
            "type": "contourcarpet"
           }
          ],
          "heatmap": [
           {
            "colorbar": {
             "outlinewidth": 0,
             "ticks": ""
            },
            "colorscale": [
             [
              0,
              "#0d0887"
             ],
             [
              0.1111111111111111,
              "#46039f"
             ],
             [
              0.2222222222222222,
              "#7201a8"
             ],
             [
              0.3333333333333333,
              "#9c179e"
             ],
             [
              0.4444444444444444,
              "#bd3786"
             ],
             [
              0.5555555555555556,
              "#d8576b"
             ],
             [
              0.6666666666666666,
              "#ed7953"
             ],
             [
              0.7777777777777778,
              "#fb9f3a"
             ],
             [
              0.8888888888888888,
              "#fdca26"
             ],
             [
              1,
              "#f0f921"
             ]
            ],
            "type": "heatmap"
           }
          ],
          "heatmapgl": [
           {
            "colorbar": {
             "outlinewidth": 0,
             "ticks": ""
            },
            "colorscale": [
             [
              0,
              "#0d0887"
             ],
             [
              0.1111111111111111,
              "#46039f"
             ],
             [
              0.2222222222222222,
              "#7201a8"
             ],
             [
              0.3333333333333333,
              "#9c179e"
             ],
             [
              0.4444444444444444,
              "#bd3786"
             ],
             [
              0.5555555555555556,
              "#d8576b"
             ],
             [
              0.6666666666666666,
              "#ed7953"
             ],
             [
              0.7777777777777778,
              "#fb9f3a"
             ],
             [
              0.8888888888888888,
              "#fdca26"
             ],
             [
              1,
              "#f0f921"
             ]
            ],
            "type": "heatmapgl"
           }
          ],
          "histogram": [
           {
            "marker": {
             "pattern": {
              "fillmode": "overlay",
              "size": 10,
              "solidity": 0.2
             }
            },
            "type": "histogram"
           }
          ],
          "histogram2d": [
           {
            "colorbar": {
             "outlinewidth": 0,
             "ticks": ""
            },
            "colorscale": [
             [
              0,
              "#0d0887"
             ],
             [
              0.1111111111111111,
              "#46039f"
             ],
             [
              0.2222222222222222,
              "#7201a8"
             ],
             [
              0.3333333333333333,
              "#9c179e"
             ],
             [
              0.4444444444444444,
              "#bd3786"
             ],
             [
              0.5555555555555556,
              "#d8576b"
             ],
             [
              0.6666666666666666,
              "#ed7953"
             ],
             [
              0.7777777777777778,
              "#fb9f3a"
             ],
             [
              0.8888888888888888,
              "#fdca26"
             ],
             [
              1,
              "#f0f921"
             ]
            ],
            "type": "histogram2d"
           }
          ],
          "histogram2dcontour": [
           {
            "colorbar": {
             "outlinewidth": 0,
             "ticks": ""
            },
            "colorscale": [
             [
              0,
              "#0d0887"
             ],
             [
              0.1111111111111111,
              "#46039f"
             ],
             [
              0.2222222222222222,
              "#7201a8"
             ],
             [
              0.3333333333333333,
              "#9c179e"
             ],
             [
              0.4444444444444444,
              "#bd3786"
             ],
             [
              0.5555555555555556,
              "#d8576b"
             ],
             [
              0.6666666666666666,
              "#ed7953"
             ],
             [
              0.7777777777777778,
              "#fb9f3a"
             ],
             [
              0.8888888888888888,
              "#fdca26"
             ],
             [
              1,
              "#f0f921"
             ]
            ],
            "type": "histogram2dcontour"
           }
          ],
          "mesh3d": [
           {
            "colorbar": {
             "outlinewidth": 0,
             "ticks": ""
            },
            "type": "mesh3d"
           }
          ],
          "parcoords": [
           {
            "line": {
             "colorbar": {
              "outlinewidth": 0,
              "ticks": ""
             }
            },
            "type": "parcoords"
           }
          ],
          "pie": [
           {
            "automargin": true,
            "type": "pie"
           }
          ],
          "scatter": [
           {
            "fillpattern": {
             "fillmode": "overlay",
             "size": 10,
             "solidity": 0.2
            },
            "type": "scatter"
           }
          ],
          "scatter3d": [
           {
            "line": {
             "colorbar": {
              "outlinewidth": 0,
              "ticks": ""
             }
            },
            "marker": {
             "colorbar": {
              "outlinewidth": 0,
              "ticks": ""
             }
            },
            "type": "scatter3d"
           }
          ],
          "scattercarpet": [
           {
            "marker": {
             "colorbar": {
              "outlinewidth": 0,
              "ticks": ""
             }
            },
            "type": "scattercarpet"
           }
          ],
          "scattergeo": [
           {
            "marker": {
             "colorbar": {
              "outlinewidth": 0,
              "ticks": ""
             }
            },
            "type": "scattergeo"
           }
          ],
          "scattergl": [
           {
            "marker": {
             "colorbar": {
              "outlinewidth": 0,
              "ticks": ""
             }
            },
            "type": "scattergl"
           }
          ],
          "scattermapbox": [
           {
            "marker": {
             "colorbar": {
              "outlinewidth": 0,
              "ticks": ""
             }
            },
            "type": "scattermapbox"
           }
          ],
          "scatterpolar": [
           {
            "marker": {
             "colorbar": {
              "outlinewidth": 0,
              "ticks": ""
             }
            },
            "type": "scatterpolar"
           }
          ],
          "scatterpolargl": [
           {
            "marker": {
             "colorbar": {
              "outlinewidth": 0,
              "ticks": ""
             }
            },
            "type": "scatterpolargl"
           }
          ],
          "scatterternary": [
           {
            "marker": {
             "colorbar": {
              "outlinewidth": 0,
              "ticks": ""
             }
            },
            "type": "scatterternary"
           }
          ],
          "surface": [
           {
            "colorbar": {
             "outlinewidth": 0,
             "ticks": ""
            },
            "colorscale": [
             [
              0,
              "#0d0887"
             ],
             [
              0.1111111111111111,
              "#46039f"
             ],
             [
              0.2222222222222222,
              "#7201a8"
             ],
             [
              0.3333333333333333,
              "#9c179e"
             ],
             [
              0.4444444444444444,
              "#bd3786"
             ],
             [
              0.5555555555555556,
              "#d8576b"
             ],
             [
              0.6666666666666666,
              "#ed7953"
             ],
             [
              0.7777777777777778,
              "#fb9f3a"
             ],
             [
              0.8888888888888888,
              "#fdca26"
             ],
             [
              1,
              "#f0f921"
             ]
            ],
            "type": "surface"
           }
          ],
          "table": [
           {
            "cells": {
             "fill": {
              "color": "#EBF0F8"
             },
             "line": {
              "color": "white"
             }
            },
            "header": {
             "fill": {
              "color": "#C8D4E3"
             },
             "line": {
              "color": "white"
             }
            },
            "type": "table"
           }
          ]
         },
         "layout": {
          "annotationdefaults": {
           "arrowcolor": "#2a3f5f",
           "arrowhead": 0,
           "arrowwidth": 1
          },
          "autotypenumbers": "strict",
          "coloraxis": {
           "colorbar": {
            "outlinewidth": 0,
            "ticks": ""
           }
          },
          "colorscale": {
           "diverging": [
            [
             0,
             "#8e0152"
            ],
            [
             0.1,
             "#c51b7d"
            ],
            [
             0.2,
             "#de77ae"
            ],
            [
             0.3,
             "#f1b6da"
            ],
            [
             0.4,
             "#fde0ef"
            ],
            [
             0.5,
             "#f7f7f7"
            ],
            [
             0.6,
             "#e6f5d0"
            ],
            [
             0.7,
             "#b8e186"
            ],
            [
             0.8,
             "#7fbc41"
            ],
            [
             0.9,
             "#4d9221"
            ],
            [
             1,
             "#276419"
            ]
           ],
           "sequential": [
            [
             0,
             "#0d0887"
            ],
            [
             0.1111111111111111,
             "#46039f"
            ],
            [
             0.2222222222222222,
             "#7201a8"
            ],
            [
             0.3333333333333333,
             "#9c179e"
            ],
            [
             0.4444444444444444,
             "#bd3786"
            ],
            [
             0.5555555555555556,
             "#d8576b"
            ],
            [
             0.6666666666666666,
             "#ed7953"
            ],
            [
             0.7777777777777778,
             "#fb9f3a"
            ],
            [
             0.8888888888888888,
             "#fdca26"
            ],
            [
             1,
             "#f0f921"
            ]
           ],
           "sequentialminus": [
            [
             0,
             "#0d0887"
            ],
            [
             0.1111111111111111,
             "#46039f"
            ],
            [
             0.2222222222222222,
             "#7201a8"
            ],
            [
             0.3333333333333333,
             "#9c179e"
            ],
            [
             0.4444444444444444,
             "#bd3786"
            ],
            [
             0.5555555555555556,
             "#d8576b"
            ],
            [
             0.6666666666666666,
             "#ed7953"
            ],
            [
             0.7777777777777778,
             "#fb9f3a"
            ],
            [
             0.8888888888888888,
             "#fdca26"
            ],
            [
             1,
             "#f0f921"
            ]
           ]
          },
          "colorway": [
           "#636efa",
           "#EF553B",
           "#00cc96",
           "#ab63fa",
           "#FFA15A",
           "#19d3f3",
           "#FF6692",
           "#B6E880",
           "#FF97FF",
           "#FECB52"
          ],
          "font": {
           "color": "#2a3f5f"
          },
          "geo": {
           "bgcolor": "white",
           "lakecolor": "white",
           "landcolor": "#E5ECF6",
           "showlakes": true,
           "showland": true,
           "subunitcolor": "white"
          },
          "hoverlabel": {
           "align": "left"
          },
          "hovermode": "closest",
          "mapbox": {
           "style": "light"
          },
          "paper_bgcolor": "white",
          "plot_bgcolor": "#E5ECF6",
          "polar": {
           "angularaxis": {
            "gridcolor": "white",
            "linecolor": "white",
            "ticks": ""
           },
           "bgcolor": "#E5ECF6",
           "radialaxis": {
            "gridcolor": "white",
            "linecolor": "white",
            "ticks": ""
           }
          },
          "scene": {
           "xaxis": {
            "backgroundcolor": "#E5ECF6",
            "gridcolor": "white",
            "gridwidth": 2,
            "linecolor": "white",
            "showbackground": true,
            "ticks": "",
            "zerolinecolor": "white"
           },
           "yaxis": {
            "backgroundcolor": "#E5ECF6",
            "gridcolor": "white",
            "gridwidth": 2,
            "linecolor": "white",
            "showbackground": true,
            "ticks": "",
            "zerolinecolor": "white"
           },
           "zaxis": {
            "backgroundcolor": "#E5ECF6",
            "gridcolor": "white",
            "gridwidth": 2,
            "linecolor": "white",
            "showbackground": true,
            "ticks": "",
            "zerolinecolor": "white"
           }
          },
          "shapedefaults": {
           "line": {
            "color": "#2a3f5f"
           }
          },
          "ternary": {
           "aaxis": {
            "gridcolor": "white",
            "linecolor": "white",
            "ticks": ""
           },
           "baxis": {
            "gridcolor": "white",
            "linecolor": "white",
            "ticks": ""
           },
           "bgcolor": "#E5ECF6",
           "caxis": {
            "gridcolor": "white",
            "linecolor": "white",
            "ticks": ""
           }
          },
          "title": {
           "x": 0.05
          },
          "xaxis": {
           "automargin": true,
           "gridcolor": "white",
           "linecolor": "white",
           "ticks": "",
           "title": {
            "standoff": 15
           },
           "zerolinecolor": "white",
           "zerolinewidth": 2
          },
          "yaxis": {
           "automargin": true,
           "gridcolor": "white",
           "linecolor": "white",
           "ticks": "",
           "title": {
            "standoff": 15
           },
           "zerolinecolor": "white",
           "zerolinewidth": 2
          }
         }
        },
        "xaxis": {
         "anchor": "y",
         "domain": [
          0,
          1
         ],
         "scaleanchor": "y",
         "scaleratio": 1,
         "title": {
          "text": "PC1"
         }
        },
        "yaxis": {
         "anchor": "x",
         "domain": [
          0,
          1
         ],
         "scaleanchor": "x",
         "scaleratio": 1,
         "title": {
          "text": "PC2"
         }
        }
       }
      }
     },
     "metadata": {},
     "output_type": "display_data"
    }
   ],
   "source": [
    "#for l2 normalization\n",
    "fig_l2 = px.scatter(l2_pca, x='PC1', y='PC2', hover_name=l2_pca.index)\n",
    "fig_l2.update_traces(marker=dict(size=5))\n",
    "fig_l2.update_xaxes(scaleanchor='y', scaleratio=1)\n",
    "fig_l2.update_yaxes(scaleanchor='x', scaleratio=1)\n",
    "fig_l2.show()"
   ]
  },
  {
   "cell_type": "code",
   "execution_count": 237,
   "metadata": {},
   "outputs": [
    {
     "data": {
      "application/vnd.plotly.v1+json": {
       "config": {
        "plotlyServerURL": "https://plot.ly"
       },
       "data": [
        {
         "hovertemplate": "<b>%{hovertext}</b><br><br>PC1=%{x}<br>PC2=%{y}<extra></extra>",
         "hovertext": [
          "AhlgrenScottD",
          "AlbinPierre",
          "BaloghJózsef",
          "BaryshnikovYuliyM",
          "Berwick-EvansDaniel",
          "BocaFlorin-Petre",
          "BradlowStevenBenjamin",
          "BronskiJaredC",
          "DeVilleRELee",
          "DeyParthaSarathi",
          "DiFrancescoPhilippe",
          "DoddChristopher",
          "DunfieldNathanM",
          "FengRunhuan",
          "FernandesRuiLoja",
          "FordKevinB",
          "GuzmanRosemaryK",
          "HaboushWilliamJ",
          "HellerJeremiahBen",
          "HinkkanenAimo",
          "HiraniAnilN",
          "HungPei-Ken",
          "HurVeraMikyoung",
          "IvanovSergeiVladimirovich",
          "JandaFelix",
          "JingXiaochen",
          "JungeMarius",
          "KatzSheldonH",
          "KedemRinat",
          "KermanEly",
          "KirkpatrickKayLene",
          "KirrEduard",
          "KostochkaAlexandrV",
          "KutzarovaDenkaN",
          "LaNaveGabriele",
          "LaugesenRichardSnyder",
          "LeditzkyFelix",
          "LermanEugeneM",
          "LiXiaochun",
          "LiuYuan",
          "McCarthyRandy",
          "MineyevIgor",
          "NikolaevIgorG",
          "OikhbergTimur",
          "PascaleffJamesThomas",
          "RaptiZoi",
          "RasmussenJacob",
          "RasmussenSarahDean",
          "RezkCharlesW",
          "ReznickBruce",
          "SongRenming",
          "SowersRichardB",
          "StojanoskaVesna",
          "ThornerJesse",
          "TolmanSusan",
          "TumanovAlexander",
          "TysonJeremyT",
          "WeiWei",
          "WuXuan",
          "YongAlexanderTF",
          "YoungAmanda",
          "ZaharescuAlexandru",
          "ZharnitskyVadim"
         ],
         "legendgroup": "",
         "marker": {
          "color": "#636efa",
          "size": 5,
          "symbol": "circle"
         },
         "mode": "markers",
         "name": "",
         "orientation": "v",
         "showlegend": false,
         "type": "scatter",
         "x": [
          -0.11606443586662168,
          -0.020682814709367277,
          -0.08372498040094709,
          0.14703907318851744,
          -0.03116412960586656,
          -0.22535828207402872,
          -0.028919180203329578,
          0.1362676645253469,
          0.06388792457593857,
          0.0760715335821732,
          -0.055946507107893596,
          -0.010752011221581533,
          -0.12987167581233014,
          -0.10816840037842947,
          -0.02011768056997423,
          -0.24592972674137037,
          -0.02889672209804838,
          -0.013888138665885503,
          -0.029201413966713403,
          -0.02509768203599809,
          0.0660004057012502,
          -0.00392344921414868,
          0.08574422066703459,
          -0.06158655501268126,
          -0.01566093971939304,
          -0.10833272859369909,
          -0.07277895764420764,
          -0.051773043700415064,
          -0.05831312763295236,
          -0.005789648613041737,
          0.30143276802309954,
          0.164254254960315,
          -0.08372498034366746,
          -0.170339431252822,
          -0.011828298958066448,
          0.03362360528626596,
          -0.024269448695351404,
          -0.05688024720686505,
          0.06171095133237609,
          -0.01656181851059414,
          -0.07845023943256986,
          -0.06411509277077204,
          -0.02841517498723231,
          -0.1549892563310085,
          -0.017160822138526627,
          0.07242001757798677,
          -0.1383233677888428,
          -0.08629444262350046,
          -0.15277325010230985,
          0.0002564734796864134,
          0.05858802488725748,
          0.008892858498780187,
          -0.11328112279812183,
          -0.17981730220826414,
          -0.05789565774550618,
          0.14604586444991713,
          -0.03196612051436729,
          -0.018075900156217888,
          0.05621556127023286,
          -0.0013065531987459156,
          -0.011509654666031219,
          -0.3068338408418945,
          0.36062185739532104
         ],
         "xaxis": "x",
         "y": [
          0.13462069108585178,
          -0.049549910121810724,
          -0.19263968852690755,
          0.06534390883640959,
          -0.03226700805784337,
          0.4223001287950053,
          -0.0597647017705157,
          0.0014704556074486203,
          -0.004075645866261485,
          0.020870418038965756,
          -0.2227430898663901,
          -0.017928429777076923,
          -0.4569254319222545,
          -0.166802902456214,
          -0.04158957991405087,
          0.505171948573154,
          -0.034996245779699155,
          0.01424377886883509,
          0.017026130935645544,
          -0.015143593867863068,
          -0.01943464860562118,
          -0.014431307360713855,
          -0.010768678203088586,
          -0.09331735797248034,
          -0.019829674716480214,
          -0.16569327386112226,
          0.10381741787671017,
          -0.13701193243700802,
          -0.21410518535752862,
          -0.01223485566697778,
          0.03377797534328421,
          0.03512999783961712,
          -0.19263968849431945,
          0.24434146139255164,
          -0.01387131935000722,
          0.00016050139152926752,
          0.014707560144846017,
          -0.10859268587954234,
          0.09090981057156995,
          -0.04127228886040228,
          0.0041898424121310975,
          -0.09400996684516155,
          -0.011553670775225221,
          0.2076036256563683,
          -0.02025560008269338,
          0.01879210928880244,
          -0.47630996939090936,
          -0.29209508210691154,
          0.029269264865756713,
          0.039436381947799755,
          0.00005815257020213766,
          -0.0018154562618789309,
          0.012090619497625757,
          0.35607442558179453,
          -0.10376658227622847,
          0.0663865374191092,
          0.01639450086630727,
          -0.023692196980060073,
          0.0176460998693688,
          -0.041125117039341644,
          -0.0176644826494872,
          0.5784960812353511,
          0.10251580966388171
         ],
         "yaxis": "y"
        }
       ],
       "layout": {
        "legend": {
         "tracegroupgap": 0
        },
        "margin": {
         "t": 60
        },
        "template": {
         "data": {
          "bar": [
           {
            "error_x": {
             "color": "#2a3f5f"
            },
            "error_y": {
             "color": "#2a3f5f"
            },
            "marker": {
             "line": {
              "color": "#E5ECF6",
              "width": 0.5
             },
             "pattern": {
              "fillmode": "overlay",
              "size": 10,
              "solidity": 0.2
             }
            },
            "type": "bar"
           }
          ],
          "barpolar": [
           {
            "marker": {
             "line": {
              "color": "#E5ECF6",
              "width": 0.5
             },
             "pattern": {
              "fillmode": "overlay",
              "size": 10,
              "solidity": 0.2
             }
            },
            "type": "barpolar"
           }
          ],
          "carpet": [
           {
            "aaxis": {
             "endlinecolor": "#2a3f5f",
             "gridcolor": "white",
             "linecolor": "white",
             "minorgridcolor": "white",
             "startlinecolor": "#2a3f5f"
            },
            "baxis": {
             "endlinecolor": "#2a3f5f",
             "gridcolor": "white",
             "linecolor": "white",
             "minorgridcolor": "white",
             "startlinecolor": "#2a3f5f"
            },
            "type": "carpet"
           }
          ],
          "choropleth": [
           {
            "colorbar": {
             "outlinewidth": 0,
             "ticks": ""
            },
            "type": "choropleth"
           }
          ],
          "contour": [
           {
            "colorbar": {
             "outlinewidth": 0,
             "ticks": ""
            },
            "colorscale": [
             [
              0,
              "#0d0887"
             ],
             [
              0.1111111111111111,
              "#46039f"
             ],
             [
              0.2222222222222222,
              "#7201a8"
             ],
             [
              0.3333333333333333,
              "#9c179e"
             ],
             [
              0.4444444444444444,
              "#bd3786"
             ],
             [
              0.5555555555555556,
              "#d8576b"
             ],
             [
              0.6666666666666666,
              "#ed7953"
             ],
             [
              0.7777777777777778,
              "#fb9f3a"
             ],
             [
              0.8888888888888888,
              "#fdca26"
             ],
             [
              1,
              "#f0f921"
             ]
            ],
            "type": "contour"
           }
          ],
          "contourcarpet": [
           {
            "colorbar": {
             "outlinewidth": 0,
             "ticks": ""
            },
            "type": "contourcarpet"
           }
          ],
          "heatmap": [
           {
            "colorbar": {
             "outlinewidth": 0,
             "ticks": ""
            },
            "colorscale": [
             [
              0,
              "#0d0887"
             ],
             [
              0.1111111111111111,
              "#46039f"
             ],
             [
              0.2222222222222222,
              "#7201a8"
             ],
             [
              0.3333333333333333,
              "#9c179e"
             ],
             [
              0.4444444444444444,
              "#bd3786"
             ],
             [
              0.5555555555555556,
              "#d8576b"
             ],
             [
              0.6666666666666666,
              "#ed7953"
             ],
             [
              0.7777777777777778,
              "#fb9f3a"
             ],
             [
              0.8888888888888888,
              "#fdca26"
             ],
             [
              1,
              "#f0f921"
             ]
            ],
            "type": "heatmap"
           }
          ],
          "heatmapgl": [
           {
            "colorbar": {
             "outlinewidth": 0,
             "ticks": ""
            },
            "colorscale": [
             [
              0,
              "#0d0887"
             ],
             [
              0.1111111111111111,
              "#46039f"
             ],
             [
              0.2222222222222222,
              "#7201a8"
             ],
             [
              0.3333333333333333,
              "#9c179e"
             ],
             [
              0.4444444444444444,
              "#bd3786"
             ],
             [
              0.5555555555555556,
              "#d8576b"
             ],
             [
              0.6666666666666666,
              "#ed7953"
             ],
             [
              0.7777777777777778,
              "#fb9f3a"
             ],
             [
              0.8888888888888888,
              "#fdca26"
             ],
             [
              1,
              "#f0f921"
             ]
            ],
            "type": "heatmapgl"
           }
          ],
          "histogram": [
           {
            "marker": {
             "pattern": {
              "fillmode": "overlay",
              "size": 10,
              "solidity": 0.2
             }
            },
            "type": "histogram"
           }
          ],
          "histogram2d": [
           {
            "colorbar": {
             "outlinewidth": 0,
             "ticks": ""
            },
            "colorscale": [
             [
              0,
              "#0d0887"
             ],
             [
              0.1111111111111111,
              "#46039f"
             ],
             [
              0.2222222222222222,
              "#7201a8"
             ],
             [
              0.3333333333333333,
              "#9c179e"
             ],
             [
              0.4444444444444444,
              "#bd3786"
             ],
             [
              0.5555555555555556,
              "#d8576b"
             ],
             [
              0.6666666666666666,
              "#ed7953"
             ],
             [
              0.7777777777777778,
              "#fb9f3a"
             ],
             [
              0.8888888888888888,
              "#fdca26"
             ],
             [
              1,
              "#f0f921"
             ]
            ],
            "type": "histogram2d"
           }
          ],
          "histogram2dcontour": [
           {
            "colorbar": {
             "outlinewidth": 0,
             "ticks": ""
            },
            "colorscale": [
             [
              0,
              "#0d0887"
             ],
             [
              0.1111111111111111,
              "#46039f"
             ],
             [
              0.2222222222222222,
              "#7201a8"
             ],
             [
              0.3333333333333333,
              "#9c179e"
             ],
             [
              0.4444444444444444,
              "#bd3786"
             ],
             [
              0.5555555555555556,
              "#d8576b"
             ],
             [
              0.6666666666666666,
              "#ed7953"
             ],
             [
              0.7777777777777778,
              "#fb9f3a"
             ],
             [
              0.8888888888888888,
              "#fdca26"
             ],
             [
              1,
              "#f0f921"
             ]
            ],
            "type": "histogram2dcontour"
           }
          ],
          "mesh3d": [
           {
            "colorbar": {
             "outlinewidth": 0,
             "ticks": ""
            },
            "type": "mesh3d"
           }
          ],
          "parcoords": [
           {
            "line": {
             "colorbar": {
              "outlinewidth": 0,
              "ticks": ""
             }
            },
            "type": "parcoords"
           }
          ],
          "pie": [
           {
            "automargin": true,
            "type": "pie"
           }
          ],
          "scatter": [
           {
            "fillpattern": {
             "fillmode": "overlay",
             "size": 10,
             "solidity": 0.2
            },
            "type": "scatter"
           }
          ],
          "scatter3d": [
           {
            "line": {
             "colorbar": {
              "outlinewidth": 0,
              "ticks": ""
             }
            },
            "marker": {
             "colorbar": {
              "outlinewidth": 0,
              "ticks": ""
             }
            },
            "type": "scatter3d"
           }
          ],
          "scattercarpet": [
           {
            "marker": {
             "colorbar": {
              "outlinewidth": 0,
              "ticks": ""
             }
            },
            "type": "scattercarpet"
           }
          ],
          "scattergeo": [
           {
            "marker": {
             "colorbar": {
              "outlinewidth": 0,
              "ticks": ""
             }
            },
            "type": "scattergeo"
           }
          ],
          "scattergl": [
           {
            "marker": {
             "colorbar": {
              "outlinewidth": 0,
              "ticks": ""
             }
            },
            "type": "scattergl"
           }
          ],
          "scattermapbox": [
           {
            "marker": {
             "colorbar": {
              "outlinewidth": 0,
              "ticks": ""
             }
            },
            "type": "scattermapbox"
           }
          ],
          "scatterpolar": [
           {
            "marker": {
             "colorbar": {
              "outlinewidth": 0,
              "ticks": ""
             }
            },
            "type": "scatterpolar"
           }
          ],
          "scatterpolargl": [
           {
            "marker": {
             "colorbar": {
              "outlinewidth": 0,
              "ticks": ""
             }
            },
            "type": "scatterpolargl"
           }
          ],
          "scatterternary": [
           {
            "marker": {
             "colorbar": {
              "outlinewidth": 0,
              "ticks": ""
             }
            },
            "type": "scatterternary"
           }
          ],
          "surface": [
           {
            "colorbar": {
             "outlinewidth": 0,
             "ticks": ""
            },
            "colorscale": [
             [
              0,
              "#0d0887"
             ],
             [
              0.1111111111111111,
              "#46039f"
             ],
             [
              0.2222222222222222,
              "#7201a8"
             ],
             [
              0.3333333333333333,
              "#9c179e"
             ],
             [
              0.4444444444444444,
              "#bd3786"
             ],
             [
              0.5555555555555556,
              "#d8576b"
             ],
             [
              0.6666666666666666,
              "#ed7953"
             ],
             [
              0.7777777777777778,
              "#fb9f3a"
             ],
             [
              0.8888888888888888,
              "#fdca26"
             ],
             [
              1,
              "#f0f921"
             ]
            ],
            "type": "surface"
           }
          ],
          "table": [
           {
            "cells": {
             "fill": {
              "color": "#EBF0F8"
             },
             "line": {
              "color": "white"
             }
            },
            "header": {
             "fill": {
              "color": "#C8D4E3"
             },
             "line": {
              "color": "white"
             }
            },
            "type": "table"
           }
          ]
         },
         "layout": {
          "annotationdefaults": {
           "arrowcolor": "#2a3f5f",
           "arrowhead": 0,
           "arrowwidth": 1
          },
          "autotypenumbers": "strict",
          "coloraxis": {
           "colorbar": {
            "outlinewidth": 0,
            "ticks": ""
           }
          },
          "colorscale": {
           "diverging": [
            [
             0,
             "#8e0152"
            ],
            [
             0.1,
             "#c51b7d"
            ],
            [
             0.2,
             "#de77ae"
            ],
            [
             0.3,
             "#f1b6da"
            ],
            [
             0.4,
             "#fde0ef"
            ],
            [
             0.5,
             "#f7f7f7"
            ],
            [
             0.6,
             "#e6f5d0"
            ],
            [
             0.7,
             "#b8e186"
            ],
            [
             0.8,
             "#7fbc41"
            ],
            [
             0.9,
             "#4d9221"
            ],
            [
             1,
             "#276419"
            ]
           ],
           "sequential": [
            [
             0,
             "#0d0887"
            ],
            [
             0.1111111111111111,
             "#46039f"
            ],
            [
             0.2222222222222222,
             "#7201a8"
            ],
            [
             0.3333333333333333,
             "#9c179e"
            ],
            [
             0.4444444444444444,
             "#bd3786"
            ],
            [
             0.5555555555555556,
             "#d8576b"
            ],
            [
             0.6666666666666666,
             "#ed7953"
            ],
            [
             0.7777777777777778,
             "#fb9f3a"
            ],
            [
             0.8888888888888888,
             "#fdca26"
            ],
            [
             1,
             "#f0f921"
            ]
           ],
           "sequentialminus": [
            [
             0,
             "#0d0887"
            ],
            [
             0.1111111111111111,
             "#46039f"
            ],
            [
             0.2222222222222222,
             "#7201a8"
            ],
            [
             0.3333333333333333,
             "#9c179e"
            ],
            [
             0.4444444444444444,
             "#bd3786"
            ],
            [
             0.5555555555555556,
             "#d8576b"
            ],
            [
             0.6666666666666666,
             "#ed7953"
            ],
            [
             0.7777777777777778,
             "#fb9f3a"
            ],
            [
             0.8888888888888888,
             "#fdca26"
            ],
            [
             1,
             "#f0f921"
            ]
           ]
          },
          "colorway": [
           "#636efa",
           "#EF553B",
           "#00cc96",
           "#ab63fa",
           "#FFA15A",
           "#19d3f3",
           "#FF6692",
           "#B6E880",
           "#FF97FF",
           "#FECB52"
          ],
          "font": {
           "color": "#2a3f5f"
          },
          "geo": {
           "bgcolor": "white",
           "lakecolor": "white",
           "landcolor": "#E5ECF6",
           "showlakes": true,
           "showland": true,
           "subunitcolor": "white"
          },
          "hoverlabel": {
           "align": "left"
          },
          "hovermode": "closest",
          "mapbox": {
           "style": "light"
          },
          "paper_bgcolor": "white",
          "plot_bgcolor": "#E5ECF6",
          "polar": {
           "angularaxis": {
            "gridcolor": "white",
            "linecolor": "white",
            "ticks": ""
           },
           "bgcolor": "#E5ECF6",
           "radialaxis": {
            "gridcolor": "white",
            "linecolor": "white",
            "ticks": ""
           }
          },
          "scene": {
           "xaxis": {
            "backgroundcolor": "#E5ECF6",
            "gridcolor": "white",
            "gridwidth": 2,
            "linecolor": "white",
            "showbackground": true,
            "ticks": "",
            "zerolinecolor": "white"
           },
           "yaxis": {
            "backgroundcolor": "#E5ECF6",
            "gridcolor": "white",
            "gridwidth": 2,
            "linecolor": "white",
            "showbackground": true,
            "ticks": "",
            "zerolinecolor": "white"
           },
           "zaxis": {
            "backgroundcolor": "#E5ECF6",
            "gridcolor": "white",
            "gridwidth": 2,
            "linecolor": "white",
            "showbackground": true,
            "ticks": "",
            "zerolinecolor": "white"
           }
          },
          "shapedefaults": {
           "line": {
            "color": "#2a3f5f"
           }
          },
          "ternary": {
           "aaxis": {
            "gridcolor": "white",
            "linecolor": "white",
            "ticks": ""
           },
           "baxis": {
            "gridcolor": "white",
            "linecolor": "white",
            "ticks": ""
           },
           "bgcolor": "#E5ECF6",
           "caxis": {
            "gridcolor": "white",
            "linecolor": "white",
            "ticks": ""
           }
          },
          "title": {
           "x": 0.05
          },
          "xaxis": {
           "automargin": true,
           "gridcolor": "white",
           "linecolor": "white",
           "ticks": "",
           "title": {
            "standoff": 15
           },
           "zerolinecolor": "white",
           "zerolinewidth": 2
          },
          "yaxis": {
           "automargin": true,
           "gridcolor": "white",
           "linecolor": "white",
           "ticks": "",
           "title": {
            "standoff": 15
           },
           "zerolinecolor": "white",
           "zerolinewidth": 2
          }
         }
        },
        "xaxis": {
         "anchor": "y",
         "domain": [
          0,
          1
         ],
         "title": {
          "text": "PC1"
         }
        },
        "yaxis": {
         "anchor": "x",
         "domain": [
          0,
          1
         ],
         "title": {
          "text": "PC2"
         }
        }
       }
      }
     },
     "metadata": {},
     "output_type": "display_data"
    }
   ],
   "source": [
    "#Remove 'TzirakisNikolaos','ErdoğanMehmetBurak'\n",
    "new_l2_pca = l2_pca.drop(['TzirakisNikolaos','ErdoğanMehmetBurak'])\n",
    "fig_newl2 = px.scatter(new_l2_pca, x='PC1', y='PC2', hover_name=new_l2_pca.index)\n",
    "fig_newl2.update_traces(marker=dict(size=5))\n",
    "fig_newl2.show()"
   ]
  },
  {
   "cell_type": "code",
   "execution_count": 238,
   "metadata": {},
   "outputs": [
    {
     "data": {
      "image/png": "[encoded data removed]",
      "text/plain": [
       "<Figure size 1000x600 with 1 Axes>"
      ]
     },
     "metadata": {},
     "output_type": "display_data"
    }
   ],
   "source": [
    "#K means to l1 pca\n",
    "import matplotlib.pyplot as plt\n",
    "\n",
    "from sklearn.cluster import KMeans\n",
    "inertia = []\n",
    "cluster_range = range(1, 11)  # considering 1 to 10 clusters\n",
    "\n",
    "for num_clusters in cluster_range:\n",
    "    kmeans = KMeans(n_clusters=num_clusters, n_init= 10, random_state=42)\n",
    "    kmeans.fit(new_l1_pca)\n",
    "    inertia.append(kmeans.inertia_)\n",
    "\n",
    "# Plotting the sum of squared distances against the number of clusters\n",
    "plt.figure(figsize=(10, 6))\n",
    "plt.plot(cluster_range, inertia, marker='o', linestyle='--')\n",
    "plt.xlabel('Number of Clusters')\n",
    "plt.ylabel('Sum of Squared Distances')\n",
    "plt.title('Elbow Method for Optimal Number of Clusters l1')\n",
    "plt.grid(True)\n",
    "plt.show()"
   ]
  },
  {
   "cell_type": "code",
   "execution_count": 239,
   "metadata": {},
   "outputs": [
    {
     "data": {
      "application/vnd.plotly.v1+json": {
       "config": {
        "plotlyServerURL": "https://plot.ly"
       },
       "data": [
        {
         "customdata": [
          [
           "AhlgrenScottD"
          ],
          [
           "AlbinPierre"
          ],
          [
           "BaloghJózsef"
          ],
          [
           "BaryshnikovYuliyM"
          ],
          [
           "Berwick-EvansDaniel"
          ],
          [
           "BocaFlorin-Petre"
          ],
          [
           "BradlowStevenBenjamin"
          ],
          [
           "BronskiJaredC"
          ],
          [
           "DeVilleRELee"
          ],
          [
           "DeyParthaSarathi"
          ],
          [
           "DiFrancescoPhilippe"
          ],
          [
           "DunfieldNathanM"
          ],
          [
           "ErdoğanMehmetBurak"
          ],
          [
           "FengRunhuan"
          ],
          [
           "FernandesRuiLoja"
          ],
          [
           "FordKevinB"
          ],
          [
           "HaboushWilliamJ"
          ],
          [
           "HellerJeremiahBen"
          ],
          [
           "HinkkanenAimo"
          ],
          [
           "HiraniAnilN"
          ],
          [
           "HurVeraMikyoung"
          ],
          [
           "IvanovSergeiVladimirovich"
          ],
          [
           "JandaFelix"
          ],
          [
           "JingXiaochen"
          ],
          [
           "JungeMarius"
          ],
          [
           "KatzSheldonH"
          ],
          [
           "KedemRinat"
          ],
          [
           "KermanEly"
          ],
          [
           "KirkpatrickKayLene"
          ],
          [
           "KirrEduard"
          ],
          [
           "KostochkaAlexandrV"
          ],
          [
           "KutzarovaDenkaN"
          ],
          [
           "LaNaveGabriele"
          ],
          [
           "LaugesenRichardSnyder"
          ],
          [
           "LeditzkyFelix"
          ],
          [
           "LermanEugeneM"
          ],
          [
           "LiXiaochun"
          ],
          [
           "McCarthyRandy"
          ],
          [
           "MineyevIgor"
          ],
          [
           "NikolaevIgorG"
          ],
          [
           "OikhbergTimur"
          ],
          [
           "PascaleffJamesThomas"
          ],
          [
           "RaptiZoi"
          ],
          [
           "RasmussenJacob"
          ],
          [
           "RasmussenSarahDean"
          ],
          [
           "RezkCharlesW"
          ],
          [
           "ReznickBruce"
          ],
          [
           "SongRenming"
          ],
          [
           "SowersRichardB"
          ],
          [
           "StojanoskaVesna"
          ],
          [
           "ThornerJesse"
          ],
          [
           "TolmanSusan"
          ],
          [
           "TumanovAlexander"
          ],
          [
           "TysonJeremyT"
          ],
          [
           "TzirakisNikolaos"
          ],
          [
           "WuXuan"
          ],
          [
           "YongAlexanderTF"
          ],
          [
           "ZaharescuAlexandru"
          ],
          [
           "ZharnitskyVadim"
          ]
         ],
         "hovertemplate": "Component 1=%{x}<br>Component 2=%{y}<br>Point Name=%{customdata[0]}<br>Cluster=%{marker.color}<extra></extra>",
         "legendgroup": "",
         "marker": {
          "color": [
           0,
           0,
           0,
           0,
           0,
           0,
           0,
           0,
           0,
           0,
           0,
           0,
           0,
           2,
           0,
           0,
           0,
           0,
           0,
           0,
           0,
           1,
           0,
           0,
           0,
           0,
           0,
           0,
           0,
           0,
           0,
           0,
           0,
           0,
           0,
           0,
           0,
           0,
           1,
           0,
           0,
           0,
           0,
           0,
           0,
           0,
           0,
           0,
           0,
           0,
           0,
           0,
           0,
           0,
           0,
           0,
           0,
           0,
           0
          ],
          "coloraxis": "coloraxis",
          "symbol": "circle"
         },
         "mode": "markers",
         "name": "",
         "orientation": "v",
         "showlegend": false,
         "type": "scatter",
         "x": [
          -0.00022143791166789255,
          -0.00019481342252138716,
          -0.00017415964042211186,
          -0.00018641461005155193,
          -0.0001879683543566893,
          -0.00017905764369822942,
          -0.00003756998681745766,
          -0.00017218266680591064,
          -0.00017197648640258787,
          -0.0002944834893220042,
          -0.0007749511104106247,
          -0.0009559379846918409,
          -0.00017199865404986202,
          -0.017231430672212344,
          -0.00017766832598133865,
          -0.00017831955212209378,
          -0.00027919468683643074,
          -0.0002203715878067761,
          -0.00019106446942022037,
          -0.0001824817241050513,
          -0.00017431714762632122,
          0.02764364711422919,
          -0.00024267528593945013,
          -0.002733236005361464,
          -0.00016184925276731995,
          -0.0012800640153886982,
          -0.00017480149934876897,
          -0.00018283930734597917,
          -0.00017418737506300622,
          -0.0001885951820246689,
          -0.00017422000514613866,
          -0.00017262377901780003,
          -0.00022733689286820563,
          -0.0002043884861172164,
          -0.00018462644000568365,
          -0.0001701884489400583,
          -0.00018166024881476425,
          -0.00017925650361441035,
          0.02583096842736463,
          -0.00016141840543014167,
          -0.00017330764503320958,
          -0.0002055686003949949,
          -0.00017735731773094285,
          -0.00017718464848433837,
          -0.00017770391149981028,
          -0.00018099035849040122,
          -0.00018107429006486214,
          -0.00027232770781521345,
          -0.00035141785520181895,
          -0.000178614094018415,
          -0.00020651089603627987,
          -0.00017000928354458648,
          -0.00020657937983925014,
          -0.00016679396347314622,
          -0.00017124027432298468,
          -0.00041177175880261694,
          -0.0001861658411372911,
          -0.00018821276589656475,
          -0.0001766526003577832
         ],
         "xaxis": "x",
         "y": [
          -0.00029385596266473974,
          -0.00026268341523031144,
          -0.00023252718579968386,
          -0.0002495141940611648,
          -0.0002508658442614117,
          -0.00023914208832033268,
          -0.00021049664632697654,
          -0.00022987283084363312,
          -0.00022956587725147333,
          -0.00039239174658814256,
          -0.0016840517456735515,
          -0.00219327064366408,
          -0.00022945979609291736,
          0.030162695730034505,
          -0.000237406533633919,
          -0.0002383052167428097,
          -0.0003729741915504383,
          -0.0002942811339737087,
          -0.0002558982007327676,
          -0.00024599517969028695,
          -0.00023253510616096256,
          0.008275307662111665,
          -0.0003404928182314111,
          0.004198611085641978,
          -0.0002298241414536972,
          -0.0030134346143494027,
          -0.00023836764835596765,
          -0.00024425846016844205,
          -0.0002325738568941948,
          -0.0002517255391792062,
          -0.00023260778256337198,
          -0.00023052908705733534,
          -0.0003101670396517149,
          -0.00026043831520505936,
          -0.00024658592875268827,
          -0.00022756318576544306,
          -0.00024260641578350658,
          -0.00023965891618537552,
          0.007724471465577909,
          -0.00024135055344887745,
          -0.00023145853230433533,
          -0.0002831852400382803,
          -0.00023678795457965127,
          -0.00024388812559981616,
          -0.00024072363146188517,
          -0.00024164937870137888,
          -0.00024243289658809354,
          -0.00015704323769069237,
          -0.0004573779844763838,
          -0.00023845917184112442,
          -0.0002774003806766553,
          -0.0002276734803113199,
          -0.00027585147419999624,
          -0.0002367112477384308,
          -0.0002285156847161799,
          -0.0005507255903295231,
          -0.00025145040439359295,
          -0.0002513932453571032,
          -0.00023587445578457305
         ],
         "yaxis": "y"
        }
       ],
       "layout": {
        "coloraxis": {
         "colorbar": {
          "title": {
           "text": "Cluster"
          }
         },
         "colorscale": [
          [
           0,
           "#0d0887"
          ],
          [
           0.1111111111111111,
           "#46039f"
          ],
          [
           0.2222222222222222,
           "#7201a8"
          ],
          [
           0.3333333333333333,
           "#9c179e"
          ],
          [
           0.4444444444444444,
           "#bd3786"
          ],
          [
           0.5555555555555556,
           "#d8576b"
          ],
          [
           0.6666666666666666,
           "#ed7953"
          ],
          [
           0.7777777777777778,
           "#fb9f3a"
          ],
          [
           0.8888888888888888,
           "#fdca26"
          ],
          [
           1,
           "#f0f921"
          ]
         ]
        },
        "legend": {
         "tracegroupgap": 0
        },
        "template": {
         "data": {
          "bar": [
           {
            "error_x": {
             "color": "#2a3f5f"
            },
            "error_y": {
             "color": "#2a3f5f"
            },
            "marker": {
             "line": {
              "color": "#E5ECF6",
              "width": 0.5
             },
             "pattern": {
              "fillmode": "overlay",
              "size": 10,
              "solidity": 0.2
             }
            },
            "type": "bar"
           }
          ],
          "barpolar": [
           {
            "marker": {
             "line": {
              "color": "#E5ECF6",
              "width": 0.5
             },
             "pattern": {
              "fillmode": "overlay",
              "size": 10,
              "solidity": 0.2
             }
            },
            "type": "barpolar"
           }
          ],
          "carpet": [
           {
            "aaxis": {
             "endlinecolor": "#2a3f5f",
             "gridcolor": "white",
             "linecolor": "white",
             "minorgridcolor": "white",
             "startlinecolor": "#2a3f5f"
            },
            "baxis": {
             "endlinecolor": "#2a3f5f",
             "gridcolor": "white",
             "linecolor": "white",
             "minorgridcolor": "white",
             "startlinecolor": "#2a3f5f"
            },
            "type": "carpet"
           }
          ],
          "choropleth": [
           {
            "colorbar": {
             "outlinewidth": 0,
             "ticks": ""
            },
            "type": "choropleth"
           }
          ],
          "contour": [
           {
            "colorbar": {
             "outlinewidth": 0,
             "ticks": ""
            },
            "colorscale": [
             [
              0,
              "#0d0887"
             ],
             [
              0.1111111111111111,
              "#46039f"
             ],
             [
              0.2222222222222222,
              "#7201a8"
             ],
             [
              0.3333333333333333,
              "#9c179e"
             ],
             [
              0.4444444444444444,
              "#bd3786"
             ],
             [
              0.5555555555555556,
              "#d8576b"
             ],
             [
              0.6666666666666666,
              "#ed7953"
             ],
             [
              0.7777777777777778,
              "#fb9f3a"
             ],
             [
              0.8888888888888888,
              "#fdca26"
             ],
             [
              1,
              "#f0f921"
             ]
            ],
            "type": "contour"
           }
          ],
          "contourcarpet": [
           {
            "colorbar": {
             "outlinewidth": 0,
             "ticks": ""
            },
            "type": "contourcarpet"
           }
          ],
          "heatmap": [
           {
            "colorbar": {
             "outlinewidth": 0,
             "ticks": ""
            },
            "colorscale": [
             [
              0,
              "#0d0887"
             ],
             [
              0.1111111111111111,
              "#46039f"
             ],
             [
              0.2222222222222222,
              "#7201a8"
             ],
             [
              0.3333333333333333,
              "#9c179e"
             ],
             [
              0.4444444444444444,
              "#bd3786"
             ],
             [
              0.5555555555555556,
              "#d8576b"
             ],
             [
              0.6666666666666666,
              "#ed7953"
             ],
             [
              0.7777777777777778,
              "#fb9f3a"
             ],
             [
              0.8888888888888888,
              "#fdca26"
             ],
             [
              1,
              "#f0f921"
             ]
            ],
            "type": "heatmap"
           }
          ],
          "heatmapgl": [
           {
            "colorbar": {
             "outlinewidth": 0,
             "ticks": ""
            },
            "colorscale": [
             [
              0,
              "#0d0887"
             ],
             [
              0.1111111111111111,
              "#46039f"
             ],
             [
              0.2222222222222222,
              "#7201a8"
             ],
             [
              0.3333333333333333,
              "#9c179e"
             ],
             [
              0.4444444444444444,
              "#bd3786"
             ],
             [
              0.5555555555555556,
              "#d8576b"
             ],
             [
              0.6666666666666666,
              "#ed7953"
             ],
             [
              0.7777777777777778,
              "#fb9f3a"
             ],
             [
              0.8888888888888888,
              "#fdca26"
             ],
             [
              1,
              "#f0f921"
             ]
            ],
            "type": "heatmapgl"
           }
          ],
          "histogram": [
           {
            "marker": {
             "pattern": {
              "fillmode": "overlay",
              "size": 10,
              "solidity": 0.2
             }
            },
            "type": "histogram"
           }
          ],
          "histogram2d": [
           {
            "colorbar": {
             "outlinewidth": 0,
             "ticks": ""
            },
            "colorscale": [
             [
              0,
              "#0d0887"
             ],
             [
              0.1111111111111111,
              "#46039f"
             ],
             [
              0.2222222222222222,
              "#7201a8"
             ],
             [
              0.3333333333333333,
              "#9c179e"
             ],
             [
              0.4444444444444444,
              "#bd3786"
             ],
             [
              0.5555555555555556,
              "#d8576b"
             ],
             [
              0.6666666666666666,
              "#ed7953"
             ],
             [
              0.7777777777777778,
              "#fb9f3a"
             ],
             [
              0.8888888888888888,
              "#fdca26"
             ],
             [
              1,
              "#f0f921"
             ]
            ],
            "type": "histogram2d"
           }
          ],
          "histogram2dcontour": [
           {
            "colorbar": {
             "outlinewidth": 0,
             "ticks": ""
            },
            "colorscale": [
             [
              0,
              "#0d0887"
             ],
             [
              0.1111111111111111,
              "#46039f"
             ],
             [
              0.2222222222222222,
              "#7201a8"
             ],
             [
              0.3333333333333333,
              "#9c179e"
             ],
             [
              0.4444444444444444,
              "#bd3786"
             ],
             [
              0.5555555555555556,
              "#d8576b"
             ],
             [
              0.6666666666666666,
              "#ed7953"
             ],
             [
              0.7777777777777778,
              "#fb9f3a"
             ],
             [
              0.8888888888888888,
              "#fdca26"
             ],
             [
              1,
              "#f0f921"
             ]
            ],
            "type": "histogram2dcontour"
           }
          ],
          "mesh3d": [
           {
            "colorbar": {
             "outlinewidth": 0,
             "ticks": ""
            },
            "type": "mesh3d"
           }
          ],
          "parcoords": [
           {
            "line": {
             "colorbar": {
              "outlinewidth": 0,
              "ticks": ""
             }
            },
            "type": "parcoords"
           }
          ],
          "pie": [
           {
            "automargin": true,
            "type": "pie"
           }
          ],
          "scatter": [
           {
            "fillpattern": {
             "fillmode": "overlay",
             "size": 10,
             "solidity": 0.2
            },
            "type": "scatter"
           }
          ],
          "scatter3d": [
           {
            "line": {
             "colorbar": {
              "outlinewidth": 0,
              "ticks": ""
             }
            },
            "marker": {
             "colorbar": {
              "outlinewidth": 0,
              "ticks": ""
             }
            },
            "type": "scatter3d"
           }
          ],
          "scattercarpet": [
           {
            "marker": {
             "colorbar": {
              "outlinewidth": 0,
              "ticks": ""
             }
            },
            "type": "scattercarpet"
           }
          ],
          "scattergeo": [
           {
            "marker": {
             "colorbar": {
              "outlinewidth": 0,
              "ticks": ""
             }
            },
            "type": "scattergeo"
           }
          ],
          "scattergl": [
           {
            "marker": {
             "colorbar": {
              "outlinewidth": 0,
              "ticks": ""
             }
            },
            "type": "scattergl"
           }
          ],
          "scattermapbox": [
           {
            "marker": {
             "colorbar": {
              "outlinewidth": 0,
              "ticks": ""
             }
            },
            "type": "scattermapbox"
           }
          ],
          "scatterpolar": [
           {
            "marker": {
             "colorbar": {
              "outlinewidth": 0,
              "ticks": ""
             }
            },
            "type": "scatterpolar"
           }
          ],
          "scatterpolargl": [
           {
            "marker": {
             "colorbar": {
              "outlinewidth": 0,
              "ticks": ""
             }
            },
            "type": "scatterpolargl"
           }
          ],
          "scatterternary": [
           {
            "marker": {
             "colorbar": {
              "outlinewidth": 0,
              "ticks": ""
             }
            },
            "type": "scatterternary"
           }
          ],
          "surface": [
           {
            "colorbar": {
             "outlinewidth": 0,
             "ticks": ""
            },
            "colorscale": [
             [
              0,
              "#0d0887"
             ],
             [
              0.1111111111111111,
              "#46039f"
             ],
             [
              0.2222222222222222,
              "#7201a8"
             ],
             [
              0.3333333333333333,
              "#9c179e"
             ],
             [
              0.4444444444444444,
              "#bd3786"
             ],
             [
              0.5555555555555556,
              "#d8576b"
             ],
             [
              0.6666666666666666,
              "#ed7953"
             ],
             [
              0.7777777777777778,
              "#fb9f3a"
             ],
             [
              0.8888888888888888,
              "#fdca26"
             ],
             [
              1,
              "#f0f921"
             ]
            ],
            "type": "surface"
           }
          ],
          "table": [
           {
            "cells": {
             "fill": {
              "color": "#EBF0F8"
             },
             "line": {
              "color": "white"
             }
            },
            "header": {
             "fill": {
              "color": "#C8D4E3"
             },
             "line": {
              "color": "white"
             }
            },
            "type": "table"
           }
          ]
         },
         "layout": {
          "annotationdefaults": {
           "arrowcolor": "#2a3f5f",
           "arrowhead": 0,
           "arrowwidth": 1
          },
          "autotypenumbers": "strict",
          "coloraxis": {
           "colorbar": {
            "outlinewidth": 0,
            "ticks": ""
           }
          },
          "colorscale": {
           "diverging": [
            [
             0,
             "#8e0152"
            ],
            [
             0.1,
             "#c51b7d"
            ],
            [
             0.2,
             "#de77ae"
            ],
            [
             0.3,
             "#f1b6da"
            ],
            [
             0.4,
             "#fde0ef"
            ],
            [
             0.5,
             "#f7f7f7"
            ],
            [
             0.6,
             "#e6f5d0"
            ],
            [
             0.7,
             "#b8e186"
            ],
            [
             0.8,
             "#7fbc41"
            ],
            [
             0.9,
             "#4d9221"
            ],
            [
             1,
             "#276419"
            ]
           ],
           "sequential": [
            [
             0,
             "#0d0887"
            ],
            [
             0.1111111111111111,
             "#46039f"
            ],
            [
             0.2222222222222222,
             "#7201a8"
            ],
            [
             0.3333333333333333,
             "#9c179e"
            ],
            [
             0.4444444444444444,
             "#bd3786"
            ],
            [
             0.5555555555555556,
             "#d8576b"
            ],
            [
             0.6666666666666666,
             "#ed7953"
            ],
            [
             0.7777777777777778,
             "#fb9f3a"
            ],
            [
             0.8888888888888888,
             "#fdca26"
            ],
            [
             1,
             "#f0f921"
            ]
           ],
           "sequentialminus": [
            [
             0,
             "#0d0887"
            ],
            [
             0.1111111111111111,
             "#46039f"
            ],
            [
             0.2222222222222222,
             "#7201a8"
            ],
            [
             0.3333333333333333,
             "#9c179e"
            ],
            [
             0.4444444444444444,
             "#bd3786"
            ],
            [
             0.5555555555555556,
             "#d8576b"
            ],
            [
             0.6666666666666666,
             "#ed7953"
            ],
            [
             0.7777777777777778,
             "#fb9f3a"
            ],
            [
             0.8888888888888888,
             "#fdca26"
            ],
            [
             1,
             "#f0f921"
            ]
           ]
          },
          "colorway": [
           "#636efa",
           "#EF553B",
           "#00cc96",
           "#ab63fa",
           "#FFA15A",
           "#19d3f3",
           "#FF6692",
           "#B6E880",
           "#FF97FF",
           "#FECB52"
          ],
          "font": {
           "color": "#2a3f5f"
          },
          "geo": {
           "bgcolor": "white",
           "lakecolor": "white",
           "landcolor": "#E5ECF6",
           "showlakes": true,
           "showland": true,
           "subunitcolor": "white"
          },
          "hoverlabel": {
           "align": "left"
          },
          "hovermode": "closest",
          "mapbox": {
           "style": "light"
          },
          "paper_bgcolor": "white",
          "plot_bgcolor": "#E5ECF6",
          "polar": {
           "angularaxis": {
            "gridcolor": "white",
            "linecolor": "white",
            "ticks": ""
           },
           "bgcolor": "#E5ECF6",
           "radialaxis": {
            "gridcolor": "white",
            "linecolor": "white",
            "ticks": ""
           }
          },
          "scene": {
           "xaxis": {
            "backgroundcolor": "#E5ECF6",
            "gridcolor": "white",
            "gridwidth": 2,
            "linecolor": "white",
            "showbackground": true,
            "ticks": "",
            "zerolinecolor": "white"
           },
           "yaxis": {
            "backgroundcolor": "#E5ECF6",
            "gridcolor": "white",
            "gridwidth": 2,
            "linecolor": "white",
            "showbackground": true,
            "ticks": "",
            "zerolinecolor": "white"
           },
           "zaxis": {
            "backgroundcolor": "#E5ECF6",
            "gridcolor": "white",
            "gridwidth": 2,
            "linecolor": "white",
            "showbackground": true,
            "ticks": "",
            "zerolinecolor": "white"
           }
          },
          "shapedefaults": {
           "line": {
            "color": "#2a3f5f"
           }
          },
          "ternary": {
           "aaxis": {
            "gridcolor": "white",
            "linecolor": "white",
            "ticks": ""
           },
           "baxis": {
            "gridcolor": "white",
            "linecolor": "white",
            "ticks": ""
           },
           "bgcolor": "#E5ECF6",
           "caxis": {
            "gridcolor": "white",
            "linecolor": "white",
            "ticks": ""
           }
          },
          "title": {
           "x": 0.05
          },
          "xaxis": {
           "automargin": true,
           "gridcolor": "white",
           "linecolor": "white",
           "ticks": "",
           "title": {
            "standoff": 15
           },
           "zerolinecolor": "white",
           "zerolinewidth": 2
          },
          "yaxis": {
           "automargin": true,
           "gridcolor": "white",
           "linecolor": "white",
           "ticks": "",
           "title": {
            "standoff": 15
           },
           "zerolinecolor": "white",
           "zerolinewidth": 2
          }
         }
        },
        "title": {
         "text": "KMeans Clustering of References l1"
        },
        "xaxis": {
         "anchor": "y",
         "domain": [
          0,
          1
         ],
         "title": {
          "text": "Component 1"
         }
        },
        "yaxis": {
         "anchor": "x",
         "domain": [
          0,
          1
         ],
         "title": {
          "text": "Component 2"
         }
        }
       }
      }
     },
     "metadata": {},
     "output_type": "display_data"
    }
   ],
   "source": [
    "import plotly.express as px\n",
    "import pandas as pd\n",
    "from sklearn.cluster import KMeans\n",
    "\n",
    "# Assuming l1_pca is your PCA-transformed data in pandas DataFrame format\n",
    "data_to_cluster = new_l1_pca\n",
    "\n",
    "# Convert the DataFrame to a numpy array for KMeans fitting\n",
    "data_to_cluster_np = data_to_cluster.values\n",
    "\n",
    "# Fit the KMeans model\n",
    "kmeans = KMeans(n_clusters=3, n_init= 10, random_state= 40)\n",
    "kmeans.fit(data_to_cluster_np)\n",
    "\n",
    "# Get the cluster labels\n",
    "labels = kmeans.labels_\n",
    "\n",
    "# Create a DataFrame for plotting with plotly\n",
    "df_plot = pd.DataFrame(data_to_cluster_np, columns=['Component 1', 'Component 2'])\n",
    "df_plot['Cluster'] = labels\n",
    "df_plot['Point Name'] = data_to_cluster.index  # This assumes the original DataFrame has meaningful row labels\n",
    "\n",
    "# Create an interactive scatter plot\n",
    "fig = px.scatter(df_plot, x='Component 1', y='Component 2', color='Cluster', \n",
    "                 hover_data=['Point Name'], \n",
    "                 title='KMeans Clustering of References l1')\n",
    "\n",
    "# Display the plot\n",
    "fig.show()"
   ]
  },
  {
   "cell_type": "code",
   "execution_count": 240,
   "metadata": {},
   "outputs": [
    {
     "data": {
      "image/png": "[encoded data removed]",
      "text/plain": [
       "<Figure size 1000x600 with 1 Axes>"
      ]
     },
     "metadata": {},
     "output_type": "display_data"
    }
   ],
   "source": [
    "from sklearn.cluster import KMeans\n",
    "inertia = []\n",
    "cluster_range = range(1, 11)  # considering 1 to 10 clusters\n",
    "\n",
    "for num_clusters in cluster_range:\n",
    "    kmeans = KMeans(n_clusters=num_clusters,n_init= 10, random_state=42)\n",
    "    kmeans.fit(new_l2_pca)\n",
    "    inertia.append(kmeans.inertia_)\n",
    "\n",
    "# Plotting the sum of squared distances against the number of clusters\n",
    "plt.figure(figsize=(10, 6))\n",
    "plt.plot(cluster_range, inertia, marker='o', linestyle='--')\n",
    "plt.xlabel('Number of Clusters')\n",
    "plt.ylabel('Sum of Squared Distances')\n",
    "plt.title('Elbow Method for Optimal Number of Clusters l2')\n",
    "plt.grid(True)\n",
    "plt.show()"
   ]
  },
  {
   "cell_type": "code",
   "execution_count": 241,
   "metadata": {},
   "outputs": [
    {
     "data": {
      "application/vnd.plotly.v1+json": {
       "config": {
        "plotlyServerURL": "https://plot.ly"
       },
       "data": [
        {
         "customdata": [
          [
           "AhlgrenScottD"
          ],
          [
           "AlbinPierre"
          ],
          [
           "BaloghJózsef"
          ],
          [
           "BaryshnikovYuliyM"
          ],
          [
           "Berwick-EvansDaniel"
          ],
          [
           "BocaFlorin-Petre"
          ],
          [
           "BradlowStevenBenjamin"
          ],
          [
           "BronskiJaredC"
          ],
          [
           "DeVilleRELee"
          ],
          [
           "DeyParthaSarathi"
          ],
          [
           "DiFrancescoPhilippe"
          ],
          [
           "DoddChristopher"
          ],
          [
           "DunfieldNathanM"
          ],
          [
           "FengRunhuan"
          ],
          [
           "FernandesRuiLoja"
          ],
          [
           "FordKevinB"
          ],
          [
           "GuzmanRosemaryK"
          ],
          [
           "HaboushWilliamJ"
          ],
          [
           "HellerJeremiahBen"
          ],
          [
           "HinkkanenAimo"
          ],
          [
           "HiraniAnilN"
          ],
          [
           "HungPei-Ken"
          ],
          [
           "HurVeraMikyoung"
          ],
          [
           "IvanovSergeiVladimirovich"
          ],
          [
           "JandaFelix"
          ],
          [
           "JingXiaochen"
          ],
          [
           "JungeMarius"
          ],
          [
           "KatzSheldonH"
          ],
          [
           "KedemRinat"
          ],
          [
           "KermanEly"
          ],
          [
           "KirkpatrickKayLene"
          ],
          [
           "KirrEduard"
          ],
          [
           "KostochkaAlexandrV"
          ],
          [
           "KutzarovaDenkaN"
          ],
          [
           "LaNaveGabriele"
          ],
          [
           "LaugesenRichardSnyder"
          ],
          [
           "LeditzkyFelix"
          ],
          [
           "LermanEugeneM"
          ],
          [
           "LiXiaochun"
          ],
          [
           "LiuYuan"
          ],
          [
           "McCarthyRandy"
          ],
          [
           "MineyevIgor"
          ],
          [
           "NikolaevIgorG"
          ],
          [
           "OikhbergTimur"
          ],
          [
           "PascaleffJamesThomas"
          ],
          [
           "RaptiZoi"
          ],
          [
           "RasmussenJacob"
          ],
          [
           "RasmussenSarahDean"
          ],
          [
           "RezkCharlesW"
          ],
          [
           "ReznickBruce"
          ],
          [
           "SongRenming"
          ],
          [
           "SowersRichardB"
          ],
          [
           "StojanoskaVesna"
          ],
          [
           "ThornerJesse"
          ],
          [
           "TolmanSusan"
          ],
          [
           "TumanovAlexander"
          ],
          [
           "TysonJeremyT"
          ],
          [
           "WeiWei"
          ],
          [
           "WuXuan"
          ],
          [
           "YongAlexanderTF"
          ],
          [
           "YoungAmanda"
          ],
          [
           "ZaharescuAlexandru"
          ],
          [
           "ZharnitskyVadim"
          ]
         ],
         "hovertemplate": "Component 1=%{x}<br>Component 2=%{y}<br>Point Name=%{customdata[0]}<br>Cluster=%{marker.color}<extra></extra>",
         "legendgroup": "",
         "marker": {
          "color": [
           1,
           1,
           0,
           3,
           1,
           2,
           1,
           3,
           1,
           1,
           0,
           1,
           0,
           0,
           1,
           2,
           1,
           1,
           1,
           1,
           1,
           1,
           1,
           1,
           1,
           0,
           1,
           0,
           0,
           1,
           3,
           3,
           0,
           2,
           1,
           1,
           1,
           1,
           1,
           1,
           1,
           1,
           1,
           2,
           1,
           1,
           0,
           0,
           1,
           1,
           1,
           1,
           1,
           2,
           1,
           3,
           1,
           1,
           1,
           1,
           1,
           2,
           3
          ],
          "coloraxis": "coloraxis",
          "symbol": "circle"
         },
         "mode": "markers",
         "name": "",
         "orientation": "v",
         "showlegend": false,
         "type": "scatter",
         "x": [
          -0.11606443586662168,
          -0.020682814709367277,
          -0.08372498040094709,
          0.14703907318851744,
          -0.03116412960586656,
          -0.22535828207402872,
          -0.028919180203329578,
          0.1362676645253469,
          0.06388792457593857,
          0.0760715335821732,
          -0.055946507107893596,
          -0.010752011221581533,
          -0.12987167581233014,
          -0.10816840037842947,
          -0.02011768056997423,
          -0.24592972674137037,
          -0.02889672209804838,
          -0.013888138665885503,
          -0.029201413966713403,
          -0.02509768203599809,
          0.0660004057012502,
          -0.00392344921414868,
          0.08574422066703459,
          -0.06158655501268126,
          -0.01566093971939304,
          -0.10833272859369909,
          -0.07277895764420764,
          -0.051773043700415064,
          -0.05831312763295236,
          -0.005789648613041737,
          0.30143276802309954,
          0.164254254960315,
          -0.08372498034366746,
          -0.170339431252822,
          -0.011828298958066448,
          0.03362360528626596,
          -0.024269448695351404,
          -0.05688024720686505,
          0.06171095133237609,
          -0.01656181851059414,
          -0.07845023943256986,
          -0.06411509277077204,
          -0.02841517498723231,
          -0.1549892563310085,
          -0.017160822138526627,
          0.07242001757798677,
          -0.1383233677888428,
          -0.08629444262350046,
          -0.15277325010230985,
          0.0002564734796864134,
          0.05858802488725748,
          0.008892858498780187,
          -0.11328112279812183,
          -0.17981730220826414,
          -0.05789565774550618,
          0.14604586444991713,
          -0.03196612051436729,
          -0.018075900156217888,
          0.05621556127023286,
          -0.0013065531987459156,
          -0.011509654666031219,
          -0.3068338408418945,
          0.36062185739532104
         ],
         "xaxis": "x",
         "y": [
          0.13462069108585178,
          -0.049549910121810724,
          -0.19263968852690755,
          0.06534390883640959,
          -0.03226700805784337,
          0.4223001287950053,
          -0.0597647017705157,
          0.0014704556074486203,
          -0.004075645866261485,
          0.020870418038965756,
          -0.2227430898663901,
          -0.017928429777076923,
          -0.4569254319222545,
          -0.166802902456214,
          -0.04158957991405087,
          0.505171948573154,
          -0.034996245779699155,
          0.01424377886883509,
          0.017026130935645544,
          -0.015143593867863068,
          -0.01943464860562118,
          -0.014431307360713855,
          -0.010768678203088586,
          -0.09331735797248034,
          -0.019829674716480214,
          -0.16569327386112226,
          0.10381741787671017,
          -0.13701193243700802,
          -0.21410518535752862,
          -0.01223485566697778,
          0.03377797534328421,
          0.03512999783961712,
          -0.19263968849431945,
          0.24434146139255164,
          -0.01387131935000722,
          0.00016050139152926752,
          0.014707560144846017,
          -0.10859268587954234,
          0.09090981057156995,
          -0.04127228886040228,
          0.0041898424121310975,
          -0.09400996684516155,
          -0.011553670775225221,
          0.2076036256563683,
          -0.02025560008269338,
          0.01879210928880244,
          -0.47630996939090936,
          -0.29209508210691154,
          0.029269264865756713,
          0.039436381947799755,
          0.00005815257020213766,
          -0.0018154562618789309,
          0.012090619497625757,
          0.35607442558179453,
          -0.10376658227622847,
          0.0663865374191092,
          0.01639450086630727,
          -0.023692196980060073,
          0.0176460998693688,
          -0.041125117039341644,
          -0.0176644826494872,
          0.5784960812353511,
          0.10251580966388171
         ],
         "yaxis": "y"
        }
       ],
       "layout": {
        "coloraxis": {
         "colorbar": {
          "title": {
           "text": "Cluster"
          }
         },
         "colorscale": [
          [
           0,
           "#0d0887"
          ],
          [
           0.1111111111111111,
           "#46039f"
          ],
          [
           0.2222222222222222,
           "#7201a8"
          ],
          [
           0.3333333333333333,
           "#9c179e"
          ],
          [
           0.4444444444444444,
           "#bd3786"
          ],
          [
           0.5555555555555556,
           "#d8576b"
          ],
          [
           0.6666666666666666,
           "#ed7953"
          ],
          [
           0.7777777777777778,
           "#fb9f3a"
          ],
          [
           0.8888888888888888,
           "#fdca26"
          ],
          [
           1,
           "#f0f921"
          ]
         ]
        },
        "legend": {
         "tracegroupgap": 0
        },
        "template": {
         "data": {
          "bar": [
           {
            "error_x": {
             "color": "#2a3f5f"
            },
            "error_y": {
             "color": "#2a3f5f"
            },
            "marker": {
             "line": {
              "color": "#E5ECF6",
              "width": 0.5
             },
             "pattern": {
              "fillmode": "overlay",
              "size": 10,
              "solidity": 0.2
             }
            },
            "type": "bar"
           }
          ],
          "barpolar": [
           {
            "marker": {
             "line": {
              "color": "#E5ECF6",
              "width": 0.5
             },
             "pattern": {
              "fillmode": "overlay",
              "size": 10,
              "solidity": 0.2
             }
            },
            "type": "barpolar"
           }
          ],
          "carpet": [
           {
            "aaxis": {
             "endlinecolor": "#2a3f5f",
             "gridcolor": "white",
             "linecolor": "white",
             "minorgridcolor": "white",
             "startlinecolor": "#2a3f5f"
            },
            "baxis": {
             "endlinecolor": "#2a3f5f",
             "gridcolor": "white",
             "linecolor": "white",
             "minorgridcolor": "white",
             "startlinecolor": "#2a3f5f"
            },
            "type": "carpet"
           }
          ],
          "choropleth": [
           {
            "colorbar": {
             "outlinewidth": 0,
             "ticks": ""
            },
            "type": "choropleth"
           }
          ],
          "contour": [
           {
            "colorbar": {
             "outlinewidth": 0,
             "ticks": ""
            },
            "colorscale": [
             [
              0,
              "#0d0887"
             ],
             [
              0.1111111111111111,
              "#46039f"
             ],
             [
              0.2222222222222222,
              "#7201a8"
             ],
             [
              0.3333333333333333,
              "#9c179e"
             ],
             [
              0.4444444444444444,
              "#bd3786"
             ],
             [
              0.5555555555555556,
              "#d8576b"
             ],
             [
              0.6666666666666666,
              "#ed7953"
             ],
             [
              0.7777777777777778,
              "#fb9f3a"
             ],
             [
              0.8888888888888888,
              "#fdca26"
             ],
             [
              1,
              "#f0f921"
             ]
            ],
            "type": "contour"
           }
          ],
          "contourcarpet": [
           {
            "colorbar": {
             "outlinewidth": 0,
             "ticks": ""
            },
            "type": "contourcarpet"
           }
          ],
          "heatmap": [
           {
            "colorbar": {
             "outlinewidth": 0,
             "ticks": ""
            },
            "colorscale": [
             [
              0,
              "#0d0887"
             ],
             [
              0.1111111111111111,
              "#46039f"
             ],
             [
              0.2222222222222222,
              "#7201a8"
             ],
             [
              0.3333333333333333,
              "#9c179e"
             ],
             [
              0.4444444444444444,
              "#bd3786"
             ],
             [
              0.5555555555555556,
              "#d8576b"
             ],
             [
              0.6666666666666666,
              "#ed7953"
             ],
             [
              0.7777777777777778,
              "#fb9f3a"
             ],
             [
              0.8888888888888888,
              "#fdca26"
             ],
             [
              1,
              "#f0f921"
             ]
            ],
            "type": "heatmap"
           }
          ],
          "heatmapgl": [
           {
            "colorbar": {
             "outlinewidth": 0,
             "ticks": ""
            },
            "colorscale": [
             [
              0,
              "#0d0887"
             ],
             [
              0.1111111111111111,
              "#46039f"
             ],
             [
              0.2222222222222222,
              "#7201a8"
             ],
             [
              0.3333333333333333,
              "#9c179e"
             ],
             [
              0.4444444444444444,
              "#bd3786"
             ],
             [
              0.5555555555555556,
              "#d8576b"
             ],
             [
              0.6666666666666666,
              "#ed7953"
             ],
             [
              0.7777777777777778,
              "#fb9f3a"
             ],
             [
              0.8888888888888888,
              "#fdca26"
             ],
             [
              1,
              "#f0f921"
             ]
            ],
            "type": "heatmapgl"
           }
          ],
          "histogram": [
           {
            "marker": {
             "pattern": {
              "fillmode": "overlay",
              "size": 10,
              "solidity": 0.2
             }
            },
            "type": "histogram"
           }
          ],
          "histogram2d": [
           {
            "colorbar": {
             "outlinewidth": 0,
             "ticks": ""
            },
            "colorscale": [
             [
              0,
              "#0d0887"
             ],
             [
              0.1111111111111111,
              "#46039f"
             ],
             [
              0.2222222222222222,
              "#7201a8"
             ],
             [
              0.3333333333333333,
              "#9c179e"
             ],
             [
              0.4444444444444444,
              "#bd3786"
             ],
             [
              0.5555555555555556,
              "#d8576b"
             ],
             [
              0.6666666666666666,
              "#ed7953"
             ],
             [
              0.7777777777777778,
              "#fb9f3a"
             ],
             [
              0.8888888888888888,
              "#fdca26"
             ],
             [
              1,
              "#f0f921"
             ]
            ],
            "type": "histogram2d"
           }
          ],
          "histogram2dcontour": [
           {
            "colorbar": {
             "outlinewidth": 0,
             "ticks": ""
            },
            "colorscale": [
             [
              0,
              "#0d0887"
             ],
             [
              0.1111111111111111,
              "#46039f"
             ],
             [
              0.2222222222222222,
              "#7201a8"
             ],
             [
              0.3333333333333333,
              "#9c179e"
             ],
             [
              0.4444444444444444,
              "#bd3786"
             ],
             [
              0.5555555555555556,
              "#d8576b"
             ],
             [
              0.6666666666666666,
              "#ed7953"
             ],
             [
              0.7777777777777778,
              "#fb9f3a"
             ],
             [
              0.8888888888888888,
              "#fdca26"
             ],
             [
              1,
              "#f0f921"
             ]
            ],
            "type": "histogram2dcontour"
           }
          ],
          "mesh3d": [
           {
            "colorbar": {
             "outlinewidth": 0,
             "ticks": ""
            },
            "type": "mesh3d"
           }
          ],
          "parcoords": [
           {
            "line": {
             "colorbar": {
              "outlinewidth": 0,
              "ticks": ""
             }
            },
            "type": "parcoords"
           }
          ],
          "pie": [
           {
            "automargin": true,
            "type": "pie"
           }
          ],
          "scatter": [
           {
            "fillpattern": {
             "fillmode": "overlay",
             "size": 10,
             "solidity": 0.2
            },
            "type": "scatter"
           }
          ],
          "scatter3d": [
           {
            "line": {
             "colorbar": {
              "outlinewidth": 0,
              "ticks": ""
             }
            },
            "marker": {
             "colorbar": {
              "outlinewidth": 0,
              "ticks": ""
             }
            },
            "type": "scatter3d"
           }
          ],
          "scattercarpet": [
           {
            "marker": {
             "colorbar": {
              "outlinewidth": 0,
              "ticks": ""
             }
            },
            "type": "scattercarpet"
           }
          ],
          "scattergeo": [
           {
            "marker": {
             "colorbar": {
              "outlinewidth": 0,
              "ticks": ""
             }
            },
            "type": "scattergeo"
           }
          ],
          "scattergl": [
           {
            "marker": {
             "colorbar": {
              "outlinewidth": 0,
              "ticks": ""
             }
            },
            "type": "scattergl"
           }
          ],
          "scattermapbox": [
           {
            "marker": {
             "colorbar": {
              "outlinewidth": 0,
              "ticks": ""
             }
            },
            "type": "scattermapbox"
           }
          ],
          "scatterpolar": [
           {
            "marker": {
             "colorbar": {
              "outlinewidth": 0,
              "ticks": ""
             }
            },
            "type": "scatterpolar"
           }
          ],
          "scatterpolargl": [
           {
            "marker": {
             "colorbar": {
              "outlinewidth": 0,
              "ticks": ""
             }
            },
            "type": "scatterpolargl"
           }
          ],
          "scatterternary": [
           {
            "marker": {
             "colorbar": {
              "outlinewidth": 0,
              "ticks": ""
             }
            },
            "type": "scatterternary"
           }
          ],
          "surface": [
           {
            "colorbar": {
             "outlinewidth": 0,
             "ticks": ""
            },
            "colorscale": [
             [
              0,
              "#0d0887"
             ],
             [
              0.1111111111111111,
              "#46039f"
             ],
             [
              0.2222222222222222,
              "#7201a8"
             ],
             [
              0.3333333333333333,
              "#9c179e"
             ],
             [
              0.4444444444444444,
              "#bd3786"
             ],
             [
              0.5555555555555556,
              "#d8576b"
             ],
             [
              0.6666666666666666,
              "#ed7953"
             ],
             [
              0.7777777777777778,
              "#fb9f3a"
             ],
             [
              0.8888888888888888,
              "#fdca26"
             ],
             [
              1,
              "#f0f921"
             ]
            ],
            "type": "surface"
           }
          ],
          "table": [
           {
            "cells": {
             "fill": {
              "color": "#EBF0F8"
             },
             "line": {
              "color": "white"
             }
            },
            "header": {
             "fill": {
              "color": "#C8D4E3"
             },
             "line": {
              "color": "white"
             }
            },
            "type": "table"
           }
          ]
         },
         "layout": {
          "annotationdefaults": {
           "arrowcolor": "#2a3f5f",
           "arrowhead": 0,
           "arrowwidth": 1
          },
          "autotypenumbers": "strict",
          "coloraxis": {
           "colorbar": {
            "outlinewidth": 0,
            "ticks": ""
           }
          },
          "colorscale": {
           "diverging": [
            [
             0,
             "#8e0152"
            ],
            [
             0.1,
             "#c51b7d"
            ],
            [
             0.2,
             "#de77ae"
            ],
            [
             0.3,
             "#f1b6da"
            ],
            [
             0.4,
             "#fde0ef"
            ],
            [
             0.5,
             "#f7f7f7"
            ],
            [
             0.6,
             "#e6f5d0"
            ],
            [
             0.7,
             "#b8e186"
            ],
            [
             0.8,
             "#7fbc41"
            ],
            [
             0.9,
             "#4d9221"
            ],
            [
             1,
             "#276419"
            ]
           ],
           "sequential": [
            [
             0,
             "#0d0887"
            ],
            [
             0.1111111111111111,
             "#46039f"
            ],
            [
             0.2222222222222222,
             "#7201a8"
            ],
            [
             0.3333333333333333,
             "#9c179e"
            ],
            [
             0.4444444444444444,
             "#bd3786"
            ],
            [
             0.5555555555555556,
             "#d8576b"
            ],
            [
             0.6666666666666666,
             "#ed7953"
            ],
            [
             0.7777777777777778,
             "#fb9f3a"
            ],
            [
             0.8888888888888888,
             "#fdca26"
            ],
            [
             1,
             "#f0f921"
            ]
           ],
           "sequentialminus": [
            [
             0,
             "#0d0887"
            ],
            [
             0.1111111111111111,
             "#46039f"
            ],
            [
             0.2222222222222222,
             "#7201a8"
            ],
            [
             0.3333333333333333,
             "#9c179e"
            ],
            [
             0.4444444444444444,
             "#bd3786"
            ],
            [
             0.5555555555555556,
             "#d8576b"
            ],
            [
             0.6666666666666666,
             "#ed7953"
            ],
            [
             0.7777777777777778,
             "#fb9f3a"
            ],
            [
             0.8888888888888888,
             "#fdca26"
            ],
            [
             1,
             "#f0f921"
            ]
           ]
          },
          "colorway": [
           "#636efa",
           "#EF553B",
           "#00cc96",
           "#ab63fa",
           "#FFA15A",
           "#19d3f3",
           "#FF6692",
           "#B6E880",
           "#FF97FF",
           "#FECB52"
          ],
          "font": {
           "color": "#2a3f5f"
          },
          "geo": {
           "bgcolor": "white",
           "lakecolor": "white",
           "landcolor": "#E5ECF6",
           "showlakes": true,
           "showland": true,
           "subunitcolor": "white"
          },
          "hoverlabel": {
           "align": "left"
          },
          "hovermode": "closest",
          "mapbox": {
           "style": "light"
          },
          "paper_bgcolor": "white",
          "plot_bgcolor": "#E5ECF6",
          "polar": {
           "angularaxis": {
            "gridcolor": "white",
            "linecolor": "white",
            "ticks": ""
           },
           "bgcolor": "#E5ECF6",
           "radialaxis": {
            "gridcolor": "white",
            "linecolor": "white",
            "ticks": ""
           }
          },
          "scene": {
           "xaxis": {
            "backgroundcolor": "#E5ECF6",
            "gridcolor": "white",
            "gridwidth": 2,
            "linecolor": "white",
            "showbackground": true,
            "ticks": "",
            "zerolinecolor": "white"
           },
           "yaxis": {
            "backgroundcolor": "#E5ECF6",
            "gridcolor": "white",
            "gridwidth": 2,
            "linecolor": "white",
            "showbackground": true,
            "ticks": "",
            "zerolinecolor": "white"
           },
           "zaxis": {
            "backgroundcolor": "#E5ECF6",
            "gridcolor": "white",
            "gridwidth": 2,
            "linecolor": "white",
            "showbackground": true,
            "ticks": "",
            "zerolinecolor": "white"
           }
          },
          "shapedefaults": {
           "line": {
            "color": "#2a3f5f"
           }
          },
          "ternary": {
           "aaxis": {
            "gridcolor": "white",
            "linecolor": "white",
            "ticks": ""
           },
           "baxis": {
            "gridcolor": "white",
            "linecolor": "white",
            "ticks": ""
           },
           "bgcolor": "#E5ECF6",
           "caxis": {
            "gridcolor": "white",
            "linecolor": "white",
            "ticks": ""
           }
          },
          "title": {
           "x": 0.05
          },
          "xaxis": {
           "automargin": true,
           "gridcolor": "white",
           "linecolor": "white",
           "ticks": "",
           "title": {
            "standoff": 15
           },
           "zerolinecolor": "white",
           "zerolinewidth": 2
          },
          "yaxis": {
           "automargin": true,
           "gridcolor": "white",
           "linecolor": "white",
           "ticks": "",
           "title": {
            "standoff": 15
           },
           "zerolinecolor": "white",
           "zerolinewidth": 2
          }
         }
        },
        "title": {
         "text": "KMeans Clustering of References l2"
        },
        "xaxis": {
         "anchor": "y",
         "domain": [
          0,
          1
         ],
         "title": {
          "text": "Component 1"
         }
        },
        "yaxis": {
         "anchor": "x",
         "domain": [
          0,
          1
         ],
         "title": {
          "text": "Component 2"
         }
        }
       }
      }
     },
     "metadata": {},
     "output_type": "display_data"
    }
   ],
   "source": [
    "import plotly.express as px\n",
    "import pandas as pd\n",
    "from sklearn.cluster import KMeans\n",
    "\n",
    "# Assuming l1_pca is your PCA-transformed data in pandas DataFrame format\n",
    "data_to_cluster = new_l2_pca\n",
    "\n",
    "# Convert the DataFrame to a numpy array for KMeans fitting\n",
    "data_to_cluster_np = data_to_cluster.values\n",
    "\n",
    "# Fit the KMeans model\n",
    "kmeans = KMeans(n_clusters=4, n_init= 10, random_state= 40)\n",
    "kmeans.fit(data_to_cluster_np)\n",
    "\n",
    "# Get the cluster labels\n",
    "labels = kmeans.labels_\n",
    "\n",
    "# Create a DataFrame for plotting with plotly\n",
    "df_plot = pd.DataFrame(data_to_cluster_np, columns=['Component 1', 'Component 2'])\n",
    "df_plot['Cluster'] = labels\n",
    "df_plot['Point Name'] = data_to_cluster.index  # This assumes the original DataFrame has meaningful row labels\n",
    "\n",
    "# Create an interactive scatter plot\n",
    "fig = px.scatter(df_plot, x='Component 1', y='Component 2', color='Cluster', \n",
    "                 hover_data=['Point Name'], \n",
    "                 title='KMeans Clustering of References l2')\n",
    "\n",
    "# Display the plot\n",
    "fig.show()"
   ]
  },
  {
   "cell_type": "code",
   "execution_count": null,
   "metadata": {},
   "outputs": [],
   "source": []
  },
  {
   "cell_type": "code",
   "execution_count": null,
   "metadata": {},
   "outputs": [],
   "source": []
  },
  {
   "cell_type": "code",
   "execution_count": null,
   "metadata": {},
   "outputs": [],
   "source": []
  },
  {
   "cell_type": "code",
   "execution_count": null,
   "metadata": {},
   "outputs": [],
   "source": []
  }
 ],
 "metadata": {
  "kernelspec": {
   "display_name": "Python 3",
   "language": "python",
   "name": "python3"
  },
  "language_info": {
   "codemirror_mode": {
    "name": "ipython",
    "version": 3
   },
   "file_extension": ".py",
   "mimetype": "text/x-python",
   "name": "python",
   "nbconvert_exporter": "python",
   "pygments_lexer": "ipython3",
   "version": "3.11.5"
  },
  "orig_nbformat": 4
 },
 "nbformat": 4,
 "nbformat_minor": 2
}
